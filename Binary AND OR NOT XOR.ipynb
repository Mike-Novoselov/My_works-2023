{
 "cells": [
  {
   "cell_type": "code",
   "execution_count": 3,
   "id": "initial_id",
   "metadata": {
    "collapsed": true,
    "ExecuteTime": {
     "end_time": "2023-11-06T07:21:17.594952600Z",
     "start_time": "2023-11-06T07:21:17.575936300Z"
    }
   },
   "outputs": [
    {
     "name": "stdout",
     "output_type": "stream",
     "text": [
      "True\n"
     ]
    }
   ],
   "source": [
    "print(500 == 5e2)"
   ]
  },
  {
   "cell_type": "code",
   "execution_count": 4,
   "outputs": [
    {
     "name": "stdout",
     "output_type": "stream",
     "text": [
      "True\n"
     ]
    }
   ],
   "source": [
    "print(0.01 == 1e-2)"
   ],
   "metadata": {
    "collapsed": false,
    "ExecuteTime": {
     "end_time": "2023-11-06T07:21:35.881030100Z",
     "start_time": "2023-11-06T07:21:35.842995300Z"
    }
   },
   "id": "66d7535d27e86c85"
  },
  {
   "cell_type": "code",
   "execution_count": 7,
   "outputs": [
    {
     "name": "stdout",
     "output_type": "stream",
     "text": [
      "6.019999999999999e+23\n"
     ]
    }
   ],
   "source": [
    "print(6.02 * 10**23 )"
   ],
   "metadata": {
    "collapsed": false,
    "ExecuteTime": {
     "end_time": "2023-11-06T07:22:24.354852900Z",
     "start_time": "2023-11-06T07:22:24.322823500Z"
    }
   },
   "id": "6816ecccd6e586b5"
  },
  {
   "cell_type": "code",
   "execution_count": 8,
   "outputs": [
    {
     "name": "stdout",
     "output_type": "stream",
     "text": [
      "6.02e+23\n"
     ]
    }
   ],
   "source": [
    "print( 6.02e23)"
   ],
   "metadata": {
    "collapsed": false,
    "ExecuteTime": {
     "end_time": "2023-11-06T07:22:38.682303300Z",
     "start_time": "2023-11-06T07:22:38.664287200Z"
    }
   },
   "id": "62a9ecfea03dbe13"
  },
  {
   "cell_type": "code",
   "execution_count": 10,
   "outputs": [
    {
     "name": "stdout",
     "output_type": "stream",
     "text": [
      "1\n",
      "13\n",
      "141\n",
      "-15\n"
     ]
    }
   ],
   "source": [
    "a = 0b001\n",
    "b = 0b1101\n",
    "c = 0b10001101\n",
    "d = -0b1111\n",
    "print(a, b, c, d, sep=\"\\n\")"
   ],
   "metadata": {
    "collapsed": false,
    "ExecuteTime": {
     "end_time": "2023-11-06T07:23:26.662914800Z",
     "start_time": "2023-11-06T07:23:26.636163400Z"
    }
   },
   "id": "21f71f16d000dd9f"
  },
  {
   "cell_type": "code",
   "execution_count": 12,
   "outputs": [
    {
     "name": "stdout",
     "output_type": "stream",
     "text": [
      "26\n",
      "222\n",
      "43583\n",
      "-834\n"
     ]
    }
   ],
   "source": [
    "a = 0x1A\n",
    "b = 0xde\n",
    "c = 0xaa3f\n",
    "d = -0x342\n",
    "print(a, b, c, d, sep=\"\\n\")"
   ],
   "metadata": {
    "collapsed": false,
    "ExecuteTime": {
     "end_time": "2023-11-06T07:24:48.196460300Z",
     "start_time": "2023-11-06T07:24:48.177442700Z"
    }
   },
   "id": "8c517eaf6c7c5932"
  },
  {
   "cell_type": "code",
   "execution_count": 13,
   "outputs": [
    {
     "name": "stdout",
     "output_type": "stream",
     "text": [
      "23\n",
      "44\n",
      "-509\n"
     ]
    }
   ],
   "source": [
    "a = 0o27\n",
    "b = 0o54\n",
    "c = -0o775\n",
    "print(a, b, c, sep=\"\\n\")"
   ],
   "metadata": {
    "collapsed": false,
    "ExecuteTime": {
     "end_time": "2023-11-06T07:25:02.603245900Z",
     "start_time": "2023-11-06T07:25:02.577222200Z"
    }
   },
   "id": "e849664e4e990fb1"
  },
  {
   "cell_type": "code",
   "execution_count": 16,
   "outputs": [
    {
     "name": "stdout",
     "output_type": "stream",
     "text": [
      "121\n",
      "0b1111001\n",
      "-122\n"
     ]
    }
   ],
   "source": [
    "a = 121\n",
    "bin_a = bin(a)\n",
    "print(a, bin_a, ~a, sep=\"\\n\")"
   ],
   "metadata": {
    "collapsed": false,
    "ExecuteTime": {
     "end_time": "2023-11-06T07:28:12.158582200Z",
     "start_time": "2023-11-06T07:28:12.148067100Z"
    }
   },
   "id": "f455325fbb1a9a5e"
  },
  {
   "cell_type": "code",
   "execution_count": 15,
   "outputs": [
    {
     "name": "stdout",
     "output_type": "stream",
     "text": [
      "-122\n"
     ]
    }
   ],
   "source": [
    "print(~a)"
   ],
   "metadata": {
    "collapsed": false,
    "ExecuteTime": {
     "end_time": "2023-11-06T07:27:47.536269800Z",
     "start_time": "2023-11-06T07:27:47.505475300Z"
    }
   },
   "id": "d7efa39aa7633f16"
  },
  {
   "cell_type": "code",
   "execution_count": 17,
   "outputs": [
    {
     "name": "stdout",
     "output_type": "stream",
     "text": [
      "-1\n",
      "-11\n",
      "9\n"
     ]
    }
   ],
   "source": [
    "# операции НЕ\n",
    "d = 0\n",
    "print(~d)\n",
    "\n",
    "d = 10\n",
    "print(~d)\n",
    "\n",
    "d = -10\n",
    "print(~d)"
   ],
   "metadata": {
    "collapsed": false,
    "ExecuteTime": {
     "end_time": "2023-11-06T07:29:51.297216900Z",
     "start_time": "2023-11-06T07:29:51.274372Z"
    }
   },
   "id": "6450f0de6c86efe4"
  },
  {
   "cell_type": "code",
   "execution_count": 19,
   "outputs": [
    {
     "name": "stdout",
     "output_type": "stream",
     "text": [
      "0\n",
      "0\n",
      "4\n"
     ]
    }
   ],
   "source": [
    "# операции И\n",
    "\n",
    "#         ^\n",
    "# x1  x2  И\n",
    "# 0   0   0\n",
    "# 0   1   0\n",
    "# 1   0   0\n",
    "# 1   1   1\n",
    "\n",
    "\n",
    "flags = 5 # 00000101\n",
    "mask = 4 # 00000100\n",
    "res = (flags & mask) #\n",
    "print(res)"
   ],
   "metadata": {
    "collapsed": false,
    "ExecuteTime": {
     "end_time": "2023-11-06T07:33:15.794692300Z",
     "start_time": "2023-11-06T07:33:15.778677700Z"
    }
   },
   "id": "689e712e8110c9b"
  },
  {
   "cell_type": "code",
   "execution_count": 20,
   "outputs": [
    {
     "name": "stdout",
     "output_type": "stream",
     "text": [
      "Включен 2-й бит числа\n"
     ]
    }
   ],
   "source": [
    "flags = 5\n",
    "mask = 4 \n",
    "if flags & mask == mask:\n",
    "    print(\"Включен 2-й бит числа\")\n",
    "else:\n",
    "    print(\"2-й бит числа выключен\")"
   ],
   "metadata": {
    "collapsed": false,
    "ExecuteTime": {
     "end_time": "2023-11-06T07:40:05.785019100Z",
     "start_time": "2023-11-06T07:40:05.742980400Z"
    }
   },
   "id": "7f1fa555c2d9e266"
  },
  {
   "cell_type": "code",
   "execution_count": 21,
   "outputs": [
    {
     "name": "stdout",
     "output_type": "stream",
     "text": [
      "2-й бит числа выключен\n"
     ]
    }
   ],
   "source": [
    "flags = 1\n",
    "mask = 4 \n",
    "if flags & mask == mask:\n",
    "    print(\"Включен 2-й бит числа\")\n",
    "else:\n",
    "    print(\"2-й бит числа выключен\")"
   ],
   "metadata": {
    "collapsed": false,
    "ExecuteTime": {
     "end_time": "2023-11-06T07:40:13.105559Z",
     "start_time": "2023-11-06T07:40:13.086541700Z"
    }
   },
   "id": "7f5fe7da20e5f2af"
  },
  {
   "cell_type": "code",
   "execution_count": 27,
   "outputs": [
    {
     "name": "stdout",
     "output_type": "stream",
     "text": [
      "8\n"
     ]
    }
   ],
   "source": [
    "\"\"\"\n",
    "Этот код выполняет битовую операцию AND между числом flags и инвертированным числом mask.\n",
    "\n",
    "Вот что происходит:\n",
    "\n",
    "flags и mask задаются как 13 и 5 соответственно. В двоичном формате они выглядят как 00001101 и 00000101.\n",
    "\n",
    "~mask инвертирует биты mask, превращая 00000101 в 11111010.\n",
    "\n",
    "Затем flags и ~mask объединяются с помощью битовой операции AND. Это означает, что каждый бит в результирующем числе будет установлен в 1, \n",
    "только если соответствующие биты в flags и ~mask оба равны 1. В противном случае бит будет установлен в 0.\n",
    "\n",
    "Результат сохраняется обратно в flags и выводится с помощью print.\n",
    "\n",
    "В итоге, этот код \"сбрасывает\" биты в flags, которые соответствуют установленным битам в mask. В данном случае, после выполнения кода, \n",
    "flags будет равно 8 (или 00001000 в двоичном формате), потому что биты 2 и 0 в исходном flags были сброшены\n",
    "\"\"\"\n",
    "\n",
    "flags = 13  # 00001101\n",
    "mask = 5    # 00000101\n",
    "flags = flags & ~mask\n",
    "print(flags)"
   ],
   "metadata": {
    "collapsed": false,
    "ExecuteTime": {
     "end_time": "2023-11-06T07:46:58.576860600Z",
     "start_time": "2023-11-06T07:46:58.555841800Z"
    }
   },
   "id": "e4a07f73ac845643"
  },
  {
   "cell_type": "code",
   "execution_count": 28,
   "outputs": [
    {
     "name": "stdout",
     "output_type": "stream",
     "text": [
      "13\n"
     ]
    }
   ],
   "source": [
    "# операции ИЛИ\n",
    "\n",
    "#         ^\n",
    "# x1  x2  И\n",
    "# 0   0   0\n",
    "# 0   1   1\n",
    "# 1   0   1\n",
    "# 1   1   1\n",
    "\n",
    "\"\"\"\n",
    "Этот код выполняет операцию \"ИЛИ\" (OR) над двумя числами: 8 и 5.\n",
    "\n",
    "В двоичной системе числа выглядят так: 8 - это 00001000, а 5 - это 00000101.\n",
    "\n",
    "Операция \"ИЛИ\" сравнивает каждый бит (единицу информации) этих двух чисел. Если хотя бы в одном числе бит равен 1, то в результате этот бит также будет равен 1.\n",
    "\n",
    "В данном случае результатом будет число 13, которое в двоичной системе выглядит как 00001101.\n",
    "\n",
    "То есть, код выполняет битовую операцию \"ИЛИ\" над числами 8 и 5 и выводит результат (13) на экран\n",
    "\"\"\"\n",
    "\n",
    "flags = 8   # 00001000\n",
    "mask = 5    # 00000101\n",
    "res = (flags | mask) # 00001101 (число 13)\n",
    "print(res)\n",
    "\n"
   ],
   "metadata": {
    "collapsed": false,
    "ExecuteTime": {
     "end_time": "2023-11-06T07:48:32.648394200Z",
     "start_time": "2023-11-06T07:48:32.623368900Z"
    }
   },
   "id": "4c82b282029cc8fa"
  },
  {
   "cell_type": "code",
   "execution_count": 29,
   "outputs": [
    {
     "name": "stdout",
     "output_type": "stream",
     "text": [
      "8\n"
     ]
    }
   ],
   "source": [
    "# операции XOR\n",
    "\n",
    "#         ^\n",
    "# x1  x2  И\n",
    "# 0   0   0\n",
    "# 0   1   1\n",
    "# 1   0   1\n",
    "# 1   1   0\n",
    "\n",
    "\"\"\"\n",
    "Этот код выполняет операцию XOR (исключающее ИЛИ) над двумя числами: flags и mask.\n",
    "\n",
    "В двоичном формате число 9 представляется как 00001001, а число 1 - как 00000001.\n",
    "\n",
    "Операция XOR сравнивает каждый бит чисел. Если биты одинаковы (оба 0 или оба 1), то результат 0. Если биты разные (один 0, другой 1), то результат 1.\n",
    "\n",
    "В данном случае последний бит числа flags (1) и последний бит числа mask (тоже 1) одинаковы, поэтому в результате XOR получается 0. \n",
    "Остальные биты числа flags остаются без изменений, так как в числе mask они сравниваются с 0.\n",
    "\n",
    "Таким образом, результатом операции XOR является число 8, которое в двоичном формате выглядит как 00001000. \n",
    "Это число и выводится на печать в последней строке кода.\n",
    "\n",
    "\n",
    "\"\"\"\n",
    "\n",
    "flags = 9   # 00001001\n",
    "mask = 1    # 00000001\n",
    "res = (flags ^ mask) #  (число 8)\n",
    "print(res)"
   ],
   "metadata": {
    "collapsed": false,
    "ExecuteTime": {
     "end_time": "2023-11-06T07:58:29.785103200Z",
     "start_time": "2023-11-06T07:58:29.756550900Z"
    }
   },
   "id": "c1903b9aaa963371"
  },
  {
   "cell_type": "code",
   "execution_count": 30,
   "outputs": [
    {
     "name": "stdout",
     "output_type": "stream",
     "text": [
      "8\n"
     ]
    }
   ],
   "source": [
    "flags = 9   # 00001001\n",
    "mask = 1    # 00000001\n",
    "res = (flags ^ mask) #  (число 8)\n",
    "res = (flags ^ mask)\n",
    "print(res)"
   ],
   "metadata": {
    "collapsed": false,
    "ExecuteTime": {
     "end_time": "2023-11-06T08:00:19.032152200Z",
     "start_time": "2023-11-06T08:00:18.988610300Z"
    }
   },
   "id": "2c1db8fa4ea0e14b"
  },
  {
   "cell_type": "code",
   "execution_count": null,
   "outputs": [],
   "source": [
    "\"\"\"\n",
    "Полная форма    Краткая форма   Приоритет\n",
    "a = a & b       a &= b          2(И)\n",
    "a = a | b       a |= b          1(ИЛИ)\n",
    "a = a ^ b       a ^= b          1(XOR)\n",
    "~a                              3(НЕ)\n",
    "\"\"\"\n",
    "\n"
   ],
   "metadata": {
    "collapsed": false
   },
   "id": "2b8d5174aaf9b91e"
  },
  {
   "cell_type": "code",
   "execution_count": 37,
   "outputs": [
    {
     "name": "stdout",
     "output_type": "stream",
     "text": [
      "0b10100000\n",
      "160\n",
      "0b1010000\n",
      "80\n",
      "0b10100\n",
      "20\n"
     ]
    }
   ],
   "source": [
    "\"\"\"\n",
    "Операторы смещения бит\n",
    "\n",
    ">> смещение бит вправо\n",
    "\n",
    "<<  смещение бит влево\n",
    "\"\"\"\n",
    "\n",
    "\"\"\"\n",
    "Этот код выполняет следующие действия:\n",
    "\n",
    "Присваивает переменной x значение 160.\n",
    "Выводит на экран двоичное представление числа 160, используя функцию bin().\n",
    "Выводит на экран значение переменной x, которое равно 160.\n",
    "Выполняет битовый сдвиг вправо на одну позицию для числа 160. Это эквивалентно делению числа на 2. Результат (80) присваивается переменной x.\n",
    "Выводит на экран двоичное представление числа 80.\n",
    "Выводит на экран значение переменной x, которое теперь равно 80.\n",
    "Выполняет битовый сдвиг вправо на две позиции для числа 80. Это эквивалентно делению числа на 4. Результат (20) присваивается переменной x.\n",
    "Выводит на экран двоичное представление числа 20.\n",
    "Выводит на экран значение переменной x, которое теперь равно 20.\n",
    "\"\"\"\n",
    "x = 160\n",
    "print(bin(x))\n",
    "print(x)\n",
    "x = x >> 1 # Выполняет битовый сдвиг вправо на одну позицию для числа 160. Это эквивалентно делению числа на 2. Результат (80) присваивается переменной x\n",
    "\n",
    "print(bin(x))\n",
    "print(x)\n",
    "\n",
    "x = x >> 2 # Выполняет битовый сдвиг вправо на две позиции для числа 80. Это эквивалентно делению числа на 4. Результат (20) присваивается переменной x.\n",
    "print(bin(x))\n",
    "print(x)\n"
   ],
   "metadata": {
    "collapsed": false,
    "ExecuteTime": {
     "end_time": "2023-11-06T08:05:34.345760300Z",
     "start_time": "2023-11-06T08:05:34.330746100Z"
    }
   },
   "id": "474d289010ae30b8"
  },
  {
   "cell_type": "code",
   "execution_count": 38,
   "outputs": [
    {
     "name": "stdout",
     "output_type": "stream",
     "text": [
      "0b10100\n",
      "20\n",
      "0b101000\n",
      "40\n",
      "0b1010000\n",
      "80\n"
     ]
    }
   ],
   "source": [
    "print(bin(x))\n",
    "print(x)\n",
    "x = x << 1\n",
    "\n",
    "print(bin(x))\n",
    "print(x)\n",
    "\n",
    "x = x << 1\n",
    "print(bin(x))\n",
    "print(x)"
   ],
   "metadata": {
    "collapsed": false,
    "ExecuteTime": {
     "end_time": "2023-11-06T08:06:19.864619600Z",
     "start_time": "2023-11-06T08:06:19.839596800Z"
    }
   },
   "id": "a26c6e2b2194a9f6"
  },
  {
   "cell_type": "code",
   "execution_count": null,
   "outputs": [],
   "source": [
    "\"\"\"\n",
    "Шпаргалка:\n",
    "\n",
    "Проверка на включенность (1): if flags & mask == mask: # Бит включен (1)\n",
    "\n",
    "Выключение бита: flags & ~mask\n",
    "\n",
    "Включение бита: flags | mask\n",
    "\n",
    "Переключение бита: flags ^ mask\n",
    "\n",
    "Инверсия бит: ~number == -number - 1\n",
    "\n",
    "Смещение бит вправо: number >> 1 == number // (2 ** 1)\n",
    "\n",
    "Смещение бит влево: number << 1 == number * (2 ** 1)\n",
    "\"\"\""
   ],
   "metadata": {
    "collapsed": false
   },
   "id": "2a69ed545a82f6bd"
  },
  {
   "cell_type": "code",
   "execution_count": 55,
   "outputs": [
    {
     "name": "stdout",
     "output_type": "stream",
     "text": [
      "108\n"
     ]
    }
   ],
   "source": [
    "\"\"\"\n",
    "Подвиг 2. На вход программы подается целое десятичное число. Используя битовые операции, включите третий бит введенного числа. Выведите на экран полученное числовое значение.\n",
    "P. S. Распределение номеров бит представлено на следующем рисунке.\n",
    "Sample Input:\n",
    "100\n",
    "Sample Output:\n",
    "108\n",
    "\"\"\"\n",
    "\n",
    "n = int(input())\n",
    "n = n | (1<<3)\n",
    "print(n)"
   ],
   "metadata": {
    "collapsed": false,
    "ExecuteTime": {
     "end_time": "2023-11-06T08:28:45.982751700Z",
     "start_time": "2023-11-06T08:28:44.895367200Z"
    }
   },
   "id": "9b2d8cad4075959d"
  },
  {
   "cell_type": "code",
   "execution_count": 56,
   "outputs": [
    {
     "name": "stdout",
     "output_type": "stream",
     "text": [
      "Результат: 137\n"
     ]
    }
   ],
   "source": [
    "\"\"\"\n",
    "На вход программы подается целое десятичное число. Используя битовые операции, выключите 4-й и 1-й биты введенного числа. Выведите на экран полученное числовое значение.\n",
    "Sample Input:\n",
    "153\n",
    "Sample Output:\n",
    "137\n",
    "\"\"\"\n",
    "\n",
    "num = int(input(\"Введите целое десятичное число: \"))\n",
    "\n",
    "# Выключаем 4-й и 1-й биты с помощью побитового И с числами, у которых только эти биты равны 0\n",
    "result = num & ~(1 << 4) & ~(1 << 1)\n",
    "\n",
    "print(\"Результат:\", result)"
   ],
   "metadata": {
    "collapsed": false,
    "ExecuteTime": {
     "end_time": "2023-11-06T08:30:26.113714400Z",
     "start_time": "2023-11-06T08:30:23.764077600Z"
    }
   },
   "id": "c864c2a42df46a79"
  },
  {
   "cell_type": "code",
   "execution_count": 11,
   "outputs": [
    {
     "name": "stdout",
     "output_type": "stream",
     "text": [
      "0b111010\n",
      "51\n"
     ]
    }
   ],
   "source": [
    "\"\"\"\n",
    "Подвиг 4. На вход программы подается целое десятичное число. Используя битовые операции, переключите 3-й и 0-й биты введенного числа. Выведите на экран полученное числовое значение.\n",
    "\n",
    "Sample Input:\n",
    "58\n",
    "Sample Output:\n",
    "51\n",
    "\"\"\"\n",
    "\n",
    "# put your python code here\n",
    "a = int(input())\n",
    "print(bin(a))\n",
    "a ^= 0b001001\n",
    "print(a)\n"
   ],
   "metadata": {
    "collapsed": false,
    "ExecuteTime": {
     "end_time": "2023-11-07T02:02:45.343724300Z",
     "start_time": "2023-11-07T02:02:43.839948Z"
    }
   },
   "id": "31bffcf56fe9482b"
  },
  {
   "cell_type": "code",
   "execution_count": 16,
   "outputs": [
    {
     "name": "stdout",
     "output_type": "stream",
     "text": [
      "160\n"
     ]
    }
   ],
   "source": [
    "\"\"\"\n",
    "Подвиг 5. На вход программы подается целое десятичное число. Используя битовые операции, выполните умножение введенного числа на 4. Результат отобразите на экране.\n",
    "\n",
    "Sample Input:\n",
    "40\n",
    "Sample Output:\n",
    "160\n",
    "\"\"\"\n",
    "\n",
    "n = 40\n",
    "n = n << 2\n",
    "print(n)"
   ],
   "metadata": {
    "collapsed": false,
    "ExecuteTime": {
     "end_time": "2023-11-07T02:04:21.492451700Z",
     "start_time": "2023-11-07T02:04:21.454416900Z"
    }
   },
   "id": "3a58567ad407e4cb"
  },
  {
   "cell_type": "code",
   "execution_count": 18,
   "outputs": [
    {
     "name": "stdout",
     "output_type": "stream",
     "text": [
      "11\n"
     ]
    }
   ],
   "source": [
    "\"\"\"\n",
    "На вход программы подается целое десятичное число. Используя битовые операции, выполните целочисленное деление введенного числа на 2. Результат отобразите на экране.\n",
    "\n",
    "Sample Input:\n",
    "22\n",
    "Sample Output:\n",
    "11\n",
    "\"\"\"\n",
    "\n",
    "n = 22\n",
    "n = n >> 1\n",
    "print(n)"
   ],
   "metadata": {
    "collapsed": false,
    "ExecuteTime": {
     "end_time": "2023-11-07T02:05:08.852681500Z",
     "start_time": "2023-11-07T02:05:08.828895500Z"
    }
   },
   "id": "330a04056f8b2bf7"
  },
  {
   "cell_type": "code",
   "execution_count": 19,
   "outputs": [
    {
     "name": "stdout",
     "output_type": "stream",
     "text": [
      "Все верно!\n"
     ]
    }
   ],
   "source": [
    "\"\"\"\n",
    "Вводится зашифрованное слово. Шифрование кодов символов этого слова было проведено с помощью битовой операции XOR с ключом key=123. То есть, каждый символ был преобразован по алгоритму:\n",
    "\n",
    "x = ord(x) ^ key\n",
    "\n",
    "Здесь ord - функция, возвращающая код символа x. Расшифруйте введенное слово и выведите его на экран.\n",
    "\n",
    "P. S. Подсказка: для преобразования кода в символ используйте функцию chr.\n",
    "\n",
    "Sample Input:\n",
    "ѩкю[щюлцхZ\n",
    "Sample Output:\n",
    "Все верно!\n",
    "\"\"\"\n",
    "\n",
    "encrypted_word = input()\n",
    "key = 123\n",
    "\n",
    "decrypted_word = \"\"\n",
    "for c in encrypted_word:\n",
    "    decrypted_word += chr(ord(c) ^ key)\n",
    "\n",
    "print(decrypted_word)\n"
   ],
   "metadata": {
    "collapsed": false,
    "ExecuteTime": {
     "end_time": "2023-11-07T02:06:33.533320Z",
     "start_time": "2023-11-07T02:06:33.489696200Z"
    }
   },
   "id": "9d68165979e8324f"
  },
  {
   "cell_type": "code",
   "execution_count": 20,
   "outputs": [
    {
     "name": "stdout",
     "output_type": "stream",
     "text": [
      "Все верно!\n"
     ]
    }
   ],
   "source": [
    "s = input()\n",
    "key = 123\n",
    "ans = [chr(ord(x)^key) for x in s]\n",
    "print(''.join(ans))"
   ],
   "metadata": {
    "collapsed": false,
    "ExecuteTime": {
     "end_time": "2023-11-07T02:08:45.109069800Z",
     "start_time": "2023-11-07T02:08:44.129282700Z"
    }
   },
   "id": "82d3b61ca3b73a74"
  },
  {
   "cell_type": "code",
   "execution_count": 39,
   "outputs": [
    {
     "name": "stdout",
     "output_type": "stream",
     "text": [
      "ДА\n"
     ]
    }
   ],
   "source": [
    "\"\"\"\n",
    "На вход программы подается целое десятичное число. Используя битовые операции, проверьте, включен ли 6-й и 3-й биты введенного числа. Если они оба включены, то выведите слово ДА, иначе - слово НЕТ.\n",
    "P. S. Распределение номеров бит представлено на следующем рисунке.\n",
    "\n",
    "Sample Input:\n",
    "106\n",
    "Sample Output:\n",
    "ДА\n",
    "\n",
    "Шпаргалка:\n",
    "Проверка на включенность (1): if flags & mask == mask: # Бит включен (1)\n",
    "Выключение бита: flags & ~mask\n",
    "Включение бита: flags | mask\n",
    "Переключение бита: flags ^ mask\n",
    "Инверсия бит: ~number == -number - 1\n",
    "Смещение бит вправо: number >> 1 == number // (2 ** 1)\n",
    "Смещение бит влево: number << 1 == number * (2 ** 1)\n",
    "\n",
    "\"\"\"\n",
    "\n",
    "def check_bits(n):\n",
    "    # Проверяем 6-й и 3-й биты\n",
    "    if n & (n << 5) and n & (n << 2):\n",
    "        return 'ДА'\n",
    "    else:\n",
    "        return 'НЕТ'\n",
    "\n",
    "\n",
    "# n = int(input())\n",
    "n = 106\n",
    "print(check_bits(n))"
   ],
   "metadata": {
    "collapsed": false,
    "ExecuteTime": {
     "end_time": "2023-11-07T02:23:21.030909600Z",
     "start_time": "2023-11-07T02:23:21.006887700Z"
    }
   },
   "id": "ca010913cf417f34"
  },
  {
   "cell_type": "code",
   "execution_count": 50,
   "outputs": [
    {
     "name": "stdout",
     "output_type": "stream",
     "text": [
      "ДА\n",
      "0\n",
      "2\n"
     ]
    }
   ],
   "source": [
    "\"\"\"\n",
    "На вход программы подается целое десятичное число. Используя битовые операции, проверьте, включен ли 5-й или 1-й биты введенного числа. Если включен хотя бы один из этих битов, то выведите слово ДА, иначе - слово НЕТ.\n",
    "\n",
    "Sample Input:\n",
    "74\n",
    "Sample Output:\n",
    "ДА\n",
    "\"\"\"\n",
    "def check_bits(n):\n",
    "    # Проверяем 5-й и 1-й биты\n",
    "    if n & (1 << 5) or n & (1 << 1):\n",
    "        return 'ДА'\n",
    "    else:\n",
    "        return 'НЕТ'\n",
    "\n",
    "\n",
    "# n = int(input())\n",
    "\n",
    "n = 74\n",
    "print(check_bits(n))\n",
    "print(n & (1 << 5))\n",
    "print(n & (1 << 1))"
   ],
   "metadata": {
    "collapsed": false,
    "ExecuteTime": {
     "end_time": "2023-11-07T02:31:48.357637Z",
     "start_time": "2023-11-07T02:31:48.307591200Z"
    }
   },
   "id": "b81da311bae6264d"
  },
  {
   "cell_type": "code",
   "execution_count": null,
   "outputs": [],
   "source": [],
   "metadata": {
    "collapsed": false
   },
   "id": "2749c48fc191f3cc"
  },
  {
   "cell_type": "code",
   "execution_count": 1,
   "outputs": [
    {
     "name": "stdout",
     "output_type": "stream",
     "text": [
      "[{'age': 10}, {'age': 30}, {'age': 32}, {'age': 34}]\n"
     ]
    }
   ],
   "source": [
    "\"\"\"отсортировать лист диктов по ключю age\"\"\"\n",
    "ages = [{\"age\": 30}, {\"age\": 10}, {\"age\": 34}, {\"age\": 32}]\n",
    "\n",
    "# ages[0][\"age\"] \n",
    "ages.sort(key=lambda x: x['age'])\n",
    "print(ages)"
   ],
   "metadata": {
    "collapsed": false,
    "ExecuteTime": {
     "end_time": "2023-11-07T01:49:43.946113600Z",
     "start_time": "2023-11-07T01:49:43.935104200Z"
    }
   },
   "id": "521ec1e15d9b9e47"
  },
  {
   "cell_type": "code",
   "execution_count": 3,
   "outputs": [
    {
     "name": "stdout",
     "output_type": "stream",
     "text": [
      "False\n",
      "True\n"
     ]
    }
   ],
   "source": [
    "a = 123456\n",
    "b = 123456\n",
    "print(a is b)\n",
    "\n",
    "a = 100\n",
    "b = 100\n",
    "print(a is b)"
   ],
   "metadata": {
    "collapsed": false,
    "ExecuteTime": {
     "end_time": "2023-11-07T01:50:27.254828700Z",
     "start_time": "2023-11-07T01:50:27.226256600Z"
    }
   },
   "id": "cdb97ca30f732aee"
  },
  {
   "cell_type": "code",
   "execution_count": null,
   "outputs": [],
   "source": [],
   "metadata": {
    "collapsed": false
   },
   "id": "7490c1f3f492fa6c"
  }
 ],
 "metadata": {
  "kernelspec": {
   "display_name": "Python 3",
   "language": "python",
   "name": "python3"
  },
  "language_info": {
   "codemirror_mode": {
    "name": "ipython",
    "version": 2
   },
   "file_extension": ".py",
   "mimetype": "text/x-python",
   "name": "python",
   "nbconvert_exporter": "python",
   "pygments_lexer": "ipython2",
   "version": "2.7.6"
  }
 },
 "nbformat": 4,
 "nbformat_minor": 5
}
