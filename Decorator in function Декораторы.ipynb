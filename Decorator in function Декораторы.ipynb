{
 "cells": [
  {
   "cell_type": "code",
   "execution_count": 1,
   "id": "initial_id",
   "metadata": {
    "collapsed": true,
    "ExecuteTime": {
     "end_time": "2023-10-10T04:12:13.773776Z",
     "start_time": "2023-10-10T04:12:13.740850Z"
    }
   },
   "outputs": [
    {
     "name": "stdout",
     "output_type": "stream",
     "text": [
      "------ что-то делаем перед вызовом функции ------\n",
      "вызов функции some_func\n",
      "------ что-то делаем после вызовом функции ------\n"
     ]
    }
   ],
   "source": [
    "import math\n",
    "import time\n",
    "\n",
    "\n",
    "def func_decorator(func):\n",
    "    def wrapper():\n",
    "        print(\"------ что-то делаем перед вызовом функции ------\")\n",
    "        func()\n",
    "        print(\"------ что-то делаем после вызовом функции ------\")\n",
    "        \n",
    "    return wrapper\n",
    "\n",
    "\n",
    "def some_func():\n",
    "    print(\"вызов функции some_func\")\n",
    "    \n",
    "some_func= func_decorator(some_func)\n",
    "some_func()"
   ]
  },
  {
   "cell_type": "code",
   "execution_count": 4,
   "outputs": [
    {
     "name": "stdout",
     "output_type": "stream",
     "text": [
      "------ что-то делаем перед вызовом функции ------\n",
      "title = Python навсегда!, tag = h1\n",
      "------ что-то делаем после вызовом функции ------\n"
     ]
    }
   ],
   "source": [
    "def func_decorator(func):\n",
    "    def wrapper(*args, **kwargs):\n",
    "        print(\"------ что-то делаем перед вызовом функции ------\")\n",
    "        func(*args, **kwargs)\n",
    "        print(\"------ что-то делаем после вызовом функции ------\")\n",
    "        \n",
    "    return wrapper\n",
    "\n",
    "\n",
    "def some_func(title, tag):\n",
    "    print(f\"title = {title}, tag = {tag}\")\n",
    "    \n",
    "some_func= func_decorator(some_func)\n",
    "some_func(\"Python навсегда!\", \"h1\")"
   ],
   "metadata": {
    "collapsed": false,
    "ExecuteTime": {
     "end_time": "2023-10-10T03:01:08.957125Z",
     "start_time": "2023-10-10T03:01:08.925095900Z"
    }
   },
   "id": "d303dae197d73ac"
  },
  {
   "cell_type": "code",
   "execution_count": 10,
   "outputs": [
    {
     "name": "stdout",
     "output_type": "stream",
     "text": [
      "------ что-то делаем перед вызовом функции ------\n",
      "title = Python навсегда!, tag = h1\n",
      "------ что-то делаем после вызовом функции ------\n",
      "<h1>Python навсегда!</h1>\n"
     ]
    }
   ],
   "source": [
    "def func_decorator(func):\n",
    "    def wrapper(*args, **kwargs):\n",
    "        print(\"------ что-то делаем перед вызовом функции ------\")\n",
    "        res = func(*args, **kwargs)\n",
    "        print(\"------ что-то делаем после вызовом функции ------\")\n",
    "        return res\n",
    "        \n",
    "    return wrapper\n",
    "\n",
    "\n",
    "def some_func(title, tag):\n",
    "    print(f\"title = {title}, tag = {tag}\")\n",
    "    return f\"<{tag}>{title}</{tag}>\"\n",
    "    \n",
    "some_func= func_decorator(some_func)\n",
    "res = some_func(\"Python навсегда!\", \"h1\")\n",
    "print(res)"
   ],
   "metadata": {
    "collapsed": false,
    "ExecuteTime": {
     "end_time": "2023-10-10T03:04:25.237473800Z",
     "start_time": "2023-10-10T03:04:25.216454400Z"
    }
   },
   "id": "40b5286b3238a038"
  },
  {
   "cell_type": "code",
   "execution_count": null,
   "outputs": [],
   "source": [
    "\"\"\"\n",
    "декоратор замеряет сколько выполняется функция\n",
    "\"\"\""
   ],
   "metadata": {
    "collapsed": false
   },
   "id": "6b09450ac4ea77a5"
  },
  {
   "cell_type": "code",
   "execution_count": 37,
   "outputs": [
    {
     "name": "stdout",
     "output_type": "stream",
     "text": [
      "Время работы: 0.16414928436279297 сек\n",
      "Время работы: 0.0 сек\n",
      "2 2\n"
     ]
    }
   ],
   "source": [
    "import time\n",
    "\n",
    "def test_time(func):\n",
    "    def wrapper(*args, **kwargs):\n",
    "        st = time.time()\n",
    "        res = func(*args, **kwargs)\n",
    "        et = time.time()\n",
    "        dt = et - st\n",
    "        print(f\"Время работы: {dt} сек\")\n",
    "        return res\n",
    "    \n",
    "    return wrapper\n",
    "\n",
    "#функция эфклида по поиску нод\n",
    "@test_time\n",
    "def get_node(a, b):\n",
    "    while a != b:\n",
    "        if a > b:\n",
    "            a -= b\n",
    "        else:\n",
    "            b -= a\n",
    "    return a\n",
    "\n",
    "#быстрая функция эфклида по поиску нод\n",
    "@test_time\n",
    "def get_fast_node(a, b):\n",
    "    if a < b:\n",
    "        a, b = b, a\n",
    "    while b:\n",
    "        a, b = b, a % b\n",
    "        \n",
    "    return a\n",
    "\n",
    "\n",
    "# get_node = test_time(get_node)\n",
    "# get_fast_node = test_time(get_fast_node)\n",
    "res = get_node(2, 10000000)\n",
    "res_fast = get_fast_node(2, 1000000000000000000000000)\n",
    "print(res, res_fast)"
   ],
   "metadata": {
    "collapsed": false,
    "ExecuteTime": {
     "end_time": "2023-10-10T03:24:56.839784700Z",
     "start_time": "2023-10-10T03:24:56.664625200Z"
    }
   },
   "id": "468217a9988a1434"
  },
  {
   "cell_type": "code",
   "execution_count": null,
   "outputs": [],
   "source": [],
   "metadata": {
    "collapsed": false
   },
   "id": "71e5d0bd9cedbab5"
  },
  {
   "cell_type": "code",
   "execution_count": 59,
   "outputs": [
    {
     "name": "stdout",
     "output_type": "stream",
     "text": [
      "start decorator\n",
      "hello world\n",
      "finish decorator\n"
     ]
    }
   ],
   "source": [
    "def decorator(func):\n",
    "    \n",
    "    def inner():\n",
    "        print(\"start decorator\")\n",
    "        func()\n",
    "        print(\"finish decorator\")\n",
    "        \n",
    "    return inner\n",
    "\n",
    "\n",
    "@decorator # == sey = decorator(sey)\n",
    "def sey():\n",
    "    print(\"hello world\")\n",
    "    \n",
    "\n",
    "sey()\n"
   ],
   "metadata": {
    "collapsed": false,
    "ExecuteTime": {
     "end_time": "2023-10-10T03:42:03.423716700Z",
     "start_time": "2023-10-10T03:42:03.412706800Z"
    }
   },
   "id": "ea022315ae552776"
  },
  {
   "cell_type": "code",
   "execution_count": 60,
   "outputs": [
    {
     "name": "stdout",
     "output_type": "stream",
     "text": [
      "<function decorator.<locals>.inner at 0x000001DC09400EE0>\n"
     ]
    }
   ],
   "source": [
    "print(sey)"
   ],
   "metadata": {
    "collapsed": false,
    "ExecuteTime": {
     "end_time": "2023-10-10T03:42:04.462380500Z",
     "start_time": "2023-10-10T03:42:04.430016900Z"
    }
   },
   "id": "4dd39d53c54a0551"
  },
  {
   "cell_type": "code",
   "execution_count": 13,
   "outputs": [
    {
     "name": "stdout",
     "output_type": "stream",
     "text": [
      "summ started\n",
      "summ finished\n",
      "5\n"
     ]
    }
   ],
   "source": [
    "def decorator(func):  # Сюда передаём функцию которую нужно декорировать\n",
    "    def wrapper(*args, **kwargs):  # Сюда передаём аргументы декорированной функции\n",
    "        print(f'{func.__name__} started')  # декорирующие действия 1\n",
    "        result = func(*args, **kwargs)  # *args -чтобы работать с разным кол-вом аргументов\n",
    "        print(f'{func.__name__} finished')  # декорирующие действия 2\n",
    "        return result  # возвращаем результат\n",
    "\n",
    "    return wrapper  # передаём ссылку на вложенную функцию\n",
    "\n",
    "\n",
    "@decorator  # сахар для вызова декоратора (навешиваем декоратор)\n",
    "def summ(a, b):  # функция которую нужно декорировать в этот момент: summ = wrapper\n",
    "    return a + b\n",
    "\n",
    "\n",
    "print(summ(2, 3))"
   ],
   "metadata": {
    "collapsed": false,
    "ExecuteTime": {
     "end_time": "2023-10-10T04:25:04.927241500Z",
     "start_time": "2023-10-10T04:25:04.907587300Z"
    }
   },
   "id": "c51bd435999bb4d5"
  },
  {
   "cell_type": "code",
   "execution_count": 4,
   "outputs": [
    {
     "name": "stdout",
     "output_type": "stream",
     "text": [
      "Площадь прямоугольника: 88\n"
     ]
    }
   ],
   "source": [
    "# Объявите функцию с именем get_sq, которая вычисляет площадь прямоугольника по двум параметрам: width и height - ширина и высота прямоугольника. И возвращает результат (сама ничего на экран не выводит). То есть, функция имеет сигнатуру:\n",
    "# \n",
    "# def get_sq(width, height): ...\n",
    "# \n",
    "# Определите декоратор func_show для этой функции, который отображает результат на экране в виде строки (без кавычек):\n",
    "# \n",
    "# \"Площадь прямоугольника: <значение>\"\n",
    "# \n",
    "# Вызывать функцию и декоратор не нужно, только объявить. Применять декоратор к функции также не нужно\n",
    "\n",
    "def func_show(func):\n",
    "    def inner(*args, **kwargs):\n",
    "        result = func(*args, **kwargs)\n",
    "        return print(f\"Площадь прямоугольника: {result}\")\n",
    "        \n",
    "    return inner\n",
    "\n",
    "@func_show\n",
    "def get_sq(width, height):\n",
    "    return width*height\n",
    "\n",
    "get_sq(8, 11)"
   ],
   "metadata": {
    "collapsed": false,
    "ExecuteTime": {
     "end_time": "2023-10-10T04:35:43.935178300Z",
     "start_time": "2023-10-10T04:35:43.918162800Z"
    }
   },
   "id": "df18b00b893940c4"
  },
  {
   "cell_type": "code",
   "execution_count": 7,
   "outputs": [
    {
     "name": "stdout",
     "output_type": "stream",
     "text": [
      "1. Главная\n",
      "2. Добавить\n",
      "3. Удалить\n",
      "4. Выйти\n"
     ]
    }
   ],
   "source": [
    "# На вход программы поступает строка с названиями пунктов меню, записанные в одну строчку через пробел. Необходимо задать функцию с именем get_menu, которая преобразует эту строку в список из слов и возвращает этот список. Сигнатура функции, следующая:\n",
    "# \n",
    "# def get_menu(s): ...\n",
    "# \n",
    "# Определите декоратор для этой функции с именем show_menu, который отображает список на экран в формате:\n",
    "# 1. Пункт_1\n",
    "# 2. Пункт_1\n",
    "# ...\n",
    "# N. Пункт_N\n",
    "# \n",
    "# Примените декоратор show_menu к функции get_menu, используя оператор @. Более ничего в программе делать не нужно. Сами функции не вызывать.\n",
    "# \n",
    "# P.S. В программе необходимо только объявить декоратор и применить его к функции, более ничего делать не нужно.\n",
    "# \n",
    "# Sample Input:\n",
    "# \n",
    "# Главная Добавить Удалить Выйти\n",
    "# Sample Output:\n",
    "# \n",
    "# 1. Главная\n",
    "# 2. Добавить\n",
    "# 3. Удалить\n",
    "# 4. Выйти\n",
    "\n",
    "def show_menu(func):\n",
    "    def wrapper(s):\n",
    "        menu = func(s)\n",
    "        for i, item in enumerate(menu, 1):\n",
    "            print(f\"{i}. {item}\")\n",
    "    return wrapper\n",
    "\n",
    "@show_menu\n",
    "def get_menu(s):\n",
    "    return s.split()\n",
    "\n",
    "get_menu(\"Главная Добавить Удалить Выйти\")\n"
   ],
   "metadata": {
    "collapsed": false,
    "ExecuteTime": {
     "end_time": "2023-10-10T05:26:49.759872100Z",
     "start_time": "2023-10-10T05:26:49.745523800Z"
    }
   },
   "id": "554d069c9dca31c7"
  },
  {
   "cell_type": "code",
   "execution_count": 35,
   "outputs": [
    {
     "name": "stdout",
     "output_type": "stream",
     "text": [
      "-5 3 4 8 10 11\n"
     ]
    }
   ],
   "source": [
    "# Подвиг 3. На вход программы поступает строка из целых чисел, записанных через пробел. Напишите функцию get_list, которая преобразовывает эту строку в список из целых чисел и возвращает его. Определите декоратор для этой функции, который сортирует список чисел по возрастанию. Результат сортировки должен возвращаться при вызове декоратора.\n",
    "# \n",
    "# Вызовите декорированную функцию get_list и отобразите полученный отсортированный список lst командой:\n",
    "# \n",
    "# print(*lst)\n",
    "# \n",
    "# Sample Input:\n",
    "# \n",
    "# 8 11 -5 4 3 10\n",
    "# Sample Output:\n",
    "# \n",
    "# -5 3 4 8 10 11\n",
    "\n",
    "def sort_decorator(func):\n",
    "    def wrapper(*args, **kwargs):\n",
    "        lst = func(*args, **kwargs)\n",
    "        lst.sort()\n",
    "        return lst\n",
    "    return wrapper\n",
    "\n",
    "@sort_decorator\n",
    "def get_list(numbers_string):\n",
    "    numbers_list = numbers_string.split()  # Разделение строки на отдельные числа\n",
    "    numbers_list = [int(num) for num in numbers_list]  # Преобразование чисел из строкового формата в целочисленный формат\n",
    "    return numbers_list\n",
    "\n",
    "lst = get_list(input())\n",
    "print(*lst)\n"
   ],
   "metadata": {
    "collapsed": false,
    "ExecuteTime": {
     "end_time": "2023-10-10T06:12:59.472663400Z",
     "start_time": "2023-10-10T06:12:59.462653700Z"
    }
   },
   "id": "2b903adee3ac1bf4"
  },
  {
   "cell_type": "code",
   "execution_count": 28,
   "outputs": [
    {
     "name": "stdout",
     "output_type": "stream",
     "text": [
      "[-5, 3, 4, 8, 10, 11]\n"
     ]
    }
   ],
   "source": [
    "def sort_list(func):  # Определяем декоратор sort_list, который принимает функцию func в качестве аргумента\n",
    "    def wrapper(*args, **kwargs):  # Определяем функцию-обертку wrapper, которая принимает любое количество аргументов и ключевых аргументов\n",
    "        lst = func(*args, **kwargs)  # Вызываем функцию func с аргументами args и kwargs, чтобы получить список lst\n",
    "        lst.sort()  # Сортируем список lst\n",
    "        return lst  # Возвращаем отсортированный список\n",
    "    return wrapper  # Возвращаем функцию-обертку wrapper\n",
    "\n",
    "@sort_list  # Применяем декоратор sort_list к функции get_list\n",
    "def get_list(*args):  # Определяем функцию get_list, которая возвращает список из аргументов args\n",
    "    return list(args)  # Преобразуем аргументы в список и возвращаем его\n",
    "\n",
    "lst = get_list(8, 11, -5, 4, 3, 10)  # Вызываем функцию get_list с аргументами 8, 11, -5, 4, 3, 10\n",
    "print(lst)  # Выводим отсортированный список lst на экран\n",
    "\n"
   ],
   "metadata": {
    "collapsed": false,
    "ExecuteTime": {
     "end_time": "2023-10-10T06:02:57.700985400Z",
     "start_time": "2023-10-10T06:02:57.682968500Z"
    }
   },
   "id": "5a3ccd01f32f08c0"
  },
  {
   "cell_type": "code",
   "execution_count": 1,
   "outputs": [
    {
     "name": "stdout",
     "output_type": "stream",
     "text": [
      "('car', 'машина') ('house', 'дом') ('river', 'река') ('tree', 'дерево')\n"
     ]
    }
   ],
   "source": [
    "# Подвиг 4. Вводятся две строки из слов (слова записаны через пробел). Объявите функцию, которая преобразовывает эти две строки в два списка слов и возвращает эти списки.\n",
    "# \n",
    "# Определите декоратор для этой функции, который из двух списков формирует словарь, в котором ключами являются слова из первого списка, а значениями - соответствующие элементы из второго списка. Полученный словарь должен возвращаться при вызове декоратора.\n",
    "# \n",
    "# Примените декоратор к первой функции и вызовите ее для введенных строк. Результат (словарь d) отобразите на экране командой:\n",
    "# \n",
    "# print(*sorted(d.items()))\n",
    "# \n",
    "# Sample Input:\n",
    "# \n",
    "# house river tree car\n",
    "# дом река дерево машина\n",
    "# Sample Output:\n",
    "# \n",
    "# ('car', 'машина') ('house', 'дом') ('river', 'река') ('tree', 'дерево')\n",
    "\n",
    "def make_dict(func):\n",
    "    def wrapper(*args):\n",
    "        list1, list2 = func(*args)\n",
    "        return dict(zip(list1, list2))\n",
    "    return wrapper\n",
    "\n",
    "@make_dict\n",
    "def split_strings(string1, string2):\n",
    "    return string1.split(), string2.split()\n",
    "\n",
    "# string1 = input()\n",
    "# string2 = input()\n",
    "\n",
    "string1 = \"house river tree car\"\n",
    "string2 = \"дом река дерево машина\"\n",
    "\n",
    "d = split_strings(string1, string2)\n",
    "print(*sorted(d.items()))\n"
   ],
   "metadata": {
    "collapsed": false,
    "ExecuteTime": {
     "end_time": "2023-10-11T04:17:19.374329800Z",
     "start_time": "2023-10-11T04:17:19.366229Z"
    }
   },
   "id": "707b5849821392d"
  },
  {
   "cell_type": "code",
   "execution_count": 33,
   "outputs": [
    {
     "name": "stdout",
     "output_type": "stream",
     "text": [
      "privet-chudmla!\n"
     ]
    }
   ],
   "source": [
    "# Подвиг 5. Объявите функцию, которая принимает строку на кириллице и преобразовывает ее в латиницу, используя следующий словарь для замены русских букв на соответствующее латинское написание:\n",
    "# \n",
    "# t = {'ё': 'yo', 'а': 'a', 'б': 'b', 'в': 'v', 'г': 'g', 'д': 'd', 'е': 'e', 'ж': 'zh',\n",
    "#      'з': 'z', 'и': 'i', 'й': 'y', 'к': 'k', 'л': 'l', 'м': 'm', 'н': 'n', 'о': 'o', 'п': 'p',\n",
    "#      'р': 'r', 'с': 's', 'т': 't', 'у': 'u', 'ф': 'f', 'х': 'h', 'ц': 'c', 'ч': 'ch', 'ш': 'sh',\n",
    "#      'щ': 'shch', 'ъ': '', 'ы': 'y', 'ь': '', 'э': 'e', 'ю': 'yu', 'я': 'ya'}\n",
    "# Функция должна возвращать преобразованную строку. Замены делать без учета регистра (исходную строку перевести в нижний регистр - малые буквы). Все небуквенные символы \": ;.,_\" превращать в символ '-' (дефиса).\n",
    "# \n",
    "# Определите декоратор для этой функции, который несколько подряд идущих дефисов, превращает в один дефис. Полученная строка должна возвращаться при вызове декоратора. (Сам декоратор на экран ничего выводить не должен).\n",
    "# \n",
    "# Примените декоратор к первой функции и вызовите ее для введенной строки s на кириллице:\n",
    "# \n",
    "# s = input()\n",
    "# \n",
    "# Результат работы декорированной функции отобразите на экране.\n",
    "# \n",
    "# Sample Input:\n",
    "# \n",
    "# Python - это круто!\n",
    "# Sample Output:\n",
    "# \n",
    "# python-eto-kruto!\n",
    "\n",
    "t = {'ё': 'yo', 'а': 'a', 'б': 'b', 'в': 'v', 'г': 'g', 'д': 'd', 'е': 'e', 'ж': 'zh',\n",
    "     'з': 'z', 'и': 'i', 'й': 'y', 'к': 'k', 'л': 'l', 'м': 'm', 'н': 'n', 'о': 'o', 'п': 'p',\n",
    "     'р': 'r', 'с': 's', 'т': 't', 'у': 'u', 'ф': 'f', 'х': 'h', 'ц': 'c', 'ч': 'ch', 'ш': 'sh',\n",
    "     'щ': 'shch', 'ъ': '', 'ы': 'y', 'ь': '', 'э': 'e', 'ю': 'yu', 'я': 'ya'}\n",
    "\n",
    "def del_dash(fn):\n",
    "    def wropper(s):\n",
    "        s = fn(s)\n",
    "        while '--' in s:\n",
    "            s = s.replace('--', '-')\n",
    "        return s\n",
    "    return wropper\n",
    "\n",
    "@del_dash\n",
    "def ru_en(s):\n",
    "    st = ''\n",
    "    for i in s:\n",
    "        if i in t:\n",
    "            st += t[i]\n",
    "        elif i in \": ;.,_\":\n",
    "            st += '-'\n",
    "        else:\n",
    "            st += i          \n",
    "    return st\n",
    "\n",
    "s = input().lower()\n",
    "d = ru_en(s)\n",
    "print(d)\n"
   ],
   "metadata": {
    "collapsed": false,
    "ExecuteTime": {
     "end_time": "2023-10-11T07:01:56.495823500Z",
     "start_time": "2023-10-11T07:01:50.742464100Z"
    }
   },
   "id": "fc06f1352aa572af"
  },
  {
   "cell_type": "code",
   "execution_count": null,
   "outputs": [],
   "source": [],
   "metadata": {
    "collapsed": false,
    "ExecuteTime": {
     "end_time": "2023-10-12T01:15:47.260591300Z",
     "start_time": "2023-10-12T01:15:47.251998100Z"
    }
   },
   "id": "b69748ea17afdff3"
  },
  {
   "cell_type": "code",
   "execution_count": 1,
   "outputs": [
    {
     "data": {
      "text/plain": "[1, 2, 3, 4, 5]"
     },
     "execution_count": 1,
     "metadata": {},
     "output_type": "execute_result"
    }
   ],
   "source": [
    "l = [1,2,3,4,5,6,7,8,9,10]\n",
    "l[:int(len(l)/2)]"
   ],
   "metadata": {
    "collapsed": false,
    "ExecuteTime": {
     "end_time": "2023-10-12T04:22:45.084201600Z",
     "start_time": "2023-10-12T04:22:45.067173100Z"
    }
   },
   "id": "7b6150b5968dd15c"
  },
  {
   "cell_type": "code",
   "execution_count": null,
   "outputs": [],
   "source": [],
   "metadata": {
    "collapsed": false
   },
   "id": "3dd14cd87bfc2e57"
  },
  {
   "cell_type": "code",
   "execution_count": 11,
   "outputs": [
    {
     "name": "stdout",
     "output_type": "stream",
     "text": [
      "0.5000000413701855\n",
      "sin_df\n",
      "Фунския для вычисления производной синуса\n"
     ]
    }
   ],
   "source": [
    "from functools import wraps\n",
    "import math\n",
    "\n",
    "# Декоратор функции с параметрами\n",
    "def df_decorator(dx = 0.01):\n",
    "    def func_decorator(func):\n",
    "        @wraps(func)\n",
    "        def wrapper(x, *args, **kwargs):\n",
    "            res = (func(x + dx, *args, **kwargs) - func(x, *args, **kwargs)) / dx\n",
    "            return res\n",
    "        \n",
    "        # wrapper.__name__ = func.__name__\n",
    "        # wrapper.__doc__ = func.__doc__\n",
    "        \n",
    "        return wrapper\n",
    "    return func_decorator\n",
    "\n",
    "\n",
    "@df_decorator(dx=0.000000001)\n",
    "def sin_df(x):\n",
    "    \"\"\"Фунския для вычисления производной синуса\"\"\"\n",
    "    return math.sin(x)\n",
    "\n",
    "\n",
    "df = sin_df(math.pi/3)\n",
    "print(df)\n",
    "\n",
    "print(sin_df.__name__)\n",
    "print(sin_df.__doc__)"
   ],
   "metadata": {
    "collapsed": false,
    "ExecuteTime": {
     "end_time": "2023-10-12T04:47:20.959827200Z",
     "start_time": "2023-10-12T04:47:20.936816800Z"
    }
   },
   "id": "5811de0aca4cabec"
  },
  {
   "cell_type": "code",
   "execution_count": 15,
   "outputs": [
    {
     "data": {
      "text/plain": "'Hello ther'"
     },
     "execution_count": 15,
     "metadata": {},
     "output_type": "execute_result"
    }
   ],
   "source": [
    "import time\n",
    "\n",
    "\"\"\"Обычный декоратор с заранее заданым таймером\"\"\"\n",
    "def limit_reqests(func):\n",
    "    def real_limit(*args, **kwargs):\n",
    "        result = func(*args, **kwargs)\n",
    "        time.sleep(1) # секунды\n",
    "        return result\n",
    "    return real_limit\n",
    "\n",
    "\n",
    "@limit_reqests\n",
    "def get_something_from_api():\n",
    "    return \"Hello ther\"\n",
    "\n",
    "get_something_from_api()"
   ],
   "metadata": {
    "collapsed": false,
    "ExecuteTime": {
     "end_time": "2023-10-12T05:02:20.850290200Z",
     "start_time": "2023-10-12T05:02:20.832274Z"
    }
   },
   "id": "e143f210d81f69ad"
  },
  {
   "cell_type": "code",
   "execution_count": 26,
   "outputs": [
    {
     "data": {
      "text/plain": "'Hello ther'"
     },
     "execution_count": 26,
     "metadata": {},
     "output_type": "execute_result"
    }
   ],
   "source": [
    "import time\n",
    "\n",
    "\"\"\"Декортатор позволяющий задовать, передовать 'пазиционный аргумент' меняющий таймер ожидания \"\"\"\n",
    "\n",
    "def time_dect(seconds):\n",
    "    def limit_reqests(func):\n",
    "        def real_limit(*args, **kwargs):\n",
    "            result = func(*args, **kwargs)\n",
    "            time.sleep(seconds)\n",
    "            return result\n",
    "        return real_limit\n",
    "    return limit_reqests\n",
    "\n",
    "#@time_dect(int(input())) задавать таймер ожидания\n",
    "@time_dect(1)\n",
    "def get_something_from_api():\n",
    "    return \"Hello ther\"\n",
    "\n",
    "\n",
    "get_something_from_api()"
   ],
   "metadata": {
    "collapsed": false,
    "ExecuteTime": {
     "end_time": "2023-10-12T05:10:13.057727300Z",
     "start_time": "2023-10-12T05:10:12.026963600Z"
    }
   },
   "id": "9a1adea95ef85ee2"
  },
  {
   "cell_type": "code",
   "execution_count": 23,
   "outputs": [],
   "source": [],
   "metadata": {
    "collapsed": false,
    "ExecuteTime": {
     "end_time": "2023-10-12T05:07:49.490416200Z",
     "start_time": "2023-10-12T05:07:49.476259500Z"
    }
   },
   "id": "59c62e8169832a5d"
  },
  {
   "cell_type": "code",
   "execution_count": 41,
   "outputs": [
    {
     "name": "stdout",
     "output_type": "stream",
     "text": [
      "26\n"
     ]
    }
   ],
   "source": [
    "# Подвиг 1. Вводится строка целых чисел через пробел. Напишите функцию, которая преобразовывает эту строку в список чисел и возвращает их сумму.\n",
    "# \n",
    "# Определите декоратор для этой функции, который имеет один параметр start - начальное значение суммы.\n",
    "# Примените декоратор со значением start=5 к функции и вызовите декорированную функцию для введенной строки s:\n",
    "# \n",
    "# s = input()\n",
    "# \n",
    "# Результат отобразите на экране.\n",
    "# \n",
    "# Sample Input:\n",
    "# \n",
    "# 5 6 3 6 -4 6 -1\n",
    "# Sample Output:\n",
    "# \n",
    "# 26\n",
    "\n",
    "def sum_list(lst):\n",
    "    return sum(lst)\n",
    "\n",
    "def sum_list_decorator(start):\n",
    "    def sum_list_with_start(lst):\n",
    "        return sum(lst) + start\n",
    "    return sum_list_with_start\n",
    "\n",
    "s = input().split()\n",
    "s = [int(x) for x in s]\n",
    "\n",
    "sum_list_with_start = sum_list_decorator(5)\n",
    "result = sum_list_with_start(s)\n",
    "\n",
    "print(result)\n",
    "\n"
   ],
   "metadata": {
    "collapsed": false,
    "ExecuteTime": {
     "end_time": "2023-10-12T05:17:23.204597300Z",
     "start_time": "2023-10-12T05:17:22.207877100Z"
    }
   },
   "id": "6ad1d5e29176eb4f"
  },
  {
   "cell_type": "code",
   "execution_count": 83,
   "outputs": [
    {
     "name": "stdout",
     "output_type": "stream",
     "text": [
      "<div>декораторы - это классно!</div>\n"
     ]
    }
   ],
   "source": [
    "# Объявите функцию, которая возвращает переданную ей строку в нижнем регистре (с малыми буквами). \n",
    "# Определите декоратор для этой функции, который имеет один параметр tag, определяющий строку с названием тега и начальным значением \"h1\". Этот декоратор должен заключать возвращенную функцией строку в тег tag и возвращать результат.\n",
    "# \n",
    "# Пример заключения строки \"python\" в тег h1: <h1>python</h1>\n",
    "# \n",
    "# Примените декоратор со значением tag=\"div\" к функции и вызовите декорированную функцию для введенной строки s:\n",
    "# \n",
    "# s = input()\n",
    "# \n",
    "# Результат отобразите на экране.\n",
    "# \n",
    "# Sample Input:\n",
    "# \n",
    "# Декораторы - это классно!\n",
    "# Sample Output:\n",
    "# \n",
    "# <div>декораторы - это классно!</div>\n",
    "\n",
    "\n",
    "def tag_deco(tag_name=\"div\"):\n",
    "    def decorated_text(func):\n",
    "        def wrapper(text):\n",
    "            result = func(text)\n",
    "            return f\"<{tag_name}>{result}</{tag_name}>\"\n",
    "        return wrapper\n",
    "    return decorated_text\n",
    "\n",
    "@tag_deco()\n",
    "def lower_text(text):\n",
    "    return text.lower()\n",
    "\n",
    "s = input()\n",
    "result = lower_text(s)\n",
    "print(result)\n"
   ],
   "metadata": {
    "collapsed": false,
    "ExecuteTime": {
     "end_time": "2023-10-12T05:52:28.379302500Z",
     "start_time": "2023-10-12T05:52:27.338393100Z"
    }
   },
   "id": "d7d2408ed0e6acc6"
  },
  {
   "cell_type": "code",
   "execution_count": null,
   "outputs": [],
   "source": [
    "# Объявите функцию, которая принимает строку на кириллице и преобразовывает ее в латиницу, используя следующий словарь для замены русских букв на соответствующее латинское написание:\n",
    "# \n",
    "# t = {'ё': 'yo', 'а': 'a', 'б': 'b', 'в': 'v', 'г': 'g', 'д': 'd', 'е': 'e', 'ж': 'zh',\n",
    "#      'з': 'z', 'и': 'i', 'й': 'y', 'к': 'k', 'л': 'l', 'м': 'm', 'н': 'n', 'о': 'o', 'п': 'p',\n",
    "#      'р': 'r', 'с': 's', 'т': 't', 'у': 'u', 'ф': 'f', 'х': 'h', 'ц': 'c', 'ч': 'ch', 'ш': 'sh',\n",
    "#      'щ': 'shch', 'ъ': '', 'ы': 'y', 'ь': '', 'э': 'e', 'ю': 'yu', 'я': 'ya'}\n",
    "# Функция должна возвращать преобразованную строку. Замены делать без учета регистра (исходную строку перевести в нижний регистр - малые буквы). \n",
    "# \n",
    "# Определите декоратор с параметром chars и начальным значением \" !?\", который данные символы преобразует в символ \"-\" и, кроме того, все подряд идущие дефисы (например, \"--\" или \"---\") приводит к одному дефису. Полученный результат должен возвращаться в виде строки.\n",
    "# \n",
    "# Примените декоратор с аргументом chars=\"?!:;,. \" к функции и вызовите декорированную функцию для введенной строки s:\n",
    "# \n",
    "# s = input()\n",
    "# \n",
    "# Результат отобразите на экране.\n",
    "# \n",
    "# Sample Input:\n",
    "# \n",
    "# Декораторы - это круто!\n",
    "# Sample Output:\n",
    "# \n",
    "# dekoratory-eto-kruto-\n",
    "\n",
    "def cyrillic_to_latin(text):\n",
    "    t = {\n",
    "        'ё': 'yo', 'а': 'a', 'б': 'b', 'в': 'v', 'г': 'g', 'д': 'd', 'е': 'e', 'ж': 'zh',\n",
    "        'з': 'z', 'и': 'i', 'й': 'y', 'к': 'k', 'л': 'l', 'м': 'm', 'н': 'n', 'о': 'o', 'п': 'p',\n",
    "        'р': 'r', 'с': 's', 'т': 't', 'у': 'u', 'ф': 'f', 'х': 'h', 'ц': 'c', 'ч': 'ch', 'ш': 'sh',\n",
    "        'щ': 'shch', 'ъ': '', 'ы': 'y', 'ь': '', 'э': 'e', 'ю': 'yu', 'я': 'ya'\n",
    "    }\n",
    "    text = text.lower()\n",
    "    result = ''\n",
    "    for char in text:\n",
    "        if char in t:\n",
    "            result += t[char]\n",
    "        else:\n",
    "            result += char\n",
    "    return result\n",
    "\n",
    "def char_replacement(chars=\" !?\"):\n",
    "    def decorator(func):\n",
    "        def wrapper(text):\n",
    "            for char in chars:\n",
    "                text = text.replace(char, \"-\")\n",
    "            while \"--\" in text:\n",
    "                text = text.replace(\"--\", \"-\")\n",
    "            return func(text)\n",
    "        return wrapper\n",
    "    return decorator\n",
    "\n",
    "@char_replacement(\"?!:;,. \")\n",
    "def transform_text(text):\n",
    "    return cyrillic_to_latin(text)\n",
    "\n",
    "s = input()\n",
    "result = transform_text(s)\n",
    "print(result)\n"
   ],
   "metadata": {
    "collapsed": false
   },
   "id": "4f78fb71b5aeb44f"
  },
  {
   "cell_type": "code",
   "execution_count": null,
   "outputs": [],
   "source": [
    "t = {'ё': 'yo', 'а': 'a', 'б': 'b', 'в': 'v', 'г': 'g', 'д': 'd', 'е': 'e', 'ж': 'zh',\n",
    "     'з': 'z', 'и': 'i', 'й': 'y', 'к': 'k', 'л': 'l', 'м': 'm', 'н': 'n', 'о': 'o', 'п': 'p',\n",
    "     'р': 'r', 'с': 's', 'т': 't', 'у': 'u', 'ф': 'f', 'х': 'h', 'ц': 'c', 'ч': 'ch', 'ш': 'sh',\n",
    "     'щ': 'shch', 'ъ': '', 'ы': 'y', 'ь': '', 'э': 'e', 'ю': 'yu', 'я': 'ya'}\n",
    "\n",
    "def my_decorator(chars=\" !?\"):\n",
    "    def tag_str(fn):\n",
    "        def wropper(*args):\n",
    "            st = ''\n",
    "            s = fn(*args)\n",
    "            for i in s:\n",
    "                if i in chars:\n",
    "                    st += '-' \n",
    "                else:\n",
    "                    st += i\n",
    "                    \n",
    "            while '--' in st:\n",
    "                st = st.replace('--', '-')\n",
    "                \n",
    "            return st\n",
    "        return wropper\n",
    "    return tag_str\n",
    "\n",
    "@my_decorator(chars=\"?!:;,. \")\n",
    "def ru_en(s):\n",
    "    st = ''\n",
    "    for i in s:\n",
    "        if i in t:\n",
    "            st += t[i]\n",
    "        else:\n",
    "            st += i          \n",
    "    return st\n",
    "\n",
    "s = input().lower()\n",
    "st = ru_en(s)\n",
    "print(st)"
   ],
   "metadata": {
    "collapsed": false
   },
   "id": "d6b20eb952fcafd1"
  },
  {
   "cell_type": "code",
   "execution_count": null,
   "outputs": [],
   "source": [
    "# Подвиг 4. Объявите функцию с именем get_list и следующим описанием в теле функции:\n",
    "# \n",
    "# '''Функция для формирования списка целых значений'''\n",
    "# \n",
    "# Сама функция должна формировать и возвращать список целых чисел, который поступает на ее вход в виде строки из целых чисел, записанных через пробел.\n",
    "# \n",
    "# Определите декоратор, который выполняет суммирование значений из списка этой функции и возвращает результат.\n",
    "# Внутри декоратора декорируйте переданную функцию get_list с помощью команды @wraps (не забудьте сделать импорт: from functools import wraps). Такое декорирование необходимо, чтобы исходная функция get_list сохраняла свои локальные свойства: __name__ и __doc__.\n",
    "# \n",
    "# Примените декоратор к функции get_list, но не вызывайте ее\n",
    "\n",
    "from functools import wraps\n",
    "\n",
    "# здесь продолжайте программу\n",
    "\n",
    "\n",
    "def sum_decorator(func):\n",
    "    @wraps(func)\n",
    "    def wrapper(string_of_numbers):\n",
    "        numbers = [int(x) for x in string_of_numbers.split()]\n",
    "        result = sum(numbers)\n",
    "        return result\n",
    "    return wrapper\n",
    "\n",
    "@sum_decorator\n",
    "def get_list(numbers):\n",
    "    '''Функция для формирования списка целых значений'''\n",
    "    return numbers\n"
   ],
   "metadata": {
    "collapsed": false
   },
   "id": "80cdb83bdae3606b"
  },
  {
   "cell_type": "code",
   "execution_count": null,
   "outputs": [],
   "source": [
    "from functools import wraps  # импорт дублируется в конспекте, но по условиям задачи\n",
    "\n",
    "\n",
    "def summ_it(func):           \n",
    "    \"\"\"\n",
    "    Декоратор, суммирующий результат функции, преобразующий\n",
    "    введенную строку в список чисел, с применением @wraps для\n",
    "    сохранения свойств __doc__, __name__.\n",
    "\n",
    "    https://stepik.org/lesson/567063/step/5\n",
    "\n",
    "    полный конспект темы:\n",
    "    https://github.com/yeralexey/Study/blob/master/stepik.org/decorators.py\n",
    "    \"\"\"\n",
    "    @wraps(func)                   # сохраняем свойства оборачиваемой ф-ции\n",
    "    def wrapper(int_lst):          # получаем список чисел\n",
    "        return sum(func(int_lst))  # суммируем, возвращаем\n",
    "    return wrapper                 # возвращаем  wrapper\n",
    "\n",
    "\n",
    "@summ_it\n",
    "def get_list(string):      #  переименовать в  get_list!!!\n",
    "    '''Функция для формирования списка целых значений'''\n",
    "    return [int(i) for i in string.split()]  # cстрока => список чисел\n",
    "\n",
    "\n",
    "# inpt = \"2 3 5 6 7 8 4\"           # тестовый ввод\n",
    "# print(get_list2(inpt))           # проверка работы ф-ции\n",
    "# print(get_list2.__doc__)         # проверка локального свойства"
   ],
   "metadata": {
    "collapsed": false
   },
   "id": "e7e20bf8d1f5a020"
  }
 ],
 "metadata": {
  "kernelspec": {
   "display_name": "Python 3",
   "language": "python",
   "name": "python3"
  },
  "language_info": {
   "codemirror_mode": {
    "name": "ipython",
    "version": 2
   },
   "file_extension": ".py",
   "mimetype": "text/x-python",
   "name": "python",
   "nbconvert_exporter": "python",
   "pygments_lexer": "ipython2",
   "version": "2.7.6"
  }
 },
 "nbformat": 4,
 "nbformat_minor": 5
}
