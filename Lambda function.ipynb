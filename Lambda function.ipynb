{
 "cells": [
  {
   "cell_type": "code",
   "execution_count": 1,
   "id": "initial_id",
   "metadata": {
    "collapsed": true,
    "ExecuteTime": {
     "end_time": "2023-10-02T02:42:14.990196200Z",
     "start_time": "2023-10-02T02:42:14.983187500Z"
    }
   },
   "outputs": [
    {
     "data": {
      "text/plain": "<function __main__.<lambda>(a, b)>"
     },
     "execution_count": 1,
     "metadata": {},
     "output_type": "execute_result"
    }
   ],
   "source": [
    "lambda a, b: a + b"
   ]
  },
  {
   "cell_type": "code",
   "execution_count": 2,
   "outputs": [
    {
     "data": {
      "text/plain": "3"
     },
     "execution_count": 2,
     "metadata": {},
     "output_type": "execute_result"
    }
   ],
   "source": [
    "s = lambda a, b: a + b\n",
    "s(1, 2)"
   ],
   "metadata": {
    "collapsed": false,
    "ExecuteTime": {
     "end_time": "2023-09-29T08:27:08.586413Z",
     "start_time": "2023-09-29T08:27:08.560883500Z"
    }
   },
   "id": "3b5e6730f0a21367"
  },
  {
   "cell_type": "code",
   "execution_count": 3,
   "outputs": [],
   "source": [
    "a = [4, 5, lambda: print(\"lambda\"), 7, 8]"
   ],
   "metadata": {
    "collapsed": false,
    "ExecuteTime": {
     "end_time": "2023-09-29T08:28:38.661228Z",
     "start_time": "2023-09-29T08:28:38.614185200Z"
    }
   },
   "id": "24183f903e18341c"
  },
  {
   "cell_type": "code",
   "execution_count": 5,
   "outputs": [
    {
     "name": "stdout",
     "output_type": "stream",
     "text": [
      "lambda\n"
     ]
    }
   ],
   "source": [
    "a[2]()"
   ],
   "metadata": {
    "collapsed": false,
    "ExecuteTime": {
     "end_time": "2023-09-29T08:29:15.209265900Z",
     "start_time": "2023-09-29T08:29:15.189951300Z"
    }
   },
   "id": "a8b3b7a0d9addedb"
  },
  {
   "cell_type": "code",
   "execution_count": 8,
   "outputs": [
    {
     "name": "stdout",
     "output_type": "stream",
     "text": [
      "[0, -6, 8, 10]\n",
      "[5, 3, 8, 10, 1]\n"
     ]
    }
   ],
   "source": [
    "lst = [5, 3, 0, -6, 8, 10, 1]\n",
    "\n",
    "def get_filter(a, filter=None):\n",
    "    if filter is None:\n",
    "        return a\n",
    " \n",
    "    res = []\n",
    "    for x in a:\n",
    "        if filter(x):\n",
    "            res.append(x)\n",
    " \n",
    "    return res\n",
    "\n",
    "r = get_filter(lst, lambda x: x % 2 == 0)\n",
    "print(r)\n",
    "r = get_filter(lst, lambda x: x > 0)\n",
    "print(r)"
   ],
   "metadata": {
    "collapsed": false,
    "ExecuteTime": {
     "end_time": "2023-09-29T08:34:56.343515100Z",
     "start_time": "2023-09-29T08:34:56.324497600Z"
    }
   },
   "id": "1d73e81efe501d5a"
  },
  {
   "cell_type": "code",
   "execution_count": 10,
   "outputs": [],
   "source": [
    "# Объявите анонимную (лямбда) функцию с одним параметром для возведения числа в квадрат. Присвойте эту функцию переменной get_sq.\n",
    "# \n",
    "# Вызывать функцию не нужно, только задать\n",
    "\n",
    "\n",
    "\n",
    "get_sq= lambda x: x**2"
   ],
   "metadata": {
    "collapsed": false,
    "ExecuteTime": {
     "end_time": "2023-09-29T08:39:38.934169500Z",
     "start_time": "2023-09-29T08:39:38.915151800Z"
    }
   },
   "id": "794f19dc4f6ca9e8"
  },
  {
   "cell_type": "code",
   "execution_count": 2,
   "outputs": [],
   "source": [
    "# Объявите анонимную (лямбда) функцию с двумя параметрами для деления одного целого числа на другое. Если происходит деление на ноль, то функция должна возвращать значение None, иначе - результат деления.\n",
    "# \n",
    "# Присвойте эту функцию переменной get_div. Вызывать функцию не нужно, только задать\n",
    "\n",
    "get_div = lambda x, y: None if y == 0 else x / y\n"
   ],
   "metadata": {
    "collapsed": false,
    "ExecuteTime": {
     "end_time": "2023-10-02T02:47:14.940150600Z",
     "start_time": "2023-10-02T02:47:14.925420500Z"
    }
   },
   "id": "abddad8ad06f867"
  },
  {
   "cell_type": "code",
   "execution_count": 5,
   "outputs": [],
   "source": [],
   "metadata": {
    "collapsed": false,
    "ExecuteTime": {
     "end_time": "2023-10-02T02:48:39.933956100Z",
     "start_time": "2023-10-02T02:48:39.897493500Z"
    }
   },
   "id": "a08e65e5881dd38c"
  },
  {
   "cell_type": "code",
   "execution_count": 13,
   "outputs": [
    {
     "name": "stdout",
     "output_type": "stream",
     "text": [
      "5.6\n"
     ]
    }
   ],
   "source": [
    "# Объявите анонимную (лямбда) функцию для вычисления модуля числа (то есть, отрицательные числа нужно делать положительными). Вызовите эту функцию для введенного числа x:\n",
    "# \n",
    "# x = float(input())\n",
    "# \n",
    "# Отобразите результат работы функции на экране.\n",
    "# \n",
    "# Sample Input:\n",
    "# \n",
    "# -5.6\n",
    "# Sample Output:\n",
    "# \n",
    "# 5.6\n",
    "\n",
    "x = float(input())\n",
    "y = lambda x: abs(x)\n",
    "print(y(x))"
   ],
   "metadata": {
    "collapsed": false,
    "ExecuteTime": {
     "end_time": "2023-10-02T02:52:50.233201500Z",
     "start_time": "2023-10-02T02:52:49.092013Z"
    }
   },
   "id": "7086e734884ec216"
  },
  {
   "cell_type": "code",
   "execution_count": 16,
   "outputs": [],
   "source": [
    "# Объявите анонимную (лямбда) функцию для определения вхождения в переданную ей строку фрагмента \"ra\". То есть, функция должна возвращать True, если такой фрагмент присутствует в строке и False - в противном случае.\n",
    "# \n",
    "# Вызовите эту функцию для введенной строки s:\n",
    "# \n",
    "# s = input()\n",
    "# \n",
    "# Отобразите результат работы функции на экране.\n",
    "# \n",
    "# Sample Input:\n",
    "# \n",
    "# abrakadabra\n",
    "# Sample Output:\n",
    "# \n",
    "# True\n",
    "\n",
    "s = input()\n",
    "ra_ = lambda x: True if \"ra\" in s else False\n",
    "print(ra_(s))"
   ],
   "metadata": {
    "collapsed": false,
    "ExecuteTime": {
     "end_time": "2023-10-02T02:54:03.879805600Z",
     "start_time": "2023-10-02T02:54:02.859910200Z"
    }
   },
   "id": "a879a19cf122200b"
  },
  {
   "cell_type": "code",
   "execution_count": 19,
   "outputs": [],
   "source": [
    "x= \"ra\" in s"
   ],
   "metadata": {
    "collapsed": false,
    "ExecuteTime": {
     "end_time": "2023-10-02T02:54:28.253570100Z",
     "start_time": "2023-10-02T02:54:28.230547800Z"
    }
   },
   "id": "3f680000e3ca6cfa"
  },
  {
   "cell_type": "code",
   "execution_count": 20,
   "outputs": [
    {
     "data": {
      "text/plain": "True"
     },
     "execution_count": 20,
     "metadata": {},
     "output_type": "execute_result"
    }
   ],
   "source": [
    "x"
   ],
   "metadata": {
    "collapsed": false,
    "ExecuteTime": {
     "end_time": "2023-10-02T02:54:30.481926500Z",
     "start_time": "2023-10-02T02:54:30.440153200Z"
    }
   },
   "id": "6049899556c73757"
  },
  {
   "cell_type": "code",
   "execution_count": 23,
   "outputs": [
    {
     "name": "stdout",
     "output_type": "stream",
     "text": [
      "5 4 -3 4 5 -24 -6 9 0\n",
      "-3 -24 -6\n",
      "5 4 4 5 9 0\n",
      "5 4 4 5\n"
     ]
    }
   ],
   "source": [
    "# В программе задана функция filter_lst (см. программу ниже), которая отбирает элементы, переданного ей итерируемого объекта и возвращает сформированный кортеж значений.\n",
    "# \n",
    "# На вход программы поступает список целых чисел, записанных в одну строчку через пробел. Вызовите функцию filter_lst для формирования:\n",
    "# \n",
    "# - кортежа из всех значений входного списка (передается в параметр it);\n",
    "# - кортежа только из отрицательных чисел;\n",
    "# - кортежа только из неотрицательных чисел (то есть, включая и 0);\n",
    "# - кортежа из чисел в диапазоне [3; 5]\n",
    "# \n",
    "# Каждый результат работы функции следует отображать с новой строки командой:\n",
    "# \n",
    "# print(*lst)\n",
    "# \n",
    "# где lst - список на возвращенный функцией filter_lst. Для отбора нужных значений формальному параметру key следует передавать соответствующие определения анонимной функции.\n",
    "#  \n",
    "# \n",
    "# Sample Input:\n",
    "# \n",
    "# 5 4 -3 4 5 -24 -6 9 0\n",
    "# Sample Output:\n",
    "# \n",
    "# 5 4 -3 4 5 -24 -6 9 0\n",
    "# -3 -24 -6\n",
    "# 5 4 4 5 9 0\n",
    "# 5 4 4 5\n",
    "\n",
    "lst = list(map(int, input().split()))\n",
    "\n",
    "# Отбор всех значений\n",
    "print(*lst)\n",
    "\n",
    "# Отбор только отрицательных значений\n",
    "negative_lst = tuple(filter(lambda x: x < 0, lst))\n",
    "print(*negative_lst)\n",
    "\n",
    "# Отбор только неотрицательных значений\n",
    "non_negative_lst = tuple(filter(lambda x: x >= 0, lst))\n",
    "print(*non_negative_lst)\n",
    "\n",
    "# Отбор только значений в диапазоне [3; 5]\n",
    "range_lst = tuple(filter(lambda x: 3 <= x <= 5, lst))\n",
    "print(*range_lst)"
   ],
   "metadata": {
    "collapsed": false,
    "ExecuteTime": {
     "end_time": "2023-10-02T02:59:44.656763700Z",
     "start_time": "2023-10-02T02:59:43.606385800Z"
    }
   },
   "id": "e0407137b4e5d535"
  },
  {
   "cell_type": "code",
   "execution_count": null,
   "outputs": [],
   "source": [],
   "metadata": {
    "collapsed": false
   },
   "id": "b90a50844d83b554"
  }
 ],
 "metadata": {
  "kernelspec": {
   "display_name": "Python 3",
   "language": "python",
   "name": "python3"
  },
  "language_info": {
   "codemirror_mode": {
    "name": "ipython",
    "version": 2
   },
   "file_extension": ".py",
   "mimetype": "text/x-python",
   "name": "python",
   "nbconvert_exporter": "python",
   "pygments_lexer": "ipython2",
   "version": "2.7.6"
  }
 },
 "nbformat": 4,
 "nbformat_minor": 5
}
