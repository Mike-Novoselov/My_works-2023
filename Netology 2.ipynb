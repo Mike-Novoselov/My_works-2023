{
 "cells": [
  {
   "cell_type": "code",
   "execution_count": 1,
   "metadata": {
    "collapsed": true,
    "pycharm": {
     "name": "#%%\n"
    }
   },
   "outputs": [],
   "source": [
    "                                                                                                                    # Работа с файловой системой в Python"
   ]
  },
  {
   "cell_type": "code",
   "execution_count": 3,
   "metadata": {
    "collapsed": false,
    "pycharm": {
     "name": "#%%\n"
    }
   },
   "outputs": [
    {
     "data": {
      "text/plain": [
       "'c:\\\\Users\\\\siber\\\\PycharmProjects\\\\python STEPIK'"
      ]
     },
     "execution_count": 3,
     "metadata": {},
     "output_type": "execute_result"
    }
   ],
   "source": [
    "import os\n",
    "os.getcwd()"
   ]
  },
  {
   "cell_type": "code",
   "execution_count": 4,
   "metadata": {
    "collapsed": false,
    "pycharm": {
     "name": "#%%\n"
    }
   },
   "outputs": [
    {
     "ename": "NameError",
     "evalue": "name 'path' is not defined",
     "output_type": "error",
     "traceback": [
      "\u001B[1;31m---------------------------------------------------------------------------\u001B[0m",
      "\u001B[1;31mNameError\u001B[0m                                 Traceback (most recent call last)",
      "Cell \u001B[1;32mIn[4], line 1\u001B[0m\n\u001B[1;32m----> 1\u001B[0m os\u001B[39m.\u001B[39mpath\u001B[39m.\u001B[39mjoin(path, \u001B[39m*\u001B[39mpaths)\n\u001B[0;32m      2\u001B[0m os\u001B[39m.\u001B[39mpath\u001B[39m.\u001B[39mdirname(path)\n\u001B[0;32m      3\u001B[0m os\u001B[39m.\u001B[39mpath\u001B[39m.\u001B[39mbasename(path)\n",
      "\u001B[1;31mNameError\u001B[0m: name 'path' is not defined"
     ]
    }
   ],
   "source": [
    "os.path.join(path, *paths)\n",
    "os.path.dirname(path)\n",
    "os.path.basename(path)"
   ]
  },
  {
   "cell_type": "code",
   "execution_count": null,
   "metadata": {
    "collapsed": false,
    "pycharm": {
     "name": "#%%\n"
    }
   },
   "outputs": [
    {
     "name": "stdout",
     "output_type": "stream",
     "text": [
      "привет, я тестирую файл\n",
      "2строка\n",
      "3я строка\n",
      "4я\n",
      "5я\n"
     ]
    }
   ],
   "source": [
    "file_object = open(\"test_file.txt\", \"r\", encoding=\"utf-8\")\n",
    "print(file_object.read())\n"
   ]
  },
  {
   "cell_type": "code",
   "execution_count": null,
   "metadata": {
    "collapsed": false,
    "pycharm": {
     "name": "#%%\n"
    }
   },
   "outputs": [
    {
     "name": "stdout",
     "output_type": "stream",
     "text": [
      "привет, я тестирую файл\n"
     ]
    }
   ],
   "source": [
    "file_object = open(\"test_file.txt\", \"r\", encoding=\"utf-8\")\n",
    "print(*file_object)"
   ]
  },
  {
   "cell_type": "code",
   "execution_count": null,
   "metadata": {
    "collapsed": false,
    "pycharm": {
     "name": "#%%\n"
    }
   },
   "outputs": [
    {
     "data": {
      "text/plain": [
       "85"
      ]
     },
     "execution_count": 61,
     "metadata": {},
     "output_type": "execute_result"
    }
   ],
   "source": [
    "file_object.tell() # tell скажет где сейчас расположина каретки над текстом (42 позиция это конечная)"
   ]
  },
  {
   "cell_type": "code",
   "execution_count": null,
   "metadata": {
    "collapsed": false,
    "pycharm": {
     "name": "#%%\n"
    }
   },
   "outputs": [
    {
     "data": {
      "text/plain": [
       "0"
      ]
     },
     "execution_count": 59,
     "metadata": {},
     "output_type": "execute_result"
    }
   ],
   "source": [
    "file_object.seek(0) # seek перенесет поретку на 0 позицию"
   ]
  },
  {
   "cell_type": "code",
   "execution_count": null,
   "metadata": {
    "collapsed": false,
    "pycharm": {
     "name": "#%%\n"
    }
   },
   "outputs": [
    {
     "name": "stdout",
     "output_type": "stream",
     "text": [
      "привет, я тестирую файл\n",
      "2строка\n",
      "3я строка\n",
      "4я\n",
      "5я"
     ]
    }
   ],
   "source": [
    "for Line in file_object:\n",
    "    print(Line, end=\"\")"
   ]
  },
  {
   "cell_type": "code",
   "execution_count": null,
   "metadata": {
    "collapsed": false,
    "pycharm": {
     "name": "#%%\n"
    }
   },
   "outputs": [],
   "source": [
    "file_object.close() # закрываем файл"
   ]
  },
  {
   "cell_type": "code",
   "execution_count": null,
   "metadata": {
    "collapsed": false,
    "pycharm": {
     "name": "#%%\n"
    }
   },
   "outputs": [
    {
     "name": "stdout",
     "output_type": "stream",
     "text": [
      "привет, я тестирую файл\n",
      "2строка\n",
      "3я строка\n",
      "4я\n",
      "5я"
     ]
    }
   ],
   "source": [
    "with open(\"test_file.txt\", encoding=\"utf-8\") as f: # с witch закрывать файл ненужно!!!, закрытие произойдет автомотически после выполнении всего кода\n",
    "    for Line in f:\n",
    "        print(Line, end=\"\")\n"
   ]
  },
  {
   "cell_type": "code",
   "execution_count": null,
   "metadata": {
    "collapsed": false,
    "pycharm": {
     "name": "#%%\n"
    }
   },
   "outputs": [],
   "source": []
  },
  {
   "cell_type": "code",
   "execution_count": null,
   "metadata": {
    "collapsed": false,
    "pycharm": {
     "name": "#%%\n"
    }
   },
   "outputs": [],
   "source": [
    "                                                                                                                # запись файла"
   ]
  },
  {
   "cell_type": "code",
   "execution_count": null,
   "metadata": {
    "collapsed": false,
    "pycharm": {
     "name": "#%%\n"
    }
   },
   "outputs": [],
   "source": [
    "file_object = open(\"test_file_write.txt\", \"a\") # w запись, a дозапись с конца ВАЖНО!!!\n",
    "test_txt_to_write = \"\"\"User_1\n",
    "Nikolai | Sviridov | Developer\n",
    "\n",
    "User_2\n",
    "Peter | Petrov | QA manual\\n\\n\"\"\"\n",
    "\n",
    "file_object.write(test_txt_to_write)\n",
    "file_object.close()"
   ]
  },
  {
   "cell_type": "code",
   "execution_count": null,
   "metadata": {
    "collapsed": false,
    "pycharm": {
     "name": "#%%\n"
    }
   },
   "outputs": [
    {
     "ename": "SyntaxError",
     "evalue": "incomplete input (1199667817.py, line 2)",
     "output_type": "error",
     "traceback": [
      "\u001B[1;36m  Cell \u001B[1;32mIn [95], line 2\u001B[1;36m\u001B[0m\n\u001B[1;33m    with 1 as a:\u001B[0m\n\u001B[1;37m                ^\u001B[0m\n\u001B[1;31mSyntaxError\u001B[0m\u001B[1;31m:\u001B[0m incomplete input\n"
     ]
    }
   ],
   "source": [
    "a = 1\n",
    "with 1 as a:"
   ]
  },
  {
   "cell_type": "code",
   "execution_count": null,
   "metadata": {
    "collapsed": false,
    "pycharm": {
     "name": "#%%\n"
    }
   },
   "outputs": [
    {
     "name": "stdout",
     "output_type": "stream",
     "text": [
      "Вы поделилина ноль, так нельзя, но я прододжу выполнение хоманды\n",
      "10 Программа звершена\n"
     ]
    }
   ],
   "source": [
    "try:\n",
    "    100/0\n",
    "except ZeroDivisionError:\n",
    "    print(\"Вы поделилина ноль, так нельзя, но я прододжу выполнение хоманды\")\n",
    "print(5+5, \"Программа звершена\")"
   ]
  },
  {
   "cell_type": "code",
   "execution_count": null,
   "metadata": {
    "collapsed": false,
    "pycharm": {
     "name": "#%%\n"
    }
   },
   "outputs": [
    {
     "name": "stdout",
     "output_type": "stream",
     "text": [
      "{'Омлет': [{'ingredient_name': 'Яйцо', 'measure': 'шт', 'quantity': 2},\n",
      "           {'ingredient_name': 'Молоко', 'measure': 'мл', 'quantity': 100},\n",
      "           {'ingredient_name': 'Помидор', 'measure': 'шт', 'quantity': 2}]}\n"
     ]
    }
   ],
   "source": [
    " # ДЗ 1\n",
    "import pprint\n",
    "cook_book = {}\n",
    "\n",
    "with open('recipes.txt', 'r', encoding='utf-8') as f:\n",
    "    while True:\n",
    "        # Считываем название блюда\n",
    "        dish_name = f.readline().strip()\n",
    "        if not dish_name:\n",
    "            break\n",
    "\n",
    "        # Считываем количество ингредиентов\n",
    "        ingredient_count = int(f.readline().strip())\n",
    "        ingredients = []\n",
    "\n",
    "        # Считываем ингредиенты и их количество\n",
    "        for i in range(ingredient_count):\n",
    "            ingredient_info = f.readline().strip().split(' | ')\n",
    "            ingredient_name = ingredient_info[0]\n",
    "            quantity = int(ingredient_info[1])\n",
    "            measure = ingredient_info[2]\n",
    "\n",
    "            # Сохраняем информацию об ингредиенте в словарь\n",
    "            ingredient_dict = {'ingredient_name': ingredient_name, 'quantity': quantity, 'measure': measure}\n",
    "            ingredients.append(ingredient_dict)\n",
    "\n",
    "        # Добавляем блюдо в словарь\n",
    "        cook_book[dish_name] = ingredients\n",
    "\n",
    "pprint.pprint(cook_book)"
   ]
  },
  {
   "cell_type": "code",
   "execution_count": null,
   "metadata": {
    "collapsed": false,
    "pycharm": {
     "name": "#%%\n"
    }
   },
   "outputs": [
    {
     "name": "stdout",
     "output_type": "stream",
     "text": [
      "{'Омлет': [{'ingredient_name': 'Яйцо', 'quantity': 2, 'measure': 'шт'}, {'ingredient_name': 'Молоко', 'quantity': 100, 'measure': 'мл'}, {'ingredient_name': 'Помидор', 'quantity': 2, 'measure': 'шт'}]}\n"
     ]
    }
   ],
   "source": [
    "print(cook_book)"
   ]
  },
  {
   "cell_type": "code",
   "execution_count": null,
   "metadata": {
    "collapsed": false,
    "pycharm": {
     "name": "#%%\n"
    }
   },
   "outputs": [
    {
     "name": "stdout",
     "output_type": "stream",
     "text": [
      "{'Омлет': [{'ingredient_name': 'Яйцо', 'quantity': 2, 'measure': 'шт'}, {'ingredient_name': 'Молоко', 'quantity': 100, 'measure': 'мл'}, {'ingredient_name': 'Помидор', 'quantity': 2, 'measure': 'шт'}]}\n"
     ]
    }
   ],
   "source": [
    "cook_book = {}\n",
    "\n",
    "with open('recipes.txt', 'r', encoding='utf-8') as f:\n",
    "    while True:\n",
    "        dish_name = f.readline().strip()\n",
    "        if not dish_name:\n",
    "            break\n",
    "        ingredient_count = int(f.readline().strip())\n",
    "        ingredients = []\n",
    "        for i in range(ingredient_count):\n",
    "            ingredient_info = f.readline().strip().split(' | ')\n",
    "            ingredient_name = ingredient_info[0]\n",
    "            quantity = int(ingredient_info[1])\n",
    "            measure = ingredient_info[2]\n",
    "            ingredient_dict = {'ingredient_name': ingredient_name, 'quantity': quantity, 'measure': measure}\n",
    "            ingredients.append(ingredient_dict)\n",
    "        cook_book[dish_name] = ingredients\n",
    "\n",
    "\n",
    "print(cook_book)"
   ]
  },
  {
   "cell_type": "code",
   "execution_count": null,
   "metadata": {
    "collapsed": false,
    "pycharm": {
     "name": "#%%\n"
    }
   },
   "outputs": [
    {
     "name": "stdout",
     "output_type": "stream",
     "text": [
      "Омлет:\n",
      "{'ingredient_name': 'Яйцо', 'quantity': 2, 'measure': 'шт'}\n",
      "{'ingredient_name': 'Молоко', 'quantity': 100, 'measure': 'мл'}\n",
      "{'ingredient_name': 'Помидор', 'quantity': 2, 'measure': 'шт'}\n",
      "\n"
     ]
    }
   ],
   "source": [
    "for dish, ingredients in cook_book.items():\n",
    "    print(dish + ':')\n",
    "    for ingredient in ingredients:\n",
    "        print(ingredient)\n",
    "    print()\n"
   ]
  },
  {
   "cell_type": "code",
   "execution_count": 22,
   "metadata": {
    "collapsed": false,
    "pycharm": {
     "name": "#%%\n"
    }
   },
   "outputs": [
    {
     "name": "stdout",
     "output_type": "stream",
     "text": [
      "{'Запеченный картофель': [{'ingredient_name': 'Картофель',\n",
      "                           'measure': 'кг',\n",
      "                           'quantity': 1},\n",
      "                          {'ingredient_name': 'Чеснок',\n",
      "                           'measure': 'зубч',\n",
      "                           'quantity': 3},\n",
      "                          {'ingredient_name': 'Сыр гауда',\n",
      "                           'measure': 'г',\n",
      "                           'quantity': 100}],\n",
      " 'Омлет': [{'ingredient_name': 'Яйцо', 'measure': 'шт', 'quantity': 2},\n",
      "           {'ingredient_name': 'Молоко', 'measure': 'мл', 'quantity': 100},\n",
      "           {'ingredient_name': 'Помидор', 'measure': 'шт', 'quantity': 2}],\n",
      " 'Утка по-пекински': [{'ingredient_name': 'Утка',\n",
      "                       'measure': 'шт',\n",
      "                       'quantity': 1},\n",
      "                      {'ingredient_name': 'Вода',\n",
      "                       'measure': 'л',\n",
      "                       'quantity': 2},\n",
      "                      {'ingredient_name': 'Мед',\n",
      "                       'measure': 'ст.л',\n",
      "                       'quantity': 3},\n",
      "                      {'ingredient_name': 'Соевый соус',\n",
      "                       'measure': 'мл',\n",
      "                       'quantity': 60}],\n",
      " 'Фахитос': [{'ingredient_name': 'Говядина', 'measure': 'г', 'quantity': 500},\n",
      "             {'ingredient_name': 'Перец сладкий',\n",
      "              'measure': 'шт',\n",
      "              'quantity': 1},\n",
      "             {'ingredient_name': 'Лаваш', 'measure': 'шт', 'quantity': 2},\n",
      "             {'ingredient_name': 'Винный уксус',\n",
      "              'measure': 'ст.л',\n",
      "              'quantity': 1},\n",
      "             {'ingredient_name': 'Помидор', 'measure': 'шт', 'quantity': 2}]}\n"
     ]
    }
   ],
   "source": [
    "import pprint\n",
    "cook_book = {}\n",
    "\n",
    "with open('recipes.txt', encoding='utf-8') as file:\n",
    "    while True:\n",
    "        dish_name = file.readline().strip()\n",
    "        if not dish_name:\n",
    "            break\n",
    "\n",
    "        ingredients = []\n",
    "        count = int(file.readline().strip())\n",
    "        for i in range(count):\n",
    "            ingredient_line = file.readline().strip()\n",
    "            ingredient_name, quantity, measure = ingredient_line.split(' | ')\n",
    "            ingredients.append({\n",
    "                'ingredient_name': ingredient_name,\n",
    "                'quantity': int(quantity),\n",
    "                'measure': measure\n",
    "            })\n",
    "\n",
    "        cook_book[dish_name] = ingredients\n",
    "        file.readline()\n",
    "\n",
    "pprint.pprint(cook_book)\n"
   ]
  },
  {
   "cell_type": "code",
   "execution_count": null,
   "metadata": {
    "collapsed": false,
    "pycharm": {
     "name": "#%%\n"
    }
   },
   "outputs": [],
   "source": [
    "# Конечно, я могу прокомментировать каждую строку кода:\n",
    "\n",
    "# import pprint\n",
    "#  - импортируем модуль pprint для красивого вывода словаря.\n",
    "# cook_book = {}\n",
    "#  - создаем пустой словарь cook_book, в который будем добавлять рецепты.\n",
    "# with open('recipes.txt', encoding='utf-8') as file:\n",
    "#  - открываем файл recipes.txt с кодировкой utf-8 и создаем объект file, который будет использоваться для чтения файла.\n",
    "# while True:\n",
    "#  - начинаем бесконечный цикл while.\n",
    "# dish_name = file.readline().strip()\n",
    "#  - считываем название блюда из файла и удаляем лишние пробелы в начале и конце строки.\n",
    "# if not dish_name:\n",
    "#  - если строка пустая, то выходим из цикла.\n",
    "# ingredients = []\n",
    "#  - создаем пустой список ingredients, в который будем добавлять ингредиенты для текущего блюда.\n",
    "# count = int(file.readline().strip())\n",
    "#  - считываем количество ингредиентов для текущего блюда и преобразуем его в целое число.\n",
    "# for i in range(count):\n",
    "#  - начинаем цикл for, который будет повторяться count раз.\n",
    "# ingredient_line = file.readline().strip()\n",
    "#  - считываем строку с ингредиентом из файла и удаляем лишние пробелы в начале и конце строки.\n",
    "# ingredient_name, quantity, measure = ingredient_line.split(' | ')\n",
    "#  - разделяем строку на три части (название ингредиента, количество и меру измерения) и присваиваем их соответствующим переменным.\n",
    "# ingredients.append({'ingredient_name': ingredient_name, 'quantity': int(quantity), 'measure': measure})\n",
    "#  - создаем словарь с ингредиентом и добавляем его в список ingredients.\n",
    "# cook_book[dish_name] = ingredients\n",
    "#  - добавляем список ingredients в словарь cook_book с ключом dish_name.\n",
    "# file.readline()\n",
    "#  - считываем пустую строку из файла.\n",
    "# pprint.pprint(cook_book)\n",
    "#  - выводим содержимое словаря cook_book с помощью pprint.\n",
    "# Надеюсь, это поможет вам лучше понять работу данного кода.\n",
    "\n"
   ]
  },
  {
   "cell_type": "code",
   "execution_count": 2,
   "metadata": {
    "collapsed": false,
    "pycharm": {
     "name": "#%%\n"
    }
   },
   "outputs": [
    {
     "name": "stdout",
     "output_type": "stream",
     "text": [
      "{'Омлет': [{'ingredient_name': 'Яйцо', 'quantity': 2, 'measure': 'шт'}, {'ingredient_name': 'Молоко', 'quantity': 100, 'measure': 'мл'}, {'ingredient_name': 'Помидор', 'quantity': 2, 'measure': 'шт'}], 'Утка по-пекински': [{'ingredient_name': 'Утка', 'quantity': 1, 'measure': 'шт'}, {'ingredient_name': 'Вода', 'quantity': 2, 'measure': 'л'}, {'ingredient_name': 'Мед', 'quantity': 3, 'measure': 'ст.л'}, {'ingredient_name': 'Соевый соус', 'quantity': 60, 'measure': 'мл'}], 'Запеченный картофель': [{'ingredient_name': 'Картофель', 'quantity': 1, 'measure': 'кг'}, {'ingredient_name': 'Чеснок', 'quantity': 3, 'measure': 'зубч'}, {'ingredient_name': 'Сыр гауда', 'quantity': 100, 'measure': 'г'}], 'Фахитос': [{'ingredient_name': 'Говядина', 'quantity': 500, 'measure': 'г'}, {'ingredient_name': 'Перец сладкий', 'quantity': 1, 'measure': 'шт'}, {'ingredient_name': 'Лаваш', 'quantity': 2, 'measure': 'шт'}, {'ingredient_name': 'Винный уксус', 'quantity': 1, 'measure': 'ст.л'}, {'ingredient_name': 'Помидор', 'quantity': 2, 'measure': 'шт'}]}\n"
     ]
    }
   ],
   "source": [
    "print(cook_book)"
   ]
  },
  {
   "cell_type": "code",
   "execution_count": 17,
   "outputs": [
    {
     "data": {
      "text/plain": "{'Картофель': {'measure': 'кг', 'quantity': 2},\n 'Чеснок': {'measure': 'зубч', 'quantity': 6},\n 'Сыр гауда': {'measure': 'г', 'quantity': 200},\n 'Яйцо': {'measure': 'шт', 'quantity': 4},\n 'Молоко': {'measure': 'мл', 'quantity': 200},\n 'Помидор': {'measure': 'шт', 'quantity': 4}}"
     },
     "execution_count": 17,
     "metadata": {},
     "output_type": "execute_result"
    }
   ],
   "source": [
    "def get_shop_list_by_dishes(dishes, person_count):\n",
    "    shop_list = {}\n",
    "    for dish in dishes:\n",
    "        for ingredient in cook_book[dish]:\n",
    "            name = ingredient['ingredient_name']\n",
    "            measure = ingredient['measure']\n",
    "            quantity = ingredient['quantity'] * person_count\n",
    "            if name not in shop_list:\n",
    "                shop_list[name] = {'measure': measure, 'quantity': quantity}\n",
    "            else:\n",
    "                shop_list[name]['quantity'] += quantity\n",
    "    return shop_list\n",
    "\n",
    "\n",
    "get_shop_list_by_dishes(['Запеченный картофель', 'Омлет'], 2)"
   ],
   "metadata": {
    "collapsed": false,
    "pycharm": {
     "name": "#%%\n"
    }
   }
  },
  {
   "cell_type": "code",
   "execution_count": null,
   "outputs": [],
   "source": [
    "# Давайте рассмотрим каждую строку функции более подробно:\n",
    "\n",
    "# shop_list = {} - создаем пустой словарь для хранения списка покупок.\n",
    "# for dish in dishes: - проходимся по каждому блюду из списка dishes.\n",
    "# for ingredient in cook_book[dish]: - проходимся по списку ингредиентов для каждого блюда.\n",
    "# name = ingredient['ingredient_name'] - сохраняем название ингредиента.\n",
    "# measure = ingredient['measure'] - сохраняем единицу измерения.\n",
    "# quantity = ingredient['quantity'] * person_count - вычисляем количество ингредиента, необходимое для приготовления выбранного количества порций.\n",
    "# if name not in shop_list: - проверяем, есть ли ингредиент в списке покупок. Если нет, то добавляем его в словарь shop_list.\n",
    "# else: - если ингредиент уже есть в списке покупок, то увеличиваем его количество.\n",
    "# shop_list[name] = {'measure': measure, 'quantity': quantity} - добавляем ингредиент в словарь shop_list.\n",
    "# return shop_list - возвращаем список покупок.\n"
   ],
   "metadata": {
    "collapsed": false,
    "pycharm": {
     "name": "#%%\n"
    }
   }
  },
  {
   "cell_type": "code",
   "execution_count": 18,
   "outputs": [
    {
     "data": {
      "text/plain": "{'Говядина': {'measure': 'г', 'quantity': 2500},\n 'Перец сладкий': {'measure': 'шт', 'quantity': 5},\n 'Лаваш': {'measure': 'шт', 'quantity': 10},\n 'Винный уксус': {'measure': 'ст.л', 'quantity': 5},\n 'Помидор': {'measure': 'шт', 'quantity': 10},\n 'Утка': {'measure': 'шт', 'quantity': 5},\n 'Вода': {'measure': 'л', 'quantity': 10},\n 'Мед': {'measure': 'ст.л', 'quantity': 15},\n 'Соевый соус': {'measure': 'мл', 'quantity': 300}}"
     },
     "execution_count": 18,
     "metadata": {},
     "output_type": "execute_result"
    }
   ],
   "source": [
    "get_shop_list_by_dishes(['Фахитос', 'Утка по-пекински'], 5)"
   ],
   "metadata": {
    "collapsed": false,
    "pycharm": {
     "name": "#%%\n"
    }
   }
  },
  {
   "cell_type": "code",
   "execution_count": 26,
   "outputs": [],
   "source": [
    "prnt = get_shop_list_by_dishes(['Фахитос', 'Утка по-пекински'], 5)"
   ],
   "metadata": {
    "collapsed": false,
    "pycharm": {
     "name": "#%%\n"
    }
   }
  },
  {
   "cell_type": "code",
   "execution_count": 34,
   "outputs": [
    {
     "name": "stdout",
     "output_type": "stream",
     "text": [
      "\n",
      " {'Говядина': {'measure': 'г', 'quantity': 2500}, 'Перец сладкий': {'measure': 'шт', 'quantity': 5}, 'Лаваш': {'measure': 'шт', 'quantity': 10}, 'Винный уксус': {'measure': 'ст.л', 'quantity': 5}, 'Помидор': {'measure': 'шт', 'quantity': 10}, 'Утка': {'measure': 'шт', 'quantity': 5}, 'Вода': {'measure': 'л', 'quantity': 10}, 'Мед': {'measure': 'ст.л', 'quantity': 15}, 'Соевый соус': {'measure': 'мл', 'quantity': 300}}\n"
     ]
    }
   ],
   "source": [
    "print(f\"\\n {prnt}\\n\")"
   ],
   "metadata": {
    "collapsed": false,
    "pycharm": {
     "name": "#%%\n"
    }
   }
  },
  {
   "cell_type": "code",
   "execution_count": 14,
   "outputs": [],
   "source": [
    "import os\n",
    "\n",
    "# Создаем список с именами файлов\n",
    "files = ['1.txt', '2.txt', '3.txt']\n",
    "\n",
    "# Создаем пустой словарь для хранения количества строк в файлах\n",
    "file_lines = {}\n",
    "\n",
    "# Перебираем все файлы и считаем количество строк в каждом файле\n",
    "for file in files:\n",
    "    with open(file, encoding='utf-8') as f:\n",
    "        lines = f.readlines()\n",
    "        file_lines[file] = len(lines)\n",
    "\n",
    "# Сортируем имена файлов по количеству строк\n",
    "sorted_files = sorted(files, key=lambda x: file_lines[x])\n",
    "\n",
    "# Создаем итоговый файл\n",
    "with open('result.txt', 'w', encoding='utf-8') as result_file:\n",
    "    # Перебираем отсортированные файлы\n",
    "    for file in sorted_files:\n",
    "        # Записываем имя файла и количество строк в нем\n",
    "        result_file.write(f\"{file}\\n{file_lines[file]}\\n\")\n",
    "        # Записываем содержимое файла\n",
    "        with open(file, encoding='utf-8') as f:\n",
    "            result_file.writelines(f.readlines())\n",
    "        # Добавляем пустую строку между содержимым файлов\n",
    "        result_file.write(\"\\n\")\n"
   ],
   "metadata": {
    "collapsed": false,
    "pycharm": {
     "name": "#%%\n"
    }
   }
  },
  {
   "cell_type": "code",
   "execution_count": 16,
   "outputs": [
    {
     "name": "stdout",
     "output_type": "stream",
     "text": [
      "2.txt\n",
      "1\n",
      "Тревога началась в тринадцать часов ноль две минуты. \n",
      "\n",
      "1.txt\n",
      "8\n",
      "Начальник  полиции\n",
      "лично позвонил в шестнадцатый участок. А спустя  одну минуту тридцать секунд\n",
      "в дежурке и других комнатах нижнего этажа раздались звонки\n",
      "     Когда Иенсен  --  комиссар  шестнадцатого  участка --  вышел  из своего\n",
      "кабинета,  звонки еще  не смолкли. Иенсен был мужчина средних лет,  обычного\n",
      "сложения, с лицом плоским и невыразительным. На последней ступеньке винтовой\n",
      "лестницы  он задержался  и  обвел взглядом помещение дежурки. Затем поправил\n",
      "галстук и проследовал к машине.\n",
      "3.txt\n",
      "9\n",
      "     В  это время  дня  машины текли сплошным  блестящим  потоком,  а  среди\n",
      "потока, будто  колонны из бетона  и стекла, высились  здания. Здесь,  в мире\n",
      "резких граней,  люди  на тротуарах  выглядели  несчастными и  неприкаянными.\n",
      "Одеты они были хорошо, но как-то удивительно походили друг на друга и все до\n",
      "одного спешили. Они шли нестройными  вереницами, широко разливались, завидев\n",
      "красный  светофор или  металлический  блеск кафе-автоматов.  Они непрестанно\n",
      "озирались по сторонам и теребили портфели и сумочки.\n",
      "     Полицейские  машины  с  включенными  сиренами  пробивались  сквозь  эту\n",
      "толчею.\n",
      "\n"
     ]
    }
   ],
   "source": [
    "with open('result.txt', 'r', encoding='utf-8') as f:\n",
    "    content = f.read()\n",
    "    print(content)\n"
   ],
   "metadata": {
    "collapsed": false,
    "pycharm": {
     "name": "#%%\n"
    }
   }
  },
  {
   "cell_type": "code",
   "execution_count": 3,
   "outputs": [
    {
     "name": "stdout",
     "output_type": "stream",
     "text": [
      "0    ay123\n",
      "1    ay678\n",
      "2    ay876\n",
      "3    ay908\n",
      "4    ay912\n",
      "5    ay012\n",
      "dtype: object\n",
      "['ay123' 'ay678' 'ay876' 'ay908' 'ay912' 'ay012']\n"
     ]
    }
   ],
   "source": [
    "import pandas as pd\n",
    "import numpy as np\n",
    "\n",
    "data =pd.Series([\"ay123\", \"ay678\", \"ay876\", \"ay908\", \"ay912\", \"ay012\"])\n",
    "print(data)\n",
    "\n",
    "new_array=np.array(data.values)\n",
    "print(new_array)"
   ],
   "metadata": {
    "collapsed": false,
    "pycharm": {
     "name": "#%%\n"
    }
   }
  },
  {
   "cell_type": "code",
   "execution_count": null,
   "outputs": [],
   "source": [],
   "metadata": {
    "collapsed": false,
    "pycharm": {
     "name": "#%%\n"
    }
   }
  }
 ],
 "metadata": {
  "kernelspec": {
   "display_name": "Python 3",
   "language": "python",
   "name": "python3"
  },
  "language_info": {
   "codemirror_mode": {
    "name": "ipython",
    "version": 3
   },
   "file_extension": ".py",
   "mimetype": "text/x-python",
   "name": "python",
   "nbconvert_exporter": "python",
   "pygments_lexer": "ipython3",
   "version": "3.11.0"
  }
 },
 "nbformat": 4,
 "nbformat_minor": 0
}