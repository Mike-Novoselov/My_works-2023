{
 "cells": [
  {
   "cell_type": "code",
   "execution_count": 1,
   "outputs": [],
   "source": [
    "a = 1"
   ],
   "metadata": {
    "collapsed": false,
    "pycharm": {
     "name": "#%%\n"
    }
   }
  },
  {
   "cell_type": "code",
   "execution_count": 34,
   "outputs": [
    {
     "name": "stdout",
     "output_type": "stream",
     "text": [
      "ваша процентная ставка = 7.5%\n"
     ]
    }
   ],
   "source": [
    "area = input(\"введите регион\")  #  регион\n",
    "children = int(input(\"введите количество детей\"))  #количество детей\n",
    "salary = input(\"зарплатный проект в этом банке?\")  #зарплатный проект в этом банке\n",
    "insurance = input(\"будет оформлена страхование?\")  #будет оформлена страхование\n",
    "base_rate = 10\n",
    "\n",
    "# area = \"liug\"\n",
    "# children = 5\n",
    "# salary = \"fgh\"\n",
    "# insurance = \"да\"\n",
    "# base_rate = 10\n",
    "\n",
    "if children > 3:\n",
    "    base_rate = base_rate - 1\n",
    "if salary == \"да\" or salary == \"Да\" or salary == \"ДА\":\n",
    "    base_rate = base_rate - 0.5\n",
    "if insurance == \"да\" or insurance == \"Да\" or insurance == \"ДА\":\n",
    "    base_rate = base_rate - 1.5\n",
    "if area == \"Дальний Восток\":\n",
    "    base_rate = 2\n",
    "\n",
    "print(f'ваша процентная ставка = {base_rate}%')"
   ],
   "metadata": {
    "collapsed": false,
    "pycharm": {
     "name": "#%%\n"
    }
   }
  },
  {
   "cell_type": "code",
   "execution_count": 32,
   "outputs": [],
   "source": [
    "month = input(\"введите месяц\")\n",
    "day = int(input(\"введите день\"))\n"
   ],
   "metadata": {
    "collapsed": false,
    "pycharm": {
     "name": "#%%\n"
    }
   }
  },
  {
   "cell_type": "code",
   "execution_count": 55,
   "outputs": [
    {
     "name": "stdout",
     "output_type": "stream",
     "text": [
      "Вывод: \n",
      "Рыбы\n"
     ]
    }
   ],
   "source": [
    "month = input(\"введите месяц\")\n",
    "day = int(input(\"введите день\"))\n",
    "\n",
    "if month == 'декабрь':\n",
    "    zodiac = 'Стрелец' if (day < 22) else 'Козерог'\n",
    "elif month == 'январь':\n",
    "    zodiac = 'Козерог' if (day < 20) else 'водолей'\n",
    "elif month == 'февраль':\n",
    "    zodiac = 'Водолей' if (day < 19) else 'рыбы'\n",
    "elif month == 'март':\n",
    "    zodiac = 'Рыбы' if (day < 21) else 'овен'\n",
    "elif month == 'апрель':\n",
    "    zodiac = 'Овен' if (day < 20) else 'Телец'\n",
    "elif month == 'май':\n",
    "    zodiac = 'Телец' if (day < 21) else 'близнецы'\n",
    "elif month == 'июнь':\n",
    "    zodiac = 'Близнецы' if (day < 21) else 'рак'\n",
    "elif month == 'июль':\n",
    "    zodiac = 'Рак' if (day < 23) else 'лев'\n",
    "elif month == 'август':\n",
    "    zodiac = 'Лев' if (day < 23) else 'Дева'\n",
    "elif month == 'сентябрь':\n",
    "    zodiac = 'Дева' if (day < 23) else 'весы'\n",
    "elif month == 'октябрь':\n",
    "    zodiac = 'Весы' if (day < 23) else 'Скорпион'\n",
    "elif month == 'ноябрь':\n",
    "    zodiac = 'скорпион' if (day < 22) else 'стрелец'\n",
    "print(f\"Вывод: \\n{zodiac}\")"
   ],
   "metadata": {
    "collapsed": false,
    "pycharm": {
     "name": "#%%\n"
    }
   }
  },
  {
   "cell_type": "code",
   "execution_count": 57,
   "outputs": [
    {
     "name": "stdout",
     "output_type": "stream",
     "text": [
      "Not Weird\n"
     ]
    }
   ],
   "source": [
    "n = int(input(\"введите n в диапазоне от 1 до 100\"))\n",
    "if n % 2 != 0:\n",
    "    print(\"Weird\")\n",
    "elif n % 2 == 0 and 2 <= n <= 5:\n",
    "    print(\"Not Weird\")\n",
    "elif n % 2 == 0 and 6 <= n <= 20:\n",
    "    print(\"Weird\")\n",
    "elif n % 2 == 0 and n > 20:\n",
    "    print(\"Not Weird\")"
   ],
   "metadata": {
    "collapsed": false,
    "pycharm": {
     "name": "#%%\n"
    }
   }
  },
  {
   "cell_type": "code",
   "execution_count": 56,
   "outputs": [],
   "source": [],
   "metadata": {
    "collapsed": false,
    "pycharm": {
     "name": "#%%\n"
    }
   }
  },
  {
   "cell_type": "code",
   "execution_count": 9,
   "outputs": [
    {
     "name": "stdout",
     "output_type": "stream",
     "text": [
      "Идеальные пары:\n",
      "Alex и Emma\n",
      "Arthur и Kate\n",
      "John и Kira\n",
      "Peter и Liza\n",
      "Richard и Trisha\n"
     ]
    }
   ],
   "source": [
    "boys = [\"Peter\", \"Alex\", \"John\", \"Arthur\", \"Richard\"]\n",
    "girls = [\"Kate\", \"Liza\", \"Kira\", \"Emma\", \"Trisha\"]\n",
    "boys.sort()\n",
    "girls.sort()\n",
    "\n",
    "if len(boys) != len(girls):\n",
    "    print(\"количесто не совподает\")\n",
    "else:\n",
    "    print(\"Идеальные пары:\")\n",
    "    for human1, human2 in zip(boys, girls):\n",
    "        print(f\"{human1} и {human2}\")"
   ],
   "metadata": {
    "collapsed": false,
    "pycharm": {
     "name": "#%%\n"
    }
   }
  },
  {
   "cell_type": "code",
   "execution_count": 4,
   "outputs": [],
   "source": [],
   "metadata": {
    "collapsed": false,
    "pycharm": {
     "name": "#%%\n"
    }
   }
  },
  {
   "cell_type": "code",
   "execution_count": 370,
   "outputs": [
    {
     "name": "stdout",
     "output_type": "stream",
     "text": [
      "Салат:\n",
      "Картофель, 500гр.\n",
      "Морковь, 250гр.\n",
      "Огурцы, 250гр.\n",
      "Горошек, 150гр.\n",
      "Майонец, 350мл.\n",
      "Пица:\n",
      "Сыр, 250гр.\n",
      "Томаты, 250гр.\n",
      "Тесто, 500гр.\n",
      "Бекон, 150гр.\n",
      "Колбаса, 150гр.\n",
      "Грибы, 100гр.\n",
      "Фруктовый десерт:\n",
      "хурма, 300гр.\n",
      "Киви, 300гр.\n",
      "Творог, 300гр.\n",
      "Сахар, 50гр.\n",
      "Мед, 250гр.\n"
     ]
    }
   ],
   "source": [
    "person = 5\n",
    "i = 0  # итая блюд\n",
    "p = 0  # ингридиетнт\n",
    "cook_book = [\n",
    "    [\"Салат\",\n",
    "     [\n",
    "         [\"Картофель\", \"100\", \"гр.\"],\n",
    "         [\"Морковь\", \"50\", \"гр.\"],\n",
    "         [\"Огурцы\", \"50\", \"гр.\"],\n",
    "         [\"Горошек\", \"30\", \"гр.\"],\n",
    "         [\"Майонец\", \"70\", \"мл.\"],\n",
    "     ]\n",
    "     ],\n",
    "    [\"Пица\",\n",
    "     [\n",
    "         [\"Сыр\", \"50\", \"гр.\"],\n",
    "         [\"Томаты\", \"50\", \"гр.\"],\n",
    "         [\"Тесто\", \"100\", \"гр.\"],\n",
    "         [\"Бекон\", \"30\", \"гр.\"],\n",
    "         [\"Колбаса\", \"30\", \"гр.\"],\n",
    "         [\"Грибы\", \"20\", \"гр.\"],\n",
    "     ]\n",
    "     ],\n",
    "    [\"Фруктовый десерт\",\n",
    "     [\n",
    "         [\"хурма\", \"60\", \"гр.\"],\n",
    "         [\"Киви\", \"60\", \"гр.\"],\n",
    "         [\"Творог\", \"60\", \"гр.\"],\n",
    "         [\"Сахар\", \"10\", \"гр.\"],\n",
    "         [\"Мед\", \"50\", \"гр.\"],\n",
    "     ]\n",
    "     ],\n",
    "]\n",
    "x = 0\n",
    "print(f'{cook_book[i][0]}:')\n",
    "\n",
    "while p != len(cook_book[i][1]):  # цикл перебора колво ингридиентов\n",
    "    s = int(cook_book[i][1][p][1]) * person  # граммы умнажаем на кол-во персон\n",
    "    print(f'{cook_book[i][1][p][0]}, {s}{cook_book[i][1][p][2]}')\n",
    "    p += 1\n",
    "\n",
    "i = 1  # итая блюд\n",
    "p = 0  # ингридиетнт\n",
    "x = 0\n",
    "print(f'{cook_book[i][0]}:')\n",
    "\n",
    "while p != len(cook_book[i][1]):  # цикл перебора колво ингридиентов\n",
    "    s = int(cook_book[i][1][p][1]) * person  # граммы умнажаем на кол-во персон\n",
    "    print(f'{cook_book[i][1][p][0]}, {s}{cook_book[i][1][p][2]}')\n",
    "    p += 1\n",
    "\n",
    "i = 2  # итая блюд\n",
    "p = 0  # ингридиетнт\n",
    "x = 0\n",
    "print(f'{cook_book[i][0]}:')\n",
    "\n",
    "while p != len(cook_book[i][1]):  # цикл перебора колво ингридиентов\n",
    "    s = int(cook_book[i][1][p][1]) * person  # граммы умнажаем на кол-во персон\n",
    "    print(f'{cook_book[i][1][p][0]}, {s}{cook_book[i][1][p][2]}')\n",
    "    p += 1\n"
   ],
   "metadata": {
    "collapsed": false,
    "pycharm": {
     "name": "#%%\n"
    }
   }
  },
  {
   "cell_type": "code",
   "execution_count": 370,
   "outputs": [],
   "source": [],
   "metadata": {
    "collapsed": false,
    "pycharm": {
     "name": "#%%\n"
    }
   }
  },
  {
   "cell_type": "code",
   "execution_count": 496,
   "outputs": [
    {
     "name": "stdout",
     "output_type": "stream",
     "text": [
      "\n",
      "Салат:\n",
      "Картофель, 500гр.\n",
      "Морковь, 250гр.\n",
      "Огурцы, 250гр.\n",
      "Горошек, 150гр.\n",
      "Майонец, 350мл.\n",
      "\n",
      "Пица:\n",
      "Сыр, 250гр.\n",
      "Томаты, 250гр.\n",
      "Тесто, 500гр.\n",
      "Бекон, 150гр.\n",
      "Колбаса, 150гр.\n",
      "Грибы, 100гр.\n",
      "\n",
      "Фруктовый десерт:\n",
      "хурма, 300гр.\n",
      "Киви, 300гр.\n",
      "Творог, 300гр.\n",
      "Сахар, 50гр.\n",
      "Мед, 250гр.\n"
     ]
    }
   ],
   "source": [
    "person = 5\n",
    "i = 0  # итая блюд\n",
    "p = 0  # ингридиетнт\n",
    "cook_book = [\n",
    "    [\"Салат\",\n",
    "     [\n",
    "         [\"Картофель\", \"100\", \"гр.\"],\n",
    "         [\"Морковь\", \"50\", \"гр.\"],\n",
    "         [\"Огурцы\", \"50\", \"гр.\"],\n",
    "         [\"Горошек\", \"30\", \"гр.\"],\n",
    "         [\"Майонец\", \"70\", \"мл.\"],\n",
    "     ]\n",
    "     ],\n",
    "    [\"Пица\",\n",
    "     [\n",
    "         [\"Сыр\", \"50\", \"гр.\"],\n",
    "         [\"Томаты\", \"50\", \"гр.\"],\n",
    "         [\"Тесто\", \"100\", \"гр.\"],\n",
    "         [\"Бекон\", \"30\", \"гр.\"],\n",
    "         [\"Колбаса\", \"30\", \"гр.\"],\n",
    "         [\"Грибы\", \"20\", \"гр.\"],\n",
    "     ]\n",
    "     ],\n",
    "    [\"Фруктовый десерт\",\n",
    "     [\n",
    "         [\"хурма\", \"60\", \"гр.\"],\n",
    "         [\"Киви\", \"60\", \"гр.\"],\n",
    "         [\"Творог\", \"60\", \"гр.\"],\n",
    "         [\"Сахар\", \"10\", \"гр.\"],\n",
    "         [\"Мед\", \"50\", \"гр.\"],\n",
    "     ]\n",
    "     ],\n",
    "]\n",
    "# if i>0:\n",
    "print(f'\\n{cook_book[i][0]}:')\n",
    "\n",
    "while p != len(cook_book[i][1]):  # цикл перебора колво ингридиентов\n",
    "    s = int(cook_book[i][1][p][1]) * person  # граммы умнажаем на кол-во персон\n",
    "    print(f'{cook_book[i][1][p][0]}, {s}{cook_book[i][1][p][2]}')\n",
    "    p += 1\n",
    "else:\n",
    "    if i <= len(cook_book):\n",
    "        i += 1\n",
    "        p = 0\n",
    "        x = 0\n",
    "    else:\n",
    "        print(\"конец\")\n",
    "\n",
    "print(f'\\n{cook_book[i][0]}:')\n",
    "while p != len(cook_book[i][1]):  # цикл перебора колво ингридиентов\n",
    "    s = int(cook_book[i][1][p][1]) * person  # граммы умнажаем на кол-во персон\n",
    "    print(f'{cook_book[i][1][p][0]}, {s}{cook_book[i][1][p][2]}')\n",
    "    p += 1\n",
    "else:\n",
    "    if i <= len(cook_book):\n",
    "        i += 1\n",
    "        p = 0\n",
    "        x = 0\n",
    "    else:\n",
    "        print(\"конец\")\n",
    "\n",
    "print(f'\\n{cook_book[i][0]}:')\n",
    "while p != len(cook_book[i][1]):  # цикл перебора колво ингридиентов\n",
    "    s = int(cook_book[i][1][p][1]) * person  # граммы умнажаем на кол-во персон\n",
    "    print(f'{cook_book[i][1][p][0]}, {s}{cook_book[i][1][p][2]}')\n",
    "    p += 1\n",
    "else:\n",
    "    if i <= len(cook_book):\n",
    "        i += 1\n",
    "        p = 0\n",
    "        x = 0\n",
    "    else:\n",
    "        print(\"конец\")"
   ],
   "metadata": {
    "collapsed": false,
    "pycharm": {
     "name": "#%%\n"
    }
   }
  },
  {
   "cell_type": "code",
   "execution_count": 493,
   "outputs": [
    {
     "data": {
      "text/plain": "3"
     },
     "execution_count": 493,
     "metadata": {},
     "output_type": "execute_result"
    }
   ],
   "source": [
    "len(cook_book)"
   ],
   "metadata": {
    "collapsed": false,
    "pycharm": {
     "name": "#%%\n"
    }
   }
  },
  {
   "cell_type": "code",
   "execution_count": null,
   "outputs": [],
   "source": [],
   "metadata": {
    "collapsed": false,
    "pycharm": {
     "name": "#%%\n"
    }
   }
  },
  {
   "cell_type": "code",
   "execution_count": 438,
   "outputs": [
    {
     "ename": "SyntaxError",
     "evalue": "'break' outside loop (961509779.py, line 3)",
     "output_type": "error",
     "traceback": [
      "\u001B[1;36m  Cell \u001B[1;32mIn [438], line 3\u001B[1;36m\u001B[0m\n\u001B[1;33m    break\u001B[0m\n\u001B[1;37m    ^\u001B[0m\n\u001B[1;31mSyntaxError\u001B[0m\u001B[1;31m:\u001B[0m 'break' outside loop\n"
     ]
    }
   ],
   "source": [
    "if i <= len(cook_book):\n",
    "    print(\"Списпок бла бла\")\n",
    "    break\n",
    "else:\n",
    "    print(f'{cook_book[i][0]}:')\n",
    "i += 1\n",
    "p = 0\n",
    "x = 0\n",
    "while p != len(cook_book[i][1]):  # цикл перебора колво ингридиентов\n",
    "    s = int(cook_book[i][1][p][1]) * person  # граммы умнажаем на кол-во персон\n",
    "    print(f'{cook_book[i][1][p][0]}, {s}{cook_book[i][1][p][2]}')\n",
    "    p += 1"
   ],
   "metadata": {
    "collapsed": false,
    "pycharm": {
     "name": "#%%\n"
    }
   }
  },
  {
   "cell_type": "code",
   "execution_count": null,
   "outputs": [],
   "source": [],
   "metadata": {
    "collapsed": false,
    "pycharm": {
     "name": "#%%\n"
    }
   }
  },
  {
   "cell_type": "code",
   "execution_count": 507,
   "outputs": [
    {
     "data": {
      "text/plain": "[['Салат',\n  [['Картофель', '100', 'гр.'],\n   ['Морковь', '50', 'гр.'],\n   ['Огурцы', '50', 'гр.'],\n   ['Горошек', '30', 'гр.'],\n   ['Майонец', '70', 'мл.']]],\n ['Пица',\n  [['Сыр', '50', 'гр.'],\n   ['Томаты', '50', 'гр.'],\n   ['Тесто', '100', 'гр.'],\n   ['Бекон', '30', 'гр.'],\n   ['Колбаса', '30', 'гр.'],\n   ['Грибы', '20', 'гр.']]],\n ['Фруктовый десерт',\n  [['хурма', '60', 'гр.'],\n   ['Киви', '60', 'гр.'],\n   ['Творог', '60', 'гр.'],\n   ['Сахар', '10', 'гр.'],\n   ['Мед', '50', 'гр.']]]]"
     },
     "execution_count": 507,
     "metadata": {},
     "output_type": "execute_result"
    }
   ],
   "source": [
    "person = 5\n",
    "i = 0  # итая блюд\n",
    "p = 0  # ингридиетнт\n",
    "cook_book = [\n",
    "    [\"Салат\",\n",
    "     [\n",
    "         [\"Картофель\", \"100\", \"гр.\"],\n",
    "         [\"Морковь\", \"50\", \"гр.\"],\n",
    "         [\"Огурцы\", \"50\", \"гр.\"],\n",
    "         [\"Горошек\", \"30\", \"гр.\"],\n",
    "         [\"Майонец\", \"70\", \"мл.\"],\n",
    "     ]\n",
    "     ],\n",
    "    [\"Пица\",\n",
    "     [\n",
    "         [\"Сыр\", \"50\", \"гр.\"],\n",
    "         [\"Томаты\", \"50\", \"гр.\"],\n",
    "         [\"Тесто\", \"100\", \"гр.\"],\n",
    "         [\"Бекон\", \"30\", \"гр.\"],\n",
    "         [\"Колбаса\", \"30\", \"гр.\"],\n",
    "         [\"Грибы\", \"20\", \"гр.\"],\n",
    "     ]\n",
    "     ],\n",
    "    [\"Фруктовый десерт\",\n",
    "     [\n",
    "         [\"хурма\", \"60\", \"гр.\"],\n",
    "         [\"Киви\", \"60\", \"гр.\"],\n",
    "         [\"Творог\", \"60\", \"гр.\"],\n",
    "         [\"Сахар\", \"10\", \"гр.\"],\n",
    "         [\"Мед\", \"50\", \"гр.\"],\n",
    "     ]\n",
    "     ],\n",
    "]\n",
    "d = cook_book.copy()\n",
    "\n",
    "d"
   ],
   "metadata": {
    "collapsed": false,
    "pycharm": {
     "name": "#%%\n"
    }
   }
  },
  {
   "cell_type": "code",
   "execution_count": null,
   "outputs": [],
   "source": [
    "person = 5\n",
    "i = 0  # итая блюд\n",
    "p = 0  # ингридиетнт\n",
    "x = 0\n",
    "\n",
    "for j in range(len(cook_book)):\n",
    "    print(f'\\n{cook_book[i][0]}:')\n",
    "    while p != len(cook_book[0][1]):  # цикл перебора колво ингридиентов\n",
    "        s = int(cook_book[i][1][p][1]) * person  # граммы умнажаем на кол-во персон\n",
    "        print(f'{cook_book[i][1][p][0]}, {s}{cook_book[i][1][p][2]}')\n",
    "        p += 1\n",
    "    else:\n",
    "        if i <= 3:\n",
    "            i += 1\n",
    "            p = 0\n",
    "            x = 0"
   ],
   "metadata": {
    "collapsed": false,
    "pycharm": {
     "name": "#%%\n"
    }
   }
  },
  {
   "cell_type": "code",
   "execution_count": null,
   "outputs": [],
   "source": [
    "\n",
    "\n",
    "\n",
    "person = 5\n",
    "i = 0  # итая блюд\n",
    "p = 0  # ингридиетнт\n",
    "x = 0\n",
    "\n",
    "for j in range(len(cook_book)):\n",
    "    print(f'\\n{cook_book[i][0]}:')\n",
    "    while p != len(cook_book[0][1]):  # цикл перебора колво ингридиентов\n",
    "        s = int(cook_book[i][1][p][1]) * person  # граммы умнажаем на кол-во персон\n",
    "        print(f'{cook_book[i][1][p][0]}, {s}{cook_book[i][1][p][2]}')\n",
    "        p += 1\n",
    "    else:\n",
    "        if i <= len(cook_book):\n",
    "            i += 1\n",
    "            p = 0\n",
    "            x = 0"
   ],
   "metadata": {
    "collapsed": false,
    "pycharm": {
     "name": "#%%\n"
    }
   }
  },
  {
   "cell_type": "code",
   "execution_count": 11,
   "outputs": [],
   "source": [],
   "metadata": {
    "collapsed": false,
    "pycharm": {
     "name": "#%%\n"
    }
   }
  },
  {
   "cell_type": "code",
   "execution_count": 3,
   "outputs": [
    {
     "name": "stdout",
     "output_type": "stream",
     "text": [
      "3\n",
      "4\n",
      "5\n"
     ]
    }
   ],
   "source": [
    "for i in range(3, 6):\n",
    "    print(i)"
   ],
   "metadata": {
    "collapsed": false,
    "pycharm": {
     "name": "#%%\n"
    }
   }
  },
  {
   "cell_type": "code",
   "execution_count": 4,
   "outputs": [
    {
     "name": "stdout",
     "output_type": "stream",
     "text": [
      "J\n",
      "o\n",
      "h\n",
      "n\n"
     ]
    }
   ],
   "source": [
    "name = \"John\"\n",
    "for l in name:\n",
    "    print(l)"
   ],
   "metadata": {
    "collapsed": false,
    "pycharm": {
     "name": "#%%\n"
    }
   }
  },
  {
   "cell_type": "code",
   "execution_count": 5,
   "outputs": [
    {
     "name": "stdout",
     "output_type": "stream",
     "text": [
      "john\n",
      "silver\n",
      "22\n"
     ]
    }
   ],
   "source": [
    "person_ = (\"john\", \"silver\", 22)\n",
    "for item_ in person_:\n",
    "    print(item_)"
   ],
   "metadata": {
    "collapsed": false,
    "pycharm": {
     "name": "#%%\n"
    }
   }
  },
  {
   "cell_type": "code",
   "execution_count": 6,
   "outputs": [
    {
     "data": {
      "text/plain": "tuple"
     },
     "execution_count": 6,
     "metadata": {},
     "output_type": "execute_result"
    }
   ],
   "source": [
    "type(person_)"
   ],
   "metadata": {
    "collapsed": false,
    "pycharm": {
     "name": "#%%\n"
    }
   }
  },
  {
   "cell_type": "code",
   "execution_count": null,
   "outputs": [],
   "source": [],
   "metadata": {
    "collapsed": false,
    "pycharm": {
     "name": "#%%\n"
    }
   }
  },
  {
   "cell_type": "code",
   "execution_count": 8,
   "outputs": [
    {
     "name": "stdout",
     "output_type": "stream",
     "text": [
      "3\n",
      "John is 22 year old\n",
      "Bob is 32 year old\n",
      "Dave is 20 year old\n"
     ]
    }
   ],
   "source": [
    "persons = [(\"John\", \"22\"), (\"Bob\", \"32\"), (\"Dave\", \"20\")]\n",
    "print(len(persons))\n",
    "\n",
    "for (name, age) in persons:\n",
    "    print(f\"{name} is {age} year old\")"
   ],
   "metadata": {
    "collapsed": false,
    "pycharm": {
     "name": "#%%\n"
    }
   }
  },
  {
   "cell_type": "code",
   "execution_count": null,
   "outputs": [],
   "source": [],
   "metadata": {
    "collapsed": false,
    "pycharm": {
     "name": "#%%\n"
    }
   }
  },
  {
   "cell_type": "code",
   "execution_count": 12,
   "outputs": [
    {
     "name": "stdout",
     "output_type": "stream",
     "text": [
      "-5:-6 I -2:-2 I 2:2 I 4:3 I 6:5 I 8:8 I "
     ]
    }
   ],
   "source": [
    "list1 = [2, 4, -5, 6, 8, -2]\n",
    "list2 = [2, -6, 8, 3, 5, -2]\n",
    "list1.sort()\n",
    "list2.sort()\n",
    "for name, number in zip(list1, list2):\n",
    "    print(name, number, sep=\":\", end=\" I \")"
   ],
   "metadata": {
    "collapsed": false,
    "pycharm": {
     "name": "#%%\n"
    }
   }
  },
  {
   "cell_type": "code",
   "execution_count": null,
   "outputs": [],
   "source": [],
   "metadata": {
    "collapsed": false,
    "pycharm": {
     "name": "#%%\n"
    }
   }
  },
  {
   "cell_type": "code",
   "execution_count": 2,
   "outputs": [],
   "source": [
    "languages = {\"Python\": \"Иванов\",\n",
    "             \"C#\": \"Питров\",\n",
    "             \"Java\": \"Баширов\",\n",
    "             \"C++\": \"Сидоров\"}"
   ],
   "metadata": {
    "collapsed": false,
    "pycharm": {
     "name": "#%%\n"
    }
   }
  },
  {
   "cell_type": "code",
   "execution_count": 4,
   "outputs": [
    {
     "data": {
      "text/plain": "dict_keys(['Python', 'C#', 'Java', 'C++'])"
     },
     "execution_count": 4,
     "metadata": {},
     "output_type": "execute_result"
    }
   ],
   "source": [
    "languages.keys()"
   ],
   "metadata": {
    "collapsed": false,
    "pycharm": {
     "name": "#%%\n"
    }
   }
  },
  {
   "cell_type": "code",
   "execution_count": 5,
   "outputs": [
    {
     "data": {
      "text/plain": "dict_items([('Python', 'Иванов'), ('C#', 'Питров'), ('Java', 'Баширов'), ('C++', 'Сидоров')])"
     },
     "execution_count": 5,
     "metadata": {},
     "output_type": "execute_result"
    }
   ],
   "source": [
    "languages.items()"
   ],
   "metadata": {
    "collapsed": false,
    "pycharm": {
     "name": "#%%\n"
    }
   }
  },
  {
   "cell_type": "code",
   "execution_count": 8,
   "outputs": [
    {
     "data": {
      "text/plain": "dict_values(['Иванов', 'Питров', 'Баширов', 'Сидоров'])"
     },
     "execution_count": 8,
     "metadata": {},
     "output_type": "execute_result"
    }
   ],
   "source": [
    "languages.values()"
   ],
   "metadata": {
    "collapsed": false,
    "pycharm": {
     "name": "#%%\n"
    }
   }
  },
  {
   "cell_type": "code",
   "execution_count": 9,
   "outputs": [
    {
     "data": {
      "text/plain": "'Сидоров'"
     },
     "execution_count": 9,
     "metadata": {},
     "output_type": "execute_result"
    }
   ],
   "source": [
    "languages[\"C++\"]"
   ],
   "metadata": {
    "collapsed": false,
    "pycharm": {
     "name": "#%%\n"
    }
   }
  },
  {
   "cell_type": "code",
   "execution_count": 27,
   "outputs": [],
   "source": [
    "languages.get(\"C+\", None)"
   ],
   "metadata": {
    "collapsed": false,
    "pycharm": {
     "name": "#%%\n"
    }
   }
  },
  {
   "cell_type": "code",
   "execution_count": 30,
   "outputs": [
    {
     "name": "stdout",
     "output_type": "stream",
     "text": [
      "Нету\n"
     ]
    }
   ],
   "source": [
    "print(languages.get(\"C+\", \"Нету\"))"
   ],
   "metadata": {
    "collapsed": false,
    "pycharm": {
     "name": "#%%\n"
    }
   }
  },
  {
   "cell_type": "code",
   "execution_count": 26,
   "outputs": [
    {
     "name": "stdout",
     "output_type": "stream",
     "text": [
      "None\n"
     ]
    }
   ],
   "source": [
    "x = {'one': 1, 'two': 2, 'three': 3, 'four': 4}\n",
    "x.get('two', 0)\n",
    "x.get('four', 0)\n",
    "x.get('ten', 0)\n",
    "print(x.get('six'))\n"
   ],
   "metadata": {
    "collapsed": false,
    "pycharm": {
     "name": "#%%\n"
    }
   }
  },
  {
   "cell_type": "code",
   "execution_count": 32,
   "outputs": [
    {
     "name": "stdout",
     "output_type": "stream",
     "text": [
      "{'name': None, 'age': None, 'job': None}\n"
     ]
    }
   ],
   "source": [
    "dict1 = dict.fromkeys([\"name\", \"age\", \"job\"])\n",
    "print(dict1)"
   ],
   "metadata": {
    "collapsed": false,
    "pycharm": {
     "name": "#%%\n"
    }
   }
  },
  {
   "cell_type": "code",
   "execution_count": 33,
   "outputs": [
    {
     "name": "stdout",
     "output_type": "stream",
     "text": [
      "{'name': 'Stas', 'age': None, 'job': None, 'gender': 'male'}\n"
     ]
    }
   ],
   "source": [
    "dict1[\"name\"] = \"Ivan\"\n",
    "dict1[\"name\"] = \"Stas\"\n",
    "dict1[\"gender\"] = \"male\"\n",
    "print(dict1)"
   ],
   "metadata": {
    "collapsed": false,
    "pycharm": {
     "name": "#%%\n"
    }
   }
  },
  {
   "cell_type": "code",
   "execution_count": null,
   "outputs": [],
   "source": [],
   "metadata": {
    "collapsed": false,
    "pycharm": {
     "name": "#%%\n"
    }
   }
  },
  {
   "cell_type": "code",
   "execution_count": 3,
   "outputs": [
    {
     "name": "stdout",
     "output_type": "stream",
     "text": [
      "cpc yandex 2018-01-01\n"
     ]
    }
   ],
   "source": [
    "lst = ['2018-01-01', 'yandex', 'cpc', 100]\n",
    "my_dict = {}\n",
    "my_dict[lst[-2]] = lst[-1]  #добавляю в словарь ключом предпоследний элемент списка, значением последний элемент\n",
    "del lst[-1]  # удаляю последний элемент\n",
    "del lst[-1]  # удаляю предпоследний элемент\n",
    "for i in reversed(lst):\n",
    "    my_dict[i] = my_dict\n",
    "print(*my_dict)"
   ],
   "metadata": {
    "collapsed": false,
    "pycharm": {
     "name": "#%%\n"
    }
   }
  },
  {
   "cell_type": "code",
   "execution_count": 4,
   "outputs": [
    {
     "name": "stdout",
     "output_type": "stream",
     "text": [
      "Можем фильтровать по: ru, in, po, fr\n",
      "{'visit1': ['Москва', 'Россия']}\n",
      "{'visit3': ['Владимир', 'Россия']}\n",
      "{'visit7': ['Тула', 'Россия']}\n",
      "{'visit8': ['Тула', 'Россия']}\n",
      "{'visit9': ['Курск', 'Россия']}\n",
      "{'visit10': ['Архангельск', 'Россия']}\n"
     ]
    }
   ],
   "source": [
    "\"\"\"Простой фильтр по списку\n",
    "\"\"\"\n",
    "\n",
    "\n",
    "def main():\n",
    "    def filter_(dct: dict, code_: str) -> bool:\n",
    "        \"\"\"Проверяем на вхождение страны в списке значений\"\"\"\n",
    "        return any(filter(lambda x: code_ in x, dct.values()))\n",
    "\n",
    "    geo_logs = [{'visit1': ['Москва', 'Россия']},\n",
    "                {'visit2': ['Дели', 'Индия']},\n",
    "                {'visit3': ['Владимир', 'Россия']},\n",
    "                {'visit4': ['Лиссабон', 'Португалия']},\n",
    "                {'visit5': ['Париж', 'Франция']},\n",
    "                {'visit6': ['Лиссабон', 'Португалия']},\n",
    "                {'visit7': ['Тула', 'Россия']},\n",
    "                {'visit8': ['Тула', 'Россия']},\n",
    "                {'visit9': ['Курск', 'Россия']},\n",
    "                {'visit10': ['Архангельск', 'Россия']}]\n",
    "\n",
    "    country = {'ru': 'Россия', 'in': 'Индия', 'po': 'Португалия', 'fr': 'Франция'}\n",
    "    # выбрали страну\n",
    "    print('Можем фильтровать по: ', end='')\n",
    "    print(*country.keys(), sep=', ')\n",
    "\n",
    "    choise = country.get(input('Код какой страны необходим? '))\n",
    "    # фильтруем\n",
    "    filtered_geo_logs = filter(lambda item: filter_(item, choise), geo_logs)\n",
    "    # это итератор, он потерялся как вывели на принт\n",
    "    print(*filtered_geo_logs, sep='\\n')\n",
    "\n",
    "\n",
    "if __name__ == '__main__':\n",
    "    main()"
   ],
   "metadata": {
    "collapsed": false,
    "pycharm": {
     "name": "#%%\n"
    }
   }
  },
  {
   "cell_type": "code",
   "execution_count": 9,
   "outputs": [
    {
     "name": "stdout",
     "output_type": "stream",
     "text": [
      "[{'Петров': ['Python', 'Java']},\n",
      " {'Баширов': ['C++', 'Python', 'Java', 'C#']},\n",
      " {'Смирнов': ['Java', 'C#']}]\n"
     ]
    }
   ],
   "source": [
    "from pprint import pprint\n",
    "\n",
    "languages = [\n",
    "    {\"Иванов\": [\"Python\", \"C#\"]},\n",
    "    {\"Иванов\": [\"C++\", \"java\", \"C#\"]},\n",
    "    {\"Петров\": [\"Python\", \"Java\"]},\n",
    "    {\"Баширов\": [\"C++\", \"Python\", \"Java\", \"C#\"]},\n",
    "    {\"Васин\": [\"C++\", \"C#\"]},\n",
    "    {\"Смирнов\": [\"Java\", \"C#\"]}\n",
    "]\n",
    "lng_log = []\n",
    "for i in languages:\n",
    "    # print(i)\n",
    "    # i=i.values()\n",
    "    for j in i.values():\n",
    "        # print(j)\n",
    "        for s in range(len(j)):\n",
    "            if j[s] == \"Java\":\n",
    "                lng_log.append(i)\n",
    "pprint(lng_log)"
   ],
   "metadata": {
    "collapsed": false,
    "pycharm": {
     "name": "#%%\n"
    }
   }
  },
  {
   "cell_type": "code",
   "execution_count": 6,
   "outputs": [],
   "source": [],
   "metadata": {
    "collapsed": false,
    "pycharm": {
     "name": "#%%\n"
    }
   }
  },
  {
   "cell_type": "code",
   "execution_count": 108,
   "outputs": [
    {
     "name": "stdout",
     "output_type": "stream",
     "text": [
      "[{'visit1': ['Москва', 'Россия']},\n",
      " {'visit3': ['Владимир', 'Россия']},\n",
      " {'visit7': ['Тула', 'Россия']},\n",
      " {'visit8': ['Тула', 'Россия']},\n",
      " {'visit9': ['Курск', 'Россия']},\n",
      " {'visit10': ['Арханшельск', 'Россия']}]\n"
     ]
    }
   ],
   "source": [
    "                                                                                            # РЕШЕНО 1\n",
    "# Задание 1\n",
    "# Дан список с визитами по городам и странам. Напишите код, который возвращает\n",
    "# отфильтрованный список geo_logs, содержащий только визиты из России.\"\n",
    "\n",
    "from pprint import pprint\n",
    "\n",
    "geo_log = [\n",
    "    {\"visit1\": [\"Москва\", \"Россия\"]},\n",
    "    {\"visit2\": [\"Дели\", \"Индия\"]},\n",
    "    {\"visit3\": [\"Владимир\", \"Россия\"]},\n",
    "    {\"visit4\": [\"Лиссабон\", \"Португалия\"]},\n",
    "    {\"visit5\": [\"Париж\", \"Франция\"]},\n",
    "    {\"visit6\": [\"Лиссабон\", \"Португалия\"]},\n",
    "    {\"visit7\": [\"Тула\", \"Россия\"]},\n",
    "    {\"visit8\": [\"Тула\", \"Россия\"]},\n",
    "    {\"visit9\": [\"Курск\", \"Россия\"]},\n",
    "    {\"visit10\": [\"Арханшельск\", \"Россия\"]},\n",
    "]\n",
    "sortd_ = []\n",
    "for i in geo_log:\n",
    "    # print(i)\n",
    "    # i=i.values()\n",
    "    for j in i.values():\n",
    "        # print(j)\n",
    "        for s in range(len(j)):\n",
    "            if j[s] == \"Россия\":\n",
    "                sortd_.append(i)\n",
    "pprint(sortd_)"
   ],
   "metadata": {
    "collapsed": false,
    "pycharm": {
     "name": "#%%\n"
    }
   }
  },
  {
   "cell_type": "code",
   "execution_count": null,
   "outputs": [],
   "source": [],
   "metadata": {
    "collapsed": false,
    "pycharm": {
     "name": "#%%\n"
    }
   }
  },
  {
   "cell_type": "code",
   "execution_count": 21,
   "outputs": [
    {
     "name": "stdout",
     "output_type": "stream",
     "text": [
      "user1 [213, 213, 213, 15, 213]\n",
      "user2 [54, 54, 119, 119, 119]\n",
      "user3 [213, 98, 98, 35]\n",
      "15 35 54 98 119 213\n"
     ]
    }
   ],
   "source": [
    "ids = {\n",
    "    'user1': [213, 213, 213, 15, 213],\n",
    "    'user2': [54, 54, 119, 119, 119],\n",
    "    'user3': [213, 98, 98, 35]\n",
    "}\n",
    "for key, value in ids.items():\n",
    "    print(key, value)\n",
    "set_ids = set([x for value in ids.values() for x in value])\n",
    "print(*sorted(set_ids))"
   ],
   "metadata": {
    "collapsed": false,
    "pycharm": {
     "name": "#%%\n"
    }
   }
  },
  {
   "cell_type": "code",
   "execution_count": 18,
   "outputs": [],
   "source": [],
   "metadata": {
    "collapsed": false,
    "pycharm": {
     "name": "#%%\n"
    }
   }
  },
  {
   "cell_type": "code",
   "execution_count": 81,
   "outputs": [
    {
     "name": "stdout",
     "output_type": "stream",
     "text": [
      "[98, 35, 15, 213, 54, 119]\n"
     ]
    }
   ],
   "source": [
    "# Задание 2\t\t\t\t\t\t\t\t\t\t\t\t\t\t\t\t\t\t\t\t# РЕШЕНО 2\n",
    "# Выведите на экран все уникальные гео-ID из значений словаря ids.\n",
    "# Т.е. список вида [213, 15, 54, 119, 98, 35]\n",
    "\n",
    "ids = {'user1': [213, 213, 213, 15, 213],\n",
    "       'user2': [54, 54, 119, 119, 119],\n",
    "       'user3': [213, 98, 98, 35]}\n",
    "set_ = set()\n",
    "\n",
    "for i in ids.values():\n",
    "    for j in i:\n",
    "        set_.add(j)\n",
    "\n",
    "print(list(set_))"
   ],
   "metadata": {
    "collapsed": false,
    "pycharm": {
     "name": "#%%\n"
    }
   }
  },
  {
   "cell_type": "code",
   "execution_count": 33,
   "outputs": [
    {
     "data": {
      "text/plain": "{1, 2}"
     },
     "execution_count": 33,
     "metadata": {},
     "output_type": "execute_result"
    }
   ],
   "source": [
    "myset00 = {1, 1, 1, 1, 1, 1, 2}\n",
    "myset00"
   ],
   "metadata": {
    "collapsed": false,
    "pycharm": {
     "name": "#%%\n"
    }
   }
  },
  {
   "cell_type": "code",
   "execution_count": 34,
   "outputs": [
    {
     "ename": "SyntaxError",
     "evalue": "unexpected character after line continuation character (3407907462.py, line 1)",
     "output_type": "error",
     "traceback": [
      "\u001B[1;36m  Cell \u001B[1;32mIn [34], line 1\u001B[1;36m\u001B[0m\n\u001B[1;33m    \\|/\u001B[0m\n\u001B[1;37m     ^\u001B[0m\n\u001B[1;31mSyntaxError\u001B[0m\u001B[1;31m:\u001B[0m unexpected character after line continuation character\n"
     ]
    }
   ],
   "source": [
    "\\ | /"
   ],
   "metadata": {
    "collapsed": false,
    "pycharm": {
     "name": "#%%\n"
    }
   }
  },
  {
   "cell_type": "code",
   "execution_count": 1,
   "outputs": [
    {
     "name": "stdout",
     "output_type": "stream",
     "text": [
      "Запросы из 2 слов составляет 42 %\n",
      "Запросы из 3 слов составляет 57 %\n"
     ]
    }
   ],
   "source": [
    "# Задание 3\t\t\t\t\t\t\t\t\t\t\t\t\t\t\t\t\t\t\t\t\t\t\t\t\t#Решено 3\n",
    "# Дан список поисковых запросов. Получить распределение количества слов в них. Т.е. поисковых\n",
    "# запросов из одного - слова 5%, из двух - 7%, из трех - 3% и т.д\n",
    "\n",
    "queries = [\n",
    "    \"смотреть сериалы онлайн\",\n",
    "    \"новости спорта\",\n",
    "    \"афиша кино\",\n",
    "    \"курс доллара\",\n",
    "    \"сериалы этим летом\",\n",
    "    \"курс по питону\",\n",
    "    \"сериалы про спорт\"  #,\n",
    "    # \"сериалы этим летом летом\",\n",
    "    # \"курс по питону\",\n",
    "    # \"сериалы про спорт\"\n",
    "]\n",
    "\n",
    "_dict1 = {}\n",
    "# len(queries)\n",
    "# len(i.split(\" \"))\n",
    "percent = 100 / len(queries)\n",
    "\n",
    "for i in queries:\n",
    "    x = len(i.split(\" \"))\n",
    "    if x in _dict1:\n",
    "        _dict1[x] += 1\n",
    "    else:\n",
    "        _dict1[x] = 1\n",
    "    # print(*_dict1)\n",
    "for x, z in sorted(_dict1.items()):\n",
    "    print(f\"Запросы из {x} слов составляет {(int(z * percent))} %\")"
   ],
   "metadata": {
    "collapsed": false,
    "pycharm": {
     "name": "#%%\n"
    }
   }
  },
  {
   "cell_type": "code",
   "execution_count": 2,
   "outputs": [],
   "source": [],
   "metadata": {
    "collapsed": false,
    "pycharm": {
     "name": "#%%\n"
    }
   }
  },
  {
   "cell_type": "code",
   "execution_count": 166,
   "outputs": [
    {
     "name": "stdout",
     "output_type": "stream",
     "text": [
      "yandex\n"
     ]
    }
   ],
   "source": [
    "# Задание 4\t\t\t\t\t\t\t\t\t\t\t\t\t\t\t\t\t\t\t\t\t\t\t\t\t\t\tРЕШЕНО 4\n",
    "# Дана статистика рекламных каналов по объемам продаж.\n",
    "# Напишите скрипт, который возвращает название канала с максимальным объемом.\n",
    "# Т.е. в данном примере скрипт должен возвращать ‘yandex’\n",
    "\n",
    "stats = {'yandex': 120, 'vk': 115, 'google': 99, 'email': 42, 'ok': 98}\n",
    "# stats = {'yandex': 120, 'vk': 115, 'google': 99, 'email': 42, 'ok': 198}\n",
    "stats_items = stats.items()  # достаем  ключи\n",
    "stats_items_list = list(stats_items)  # преобразуем ключи в список\n",
    "stats_items_list.sort(key=lambda x: x[1], reverse=True)\n",
    "print(stats_items_list[0][0])"
   ],
   "metadata": {
    "collapsed": false,
    "pycharm": {
     "name": "#%%\n"
    }
   }
  },
  {
   "cell_type": "code",
   "execution_count": 12,
   "outputs": [],
   "source": [],
   "metadata": {
    "collapsed": false,
    "pycharm": {
     "name": "#%%\n"
    }
   }
  },
  {
   "cell_type": "code",
   "execution_count": 172,
   "outputs": [
    {
     "name": "stdout",
     "output_type": "stream",
     "text": [
      "{'2018-01-01': {'yandex': {'cpc': 100}}}\n"
     ]
    }
   ],
   "source": [
    "                                                # более рабочья не моё\n",
    "lst = ['2018-01-01', 'yandex', 'cpc', 100]\n",
    "my_dict = {}\n",
    "tmp = {}\n",
    "my_dict[lst[-2]] = lst[-1]  #добавляю в словарь с ключом предпоследний элемент списка, значени ...\n",
    "del lst[-1]  # удалаю последний элемент\n",
    "del lst[-1]  # удалаю предпоследний последний элемент\n",
    "for i in reversed(lst):\n",
    "    tmp = {i: my_dict}\n",
    "    my_dict = tmp\n",
    "print(my_dict)"
   ],
   "metadata": {
    "collapsed": false,
    "pycharm": {
     "name": "#%%\n"
    }
   }
  },
  {
   "cell_type": "code",
   "execution_count": 175,
   "outputs": [],
   "source": [],
   "metadata": {
    "collapsed": false,
    "pycharm": {
     "name": "#%%\n"
    }
   }
  },
  {
   "cell_type": "code",
   "execution_count": 176,
   "outputs": [
    {
     "name": "stdout",
     "output_type": "stream",
     "text": [
      "{'2018-01-01': {'yandex': {'cpc': 100}}}\n"
     ]
    }
   ],
   "source": [
    "#Задание №5\t\t\t\t\t\t\t\t\t\t# более рабочья не моё\n",
    "lst = ['2018-01-01', 'yandex', 'cpc', 100]\n",
    "my_dict = {}\n",
    "my_dict_1 = {}\n",
    "my_dict[lst[-2]] = lst[-1]  #добавляю в словарь ключом предпоследний элемент списка, значением последний элемент\n",
    "del lst[-1]  # удаляю последний элемент\n",
    "del lst[-1]  # удаляю предпоследний элемент\n",
    "for i in reversed(lst):  #перебираю список в обратном порядке\n",
    "    my_dict_1 = {i: my_dict}  # во временный словарь помещаю ключ i и основной словарь в качестве переменной\n",
    "    my_dict = my_dict_1  #присваиваю основному словарю пары ключ/значние из временного словаря\n",
    "print(my_dict)"
   ],
   "metadata": {
    "collapsed": false,
    "pycharm": {
     "name": "#%%\n"
    }
   }
  },
  {
   "cell_type": "code",
   "execution_count": null,
   "outputs": [],
   "source": [],
   "metadata": {
    "collapsed": false,
    "pycharm": {
     "name": "#%%\n"
    }
   }
  },
  {
   "cell_type": "code",
   "execution_count": 181,
   "outputs": [
    {
     "name": "stdout",
     "output_type": "stream",
     "text": [
      "{'2018-01-01': {'yandex': {'cpc': 100}}}\n"
     ]
    }
   ],
   "source": [
    "                                                                                            #решено 5\n",
    "lst = ['2018-01-01', 'yandex', 'cpc', 100]\n",
    "# lst = ['2018-01-01', 'yandex', 'cpc', 100, 777]\n",
    "\n",
    "Dict_1 = {}\n",
    "Dict_2 = {}\n",
    "\n",
    "Dict_1[lst[-2]] = lst[-1]  # наполняем словарь из списка - ключ [-2], значение [-1]\n",
    "# print(Dict_1)\n",
    "del lst[-1]  # удаляем элементы которые уже поместили в Dict_1\n",
    "del lst[-1]  # ---\n",
    "\n",
    "for i in reversed(lst):  # функция перебору с условием reversed(в обратном порядке)\n",
    "    Dict_2 = {i: Dict_1}  # помещяем ключ i и значение \"словрь Dict_1\"\n",
    "    Dict_1 = Dict_2  # присваиваем \"Dict_1\" сформированый словарь \"Dict_2\"\n",
    "print(Dict_1)"
   ],
   "metadata": {
    "collapsed": false,
    "pycharm": {
     "name": "#%%\n"
    }
   }
  },
  {
   "cell_type": "code",
   "execution_count": 176,
   "outputs": [],
   "source": [],
   "metadata": {
    "collapsed": false,
    "pycharm": {
     "name": "#%%\n"
    }
   }
  },
  {
   "cell_type": "code",
   "execution_count": 21,
   "outputs": [
    {
     "name": "stdout",
     "output_type": "stream",
     "text": [
      "1600 Хаха\n",
      "320.0\n"
     ]
    }
   ],
   "source": [
    "def square(number):\n",
    "    result = number **2\n",
    "    print(f\"{result} Хаха\")\n",
    "    return result\n",
    "\n",
    "\n",
    "res = square(40)\n",
    "res = res /5\n",
    "print(res)"
   ],
   "metadata": {
    "collapsed": false,
    "pycharm": {
     "name": "#%%\n"
    }
   }
  },
  {
   "cell_type": "code",
   "execution_count": 23,
   "outputs": [
    {
     "name": "stdout",
     "output_type": "stream",
     "text": [
      "Help on function square in module __main__:\n",
      "\n",
      "square(number)\n",
      "\n"
     ]
    }
   ],
   "source": [
    "help(square)"
   ],
   "metadata": {
    "collapsed": false,
    "pycharm": {
     "name": "#%%\n"
    }
   }
  },
  {
   "cell_type": "code",
   "execution_count": 25,
   "outputs": [
    {
     "name": "stdout",
     "output_type": "stream",
     "text": [
      "(1000, 30, 3.3333333333333335)\n"
     ]
    }
   ],
   "source": [
    "def power(number=8, number2=2): # number=8, number2=2 значения по умолчанию\n",
    "    square_num = number **number2\n",
    "    result_2 = number *number2\n",
    "    result_3 = number /number2\n",
    "    return square_num, result_2, result_3\n",
    "\n",
    "\n",
    "print(power(10,3)) # 10 и 3 значение моё"
   ],
   "metadata": {
    "collapsed": false,
    "pycharm": {
     "name": "#%%\n"
    }
   }
  },
  {
   "cell_type": "code",
   "execution_count": 29,
   "outputs": [
    {
     "ename": "IndentationError",
     "evalue": "unindent does not match any outer indentation level (<tokenize>, line 11)",
     "output_type": "error",
     "traceback": [
      "\u001B[1;36m  File \u001B[1;32m<tokenize>:11\u001B[1;36m\u001B[0m\n\u001B[1;33m    D = b*b - 4*a*c\u001B[0m\n\u001B[1;37m    ^\u001B[0m\n\u001B[1;31mIndentationError\u001B[0m\u001B[1;31m:\u001B[0m unindent does not match any outer indentation level\n"
     ]
    }
   ],
   "source": [
    "import math\n",
    "def discriminant(a, b, c):\n",
    "\t\"\"\"\n",
    "\tфункция для нахождения дискриминанта\n",
    "\t\"\"\"\n",
    "\n",
    "def solution(a, b, c):\n",
    "\t\"\"\"\n",
    "\tфункция для нахождения корней уравнения\n",
    "\t\"\"\"\n",
    "    D = b*b - 4*a*c\n",
    "    if D >= 0:\n",
    "        x1 = (-b + sqrt(D)) / (2*a)\n",
    "        x2 = (-b - sqrt(D)) / (2*a)\n",
    "        text = \"The discriminant is: %s \\n X1 is: %s \\n X2 is: %s \\n\" % (D, x1, x2)\n",
    "    else:\n",
    "        text = \"The discriminant is: %s \\n This equation has no solutions\" % D\n",
    "    return text\n",
    "\n",
    "\n",
    "# не меняйте эту часть программы\n",
    "# вывод решения для коэфициентов, заданных в условии задачи\n",
    "solution(-1, -2, 15)\n",
    "solution(1, -13, 12)\n",
    "solution(-4, 28, -49)\n",
    "solution(1, 1, 1)"
   ],
   "metadata": {
    "collapsed": false,
    "pycharm": {
     "name": "#%%\n"
    }
   }
  },
  {
   "cell_type": "code",
   "execution_count": 69,
   "outputs": [
    {
     "name": "stdout",
     "output_type": "stream",
     "text": [
      "-5.0 3.0\n",
      "1.0 12.0\n",
      "3.5 3.5\n",
      "корней нет\n"
     ]
    }
   ],
   "source": [
    "from math import sqrt\n",
    "def solution(a,b,c):\n",
    "    \"\"\" Решает квадратное уравнение и выводит отформатированный ответ \"\"\"\n",
    "\n",
    "    D = b*b - 4*a*c\n",
    "    if D >= 0:\n",
    "        x1 = (-b + sqrt(D)) / (2*a)\n",
    "        x2 = (-b - sqrt(D)) / (2*a)\n",
    "        # text = print(f\"{x1} {x2}\")\n",
    "        if (x1 < x2):\n",
    "            text = print(f\"{x1} {x2}\")\n",
    "        else:\n",
    "            text = print(f\"{x2} {x1}\")\n",
    "    else:\n",
    "        text = print(\"корней нет\")\n",
    "    return text\n",
    "\n",
    "\n",
    "solution(-1, -2, 15)\n",
    "solution(1, -13, 12)\n",
    "solution(-4, 28, -49)\n",
    "solution(1, 1, 1)"
   ],
   "metadata": {
    "collapsed": false,
    "pycharm": {
     "name": "#%%\n"
    }
   }
  },
  {
   "cell_type": "code",
   "execution_count": null,
   "outputs": [],
   "source": [],
   "metadata": {
    "collapsed": false,
    "pycharm": {
     "name": "#%%\n"
    }
   }
  },
  {
   "cell_type": "code",
   "execution_count": 78,
   "outputs": [
    {
     "name": "stdout",
     "output_type": "stream",
     "text": [
      "-5.0 3.0\n",
      "1.0 12.0\n",
      "3.5\n",
      "корней нет\n"
     ]
    }
   ],
   "source": [
    "def discriminant(a, b, c):\n",
    "    return b ** 2 - 4 * a * c\n",
    "\n",
    "def solution(a, b, c):\n",
    "    d = discriminant(a, b, c)\n",
    "    if d < 0:\n",
    "        print(\"корней нет\")\n",
    "    elif d == 0:\n",
    "        x = -b/(2*a)\n",
    "        print(x)\n",
    "\n",
    "    else:\n",
    "        x1 = (-b + d ** 0.5)/(2 * a)\n",
    "        x2 = (-b - d ** 0.5) / (2 * a)\n",
    "\n",
    "        if (x1 < x2):\n",
    "            print(x1, x2)\n",
    "        else:\n",
    "            print(x2, x1)\n",
    "\n",
    "solution(-1, -2, 15)\n",
    "solution(1, -13, 12)\n",
    "solution(-4, 28, -49)\n",
    "solution(1, 1, 1)"
   ],
   "metadata": {
    "collapsed": false,
    "pycharm": {
     "name": "#%%\n"
    }
   }
  },
  {
   "cell_type": "code",
   "execution_count": 83,
   "outputs": [
    {
     "name": "stdout",
     "output_type": "stream",
     "text": [
      "-5.0 3.0\n",
      "1.0 12.0\n",
      "3.5\n",
      "корней нет\n"
     ]
    }
   ],
   "source": [
    "def discriminant(a, b, c):\n",
    "    \"\"\"\n",
    "\tфункция для нахождения дискриминанта\n",
    "\t\"\"\"\n",
    "    return b ** 2 - 4 * a * c\n",
    "\n",
    "def solution(a, b, c):\n",
    "    \"\"\"\n",
    "\tфункция для нахождения корней уравнения\n",
    "\t\"\"\"\n",
    "    d = discriminant(a, b, c)\n",
    "    if d < 0:\n",
    "        print(\"корней нет\")\n",
    "    elif d == 0:\n",
    "        x = -b/(2*a)\n",
    "        print(x)\n",
    "\n",
    "    else:\n",
    "        x1 = (-b + d ** 0.5)/(2 * a)\n",
    "        x2 = (-b - d ** 0.5) / (2 * a)\n",
    "\n",
    "        if (x1 < x2):\n",
    "            print(x1, x2)\n",
    "        else:\n",
    "            print(x2, x1)\n",
    "\n",
    "solution(-1, -2, 15)\n",
    "solution(1, -13, 12)\n",
    "solution(-4, 28, -49)\n",
    "solution(1, 1, 1)"
   ],
   "metadata": {
    "collapsed": false,
    "pycharm": {
     "name": "#%%\n"
    }
   }
  },
  {
   "cell_type": "code",
   "execution_count": 90,
   "outputs": [
    {
     "name": "stdout",
     "output_type": "stream",
     "text": [
      "1\n",
      "2\n"
     ]
    }
   ],
   "source": [
    "def vote(votes):\n",
    "    d = {}\n",
    "    for v in votes:\n",
    "        d.setdefault(v, 0)\n",
    "        d[v] += 1\n",
    "    sorted_by_count = sorted(d.items(), key=lambda a: a[1], reverse=True)\n",
    "    return sorted_by_count[0][0]\n",
    "\n",
    "print(vote([1,1,1,2,3]))\n",
    "print(vote([1,2,3,2,2]))"
   ],
   "metadata": {
    "collapsed": false,
    "pycharm": {
     "name": "#%%\n"
    }
   }
  },
  {
   "cell_type": "code",
   "execution_count": 89,
   "outputs": [],
   "source": [],
   "metadata": {
    "collapsed": false,
    "pycharm": {
     "name": "#%%\n"
    }
   }
  },
  {
   "cell_type": "code",
   "execution_count": 98,
   "outputs": [
    {
     "name": "stdout",
     "output_type": "stream",
     "text": [
      "1\n",
      "2\n"
     ]
    }
   ],
   "source": [
    "def vote(votes):\n",
    "    dict1 = {}\n",
    "    for x in votes:\n",
    "        dict1.setdefault(x, 0)\n",
    "        dict1[x] += 1\n",
    "    sorted_by_count = sorted(dict1.items(), key=lambda a: a[1], reverse=True)\n",
    "    return sorted_by_count[0][0]\n",
    "\n",
    "print(vote([1,1,1,2,3]))\n",
    "print(vote([1,2,3,2,2]))"
   ],
   "metadata": {
    "collapsed": false,
    "pycharm": {
     "name": "#%%\n"
    }
   }
  },
  {
   "cell_type": "code",
   "execution_count": 100,
   "outputs": [
    {
     "name": "stdout",
     "output_type": "stream",
     "text": [
      "1\n",
      "2\n"
     ]
    }
   ],
   "source": [
    "def vote(votes):\n",
    "    counter = 0\n",
    "    num = votes[0]\n",
    "    for i in votes:\n",
    "        x = votes.count(i)\n",
    "        if x > counter:\n",
    "            counter = x\n",
    "            num = i\n",
    "    return num\n",
    "\n",
    "print(vote([1,1,1,2,3]))\n",
    "print(vote([1,2,3,2,2]))"
   ],
   "metadata": {
    "collapsed": false,
    "pycharm": {
     "name": "#%%\n"
    }
   }
  },
  {
   "cell_type": "code",
   "execution_count": 101,
   "outputs": [
    {
     "name": "stdout",
     "output_type": "stream",
     "text": [
      "Аристарх Павлов\n",
      "1\n",
      "Документ не найден\n",
      "3\n",
      "Александр Пушкин\n",
      "Полки с таким документом не найдено\n"
     ]
    }
   ],
   "source": [
    "                                                                                                                    # код рабочий Учителя\n",
    "documents = [\n",
    "    {\"type\": \"passport\", \"number\": \"2207 876234\", \"name\": \"Василий Гупкин\"},\n",
    "    {\"type\": \"invoice\", \"number\": \"11-2\", \"name\": \"Геннадий Покемонов\"},\n",
    "    {\"type\": \"insurance\", \"number\": \"10006\", \"name\": \"Аристарх Павлов\"},\n",
    "    {\"type\": \"driver license\", \"number\": \"5455 028765\", \"name\": \"Василий Иванов\"},\n",
    "]\n",
    "\n",
    "directories = {\n",
    "    '1': ['2207 876234', '11-2', '5455 028765'],\n",
    "    '2': ['10006'],\n",
    "    '3': []\n",
    "}\n",
    "\n",
    "\n",
    "def get_name(doc_number):\n",
    "    for document in documents:\n",
    "        if document['number'] == doc_number:\n",
    "            return document['name']\n",
    "    return \"Документ не найден\"\n",
    "\n",
    "\n",
    "def get_directory(doc_number):\n",
    "    for number, docs in directories.items():\n",
    "        if doc_number in docs:\n",
    "            return number\n",
    "    return \"Полки с таким документом не найдено\"\n",
    "\n",
    "\n",
    "def add(document_type, number, name, shelf_number):\n",
    "    new_doc = {\"type\": document_type, \"number\": number, \"name\": name}\n",
    "    documents.append(new_doc)\n",
    "    if shelf_number in directories:\n",
    "        directories[shelf_number].append(number)\n",
    "    else:\n",
    "        directories[shelf_number] = [number]\n",
    "\n",
    "\n",
    "print(get_name(\"10006\"))\n",
    "print(get_directory(\"11-2\"))\n",
    "print(get_name(\"101\"))\n",
    "add('international passport', '311 020203', 'Александр Пушкин', 3)\n",
    "print(get_directory(\"311 020203\"))\n",
    "print(get_name(\"311 020203\"))\n",
    "print(get_directory(\"311 020204\"))"
   ],
   "metadata": {
    "collapsed": false,
    "pycharm": {
     "name": "#%%\n"
    }
   }
  },
  {
   "cell_type": "code",
   "execution_count": null,
   "outputs": [],
   "source": [],
   "metadata": {
    "collapsed": false,
    "pycharm": {
     "name": "#%%\n"
    }
   }
  },
  {
   "cell_type": "code",
   "execution_count": 103,
   "outputs": [
    {
     "name": "stdout",
     "output_type": "stream",
     "text": [
      "Аристарх Павлов\n",
      "1\n",
      "Документ не найден\n",
      "Полки с таким документом не найдено\n",
      "Александр Пушкин\n",
      "Полки с таким документом не найдено\n"
     ]
    }
   ],
   "source": [
    "                                                                                                                    # код рабочий студента\n",
    "\n",
    "documents = [\n",
    "        {\"type\": \"passport\", \"number\": \"2207 876234\", \"name\": \"Василий Гупкин\"},\n",
    "        {\"type\": \"invoice\", \"number\": \"11-2\", \"name\": \"Геннадий Покемонов\"},\n",
    "        {\"type\": \"insurance\", \"number\": \"10006\", \"name\": \"Аристарх Павлов\"},\n",
    "        {\"type\": \"driver license\", \"number\": \"5455 028765\", \"name\": \"Василий Иванов\"},\n",
    "      ]\n",
    "\n",
    "directories = {\n",
    "        '1': ['2207 876234', '11-2', '5455 028765'],\n",
    "        '2': ['10006'],\n",
    "        '3': []\n",
    "      }\n",
    "\n",
    "def get_name(doc_number):\n",
    "    for i in documents:\n",
    "        if i[\"number\"] == doc_number:\n",
    "            return (i[\"name\"])\n",
    "    if i != doc_number:\n",
    "            return 'Документ не найден'\n",
    "\n",
    "def get_directory(doc_number):\n",
    "    for key, value in directories.items():\n",
    "        for i in value:\n",
    "            if i == doc_number:\n",
    "                return key\n",
    "        if i != doc_number:\n",
    "            return 'Полки с таким документом не найдено'\n",
    "\n",
    "\n",
    "def add(document_type, number, name, shelf_number):\n",
    "    x = str(shelf_number)\n",
    "    new_doc = dict(type = document_type, number = number, name= name)\n",
    "    documents.append(new_doc)\n",
    "    directories[x] += [number]\n",
    "\n",
    "\n",
    "# не меняйте эту часть программы\n",
    "# проверка работы реализованных функций\n",
    "print(get_name(\"10006\"))\n",
    "print(get_directory(\"11-2\"))\n",
    "print(get_name(\"101\"))\n",
    "add('international passport', '311 020203', 'Александр Пушкин', 3)\n",
    "print(get_directory(\"311 020203\"))\n",
    "print(get_name(\"311 020203\"))\n",
    "print(get_directory(\"311 020204\"))"
   ],
   "metadata": {
    "collapsed": false,
    "pycharm": {
     "name": "#%%\n"
    }
   }
  },
  {
   "cell_type": "code",
   "execution_count": null,
   "outputs": [],
   "source": [
    "                                                                                                                                    # ChatGPT\n",
    "documents = [\n",
    "    {\"type\": \"passport\", \"number\": \"2207 876234\", \"name\": \"Василий Гупкин\"},\n",
    "    {\"type\": \"invoice\", \"number\": \"11-2\", \"name\": \"Геннадий Покемонов\"},\n",
    "    {\"type\": \"insurance\", \"number\": \"10006\", \"name\": \"Аристарх Павлов\"},\n",
    "    {\"type\": \"driver license\", \"number\": \"5455 028765\", \"name\": \"Василий Иванов\"}\n",
    "]\n",
    "\n",
    "directories = {\n",
    "    '1': ['2207 876234', '11-2', '5455 028765'],\n",
    "    '2': ['10006'],\n",
    "    '3': []\n",
    "}\n",
    "\n",
    "def get_name(doc_number):\n",
    "    \"\"\"\n",
    "    Функция принимает номер документа и выводит имя человека, которому он принадлежит или сообщение: Документ не найден\n",
    "    \"\"\"\n",
    "    for document in documents:\n",
    "        if document['number'] == doc_number:\n",
    "            return document['name']\n",
    "    return 'Документ не найден'\n",
    "\n",
    "def shelf(doc_number):\n",
    "    \"\"\"\n",
    "    Функция принимает номер документа и выводит номер полки, на которой он находится или сообщение: Полки с таким документом не найдено\n",
    "    \"\"\"\n",
    "    for shelf_number, docs in directories.items():\n",
    "        if doc_number in docs:\n",
    "            return shelf_number\n",
    "    return 'Полки с таким документом не найдено'\n",
    "\n",
    "def add(doc_type, doc_number, doc_owner, shelf_number):\n",
    "    \"\"\"\n",
    "    Функция добавляет новый документ в каталог и в перечень полок.\n",
    "    \"\"\"\n",
    "    documents.append({\"type\": doc_type, \"number\": doc_number, \"name\": doc_owner})\n",
    "    if shelf_number in directories:\n",
    "        directories[shelf_number].append(doc_number)\n",
    "    else:\n",
    "        directories[shelf_number] = [doc_number]\n",
    "\n",
    "\n",
    "\n",
    "print(get_name(\"10006\"))\n",
    "print(get_directory(\"11-2\"))\n",
    "print(get_name(\"101\"))\n",
    "add('international passport', '311 020203', 'Александр Пушкин', 3)\n",
    "print(get_directory(\"311 020203\"))\n",
    "print(get_name(\"311 020203\"))\n",
    "print(get_directory(\"311 020204\"))"
   ],
   "metadata": {
    "collapsed": false,
    "pycharm": {
     "name": "#%%\n"
    }
   }
  },
  {
   "cell_type": "code",
   "execution_count": 3,
   "outputs": [
    {
     "name": "stdout",
     "output_type": "stream",
     "text": [
      "32\n"
     ]
    }
   ],
   "source": [
    "class Person:\n",
    "    def __init__(self, id):\n",
    "        self.id = id\n",
    "some_person = Person(100)\n",
    "some_person.__dict__['age'] = 30\n",
    "print(some_person.age + len(some_person.__dict__))"
   ],
   "metadata": {
    "collapsed": false,
    "pycharm": {
     "name": "#%%\n"
    }
   }
  },
  {
   "cell_type": "code",
   "execution_count": 2,
   "outputs": [
    {
     "name": "stdout",
     "output_type": "stream",
     "text": [
      "Help on built-in function print in module builtins:\n",
      "\n",
      "print(...)\n",
      "    print(value, ..., sep=' ', end='\\n', file=sys.stdout, flush=False)\n",
      "    \n",
      "    Prints the values to a stream, or to sys.stdout by default.\n",
      "    Optional keyword arguments:\n",
      "    file:  a file-like object (stream); defaults to the current sys.stdout.\n",
      "    sep:   string inserted between values, default a space.\n",
      "    end:   string appended after the last value, default a newline.\n",
      "    flush: whether to forcibly flush the stream.\n",
      "\n"
     ]
    }
   ],
   "source": [
    "help(print)"
   ],
   "metadata": {
    "collapsed": false,
    "pycharm": {
     "name": "#%%\n"
    }
   }
  },
  {
   "cell_type": "code",
   "execution_count": 2,
   "outputs": [
    {
     "name": "stdout",
     "output_type": "stream",
     "text": [
      "9.17\n"
     ]
    }
   ],
   "source": [
    "students_list = [\n",
    "    {'name': 'Василий', 'surname': 'Теркин', 'sex': 'м', 'program_exp': True, 'grade': [8, 8, 9, 10, 9], 'exam': 9},\n",
    "    {'name': 'Мария', 'surname': 'Павлова', 'sex': 'ж', 'program_exp': True, 'grade': [7, 8, 9, 7, 9], 'exam': 8},\n",
    "    {'name': 'Ирина', 'surname': 'Андреева', 'sex': 'ж', 'program_exp': True, 'grade': [10, 9, 8, 10, 10], 'exam': 10},\n",
    "    {'name': 'Татьяна', 'surname': 'Сидорова', 'sex': 'ж', 'program_exp': True, 'grade': [7, 8, 8, 9, 8], 'exam': 8},\n",
    "    {'name': 'Иван', 'surname': 'Васильев', 'sex': 'ж', 'program_exp': True, 'grade': [9, 8, 9, 6, 9], 'exam': 10},\n",
    "    {'name': 'Роман', 'surname': 'Золотарев', 'sex': 'ж', 'program_exp': False, 'grade': [8, 9, 9, 6, 9], 'exam': 10}\n",
    "]\n",
    "\n",
    "def get_avg_ex_grade(students):\n",
    "    \"\"\" функция определяет среднюю оценку экзамена exam студентов\"\"\"\n",
    "    sum_ex = 0\n",
    "    for student in students:\n",
    "        sum_ex += student['exam']\n",
    "    return round(sum_ex / len(students), 2)\n",
    "\n",
    "print(get_avg_ex_grade(students_list))"
   ],
   "metadata": {
    "collapsed": false,
    "pycharm": {
     "name": "#%%\n"
    }
   }
  },
  {
   "cell_type": "code",
   "execution_count": 3,
   "outputs": [
    {
     "name": "stdout",
     "output_type": "stream",
     "text": [
      "8.43\n"
     ]
    }
   ],
   "source": [
    "def get_avg_hw_grade(students):\n",
    "    \"\"\" функция определяет среднюю оценку по грейду grade студентов\"\"\"\n",
    "    sum_hw = 0\n",
    "    for student in students:\n",
    "        sum_hw += sum(student['grade']) / len(student['grade'])\n",
    "    return round(sum_hw / len(students), 2)\n",
    "\n",
    "print(get_avg_hw_grade(students_list))"
   ],
   "metadata": {
    "collapsed": false,
    "pycharm": {
     "name": "#%%\n"
    }
   }
  },
  {
   "cell_type": "code",
   "execution_count": 5,
   "outputs": [
    {
     "data": {
      "text/plain": "[8, 8, 9, 10, 9]"
     },
     "execution_count": 5,
     "metadata": {},
     "output_type": "execute_result"
    }
   ],
   "source": [
    "students_list[0].get('grade', 0) # список словорей. обращяемся к 1му словарю с индесом 0 и выводем значение по ключю grade"
   ],
   "metadata": {
    "collapsed": false,
    "pycharm": {
     "name": "#%%\n"
    }
   }
  },
  {
   "cell_type": "code",
   "execution_count": 4,
   "outputs": [],
   "source": [],
   "metadata": {
    "collapsed": false,
    "pycharm": {
     "name": "#%%\n"
    }
   }
  },
  {
   "cell_type": "code",
   "execution_count": 17,
   "outputs": [
    {
     "name": "stdout",
     "output_type": "stream",
     "text": [
      "Текущее время 07.03.2023 20:18\n"
     ]
    }
   ],
   "source": [
    "from datetime import datetime as dt\n",
    "now = dt.now()\n",
    "print(f\"Текущее время {now:%d.%m.%Y %H:%M}\")"
   ],
   "metadata": {
    "collapsed": false,
    "pycharm": {
     "name": "#%%\n"
    }
   }
  },
  {
   "cell_type": "code",
   "execution_count": 22,
   "outputs": [
    {
     "name": "stdout",
     "output_type": "stream",
     "text": [
      "Значение числа pi: 3.14159\n"
     ]
    }
   ],
   "source": [
    "from math import pi\n",
    "print(f\"Значение числа pi: {pi:.5f}\") # .5f отвечает за количество символов после точки"
   ],
   "metadata": {
    "collapsed": false,
    "pycharm": {
     "name": "#%%\n"
    }
   }
  },
  {
   "cell_type": "code",
   "execution_count": 23,
   "outputs": [
    {
     "name": "stdout",
     "output_type": "stream",
     "text": [
      "1\n",
      "2\n",
      "3\n"
     ]
    }
   ],
   "source": [
    "data = [1,2,3]\n",
    "i = iter(data)\n",
    "print(next(i))\n",
    "print(next(i))\n",
    "print(next(i))"
   ],
   "metadata": {
    "collapsed": false,
    "pycharm": {
     "name": "#%%\n"
    }
   }
  },
  {
   "cell_type": "code",
   "execution_count": null,
   "outputs": [],
   "source": [
    "                                                                                                # ВАЖНО !!!!!!!!!\n",
    "# \\ разрыв коодовой строки\n",
    "\n",
    "# is == сравнение с False True и None делается через is, тоесть заместо == ставим is"
   ],
   "metadata": {
    "collapsed": false,
    "pycharm": {
     "name": "#%%\n"
    }
   }
  },
  {
   "cell_type": "code",
   "execution_count": 9,
   "outputs": [
    {
     "name": "stdout",
     "output_type": "stream",
     "text": [
      "11\n",
      "6\n"
     ]
    }
   ],
   "source": [
    "                                                                                                # лямбла функция\n",
    "\n",
    "print((lambda x, y: x+y)(5,6)) #11\n",
    "\n",
    "x = (lambda x,y : x * y) (2, 3) #6\n",
    "print(x)"
   ],
   "metadata": {
    "collapsed": false,
    "pycharm": {
     "name": "#%%\n"
    }
   }
  },
  {
   "cell_type": "code",
   "execution_count": 10,
   "outputs": [
    {
     "name": "stdout",
     "output_type": "stream",
     "text": [
      "8\n"
     ]
    }
   ],
   "source": [
    "lambda_funk = lambda  x,y: x+y\n",
    "print(lambda_funk(3,5))"
   ],
   "metadata": {
    "collapsed": false,
    "pycharm": {
     "name": "#%%\n"
    }
   }
  },
  {
   "cell_type": "code",
   "execution_count": 11,
   "outputs": [
    {
     "name": "stdout",
     "output_type": "stream",
     "text": [
      "[1, 4, 9, 16, 25]\n"
     ]
    }
   ],
   "source": [
    "print(list(map(lambda x: x**2, [1, 2, 3, 4, 5]))) # происходите функция которая делает х**2 (возводит в вкадрат) для всего списка"
   ],
   "metadata": {
    "collapsed": false,
    "pycharm": {
     "name": "#%%\n"
    }
   }
  },
  {
   "cell_type": "code",
   "execution_count": null,
   "outputs": [],
   "source": [],
   "metadata": {
    "collapsed": false,
    "pycharm": {
     "name": "#%%\n"
    }
   }
  },
  {
   "cell_type": "code",
   "execution_count": null,
   "outputs": [],
   "source": [
    "                                                                                                                    # Работа с файловой системой в Python"
   ],
   "metadata": {
    "collapsed": false,
    "pycharm": {
     "name": "#%%\n"
    }
   }
  },
  {
   "cell_type": "code",
   "execution_count": 5,
   "outputs": [
    {
     "data": {
      "text/plain": "'C:\\\\Users\\\\siber\\\\PycharmProjects\\\\python STEPIK'"
     },
     "execution_count": 5,
     "metadata": {},
     "output_type": "execute_result"
    }
   ],
   "source": [
    "import os\n",
    "os.getcwd()"
   ],
   "metadata": {
    "collapsed": false,
    "pycharm": {
     "name": "#%%\n"
    }
   }
  },
  {
   "cell_type": "code",
   "execution_count": 15,
   "outputs": [],
   "source": [
    "                                                                                                                    # продолжение в Neyology 2"
   ],
   "metadata": {
    "collapsed": false,
    "pycharm": {
     "name": "#%%\n"
    }
   }
  }
 ],
 "metadata": {
  "kernelspec": {
   "display_name": "Python 3",
   "language": "python",
   "name": "python3"
  },
  "language_info": {
   "codemirror_mode": {
    "name": "ipython",
    "version": 2
   },
   "file_extension": ".py",
   "mimetype": "text/x-python",
   "name": "python",
   "nbconvert_exporter": "python",
   "pygments_lexer": "ipython2",
   "version": "2.7.6"
  }
 },
 "nbformat": 4,
 "nbformat_minor": 0
}