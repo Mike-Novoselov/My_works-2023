{
 "cells": [
  {
   "cell_type": "code",
   "execution_count": 16,
   "outputs": [
    {
     "name": "stdout",
     "output_type": "stream",
     "text": [
      "-5.1 -4.6 -3.0 2.78 7.6 10.3\n"
     ]
    }
   ],
   "source": [
    "# Подвиг 3. Вводятся вещественные числа в одну строчку через пробел. Необходимо на их основе сформировать множество s.\n",
    "#\n",
    "# Подсказка: множество можно создать по аналогии со списком:\n",
    "#\n",
    "# list(map(float, <список из строк чисел>))\n",
    "#\n",
    "# Вывести на экран значения множества s в порядке возрастания в одну строчку через пробел, используя команду:\n",
    "#\n",
    "# print(*sorted(s))\n",
    "#\n",
    "# P. S. О функции sorted мы еще будем говорить, а также об операторе *. Пока просто запомните такую возможность сортировки и вывода произвольных коллекций на экран.\n",
    "#\n",
    "# Sample Input:\n",
    "#\n",
    "# -5.1 -3.0 7.6 10.3 -4.6 2.78\n",
    "# Sample Output:\n",
    "#\n",
    "# -5.1 -4.6 -3.0 2.78 7.6 10.3\n",
    "\n",
    "\n",
    "s=set(map(float, input().split()))\n",
    "print(*sorted(s))"
   ],
   "metadata": {
    "collapsed": false,
    "pycharm": {
     "name": "#%%\n"
    }
   }
  },
  {
   "cell_type": "code",
   "execution_count": 27,
   "outputs": [
    {
     "name": "stdout",
     "output_type": "stream",
     "text": [
      "9\n"
     ]
    }
   ],
   "source": [
    "# Подвиг 4. Вводится текст в одну строку, слова разделены пробелом. Необходимо подсчитать число уникальных слов (без учета регистра) в этом тексте. Результат (число уникальных слов) вывести на экран.\n",
    "#\n",
    "# Sample Input:\n",
    "#\n",
    "# Мама мыла раму а потом мыла кота и еще мыла пол\n",
    "# Sample Output:\n",
    "#\n",
    "# 9\n",
    "\n",
    "s=set(input().lower().split())\n",
    "print(len(s))"
   ],
   "metadata": {
    "collapsed": false,
    "pycharm": {
     "name": "#%%\n"
    }
   }
  },
  {
   "cell_type": "code",
   "execution_count": null,
   "outputs": [],
   "source": [
    "#_______________________________________________________________________________________________"
   ],
   "metadata": {
    "collapsed": false,
    "pycharm": {
     "name": "#%%\n"
    }
   }
  },
  {
   "cell_type": "code",
   "execution_count": 50,
   "outputs": [],
   "source": [
    "# Подвиг 5. Вводится строка, содержащая латинские символы, пробелы и цифры. Необходимо выделить из нее все неповторяющиеся цифры (символы от 0 до 9) и вывести на экран в одну строку через пробел их в порядке возрастания значений. Если цифры отсутствуют, то вывести слово НЕТ.\n",
    "#\n",
    "# Sample Input:\n",
    "#\n",
    "# Python 3.9.11 - best language!\n",
    "# Sample Output:\n",
    "#\n",
    "# 1 3 9\n",
    "\n"
   ],
   "metadata": {
    "collapsed": false,
    "pycharm": {
     "name": "#%%\n"
    }
   }
  },
  {
   "cell_type": "code",
   "execution_count": 49,
   "outputs": [],
   "source": [],
   "metadata": {
    "collapsed": false,
    "pycharm": {
     "name": "#%%\n"
    }
   }
  },
  {
   "cell_type": "code",
   "execution_count": 49,
   "outputs": [
    {
     "name": "stdout",
     "output_type": "stream",
     "text": [
      "1 3 9\n"
     ]
    }
   ],
   "source": [
    "s = input()\n",
    "digits = set(filter(str.isdigit, s))\n",
    "if digits:\n",
    "    print(\" \".join(sorted(digits)))\n",
    "else:\n",
    "    print(\"НЕТ\")"
   ],
   "metadata": {
    "collapsed": false,
    "pycharm": {
     "name": "#%%\n"
    }
   }
  },
  {
   "cell_type": "code",
   "execution_count": null,
   "outputs": [],
   "source": [
    "a = input().split()\n",
    "b = ['1', '2', '3', '4', '5', '6', '7', '8', '9', '0']\n",
    "c = set()\n",
    "for i in a:\n",
    "    for j in i:\n",
    "        if j in b:\n",
    "            c.add(j)\n",
    "if len(c) < 1:\n",
    "    print('НЕТ')\n",
    "print(*sorted(c))"
   ],
   "metadata": {
    "collapsed": false,
    "pycharm": {
     "name": "#%%\n"
    }
   }
  },
  {
   "cell_type": "code",
   "execution_count": 54,
   "outputs": [
    {
     "name": "stdout",
     "output_type": "stream",
     "text": [
      "4\n"
     ]
    }
   ],
   "source": [
    "# Подвиг 6. В ночном клубе фиксируется список гостей. Причем гости могут выходить из помещения, а затем, снова заходить. Тогда их имена фиксируются повторно. На вход программы поступает такой список (каждое имя записано с новой строки). Требуется подсчитать общее число гостей, которые посетили ночной клуб. Полагается, что гости имеют уникальные имена. На экран вывести общее число гостей клуба.\n",
    "#\n",
    "# P. S. Для считывания списка целиком в программе уже записаны начальные строчки.\n",
    "#\n",
    "# Sample Input:\n",
    "#\n",
    "# Мария\n",
    "# Елена\n",
    "# Екатерина\n",
    "# Александр\n",
    "# Елена\n",
    "# Мария\n",
    "# Sample Output:\n",
    "#\n",
    "# 4\n",
    "\n",
    "lst_in = ['Мария', 'Елена', 'Екатерина', 'Александр', 'Елена', 'Мария']\n",
    "\n",
    "print(len(set(lst_in)))"
   ],
   "metadata": {
    "collapsed": false,
    "pycharm": {
     "name": "#%%\n"
    }
   }
  },
  {
   "cell_type": "code",
   "execution_count": 55,
   "outputs": [],
   "source": [
    "# Подвиг 7. В аккаунте youtube Сергея прокомментировали очередное видео. Некоторые посетители оставляли несколько комментариев. Требуется по списку комментариев определить уникальное число комментаторов. Комментарии поступают на вход программы в формате:\n",
    "#\n",
    "# имя 1: комментарий 1\n",
    "# имя 2: комментарий 2\n",
    "# ...\n",
    "# имя N: комментарий N\n",
    "#\n",
    "# Также полагается, что имена у разных комментаторов не совпадают. Вывести на экран общее число уникальных комментаторов.\n",
    "#\n",
    "# P. S. Для считывания списка целиком в программе уже записаны начальные строчки.\n",
    "#\n",
    "# Sample Input:\n",
    "#\n",
    "# EvgeniyK: спасибо большое!\n",
    "# LinaTroshka: лайк и подписка!\n",
    "# Sergey Karandeev: крутое видео!\n",
    "# Евгений Соснин: обожаю\n",
    "# EvgeniyK: это повтор?\n",
    "# Sergey Karandeev: нет, это новое видео\n",
    "# Sample Output:\n",
    "#\n",
    "# 4\n",
    "\n",
    "lst_in = ['EvgeniyK: спасибо большое!', 'LinaTroshka: лайк и подписка!', 'Sergey Karandeev: крутое видео!', 'Евгений Соснин: обожаю', 'EvgeniyK: это повтор?', 'Sergey Karandeev: нет, это новое видео']"
   ],
   "metadata": {
    "collapsed": false,
    "pycharm": {
     "name": "#%%\n"
    }
   }
  },
  {
   "cell_type": "code",
   "execution_count": 65,
   "outputs": [
    {
     "name": "stdout",
     "output_type": "stream",
     "text": [
      "4\n"
     ]
    }
   ],
   "source": [
    "lst_in = ['EvgeniyK: спасибо большое!', 'LinaTroshka: лайк и подписка!', 'Sergey Karandeev: крутое видео!', 'Евгений Соснин: обожаю', 'EvgeniyK: это повтор?', 'Sergey Karandeev: нет, это новое видео']\n",
    "\n",
    "users = []\n",
    "for item in lst_in:\n",
    "    username = item.split(\":\")[0]\n",
    "    if username not in users:\n",
    "        users.append(username)\n",
    "\n",
    "print(len(users))"
   ],
   "metadata": {
    "collapsed": false,
    "pycharm": {
     "name": "#%%\n"
    }
   }
  },
  {
   "cell_type": "code",
   "execution_count": 1,
   "outputs": [
    {
     "name": "stdout",
     "output_type": "stream",
     "text": [
      "4\n"
     ]
    }
   ],
   "source": [
    "lst_in = ['EvgeniyK: спасибо большое!', 'LinaTroshka: лайк и подписка!', 'Sergey Karandeev: крутое видео!', 'Евгений Соснин: обожаю', 'EvgeniyK: это повтор?', 'Sergey Karandeev: нет, это новое видео']\n",
    "\n",
    "lst = [i.split(':')[0] for i in lst_in]\n",
    "print(len(set(lst)))"
   ],
   "metadata": {
    "collapsed": false,
    "pycharm": {
     "name": "#%%\n"
    }
   }
  },
  {
   "cell_type": "code",
   "execution_count": null,
   "outputs": [],
   "source": [
    "# Подвиг 8. Пользователь с клавиатуры вводит названия городов, пока не введет букву q. Определить общее уникальное число городов, которые вводил пользователь. На экран вывести это число. Из коллекций при реализации программы использовать только множества.\n",
    "#\n",
    "# Sample Input:\n",
    "#\n",
    "# Уфа\n",
    "# Москва\n",
    "# Тверь\n",
    "# Екатеринбург\n",
    "# Томск\n",
    "# Уфа\n",
    "# Москва\n",
    "# q\n",
    "# Sample Output:\n",
    "#\n",
    "# 5\n"
   ],
   "metadata": {
    "collapsed": false,
    "pycharm": {
     "name": "#%%\n"
    }
   }
  },
  {
   "cell_type": "code",
   "execution_count": 2,
   "outputs": [
    {
     "name": "stdout",
     "output_type": "stream",
     "text": [
      "1\n"
     ]
    }
   ],
   "source": [
    "cities = set()\n",
    "while True:\n",
    "    city = input()\n",
    "    if city == \"q\":\n",
    "        break\n",
    "    cities.add(city)\n",
    "\n",
    "print(len(cities))"
   ],
   "metadata": {
    "collapsed": false,
    "pycharm": {
     "name": "#%%\n"
    }
   }
  },
  {
   "cell_type": "code",
   "execution_count": 3,
   "outputs": [],
   "source": [
    "setA = {1, 2, 3, 4}\n",
    "setB = {3, 4, 5, 6, 7}"
   ],
   "metadata": {
    "collapsed": false,
    "pycharm": {
     "name": "#%%\n"
    }
   }
  },
  {
   "cell_type": "code",
   "execution_count": 4,
   "outputs": [
    {
     "data": {
      "text/plain": "{1, 2, 3, 4, 5, 6, 7}"
     },
     "execution_count": 4,
     "metadata": {},
     "output_type": "execute_result"
    }
   ],
   "source": [
    "setA | setB"
   ],
   "metadata": {
    "collapsed": false,
    "pycharm": {
     "name": "#%%\n"
    }
   }
  },
  {
   "cell_type": "code",
   "execution_count": 5,
   "outputs": [
    {
     "ename": "TypeError",
     "evalue": "unsupported operand type(s) for +: 'set' and 'set'",
     "output_type": "error",
     "traceback": [
      "\u001B[1;31m---------------------------------------------------------------------------\u001B[0m",
      "\u001B[1;31mTypeError\u001B[0m                                 Traceback (most recent call last)",
      "Cell \u001B[1;32mIn[5], line 1\u001B[0m\n\u001B[1;32m----> 1\u001B[0m setC \u001B[38;5;241m=\u001B[39m \u001B[43msetA\u001B[49m\u001B[43m \u001B[49m\u001B[38;5;241;43m+\u001B[39;49m\u001B[43m \u001B[49m\u001B[43msetB\u001B[49m\n",
      "\u001B[1;31mTypeError\u001B[0m: unsupported operand type(s) for +: 'set' and 'set'"
     ]
    }
   ],
   "source": [
    "setC = setA + setB"
   ],
   "metadata": {
    "collapsed": false,
    "pycharm": {
     "name": "#%%\n"
    }
   }
  },
  {
   "cell_type": "code",
   "execution_count": null,
   "outputs": [],
   "source": [
    "# Подвиг 1. Вводятся два списка целых чисел каждый с новой строки (в строке наборы чисел через пробел). Необходимо выбрать и отобразить на экране уникальные числа, присутствующие и в первом и во втором списках одновременно. Результат выведите на экран в виде строки чисел, записанных по возрастанию через пробел, используя команду (здесь s - это множество):\n",
    "#\n",
    "# print(*sorted(s))\n",
    "#\n",
    "# P. S. О функции sorted мы еще будем говорить, а также об операторе *. Пока просто запомните такую возможность сортировки и вывода произвольных коллекций на экран.\n",
    "#\n",
    "#\n",
    "# Sample Input:\n",
    "#\n",
    "# 8 11 12 15 -2\n",
    "# 4 11 10 15 -5 1 -2\n",
    "# Sample Output:\n",
    "#\n",
    "# -2 11 15\n",
    "\n",
    "lst1 = list(map(int, input().split()))\n",
    "lst2 = list(map(int, input().split()))\n",
    "s = set(lst1) & set(lst2)\n",
    "print(*sorted(s))"
   ],
   "metadata": {
    "collapsed": false,
    "pycharm": {
     "name": "#%%\n"
    }
   }
  },
  {
   "cell_type": "code",
   "execution_count": null,
   "outputs": [],
   "source": [
    "# Подвиг 2. Вводятся два списка целых чисел каждый с новой строки (в строке наборы чисел через пробел). Необходимо выбрать и отобразить на экране уникальные числа, присутствующие в первом списке, но отсутствующие во втором. Результат выведите на экран в виде строки чисел, записанных по возрастанию через пробел.\n",
    "#\n",
    "# Sample Input:\n",
    "#\n",
    "# 8 5 3 5 -3 1\n",
    "# 1 2 3 4\n",
    "# Sample Output:\n",
    "#\n",
    "# -3 5 8\n",
    "\n",
    "\n",
    "lst1 = list(map(int, input().split()))\n",
    "lst2 = list(map(int, input().split()))\n",
    "s = set(lst1) - set(lst2)\n",
    "print(*sorted(s))"
   ],
   "metadata": {
    "collapsed": false,
    "pycharm": {
     "name": "#%%\n"
    }
   }
  },
  {
   "cell_type": "code",
   "execution_count": null,
   "outputs": [],
   "source": [
    "# Подвиг 3. Вводятся два списка целых чисел каждый с новой строки (в строке наборы чисел через пробел). Необходимо выбрать и отобразить на экране уникальные числа, присутствующие в первом или втором списках, но отсутствующие одновременно в обоих. Результат выведите на экран в виде строки чисел, записанных по возрастанию через пробел.\n",
    "#\n",
    "# Sample Input:\n",
    "#\n",
    "# 1 2 3 4 5\n",
    "# 4 5 6 7 8\n",
    "# Sample Output:\n",
    "#\n",
    "# 1 2 3 6 7 8\n",
    "\n",
    "lst1 = list(map(int, input().split()))\n",
    "lst2 = list(map(int, input().split()))\n",
    "s = set(lst1) ^ set(lst2)\n",
    "print(*sorted(s))"
   ],
   "metadata": {
    "collapsed": false,
    "pycharm": {
     "name": "#%%\n"
    }
   }
  },
  {
   "cell_type": "code",
   "execution_count": null,
   "outputs": [],
   "source": [
    "# Подвиг 4. Вводятся два списка городов каждый с новой строки (в строке названия через пробел). Необходимо сравнить их между собой на равенство по уникальным (не повторяющимся) городам. Если списки содержат одни и те же уникальные города, то вывести на экран ДА, иначе - НЕТ.\n",
    "#\n",
    "# Sample Input:\n",
    "#\n",
    "# Москва Тверь Уфа Казань Уфа Москва\n",
    "# Уфа Тверь Москва Казань\n",
    "# Sample Output:\n",
    "#\n",
    "# ДА\n",
    "\n",
    "lst1 = input().split()\n",
    "lst2 = input().split()\n",
    "\n",
    "set1 = set(lst1)\n",
    "set2 = set(lst2)\n",
    "\n",
    "if set1 == set2:\n",
    "    print(\"ДА\")\n",
    "else:\n",
    "    print(\"НЕТ\")"
   ],
   "metadata": {
    "collapsed": false,
    "pycharm": {
     "name": "#%%\n"
    }
   }
  },
  {
   "cell_type": "code",
   "execution_count": 6,
   "outputs": [],
   "source": [
    "# Подвиг 5. Вводится список оценок студента - его ответов у доски по предмету \"Информатика\" в виде чисел от 2 до 5 в одну строку через пробел. Если студент имеет хотя бы одну двойку, то он не допускается до экзамена. Определить на основе введенного списка, допущен ли студент. Если допущен, то вывести слово ДОПУЩЕН, иначе - НЕ ДОПУЩЕН. При реализации задачи используйте множество для определения наличия двойки.\n",
    "#\n",
    "# Sample Input:\n",
    "#\n",
    "# 3 4 4 5 2 3\n",
    "# Sample Output:\n",
    "#\n",
    "# НЕ ДОПУЩЕН\n",
    "\n",
    "lst1 = list(map(int, input().split()))\n",
    "set1 = set(lst1)\n",
    "if 2 in set1:\n",
    "    print(\"НЕ ДОПУЩЕН\")\n",
    "else:\n",
    "    print(\" ДОПУЩЕН\")"
   ],
   "metadata": {
    "collapsed": false,
    "pycharm": {
     "name": "#%%\n"
    }
   }
  },
  {
   "cell_type": "code",
   "execution_count": null,
   "outputs": [],
   "source": [
    "marks = set(map(int,input().split()))\n",
    "\n",
    "print(f'{\"НЕ \" if 2 in marks else \"\"}ДОПУЩЕН')"
   ],
   "metadata": {
    "collapsed": false,
    "pycharm": {
     "name": "#%%\n"
    }
   }
  },
  {
   "cell_type": "code",
   "execution_count": null,
   "outputs": [],
   "source": [
    "# Подвиг 6. Вводятся два списка городов каждый с новой строки (в строке названия через пробел), которые объехал Сергей в 1-й и 2-й годы своего путешествия по России. Требуется определить, включал ли его маршрут во 2-й год все города 1-го года путешествия? Если это так, то вывести ДА, иначе - НЕТ.\n",
    "#\n",
    "# Sample Input:\n",
    "#\n",
    "# Москва Казань Самара Москва\n",
    "# Москва Владимир Новгород Казань Самара Москва\n",
    "# Sample Output:\n",
    "#\n",
    "# ДА\n",
    "\n",
    "lst1 = input().split()\n",
    "lst2 = input().split()\n",
    "\n",
    "set1 = set(lst1)\n",
    "set2 = set(lst2)\n",
    "\n",
    "if set1 <= set2:\n",
    "    print(\"ДА\")\n",
    "else:\n",
    "    print(\"НЕТ\")"
   ],
   "metadata": {
    "collapsed": false,
    "pycharm": {
     "name": "#%%\n"
    }
   }
  },
  {
   "cell_type": "code",
   "execution_count": 1,
   "outputs": [
    {
     "name": "stdout",
     "output_type": "stream",
     "text": [
      "ДА\n"
     ]
    }
   ],
   "source": [
    "# Подвиг 7. Вводится натуральное число, которое может содержать только простые множители 1, 2, 3, 5 и 7 (любые из них, не обязательно все). Необходимо разложить введенное число на простые множители и проверить, содержит ли оно множители 2, 3 и 5 (обязательно все их, хотя бы один раз). Если это так, то вывести ДА, иначе - НЕТ.\n",
    "#\n",
    "# Sample Input:\n",
    "#\n",
    "# 210\n",
    "# Sample Output:\n",
    "#\n",
    "# ДА\n",
    "\n",
    "n = int(input())\n",
    "m = set()\n",
    "for x in range(1, int(n ** 0.5) + 1):\n",
    "    if n % x == 0:\n",
    "        m.add(x)\n",
    "\n",
    "print('ДА' if {2, 3, 5}.issubset(m) else 'НЕТ')"
   ],
   "metadata": {
    "collapsed": false,
    "pycharm": {
     "name": "#%%\n"
    }
   }
  },
  {
   "cell_type": "code",
   "execution_count": 9,
   "outputs": [],
   "source": [
    "                                                                                        # Генераторы множеств и словарей"
   ],
   "metadata": {
    "collapsed": false,
    "pycharm": {
     "name": "#%%\n"
    }
   }
  },
  {
   "cell_type": "code",
   "execution_count": 2,
   "outputs": [
    {
     "name": "stdout",
     "output_type": "stream",
     "text": [
      "прилично\n"
     ]
    }
   ],
   "source": [
    "# Вводится строка со списком оценок, например:\n",
    "#\n",
    "# 2 неудовлетворительно удовлетворительно хорошо отлично\n",
    "#\n",
    "# Первая цифра - это числовое значение первой оценки. Остальные оценки имеют возрастающие на 1 числа. С помощью генератора словарей необходимо сформировать словарь d, где ключами будут выступать числа, а значениями - слова.\n",
    "# Например:\n",
    "#\n",
    "# d = {2: 'неудовлетворительно', 3: 'удовлетворительно', 4: 'хорошо', 5: 'отлично'}\n",
    "#\n",
    "# Вывести на экран значение сформированного словаря с ключом 4.\n",
    "#\n",
    "# Sample Input:\n",
    "#\n",
    "# 1 ужасно неудовлетворительно удовлетворительно прилично отлично\n",
    "# Sample Output:\n",
    "#\n",
    "# прилично\n",
    "\n",
    "s = input().split()\n",
    "start = int(s[0])\n",
    "grades = s[1:]\n",
    "d = {start + i: grade for i, grade in enumerate(grades)}\n",
    "print(d[4])"
   ],
   "metadata": {
    "collapsed": false,
    "pycharm": {
     "name": "#%%\n"
    }
   }
  },
  {
   "cell_type": "code",
   "execution_count": 19,
   "outputs": [
    {
     "name": "stdout",
     "output_type": "stream",
     "text": [
      "{1: 'ужасно', 2: 'неудовлетворительно', 3: 'удовлетворительно', 4: 'прилично', 5: 'отлично'}\n"
     ]
    },
    {
     "data": {
      "text/plain": "dict"
     },
     "execution_count": 19,
     "metadata": {},
     "output_type": "execute_result"
    }
   ],
   "source": [
    "print(d)\n",
    "type(d)"
   ],
   "metadata": {
    "collapsed": false,
    "pycharm": {
     "name": "#%%\n"
    }
   }
  },
  {
   "cell_type": "code",
   "execution_count": 17,
   "outputs": [
    {
     "name": "stdout",
     "output_type": "stream",
     "text": [
      " генератор списка [1, 4, 9, 16], <class 'list'>\n",
      " генератор множества {16, 1, 4, 9}, <class 'set'>\n",
      " генератор словаря {1: 1, 2: 4, 3: 9, 4: 16}, <class 'dict'>\n"
     ]
    }
   ],
   "source": [
    "a= [x ** 2 for x in range(1, 5)]\n",
    "print(f\" генератор списка {a}, {type (a)}\")\n",
    "a= {x ** 2 for x in range(1, 5)}\n",
    "print(f\" генератор множества {a}, {type (a)}\")\n",
    "a= {x: x ** 2 for x in range(1, 5)}\n",
    "print(f\" генератор словаря {a}, {type (a)}\")"
   ],
   "metadata": {
    "collapsed": false,
    "pycharm": {
     "name": "#%%\n"
    }
   }
  },
  {
   "cell_type": "code",
   "execution_count": 23,
   "outputs": [
    {
     "name": "stdout",
     "output_type": "stream",
     "text": [
      "(0, 'h')\n",
      "(1, 'e')\n",
      "(2, 'l')\n",
      "(3, 'l')\n",
      "(4, 'o')\n"
     ]
    },
    {
     "data": {
      "text/plain": "tuple"
     },
     "execution_count": 23,
     "metadata": {},
     "output_type": "execute_result"
    }
   ],
   "source": [
    "b = \"hello\"\n",
    "for i in enumerate(b):\n",
    "    print(i)\n",
    "type(i)"
   ],
   "metadata": {
    "collapsed": false,
    "pycharm": {
     "name": "#%%\n"
    }
   }
  },
  {
   "cell_type": "code",
   "execution_count": 23,
   "outputs": [],
   "source": [],
   "metadata": {
    "collapsed": false,
    "pycharm": {
     "name": "#%%\n"
    }
   }
  },
  {
   "cell_type": "code",
   "execution_count": null,
   "outputs": [],
   "source": [
    "# Подвиг 3. На автомойку в течение квартала заезжали машины. Их гос. номера фиксировались в журнале, следующим образом (пример):\n",
    "#\n",
    "# Е220СК\n",
    "# А120МВ\n",
    "# В101АА\n",
    "# Е220СК\n",
    "# А120МВ\n",
    "#\n",
    "# На основе такого списка через генератор множеств сформировать список уникальных машин. На экран вывести число уникальных машин.\n",
    "#\n",
    "# P. S. Для считывания списка целиком в программе уже записаны начальные строчки.\n",
    "#\n",
    "# Sample Input:\n",
    "#\n",
    "# А323ГД\n",
    "# Д456ВВ\n",
    "# Б001ББ\n",
    "# Д456ВВ\n",
    "# С111СС\n",
    "# Sample Output:\n",
    "#\n",
    "# 4\n",
    "\n",
    "import sys\n",
    "\n",
    "# считывание списка из входного потока\n",
    "lst_in = list(map(str.strip, sys.stdin.readlines()))\n",
    "lst_out = set(lst_in)\n",
    "print(len(lst_out))\n",
    "# здесь продолжайте программу (используйте список lst_in)"
   ],
   "metadata": {
    "collapsed": false,
    "pycharm": {
     "name": "#%%\n"
    }
   }
  },
  {
   "cell_type": "code",
   "execution_count": 30,
   "outputs": [
    {
     "name": "stdout",
     "output_type": "stream",
     "text": [
      "4\n"
     ]
    }
   ],
   "source": [
    "# Подвиг 4. Вводится текст в одну строчку со словами через пробел. С помощью генератора множеств сформировать множество из уникальных слов без учета регистра и длина которых не менее трех символов. Вывести на экран размер этого множества.\n",
    "#\n",
    "# Sample Input:\n",
    "#\n",
    "# Хижина изба машина и снова хижина машина\n",
    "# Sample Output:\n",
    "#\n",
    "# 4\n",
    "\n",
    "t = input().lower().split()\n",
    "res = {x for x in t if len(x) >= 3}\n",
    "print(len(res))"
   ],
   "metadata": {
    "collapsed": false,
    "pycharm": {
     "name": "#%%\n"
    }
   }
  },
  {
   "cell_type": "code",
   "execution_count": 31,
   "outputs": [
    {
     "data": {
      "text/plain": "{'изба', 'машина', 'снова', 'хижина'}"
     },
     "execution_count": 31,
     "metadata": {},
     "output_type": "execute_result"
    }
   ],
   "source": [
    "res"
   ],
   "metadata": {
    "collapsed": false,
    "pycharm": {
     "name": "#%%\n"
    }
   }
  },
  {
   "cell_type": "code",
   "execution_count": 34,
   "outputs": [
    {
     "name": "stdout",
     "output_type": "stream",
     "text": [
      "4\n"
     ]
    }
   ],
   "source": [
    "# Подвиг 5. Вводится текст в одну строчку со словами через пробел. Используя генераторы множеств и словарей, сформировать словарь в формате:\n",
    "#\n",
    "# {слово_1: количество_1, слово_2: количество_2, ..., слово_N: количество_N}\n",
    "#\n",
    "# То есть, ключами выступают уникальные слова (без учета регистра), а значениями - число их встречаемости в тексте. На экран вывести значение словаря для слова (союза) 'и'. Если такого ключа нет, то вывести 0.\n",
    "#\n",
    "# Sample Input:\n",
    "#\n",
    "# И что сказать и что сказать и нечего и точка\n",
    "# Sample Output:\n",
    "#\n",
    "# 4\n",
    "text = input().lower().split()\n",
    "word_dict = {word: text.count(word) for word in set(text)}\n",
    "print(word_dict.get('и', 0))\n",
    "# 0 в print(word_dict.get('и', 0)) для того что бы get вернул 0 если \"и\" ненайдется"
   ],
   "metadata": {
    "collapsed": false,
    "pycharm": {
     "name": "#%%\n"
    }
   }
  },
  {
   "cell_type": "code",
   "execution_count": 42,
   "outputs": [],
   "source": [],
   "metadata": {
    "collapsed": false,
    "pycharm": {
     "name": "#%%\n"
    }
   }
  },
  {
   "cell_type": "code",
   "execution_count": null,
   "outputs": [],
   "source": [
    "# Подвиг 6. Вводится список книг книжного магазина в формате:\n",
    "#\n",
    "# <автор 1>:<название 1>\n",
    "# ...\n",
    "# <автор N>:<название N>\n",
    "#\n",
    "# Авторы с названиями могут повторяться. Необходимо, используя генераторы, сформировать словарь с именем d вида:\n",
    "#\n",
    "# {'автор 1': {'название 1', 'название 2', ..., 'название M'}, ..., 'автор K': {'название 1', 'название 2', ..., 'название S'}}\n",
    "#\n",
    "# То есть, ключами выступают уникальные авторы, а значениями - множества с уникальными названиями книг соответствующего автора.\n",
    "#\n",
    "# На экран ничего выводить не нужно, только сформировать словарь обязательно с именем d - он, далее будет проверяться в тестах!\n",
    "#\n",
    "# P. S. Для считывания списка целиком в программе уже записаны начальные строчки.\n",
    "\n",
    "import sys\n",
    "# считывание списка из входного потока\n",
    "lst_in = list(map(str.strip, sys.stdin.readlines()))\n",
    "split_lst = [x.split(': ') for x in lst_in]\n",
    "d = {}\n",
    "for j in split_lst:\n",
    "    if j[0] not in d:\n",
    "        d[j[0]] = {j[1]}\n",
    "    else:\n",
    "        d[j[0]].add(j[1])\n"
   ],
   "metadata": {
    "collapsed": false,
    "pycharm": {
     "name": "#%%\n"
    }
   }
  }
 ],
 "metadata": {
  "kernelspec": {
   "display_name": "Python 3",
   "language": "python",
   "name": "python3"
  },
  "language_info": {
   "codemirror_mode": {
    "name": "ipython",
    "version": 2
   },
   "file_extension": ".py",
   "mimetype": "text/x-python",
   "name": "python",
   "nbconvert_exporter": "python",
   "pygments_lexer": "ipython2",
   "version": "2.7.6"
  }
 },
 "nbformat": 4,
 "nbformat_minor": 0
}