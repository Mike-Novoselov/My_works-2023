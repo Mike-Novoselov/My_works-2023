{
 "cells": [
  {
   "cell_type": "code",
   "execution_count": 1,
   "id": "initial_id",
   "metadata": {
    "collapsed": true,
    "ExecuteTime": {
     "end_time": "2023-10-27T03:45:04.761934500Z",
     "start_time": "2023-10-27T03:45:04.752926700Z"
    }
   },
   "outputs": [
    {
     "name": "stdout",
     "output_type": "stream",
     "text": [
      "1 a\n",
      "2 b\n",
      "3 c\n"
     ]
    }
   ],
   "source": [
    "list1 = [1, 2, 3]\n",
    "list2 = ['a', 'b', 'c']\n",
    "\n",
    "for item1, item2 in zip(list1, list2):\n",
    "    print(item1, item2)\n"
   ]
  },
  {
   "cell_type": "code",
   "execution_count": 2,
   "outputs": [
    {
     "name": "stdout",
     "output_type": "stream",
     "text": [
      "apple 1\n",
      "banana 2\n",
      "cherry 3\n"
     ]
    }
   ],
   "source": [
    "list1 = ['apple', 'banana', 'cherry']\n",
    "list2 = [1, 2, 3]\n",
    "\n",
    "for item1, item2 in zip(list1, list2):\n",
    "    print(item1, item2)\n"
   ],
   "metadata": {
    "collapsed": false,
    "ExecuteTime": {
     "end_time": "2023-10-27T03:45:13.135250900Z",
     "start_time": "2023-10-27T03:45:13.093213300Z"
    }
   },
   "id": "d5f313f75eae4a8d"
  },
  {
   "cell_type": "code",
   "execution_count": 3,
   "outputs": [
    {
     "name": "stdout",
     "output_type": "stream",
     "text": [
      "apple 2\n",
      "1 cherry\n",
      "banana 3.14\n"
     ]
    }
   ],
   "source": [
    "list1 = ['apple', 1, 'banana']\n",
    "list2 = [2, 'cherry', 3.14]\n",
    "\n",
    "for item1, item2 in zip(list1, list2):\n",
    "    print(item1, item2)\n"
   ],
   "metadata": {
    "collapsed": false,
    "ExecuteTime": {
     "end_time": "2023-10-27T03:45:30.648810600Z",
     "start_time": "2023-10-27T03:45:30.606709300Z"
    }
   },
   "id": "c60505bcad4c1ae8"
  },
  {
   "cell_type": "code",
   "execution_count": 8,
   "outputs": [
    {
     "name": "stdout",
     "output_type": "stream",
     "text": [
      "(1, 5) (2, 6) (3, 7) (4, 8)\n"
     ]
    }
   ],
   "source": [
    "a = [1,2,3,4]\n",
    "b= [5,6,7,8,9,10]\n",
    "\n",
    "z = zip(a,b)\n",
    "\n",
    "# print(next(z))\n",
    "print(*z)"
   ],
   "metadata": {
    "collapsed": false,
    "ExecuteTime": {
     "end_time": "2023-10-27T03:52:31.489494300Z",
     "start_time": "2023-10-27T03:52:31.477483500Z"
    }
   },
   "id": "c39487ad95e99a93"
  },
  {
   "cell_type": "code",
   "execution_count": 9,
   "outputs": [
    {
     "name": "stdout",
     "output_type": "stream",
     "text": [
      "(1, 5, 'p') (2, 6, 'y') (3, 7, 't') (4, 8, 'h')\n"
     ]
    }
   ],
   "source": [
    "a = [1,2,3,4]\n",
    "b= [5,6,7,8,9,10]\n",
    "c = \"python\"\n",
    "\n",
    "z1, z2, z3, z4 = zip(a,b,c)\n",
    "print(z1, z2, z3, z4)"
   ],
   "metadata": {
    "collapsed": false,
    "ExecuteTime": {
     "end_time": "2023-10-27T03:54:54.174228100Z",
     "start_time": "2023-10-27T03:54:54.135620Z"
    }
   },
   "id": "bb0cfbf93dd9e551"
  },
  {
   "cell_type": "code",
   "execution_count": 10,
   "outputs": [
    {
     "name": "stdout",
     "output_type": "stream",
     "text": [
      "(1, 5, 'p') [(2, 6, 'y'), (3, 7, 't'), (4, 8, 'h')]\n"
     ]
    }
   ],
   "source": [
    "a = [1,2,3,4]\n",
    "b= [5,6,7,8,9,10]\n",
    "c = \"python\"\n",
    "\n",
    "z1, *z2 = zip(a,b,c)\n",
    "print(z1, z2)"
   ],
   "metadata": {
    "collapsed": false,
    "ExecuteTime": {
     "end_time": "2023-10-27T03:55:11.663158900Z",
     "start_time": "2023-10-27T03:55:11.646143900Z"
    }
   },
   "id": "7ae1320488363f68"
  },
  {
   "cell_type": "code",
   "execution_count": 11,
   "outputs": [
    {
     "name": "stdout",
     "output_type": "stream",
     "text": [
      "(1, 5, 'p') (2, 6, 'y') (3, 7, 't') (4, 8, 'h')\n"
     ]
    }
   ],
   "source": [
    "a = [1,2,3,4]\n",
    "b= [5,6,7,8,9,10]\n",
    "c = \"python\"\n",
    "\n",
    "z = zip(a,b,c)\n",
    "print(*z)"
   ],
   "metadata": {
    "collapsed": false,
    "ExecuteTime": {
     "end_time": "2023-10-27T03:56:01.552460500Z",
     "start_time": "2023-10-27T03:56:01.528438700Z"
    }
   },
   "id": "d317cc0c3ba8f897"
  },
  {
   "cell_type": "code",
   "execution_count": 12,
   "outputs": [],
   "source": [
    "# Подвиг 1. Вводятся два списка целых чисел. Необходимо попарно перебрать их элементы и перемножить между собой. При реализации программы используйте функции zip и map. Выведите на экран первые три значения, используя функцию next. Значения выводятся в строчку через пробел. (Полагается, что три выходных значения всегда будут присутствовать).\n",
    "# \n",
    "# Sample Input:\n",
    "# \n",
    "# -7 8 11 -1 3\n",
    "# 1 2 3 4 5 6 7 8 9 10\n",
    "# Sample Output:\n",
    "# \n",
    "# -7 16 33\n",
    "\n",
    "lst1 = list(map(int, input().split())) \n",
    "lst2 = list(map(int, input().split()))"
   ],
   "metadata": {
    "collapsed": false,
    "ExecuteTime": {
     "end_time": "2023-10-27T04:00:16.965695500Z",
     "start_time": "2023-10-27T04:00:08.145074700Z"
    }
   },
   "id": "1a20b8e8f1ab3c28"
  },
  {
   "cell_type": "code",
   "execution_count": 42,
   "outputs": [
    {
     "name": "stdout",
     "output_type": "stream",
     "text": [
      "-7 16 33 "
     ]
    }
   ],
   "source": [
    "z = zip(lst1, lst2)\n",
    "\n",
    "x,y = next(z)\n",
    "print(x*y, end=\" \")\n",
    "x,y = next(z)\n",
    "print(x*y, end=\" \")\n",
    "x,y = next(z)\n",
    "print(x*y, end=\" \")"
   ],
   "metadata": {
    "collapsed": false,
    "ExecuteTime": {
     "end_time": "2023-10-27T04:10:04.877211900Z",
     "start_time": "2023-10-27T04:10:04.859195500Z"
    }
   },
   "id": "d6bbdc8016a6c9c5"
  },
  {
   "cell_type": "code",
   "execution_count": 42,
   "outputs": [],
   "source": [],
   "metadata": {
    "collapsed": false,
    "ExecuteTime": {
     "end_time": "2023-10-27T04:10:10.911309100Z",
     "start_time": "2023-10-27T04:10:10.874189Z"
    }
   },
   "id": "9523595a535ebe07"
  },
  {
   "cell_type": "code",
   "execution_count": null,
   "outputs": [],
   "source": [
    "a = map(int, input().split())\n",
    "b = map(int, input().split())\n",
    "lst = [i * j for i, j in zip(a, b)]\n",
    "print(*lst[:3])"
   ],
   "metadata": {
    "collapsed": false
   },
   "id": "a7c830a92dfb66b9"
  },
  {
   "cell_type": "code",
   "execution_count": null,
   "outputs": [],
   "source": [],
   "metadata": {
    "collapsed": false
   },
   "id": "dfd508acd32ea329"
  },
  {
   "cell_type": "code",
   "execution_count": 43,
   "outputs": [
    {
     "name": "stdout",
     "output_type": "stream",
     "text": [
      "-7 16 33 "
     ]
    }
   ],
   "source": [
    "n= [-7, 8, 11, -1, 3]\n",
    "m= [1, 2, 3, 4, 5, 6, 7, 8, 9, 10]\n",
    "res=(x*y for x,y in zip(n, m))\n",
    "for _ in range(3):\n",
    "    print(next(res), end= \" \")"
   ],
   "metadata": {
    "collapsed": false,
    "ExecuteTime": {
     "end_time": "2023-10-27T04:12:05.857250200Z",
     "start_time": "2023-10-27T04:12:05.819351300Z"
    }
   },
   "id": "5e728598baf1dc78"
  },
  {
   "cell_type": "code",
   "execution_count": 91,
   "outputs": [
    {
     "name": "stdout",
     "output_type": "stream",
     "text": [
      "[[1, 2, 3, 4, 5, 6], [3, 4, 5, 6], [7, 8, 9], [9, 7, 5, 3, 2]]\n",
      "[(1, 3, 7, 9), (2, 4, 8, 7), (3, 5, 9, 5)]\n"
     ]
    }
   ],
   "source": [
    "# Подвиг 2. Вводится неравномерная таблица целых чисел. С помощью функции zip выровнить эту таблицу, приведя ее к прямоугольному виду, отбросив выходящие элементы. Вывести результат на экран в виде такой же таблицы чисел.\n",
    "# \n",
    "# P. S. Для считывания списка целиком в программе уже записаны начальные строчки.\n",
    "# \n",
    "# Sample Input:\n",
    "# \n",
    "# 1 2 3 4 5 6\n",
    "# 3 4 5 6\n",
    "# 7 8 9\n",
    "# 9 7 5 3 2\n",
    "# Sample Output:\n",
    "# \n",
    "# 1 2 3\n",
    "# 3 4 5\n",
    "# 7 8 9\n",
    "# 9 7 5\n",
    "\n",
    "lst_in = ['1 2 3 4 5 6', '3 4 5 6', '7 8 9', '9 7 5 3 2']\n",
    "\n",
    "lst_out = [[int(num) for num in sub_lst.split()] for sub_lst in lst_in]\n",
    "\n",
    "print(lst_out)\n",
    "\n",
    "zipper = list(zip(lst_out[0], lst_out[1], lst_out[2], lst_out[3]))\n",
    "\n",
    "print(zipper)\n",
    "\n",
    "t1, t2, t3, t4, = zip(*zipper)"
   ],
   "metadata": {
    "collapsed": false,
    "ExecuteTime": {
     "end_time": "2023-10-27T04:49:18.948697500Z",
     "start_time": "2023-10-27T04:49:18.928678900Z"
    }
   },
   "id": "35106bfa86a792ba"
  },
  {
   "cell_type": "code",
   "execution_count": 92,
   "outputs": [
    {
     "name": "stdout",
     "output_type": "stream",
     "text": [
      "1 2 3\n",
      "3 4 5\n",
      "7 8 9\n",
      "9 7 5\n"
     ]
    }
   ],
   "source": [
    "print(*list(t1))\n",
    "print(*list(t2))\n",
    "print(*list(t3))\n",
    "print(*list(t4))"
   ],
   "metadata": {
    "collapsed": false,
    "ExecuteTime": {
     "end_time": "2023-10-27T04:49:19.359070Z",
     "start_time": "2023-10-27T04:49:19.323037800Z"
    }
   },
   "id": "95b1469424eaf19"
  },
  {
   "cell_type": "code",
   "execution_count": null,
   "outputs": [],
   "source": [
    "import sys\n",
    "\n",
    "# считывание списка из входного потока\n",
    "lst_in = list(map(str.strip, sys.stdin.readlines()))\n",
    "\n",
    "for i in zip(*zip(*lst_in)):\n",
    "    print(*i, sep='')"
   ],
   "metadata": {
    "collapsed": false
   },
   "id": "ac2d7e73ec37ce4d"
  },
  {
   "cell_type": "code",
   "execution_count": 131,
   "outputs": [
    {
     "name": "stdout",
     "output_type": "stream",
     "text": [
      "1 5 9\n",
      "2 6 8\n",
      "3 7 7\n",
      "4 8 6\n"
     ]
    }
   ],
   "source": [
    "# Подвиг 3. Вводится таблица целых чисел. Необходимо сначала эту таблицу представить двумерным списком чисел, а затем, с помощью функции zip выполнить транспонирование этой таблицы (то есть, строки заменить на соответствующие столбцы). Результат вывести на экран в виде таблицы чисел (числа в строках следуют через пробел).\n",
    "# \n",
    "# P. S. Для считывания списка целиком в программе уже записаны начальные строчки.\n",
    "# \n",
    "# Sample Input:\n",
    "# \n",
    "# 1 2 3 4\n",
    "# 5 6 7 8\n",
    "# 9 8 7 6\n",
    "# Sample Output:\n",
    "# \n",
    "# 1 5 9\n",
    "# 2 6 8\n",
    "# 3 7 7\n",
    "# 4 8 6\n",
    "\n",
    "\n",
    "import sys\n",
    "\n",
    "# считывание списка из входного потока\n",
    "lst_in = list(map(str.strip, sys.stdin.readlines()))\n",
    "# lst_in = ['1 2 3 4', '5 6 7 8', '9 8 7 6']\n",
    "\n",
    "# здесь продолжайте программу (используйте список строк lst_in)\n",
    "lst_out = [[int(num) for num in sub_lst.split()] for sub_lst in lst_in]\n",
    "\n",
    "for i in zip(*lst_out):\n",
    "    print(*i, sep=' ')\n",
    "\n",
    "\n"
   ],
   "metadata": {
    "collapsed": false,
    "ExecuteTime": {
     "end_time": "2023-10-27T05:15:01.412924800Z",
     "start_time": "2023-10-27T05:15:01.386501600Z"
    }
   },
   "id": "848ac77aafad4e4e"
  },
  {
   "cell_type": "code",
   "execution_count": 132,
   "outputs": [
    {
     "name": "stdout",
     "output_type": "stream",
     "text": [
      "Москва Уфа Тула\n",
      "Самара Омск Воронеж\n",
      "Владивосток Лондон Калининград\n"
     ]
    }
   ],
   "source": [
    "# Подвиг 4. Вводится строка из слов, записанных через пробел. Необходимо на их основе составить прямоугольную таблицу из трех столбцов и N строк (число строк столько, сколько получится). Лишнее (выходящее) слово - отбросить. Реализовать эту программу с использованием функции zip. Результат отобразить на экране в виде прямоугольной таблицы из слов, записанных через пробел (в каждой строчке).\n",
    "# \n",
    "# Sample Input:\n",
    "# \n",
    "# Москва Уфа Тула Самара Омск Воронеж Владивосток Лондон Калининград Севастополь\n",
    "# Sample Output:\n",
    "# \n",
    "# Москва Уфа Тула\n",
    "# Самара Омск Воронеж\n",
    "# Владивосток Лондон Калининград\n",
    "\n",
    "\n",
    "s = ['Москва', 'Уфа', 'Тула', 'Самара', 'Омск', 'Воронеж', 'Владивосток', 'Лондон', 'Калининград', 'Севастополь']\n",
    "\n",
    "# s = input().split()\n",
    "\n",
    "lst = [s[i::3] for i in range(len(s) // 3)]\n",
    "\n",
    "for i in zip(*lst):\n",
    "    print(*i)"
   ],
   "metadata": {
    "collapsed": false,
    "ExecuteTime": {
     "end_time": "2023-10-27T05:25:58.615874500Z",
     "start_time": "2023-10-27T05:25:58.589850500Z"
    }
   },
   "id": "11aa6147d9e5b04"
  },
  {
   "cell_type": "code",
   "execution_count": 135,
   "outputs": [
    {
     "name": "stdout",
     "output_type": "stream",
     "text": [
      "[('P', 0), ('y', 1), ('t', 2), ('h', 3), ('o', 4), ('n', 5), (' ', 6), ('д', 7), ('а', 8), ('й', 9)]\n"
     ]
    }
   ],
   "source": [
    "# Подвиг 5. Вводится строка. Требуется, используя введенную строку, сформировать N=10 пар кортежей в формате:\n",
    "# \n",
    "# (символ, порядковый индекс)\n",
    "# \n",
    "# Первый индекс имеет значение 0. Строка может быть короче 10 символов, а может быть и длиннее. То есть, число пар может быть 10 и менее. Используя функцию zip сформируйте указанные кортежи и сохраните в список с именем lst.\n",
    "# \n",
    "# Программа ничего не должна отображать на экране, только формировать список из кортежей.\n",
    "# \n",
    "# Sample Input:\n",
    "# \n",
    "# Python дай мне силы пройти этот курс до конца!\n",
    "# Sample Output:\n",
    "# \n",
    "# True\n",
    "\n",
    "s = \"Python дай мне силы пройти этот курс до конца!\"\n",
    "\n",
    "lst = list(zip(s, range(10)))\n",
    "print(lst)\n",
    "\n"
   ],
   "metadata": {
    "collapsed": false,
    "ExecuteTime": {
     "end_time": "2023-10-27T05:36:19.847696Z",
     "start_time": "2023-10-27T05:36:19.830681200Z"
    }
   },
   "id": "ae35b6351786ed50"
  },
  {
   "cell_type": "code",
   "execution_count": null,
   "outputs": [],
   "source": [],
   "metadata": {
    "collapsed": false
   },
   "id": "91a5bcafd9ae93f"
  }
 ],
 "metadata": {
  "kernelspec": {
   "display_name": "Python 3",
   "language": "python",
   "name": "python3"
  },
  "language_info": {
   "codemirror_mode": {
    "name": "ipython",
    "version": 2
   },
   "file_extension": ".py",
   "mimetype": "text/x-python",
   "name": "python",
   "nbconvert_exporter": "python",
   "pygments_lexer": "ipython2",
   "version": "2.7.6"
  }
 },
 "nbformat": 4,
 "nbformat_minor": 5
}
