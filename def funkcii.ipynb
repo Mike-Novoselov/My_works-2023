{
 "cells": [
  {
   "cell_type": "code",
   "execution_count": 1,
   "metadata": {
    "collapsed": false,
    "pycharm": {
     "is_executing": true,
     "name": "#%%\n"
    }
   },
   "outputs": [
    {
     "name": "stdout",
     "output_type": "stream",
     "text": [
      "Уважаемый, Сергей Балакирев!\n",
      "Я так и не понял, что такое функция.\n",
      "Объясните лучше!\n",
      "Ваш, навсегда Mike! И не судите строго, мне всего 7 лет.\n"
     ]
    }
   ],
   "source": [
    "import time\n",
    "\n",
    "\n",
    "def send_mail(from_name = \"Biba\", old = 777):\n",
    "    text = f\"\"\"Уважаемый, Сергей Балакирев!\n",
    "Я так и не понял, что такое функция.\n",
    "Объясните лучше!\n",
    "Ваш, навсегда {from_name}! И не судите строго, мне всего {old} лет.\"\"\"\n",
    "\n",
    "    print(text)\n",
    "\n",
    "send_mail(\"Mike\", 7)"
   ]
  },
  {
   "cell_type": "code",
   "execution_count": 2,
   "metadata": {
    "collapsed": false,
    "pycharm": {
     "name": "#%%\n"
    }
   },
   "outputs": [
    {
     "name": "stdout",
     "output_type": "stream",
     "text": [
      "Уважаемый, Сергей Балакирев!\n",
      "Я так и не понял, что такое функция.\n",
      "Объясните лучше!\n",
      "Ваш, навсегда Biba! И не судите строго, мне всего 777 лет.\n"
     ]
    }
   ],
   "source": [
    "send_mail()"
   ]
  },
  {
   "cell_type": "code",
   "execution_count": null,
   "metadata": {
    "collapsed": false,
    "pycharm": {
     "name": "#%%\n"
    }
   },
   "outputs": [],
   "source": [
    "# Подвиг 3. Задайте функцию, которая не принимает никаких аргументов и просто выводит на экран строку:\n",
    "#\n",
    "# It's my first function\n",
    "#\n",
    "# В конце программы вызовите эту функцию.\n",
    "#\n",
    "# Sample Input:\n",
    "#\n",
    "# Sample Output:\n",
    "#\n",
    "# It's my first function\n",
    "def go():\n",
    "    text = \"It's my first function\"\n",
    "    print(text)\n",
    "\n",
    "\n",
    "go()\n"
   ]
  },
  {
   "cell_type": "code",
   "execution_count": null,
   "metadata": {
    "collapsed": false,
    "pycharm": {
     "name": "#%%\n"
    }
   },
   "outputs": [],
   "source": [
    "# Подвиг 4. Запишите функцию без аргументов, которая считывает с клавиатуры имя и фамилию, записанные в одну строку через пробел, и выводит на экран сообщение (без кавычек):\n",
    "#\n",
    "# \"Уважаемый, <имя> <фамилия>! Вы верно выполнили это задание!\"\n",
    "#\n",
    "# В конце программы вызовите эту функцию.\n",
    "#\n",
    "# Sample Input:\n",
    "#\n",
    "# Сергей Балакирев\n",
    "# Sample Output:\n",
    "#\n",
    "# Уважаемый, Сергей Балакирев! Вы верно выполнили это задание!\n",
    "\n",
    "def go(first_name=\"Сергей \", second_name=\"Балакирев\"):\n",
    "    print(f\"Уважаемый, {first_name} {second_name}! Вы верно выполнили это задание!\")\n",
    "\n",
    "x,y = input().split()\n",
    "go(x,y)"
   ]
  },
  {
   "cell_type": "code",
   "execution_count": 5,
   "metadata": {
    "collapsed": false,
    "pycharm": {
     "name": "#%%\n"
    }
   },
   "outputs": [
    {
     "name": "stdout",
     "output_type": "stream",
     "text": [
      "Предмет имеет вес: 12.67 кг\n"
     ]
    }
   ],
   "source": [
    "# Подвиг 5. Объявите функцию, которая имеет один параметр - вес предмета и выводит на экран сообщение (без кавычек):\n",
    "#\n",
    "# \"Предмет имеет вес: x кг.\"\n",
    "#\n",
    "# где x - переданное значение функции. После объявления функции прочитайте (с помощью функции input) вещественное число и вызовите функцию с этим значением.\n",
    "#\n",
    "# Sample Input:\n",
    "#\n",
    "# 12.67\n",
    "# Sample Output:\n",
    "#\n",
    "# Предмет имеет вес: 12.67 кг.\n",
    "\n",
    "def go(weight=\"Сергей \"):\n",
    "    print(f\"Предмет имеет вес: {weight} кг.\")\n",
    "\n",
    "x = input()\n",
    "go(x)"
   ]
  },
  {
   "cell_type": "code",
   "execution_count": 25,
   "metadata": {
    "collapsed": false,
    "pycharm": {
     "name": "#%%\n"
    }
   },
   "outputs": [
    {
     "name": "stdout",
     "output_type": "stream",
     "text": [
      "Min = -10, max = 12, sum = 26\n"
     ]
    }
   ],
   "source": [
    "# Подвиг 6. Объявите функцию, которая принимает список, находит максимальное, минимальное и сумму значений этого списка и выводит результат в виде строки (без кавычек):\n",
    "#\n",
    "# \"Min = v_min, max = v_max, sum = v_sum\"\n",
    "#\n",
    "# где v_min, v_max, v_sum - вычисленные значения минимального, максимального и суммы значений списка.\n",
    "#\n",
    "# После объявления функции прочитайте (с помощью функции input) список целых чисел, записанных в одну строку через пробел, и вызовите функцию с этим списком.\n",
    "#\n",
    "# Sample Input:\n",
    "#\n",
    "# 8 11 5 -10 12 0\n",
    "# Sample Output:\n",
    "#\n",
    "# Min = -10, max = 12, sum = 26\n",
    "\n",
    "def weighting(weight):\n",
    "    print(f\"Min = {min(weight)}, max = {max(weight)}, sum = {sum(weight)}\")\n",
    "\n",
    "\n",
    "x = (list(map(int, input().split())))\n",
    "weighting(x)"
   ]
  },
  {
   "cell_type": "code",
   "execution_count": null,
   "metadata": {
    "collapsed": false,
    "pycharm": {
     "name": "#%%\n"
    }
   },
   "outputs": [],
   "source": [
    "def print_min_max_sum(nums):\n",
    "    \"\"\"\n",
    "    Принимает коллекцию чисел и печатает\n",
    "    её минимальное и максимальное значения,\n",
    "    сумму её элементов\n",
    "    \"\"\"\n",
    "    print(f\"Min = {min(nums)}, max = {max(nums)}, sum = {sum(nums)}\")\n",
    "\n",
    "\n",
    "print_min_max_sum([int(x) for x in input().split()])\n"
   ]
  },
  {
   "cell_type": "code",
   "execution_count": 30,
   "metadata": {
    "collapsed": false,
    "pycharm": {
     "name": "#%%\n"
    }
   },
   "outputs": [
    {
     "name": "stdout",
     "output_type": "stream",
     "text": [
      "Периметр прямоугольника, равен 38\n"
     ]
    }
   ],
   "source": [
    "# Подвиг 7. Объявите функцию с двумя параметрами width и height (ширина и высота прямоугольника), которая выводит сообщение (без кавычек):\n",
    "#\n",
    "# \"Периметр прямоугольника, равен x\"\n",
    "#\n",
    "# где x - вычисленный периметр прямоугольника. После объявления функции прочитайте (с помощью функции input) два целых числа, записанных в одну строку через пробел, и вызовите функцию с этими значениями.\n",
    "#\n",
    "# Sample Input:\n",
    "#\n",
    "# 8 11\n",
    "# Sample Output:\n",
    "#\n",
    "# Периметр прямоугольника, равен 38\n",
    "\n",
    "def perimetr(nums):\n",
    "    # print(f\"Периметр прямоугольника, равен {(nums[0]*2)+(nums[1]*2)}\")\n",
    "    print(f\"Периметр прямоугольника, равен {(sum(nums*2))}\")\n",
    "\n",
    "\n",
    "perimetr([int(x) for x in input().split()])"
   ]
  },
  {
   "cell_type": "code",
   "execution_count": 29,
   "metadata": {
    "collapsed": false,
    "pycharm": {
     "name": "#%%\n"
    }
   },
   "outputs": [
    {
     "name": "stdout",
     "output_type": "stream",
     "text": [
      "[3, 4, 5]\n",
      "3 4 5\n"
     ]
    }
   ],
   "source": [
    "a, b, *c = [1, 2, 3, 4, 5] # с множественным присваиванием тоже работает\n",
    "print(c)\n",
    "print(*c)"
   ]
  },
  {
   "cell_type": "code",
   "execution_count": 1,
   "metadata": {
    "collapsed": false,
    "pycharm": {
     "name": "#%%\n"
    }
   },
   "outputs": [
    {
     "name": "stdout",
     "output_type": "stream",
     "text": [
      "ДА\n"
     ]
    }
   ],
   "source": [
    "# Подвиг 8. Напишите функцию, которая проверяет корректность переданного ей email-адреса в виде строки. Будем полагать, что адрес верен, если он обязательно содержит символы '@' и '.', а все остальные символы могут принимать значения: 'a-z', 'A-Z', '0-9' и '_'. Если email верен, то функция выводит ДА, иначе - НЕТ.\n",
    "#\n",
    "# После объявления функции прочитайте (с помощью функции input) строку с email-адресом и вызовите функцию с этим аргументом.\n",
    "#\n",
    "# Sample Input:\n",
    "#\n",
    "# sc_lib@list.ru\n",
    "# Sample Output:\n",
    "#\n",
    "# ДА\n",
    "\n",
    "\n",
    "x = input()\n",
    "\n",
    "if \"@\" and '.' in x:\n",
    "    print(\"ДА\")\n",
    "else:\n",
    "    print(\"НЕТ\")"
   ]
  },
  {
   "cell_type": "code",
   "execution_count": 41,
   "metadata": {
    "collapsed": false,
    "pycharm": {
     "name": "#%%\n"
    }
   },
   "outputs": [
    {
     "name": "stdout",
     "output_type": "stream",
     "text": [
      "ДА\n"
     ]
    }
   ],
   "source": [
    "def send(mail):\n",
    "    if \"@\" and '.' in mail:\n",
    "        print(\"ДА\")\n",
    "    else:\n",
    "        print(\"НЕТ\")\n",
    "\n",
    "x = input()\n",
    "send(x)"
   ]
  },
  {
   "cell_type": "code",
   "execution_count": 43,
   "metadata": {
    "collapsed": false,
    "pycharm": {
     "name": "#%%\n"
    }
   },
   "outputs": [
    {
     "name": "stdout",
     "output_type": "stream",
     "text": [
      "ДА\n"
     ]
    }
   ],
   "source": [
    "def check_mail(mail):\n",
    "    for i in mail:\n",
    "        if i.lower() in letters:\n",
    "            continue\n",
    "        else:\n",
    "            return 'НЕТ'\n",
    "    return 'ДА'\n",
    "\n",
    "\n",
    "letters = ['q', 'w', 'e', 'r', 't', 'y', 'u', 'i', 'o', 'p', 'a', 's', 'd', 'f', 'g', 'h', 'j', 'k', 'l', 'z', 'x', 'c',\n",
    "           'v', 'b', 'n', 'm', '_', '@', '.', '1','2','3','4','5','6','7','8','9']\n",
    "mail = input()\n",
    "print(check_mail(mail))"
   ]
  },
  {
   "cell_type": "code",
   "execution_count": null,
   "metadata": {
    "collapsed": false,
    "pycharm": {
     "name": "#%%\n"
    }
   },
   "outputs": [],
   "source": []
  },
  {
   "cell_type": "code",
   "execution_count": 5,
   "metadata": {
    "collapsed": false,
    "pycharm": {
     "name": "#%%\n"
    }
   },
   "outputs": [
    {
     "name": "stdout",
     "output_type": "stream",
     "text": [
      "7.0\n"
     ]
    }
   ],
   "source": [
    "def get_sqrt(x):\n",
    "    res = None if x < 0 else x ** 0.5\n",
    "    return res\n",
    "\n",
    "a = get_sqrt(49)\n",
    "print(a)"
   ]
  },
  {
   "cell_type": "code",
   "execution_count": 3,
   "metadata": {
    "collapsed": false,
    "pycharm": {
     "name": "#%%\n"
    }
   },
   "outputs": [],
   "source": []
  },
  {
   "cell_type": "code",
   "execution_count": 6,
   "metadata": {
    "collapsed": false,
    "pycharm": {
     "name": "#%%\n"
    }
   },
   "outputs": [
    {
     "name": "stdout",
     "output_type": "stream",
     "text": [
      "10\n"
     ]
    }
   ],
   "source": [
    "def get_max2(a, b):\n",
    "    return a if a > b else b\n",
    "\n",
    "x, y, z = 5, 7, 10\n",
    "print(get_max2(x, get_max2(y, z)))"
   ]
  },
  {
   "cell_type": "code",
   "execution_count": 7,
   "metadata": {
    "collapsed": false,
    "pycharm": {
     "name": "#%%\n"
    }
   },
   "outputs": [
    {
     "name": "stdout",
     "output_type": "stream",
     "text": [
      "10\n"
     ]
    }
   ],
   "source": [
    "def get_max3(a, b, c):\n",
    "    return get_max2(a, get_max2(b, c))\n",
    "\n",
    "x, y, z = 5, 7, 10\n",
    "print(get_max3(x, y, z))"
   ]
  },
  {
   "cell_type": "code",
   "execution_count": 13,
   "metadata": {
    "collapsed": false,
    "pycharm": {
     "name": "#%%\n"
    }
   },
   "outputs": [
    {
     "name": "stdout",
     "output_type": "stream",
     "text": [
      "2.25\n",
      "2.25\n"
     ]
    }
   ],
   "source": [
    "# Подвиг 1. Объявите функцию, которая принимает один аргумент (вещественное число), и возвращает квадрат этого числа.\n",
    "# После объявления функции прочитайте (с помощью функции input) вещественное число и вызовите функцию с этим значением. Выведите на экран результат работы функции.\n",
    "#\n",
    "# Sample Input:\n",
    "#\n",
    "# 1.5\n",
    "# Sample Output:\n",
    "#\n",
    "# 2.25\n",
    "\n",
    "def sqrt(x):\n",
    "    return x**2\n",
    "\n",
    "\n",
    "# x = float(input())\n",
    "# print(sqrt(x))\n",
    "\n",
    "print(sqrt(x = float(input())))"
   ]
  },
  {
   "cell_type": "code",
   "execution_count": 36,
   "metadata": {
    "collapsed": false,
    "pycharm": {
     "name": "#%%\n"
    }
   },
   "outputs": [
    {
     "name": "stdout",
     "output_type": "stream",
     "text": [
      "True\n"
     ]
    }
   ],
   "source": [
    "# Подвиг 2. Объявите функцию с именем is_triangle, которая принимает три стороны треугольника (целые числа) и проверяет, можно ли из переданных аргументов составить треугольник. (Напомню, что у любого треугольника длина третьей стороны всегда должна быть меньше суммы двух других). Если  проверка проходит, вернуть булево значение True, иначе - значение False.\n",
    "#\n",
    "# Вызывать функцию не нужно, только задать.\n",
    "#\n",
    "# Sample Input:\n",
    "#\n",
    "# 3 4 5\n",
    "# Sample Output:\n",
    "#\n",
    "# True\n",
    "\n",
    "def is_triangle(a, b, c):\n",
    "    return True if c < (a + b) else False\n",
    "\n",
    "# x,y,z = (list(map(int, input().split())))\n",
    "# x, y, z = map(int, input().split())\n",
    "\n",
    "x, y, z = input().split()\n",
    "x = int(x)\n",
    "y = int(y)\n",
    "z = int(z)\n",
    "\n",
    "print(is_triangle(x,y,z))"
   ]
  },
  {
   "cell_type": "code",
   "execution_count": null,
   "metadata": {
    "collapsed": false,
    "pycharm": {
     "name": "#%%\n"
    }
   },
   "outputs": [],
   "source": [
    "def is_triangle(a, b, c):\n",
    "    a, b, c = sorted((a, b, c)) # в скобках кортеж\n",
    "    return c < a + b"
   ]
  },
  {
   "cell_type": "code",
   "execution_count": null,
   "metadata": {
    "collapsed": false,
    "pycharm": {
     "name": "#%%\n"
    }
   },
   "outputs": [],
   "source": []
  },
  {
   "cell_type": "code",
   "execution_count": 37,
   "metadata": {
    "collapsed": false,
    "pycharm": {
     "name": "#%%\n"
    }
   },
   "outputs": [],
   "source": [
    "# Подвиг 3. Объявите функцию с именем is_large, которая принимает строку (в качестве аргумента) и возвращает False, если длина строки меньше трех символов. Иначе возвращается значение True.\n",
    "#\n",
    "# Вызывать функцию не нужно, только объявить.\n",
    "#\n",
    "# Sample Input:\n",
    "#\n",
    "# Я люблю Python!\n",
    "# Sample Output:\n",
    "#\n",
    "# True\n",
    "\n",
    "def is_large(x):\n",
    "    return True if len(x) >= 3 else False"
   ]
  },
  {
   "cell_type": "code",
   "execution_count": 39,
   "metadata": {
    "collapsed": false,
    "pycharm": {
     "name": "#%%\n"
    }
   },
   "outputs": [
    {
     "data": {
      "text/plain": [
       "True"
      ]
     },
     "execution_count": 39,
     "metadata": {},
     "output_type": "execute_result"
    }
   ],
   "source": [
    "is_large(\"Я люблю Python!\")"
   ]
  },
  {
   "cell_type": "code",
   "execution_count": 49,
   "metadata": {
    "collapsed": false,
    "pycharm": {
     "name": "#%%\n"
    }
   },
   "outputs": [],
   "source": [
    "# Подвиг 4. Объявите функцию для проверки числа на четность (возвращается True, если переданное число четное и False, если число нечетное).\n",
    "#\n",
    "# После объявления функции в цикле необходимо считывать целое числовое значение (функцией input), пока не поступит число 1. Если прочитанное значение четное (проверяется с помощью заданной функции), то оно выводится на экран (в столбик, то есть, каждое значение с новой строки).\n",
    "#\n",
    "# Sample Input:\n",
    "#\n",
    "# 2\n",
    "# -4\n",
    "# 5\n",
    "# 7\n",
    "# 10\n",
    "# 1\n",
    "# Sample Output:\n",
    "#\n",
    "# 2\n",
    "# -4\n",
    "# 10\n",
    "\n",
    "def check(x):\n",
    "    return True if x % 2 == 0 else False\n",
    "\n",
    "while x != 1:\n",
    "    x = int(input())\n",
    "    if check(x):\n",
    "        print(x)\n"
   ]
  },
  {
   "cell_type": "code",
   "execution_count": 43,
   "metadata": {
    "collapsed": false,
    "pycharm": {
     "name": "#%%\n"
    }
   },
   "outputs": [],
   "source": [
    "def is_even(num):\n",
    "    return num % 2 == 0\n",
    "\n",
    "while True:\n",
    "    num = int(input())\n",
    "    if num == 1:\n",
    "        break\n",
    "    if is_even(num):\n",
    "        print(num)"
   ]
  },
  {
   "cell_type": "code",
   "execution_count": null,
   "metadata": {
    "collapsed": false,
    "pycharm": {
     "name": "#%%\n"
    }
   },
   "outputs": [],
   "source": []
  },
  {
   "cell_type": "code",
   "execution_count": 1,
   "metadata": {
    "collapsed": false,
    "pycharm": {
     "name": "#%%\n"
    }
   },
   "outputs": [
    {
     "name": "stdout",
     "output_type": "stream",
     "text": [
      "11 -15 3\n"
     ]
    }
   ],
   "source": [
    "# Объявите функцию для проверки числа на нечетность (возвращается True, если переданное число нечетное и False, если число четное).\n",
    "#\n",
    "# После объявления функции прочитайте (с помощью функции input) список целых значений, записанных в одну строку через пробел. И, используя генератор списков и созданную функцию, сформируйте список из нечетных значений на основе введенного исходного списка. Результат отобразите на экране командой:\n",
    "#\n",
    "# print(*lst)\n",
    "#\n",
    "# где lst - сформированный список из нечетных значений.\n",
    "#\n",
    "# Sample Input:\n",
    "#\n",
    "# 8 11 -15 3 2 10\n",
    "# Sample Output:\n",
    "#\n",
    "# 11 -15 3\n",
    "\n",
    "def is_even(num):\n",
    "    return num % 2 != 0\n",
    "\n",
    "\n",
    "x = list(map(int, input().split()))\n",
    "non_even_numbers = [num for num in x if is_even(num)]\n",
    "\n",
    "print(*non_even_numbers)"
   ]
  },
  {
   "cell_type": "code",
   "execution_count": null,
   "metadata": {
    "collapsed": false,
    "pycharm": {
     "name": "#%%\n"
    }
   },
   "outputs": [],
   "source": []
  },
  {
   "cell_type": "code",
   "execution_count": 19,
   "metadata": {
    "collapsed": false,
    "pycharm": {
     "name": "#%%\n"
    }
   },
   "outputs": [],
   "source": [
    "# Подвиг 6. Вводится слово в переменную tp. Если это слово RECT, то следует объявить функцию с именем get_sq с двумя параметрами, вычисляющую площадь прямоугольника и возвращающую вычисленное значение. (На экран она ничего не должна выводить, только возвращать значение).\n",
    "#\n",
    "# Если же введенное слово не RECT (любое другое), то объявляется функция с тем же именем get_sq, с одним параметром для вычисления площади квадрата (формула: a*a). Вычисленное значение возвращается функцией. (Она также ничего не выводит на экран).\n",
    "#\n",
    "# Примечание: в программе должна быть задана только одна функция с именем get_sq в зависимости от введенного слова. Вызывать функцию не нужно, только объявлять.\n",
    "#\n",
    "# Sample Input:\n",
    "#\n",
    "# RECT\n",
    "# Sample Output:\n",
    "#\n",
    "# 10\n",
    "\n",
    "tp = input().strip()\n",
    "\n",
    "if tp==\"RECT\":\n",
    "    def get_sq(a,b):\n",
    "        return (a*b)\n",
    "else:\n",
    "    def get_sq(a):\n",
    "        return a*a"
   ]
  },
  {
   "cell_type": "code",
   "execution_count": 23,
   "metadata": {
    "collapsed": false,
    "pycharm": {
     "name": "#%%\n"
    }
   },
   "outputs": [
    {
     "data": {
      "text/plain": [
       "False"
      ]
     },
     "execution_count": 23,
     "metadata": {},
     "output_type": "execute_result"
    }
   ],
   "source": [
    "# Подвиг 7. Объявите функцию, которая принимает строку (в качестве аргумента) и возвращает False, если длина строки меньше 6 символов. Иначе возвращается значение True.\n",
    "#\n",
    "# После объявления функции прочитайте (с помощью функции input) список названий городов, записанных в одну строку через пробел. Затем, используя генератор списка и созданную функцию, сформируйте список из названий городов длиной не менее шести символов на основе введенного исходного списка. Результат отобразите на экране командой:\n",
    "#\n",
    "# print(*lst)\n",
    "#\n",
    "# где lst - итоговый сформированный список.\n",
    "#\n",
    "# Sample Input:\n",
    "#\n",
    "# Москва Уфа Пермь Самара Вологда\n",
    "# Sample Output:\n",
    "#\n",
    "# Москва Самара Вологда\n",
    "#\n",
    "\n",
    "def xoxo(x):\n",
    "    return False if len(x) <= 6 else True\n"
   ]
  },
  {
   "cell_type": "code",
   "execution_count": 32,
   "metadata": {
    "collapsed": false,
    "pycharm": {
     "name": "#%%\n"
    }
   },
   "outputs": [],
   "source": [
    "citys = [x for x in input().split()]"
   ]
  },
  {
   "cell_type": "code",
   "execution_count": 33,
   "metadata": {
    "collapsed": false,
    "pycharm": {
     "name": "#%%\n"
    }
   },
   "outputs": [],
   "source": [
    "lst = []"
   ]
  },
  {
   "cell_type": "code",
   "execution_count": null,
   "metadata": {
    "collapsed": false,
    "pycharm": {
     "name": "#%%\n"
    }
   },
   "outputs": [],
   "source": [
    "for city in citys:\n"
   ]
  },
  {
   "cell_type": "code",
   "execution_count": null,
   "metadata": {
    "collapsed": false,
    "pycharm": {
     "name": "#%%\n"
    }
   },
   "outputs": [],
   "source": []
  },
  {
   "cell_type": "code",
   "execution_count": 34,
   "metadata": {
    "collapsed": false,
    "pycharm": {
     "name": "#%%\n"
    }
   },
   "outputs": [
    {
     "name": "stdout",
     "output_type": "stream",
     "text": [
      "Москва Самара Вологда\n"
     ]
    }
   ],
   "source": [
    "def is_longer_than_6(s):\n",
    "    return len(s) >= 6\n",
    "\n",
    "lst = input().split()\n",
    "lst = [city for city in lst if is_longer_than_6(city)]\n",
    "\n",
    "print(*lst)\n"
   ]
  },
  {
   "cell_type": "code",
   "execution_count": 3,
   "metadata": {
    "collapsed": false,
    "pycharm": {
     "name": "#%%\n"
    }
   },
   "outputs": [
    {
     "name": "stdout",
     "output_type": "stream",
     "text": [
      "Уфа Омск Тверь Лондон Воронеж\n"
     ]
    }
   ],
   "source": [
    "# Подвиг 8. Объявите функцию, которая принимает строку (в качестве аргумента) и возвращает два значения в виде кортежа: переданная строка и ее длина.\n",
    "#\n",
    "# После объявления функции прочитайте (с помощью функции input) список названий городов, записанных в одну строку через пробел. Затем, используя генератор словарей и созданную функцию, сформируйте словарь d в формате:\n",
    "#\n",
    "# d = {<город 1>: <число символов>, ..., <город N>: <число символов>}\n",
    "#\n",
    "# Выведите этот словарь в порядке возрастания длин строк с помощью команд:\n",
    "#\n",
    "# a = sorted(d, key=lambda x: d[x])\n",
    "# print(*a)\n",
    "# P. S. Пока просто запишите эти команды. Как они работают станет ясно позже, когда мы подробнее изучим функции сортировки и работу оператора *.\n",
    "#\n",
    "# Sample Input:\n",
    "#\n",
    "# Воронеж Лондон Тверь Омск Уфа\n",
    "# Sample Output:\n",
    "#\n",
    "# Уфа Омск Тверь Лондон Воронеж\n",
    "\n",
    "def get_string_length(s):\n",
    "    return (s, len(s))\n",
    "\n",
    "lst = input().split()\n",
    "d = {city: get_string_length(city)[1] for city in lst}\n",
    "\n",
    "a = sorted(d, key=lambda x: d[x])\n",
    "print(*a)"
   ]
  },
  {
   "cell_type": "code",
   "execution_count": 7,
   "metadata": {
    "collapsed": false,
    "pycharm": {
     "name": "#%%\n"
    }
   },
   "outputs": [
    {
     "data": {
      "text/plain": [
       "('хахай', 5)"
      ]
     },
     "execution_count": 7,
     "metadata": {},
     "output_type": "execute_result"
    }
   ],
   "source": [
    "get_string_length(\"хахай\")"
   ]
  },
  {
   "cell_type": "code",
   "execution_count": 10,
   "metadata": {
    "collapsed": false,
    "pycharm": {
     "name": "#%%\n"
    }
   },
   "outputs": [],
   "source": [
    "# Подвиг 9. Вводится список целых чисел в одну строчку через пробел. Необходимо задать функцию, которая принимает два аргумента (максимальное и минимальное значения из списка) и возвращает их произведение. Вызовите эту функцию и отобразите на экране полученное числовое значение.\n",
    "#\n",
    "# Подсказка: для передачи аргументов функции используйте функции max и min для введенного списка чисел.\n",
    "#\n",
    "# Sample Input:\n",
    "#\n",
    "# 56 34 -30 22 1 4 10\n",
    "# Sample Output:\n",
    "#\n",
    "# -1680\n",
    "\n",
    "num = [int(x) for x in input().split()]"
   ]
  },
  {
   "cell_type": "code",
   "execution_count": 15,
   "metadata": {
    "collapsed": false,
    "pycharm": {
     "name": "#%%\n"
    }
   },
   "outputs": [],
   "source": [
    "def multiplication(x):\n",
    "    return min(num) * max(num)"
   ]
  },
  {
   "cell_type": "code",
   "execution_count": 16,
   "metadata": {
    "collapsed": false,
    "pycharm": {
     "name": "#%%\n"
    }
   },
   "outputs": [
    {
     "data": {
      "text/plain": [
       "-1680"
      ]
     },
     "execution_count": 16,
     "metadata": {},
     "output_type": "execute_result"
    }
   ],
   "source": [
    "multiplication(num)"
   ]
  },
  {
   "cell_type": "code",
   "execution_count": 14,
   "metadata": {
    "collapsed": false,
    "pycharm": {
     "name": "#%%\n"
    }
   },
   "outputs": [
    {
     "data": {
      "text/plain": [
       "'\\n                                                                Алгоритм Евклида\\n'"
      ]
     },
     "execution_count": 14,
     "metadata": {},
     "output_type": "execute_result"
    }
   ],
   "source": [
    "\"\"\"\n",
    "                                                                Алгоритм Евклида\n",
    "\"\"\""
   ]
  },
  {
   "cell_type": "code",
   "execution_count": 3,
   "metadata": {
    "collapsed": false,
    "pycharm": {
     "name": "#%%\n"
    }
   },
   "outputs": [
    {
     "name": "stdout",
     "output_type": "stream",
     "text": [
      "6\n"
     ]
    }
   ],
   "source": [
    "def get_nod(a, b):\n",
    "    \"\"\"Вычисляется НОД для натуральных чисед a и b\n",
    "        по алгоритму Евклида\n",
    "                                            медленый вариант\n",
    "    :param a: первое натуральное число\n",
    "    :param b: второе натуральное число\n",
    "    :return: НОД\n",
    "    \"\"\"\n",
    "    while a!=b:\n",
    "        if a > b:\n",
    "            a -= b\n",
    "        else:\n",
    "            b -=a\n",
    "\n",
    "    return a\n",
    "\n",
    "\n",
    "res = get_nod(18, 24)\n",
    "print(res)"
   ]
  },
  {
   "cell_type": "code",
   "execution_count": 4,
   "metadata": {
    "collapsed": false,
    "pycharm": {
     "name": "#%%\n"
    }
   },
   "outputs": [
    {
     "name": "stdout",
     "output_type": "stream",
     "text": [
      "Help on function get_nod in module __main__:\n",
      "\n",
      "get_nod(a, b)\n",
      "    Вычисляется НОД для натуральных чисед a и b\n",
      "        по алгоритму Евклида\n",
      "                                            медленый вариант\n",
      "    :param a: первое натуральное число\n",
      "    :param b: второе натуральное число\n",
      "    :return: НОД\n"
     ]
    }
   ],
   "source": [
    "help(get_nod)"
   ]
  },
  {
   "cell_type": "code",
   "execution_count": 5,
   "metadata": {
    "collapsed": false,
    "pycharm": {
     "name": "#%%\n"
    }
   },
   "outputs": [
    {
     "name": "stdout",
     "output_type": "stream",
     "text": [
      "# test1 - ok\n",
      "# test2 - ok\n",
      "1695106242.6029832\n",
      "1695106244.3085346\n",
      "# test3 - fail\n"
     ]
    }
   ],
   "source": [
    "import time\n",
    "\n",
    "def test_nod(funk):\n",
    "    # --- test №1 ----\n",
    "    a = 28\n",
    "    b = 35\n",
    "    res = funk(a, b)\n",
    "    if res == 7:\n",
    "        print(\"# test1 - ok\")\n",
    "    else:\n",
    "        print(\"# test1 - fail\")\n",
    "\n",
    "    # --- test №2 ----\n",
    "    a = 100\n",
    "    b = 1\n",
    "    res = funk(a, b)\n",
    "    if res == 1:\n",
    "        print(\"# test2 - ok\")\n",
    "    else:\n",
    "        print(\"# test2 - fail\")\n",
    "\n",
    "    # --- test №3 ----\n",
    "    a = 2\n",
    "    b = 100000000\n",
    "\n",
    "    st = time.time()\n",
    "    print(st)\n",
    "    res = funk(a, b)\n",
    "    et = time.time()\n",
    "    print(et)\n",
    "    dt = et - st\n",
    "\n",
    "    if res == 2 and dt < 1:\n",
    "        print(\"# test3 - ok\")\n",
    "    else:\n",
    "        print(\"# test3 - fail\")\n",
    "\n",
    "\n",
    "test_nod(get_nod)"
   ]
  },
  {
   "cell_type": "code",
   "execution_count": 18,
   "metadata": {
    "collapsed": false,
    "pycharm": {
     "name": "#%%\n"
    }
   },
   "outputs": [
    {
     "name": "stdout",
     "output_type": "stream",
     "text": [
      "6\n",
      "# test1 - ok\n",
      "# test2 - ok\n",
      "1695093720.8793826\n",
      "1695093720.8793826\n",
      "# test3 - ok\n"
     ]
    }
   ],
   "source": [
    "def fast_get_nod(a, b):\n",
    "    \"\"\"Вычисляется НОД для натуральных чисед a и b\n",
    "        по алгоритму Евклида\n",
    "                                            БЫСТРЫЙ вариант\n",
    "    :param a: первое натуральное число\n",
    "    :param b: второе натуральное число\n",
    "    :return: НОД\n",
    "    \"\"\"\n",
    "    if a < b:\n",
    "        a, b = b, a\n",
    "\n",
    "    while b != 0:\n",
    "        a, b = b, a % b\n",
    "\n",
    "    return a\n",
    "\n",
    "\n",
    "res = fast_get_nod(18, 24)\n",
    "print(res)\n",
    "test_nod(fast_get_nod)"
   ]
  },
  {
   "cell_type": "code",
   "execution_count": 8,
   "metadata": {
    "collapsed": false,
    "pycharm": {
     "name": "#%%\n"
    }
   },
   "outputs": [
    {
     "name": "stdout",
     "output_type": "stream",
     "text": [
      "6\n"
     ]
    }
   ],
   "source": [
    "def get_v(a, b, c, verboss=True):\n",
    "    if verboss:\n",
    "        print(f\" a = {a}, b = {b}, c = {c}\")\n",
    "\n",
    "    return a * b * c\n",
    "\n",
    "\n",
    "v = get_v(b=1,a=2,c=3, verboss=False)\n",
    "print(v)"
   ]
  },
  {
   "cell_type": "code",
   "execution_count": 13,
   "metadata": {
    "collapsed": false,
    "pycharm": {
     "name": "#%%\n"
    }
   },
   "outputs": [
    {
     "name": "stdout",
     "output_type": "stream",
     "text": [
      "[1, 2]\n"
     ]
    }
   ],
   "source": [
    "def add_value(value, lst=[]):\n",
    "    lst.append(value)\n",
    "    return lst\n",
    "\n",
    "\n",
    "l = add_value(1)\n",
    "l = add_value(2)\n",
    "print(l)"
   ]
  },
  {
   "cell_type": "code",
   "execution_count": 14,
   "metadata": {
    "collapsed": false,
    "pycharm": {
     "name": "#%%\n"
    }
   },
   "outputs": [
    {
     "name": "stdout",
     "output_type": "stream",
     "text": [
      "[2]\n"
     ]
    }
   ],
   "source": [
    "def add_value(value, lst=None):\n",
    "    if lst is None:\n",
    "        lst = []\n",
    "\n",
    "    lst.append(value)\n",
    "    return lst\n",
    "\n",
    "\n",
    "l = add_value(1)\n",
    "l = add_value(2)\n",
    "print(l)"
   ]
  },
  {
   "cell_type": "code",
   "execution_count": 16,
   "metadata": {
    "collapsed": false,
    "pycharm": {
     "name": "#%%\n"
    }
   },
   "outputs": [
    {
     "name": "stdout",
     "output_type": "stream",
     "text": [
      "[1, 2]\n"
     ]
    }
   ],
   "source": [
    "def add_value(value, lst=None):\n",
    "    if lst is None:\n",
    "        lst = []\n",
    "\n",
    "    lst.append(value)\n",
    "    return lst\n",
    "\n",
    "\n",
    "l = add_value(1)\n",
    "l = add_value(2, l)\n",
    "print(l)"
   ]
  },
  {
   "cell_type": "code",
   "execution_count": 1,
   "metadata": {
    "collapsed": false,
    "pycharm": {
     "name": "#%%\n"
    },
    "ExecuteTime": {
     "end_time": "2023-09-19T08:38:35.559090500Z",
     "start_time": "2023-09-19T08:38:35.543077Z"
    }
   },
   "outputs": [],
   "source": [
    "# Подвиг 2. Объявите функцию с именем get_rect_value, которая принимает два аргумента (два числа) и еще один формальный параметр type с начальным значением 0. Если параметр type равен нулю, то функция должна возвращать периметр прямоугольника, а иначе - его площадь.\n",
    "#\n",
    "# P. S. Вызывать функцию не нужно, только объявить\n",
    "\n",
    "def get_rect_value(a, b, type=0):\n",
    "    if type == 0:\n",
    "        c = 2*(int(a)+int(b))\n",
    "    else:\n",
    "        c = (int(a)*int(b))\n",
    "\n",
    "    return c"
   ]
  },
  {
   "cell_type": "code",
   "execution_count": null,
   "metadata": {
    "collapsed": false,
    "pycharm": {
     "name": "#%%\n"
    }
   },
   "outputs": [],
   "source": []
  },
  {
   "cell_type": "code",
   "execution_count": null,
   "outputs": [],
   "source": [
    "# Подвиг 3. Объявите функцию с именем check_password, которая принимает аргумент - строку (пароль) и имеет один формальный параметр chars с начальным значением в виде строки \"$%!?@#\". Функция должна проверять: есть ли в пароле хотя бы один символ из chars и что длина пароля не менее 8 символов. Если проверка проходит, то функция возвращает True, иначе - False.\n",
    "# \n",
    "# P. S. Вызывать функцию не нужно, только объявить.\n",
    "# \n",
    "# Sample Input:\n",
    "# \n",
    "# 12345678!\n",
    "# Sample Output:\n",
    "# \n",
    "# True\n",
    "\n",
    "def check_password(password: str, chars: str = \"$%!?@#\") -> bool:\n",
    "    \"\"\"\n",
    "    Проверяет, содержит ли пароль хотя бы один символ из chars и что длина пароля не менее 8 символов.\n",
    "\n",
    "    :param password: Пароль, который нужно проверить.\n",
    "    :param chars: Строка с символами, которые нужно проверить в пароле. По умолчанию \"$%!?@#\".\n",
    "    :return: True, если пароль проходит проверку, иначе - False.\n",
    "    \"\"\"\n",
    "    # Проверяем, что длина пароля не меньше 8 символов\n",
    "    if len(password) < 8:\n",
    "        return False\n",
    "\n",
    "    # Проверяем, что пароль содержит хотя бы один символ из chars\n",
    "    for char in chars:\n",
    "        if char in password:\n",
    "            return True\n",
    "\n",
    "    return False\n"
   ],
   "metadata": {
    "collapsed": false
   }
  },
  {
   "cell_type": "code",
   "execution_count": 18,
   "outputs": [
    {
     "name": "stdout",
     "output_type": "stream",
     "text": [
      "luchhiy-kur-po-python!\n",
      "luchhiy+kur+po+python!\n"
     ]
    }
   ],
   "source": [
    "# Подвиг 4. Объявите функцию, которая принимает строку на кириллице и преобразовывает ее в латиницу, используя следующий словарь для замены русских букв на соответствующее латинское написание:\n",
    "# \n",
    "# t = {'ё': 'yo', 'а': 'a', 'б': 'b', 'в': 'v', 'г': 'g', 'д': 'd', 'е': 'e', 'ж': 'zh',\n",
    "#      'з': 'z', 'и': 'i', 'й': 'y', 'к': 'k', 'л': 'l', 'м': 'm', 'н': 'n', 'о': 'o', 'п': 'p',\n",
    "#      'р': 'r', 'с': 's', 'т': 't', 'у': 'u', 'ф': 'f', 'х': 'h', 'ц': 'c', 'ч': 'ch', 'ш': 'sh',\n",
    "#      'щ': 'shch', 'ъ': '', 'ы': 'y', 'ь': '', 'э': 'e', 'ю': 'yu', 'я': 'ya'}\n",
    "# Функция должна возвращать преобразованную строку. Замены делать без учета регистра (исходную строку перевести в нижний регистр - малые буквы). У функции также определить формальный параметр sep с начальным значением в виде строки \"-\". Он будет определять символ для замены пробелов в строке.\n",
    "# \n",
    "# После объявления функции прочитайте (с помощью функции input) строку и дважды вызовите функцию (с выводом результата ее работы на экран):\n",
    "# \n",
    "# - первый раз только со строкой\n",
    "# - второй раз со строкой и именованным аргументом sep со значением '+'.\n",
    "# \n",
    "# Sample Input:\n",
    "# \n",
    "# Лучший курс по Python!\n",
    "# Sample Output:\n",
    "# \n",
    "# luchshiy-kurs-po-python!\n",
    "# luchshiy+kurs+po+python!\n",
    "\n",
    "def transliterate(text: str, sep: str = \"-\") -> str:\n",
    "    \"\"\"\n",
    "    Преобразует строку на кириллице в строку на латинице.\n",
    "\n",
    "    :param text: Строка на кириллице, которую нужно преобразовать.\n",
    "    :param sep: Символ, которым нужно заменить пробелы в строке. По умолчанию \"-\".\n",
    "    :return: Преобразованная строка на латинице.\n",
    "    \"\"\"\n",
    "    # Создаем словарь для замены русских букв на латиницу\n",
    "    transliteration_dict = {\n",
    "        'ё': 'yo', 'а': 'a', 'б': 'b', 'в': 'v', 'г': 'g', 'д': 'd', 'е': 'e', 'ж': 'zh',\n",
    "        'з': 'z', 'и': 'i', 'й': 'y', 'к': 'k', 'л': 'l', 'м': '', 'н': 'n', 'о': 'o', 'п': 'p',\n",
    "        'р': 'r', 'с': '', 'т': 't', 'у': 'u', 'ф': 'f', 'х': 'h', 'ц': 'c', 'ч': 'ch', 'ш': 'h',\n",
    "        'щ': 'hch', 'ъ': '', 'ы': 'y', 'ь': '', 'э': 'e', 'ю': 'yu', 'я': 'ya'\n",
    "    }\n",
    "\n",
    "    # Преобразуем строку на кириллице в нижний регистр\n",
    "    text = text.lower()\n",
    "\n",
    "    # Заменяем русские буквы на латиницу\n",
    "    for key in transliteration_dict:\n",
    "        text = text.replace(key, transliteration_dict[key])\n",
    "\n",
    "    # Заменяем пробелы на символ sep\n",
    "    text = text.replace(\" \", sep)\n",
    "\n",
    "    return text\n",
    "\n",
    "# Прочитаем строку на кириллице\n",
    "text = input(\"Введите строку на кириллице: \")\n",
    "\n",
    "# Преобразуем строку на кириллице в строку на латинице\n",
    "latin_text = transliterate(text)\n",
    "\n",
    "# Выводим результат\n",
    "print(latin_text)\n",
    "\n",
    "# Преобразуем строку на кириллице в строку на латинице с использованием символа \"+\" вместо \"-\"\n",
    "latin_text_with_plus = transliterate(text, sep=\"+\")\n",
    "\n",
    "# Выводим результат\n",
    "print(latin_text_with_plus)\n",
    "\n"
   ],
   "metadata": {
    "collapsed": false,
    "ExecuteTime": {
     "end_time": "2023-09-20T03:31:00.356243200Z",
     "start_time": "2023-09-20T03:30:59.220595300Z"
    }
   }
  },
  {
   "cell_type": "code",
   "execution_count": 23,
   "outputs": [
    {
     "name": "stdout",
     "output_type": "stream",
     "text": [
      "<h1>Работаем с функциями</h1>\n",
      "<div>Работаем с функциями</div>\n"
     ]
    }
   ],
   "source": [
    "# Подвиг 5. Объявите функцию, которая принимает строку и заключает ее в указанный тег. Тег определяется формальным параметров tag с начальным значением в виде строки \"h1\". Например, мы передаем строку \"Hello Python\" и заключаем в тег \"h1\". На выходе должны получить строку (без кавычек):\n",
    "# \n",
    "# \"<h1>Hello Python</h1>\"\n",
    "# \n",
    "# То есть, сначала открывается тег <h1>, а в конце строки - закрывается </h1>. И так для любых указанных тегов.\n",
    "# \n",
    "# После объявления функции прочитайте (с помощью функции input) строку и дважды вызовите функцию (с выводом результата ее работы на экран):\n",
    "# \n",
    "# - первый раз только со строкой\n",
    "# - второй раз со строкой и именованным аргументом tag со значением 'div'.\n",
    "\n",
    "# Sample Input:\n",
    "# \n",
    "# Работаем с функциями\n",
    "# Sample Output:\n",
    "# \n",
    "# <h1>Работаем с функциями</h1>\n",
    "# <div>Работаем с функциями</div>\n",
    "\n",
    "def wrap_in_tag(text: str, tag: str = \"h1\") -> str:\n",
    "    \"\"\"\n",
    "    Заключает строку в указанный тег.\n",
    "\n",
    "    :param text: Строка, которую нужно заключить в тег.\n",
    "    :param tag: Тег, в который нужно заключить строку. По умолчанию \"h1\".\n",
    "    :return: Заключенная строка в теге.\n",
    "    \"\"\"\n",
    "    return f\"<{tag}>{text}</{tag}>\"\n",
    "\n",
    "\n",
    "print(wrap_in_tag(input()))\n",
    "print(wrap_in_tag(input(), \"div\"))"
   ],
   "metadata": {
    "collapsed": false,
    "ExecuteTime": {
     "end_time": "2023-09-20T03:41:40.813522500Z",
     "start_time": "2023-09-20T03:41:38.892717700Z"
    }
   }
  },
  {
   "cell_type": "code",
   "execution_count": null,
   "outputs": [],
   "source": [
    "def wrap_in_tag(text: str, tag: str = \"h1\") -> str:\n",
    "    return f\"<{tag}>{text}</{tag}>\"\n",
    "\n",
    "x=input()\n",
    "print(wrap_in_tag(x))\n",
    "print(wrap_in_tag(x, \"div\"))"
   ],
   "metadata": {
    "collapsed": false
   }
  },
  {
   "cell_type": "code",
   "execution_count": 24,
   "outputs": [
    {
     "name": "stdout",
     "output_type": "stream",
     "text": [
      "<div>Python is best!</div>\n",
      "<DIV>Python is best!</DIV>\n"
     ]
    }
   ],
   "source": [
    "# Подвиг 6. Функции из предыдущего подвига 5 добавьте еще один формальный параметр up с начальным булевым значением True. Если параметр up равен True, то тег (указанный в формальном параметре tag) следует записывать заглавными буквами, а иначе - малыми.\n",
    "# \n",
    "# После объявления функции прочитайте (с помощью функции input) строку и дважды вызовите функцию (с выводом результата ее работы на экран):\n",
    "# \n",
    "# - первый раз со строкой и именованным аргументом tag со значением 'div'\n",
    "# - второй раз со строкой, именованным аргументом tag со значением 'div' и именованным аргументом up со значением False.\n",
    "# \n",
    "# Sample Input:\n",
    "# \n",
    "# Python is best!\n",
    "# Sample Output:\n",
    "# \n",
    "# <DIV>Python is best!</DIV>\n",
    "# <div>Python is best!</div>\n",
    "\n",
    "def wrap_in_tag(text: str, tag: str = \"h1\", up: bool = True) -> str:\n",
    "    \"\"\"\n",
    "    Заключает строку в указанный тег.\n",
    "\n",
    "    :param text: Строка, которую нужно заключить в тег.\n",
    "    :param tag: Тег, в который нужно заключить строку. По умолчанию \"h1\".\n",
    "    :param up: Если True, то тег будет записан заглавными буквами, иначе - маленькими. По умолчанию True.\n",
    "    :return: Заключенная строка в теге.\n",
    "    \"\"\"\n",
    "    if up:\n",
    "        tag = tag.upper()\n",
    "    else:\n",
    "        tag = tag.lower()\n",
    "    return f\"<{tag}>{text}</{tag}>\"\n",
    "\n",
    "\n",
    "x=input()\n",
    "print(wrap_in_tag(x, \"div\"))\n",
    "print(wrap_in_tag(x, \"div\", False))\n"
   ],
   "metadata": {
    "collapsed": false,
    "ExecuteTime": {
     "end_time": "2023-09-20T03:45:18.693377200Z",
     "start_time": "2023-09-20T03:45:17.394059200Z"
    }
   }
  },
  {
   "cell_type": "code",
   "execution_count": null,
   "outputs": [],
   "source": [
    "\"\"\"\n",
    "                                                                *arg, **kwargs\n",
    "\"\"\""
   ],
   "metadata": {
    "collapsed": false
   }
  },
  {
   "cell_type": "code",
   "execution_count": 29,
   "outputs": [
    {
     "name": "stdout",
     "output_type": "stream",
     "text": [
      "F:\\~stepik.org\\Добрый, добрый Python (Питон)\\39\\p39. Функции.docx\n"
     ]
    }
   ],
   "source": [
    "def os_path(*args):\n",
    "    path = \"\\\\\".join(args)\n",
    "    return path\n",
    "\n",
    "\n",
    "p = os_path(\"F:\\\\~stepik.org\", \"Добрый, добрый Python (Питон)\", \"39\\\\p39. Функции.docx\")\n",
    "print(p)"
   ],
   "metadata": {
    "collapsed": false,
    "ExecuteTime": {
     "end_time": "2023-09-20T03:55:06.389924400Z",
     "start_time": "2023-09-20T03:55:06.370907100Z"
    }
   }
  },
  {
   "cell_type": "code",
   "execution_count": 44,
   "outputs": [
    {
     "name": "stdout",
     "output_type": "stream",
     "text": [
      "(2, 3, 4, 5)\n",
      "14\n"
     ]
    }
   ],
   "source": [
    "def add(*args):\n",
    "    print(args)\n",
    "    print(sum(args))\n",
    "\n",
    "\n",
    "l = [2, 3, 4, 5]    \n",
    "add(*l)"
   ],
   "metadata": {
    "collapsed": false,
    "ExecuteTime": {
     "end_time": "2023-09-20T07:42:03.017040600Z",
     "start_time": "2023-09-20T07:42:02.995020400Z"
    }
   }
  },
  {
   "cell_type": "code",
   "execution_count": 52,
   "outputs": [
    {
     "name": "stdout",
     "output_type": "stream",
     "text": [
      "<class 'tuple'>\n",
      "<class 'set'>\n",
      "<class 'list'>\n"
     ]
    }
   ],
   "source": [
    "x = (1,2,3)\n",
    "y = {1,2,3}\n",
    "z = [1,2,3]\n",
    "print(type(x))\n",
    "print(type(y))\n",
    "print(type(z))"
   ],
   "metadata": {
    "collapsed": false,
    "ExecuteTime": {
     "end_time": "2023-09-20T08:00:34.760696900Z",
     "start_time": "2023-09-20T08:00:34.740071400Z"
    }
   }
  },
  {
   "cell_type": "code",
   "execution_count": 72,
   "outputs": [
    {
     "name": "stdout",
     "output_type": "stream",
     "text": [
      "[4, 8, 12, 0]\n"
     ]
    }
   ],
   "source": [
    "# Объявите функцию с именем get_even, которая принимает произвольное количество чисел в качестве аргументов и возвращает список, составленный только из четных переданных значений.\n",
    "# \n",
    "# Функцию выполнять не нужно, только определить.\n",
    "# \n",
    "# Sample Input:\n",
    "# \n",
    "# 45 4 8 11 12 0\n",
    "# Sample Output:\n",
    "# \n",
    "# 4 8 12 0\n",
    "\n",
    "\n",
    "def get_even(*args):\n",
    "    z = [x for x in args if x % 2 == 0]\n",
    "    return z\n",
    "\n",
    "x = list(map(int,input().split()))\n",
    "print(get_even(*x))"
   ],
   "metadata": {
    "collapsed": false,
    "ExecuteTime": {
     "end_time": "2023-09-20T08:50:22.002829500Z",
     "start_time": "2023-09-20T08:50:20.963102300Z"
    }
   }
  },
  {
   "cell_type": "code",
   "execution_count": 68,
   "outputs": [
    {
     "data": {
      "text/plain": "[4, 8, 12, 0]"
     },
     "execution_count": 68,
     "metadata": {},
     "output_type": "execute_result"
    }
   ],
   "source": [
    "def get_even(*args):\n",
    "    even_numbers = [num for num in args if num % 2 == 0]\n",
    "    return even_numbers\n"
   ],
   "metadata": {
    "collapsed": false,
    "ExecuteTime": {
     "end_time": "2023-09-20T08:41:13.702685300Z",
     "start_time": "2023-09-20T08:41:13.658341700Z"
    }
   }
  },
  {
   "cell_type": "code",
   "execution_count": 116,
   "outputs": [
    {
     "name": "stdout",
     "output_type": "stream",
     "text": [
      "{5: 'Питер', 6: 'Самара', 7: 'Воронеж'}\n"
     ]
    },
    {
     "data": {
      "text/plain": "'Воронеж'"
     },
     "execution_count": 116,
     "metadata": {},
     "output_type": "execute_result"
    }
   ],
   "source": [
    "# Объявите функцию с именем get_biggest_city, которой можно передавать произвольное количество названий городов через аргументы. Данная функция должна возвращать название города наибольшей длины. Если таких городов несколько, то первый найденный (из наибольших). Программу реализовать без использования сортировки.\n",
    "# \n",
    "# Функцию выполнять не нужно, только определить.\n",
    "# \n",
    "# Sample Input:\n",
    "# \n",
    "# Питер Москва Самара Воронеж\n",
    "# Sample Output:\n",
    "# \n",
    "# Воронеж\n",
    "\n",
    "def get_biggest_city(*args):\n",
    "    s = {len(i):i for i in args}\n",
    "    print(s)\n",
    "    return s[max(s)]\n",
    "\n",
    "x = list(input().split())\n",
    "get_biggest_city(*x)\n"
   ],
   "metadata": {
    "collapsed": false,
    "ExecuteTime": {
     "end_time": "2023-09-20T09:20:47.878786600Z",
     "start_time": "2023-09-20T09:20:47.165161800Z"
    }
   }
  },
  {
   "cell_type": "code",
   "execution_count": 115,
   "outputs": [
    {
     "data": {
      "text/plain": "'Воронеж'"
     },
     "execution_count": 115,
     "metadata": {},
     "output_type": "execute_result"
    }
   ],
   "source": [
    "def get_biggest_city(*lst):\n",
    "    return max(lst, key=len)\n",
    "\n",
    "\n",
    "x = list(input().split())\n",
    "get_biggest_city(*x)"
   ],
   "metadata": {
    "collapsed": false,
    "ExecuteTime": {
     "end_time": "2023-09-20T09:20:44.544009100Z",
     "start_time": "2023-09-20T09:20:43.782136500Z"
    }
   }
  },
  {
   "cell_type": "code",
   "execution_count": 8,
   "outputs": [
    {
     "name": "stdout",
     "output_type": "stream",
     "text": [
      "Owner Name: Jonathan\n",
      "dog: Brock\n",
      "fish: ['Larry', 'Curly', 'Moe']\n",
      "turtle: Shelldon\n"
     ]
    }
   ],
   "source": [
    "def printPetNames(owner, **pets):\n",
    "   print(f\"Owner Name: {owner}\")\n",
    "   for pet,name in pets.items():\n",
    "      print(f\"{pet}: {name}\")\n",
    "       \n",
    "       \n",
    "printPetNames(\"Jonathan\", dog=\"Brock\", fish=[\"Larry\", \"Curly\", \"Moe\"], turtle=\"Shelldon\")"
   ],
   "metadata": {
    "collapsed": false,
    "ExecuteTime": {
     "end_time": "2023-09-21T04:40:41.009284700Z",
     "start_time": "2023-09-21T04:40:40.955236Z"
    }
   }
  },
  {
   "cell_type": "code",
   "execution_count": null,
   "outputs": [],
   "source": [
    "# Объявите функцию с именем get_data_fig для вычисления периметра произвольного N-угольника. На вход этой функции передаются N длин сторон через аргументы. Дополнительно могут быть указаны именованные аргументы:\n",
    "# \n",
    "# type - булево значение True/False\n",
    "# color - целое числовое значение\n",
    "# closed - булево значение True/False\n",
    "# width - целое значение\n",
    "# \n",
    "# Функция должна возвращать в виде кортежа периметр многоугольника и указанные значения именованных параметров в порядке их перечисления в тексте задания (если они были переданы). Если какой-либо параметр отсутствует, его возвращать не нужно (пропустить).\n",
    "# \n",
    "# Функцию выполнять не нужно, только определить\n",
    "\n",
    "def get_data_fig(*side_lengths, **kwargs):\n",
    "    # Вычисление периметра многоугольника\n",
    "    perimeter = sum(side_lengths)\n",
    "\n",
    "    # Создание начального кортежа с периметром\n",
    "    result = (perimeter,)\n",
    "\n",
    "    # Проверка наличия и добавление значения 'type' в кортеж\n",
    "    if 'type' in kwargs:\n",
    "        result += (kwargs['type'],)\n",
    "\n",
    "    # Проверка наличия и добавление значения 'color' в кортеж\n",
    "    if 'color' in kwargs:\n",
    "        result += (kwargs['color'],)\n",
    "\n",
    "    # Проверка наличия и добавление значения 'closed' в кортеж\n",
    "    if 'closed' in kwargs:\n",
    "        result += (kwargs['closed'],)\n",
    "\n",
    "    # Проверка наличия и добавление значения 'width' в кортеж\n",
    "    if 'width' in kwargs:\n",
    "        result += (kwargs['width'],)\n",
    "\n",
    "    # Возвращение кортежа с периметром и указанными значениями именованных параметров\n",
    "    return result\n"
   ],
   "metadata": {
    "collapsed": false
   }
  },
  {
   "cell_type": "code",
   "execution_count": null,
   "outputs": [],
   "source": [
    "# Большой подвиг 6. (Для закрепления предыдущего материала). Вводится таблица целых чисел (см. пример ниже) размером N x N элементов (N определяется по входным данным). Эта таблица содержит нули, но кое-где - единицы. С помощью функции с именем verify, на вход которой передается двумерный список чисел, необходимо проверить, являются ли единицы изолированными друг от друга, то есть, вокруг каждой единицы должны быть нули.\n",
    "# \n",
    "# Рекомендуется следующий алгоритм. В функции verify производить перебор двумерного списка. Для каждого элемента (списка) со значением 1 вызывать еще одну вспомогательную функцию is_isolate для проверки изолированности единицы. То есть, функция is_isolate должна возвращать True, если единица изолирована и False - в противном случае.\n",
    "# \n",
    "# Как только встречается не изолированная единица, функция verify должна возвращать False. Если успешно доходим (по элементам списка) до конца, то возвращается значение True.\n",
    "# \n",
    "# Функцию выполнять не нужно, только определить.\n",
    "# \n",
    "# P. S. При реализации функции is_isolate не следует прописывать восемь операторов if. Подумайте, как это можно сделать красивее (с точки зрения реализации алгоритма). \n",
    "# \n",
    "# Sample Input:\n",
    "# \n",
    "# 1 0 0 0 0\n",
    "# 0 0 1 0 0\n",
    "# 0 0 0 0 0\n",
    "# 0 1 0 1 0\n",
    "# 0 0 0 0 0\n",
    "# Sample Output:\n",
    "# \n",
    "# True\n",
    "\n",
    "def verify(l):#решение на соприкосновение эллементов матрицы.\n",
    "    # (складываем эллемент с тремя близлежащими эллементами.)\n",
    "    for i in range(1, len(l)):\n",
    "        for j in range(1, len(l[i])):\n",
    "            if l[i - 1][j - 1] + l[i - 1][j] + l[i][j - 1] + l[i][j] > 1:#если условие верно,\n",
    "                return False#возвращается 'False'.\n",
    "    return True#если не верно, программа выходит из цикла и возвращает 'True'"
   ],
   "metadata": {
    "collapsed": false
   }
  },
  {
   "cell_type": "code",
   "execution_count": null,
   "outputs": [],
   "source": [
    "# Значимый подвиг 7. (Для закрепления предыдущего материала). Объявите функцию с именем str_min, которая сравнивает две переданные строки и возвращает минимальную из них (то есть, выполняется лексикографическое сравнение строк). Затем, используя функциональный подход к программированию (то есть, более сложные функции реализуются путем вызова более простых), реализовать еще две аналогичные функции:\n",
    "# \n",
    "# - с именем str_min3 для поиска минимальной строки из трех переданных строк;\n",
    "# - с именем str_min4 для поиска минимальной строки из четырех переданных строк.\n",
    "# \n",
    "# Выполнять функции не нужно, только записать.\n",
    "# \n",
    "\"\"\"\n",
    "Функция str_min просто сравнивает две переданные строки и возвращает минимальную из них. Функция str_min3 вызывает функцию str_min дважды для поиска минимальной строки из трех переданных строк. Функция str_min4 вызывает функцию str_min3 дважды для поиска минимальной строки из четырех переданных строк.\n",
    "\"\"\"\n",
    "# Объявляем функцию str_min, которая сравнивает две переданные строки и возвращает минимальную из них\n",
    "def str_min(str1, str2):\n",
    "    return min(str1, str2)\n",
    "\n",
    "# Объявляем функцию str_min3, которая вызывает функцию str_min дважды для поиска минимальной строки из трех переданных строк\n",
    "def str_min3(str1, str2, str3):\n",
    "    return str_min(str_min(str1, str2), str3)\n",
    "\n",
    "# Объявляем функцию str_min4, которая вызывает функцию str_min3 дважды для поиска минимальной строки из четырех переданных строк\n",
    "def str_min4(str1, str2, str3, str4):\n",
    "    return str_min(str_min3(str1, str2, str3), str4)\n"
   ],
   "metadata": {
    "collapsed": false
   }
  },
  {
   "cell_type": "code",
   "execution_count": 7,
   "outputs": [
    {
     "name": "stdout",
     "output_type": "stream",
     "text": [
      "{'a': 1, 'b': 5, 'c': 8} <class 'dict'>\n"
     ]
    }
   ],
   "source": [
    "\"\"\" kwargs \"\"\"\n",
    "def f(**z):\n",
    "    print(z, type(z))\n",
    "\n",
    "f(a=1, b=5, c=8)"
   ],
   "metadata": {
    "collapsed": false,
    "ExecuteTime": {
     "end_time": "2023-09-22T02:57:01.886439200Z",
     "start_time": "2023-09-22T02:57:01.854409400Z"
    }
   }
  },
  {
   "cell_type": "code",
   "execution_count": 5,
   "outputs": [
    {
     "name": "stdout",
     "output_type": "stream",
     "text": [
      "(1, 2, 3, 4) <class 'tuple'>\n"
     ]
    }
   ],
   "source": [
    "\"\"\" args \"\"\"\n",
    "def f(*zz):\n",
    "    print(zz, type(zz))\n",
    "    \n",
    "f(1,2,3,4)"
   ],
   "metadata": {
    "collapsed": false,
    "ExecuteTime": {
     "end_time": "2023-09-22T02:56:49.421440Z",
     "start_time": "2023-09-22T02:56:49.398815800Z"
    }
   }
  },
  {
   "cell_type": "code",
   "execution_count": 16,
   "outputs": [
    {
     "name": "stdout",
     "output_type": "stream",
     "text": [
      "(5, 6, 7, 8) <class 'tuple'>, \n",
      "{'a': 78, 'f': 4, 'z': 3, 'h': 8} <class 'dict'>\n"
     ]
    }
   ],
   "source": [
    "\"\"\" args kwargs \"\"\"\n",
    "\n",
    "def f(*args, **kwargs):\n",
    "    print(f'{args} {type(args)}, \\n{kwargs} {type(kwargs)}')\n",
    "    \n",
    "    \n",
    "f(5, 6, 7, 8, a=78, f=4, z=3, h=8)"
   ],
   "metadata": {
    "collapsed": false,
    "ExecuteTime": {
     "end_time": "2023-09-22T03:05:22.620413500Z",
     "start_time": "2023-09-22T03:05:22.594389800Z"
    }
   }
  },
  {
   "cell_type": "code",
   "execution_count": 1,
   "outputs": [
    {
     "name": "stdout",
     "output_type": "stream",
     "text": [
      "1__2__3__4__5--"
     ]
    }
   ],
   "source": [
    "print(1, 2, 3, 4, 5, sep=\"__\", end=\"--\")"
   ],
   "metadata": {
    "collapsed": false,
    "ExecuteTime": {
     "end_time": "2023-09-26T02:29:07.655431800Z",
     "start_time": "2023-09-26T02:29:07.646424200Z"
    }
   }
  },
  {
   "cell_type": "code",
   "execution_count": 11,
   "outputs": [
    {
     "name": "stdout",
     "output_type": "stream",
     "text": [
      "56 4 -23 2\n"
     ]
    }
   ],
   "source": [
    "# Вводится список из семи целых чисел в одну строчку через пробел. Необходимо первые четыре числа занести в переменную lst, а остальные три в отдельные переменные x, y, z. Сделать с использованием оператора упаковки. Вывести список lst на экран с помощью команды:\n",
    "# \n",
    "# print(*lst)\n",
    "# \n",
    "# Sample Input:\n",
    "# \n",
    "# 56 4 -23 2 0 3 5\n",
    "# Sample Output:\n",
    "# \n",
    "# 56 4 -23 2\n",
    "\n",
    "*lst, x, t, a = input().split()\n",
    "\n",
    "print(*lst)"
   ],
   "metadata": {
    "collapsed": false,
    "ExecuteTime": {
     "end_time": "2023-09-26T02:44:34.138461900Z",
     "start_time": "2023-09-26T02:44:33.057465300Z"
    }
   }
  },
  {
   "cell_type": "code",
   "execution_count": 17,
   "outputs": [
    {
     "name": "stdout",
     "output_type": "stream",
     "text": [
      "('Москва', 'Уфа', 'Тверь', 'Самара')\n"
     ]
    }
   ],
   "source": [
    "# Вводятся названия городов в одну строчку через пробел. На основе этой строки необходимо сформировать список из названий. А, затем, используя оператор распаковки *, преобразовать этот список в кортеж lst_c. Результат вывести на экран командой:\n",
    "# \n",
    "# print(lst_c)\n",
    "# \n",
    "# Sample Input:\n",
    "# \n",
    "# Москва Уфа Тверь Самара\n",
    "# Sample Output:\n",
    "# \n",
    "# ('Москва', 'Уфа', 'Тверь', 'Самара')\n",
    "\n",
    "lst_c = input().split()\n",
    "\n",
    "lst_c = tuple(lst_c)\n",
    "print(lst_c)"
   ],
   "metadata": {
    "collapsed": false,
    "ExecuteTime": {
     "end_time": "2023-09-26T02:48:29.445040800Z",
     "start_time": "2023-09-26T02:48:28.397028300Z"
    }
   }
  },
  {
   "cell_type": "code",
   "execution_count": 18,
   "outputs": [
    {
     "name": "stdout",
     "output_type": "stream",
     "text": [
      "('Москва', 'Уфа', 'Тверь', 'Самара')\n"
     ]
    }
   ],
   "source": [
    "lst_c = *input().split(),\n",
    "print(lst_c)"
   ],
   "metadata": {
    "collapsed": false,
    "ExecuteTime": {
     "end_time": "2023-09-26T02:48:39.769926700Z",
     "start_time": "2023-09-26T02:48:38.057257300Z"
    }
   }
  },
  {
   "cell_type": "code",
   "execution_count": 26,
   "outputs": [
    {
     "name": "stdout",
     "output_type": "stream",
     "text": [
      "3 4 5 6 7 8 9 10 11\n"
     ]
    }
   ],
   "source": [
    "# Вводятся два целых значения a и b (a < b) в одну строчку через пробел. Необходимо сформировать список из целых чисел от a до b (включительно) с шагом изменения 1, используя функцию range, оператор [] и оператор распаковки *. Вывести полученный список на экран командой:\n",
    "# \n",
    "# print(*lst)\n",
    "# \n",
    "# Sample Input:\n",
    "# \n",
    "# 3 11\n",
    "# Sample Output:\n",
    "# \n",
    "# 3 4 5 6 7 8 9 10 11\n",
    "\n",
    "a, b = map(int, input().split())\n",
    "\n",
    "lst = range(a,b+1)\n",
    "\n",
    "print(*lst)"
   ],
   "metadata": {
    "collapsed": false,
    "ExecuteTime": {
     "end_time": "2023-09-26T02:53:54.472956300Z",
     "start_time": "2023-09-26T02:53:52.438113100Z"
    }
   }
  },
  {
   "cell_type": "code",
   "execution_count": 27,
   "outputs": [],
   "source": [
    "# Вводится список вещественных чисел и список названий городов, каждый в отдельной строке. Необходимо сформировать единый список lst, в котором сначала идут числа, а затем, названия городов. Реализовать программу с помощью оператор распаковки *. Вывести полученный список на экран командой:\n",
    "# \n",
    "# print(*lst)\n",
    "# \n",
    "# Sample Input:\n",
    "# \n",
    "# 5.8 11.0 4.3\n",
    "# Уфа Омск Тверь Самара\n",
    "# Sample Output:\n",
    "# \n",
    "# 5.8 11.0 4.3 Уфа Омск Тверь Самара\n",
    "\n",
    "x = input().split()\n",
    "y = input().split()\n",
    "print(*x + y)\n"
   ],
   "metadata": {
    "collapsed": false,
    "ExecuteTime": {
     "end_time": "2023-09-26T02:55:28.858565200Z",
     "start_time": "2023-09-26T02:55:27.765267500Z"
    }
   }
  },
  {
   "cell_type": "code",
   "execution_count": null,
   "outputs": [],
   "source": [
    "# Имеется словарь, содержащий пункты меню:\n",
    "# \n",
    "# menu = {'Главная': 'home', 'Архив': 'archive', 'Новости': 'news'}\n",
    "# \n",
    "# Дополнительно вводятся еще пункты меню в виде строк в формате:\n",
    "# \n",
    "# название_1=url_1\n",
    "# ...\n",
    "# название_N=url_N\n",
    "# \n",
    "# Необходимо эту введенную информацию преобразовать в словарь и добавить к словарю menu, используя оператор распаковки для словарей. На результирующий словарь должна вести переменная menu. Выводить словарь не нужно, только сформировать.\n",
    "# \n",
    "# P. S. Для считывания списка целиком в программе уже записаны начальные строчки.\n",
    "# \n",
    "# Sample Input:\n",
    "# \n",
    "# Города=about-cities\n",
    "# Машины=read-of-cars\n",
    "# Самолеты=airplanes\n",
    "# Sample Output:\n",
    "# \n",
    "# Архив Главная Города Машины Новости Самолеты\n",
    "# about-cities airplanes archive home news read-of-cars\n",
    "\n",
    "import sys\n",
    "\n",
    "# считывание списка из входного потока\n",
    "lst_in = list(map(str.strip, sys.stdin.readlines()))\n",
    "\n",
    "menu = {'Главная': 'home', 'Архив': 'archive', 'Новости': 'news'}\n",
    "# здесь продолжайте программу (используйте список lst_in и menu)\n",
    "for item in lst_in:\n",
    "    key, value = item.split('=')\n",
    "    menu[key] = value"
   ],
   "metadata": {
    "collapsed": false
   }
  },
  {
   "cell_type": "code",
   "execution_count": null,
   "outputs": [],
   "source": [
    "\"\"\"\n",
    "    Рекурсивная функция\n",
    "\"\"\""
   ],
   "metadata": {
    "collapsed": false
   }
  },
  {
   "cell_type": "code",
   "execution_count": 37,
   "outputs": [
    {
     "name": "stdout",
     "output_type": "stream",
     "text": [
      "1\n",
      "2\n",
      "3\n",
      "4\n",
      "5\n",
      " 5\n",
      " 4\n",
      " 3\n",
      " 2\n",
      " 1\n"
     ]
    }
   ],
   "source": [
    "def recurive(value):\n",
    "    print(value)\n",
    "    if value < 5:\n",
    "        recurive(value+1)\n",
    "    print(f\" {value}\")\n",
    "        \n",
    "        \n",
    "recurive(1)"
   ],
   "metadata": {
    "collapsed": false,
    "ExecuteTime": {
     "end_time": "2023-09-26T03:14:11.454237200Z",
     "start_time": "2023-09-26T03:14:11.436219900Z"
    }
   }
  },
  {
   "cell_type": "code",
   "execution_count": 1,
   "outputs": [
    {
     "name": "stdout",
     "output_type": "stream",
     "text": [
      "Hello World 5\n",
      "Hello World 4\n",
      "Hello World 3\n",
      "Hello World 2\n",
      "Hello World 1\n"
     ]
    }
   ],
   "source": [
    "def privet(x):\n",
    "    if x == 0:\n",
    "        return \n",
    "    else:\n",
    "        print(f\"Hello World {x}\")\n",
    "        privet(x-1)\n",
    "    \n",
    "    \n",
    "privet(5)"
   ],
   "metadata": {
    "collapsed": false,
    "ExecuteTime": {
     "end_time": "2023-09-28T02:13:51.857543700Z",
     "start_time": "2023-09-28T02:13:51.847244600Z"
    }
   }
  },
  {
   "cell_type": "code",
   "execution_count": 15,
   "outputs": [
    {
     "name": "stdout",
     "output_type": "stream",
     "text": [
      "1\n",
      "2\n",
      "3\n",
      "4\n",
      "5\n",
      "6\n",
      "7\n",
      "8\n"
     ]
    }
   ],
   "source": [
    "# Вводится целое положительное число N. Необходимо написать рекурсивную функцию с именем get_rec_N, которая отображает на экране последовательность целых чисел от 1 до N (включительно). Каждое число выводится с новой строки. \n",
    "# \n",
    "# В качестве параметра функция get_rec_N должна принимать одно числовое значение. То есть, иметь только один параметр. Начальный вызов функции будет выглядеть так:\n",
    "# \n",
    "# get_rec_N(N)\n",
    "# Вызывать функцию не нужно, только объявить.\n",
    "# \n",
    "# Sample Input:\n",
    "# \n",
    "# 8\n",
    "# Sample Output:\n",
    "# \n",
    "# 1\n",
    "# 2\n",
    "# 3\n",
    "# 4\n",
    "# 5\n",
    "# 6\n",
    "# 7\n",
    "# 8\n",
    "\n",
    "def get_rec_N(N):\n",
    "    if N > 0:\n",
    "        get_rec_N(N-1)\n",
    "        print(N)\n",
    "\n",
    "\n",
    "get_rec_N(8)\n"
   ],
   "metadata": {
    "collapsed": false,
    "ExecuteTime": {
     "end_time": "2023-09-27T03:02:17.987285800Z",
     "start_time": "2023-09-27T03:02:17.954256300Z"
    }
   }
  },
  {
   "cell_type": "code",
   "execution_count": 18,
   "outputs": [],
   "source": [
    "# Вводится список целых чисел в одну строчку через пробел. Необходимо вычислить сумму этих введенных значений, используя рекурсивную функцию (для перебора элементов списка) с именем get_rec_sum. Функция должна возвращать значение суммы. (Выводить на экран она ничего не должна).\n",
    "# \n",
    "# Вызовите эту функцию и выведите вычисленное значение суммы на экран.\n",
    "# \n",
    "# Sample Input:\n",
    "# \n",
    "# 8 11 -5 4 3\n",
    "# Sample Output:\n",
    "# \n",
    "# 21\n",
    "\n",
    "def get_rec_sum(x):\n",
    "    if x == 0:\n",
    "        return 0\n",
    "    elif x == 1:\n",
    "        return 1\n",
    "    else: x + get_rec_sum(x-1)\n",
    "    \n",
    "    \n",
    "x = [int(x) for x in input().split()]"
   ],
   "metadata": {
    "collapsed": false,
    "ExecuteTime": {
     "end_time": "2023-09-27T03:08:11.096223800Z",
     "start_time": "2023-09-27T03:08:10.010556200Z"
    }
   }
  },
  {
   "cell_type": "code",
   "execution_count": 19,
   "outputs": [
    {
     "ename": "TypeError",
     "evalue": "unsupported operand type(s) for -: 'list' and 'int'",
     "output_type": "error",
     "traceback": [
      "\u001B[1;31m---------------------------------------------------------------------------\u001B[0m",
      "\u001B[1;31mTypeError\u001B[0m                                 Traceback (most recent call last)",
      "Cell \u001B[1;32mIn[19], line 1\u001B[0m\n\u001B[1;32m----> 1\u001B[0m \u001B[43mget_rec_sum\u001B[49m\u001B[43m(\u001B[49m\u001B[43mx\u001B[49m\u001B[43m)\u001B[49m\n",
      "Cell \u001B[1;32mIn[18], line 17\u001B[0m, in \u001B[0;36mget_rec_sum\u001B[1;34m(x)\u001B[0m\n\u001B[0;32m     15\u001B[0m \u001B[38;5;28;01melif\u001B[39;00m x \u001B[38;5;241m==\u001B[39m \u001B[38;5;241m1\u001B[39m:\n\u001B[0;32m     16\u001B[0m     \u001B[38;5;28;01mreturn\u001B[39;00m \u001B[38;5;241m1\u001B[39m\n\u001B[1;32m---> 17\u001B[0m \u001B[38;5;28;01melse\u001B[39;00m: x \u001B[38;5;241m+\u001B[39m get_rec_sum(\u001B[43mx\u001B[49m\u001B[38;5;241;43m-\u001B[39;49m\u001B[38;5;241;43m1\u001B[39;49m)\n",
      "\u001B[1;31mTypeError\u001B[0m: unsupported operand type(s) for -: 'list' and 'int'"
     ]
    }
   ],
   "source": [
    "get_rec_sum(x)"
   ],
   "metadata": {
    "collapsed": false,
    "ExecuteTime": {
     "end_time": "2023-09-27T03:08:21.504022900Z",
     "start_time": "2023-09-27T03:08:21.437385800Z"
    }
   }
  },
  {
   "cell_type": "code",
   "execution_count": 20,
   "outputs": [
    {
     "data": {
      "text/plain": "21"
     },
     "execution_count": 20,
     "metadata": {},
     "output_type": "execute_result"
    }
   ],
   "source": [
    "n = [8, 11, -5, 4, 3]\n",
    "def get_rec_sum(n):\n",
    "    if len(n) == 1:  #Проверяем длину списка и если длина = 1,\n",
    "        return n[0]     # то возвращаем единственно значение из списка. Это и есть первая сумма списка\n",
    "    else:\n",
    "        return n[0] + get_rec_sum(n[1:])\n",
    "    \n",
    "\n",
    "get_rec_sum(n)"
   ],
   "metadata": {
    "collapsed": false,
    "ExecuteTime": {
     "end_time": "2023-09-27T03:24:47.881880700Z",
     "start_time": "2023-09-27T03:24:47.825818500Z"
    }
   }
  },
  {
   "cell_type": "code",
   "execution_count": 21,
   "outputs": [
    {
     "name": "stdout",
     "output_type": "stream",
     "text": [
      "21\n"
     ]
    }
   ],
   "source": [
    "sp = list(map(int, input().split()))\n",
    "\n",
    "def get_rec_sum(s):\n",
    "    if len(s) == 1:\n",
    "        return s[0]\n",
    "    s1 = get_rec_sum(s[1:])\n",
    "    s2 = s[0]\n",
    "    s = s1 + s2\n",
    "    return s\n",
    "\n",
    "print(get_rec_sum(sp))"
   ],
   "metadata": {
    "collapsed": false,
    "ExecuteTime": {
     "end_time": "2023-09-27T03:28:03.707378200Z",
     "start_time": "2023-09-27T03:28:02.731771300Z"
    }
   }
  },
  {
   "cell_type": "code",
   "execution_count": 6,
   "outputs": [
    {
     "name": "stdout",
     "output_type": "stream",
     "text": [
      "13\n"
     ]
    }
   ],
   "source": [
    "# Вводится натуральное число N. Необходимо с помощью рекурсивной функции fib_rec(N, f=[]) (здесь N - общее количество чисел Фибоначчи; f - начальный список этих чисел) сформировать последовательность чисел Фибоначчи по правилу: первые два числа равны 1 и 1, а каждое следующе значение равно сумме двух предыдущих. Пример такой последовательности для первых 7 чисел: 1, 1, 2, 3, 5, 8, 13, ...\n",
    "# \n",
    "# Функция должна возвращать список сформированной последовательности длиной N.\n",
    "# \n",
    "# Вызывать функцию не нужно, только объявить.\n",
    "# \n",
    "# Sample Input:\n",
    "# \n",
    "# 7\n",
    "# Sample Output:\n",
    "# \n",
    "# 1 1 2 3 5 8 13\n",
    "\n",
    "def fido(x):\n",
    "    if x == 0:\n",
    "        return 0\n",
    "    elif x == 1:\n",
    "        return 1\n",
    "    else:\n",
    "        return fido(x-1) + fido(x-2)\n",
    "        \n",
    "    \n",
    "    \n",
    "print(fido(7))"
   ],
   "metadata": {
    "collapsed": false,
    "ExecuteTime": {
     "end_time": "2023-09-28T02:31:51.526358300Z",
     "start_time": "2023-09-28T02:31:51.502336400Z"
    }
   }
  },
  {
   "cell_type": "code",
   "execution_count": 3,
   "outputs": [
    {
     "name": "stdout",
     "output_type": "stream",
     "text": [
      "1 1 2 3 5 8 13\n"
     ]
    }
   ],
   "source": [
    "def fib_rec(N, f=[]):\n",
    "    if len(f) < N:\n",
    "        if len(f) == 0:\n",
    "            f.append(1)\n",
    "            f.append(1)\n",
    "        else:\n",
    "            f.append(f[-1] + f[-2])\n",
    "        return fib_rec(N, f)\n",
    "    else:\n",
    "        return f[:N]\n",
    "\n",
    "N = int(input())\n",
    "print(' '.join(map(str, fib_rec(N))))"
   ],
   "metadata": {
    "collapsed": false,
    "ExecuteTime": {
     "end_time": "2023-09-28T02:28:28.073689500Z",
     "start_time": "2023-09-28T02:28:26.266134300Z"
    }
   }
  },
  {
   "cell_type": "code",
   "execution_count": 8,
   "outputs": [
    {
     "data": {
      "text/plain": "720"
     },
     "execution_count": 8,
     "metadata": {},
     "output_type": "execute_result"
    }
   ],
   "source": [
    "# Вводится целое неотрицательное число n. Необходимо с помощью рекурсивной функции fact_rec вычислить факториал числа n. Напомню, что факториал числа, равен: n! = 1 * 2 * 3 *...* n. Функция должна возвращать вычисленное значение.\n",
    "# Вызывать функцию не нужно, только объявить со следующей сигнатурой:\n",
    "# \n",
    "# def fact_rec(n): ...\n",
    "# \n",
    "# Sample Input:\n",
    "# \n",
    "# 6\n",
    "# Sample Output:\n",
    "# \n",
    "# 720\n",
    "\n",
    "n = int(input())\n",
    "\n",
    "# здесь задается функция fact_rec  (переменную n не менять!)\n",
    "def fact_rec (x):\n",
    "    if x == 0:\n",
    "        return 1\n",
    "    else:\n",
    "        return x * fact_rec(x-1)\n",
    "    \n",
    "    \n",
    "fact_rec(n)"
   ],
   "metadata": {
    "collapsed": false,
    "ExecuteTime": {
     "end_time": "2023-09-28T02:33:29.441699Z",
     "start_time": "2023-09-28T02:33:27.965798400Z"
    }
   }
  },
  {
   "cell_type": "code",
   "execution_count": 9,
   "outputs": [
    {
     "name": "stdout",
     "output_type": "stream",
     "text": [
      "[1, 2, True, False, 'Москва', 'Уфа', 100, 101, 'True', -2, -1, 7.89]\n"
     ]
    }
   ],
   "source": [
    "# Имеется следующий многомерный список:\n",
    "# \n",
    "# d = [1, 2, [True, False], [\"Москва\", \"Уфа\", [100, 101], ['True', [-2, -1]]], 7.89]\n",
    "# С помощью рекурсивной функции get_line_list создать на его основе одномерный список из значений элементов списка d. Функция должна возвращать новый созданный одномерный список.  (Только возвращать, выводить на экран ничего не нужно.)\n",
    "# \n",
    "# Вызывать функцию не нужно, только объявить со следующей сигнатурой:\n",
    "# \n",
    "# def get_line_list(d,a=[]): ...\n",
    "# где d - исходный список; a - новый формируемый\n",
    "# \n",
    "# d = [1, 2, [True, False], [\"Москва\", \"Уфа\", [100, 101], ['True', [-2, -1]]], 7.89]\n",
    "\n",
    "# здесь продолжайте программу\n",
    "\n",
    "d = [1, 2, [True, False], [\"Москва\", \"Уфа\", [100, 101], ['True', [-2, -1]]], 7.89]\n",
    "\n",
    "def get_line_list(d, a=[]):\n",
    "    for item in d:\n",
    "        if isinstance(item, list):\n",
    "            get_line_list(item, a)\n",
    "        else:\n",
    "            a.append(item)\n",
    "    return a\n",
    "\n",
    "\n",
    "a = get_line_list(d)\n",
    "print(a)\n"
   ],
   "metadata": {
    "collapsed": false,
    "ExecuteTime": {
     "end_time": "2023-09-28T02:36:00.392617800Z",
     "start_time": "2023-09-28T02:36:00.319031700Z"
    }
   }
  },
  {
   "cell_type": "code",
   "execution_count": 11,
   "outputs": [
    {
     "name": "stdout",
     "output_type": "stream",
     "text": [
      "3\n"
     ]
    }
   ],
   "source": [
    "# Лягушка прыгает вперед и может скакнуть либо на одно деление, либо сразу на два. Наша задача определить количество вариантов маршрутов, которыми лягушка может достичь риски под номером N (натуральное число N вводится с клавиатуры).\n",
    "# \n",
    "# \n",
    "# \n",
    "# Решать задачу следует с применением рекурсивной функции. Назовем ее get_path. Алгоритм решения будет следующий. Рассмотрим, например, риску под номером 4. Очевидно, в нее лягушка может скакнуть либо с риски номер 2, либо с риски номер 3. Значит, общее число вариантов перемещений лягушки можно определить как: \n",
    "# \n",
    "# get_path(4) = get_path(3) + get_path(2)\n",
    "# \n",
    "# Аналогично будет справедливо и для любой риски N:\n",
    "# \n",
    "# get_path(N) = get_path(N-1) + get_path(N-2)\n",
    "# \n",
    "# А начальные условия задачи, следующие:\n",
    "# \n",
    "# get_path(1) = 1\n",
    "# get_path(2) = 2\n",
    "# \n",
    "# Реализуйте такую рекурсивную функцию, которая должна возвращать количество вариантов перемещений лягушки для риски под номером N.\n",
    "# \n",
    "# Вызовите эту функцию для введенного числа N и отобразите результат на экране.\n",
    "# \n",
    "# Sample Input:\n",
    "# \n",
    "# 7\n",
    "# Sample Output:\n",
    "# \n",
    "# 21\n",
    "\n",
    "\n",
    "N = 3\n",
    "\n",
    "def get_path(N):\n",
    "    if N == 1:\n",
    "        return 1\n",
    "    if N == 2:\n",
    "        return 2\n",
    "    n1 = get_path(N-1)\n",
    "    n2 = get_path(N-2)\n",
    "    n = n1 + n2\n",
    "    return n\n",
    "\n",
    "\n",
    "print(get_path(N))"
   ],
   "metadata": {
    "collapsed": false,
    "ExecuteTime": {
     "end_time": "2023-09-28T03:01:56.664959500Z",
     "start_time": "2023-09-28T03:01:56.631930Z"
    }
   }
  },
  {
   "cell_type": "code",
   "execution_count": 12,
   "outputs": [
    {
     "name": "stdout",
     "output_type": "stream",
     "text": [
      "21\n"
     ]
    }
   ],
   "source": [
    "def get_path(N):\n",
    "    if N == 1:\n",
    "        return 1\n",
    "    elif N == 2:\n",
    "        return 2\n",
    "    else:\n",
    "        return get_path(N - 1) + get_path(N - 2)\n",
    "\n",
    "# Считываем число N с клавиатуры\n",
    "N = int(input(\"Введите номер риски N: \"))\n",
    "\n",
    "# Вызываем функцию и выводим результат\n",
    "result = get_path(N)\n",
    "print(result)\n"
   ],
   "metadata": {
    "collapsed": false,
    "ExecuteTime": {
     "end_time": "2023-09-28T03:09:25.759107200Z",
     "start_time": "2023-09-28T03:09:23.854218200Z"
    }
   }
  },
  {
   "cell_type": "code",
   "execution_count": 13,
   "outputs": [
    {
     "name": "stdout",
     "output_type": "stream",
     "text": [
      "[1, 2, 3, 3, 4, 4, 8, 10, 11]\n"
     ]
    }
   ],
   "source": [
    "\"\"\"\n",
    "            Метод слияния списков\n",
    "\n",
    "\n",
    "lst1 = [1, 4, 10, 11]\n",
    "lst2 = [2, 3, 3, 4, 8]\n",
    "\"\"\"\n",
    "\n",
    "def merge_lists(lst1, lst2):\n",
    "    if not lst1:\n",
    "        return lst2\n",
    "    if not lst2:\n",
    "        return lst1\n",
    "    \n",
    "    if lst1[0] <= lst2[0]:\n",
    "        return [lst1[0]] + merge_lists(lst1[1:], lst2)\n",
    "    else:\n",
    "        return [lst2[0]] + merge_lists(lst1, lst2[1:])\n",
    "\n",
    "lst1 = [1, 4, 10, 11]\n",
    "lst2 = [2, 3, 3, 4, 8]\n",
    "\n",
    "merged_list = merge_lists(lst1, lst2)\n",
    "print(merged_list)"
   ],
   "metadata": {
    "collapsed": false,
    "ExecuteTime": {
     "end_time": "2023-09-28T03:20:33.271125Z",
     "start_time": "2023-09-28T03:20:33.219078100Z"
    }
   }
  },
  {
   "cell_type": "code",
   "execution_count": 33,
   "outputs": [
    {
     "name": "stdout",
     "output_type": "stream",
     "text": [
      "-6 0 1 1 3 8 11\n"
     ]
    }
   ],
   "source": [
    "# Вводится список из целых чисел в одну строчку через пробел. Необходимо выполнить его сортировку по возрастанию с помощью алгоритма сортировки слиянием. Функция должна возвращать новый отсортированный список.\n",
    "# Вызовите результирующую функцию сортировки для введенного списка и отобразите результат на экран в виде последовательности чисел, записанных через пробел.\n",
    "# \n",
    "# Подсказка. Для разбиения списка и его последующей сборки используйте рекурсивные функции.\n",
    "# \n",
    "# P. S. Теория сортировки в видео предыдущего шага.\n",
    "# \n",
    "# Sample Input:\n",
    "# \n",
    "# 8 11 -6 3 0 1 1\n",
    "# Sample Output:\n",
    "# \n",
    "# -6 0 1 1 3 8 11\n",
    "\n",
    "x = [int(i) for i in input().split()]\n",
    "\n",
    "print(*sorted(x))"
   ],
   "metadata": {
    "collapsed": false,
    "ExecuteTime": {
     "end_time": "2023-09-28T03:30:37.734072100Z",
     "start_time": "2023-09-28T03:30:36.664349400Z"
    }
   }
  },
  {
   "cell_type": "code",
   "execution_count": null,
   "outputs": [],
   "source": [
    "def merge_sort(arr):\n",
    "    if len(arr) <= 1:\n",
    "        return arr\n",
    "    mid = len(arr) // 2\n",
    "    left = merge_sort(arr[:mid])\n",
    "    right = merge_sort(arr[mid:])\n",
    "    return merge(left, right)\n",
    "\n",
    "def merge(left, right):\n",
    "    result = []\n",
    "    i, j = 0, 0\n",
    "    while i < len(left) and j < len(right):\n",
    "        if left[i] < right[j]:\n",
    "            result.append(left[i])\n",
    "            i += 1\n",
    "        else:\n",
    "            result.append(right[j])\n",
    "            j += 1\n",
    "    result += left[i:]\n",
    "    result += right[j:]\n",
    "    return result\n",
    "\n",
    "arr = list(map(int, input().split()))\n",
    "sorted_arr = merge_sort(arr)\n",
    "print(' '.join(map(str, sorted_arr)))\n"
   ],
   "metadata": {
    "collapsed": false
   }
  }
 ],
 "metadata": {
  "kernelspec": {
   "display_name": "Python 3 (ipykernel)",
   "language": "python",
   "name": "python3"
  },
  "language_info": {
   "codemirror_mode": {
    "name": "ipython",
    "version": 3
   },
   "file_extension": ".py",
   "mimetype": "text/x-python",
   "name": "python",
   "nbconvert_exporter": "python",
   "pygments_lexer": "ipython3",
   "version": "3.10.11"
  }
 },
 "nbformat": 4,
 "nbformat_minor": 4
}
