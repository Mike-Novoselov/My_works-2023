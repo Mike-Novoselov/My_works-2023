{
 "cells": [
  {
   "cell_type": "code",
   "execution_count": 1,
   "metadata": {
    "collapsed": true,
    "pycharm": {
     "name": "#%%\n"
    }
   },
   "outputs": [
    {
     "name": "stdout",
     "output_type": "stream",
     "text": [
      "6\n"
     ]
    }
   ],
   "source": [
    "print (2+4)"
   ]
  },
  {
   "cell_type": "code",
   "execution_count": 2,
   "outputs": [
    {
     "name": "stdout",
     "output_type": "stream",
     "text": [
      "Hello Wolrd\n"
     ]
    }
   ],
   "source": [
    "print ('Hello Wolrd')"
   ],
   "metadata": {
    "collapsed": false,
    "pycharm": {
     "name": "#%%\n"
    }
   }
  },
  {
   "cell_type": "code",
   "execution_count": 1,
   "outputs": [],
   "source": [
    "b = 'hello'"
   ],
   "metadata": {
    "collapsed": false,
    "pycharm": {
     "name": "#%%\n"
    }
   }
  },
  {
   "cell_type": "code",
   "execution_count": 12,
   "outputs": [
    {
     "data": {
      "text/plain": "16"
     },
     "execution_count": 12,
     "metadata": {},
     "output_type": "execute_result"
    }
   ],
   "source": [
    "2 ** 4"
   ],
   "metadata": {
    "collapsed": false,
    "pycharm": {
     "name": "#%%\n"
    }
   }
  },
  {
   "cell_type": "code",
   "execution_count": 13,
   "outputs": [
    {
     "data": {
      "text/plain": "2.0"
     },
     "execution_count": 13,
     "metadata": {},
     "output_type": "execute_result"
    }
   ],
   "source": [
    "32/16"
   ],
   "metadata": {
    "collapsed": false,
    "pycharm": {
     "name": "#%%\n"
    }
   }
  },
  {
   "cell_type": "code",
   "execution_count": 14,
   "outputs": [
    {
     "data": {
      "text/plain": "11"
     },
     "execution_count": 14,
     "metadata": {},
     "output_type": "execute_result"
    }
   ],
   "source": [
    "11 % 33"
   ],
   "metadata": {
    "collapsed": false,
    "pycharm": {
     "name": "#%%\n"
    }
   }
  },
  {
   "cell_type": "code",
   "execution_count": 15,
   "outputs": [
    {
     "data": {
      "text/plain": "5"
     },
     "execution_count": 15,
     "metadata": {},
     "output_type": "execute_result"
    }
   ],
   "source": [
    " 21 // 4"
   ],
   "metadata": {
    "collapsed": false,
    "pycharm": {
     "name": "#%%\n"
    }
   }
  },
  {
   "cell_type": "code",
   "execution_count": 4,
   "outputs": [
    {
     "data": {
      "text/plain": "3.141592653589793"
     },
     "execution_count": 4,
     "metadata": {},
     "output_type": "execute_result"
    }
   ],
   "source": [
    "import math\n",
    "\n",
    "x = math.pi\n",
    "x"
   ],
   "metadata": {
    "collapsed": false,
    "pycharm": {
     "name": "#%%\n"
    }
   }
  },
  {
   "cell_type": "code",
   "execution_count": 7,
   "outputs": [
    {
     "data": {
      "text/plain": "5.6"
     },
     "execution_count": 7,
     "metadata": {},
     "output_type": "execute_result"
    }
   ],
   "source": [
    "a = abs(-5.6)\n",
    "a"
   ],
   "metadata": {
    "collapsed": false,
    "pycharm": {
     "name": "#%%\n"
    }
   }
  },
  {
   "cell_type": "code",
   "execution_count": 11,
   "outputs": [
    {
     "data": {
      "text/plain": "-5"
     },
     "execution_count": 11,
     "metadata": {},
     "output_type": "execute_result"
    }
   ],
   "source": [
    "min (1, 2, 3, 4, 0, -5, 10)"
   ],
   "metadata": {
    "collapsed": false,
    "pycharm": {
     "name": "#%%\n"
    }
   }
  },
  {
   "cell_type": "code",
   "execution_count": 12,
   "outputs": [
    {
     "data": {
      "text/plain": "36"
     },
     "execution_count": 12,
     "metadata": {},
     "output_type": "execute_result"
    }
   ],
   "source": [
    "pow (6, 2)"
   ],
   "metadata": {
    "collapsed": false,
    "pycharm": {
     "name": "#%%\n"
    }
   }
  },
  {
   "cell_type": "code",
   "execution_count": 13,
   "outputs": [
    {
     "data": {
      "text/plain": "36"
     },
     "execution_count": 13,
     "metadata": {},
     "output_type": "execute_result"
    }
   ],
   "source": [
    "6 ** 2"
   ],
   "metadata": {
    "collapsed": false,
    "pycharm": {
     "name": "#%%\n"
    }
   }
  },
  {
   "cell_type": "code",
   "execution_count": 14,
   "outputs": [
    {
     "data": {
      "text/plain": "3.0"
     },
     "execution_count": 14,
     "metadata": {},
     "output_type": "execute_result"
    }
   ],
   "source": [
    "pow (27, 1/3)"
   ],
   "metadata": {
    "collapsed": false,
    "pycharm": {
     "name": "#%%\n"
    }
   }
  },
  {
   "cell_type": "code",
   "execution_count": 17,
   "outputs": [
    {
     "data": {
      "text/plain": "780.0"
     },
     "execution_count": 17,
     "metadata": {},
     "output_type": "execute_result"
    }
   ],
   "source": [
    "round (784.5575, -1)"
   ],
   "metadata": {
    "collapsed": false,
    "pycharm": {
     "name": "#%%\n"
    }
   }
  },
  {
   "cell_type": "code",
   "execution_count": 18,
   "outputs": [
    {
     "data": {
      "text/plain": "6"
     },
     "execution_count": 18,
     "metadata": {},
     "output_type": "execute_result"
    }
   ],
   "source": [
    "math.ceil(5.2)"
   ],
   "metadata": {
    "collapsed": false,
    "pycharm": {
     "name": "#%%\n"
    }
   }
  },
  {
   "cell_type": "code",
   "execution_count": 19,
   "outputs": [
    {
     "data": {
      "text/plain": "720"
     },
     "execution_count": 19,
     "metadata": {},
     "output_type": "execute_result"
    }
   ],
   "source": [
    "math.factorial(6)"
   ],
   "metadata": {
    "collapsed": false,
    "pycharm": {
     "name": "#%%\n"
    }
   }
  },
  {
   "cell_type": "code",
   "execution_count": 29,
   "outputs": [
    {
     "ename": "ValueError",
     "evalue": "not enough values to unpack (expected 5, got 1)",
     "output_type": "error",
     "traceback": [
      "\u001B[1;31m---------------------------------------------------------------------------\u001B[0m",
      "\u001B[1;31mValueError\u001B[0m                                Traceback (most recent call last)",
      "Cell \u001B[1;32mIn [29], line 2\u001B[0m\n\u001B[0;32m      1\u001B[0m \u001B[38;5;66;03m# ввод целого числа\u001B[39;00m\n\u001B[1;32m----> 2\u001B[0m d1, d2, d3, d4, d5 \u001B[38;5;241m=\u001B[39m \u001B[38;5;28mmap\u001B[39m(\u001B[38;5;28mint\u001B[39m, \u001B[38;5;28minput\u001B[39m()\u001B[38;5;241m.\u001B[39msplit())\n\u001B[0;32m      4\u001B[0m \u001B[38;5;66;03m# здесь продолжите программу\u001B[39;00m\n\u001B[0;32m      6\u001B[0m \u001B[38;5;28mprint\u001B[39m(\u001B[38;5;28mmin\u001B[39m(d1, d2, d3, d4, d5))\n",
      "\u001B[1;31mValueError\u001B[0m: not enough values to unpack (expected 5, got 1)"
     ]
    }
   ],
   "source": [
    "# ввод целого числа\n",
    "d1, d2, d3, d4, d5 = map(int, input().split())\n",
    "\n",
    "# здесь продолжите программу\n",
    "\n",
    "print(min(d1, d2, d3, d4, d5))"
   ],
   "metadata": {
    "collapsed": false,
    "pycharm": {
     "name": "#%%\n"
    }
   }
  },
  {
   "cell_type": "code",
   "execution_count": 34,
   "outputs": [
    {
     "name": "stdout",
     "output_type": "stream",
     "text": [
      "5.0\n"
     ]
    }
   ],
   "source": [
    "print(math.sqrt((3**2)+(4**2)))"
   ],
   "metadata": {
    "collapsed": false,
    "pycharm": {
     "name": "#%%\n"
    }
   }
  },
  {
   "cell_type": "code",
   "execution_count": 41,
   "outputs": [
    {
     "name": "stdout",
     "output_type": "stream",
     "text": [
      "5.0\n"
     ]
    }
   ],
   "source": [
    "print(((3**2)+(4**2))**0.5)"
   ],
   "metadata": {
    "collapsed": false,
    "pycharm": {
     "name": "#%%\n"
    }
   }
  },
  {
   "cell_type": "code",
   "execution_count": 44,
   "outputs": [
    {
     "name": "stdout",
     "output_type": "stream",
     "text": [
      "5.0\n"
     ]
    }
   ],
   "source": [
    "import math\n",
    "\n",
    "c = math.sqrt(3 ** 2 + 4 ** 2)\n",
    "print(round(c, 2))"
   ],
   "metadata": {
    "collapsed": false,
    "pycharm": {
     "name": "#%%\n"
    }
   }
  },
  {
   "cell_type": "code",
   "execution_count": 46,
   "outputs": [
    {
     "ename": "ValueError",
     "evalue": "invalid literal for int() with base 10: '6,'",
     "output_type": "error",
     "traceback": [
      "\u001B[1;31m---------------------------------------------------------------------------\u001B[0m",
      "\u001B[1;31mValueError\u001B[0m                                Traceback (most recent call last)",
      "Cell \u001B[1;32mIn [46], line 2\u001B[0m\n\u001B[0;32m      1\u001B[0m \u001B[38;5;28;01mimport\u001B[39;00m \u001B[38;5;21;01mmath\u001B[39;00m\n\u001B[1;32m----> 2\u001B[0m n, k \u001B[38;5;241m=\u001B[39m \u001B[38;5;28mmap\u001B[39m(\u001B[38;5;28mint\u001B[39m, \u001B[38;5;28minput\u001B[39m()\u001B[38;5;241m.\u001B[39msplit())\n\u001B[0;32m      3\u001B[0m c \u001B[38;5;241m=\u001B[39m math\u001B[38;5;241m.\u001B[39mfactorial(n) \u001B[38;5;241m/\u001B[39m (math\u001B[38;5;241m.\u001B[39mfactorial(k) \u001B[38;5;241m*\u001B[39m math\u001B[38;5;241m.\u001B[39mfactorial(n \u001B[38;5;241m-\u001B[39m k))\n\u001B[0;32m      4\u001B[0m \u001B[38;5;28mprint\u001B[39m(math\u001B[38;5;241m.\u001B[39mtrunc(c))\n",
      "\u001B[1;31mValueError\u001B[0m: invalid literal for int() with base 10: '6,'"
     ]
    }
   ],
   "source": [
    "import math\n",
    "n, k = map(int, input().split())\n",
    "c = math.factorial(n) / (math.factorial(k) * math.factorial(n - k))\n",
    "print(math.trunc(c))\n"
   ],
   "metadata": {
    "collapsed": false,
    "pycharm": {
     "name": "#%%\n"
    }
   }
  },
  {
   "cell_type": "code",
   "execution_count": 49,
   "outputs": [
    {
     "name": "stdout",
     "output_type": "stream",
     "text": [
      "20.0\n"
     ]
    }
   ],
   "source": [
    "import math\n",
    "x = math.factorial(n)/(math.factorial(k)*math.factorial((n-k)))\n",
    "print(x)"
   ],
   "metadata": {
    "collapsed": false,
    "pycharm": {
     "name": "#%%\n"
    }
   }
  },
  {
   "cell_type": "code",
   "execution_count": 53,
   "outputs": [
    {
     "name": "stdout",
     "output_type": "stream",
     "text": [
      "3\n"
     ]
    }
   ],
   "source": [
    "import math\n",
    "n = 40\n",
    "m = 5\n",
    "x = (m+n)\n",
    "y = (x/20)\n",
    "print(int(math.ceil(y)))"
   ],
   "metadata": {
    "collapsed": false,
    "pycharm": {
     "name": "#%%\n"
    }
   }
  },
  {
   "cell_type": "code",
   "execution_count": 58,
   "outputs": [
    {
     "name": "stdout",
     "output_type": "stream",
     "text": [
      "27\n"
     ]
    }
   ],
   "source": [
    "x = 20\n",
    "y = (x/100*10) # скидка\n",
    "z = 500\n",
    "a = (500/(x-y))\n",
    "print(int(a))\n"
   ],
   "metadata": {
    "collapsed": false,
    "pycharm": {
     "name": "#%%\n"
    }
   }
  },
  {
   "cell_type": "code",
   "execution_count": 6,
   "outputs": [
    {
     "name": "stdout",
     "output_type": "stream",
     "text": [
      "координаты точки: х = 5.76; координаты точки: y = -8\n"
     ]
    }
   ],
   "source": [
    "x = 5.76\n",
    "y = -8\n",
    "# координаты точки: х = 5.76; у = -8\n",
    "print(\"координаты точки: х = \", x, \"; координаты точки: y = \", y, sep=\"\")"
   ],
   "metadata": {
    "collapsed": false,
    "pycharm": {
     "name": "#%%\n"
    }
   }
  },
  {
   "cell_type": "code",
   "execution_count": 8,
   "outputs": [
    {
     "name": "stdout",
     "output_type": "stream",
     "text": [
      "координаты точки: х = 5.76; координаты точки: y = -8\n"
     ]
    }
   ],
   "source": [
    "print(f\"координаты точки: х = {x}; координаты точки: y = {y}\")"
   ],
   "metadata": {
    "collapsed": false,
    "pycharm": {
     "name": "#%%\n"
    }
   }
  },
  {
   "cell_type": "code",
   "execution_count": 10,
   "outputs": [
    {
     "name": "stdout",
     "output_type": "stream",
     "text": [
      "35463 <class 'int'>\n"
     ]
    }
   ],
   "source": [
    "a= int(input())\n",
    "print(a, type (a))"
   ],
   "metadata": {
    "collapsed": false,
    "pycharm": {
     "name": "#%%\n"
    }
   }
  },
  {
   "cell_type": "code",
   "execution_count": 15,
   "outputs": [
    {
     "name": "stdout",
     "output_type": "stream",
     "text": [
      "периметр:  23.0\n"
     ]
    }
   ],
   "source": [
    "### периметр вычисляем#\n",
    "a = float(input(\"введите длену прямоугольника\"))\n",
    "b = float(input(\"введите ширину прямоугольника\"))\n",
    "print(\"периметр: \", 2*(a+b))"
   ],
   "metadata": {
    "collapsed": false,
    "pycharm": {
     "name": "#%%\n"
    }
   }
  },
  {
   "cell_type": "code",
   "execution_count": 18,
   "outputs": [
    {
     "name": "stdout",
     "output_type": "stream",
     "text": [
      "периметр:  19.0\n"
     ]
    }
   ],
   "source": [
    "a, b = map(float, input(\"введите две стороны прямоульника: \").split()) # вводим через пробел map и split ///\n",
    "print(\"периметр: \", 2*(a+b))"
   ],
   "metadata": {
    "collapsed": false,
    "pycharm": {
     "name": "#%%\n"
    }
   }
  },
  {
   "cell_type": "code",
   "execution_count": 19,
   "outputs": [
    {
     "name": "stdout",
     "output_type": "stream",
     "text": [
      "периметр:  18\n"
     ]
    }
   ],
   "source": [
    "a, b, c = map(int, input(\"введите стороны треугольника: \").split()) # вводим через пробел map и split ///\n",
    "print(\"периметр: \", a + b + c)"
   ],
   "metadata": {
    "collapsed": false,
    "pycharm": {
     "name": "#%%\n"
    }
   }
  },
  {
   "cell_type": "code",
   "execution_count": 20,
   "outputs": [
    {
     "name": "stdout",
     "output_type": "stream",
     "text": [
      "7 -4 3\n"
     ]
    }
   ],
   "source": [
    "a = 7\n",
    "b = -4\n",
    "c = 3\n",
    "print (a, b, c)"
   ],
   "metadata": {
    "collapsed": false,
    "pycharm": {
     "name": "#%%\n"
    }
   }
  },
  {
   "cell_type": "code",
   "execution_count": 24,
   "outputs": [
    {
     "name": "stdout",
     "output_type": "stream",
     "text": [
      "Word 1: I | Word 2: love\n"
     ]
    }
   ],
   "source": [
    "s1, s2 = map(str.strip, input().split())\n",
    "print(f\"Word 1: {s1}\", f\"Word 2: {s2}\", sep=\" | \")"
   ],
   "metadata": {
    "collapsed": false,
    "pycharm": {
     "name": "#%%\n"
    }
   }
  },
  {
   "cell_type": "code",
   "execution_count": 27,
   "outputs": [
    {
     "name": "stdout",
     "output_type": "stream",
     "text": [
      "8\n"
     ]
    }
   ],
   "source": [
    "# Напишите программу, в которой вводятся два целых положительных числа и в консоль выводится результат возведения первого числа в степень второго.\n",
    "#\n",
    "# Sample Input:\n",
    "# 2 3\n",
    "# Sample Output:\n",
    "# 8\n",
    "\n",
    "a, b = map(int, input(\"вводятся два целых положительных числа: \").split())\n",
    "print(a**b)"
   ],
   "metadata": {
    "collapsed": false,
    "pycharm": {
     "name": "#%%\n"
    }
   }
  },
  {
   "cell_type": "code",
   "execution_count": null,
   "outputs": [],
   "source": [
    "# Напишите программу, которая принимает на вход два вещественных числа в одну строку через пробел и выводит на экран их сумму.\n",
    "#\n",
    "# Sample Input:\n",
    "#\n",
    "# 8 11\n",
    "# Sample Output:\n",
    "#\n",
    "# 19.0\n",
    "a, b = map(float, input(\"вводятся два целых положительных числа: \").split())\n",
    "print(a+b)"
   ],
   "metadata": {
    "collapsed": false,
    "pycharm": {
     "name": "#%%\n"
    }
   }
  },
  {
   "cell_type": "code",
   "execution_count": 29,
   "outputs": [
    {
     "name": "stdout",
     "output_type": "stream",
     "text": [
      "130\n"
     ]
    }
   ],
   "source": [
    "# В магазине продается X синих ручек, Y зеленых, черных в два раза больше, чем синих, а красных в четыре раза больше зеленых. Напишите программу, в которой вводятся целые значения X, Y в одну строку через пробел с помощью команды:\n",
    "#\n",
    "# X, Y = map(int, input().split())\n",
    "#\n",
    "# и выводится на экран общее число ручек в виде целого числа.\n",
    "#\n",
    "# Sample Input:\n",
    "#\n",
    "# 10 20\n",
    "# Sample Output:\n",
    "#\n",
    "# 130\n",
    "x = 10 # синих ручек\n",
    "y = 20 # зеленых\n",
    "b = 2*x\n",
    "r = 4*y\n",
    "\n",
    "X, Y = map(int, input().split())\n",
    "b = 2*X\n",
    "r = 4*Y\n",
    "print(X+Y+b+r)"
   ],
   "metadata": {
    "collapsed": false,
    "pycharm": {
     "name": "#%%\n"
    }
   }
  },
  {
   "cell_type": "code",
   "execution_count": 30,
   "outputs": [
    {
     "name": "stdout",
     "output_type": "stream",
     "text": [
      "38.0\n"
     ]
    }
   ],
   "source": [
    "# Подвиг 10. Вводятся длина и ширина прямоугольника (каждое вещественное значение с новой строки). Необходимо вычислить его периметр (сумму длин сторон) и результат вывести на экран.\n",
    "#\n",
    "# Sample Input:\n",
    "#\n",
    "# 8\n",
    "# 11\n",
    "# Sample Output:\n",
    "#\n",
    "# 38.0\n",
    "\n",
    "x = float(input())\n",
    "z = float(input())\n",
    "print((x+z)*2)"
   ],
   "metadata": {
    "collapsed": false,
    "pycharm": {
     "name": "#%%\n"
    }
   }
  },
  {
   "cell_type": "code",
   "execution_count": 35,
   "outputs": [
    {
     "name": "stdout",
     "output_type": "stream",
     "text": [
      "3.142\n"
     ]
    }
   ],
   "source": [
    "# Напишите программу вывода переменной math.pi с точностью до тысячных (три знака после запятой).\n",
    "import math\n",
    "x = math.pi\n",
    "print (round(x, 3))"
   ],
   "metadata": {
    "collapsed": false,
    "pycharm": {
     "name": "#%%\n"
    }
   }
  },
  {
   "cell_type": "code",
   "execution_count": 36,
   "outputs": [
    {
     "name": "stdout",
     "output_type": "stream",
     "text": [
      "Вы ввели число 7.54\n"
     ]
    }
   ],
   "source": [
    "x = float(input())\n",
    "print(f\"Вы ввели число {x}\")"
   ],
   "metadata": {
    "collapsed": false,
    "pycharm": {
     "name": "#%%\n"
    }
   }
  },
  {
   "cell_type": "code",
   "execution_count": 2,
   "outputs": [
    {
     "data": {
      "text/plain": "True"
     },
     "execution_count": 2,
     "metadata": {},
     "output_type": "execute_result"
    }
   ],
   "source": [
    "# 2. 4. 6. -8. -10 сравнение на четность (кратность)\n",
    "x = 6\n",
    "x % 2 ==0"
   ],
   "metadata": {
    "collapsed": false,
    "pycharm": {
     "name": "#%%\n"
    }
   }
  },
  {
   "cell_type": "code",
   "execution_count": 3,
   "outputs": [
    {
     "data": {
      "text/plain": "False"
     },
     "execution_count": 3,
     "metadata": {},
     "output_type": "execute_result"
    }
   ],
   "source": [
    "# 2. 4. 6. -8. -10 сравнение на НЕчетность\n",
    "x % 2 !=0"
   ],
   "metadata": {
    "collapsed": false,
    "pycharm": {
     "name": "#%%\n"
    }
   }
  },
  {
   "cell_type": "code",
   "execution_count": 4,
   "outputs": [
    {
     "data": {
      "text/plain": "True"
     },
     "execution_count": 4,
     "metadata": {},
     "output_type": "execute_result"
    }
   ],
   "source": [
    "# [-2; 5]\n",
    "y = 1.8\n",
    "y >= -2 and y <=5"
   ],
   "metadata": {
    "collapsed": false,
    "pycharm": {
     "name": "#%%\n"
    }
   }
  },
  {
   "cell_type": "code",
   "execution_count": 5,
   "outputs": [
    {
     "data": {
      "text/plain": "True"
     },
     "execution_count": 5,
     "metadata": {},
     "output_type": "execute_result"
    }
   ],
   "source": [
    "y = -10\n",
    "y < -2 or y > 5"
   ],
   "metadata": {
    "collapsed": false,
    "pycharm": {
     "name": "#%%\n"
    }
   }
  },
  {
   "cell_type": "code",
   "execution_count": 6,
   "outputs": [
    {
     "data": {
      "text/plain": "True"
     },
     "execution_count": 6,
     "metadata": {},
     "output_type": "execute_result"
    }
   ],
   "source": [
    "x = 7\n",
    "x % 2 != 0 and x % 3 !=0"
   ],
   "metadata": {
    "collapsed": false,
    "pycharm": {
     "name": "#%%\n"
    }
   }
  },
  {
   "cell_type": "code",
   "execution_count": 7,
   "outputs": [
    {
     "data": {
      "text/plain": "True"
     },
     "execution_count": 7,
     "metadata": {},
     "output_type": "execute_result"
    }
   ],
   "source": [
    "not (x % 2 == 0 and x % 3 ==0)"
   ],
   "metadata": {
    "collapsed": false,
    "pycharm": {
     "name": "#%%\n"
    }
   }
  },
  {
   "cell_type": "code",
   "execution_count": 17,
   "outputs": [
    {
     "name": "stdout",
     "output_type": "stream",
     "text": [
      "True\n"
     ]
    }
   ],
   "source": [
    "# Подвиг 5. Вводится вещественное число. Нужно определить, что его целая часть кратна 3. На экран вывести True, если кратно и False - в противном случае. Задача делается без использования условного оператора.\n",
    "#\n",
    "# Sample Input:\n",
    "# 78.34\n",
    "# Sample Output:\n",
    "# True\n",
    "x = float(input())\n",
    "x = int(x)\n",
    "print(x % 3 == 0)"
   ],
   "metadata": {
    "collapsed": false,
    "pycharm": {
     "name": "#%%\n"
    }
   }
  },
  {
   "cell_type": "code",
   "execution_count": 24,
   "outputs": [
    {
     "data": {
      "text/plain": "True"
     },
     "execution_count": 24,
     "metadata": {},
     "output_type": "execute_result"
    }
   ],
   "source": [
    "# ублей (например, X = 435.78) - положительное вещественное число с точностью до сотых (два знака после запятой). Требуется определить, является ли дробное значение (число после запятой) больше 50. На экран вывести True, если больше и False - в противном случае. Задача делается без использования условного оператора.\n",
    "#\n",
    "# Sample Input:\n",
    "# 456.56\n",
    "# Sample Output:\n",
    "# True\n",
    "\n",
    "x = float(input())\n",
    "y = round(x%1, 3)\n",
    "y > 0.50"
   ],
   "metadata": {
    "collapsed": false,
    "pycharm": {
     "name": "#%%\n"
    }
   }
  },
  {
   "cell_type": "code",
   "execution_count": 26,
   "outputs": [
    {
     "data": {
      "text/plain": "True"
     },
     "execution_count": 26,
     "metadata": {},
     "output_type": "execute_result"
    }
   ],
   "source": [
    "# Подвиг 7. Вводятся два целочисленных значения в одну строчку через пробел. Можно прочитать с помощью команды:\n",
    "#\n",
    "# a, b = map(int, input().split())\n",
    "#\n",
    "# Необходимо определить, можно ли первое число нацело разделить на второе. На экран вывести True, если делится и False - в противном случае. Задача делается без использования условного оператора.\n",
    "#\n",
    "# Sample Input:\n",
    "# 12 3\n",
    "# Sample Output:\n",
    "# True\n",
    "\n",
    "a, b = map(int, input().split())\n",
    "\n",
    "a % b == 0"
   ],
   "metadata": {
    "collapsed": false,
    "pycharm": {
     "name": "#%%\n"
    }
   }
  },
  {
   "cell_type": "code",
   "execution_count": 29,
   "outputs": [
    {
     "data": {
      "text/plain": "True"
     },
     "execution_count": 29,
     "metadata": {},
     "output_type": "execute_result"
    }
   ],
   "source": [
    "# Подвиг 10. Вводятся три целых положительных числа. Прочитать в переменные их можно с помощью команды:\n",
    "#\n",
    "# a, b, c = map(int, input().split())\n",
    "#\n",
    "# Необходимо определить, можно ли их интерпретировать (воспринимать) как длины сторон треугольника. Напомню, что сумма длин двух произвольных сторон всегда должна быть больше третьей стороны. На экран вывести True, если треугольник формируется и False - в противном случае. Задача делается без использования условного оператора.\n",
    "#\n",
    "# Sample Input:\n",
    "# 8 11 12\n",
    "# Sample Output:\n",
    "# True\n",
    "\n",
    "a, b, c = map(int, input().split())\n",
    "\n",
    "(a+b) > c and (c+b) > a and (a+c) > b"
   ],
   "metadata": {
    "collapsed": false,
    "pycharm": {
     "name": "#%%\n"
    }
   }
  },
  {
   "cell_type": "code",
   "execution_count": 1,
   "outputs": [
    {
     "data": {
      "text/plain": "True"
     },
     "execution_count": 1,
     "metadata": {},
     "output_type": "execute_result"
    }
   ],
   "source": [
    "# Подвиг 11. Вводится вещественное число. Нужно проверить, что оно попадает или в диапазон [0; 2] или в диапазон [10; 20] (включительно). На экран вывести True, если попадает и False - в противном случае. Задача делается без использования условного оператора.\n",
    "#\n",
    "# Sample Input:\n",
    "#\n",
    "# 1.2\n",
    "# Sample Output:\n",
    "#\n",
    "# True\n",
    "\n",
    "x = float(input())\n",
    "(0 <= x <= 2) or (10 <= x <=  20)"
   ],
   "metadata": {
    "collapsed": false,
    "pycharm": {
     "name": "#%%\n"
    }
   }
  },
  {
   "cell_type": "code",
   "execution_count": 4,
   "outputs": [],
   "source": [
    "#                        СТРОКИ"
   ],
   "metadata": {
    "collapsed": false,
    "pycharm": {
     "name": "#%%\n"
    }
   }
  },
  {
   "cell_type": "code",
   "execution_count": null,
   "outputs": [],
   "source": [
    "# Подвиг 5. Напишите программу ввода двух строк (каждая вводится с новой строки) и их объединения в одну строку через пробел. Результат выведите на экран.\n",
    "#\n",
    "# Sample Input:\n",
    "#\n",
    "# hello python\n",
    "# i love you\n",
    "# Sample Output:\n",
    "#\n",
    "# hello python i love you\n",
    "a = input(str())\n",
    "b = input(str())\n",
    "print(a + \" \" + b)"
   ],
   "metadata": {
    "collapsed": false,
    "pycharm": {
     "name": "#%%\n"
    }
   }
  },
  {
   "cell_type": "code",
   "execution_count": 11,
   "outputs": [
    {
     "name": "stdout",
     "output_type": "stream",
     "text": [
      "hello hello python python python \n"
     ]
    }
   ],
   "source": [
    "# Подвиг 7. Напишите программу ввода двух слов через пробел. Сформируйте новую строку, продублировав первое слово дважды, а второе - трижды (все слова в результирующей строке должны идти через пробел). Результат выведите на экран.\n",
    "#\n",
    "# Программу следует реализовать без использования F-строк, а с применением оператора дублирования строк.\n",
    "#\n",
    "# Sample Input:\n",
    "#\n",
    "# hello python\n",
    "# Sample Output:\n",
    "#\n",
    "# hello hello python python python\n",
    "\n",
    "a, b = map(str, input().split())\n",
    "print((a + ' ')*2 + (b + ' ')*3)"
   ],
   "metadata": {
    "collapsed": false,
    "pycharm": {
     "name": "#%%\n"
    }
   }
  },
  {
   "cell_type": "code",
   "execution_count": 30,
   "outputs": [
    {
     "name": "stdout",
     "output_type": "stream",
     "text": [
      "('Переменная a =', 2, 'Переменная a =', -5)\n"
     ]
    }
   ],
   "source": [
    "# Подвиг 8. Выполняется считывание двух целочисленных значений в переменные a и b (вводятся в одну строчку через пробел). Необходимо сформировать строку вида: \"Переменная a = <значение>, переменная b = <значение>\", используя оператор конкатенации (соединения) строк. Результат выведите на экран.\n",
    "#\n",
    "# P. S. F-строки в программе не использовать.\n",
    "#\n",
    "# Sample Input:\n",
    "#\n",
    "# 2 -5\n",
    "# Sample Output:\n",
    "#\n",
    "# Переменная a = 2, переменная b = -5\n",
    "\n",
    "a, b= map(int, input(). split());\n",
    "a=str(a);\n",
    "b=str(b);\n",
    "print(\"Переменная a = \"+a+\", переменная b = \"+b)"
   ],
   "metadata": {
    "collapsed": false,
    "pycharm": {
     "name": "#%%\n"
    }
   }
  },
  {
   "cell_type": "code",
   "execution_count": 35,
   "outputs": [
    {
     "name": "stdout",
     "output_type": "stream",
     "text": [
      "Строка: hello Balakirev. Длина: 15\n"
     ]
    }
   ],
   "source": [
    "# Подвиг 9. Написать программу ввода строки и формирования новой строчки вида: \"Строка: <введенная строка>. Длина: <длина строки>\". Результат сформированной строки вывести на экран.\n",
    "#\n",
    "# P. S. В программе F-строки не использовать.\n",
    "#\n",
    "# Sample Input:\n",
    "#\n",
    "# hello Balakirev\n",
    "# Sample Output:\n",
    "#\n",
    "# Строка: hello Balakirev. Длина: 15\n",
    "\n",
    "x = input(str())\n",
    "y = len(x)\n",
    "print (\"Строка: \"+ x +\".\"+ \" Длина: \"+str(y))"
   ],
   "metadata": {
    "collapsed": false,
    "pycharm": {
     "name": "#%%\n"
    }
   }
  },
  {
   "cell_type": "code",
   "execution_count": 51,
   "outputs": [
    {
     "name": "stdout",
     "output_type": "stream",
     "text": [
      "False False False True\n",
      "False False False True\n"
     ]
    }
   ],
   "source": [
    "# Подвиг 10. Написать программу ввода двух слов (через пробел в одну строчку). Определить булевы значения для оператора in проверки вхождения первого слова во второе. А также для операторов ==, >, <. Все булевы значения объединить в одну строку через пробел и вывести на экран.\n",
    "#\n",
    "# Sample Input:\n",
    "#\n",
    "# hello python\n",
    "# Sample Output:\n",
    "#\n",
    "# False False False True\n",
    "a, b= map(str, input(). split());\n",
    "q1 = (a in b)\n",
    "q2 = (a == b)\n",
    "q3 = (a > b)\n",
    "q4 = (a < b)\n",
    "print(str(q1) +' '+ str(q2) +' '+ str(q3) +' '+ str(q4))\n",
    "print(q1,q2,q3,q4,sep =\" \")"
   ],
   "metadata": {
    "collapsed": false,
    "pycharm": {
     "name": "#%%\n"
    }
   }
  },
  {
   "cell_type": "code",
   "execution_count": 1,
   "outputs": [
    {
     "name": "stdout",
     "output_type": "stream",
     "text": [
      "Коды: a = 97, z = 122\n"
     ]
    }
   ],
   "source": [
    "# Подвиг 11. С клавиатуры вводятся две буквы (в одну строку через пробел). Вывести на экран следующую строку:\n",
    "#\n",
    "# \"Коды: <буква1> = <код буквы1>, <буква2> = <код буквы2>\"\n",
    "#\n",
    "# Sample Input:\n",
    "#\n",
    "# a z\n",
    "# Sample Output:\n",
    "#\n",
    "# Коды: a = 97, z = 122\n",
    "a, b= map(str, input(). split());\n",
    "a1 = str(ord(a))\n",
    "b1 = str(ord(b))\n",
    "print(\"Коды: \"+a+\" = \"+a1+\", \"+b+\" = \"+b1)"
   ],
   "metadata": {
    "collapsed": false,
    "pycharm": {
     "name": "#%%\n"
    }
   }
  },
  {
   "cell_type": "code",
   "execution_count": 9,
   "outputs": [],
   "source": [
    "s = \"hello world\"\n",
    "x = \"H\" + s[1:]\n",
    "print(\"H\" + s[1:])"
   ],
   "metadata": {
    "collapsed": false,
    "pycharm": {
     "name": "#%%\n"
    }
   }
  },
  {
   "cell_type": "code",
   "execution_count": 17,
   "outputs": [
    {
     "name": "stdout",
     "output_type": "stream",
     "text": [
      "In\n"
     ]
    }
   ],
   "source": [
    "# Подвиг 1. Напишите программу ввода строки и отображения на экране ее первого и последнего символа в виде одной строки.\n",
    "#\n",
    "# Sample Input:\n",
    "#\n",
    "# I love Python\n",
    "# Sample Output:\n",
    "#\n",
    "# In\n",
    "x = input(str())\n",
    "print(x[0] + x[-1])"
   ],
   "metadata": {
    "collapsed": false,
    "pycharm": {
     "name": "#%%\n"
    }
   }
  },
  {
   "cell_type": "code",
   "execution_count": 18,
   "outputs": [
    {
     "name": "stdout",
     "output_type": "stream",
     "text": [
      "pand\n"
     ]
    }
   ],
   "source": [
    "# Подвиг 4. Напишите программу отображения первых четырех символов из введенной строки. Будем полагать, что строка гарантированно длиной не менее четырех символов.\n",
    "#\n",
    "# Sample Input:\n",
    "#\n",
    "# panda\n",
    "# Sample Output:\n",
    "#\n",
    "# pand\n",
    "x = input(str())\n",
    "print(x[:4])"
   ],
   "metadata": {
    "collapsed": false,
    "pycharm": {
     "name": "#%%\n"
    }
   }
  },
  {
   "cell_type": "code",
   "execution_count": 21,
   "outputs": [
    {
     "name": "stdout",
     "output_type": "stream",
     "text": [
      "rev\n"
     ]
    }
   ],
   "source": [
    "# Подвиг 5. Напишите программу отображения последних трех символов из введенной строки. Будем полагать, что строка гарантированно длиной не менее трех символов.\n",
    "#\n",
    "# Sample Input:\n",
    "#\n",
    "# Balakirev\n",
    "# Sample Output:\n",
    "#\n",
    "# rev\n",
    "x = input(str())\n",
    "print(x[-3:])"
   ],
   "metadata": {
    "collapsed": false,
    "pycharm": {
     "name": "#%%\n"
    }
   }
  },
  {
   "cell_type": "code",
   "execution_count": 25,
   "outputs": [
    {
     "name": "stdout",
     "output_type": "stream",
     "text": [
      "aaie\n"
     ]
    }
   ],
   "source": [
    "# Подвиг 6. Напишите программу отображения всех символов с нечетными индексами из введенной строки.\n",
    "#\n",
    "# Sample Input:\n",
    "#\n",
    "# Balakirev\n",
    "# Sample Output:\n",
    "#\n",
    "# aaie\n",
    "x = input(str())\n",
    "print(x[1::2])"
   ],
   "metadata": {
    "collapsed": false,
    "pycharm": {
     "name": "#%%\n"
    }
   }
  },
  {
   "cell_type": "code",
   "execution_count": 32,
   "outputs": [
    {
     "name": "stdout",
     "output_type": "stream",
     "text": [
      "Hlo yhn\n"
     ]
    }
   ],
   "source": [
    "# Подвиг 7. Вводятся две строки (каждая с новой строчки). Из первой строки выделить все символы с четными индексами, а из второй - с нечетными. Объединить строки через пробел и вывести на экран.\n",
    "#\n",
    "# Sample Input:\n",
    "#\n",
    "# Hello\n",
    "# Python\n",
    "# Sample Output:\n",
    "#\n",
    "# Hlo yhn\n",
    "x = input(str())\n",
    "y = input(str())\n",
    "print(x[::2] +\" \"+ (y[1::2]))"
   ],
   "metadata": {
    "collapsed": false,
    "pycharm": {
     "name": "#%%\n"
    }
   }
  },
  {
   "cell_type": "code",
   "execution_count": 44,
   "outputs": [
    {
     "name": "stdout",
     "output_type": "stream",
     "text": [
      "karba\n"
     ]
    }
   ],
   "source": [
    "# Подвиг 8. Из введенной строки отобразить первые пять символов в обратном порядке. Полагается, что введенная строка имеет минимум пять символов.\n",
    "#\n",
    "# Sample Input:\n",
    "#\n",
    "# abrakadabra\n",
    "# Sample Output:\n",
    "#\n",
    "# karba\n",
    "\n",
    "x = input(str())\n",
    "print(x[4::-1])"
   ],
   "metadata": {
    "collapsed": false,
    "pycharm": {
     "name": "#%%\n"
    }
   }
  },
  {
   "cell_type": "code",
   "execution_count": 51,
   "outputs": [
    {
     "name": "stdout",
     "output_type": "stream",
     "text": [
      "5\n",
      "9\n",
      "Balak\n"
     ]
    }
   ],
   "source": [
    "# Подвиг 9. Вводятся два слова (через пробел в одной строке). Длина первого слова меньше второго. Необходимо обрезать второе слово до длины первого и отобразить обрезанное слово на экране.\n",
    "#\n",
    "# Sample Input:\n",
    "#\n",
    "# Hello Balakirev\n",
    "# Sample Output:\n",
    "#\n",
    "# Balak\n",
    "\n",
    "a, b= map(str, input(). split());\n",
    "x = len(a)\n",
    "print(len(a))\n",
    "print(len(b))\n",
    "\n",
    "print(b[:x:])"
   ],
   "metadata": {
    "collapsed": false,
    "pycharm": {
     "name": "#%%\n"
    }
   }
  },
  {
   "cell_type": "code",
   "execution_count": 77,
   "outputs": [
    {
     "data": {
      "text/plain": "True"
     },
     "execution_count": 77,
     "metadata": {},
     "output_type": "execute_result"
    }
   ],
   "source": [
    "# Подвиг 10. Вводятся два слова (через пробел в одной строке). Длина второго слова меньше первого. Из этих слов выделить символы с нечетными индексами с обрезкой первого слова до длины второго. Сравнить полученные строки между собой на равенство и результат (True или False) вывести на экран. Задачу выполнять без использования условного оператора.\n",
    "#\n",
    "# Sample Input:\n",
    "#\n",
    "# Hello Hell\n",
    "# Sample Output:\n",
    "#\n",
    "# True\n",
    "a, b= map(str, input(). split());\n",
    "\n",
    "x = len(b) # длинна б = 4\n",
    "y = (a[:x:]) # Hell\n",
    "\n",
    "a1 = a[1::2] # нечетные идндексы а\n",
    "b1 = b[1::2] # нечетные идндексы б\n",
    "\n",
    "a1==b1"
   ],
   "metadata": {
    "collapsed": false,
    "pycharm": {
     "name": "#%%\n"
    }
   }
  },
  {
   "cell_type": "code",
   "execution_count": 1,
   "outputs": [
    {
     "name": "stdout",
     "output_type": "stream",
     "text": [
      "True\n"
     ]
    }
   ],
   "source": [
    "a,b = input().split()\n",
    "print(a[1:len(b):2]==b[1::2])"
   ],
   "metadata": {
    "collapsed": false,
    "pycharm": {
     "name": "#%%\n"
    }
   }
  },
  {
   "cell_type": "code",
   "execution_count": 3,
   "outputs": [
    {
     "data": {
      "text/plain": "False"
     },
     "execution_count": 3,
     "metadata": {},
     "output_type": "execute_result"
    }
   ],
   "source": [
    "\"123 \".isdigit()"
   ],
   "metadata": {
    "collapsed": false,
    "pycharm": {
     "name": "#%%\n"
    }
   }
  },
  {
   "cell_type": "code",
   "execution_count": 5,
   "outputs": [
    {
     "data": {
      "text/plain": "False"
     },
     "execution_count": 5,
     "metadata": {},
     "output_type": "execute_result"
    }
   ],
   "source": [
    "\"hello.\".isalpha()"
   ],
   "metadata": {
    "collapsed": false,
    "pycharm": {
     "name": "#%%\n"
    }
   }
  },
  {
   "cell_type": "code",
   "execution_count": 6,
   "outputs": [
    {
     "data": {
      "text/plain": "'0012'"
     },
     "execution_count": 6,
     "metadata": {},
     "output_type": "execute_result"
    }
   ],
   "source": [
    "d=\"12\"\n",
    "d.rjust(4, '0')"
   ],
   "metadata": {
    "collapsed": false,
    "pycharm": {
     "name": "#%%\n"
    }
   }
  },
  {
   "cell_type": "code",
   "execution_count": 9,
   "outputs": [
    {
     "data": {
      "text/plain": "'12************'"
     },
     "execution_count": 9,
     "metadata": {},
     "output_type": "execute_result"
    }
   ],
   "source": [
    "d=\"12\"\n",
    "d.ljust(14, '*')"
   ],
   "metadata": {
    "collapsed": false,
    "pycharm": {
     "name": "#%%\n"
    }
   }
  },
  {
   "cell_type": "code",
   "execution_count": 10,
   "outputs": [
    {
     "data": {
      "text/plain": "['Иванов', 'Иван', 'Иванович']"
     },
     "execution_count": 10,
     "metadata": {},
     "output_type": "execute_result"
    }
   ],
   "source": [
    "a = \"Иванов Иван Иванович\"\n",
    "a.split(\" \")"
   ],
   "metadata": {
    "collapsed": false,
    "pycharm": {
     "name": "#%%\n"
    }
   }
  },
  {
   "cell_type": "code",
   "execution_count": 14,
   "outputs": [
    {
     "data": {
      "text/plain": "'Иванов'"
     },
     "execution_count": 14,
     "metadata": {},
     "output_type": "execute_result"
    }
   ],
   "source": [
    "v,b,c = a.split(\" \")\n",
    "v"
   ],
   "metadata": {
    "collapsed": false,
    "pycharm": {
     "name": "#%%\n"
    }
   }
  },
  {
   "cell_type": "code",
   "execution_count": 17,
   "outputs": [],
   "source": [
    "digs = \"1, 2,3,  4,  5,6\" # имеем текст с лишними пробелами\n",
    "digs.replace(\" \", \"\") # применяем метод реплейс чтобы заминить пробелы на отсутствие пробелов\n",
    "p = digs.replace(\" \", \"\").split(\",\") # разбиваем сплитом на отдельные элементы"
   ],
   "metadata": {
    "collapsed": false,
    "pycharm": {
     "name": "#%%\n"
    }
   }
  },
  {
   "cell_type": "code",
   "execution_count": 18,
   "outputs": [
    {
     "data": {
      "text/plain": "['1', '2', '3', '4', '5', '6']"
     },
     "execution_count": 18,
     "metadata": {},
     "output_type": "execute_result"
    }
   ],
   "source": [
    "p"
   ],
   "metadata": {
    "collapsed": false,
    "pycharm": {
     "name": "#%%\n"
    }
   }
  },
  {
   "cell_type": "code",
   "execution_count": 20,
   "outputs": [
    {
     "data": {
      "text/plain": "'1, 2, 3, 4, 5, 6'"
     },
     "execution_count": 20,
     "metadata": {},
     "output_type": "execute_result"
    }
   ],
   "source": [
    "\", \".join(p)"
   ],
   "metadata": {
    "collapsed": false,
    "pycharm": {
     "name": "#%%\n"
    }
   }
  },
  {
   "cell_type": "code",
   "execution_count": 22,
   "outputs": [],
   "source": [
    "a = \"Иванов Иван Иванович\"\n",
    "b=a.split()"
   ],
   "metadata": {
    "collapsed": false,
    "pycharm": {
     "name": "#%%\n"
    }
   }
  },
  {
   "cell_type": "code",
   "execution_count": 23,
   "outputs": [
    {
     "data": {
      "text/plain": "['Иванов', 'Иван', 'Иванович']"
     },
     "execution_count": 23,
     "metadata": {},
     "output_type": "execute_result"
    }
   ],
   "source": [
    "b"
   ],
   "metadata": {
    "collapsed": false,
    "pycharm": {
     "name": "#%%\n"
    }
   }
  },
  {
   "cell_type": "code",
   "execution_count": 25,
   "outputs": [
    {
     "data": {
      "text/plain": "'Иванов Иван Иванович'"
     },
     "execution_count": 25,
     "metadata": {},
     "output_type": "execute_result"
    }
   ],
   "source": [
    "\" \".join(b)"
   ],
   "metadata": {
    "collapsed": false,
    "pycharm": {
     "name": "#%%\n"
    }
   }
  },
  {
   "cell_type": "code",
   "execution_count": 57,
   "outputs": [
    {
     "name": "stdout",
     "output_type": "stream",
     "text": [
      "Hello\n"
     ]
    }
   ],
   "source": [
    "# Подвиг 2. Вводится слово. Необходимо первую букву этого слова сделать заглавной, а остальные - малыми. Результат отобразить на экране.\n",
    "#\n",
    "# Sample Input:\n",
    "#\n",
    "# HELLO\n",
    "# Sample Output:\n",
    "#\n",
    "# Hello\n",
    "a = input(str()).lower()\n",
    "a1 = \"H\"+a[1:]\n",
    "print(a1)"
   ],
   "metadata": {
    "collapsed": false,
    "pycharm": {
     "name": "#%%\n"
    }
   }
  },
  {
   "cell_type": "code",
   "execution_count": 36,
   "outputs": [
    {
     "data": {
      "text/plain": "'Hello'"
     },
     "execution_count": 36,
     "metadata": {},
     "output_type": "execute_result"
    }
   ],
   "source": [
    "a = input(str())\n",
    "b = a.replace(\"ELLO\", \"ello\")\n",
    "print (b)"
   ],
   "metadata": {
    "collapsed": false,
    "pycharm": {
     "name": "#%%\n"
    }
   }
  },
  {
   "cell_type": "code",
   "execution_count": 72,
   "outputs": [
    {
     "name": "stdout",
     "output_type": "stream",
     "text": [
      "Hello\n"
     ]
    }
   ],
   "source": [
    "a = input(str())\n",
    "b = a.replace(\"\", \" \")\n",
    "t1, t2, t3, t4, t5, = b.split()\n",
    "T = t1, t2.lower(), t3.lower(), t4.lower(), t5.lower()\n",
    "x= (''.join(T))\n",
    "print (x)"
   ],
   "metadata": {
    "collapsed": false,
    "pycharm": {
     "name": "#%%\n"
    }
   }
  },
  {
   "cell_type": "code",
   "execution_count": 74,
   "outputs": [
    {
     "name": "stdout",
     "output_type": "stream",
     "text": [
      "Hello\n"
     ]
    }
   ],
   "source": [
    "a = input(str())\n",
    "print(a.upper()[0] + a.lower()[1:])"
   ],
   "metadata": {
    "collapsed": false,
    "pycharm": {
     "name": "#%%\n"
    }
   }
  },
  {
   "cell_type": "code",
   "execution_count": 77,
   "outputs": [
    {
     "name": "stdout",
     "output_type": "stream",
     "text": [
      "2\n"
     ]
    }
   ],
   "source": [
    "# Подвиг 3. Вводится строка. Необходимо определить число вхождений дефисов (-) в этой строке. На экране отобразить полученное число.\n",
    "#\n",
    "# Sample Input:\n",
    "#\n",
    "# osnovnye-metody-strok\n",
    "# Sample Output:\n",
    "#\n",
    "# 2\n",
    "a = input(str())\n",
    "print(a.count(\"-\"))"
   ],
   "metadata": {
    "collapsed": false,
    "pycharm": {
     "name": "#%%\n"
    }
   }
  },
  {
   "cell_type": "code",
   "execution_count": 78,
   "outputs": [
    {
     "name": "stdout",
     "output_type": "stream",
     "text": [
      "2\n"
     ]
    }
   ],
   "source": [
    "# Подвиг 6. Вводится строка. С помощью метода String.find найдите в этой строке индекс первого вхождения фрагмента \"ra\". Полученное число выведите на экран.\n",
    "#\n",
    "# Sample Input:\n",
    "#\n",
    "# abrakadabra\n",
    "# Sample Output:\n",
    "#\n",
    "# 2\n",
    "a = input(str())\n",
    "print(a.find(\"ra\"))"
   ],
   "metadata": {
    "collapsed": false,
    "pycharm": {
     "name": "#%%\n"
    }
   }
  },
  {
   "cell_type": "code",
   "execution_count": 82,
   "outputs": [
    {
     "name": "stdout",
     "output_type": "stream",
     "text": [
      "dobavlyaem-slagi-slug-k-url-adresam\n"
     ]
    }
   ],
   "source": [
    "# Подвиг 7. Вводится строка (слаг). Замените в этой строке все двойные дефисы (--) и тройные (---) на одинарные (-). Подумайте, в какой последовательности следует выполнять эти замены. Результат преобразования выведите на экран.\n",
    "#\n",
    "# Sample Input:\n",
    "#\n",
    "# dobavlyaem---slagi--slug-k--url---adresam\n",
    "# Sample Output:\n",
    "#\n",
    "# dobavlyaem-slagi-slug-k-url-adresam\n",
    "\n",
    "a = input(str())\n",
    "b = a.replace(\"---\", '-')\n",
    "c = b.replace(\"--\", '-')\n",
    "print(c)"
   ],
   "metadata": {
    "collapsed": false,
    "pycharm": {
     "name": "#%%\n"
    }
   }
  },
  {
   "cell_type": "code",
   "execution_count": 87,
   "outputs": [
    {
     "name": "stdout",
     "output_type": "stream",
     "text": [
      "008\n",
      "011\n",
      "123\n"
     ]
    }
   ],
   "source": [
    "# Подвиг 8. Вводятся три целых положительных числа (максимум трехзначные) через пробел в одну строчку. Для двухзначных и однозначных чисел нужно добавить слева незначащие нули так, чтобы все числа содержали по три цифры. Вывести на экран полученные числа в столбик.\n",
    "#\n",
    "# Sample Input:\n",
    "#\n",
    "# 8 11 123\n",
    "# Sample Output:\n",
    "#\n",
    "# 008\n",
    "# 011\n",
    "# 123\n",
    "\n",
    "a,b,c = input(str()).split()\n",
    "print(a.rjust(3, '0'))\n",
    "print(b.rjust(3, '0'))\n",
    "print(c.rjust(3, '0'))"
   ],
   "metadata": {
    "collapsed": false,
    "pycharm": {
     "name": "#%%\n"
    }
   }
  },
  {
   "cell_type": "code",
   "execution_count": 92,
   "outputs": [
    {
     "name": "stdout",
     "output_type": "stream",
     "text": [
      "3\n"
     ]
    }
   ],
   "source": [
    "# Подвиг 9. Вводится строка, состоящая из слов, разделенных пробелом. Необходимо подсчитать число слов в этой строке и результат (число) отобразить на экране.\n",
    "#\n",
    "# Sample Input:\n",
    "#\n",
    "# I love Python\n",
    "# Sample Output:\n",
    "#\n",
    "# 3\n",
    "c = input(str()).split()\n",
    "print(len (c))"
   ],
   "metadata": {
    "collapsed": false,
    "pycharm": {
     "name": "#%%\n"
    }
   }
  },
  {
   "cell_type": "code",
   "execution_count": null,
   "outputs": [],
   "source": [
    "print(input().count(' ') + 1) # пример где считают пробелы ..."
   ],
   "metadata": {
    "collapsed": false,
    "pycharm": {
     "name": "#%%\n"
    }
   }
  },
  {
   "cell_type": "code",
   "execution_count": 1,
   "outputs": [
    {
     "name": "stdout",
     "output_type": "stream",
     "text": [
      "Москва;Тверь;Казань\n"
     ]
    }
   ],
   "source": [
    "# Подвиг 10. Вводится строка, состоящая из названий городов, разделенных пробелом. Необходимо преобразовать эту строку, чтобы названия городов шли через точку с запятой. Результат отобразить на экране.\n",
    "#\n",
    "# Sample Input:\n",
    "#\n",
    "# Москва Тверь Казань\n",
    "# Sample Output:\n",
    "#\n",
    "# Москва;Тверь;Казань\n",
    "\n",
    "a = input(str()).replace(\" \", \";\")\n",
    "print(a)"
   ],
   "metadata": {
    "collapsed": false,
    "pycharm": {
     "name": "#%%\n"
    }
   }
  },
  {
   "cell_type": "code",
   "execution_count": 6,
   "outputs": [
    {
     "name": "stdout",
     "output_type": "stream",
     "text": [
      "Тема занятия \"спецсимволы\"\n"
     ]
    }
   ],
   "source": [
    "# Подвиг 2. Необходимо задать строку со следующим содержимым: Тема занятия \"спецсимволы\". И отобразить ее на экране (кавычки у слова спецсимволы также должны быть отображены).\n",
    "#\n",
    "# Sample Input:\n",
    "#\n",
    "# Sample Output:\n",
    "#\n",
    "# Тема занятия \"спецсимволы\"\n",
    "print(\"Тема занятия \\\"спецсимволы\\\"\")"
   ],
   "metadata": {
    "collapsed": false,
    "pycharm": {
     "name": "#%%\n"
    }
   }
  },
  {
   "cell_type": "code",
   "execution_count": 16,
   "outputs": [
    {
     "name": "stdout",
     "output_type": "stream",
     "text": [
      "Hello\\Balakirev!\n"
     ]
    }
   ],
   "source": [
    "# Подвиг 3. Вводится два слова в одну строку через пробел. Поставьте между этими словами символ обратного слеша (вместо пробела). Результирующую строку отобразите на экране.\n",
    "#\n",
    "# P. S. Задачу реализовать без применения F-строк.\n",
    "#\n",
    "# Sample Input:\n",
    "#\n",
    "# Hello Balakirev!\n",
    "# Sample Output:\n",
    "#\n",
    "# Hello\\Balakirev!\n",
    "\n",
    "a,b = input(str()).split()\n",
    "print(a +'\\\\'+ b)"
   ],
   "metadata": {
    "collapsed": false,
    "pycharm": {
     "name": "#%%\n"
    }
   }
  },
  {
   "cell_type": "code",
   "execution_count": 19,
   "outputs": [
    {
     "name": "stdout",
     "output_type": "stream",
     "text": [
      "My'best\"friend\"is\"Python!\n"
     ]
    }
   ],
   "source": [
    "# Подвиг 4. Вводится строка со словами, разделенными пробелом. Необходимо первый пробел заменить на одинарную кавычку, а все остальные - на двойные. Результирующую строку отобразить на экране.\n",
    "#\n",
    "# Sample Input:\n",
    "#\n",
    "# My best friend is Python!\n",
    "# Sample Output:\n",
    "#\n",
    "# My'best\"friend\"is\"Python!\n",
    "\n",
    "a= input(str())\n",
    "b= a.replace(\" \", \"\\\"\",)\n",
    "c= b.replace(\"\\\"\", r\"'\",1)\n",
    "print(c)"
   ],
   "metadata": {
    "collapsed": false,
    "pycharm": {
     "name": "#%%\n"
    }
   }
  },
  {
   "cell_type": "code",
   "execution_count": 20,
   "outputs": [
    {
     "name": "stdout",
     "output_type": "stream",
     "text": [
      "C:\\WINDOWS\\System32\\drivers\\etc\\hosts\n"
     ]
    }
   ],
   "source": [
    "# Подвиг 5. Используя raw-строки, задайте строку, содержащую этот путь к файлу: C:\\WINDOWS\\System32\\drivers\\etc\\hosts. Результат отобразите на экране.\n",
    "#\n",
    "# Sample Input:\n",
    "#\n",
    "# Sample Output:\n",
    "#\n",
    "# C:\\WINDOWS\\System32\\drivers\\etc\\hosts\n",
    "\n",
    "print (r'C:\\WINDOWS\\System32\\drivers\\etc\\hosts')"
   ],
   "metadata": {
    "collapsed": false,
    "pycharm": {
     "name": "#%%\n"
    }
   }
  },
  {
   "cell_type": "code",
   "execution_count": 35,
   "outputs": [
    {
     "name": "stdout",
     "output_type": "stream",
     "text": [
      "\"language\"\n"
     ]
    }
   ],
   "source": [
    "# Подвиг 6. Вводится слово. Необходимо сформировать новую строку, где введенное слово будет заключено в двойные кавычки. Результат выведите на экран.\n",
    "#\n",
    "# Sample Input:\n",
    "#\n",
    "# language\n",
    "# Sample Output:\n",
    "#\n",
    "# \"language\"\n",
    "\n",
    "a= input(str())\n",
    "b= a.ljust(9, \"\\\"\")\n",
    "c= b.rjust(10, \"\\\"\")\n",
    "print(c)\n"
   ],
   "metadata": {
    "collapsed": false,
    "pycharm": {
     "name": "#%%\n"
    }
   }
  },
  {
   "cell_type": "code",
   "execution_count": 2,
   "outputs": [
    {
     "name": "stdout",
     "output_type": "stream",
     "text": [
      "\"language\"\n"
     ]
    }
   ],
   "source": [
    "a= input(str())\n",
    "print(\"\\\"\"+a+\"\\\"\")"
   ],
   "metadata": {
    "collapsed": false,
    "pycharm": {
     "name": "#%%\n"
    }
   }
  },
  {
   "cell_type": "code",
   "execution_count": 4,
   "outputs": [
    {
     "name": "stdout",
     "output_type": "stream",
     "text": [
      "Уважаемый sergey Balakirev! Поздравляем Вас с 35-летием!\n"
     ]
    }
   ],
   "source": [
    "# Подвиг 1. Вводятся: имя, фамилия и возраст (целое положительное число) каждое значение с новой строки. Используя метод строки format, через индексы переменных необходимо сформировать строку по шаблону:\n",
    "#\n",
    "# \"Уважаемый <имя> <фамилия>! Поздравляем Вас с <возраст>-летием!\"\n",
    "#\n",
    "# Результат вывести на экран (без кавычек).\n",
    "#\n",
    "# Sample Input:\n",
    "#\n",
    "# Sergey\n",
    "# Balakirev\n",
    "# 35\n",
    "# Sample Output:\n",
    "#\n",
    "# Уважаемый Sergey Balakirev! Поздравляем Вас с 35-летием!\n",
    "# Уважаемый Sergey Balakirev! Поздравляем Вас с 35-летием!\n",
    "a = input()\n",
    "b = input()\n",
    "c= input()\n",
    "d = \"Уважаемый {0} {1}! Поздравляем Вас с {2}-летием!\".format(a, b, c)\n",
    "print(d)"
   ],
   "metadata": {
    "collapsed": false,
    "pycharm": {
     "name": "#%%\n"
    }
   }
  },
  {
   "cell_type": "code",
   "execution_count": 6,
   "outputs": [
    {
     "name": "stdout",
     "output_type": "stream",
     "text": [
      "Габариты: 8 x 11 x 13\n"
     ]
    }
   ],
   "source": [
    "# Подвиг 2. Вводятся: габариты изделия (целые числа): ширина, глубина, высота - в одну строчку через пробел. С помощью метода format, используя ключи в качестве имен переменных, сформировать строку: \"Габариты: <ширина> x <глубина> x <высота>\". Результат вывести на экран.\n",
    "#\n",
    "# Sample Input:\n",
    "#\n",
    "# 8 11 13\n",
    "# Sample Output:\n",
    "#\n",
    "# Габариты: 8 x 11 x 13\n",
    "\n",
    "a, b, c = input().split()\n",
    "d = \"Габариты: {ширина} x {глубина} x {высота}\".format(ширина = a, глубина= b, высота= c)\n",
    "print(d)"
   ],
   "metadata": {
    "collapsed": false,
    "pycharm": {
     "name": "#%%\n"
    }
   }
  },
  {
   "cell_type": "code",
   "execution_count": 18,
   "outputs": [
    {
     "name": "stdout",
     "output_type": "stream",
     "text": [
      "11 18\n"
     ]
    }
   ],
   "source": [
    "# Подвиг 3. Вводятся: два целых числа в одну строку через пробел. С помощью F-строки отобразить их по возрастанию в одну строку через пробел. Результат вывести на экран.\n",
    "#\n",
    "# P. S. Реализовать программу без использования условных операторов. Подумайте, как это можно сделать.\n",
    "#\n",
    "# Sample Input:\n",
    "#\n",
    "# 18 11\n",
    "# Sample Output:\n",
    "#\n",
    "# 11 18\n",
    "\n",
    "a, b = input().split()\n",
    "c = min(a, b)\n",
    "d = max(a, b)\n",
    "print (f'{c} {d}')"
   ],
   "metadata": {
    "collapsed": false,
    "pycharm": {
     "name": "#%%\n"
    }
   }
  },
  {
   "cell_type": "code",
   "execution_count": null,
   "outputs": [],
   "source": [
    "# Подвиг 4. Вводится адрес (каждое значение с новой строки) в формате: город, улица, номер дома (целое число), номер квартиры (целое число). Сформировать строку по шаблону: \"г. <город>, ул. <улица>, д. <номер дома>, кв. <номер квартиры>\", используя F-строку. Результат вывести на экран.\n",
    "#\n",
    "# Sample Input:\n",
    "#\n",
    "# Москва\n",
    "# Воздвиженка\n",
    "# 9\n",
    "# 1\n",
    "# Sample Output:\n",
    "#\n",
    "# г. Москва, ул. Воздвиженка, д. 9, кв. 1\n",
    "a = input()\n",
    "b = input()\n",
    "c = input()\n",
    "d = input()\n",
    "print(f\"г. {a}, ул. {b}, д. {c}, кв. {d}\")"
   ],
   "metadata": {
    "collapsed": false,
    "pycharm": {
     "name": "#%%\n"
    }
   }
  },
  {
   "cell_type": "code",
   "execution_count": 31,
   "outputs": [
    {
     "name": "stdout",
     "output_type": "stream",
     "text": [
      "Вы можете получить 13$ за 1000 рублей по курсу 73.54\n"
     ]
    }
   ],
   "source": [
    "# Подвиг 5. Вводятся (каждое с новой строки): курс доллара (вещественное значение) и число рублей (целое число) для обмена рублей на доллары. Вычислить целое количество получаемых долларов (с отбрасыванием дробной части) и сформировать строку, используя F-строку:\n",
    "#\n",
    "# \"Вы можете получить <долларов>$ за <число рублей> рублей по курсу <курс доллара>\".\n",
    "#\n",
    "# Вывести результат на экран (без кавычек).\n",
    "#\n",
    "# Sample Input:\n",
    "#\n",
    "# 73.54\n",
    "# 1000\n",
    "# Sample Output:\n",
    "#\n",
    "# Вы можете получить 13$ за 1000 рублей по курсу 73.54\n",
    "\n",
    "a = float(input())\n",
    "b = int(input())\n",
    "print(f\"Вы можете получить {int(b/a)}$ за {b} рублей по курсу {a}\")"
   ],
   "metadata": {
    "collapsed": false,
    "pycharm": {
     "name": "#%%\n"
    }
   }
  },
  {
   "cell_type": "code",
   "execution_count": 13,
   "outputs": [
    {
     "name": "stdout",
     "output_type": "stream",
     "text": [
      "3.1416\n"
     ]
    }
   ],
   "source": [
    "import math\n",
    "x = math.pi\n",
    "print(round(x, 4))"
   ],
   "metadata": {
    "collapsed": false,
    "pycharm": {
     "name": "#%%\n"
    }
   }
  },
  {
   "cell_type": "code",
   "execution_count": 18,
   "outputs": [
    {
     "name": "stdout",
     "output_type": "stream",
     "text": [
      "57\n"
     ]
    }
   ],
   "source": [
    "x = \"1567951321\"\n",
    "print(x[1:5:2])"
   ],
   "metadata": {
    "collapsed": false,
    "pycharm": {
     "name": "#%%\n"
    }
   }
  },
  {
   "cell_type": "code",
   "execution_count": null,
   "outputs": [],
   "source": [
    "                                                    ### СПИСКИ ###"
   ],
   "metadata": {
    "collapsed": false,
    "pycharm": {
     "name": "#%%\n"
    }
   }
  },
  {
   "cell_type": "code",
   "execution_count": 36,
   "outputs": [
    {
     "data": {
      "text/plain": "[1, 3]"
     },
     "execution_count": 36,
     "metadata": {},
     "output_type": "execute_result"
    }
   ],
   "source": [
    "x = [1, 2, 3]\n",
    "del x[1]\n",
    "x"
   ],
   "metadata": {
    "collapsed": false,
    "pycharm": {
     "name": "#%%\n"
    }
   }
  },
  {
   "cell_type": "code",
   "execution_count": 37,
   "outputs": [
    {
     "data": {
      "text/plain": "[1, 3, 1, 3, 1, 3]"
     },
     "execution_count": 37,
     "metadata": {},
     "output_type": "execute_result"
    }
   ],
   "source": [
    "x * 3"
   ],
   "metadata": {
    "collapsed": false,
    "pycharm": {
     "name": "#%%\n"
    }
   }
  },
  {
   "cell_type": "code",
   "execution_count": 39,
   "outputs": [
    {
     "data": {
      "text/plain": "['я', 'людлю', 'я', 'людлю', 'я', 'людлю', 'питон']"
     },
     "execution_count": 39,
     "metadata": {},
     "output_type": "execute_result"
    }
   ],
   "source": [
    "([\"я\"] + [\"людлю\"]) *3 + [\"питон\"]"
   ],
   "metadata": {
    "collapsed": false,
    "pycharm": {
     "name": "#%%\n"
    }
   }
  },
  {
   "cell_type": "code",
   "execution_count": 41,
   "outputs": [
    {
     "data": {
      "text/plain": "[1, 2, 3, 4, 5]"
     },
     "execution_count": 41,
     "metadata": {},
     "output_type": "execute_result"
    }
   ],
   "source": [
    "x = [1,2,3,4]\n",
    "x + [5]"
   ],
   "metadata": {
    "collapsed": false,
    "pycharm": {
     "name": "#%%\n"
    }
   }
  },
  {
   "cell_type": "code",
   "execution_count": 42,
   "outputs": [
    {
     "data": {
      "text/plain": "[1, 2, 3, 4, 1, 2, 3, 4]"
     },
     "execution_count": 42,
     "metadata": {},
     "output_type": "execute_result"
    }
   ],
   "source": [
    "x*2"
   ],
   "metadata": {
    "collapsed": false,
    "pycharm": {
     "name": "#%%\n"
    }
   }
  },
  {
   "cell_type": "code",
   "execution_count": 43,
   "outputs": [
    {
     "data": {
      "text/plain": "True"
     },
     "execution_count": 43,
     "metadata": {},
     "output_type": "execute_result"
    }
   ],
   "source": [
    "2 in x"
   ],
   "metadata": {
    "collapsed": false,
    "pycharm": {
     "name": "#%%\n"
    }
   }
  },
  {
   "cell_type": "code",
   "execution_count": 47,
   "outputs": [
    {
     "name": "stdout",
     "output_type": "stream",
     "text": [
      "[8, 11, 3]\n"
     ]
    }
   ],
   "source": [
    "# Подвиг 3. Вводятся три целых числа в одну строку через пробел. Сформируйте список lst, хранящий эти значения в порядке их ввода. Результат выведите на экран, используя команду:\n",
    "# print(lst)\n",
    "#\n",
    "# Sample Input:\n",
    "#\n",
    "# 8 11 3\n",
    "# Sample Output:\n",
    "#\n",
    "# [8, 11, 3]\n",
    "\n",
    "a,b,c = input().split()\n",
    "a1 = int(a)\n",
    "b1 = int(b)\n",
    "c1 = int(c)\n",
    "lst=[a1, b1, c1]\n",
    "print(lst)"
   ],
   "metadata": {
    "collapsed": false,
    "pycharm": {
     "name": "#%%\n"
    }
   }
  },
  {
   "cell_type": "code",
   "execution_count": 48,
   "outputs": [
    {
     "data": {
      "text/plain": "True"
     },
     "execution_count": 48,
     "metadata": {},
     "output_type": "execute_result"
    }
   ],
   "source": [
    "# Подвиг 4. Вводятся названия городов в одну строчку через пробел. На основе этой строки формируется список с помощью команды:\n",
    "#\n",
    "# cities = input().split()\n",
    "#\n",
    "# Необходимо проверить, присутствует ли в этом списке город \"Москва\". Вывести на экран True, если присутствует и False - в противном случае. Решить эту задачу следует без использования условного оператора.\n",
    "#\n",
    "# Sample Input:\n",
    "#\n",
    "# Тверь Уфа Москва Казань\n",
    "# Sample Output:\n",
    "#\n",
    "# True\n",
    "\n",
    "cities = input().split()\n",
    "\n",
    "x = \"Москва\" in cities\n",
    "print(x)"
   ],
   "metadata": {
    "collapsed": false,
    "pycharm": {
     "name": "#%%\n"
    }
   }
  },
  {
   "cell_type": "code",
   "execution_count": 49,
   "outputs": [
    {
     "name": "stdout",
     "output_type": "stream",
     "text": [
      "Владимир\n"
     ]
    }
   ],
   "source": [
    "# Подвиг 6. Вводятся названия городов в одну строчку через пробел. На основе этой строки формируется список с помощью команды:\n",
    "#\n",
    "# cities = input().split()\n",
    "#\n",
    "# Необходимо вывести значение последнего элемента этого списка на экран.\n",
    "#\n",
    "# Sample Input:\n",
    "#\n",
    "# Москва Питер Уфа Казань Владимир\n",
    "# Sample Output:\n",
    "#\n",
    "# Владимир\n",
    "\n",
    "cities = input().split()\n",
    "print(cities[-1])"
   ],
   "metadata": {
    "collapsed": false,
    "pycharm": {
     "name": "#%%\n"
    }
   }
  },
  {
   "cell_type": "code",
   "execution_count": 54,
   "outputs": [
    {
     "name": "stdout",
     "output_type": "stream",
     "text": [
      "3.3\n"
     ]
    }
   ],
   "source": [
    "# Подвиг 7. Вводятся оценки студента (целые числа от 2 до 5) в одну строчку через пробел. На основе введенной строки формируется список командой:\n",
    "#\n",
    "# marks = list(map(int, input().split()))\n",
    "#\n",
    "# Необходимо вычислить средний балл и вывести его на экран с точностью до десятых (один знак после запятой).\n",
    "#\n",
    "# Sample Input:\n",
    "#\n",
    "# 3 3 2 4 4 5 4 3 2\n",
    "# Sample Output:\n",
    "#\n",
    "# 3.3\n",
    "\n",
    "marks = list(map(int, input().split()))\n",
    "\n",
    "x=sum(marks)/len(marks)\n",
    "print(round(x,1))"
   ],
   "metadata": {
    "collapsed": false,
    "pycharm": {
     "name": "#%%\n"
    }
   }
  },
  {
   "cell_type": "code",
   "execution_count": 152,
   "outputs": [
    {
     "data": {
      "text/plain": "['Мастер и Маргарита', 'Пушкин', 870.9]"
     },
     "execution_count": 152,
     "metadata": {},
     "output_type": "execute_result"
    }
   ],
   "source": [
    "# Подвиг 8. Вводится информация по книге (каждое значение с новой строки): название, автор, число страниц (целое число), цена (вещественное число). На основе этих данных формируется список book с элементами в порядке их ввода. Затем, из этого списка необходимо удалить 3-й элемент (число страниц), в качестве автора записать \"Пушкин\" и цену увеличить в 2 раза. Результат вывести на экран командой:\n",
    "#\n",
    "# print(book)\n",
    "#\n",
    "# Sample Input:\n",
    "#\n",
    "# Мастер и Маргарита\n",
    "# Булгаков\n",
    "# 233\n",
    "# 435.45\n",
    "# Sample Output:\n",
    "#\n",
    "# ['Мастер и Маргарита', 'Пушкин', 870.9]\n",
    "\n",
    "# name = input()\n",
    "# autor = input()\n",
    "# sum_page = int(input())\n",
    "# price = float(input())\n",
    "\n",
    "name = 'Мастер и Маргарита'\n",
    "autor = 'Булгаков'\n",
    "sum_page = 233\n",
    "price = 435.45\n",
    "\n",
    "book1 = [name, autor, sum_page, price]\n",
    "del book1[2]\n",
    "book1[1] = 'Пушкин'\n",
    "book1[2] = book1[2]*2\n",
    "print(book1)"
   ],
   "metadata": {
    "collapsed": false,
    "pycharm": {
     "name": "#%%\n"
    }
   }
  },
  {
   "cell_type": "code",
   "execution_count": 198,
   "outputs": [
    {
     "name": "stdout",
     "output_type": "stream",
     "text": [
      "68 42 467\n"
     ]
    }
   ],
   "source": [
    "# Подвиг 9. Вводится число новых подписчиков канала по дням в одну строку через пробел. На основе введенной строки необходимо сформировать список из целых чисел. Затем, вывести на экран максимальное, минимальное и суммарное значения этого списка через пробел.\n",
    "#\n",
    "# Sample Input:\n",
    "#\n",
    "# 52 65 64 54 68 59 42 63\n",
    "# Sample Output:\n",
    "#\n",
    "# 68 42 467\n",
    "\n",
    "a = input().split()\n",
    "a0 = int(a[0])\n",
    "a1 = int(a[1])\n",
    "a2 = int(a[2])\n",
    "a3 = int(a[3])\n",
    "a4 = int(a[4])\n",
    "a5 = int(a[5])\n",
    "a6 = int(a[6])\n",
    "a7 = int(a[7])\n",
    "b = [a0, a1, a2, a3, a4, a5, a6, a7]\n",
    "print(max(b), min(b), sum(b))"
   ],
   "metadata": {
    "collapsed": false,
    "pycharm": {
     "name": "#%%\n"
    }
   }
  },
  {
   "cell_type": "code",
   "execution_count": 199,
   "outputs": [
    {
     "name": "stdout",
     "output_type": "stream",
     "text": [
      "68 42 467\n"
     ]
    }
   ],
   "source": [
    "### не мое решение\n",
    "x = list(map(int, input().split()))\n",
    "\n",
    "print(max(x), min(x), sum(x))"
   ],
   "metadata": {
    "collapsed": false,
    "pycharm": {
     "name": "#%%\n"
    }
   }
  },
  {
   "cell_type": "code",
   "execution_count": 223,
   "outputs": [
    {
     "name": "stdout",
     "output_type": "stream",
     "text": [
      "68 65 64 63 59 54 52 42\n"
     ]
    }
   ],
   "source": [
    "# Подвиг 10. Вводится число новых подписчиков канала по дням в одну строку через пробел. На основе введенной строки необходимо сформировать список lst из целых чисел. Требуется отсортировать элементы этого списка по убыванию и результат вывести на экран командой:\n",
    "#\n",
    "# print(*lst)\n",
    "#\n",
    "# Sample Input:\n",
    "#\n",
    "# 52 65 64 54 68 59 42 63\n",
    "# Sample Output:\n",
    "#\n",
    "# 68 65 64 63 59 54 52 42\n",
    "\n",
    "x = list(map(int, input().split()))\n",
    "y= sorted(x, reverse= True)\n",
    "print(*y) # * убирает []"
   ],
   "metadata": {
    "collapsed": false,
    "pycharm": {
     "name": "#%%\n"
    }
   }
  },
  {
   "cell_type": "code",
   "execution_count": 224,
   "outputs": [
    {
     "name": "stdout",
     "output_type": "stream",
     "text": [
      "[68, 65, 64, 63, 59, 54, 52, 42]\n"
     ]
    }
   ],
   "source": [
    "print(y)"
   ],
   "metadata": {
    "collapsed": false,
    "pycharm": {
     "name": "#%%\n"
    }
   }
  },
  {
   "cell_type": "code",
   "execution_count": 226,
   "outputs": [
    {
     "name": "stdout",
     "output_type": "stream",
     "text": [
      "Москва Тверь Вологда Уфа Казань Севастополь\n"
     ]
    }
   ],
   "source": [
    "# Подвиг 12. Вводятся названия городов в одну строку через пробел. На основе этой строки необходимо создать список lst и добавить его в конец следующего списка:\n",
    "#\n",
    "# cities = [\"Москва\", \"Тверь\", \"Вологда\"]\n",
    "#\n",
    "# Вывести результат на экран командой:\n",
    "#\n",
    "# print(*lst)\n",
    "#\n",
    "# Sample Input:\n",
    "#\n",
    "# Уфа Казань Севастополь\n",
    "# Sample Output:\n",
    "#\n",
    "# Москва Тверь Вологда Уфа Казань Севастополь\n",
    "\n",
    "x = list(input().split())\n",
    "cities = [\"Москва\", \"Тверь\", \"Вологда\"]\n",
    "Lst = cities+x\n",
    "print(*Lst) # * убирает []"
   ],
   "metadata": {
    "collapsed": false,
    "pycharm": {
     "name": "#%%\n"
    }
   }
  },
  {
   "cell_type": "code",
   "execution_count": 1,
   "outputs": [
    {
     "name": "stdout",
     "output_type": "stream",
     "text": [
      "Уфа Казань Севастополь Москва Тверь Вологда\n"
     ]
    }
   ],
   "source": [
    "# Подвиг 13. Вводятся названия городов в одну строку через пробел. На основе этой строки необходимо создать список lst и добавить его в начало другого списка:\n",
    "#\n",
    "# cities = [\"Москва\", \"Тверь\", \"Вологда\"]\n",
    "#\n",
    "# Вывести результат на экран командой:\n",
    "#\n",
    "# print(*lst)\n",
    "#\n",
    "# Sample Input:\n",
    "#\n",
    "# Уфа Казань Севастополь\n",
    "# Sample Output:\n",
    "#\n",
    "# Уфа Казань Севастополь Москва Тверь Вологда\n",
    "\n",
    "x = list(input().split())\n",
    "cities = [\"Москва\", \"Тверь\", \"Вологда\"]\n",
    "Lst = x+cities\n",
    "print(*Lst) # * убирает []"
   ],
   "metadata": {
    "collapsed": false,
    "pycharm": {
     "name": "#%%\n"
    }
   }
  },
  {
   "cell_type": "code",
   "execution_count": 2,
   "outputs": [
    {
     "data": {
      "text/plain": "True"
     },
     "execution_count": 2,
     "metadata": {},
     "output_type": "execute_result"
    }
   ],
   "source": [
    "[1, 10, 2] > [1, 5, 20]"
   ],
   "metadata": {
    "collapsed": false,
    "pycharm": {
     "name": "#%%\n"
    }
   }
  },
  {
   "cell_type": "code",
   "execution_count": 3,
   "outputs": [
    {
     "name": "stdout",
     "output_type": "stream",
     "text": [
      "[1205, 1101, 1434]\n"
     ]
    }
   ],
   "source": [
    "# Подвиг 1. Имеется список числа просмотров видео по дням:\n",
    "#\n",
    "# v = [1205, 1101, 1434, 1320, 923, 874]\n",
    "#\n",
    "# Необходимо выбрать из него первые три значения (используя срезы) и вывести результат на экран.\n",
    "#\n",
    "# Sample Input:\n",
    "#\n",
    "#\n",
    "# Sample Output:\n",
    "#\n",
    "# [1205, 1101, 1434]\n",
    "\n",
    "v = [1205, 1101, 1434, 1320, 923, 874]\n",
    "print( v[:3])"
   ],
   "metadata": {
    "collapsed": false,
    "pycharm": {
     "name": "#%%\n"
    }
   }
  },
  {
   "cell_type": "code",
   "execution_count": 10,
   "outputs": [
    {
     "name": "stdout",
     "output_type": "stream",
     "text": [
      "[1434, 1320, 923, 874]\n"
     ]
    }
   ],
   "source": [
    "# Подвиг 2. Имеется список числа просмотров видео по дням:\n",
    "#\n",
    "# v = [1205, 1101, 1434, 1320, 923, 874]\n",
    "#\n",
    "# Необходимо выбрать из него последние четыре значения (используя срезы) и вывести результат на экран.\n",
    "#\n",
    "# Sample Input:\n",
    "#\n",
    "#\n",
    "# Sample Output:\n",
    "#\n",
    "# [1434, 1320, 923, 874]\n",
    "\n",
    "v = [1205, 1101, 1434, 1320, 923, 874]\n",
    "\n",
    "print( v[-4:])"
   ],
   "metadata": {
    "collapsed": false,
    "pycharm": {
     "name": "#%%\n"
    }
   }
  },
  {
   "cell_type": "code",
   "execution_count": 12,
   "outputs": [
    {
     "name": "stdout",
     "output_type": "stream",
     "text": [
      "['Москва', 'Самара', 'Вологда', 'Уфа']\n"
     ]
    }
   ],
   "source": [
    "# Подвиг 3. Имеется список городов:\n",
    "#\n",
    "# c = [\"Москва\", \"Ульяновск\", \"Самара\", \"Тверь\", \"Вологда\", \"Омск\", \"Уфа\"]\n",
    "#\n",
    "# Необходимо с помощью срезов выбрать из него города через один (начиная с первого) и результат вывести на экран.\n",
    "#\n",
    "# Sample Input:\n",
    "#\n",
    "# Sample Output:\n",
    "#\n",
    "# ['Москва', 'Самара', 'Вологда', 'Уфа']\n",
    "\n",
    "c = [\"Москва\", \"Ульяновск\", \"Самара\", \"Тверь\", \"Вологда\", \"Омск\", \"Уфа\"]\n",
    "print( c[::2])"
   ],
   "metadata": {
    "collapsed": false,
    "pycharm": {
     "name": "#%%\n"
    }
   }
  },
  {
   "cell_type": "code",
   "execution_count": 13,
   "outputs": [
    {
     "name": "stdout",
     "output_type": "stream",
     "text": [
      "['Ульяновск', 'Тверь', 'Омск']\n"
     ]
    }
   ],
   "source": [
    "# Подвиг 4. Имеется список городов:\n",
    "#\n",
    "# c = [\"Москва\", \"Ульяновск\", \"Самара\", \"Тверь\", \"Вологда\", \"Омск\", \"Уфа\"]\n",
    "#\n",
    "# Необходимо с помощью срезов выбрать из него города через один (начиная со второго) и результат вывести на экран.\n",
    "#\n",
    "# Sample Input:\n",
    "#\n",
    "#\n",
    "# Sample Output:\n",
    "#\n",
    "# ['Ульяновск', 'Тверь', 'Омск']\n",
    "\n",
    "c = [\"Москва\", \"Ульяновск\", \"Самара\", \"Тверь\", \"Вологда\", \"Омск\", \"Уфа\"]\n",
    "print( c[1::2])"
   ],
   "metadata": {
    "collapsed": false,
    "pycharm": {
     "name": "#%%\n"
    }
   }
  },
  {
   "cell_type": "code",
   "execution_count": 17,
   "outputs": [
    {
     "name": "stdout",
     "output_type": "stream",
     "text": [
      "[3, 2, 2, 5, 5]\n"
     ]
    }
   ],
   "source": [
    "# Подвиг 5. Имеется список с оценками студента:\n",
    "#\n",
    "# m = [2, 3, 5, 5, 2, 2, 3, 3, 4, 5, 4, 4]\n",
    "#\n",
    "# Необходимо с помощью срезов выбрать элементы с 3-го по 7-й (включительно) и вывести их на экран в обратном порядке.\n",
    "#\n",
    "# Sample Input:\n",
    "#\n",
    "# Sample Output:\n",
    "#\n",
    "# [3, 2, 2, 5, 5]\n",
    "\n",
    "m = [2, 3, 5, 5, 2, 2, 3, 3, 4, 5, 4, 4]\n",
    "print( m[6:1:-1])"
   ],
   "metadata": {
    "collapsed": false,
    "pycharm": {
     "name": "#%%\n"
    }
   }
  },
  {
   "cell_type": "code",
   "execution_count": 1,
   "outputs": [
    {
     "name": "stdout",
     "output_type": "stream",
     "text": [
      "[4, 5, 3, 2, 5, 3]\n"
     ]
    }
   ],
   "source": [
    "# Подвиг 6. Имеется список с оценками студента:\n",
    "#\n",
    "# m = [2, 3, 5, 5, 2, 2, 3, 3, 4, 5, 4, 4]\n",
    "#\n",
    "# Необходимо с помощью срезов выбрать элементы через один, начиная с последнего, и вывести результат на экран.\n",
    "#\n",
    "# Sample Input:\n",
    "#\n",
    "#\n",
    "# Sample Output:\n",
    "#\n",
    "# [4, 5, 3, 2, 5, 3]\n",
    "\n",
    "m = [2, 3, 5, 5, 2, 2, 3, 3, 4, 5, 4, 4]\n",
    "print( m[::-2])"
   ],
   "metadata": {
    "collapsed": false,
    "pycharm": {
     "name": "#%%\n"
    }
   }
  },
  {
   "cell_type": "code",
   "execution_count": 1,
   "outputs": [
    {
     "data": {
      "text/plain": "[3, 6, 9, 11]"
     },
     "execution_count": 1,
     "metadata": {},
     "output_type": "execute_result"
    }
   ],
   "source": [
    "m = [3, 6, 9]\n",
    "s = m + [11]\n",
    "s"
   ],
   "metadata": {
    "collapsed": false,
    "pycharm": {
     "name": "#%%\n"
    }
   }
  },
  {
   "cell_type": "code",
   "execution_count": 13,
   "outputs": [
    {
     "data": {
      "text/plain": "[3, 6, 9, 11]"
     },
     "execution_count": 13,
     "metadata": {},
     "output_type": "execute_result"
    }
   ],
   "source": [
    "m = [3, 6, 9]\n",
    "m.append(11)\n",
    "m"
   ],
   "metadata": {
    "collapsed": false,
    "pycharm": {
     "name": "#%%\n"
    }
   }
  },
  {
   "cell_type": "code",
   "execution_count": 16,
   "outputs": [
    {
     "data": {
      "text/plain": "[11, 3, 3, 2, 1, 1, 1]"
     },
     "execution_count": 16,
     "metadata": {},
     "output_type": "execute_result"
    }
   ],
   "source": [
    "a= [1, 2, 3, 11, 1, 3, 1]\n",
    "\n",
    "a.sort(reverse=True)\n",
    "a"
   ],
   "metadata": {
    "collapsed": false,
    "pycharm": {
     "name": "#%%\n"
    }
   }
  },
  {
   "cell_type": "code",
   "execution_count": 27,
   "outputs": [
    {
     "name": "stdout",
     "output_type": "stream",
     "text": [
      "8 12 2 -10 6 True\n"
     ]
    }
   ],
   "source": [
    "# Подвиг 2. Вводится строка из целых чисел через пробел. Если первое число не равно последнему, то нужно добавить значение True, а иначе - значение False. Результирующий список lst вывести на экран командой:\n",
    "#\n",
    "# print(*lst)\n",
    "#\n",
    "# Реализовать задачу без использования условных операторов.\n",
    "#\n",
    "# Sample Input:\n",
    "#\n",
    "# 8 12 2 -10 6\n",
    "# Sample Output:\n",
    "#\n",
    "# 8 12 2 -10 6 True\n",
    "\n",
    "Lst = list(input().split())\n",
    "\n",
    "Lst.append(Lst[0] != Lst[-1])\n",
    "print(*Lst) # * убирает []"
   ],
   "metadata": {
    "collapsed": false,
    "pycharm": {
     "name": "#%%\n"
    }
   }
  },
  {
   "cell_type": "code",
   "execution_count": 28,
   "outputs": [
    {
     "name": "stdout",
     "output_type": "stream",
     "text": [
      "Москва Ульяновск Казань Ярославль\n"
     ]
    }
   ],
   "source": [
    "# Подвиг 3. Имеется список городов:\n",
    "#\n",
    "# cities = [\"Москва\", \"Казань\", \"Ярославль\"]\n",
    "#\n",
    "# Необходимо вставить во вторую позицию этого списка строку \"Ульяновск\" и вывести список командой:\n",
    "#\n",
    "# print(*cities)\n",
    "#\n",
    "# Sample Input:\n",
    "#\n",
    "# Sample Output:\n",
    "#\n",
    "# Москва Ульяновск Казань Ярославль\n",
    "\n",
    "cities = [\"Москва\", \"Казань\", \"Ярославль\"]\n",
    "cities.insert(1, \"Ульяновск\")\n",
    "print(*cities)"
   ],
   "metadata": {
    "collapsed": false,
    "pycharm": {
     "name": "#%%\n"
    }
   }
  },
  {
   "cell_type": "code",
   "execution_count": 72,
   "outputs": [
    {
     "name": "stdout",
     "output_type": "stream",
     "text": [
      "8(912)1234567\n"
     ]
    }
   ],
   "source": [
    "# Подвиг 4. Вводится строка с номером телефона в формате:\n",
    "#\n",
    "# +7(xxx)xxx-xx-xx\n",
    "#\n",
    "# Необходимо преобразовать ее в список lst (посимвольно, то есть, элементами списка будут являться отдельные символы строки). Затем, удалить первый '+', число 7 заменить на 8 и убрать дефисы. Отобразить полученный список на экране командой:\n",
    "#\n",
    "# print(\"\".join(lst))\n",
    "#\n",
    "# Sample Input:\n",
    "#\n",
    "# +7(912)123-45-67\n",
    "# Sample Output:\n",
    "#\n",
    "# 8(912)1234567\n",
    "\n",
    "x = str(input())\n",
    "Lst = list(x)\n",
    "Lst.pop(0)\n",
    "Lst.pop(0)\n",
    "Lst.insert(0, '8')\n",
    "Lst.remove('-')\n",
    "Lst.remove('-')\n",
    "print(\"\".join(Lst))"
   ],
   "metadata": {
    "collapsed": false,
    "pycharm": {
     "name": "#%%\n"
    }
   }
  },
  {
   "cell_type": "code",
   "execution_count": 73,
   "outputs": [
    {
     "name": "stdout",
     "output_type": "stream",
     "text": [
      "8(912)1234567\n"
     ]
    }
   ],
   "source": [
    "print(input().replace('+7', '8').replace('-', ''))"
   ],
   "metadata": {
    "collapsed": false,
    "pycharm": {
     "name": "#%%\n"
    }
   }
  },
  {
   "cell_type": "code",
   "execution_count": 88,
   "outputs": [
    {
     "name": "stdout",
     "output_type": "stream",
     "text": [
      "Балакирев С.М.\n"
     ]
    }
   ],
   "source": [
    "# Подвиг 5. В одну строчку через пробел вводятся: имя, отчество и фамилия. Необходимо представить эти данные в виде новой строки в формате: Фамилия И.О. (Например, Сергей Михайлович Балакирев -> Балакирев С.М.).\n",
    "#\n",
    "# Sample Input:\n",
    "#\n",
    "# Сергей Михайлович Балакирев\n",
    "# Sample Output:\n",
    "#\n",
    "# Балакирев С.М.\n",
    "x,y,z = input().split()\n",
    "print(z,x[0]+\".\"+y[0]+\".\")"
   ],
   "metadata": {
    "collapsed": false,
    "pycharm": {
     "name": "#%%\n"
    }
   }
  },
  {
   "cell_type": "code",
   "execution_count": 89,
   "outputs": [
    {
     "name": "stdout",
     "output_type": "stream",
     "text": [
      "Балакирев С.М.\n"
     ]
    }
   ],
   "source": [
    "name = input().split()\n",
    "print(f\"{name[-1]} {name[0][0]}.{name[1][0]}.\")"
   ],
   "metadata": {
    "collapsed": false,
    "pycharm": {
     "name": "#%%\n"
    }
   }
  },
  {
   "cell_type": "code",
   "execution_count": 94,
   "outputs": [
    {
     "name": "stdout",
     "output_type": "stream",
     "text": [
      "Михаил Сергеевич Н\n"
     ]
    }
   ],
   "source": [
    "name = [\"Нововселов\",\"Михаил\",\"Сергеевич\"]\n",
    "print(name[1],name[2],name[0][0])"
   ],
   "metadata": {
    "collapsed": false,
    "pycharm": {
     "name": "#%%\n"
    }
   }
  },
  {
   "cell_type": "code",
   "execution_count": 130,
   "outputs": [
    {
     "name": "stdout",
     "output_type": "stream",
     "text": [
      "-5 -1 0\n"
     ]
    }
   ],
   "source": [
    "# Подвиг 7. Вводятся целые числа в одну строчку через пробел (не менее четырех). Необходимо найти три наименьших числа в этой последовательности чисел и вывести их на экран в порядке возрастания. Реализовать программу без использования условного оператора.\n",
    "#\n",
    "# Sample Input:\n",
    "#\n",
    "# 8 11 -5 10 -1 0 7\n",
    "# Sample Output:\n",
    "#\n",
    "# -5 -1 0\n",
    "x = list(map(int, input().split()))\n",
    "x.sort()\n",
    "print(*x[0:3])"
   ],
   "metadata": {
    "collapsed": false,
    "pycharm": {
     "name": "#%%\n"
    }
   }
  },
  {
   "cell_type": "code",
   "execution_count": 131,
   "outputs": [
    {
     "name": "stdout",
     "output_type": "stream",
     "text": [
      "-5 -1 0\n"
     ]
    }
   ],
   "source": [
    "lst = list(map(int, input().split()))\n",
    "print(*sorted(lst)[:3])"
   ],
   "metadata": {
    "collapsed": false,
    "pycharm": {
     "name": "#%%\n"
    }
   }
  },
  {
   "cell_type": "code",
   "execution_count": 142,
   "outputs": [
    {
     "name": "stdout",
     "output_type": "stream",
     "text": [
      "8 11 0 3 5 True\n"
     ]
    }
   ],
   "source": [
    "# Подвиг 8. Вводятся целые числа в одну строчку через пробел. Необходимо преобразовать их в список lst , затем, удалить последнее значение и если оно нечетное, то в список (в конец) добавить True, иначе - False. Отобразить полученный список на экране командой:\n",
    "#\n",
    "# print(*lst)\n",
    "#\n",
    "# Реализовать программу без использования условного оператора.\n",
    "#\n",
    "# Sample Input:\n",
    "#\n",
    "# 8 11 0 3 5 6\n",
    "# Sample Output:\n",
    "#\n",
    "# 8 11 0 3 5 False\n",
    "\n",
    "lst = list(map(int, input().split()))\n",
    "z = (lst[-1]%2 != 0)\n",
    "lst.pop()\n",
    "lst.append(z)\n",
    "print(*lst)"
   ],
   "metadata": {
    "collapsed": false,
    "pycharm": {
     "name": "#%%\n"
    }
   }
  },
  {
   "cell_type": "code",
   "execution_count": 146,
   "outputs": [
    {
     "name": "stdout",
     "output_type": "stream",
     "text": [
      "4\n"
     ]
    }
   ],
   "source": [
    "# Подвиг 9. Вводятся оценки студента (числа от 2 до 5) в одну строку через пробел. Необходимо определить количество двоек и вывести это значение на экран.\n",
    "#\n",
    "# Sample Input:\n",
    "#\n",
    "# 2 3 5 2 4 2 2 5\n",
    "# Sample Output:\n",
    "#\n",
    "# 4\n",
    "grade = list(map(int, input().split()))\n",
    "print(grade.count(2))"
   ],
   "metadata": {
    "collapsed": false,
    "pycharm": {
     "name": "#%%\n"
    }
   }
  },
  {
   "cell_type": "code",
   "execution_count": 147,
   "outputs": [],
   "source": [
    "# Подвиг 10. Вводятся названия рек в одну строчку через пробел. Необходимо все их отсортировать по именам (по возрастанию) и в отсортированном списке удалить первый элемент. Результат отобразить на экране в одну строчку через пробел.\n",
    "#\n",
    "# Sample Input:\n",
    "#\n",
    "# Лена Обь Волга Дон Енисей\n",
    "# Sample Output:\n",
    "#\n",
    "# Дон Енисей Лена Обь\n",
    "\n",
    "x = list(input().split())\n",
    "x.sort()\n",
    "x.pop(0)\n",
    "print(*x)"
   ],
   "metadata": {
    "collapsed": false,
    "pycharm": {
     "name": "#%%\n"
    }
   }
  },
  {
   "cell_type": "code",
   "execution_count": 2,
   "outputs": [
    {
     "name": "stdout",
     "output_type": "stream",
     "text": [
      "[5.4, 6.7, 10.4, [8, 11]]\n"
     ]
    }
   ],
   "source": [
    "# Подвиг 1. В список:\n",
    "#\n",
    "# a = [5.4, 6.7, 10.4]\n",
    "#\n",
    "# добавить в конец вложенный список со значениями, вводимыми в программу (целые числа вводятся в строчку через пробел). Результирующий список lst вывести на экран командой:\n",
    "#\n",
    "# print(lst)\n",
    "#\n",
    "# Sample Input:\n",
    "#\n",
    "# 8 11\n",
    "# Sample Output:\n",
    "#\n",
    "# [5.4, 6.7, 10.4, [8, 11]]\n",
    "a = [5.4, 6.7, 10.4]\n",
    "x = list(map(int, input().split()))\n",
    "a.append(x)\n",
    "print(a)"
   ],
   "metadata": {
    "collapsed": false,
    "pycharm": {
     "name": "#%%\n"
    }
   }
  },
  {
   "cell_type": "code",
   "execution_count": 3,
   "outputs": [
    {
     "name": "stdout",
     "output_type": "stream",
     "text": [
      "[['Мороз', 'и', 'солнце', 'день', 'чудесный'], ['Еще', 'ты', 'дремлешь', 'друг', 'прелестный'], ['Пора', 'красавица', 'проснись']]\n"
     ]
    }
   ],
   "source": [
    "# Подвиг 2. Вводятся три строчки стихотворения (каждая с новой строки). Сохранить его в виде вложенного списка с разбивкой по строкам и словам (слова разделяются пробелом). Результирующий список lst вывести на экран командой:\n",
    "#\n",
    "# print(lst)\n",
    "#\n",
    "# Sample Input:\n",
    "#\n",
    "# Мороз и солнце день чудесный\n",
    "# Еще ты дремлешь друг прелестный\n",
    "# Пора красавица проснись\n",
    "# Sample Output:\n",
    "#\n",
    "# [['Мороз', 'и', 'солнце', 'день', 'чудесный'], ['Еще', 'ты', 'дремлешь', 'друг', 'прелестный'], ['Пора', 'красавица', 'проснись']]\n",
    "\n",
    "x = list(input().split())\n",
    "y = list(input().split())\n",
    "z = list(input().split())\n",
    "lst = [x,y,z]\n",
    "print(lst)\n"
   ],
   "metadata": {
    "collapsed": false,
    "pycharm": {
     "name": "#%%\n"
    }
   }
  },
  {
   "cell_type": "code",
   "execution_count": 8,
   "outputs": [
    {
     "name": "stdout",
     "output_type": "stream",
     "text": [
      "1 -4 5\n"
     ]
    }
   ],
   "source": [
    "# Подвиг 3. Вводится  матрица чисел из трех строк. В каждой строке числа разделяются пробелом. Необходимо вывести на экран последний столбец этой матрицы в виде строки из трех чисел через пробел.\n",
    "#\n",
    "# Sample Input:\n",
    "#\n",
    "# 8 11 12 1\n",
    "# 9 4 36 -4\n",
    "# 1 12 49 5\n",
    "# Sample Output:\n",
    "#\n",
    "# 1 -4 5\n",
    "\n",
    "x = list(map(int, input().split()))\n",
    "y = list(map(int, input().split()))\n",
    "z = list(map(int, input().split()))\n",
    "lst = [x[3], y[3], z[3]]\n",
    "print(*lst)"
   ],
   "metadata": {
    "collapsed": false,
    "pycharm": {
     "name": "#%%\n"
    }
   }
  },
  {
   "cell_type": "code",
   "execution_count": 3,
   "outputs": [],
   "source": [
    "a = [True, [1, 0, [\"True\", [\"Истина\", \"Ложь\"], \"False\"]], False]"
   ],
   "metadata": {
    "collapsed": false,
    "pycharm": {
     "name": "#%%\n"
    }
   }
  },
  {
   "cell_type": "code",
   "execution_count": 9,
   "outputs": [
    {
     "data": {
      "text/plain": "'Истина'"
     },
     "execution_count": 9,
     "metadata": {},
     "output_type": "execute_result"
    }
   ],
   "source": [
    "a[1][2][1][0]"
   ],
   "metadata": {
    "collapsed": false,
    "pycharm": {
     "name": "#%%\n"
    }
   }
  },
  {
   "cell_type": "code",
   "execution_count": 10,
   "outputs": [],
   "source": [
    "a = [True, [1, 0, [\"True\", [\"Истина\", \"Ложь\"], \"F\"]], False]"
   ],
   "metadata": {
    "collapsed": false,
    "pycharm": {
     "name": "#%%\n"
    }
   }
  },
  {
   "cell_type": "code",
   "execution_count": 12,
   "outputs": [
    {
     "data": {
      "text/plain": "'F'"
     },
     "execution_count": 12,
     "metadata": {},
     "output_type": "execute_result"
    }
   ],
   "source": [
    "a[1][2][2]"
   ],
   "metadata": {
    "collapsed": false,
    "pycharm": {
     "name": "#%%\n"
    }
   }
  },
  {
   "cell_type": "code",
   "execution_count": 39,
   "outputs": [
    {
     "name": "stdout",
     "output_type": "stream",
     "text": [
      "True\n"
     ]
    }
   ],
   "source": [
    "# Подвиг 6. Имеется вложенный список из трех строк:\n",
    "#\n",
    "# t = [[\"Скажи-ка\", \"дядя\", \"ведь\", \"не\", \"даром\"],\n",
    "#     [\"Я\", \"Python\", \"выучил\", \"с\", \"каналом\"],\n",
    "#     [\"Балакирев\", \"что\", \"раздавал?\"]]\n",
    "# Необходимо реализовать проверку на наличие в этом списке введенного слова. Результат (True или False) вывести на экран. Решить задачу необходимо без применения условного оператора.\n",
    "#\n",
    "# Sample Input:\n",
    "#\n",
    "# дядя\n",
    "# Sample Output:\n",
    "#\n",
    "# True\n",
    "\n",
    "t = [[\"Скажи-ка\", \"дядя\", \"ведь\", \"не\", \"даром\"],\n",
    "     [\"Я\", \"Python\", \"выучил\", \"с\", \"каналом\"],\n",
    "     [\"Балакирев\", \"что\", \"раздавал?\"]]\n",
    "x = input()\n",
    "z = sum(t, [])\n",
    "y = x in z\n",
    "print(y)\n",
    "# здесь продолжайте программу"
   ],
   "metadata": {
    "collapsed": false,
    "pycharm": {
     "name": "#%%\n"
    }
   }
  },
  {
   "cell_type": "code",
   "execution_count": 51,
   "outputs": [
    {
     "name": "stdout",
     "output_type": "stream",
     "text": [
      "True\n"
     ]
    }
   ],
   "source": [
    "t = [[\"Скажи-ка\", \"дядя\", \"ведь\", \"не\", \"даром\"],\n",
    "     [\"Я\", \"Python\", \"выучил\", \"с\", \"каналом\"],\n",
    "     [\"Балакирев\", \"что\", \"раздавал?\"]]\n",
    "a = input()\n",
    "print(a in str(t))"
   ],
   "metadata": {
    "collapsed": false,
    "pycharm": {
     "name": "#%%\n"
    }
   }
  },
  {
   "cell_type": "code",
   "execution_count": null,
   "outputs": [],
   "source": [],
   "metadata": {
    "collapsed": false,
    "pycharm": {
     "name": "#%%\n"
    }
   }
  }
 ],
 "metadata": {
  "kernelspec": {
   "display_name": "Python 3",
   "language": "python",
   "name": "python3"
  },
  "language_info": {
   "codemirror_mode": {
    "name": "ipython",
    "version": 2
   },
   "file_extension": ".py",
   "mimetype": "text/x-python",
   "name": "python",
   "nbconvert_exporter": "python",
   "pygments_lexer": "ipython2",
   "version": "2.7.6"
  }
 },
 "nbformat": 4,
 "nbformat_minor": 0
}