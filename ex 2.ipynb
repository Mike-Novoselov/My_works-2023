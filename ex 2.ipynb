{
 "cells": [
  {
   "cell_type": "code",
   "execution_count": 1,
   "outputs": [],
   "source": [
    "a=1"
   ],
   "metadata": {
    "collapsed": false,
    "pycharm": {
     "name": "#%%\n"
    }
   }
  },
  {
   "cell_type": "code",
   "execution_count": 6,
   "outputs": [
    {
     "name": "stdout",
     "output_type": "stream",
     "text": [
      "х не четное\n"
     ]
    }
   ],
   "source": [
    "x = int(input())\n",
    "\n",
    "if x % 2 == 0:\n",
    "    print('х четное')\n",
    "else:\n",
    "    print('х не четное')"
   ],
   "metadata": {
    "collapsed": false,
    "pycharm": {
     "name": "#%%\n"
    }
   }
  },
  {
   "cell_type": "code",
   "execution_count": 34,
   "outputs": [
    {
     "name": "stdout",
     "output_type": "stream",
     "text": [
      "11.0\n"
     ]
    }
   ],
   "source": [
    "# Подвиг 1. Вводятся два вещественных числа в одну строку через пробел. Вывести на экран наибольшее из чисел. Задачу решить с помощью условного оператора.\n",
    "#\n",
    "# Sample Input:\n",
    "#\n",
    "# 8.7 11.0\n",
    "# Sample Output:\n",
    "#\n",
    "# 11.0\n",
    "\n",
    "a, b= map(float, input(). split())\n",
    "\n",
    "if a > b:\n",
    "    print(a)\n",
    "else:\n",
    "    print(b)"
   ],
   "metadata": {
    "collapsed": false,
    "pycharm": {
     "name": "#%%\n"
    }
   }
  },
  {
   "cell_type": "code",
   "execution_count": 53,
   "outputs": [
    {
     "name": "stdout",
     "output_type": "stream",
     "text": [
      "ДА\n"
     ]
    }
   ],
   "source": [
    "# Подвиг 2. Вводится слово. Необходимо определить, является ли это слово палиндромом (одинаково читается вперед и назад, например, АННА). Регистр букв не учитывать. Если введенное слово палиндром, на экран вывести ДА, иначе - НЕТ.\n",
    "#\n",
    "# Sample Input:\n",
    "#\n",
    "# Шалаш\n",
    "# Sample Output:\n",
    "#\n",
    "# ДА\n",
    "a = input()\n",
    "b = a.lower()\n",
    "if b[::]==b[::-1]:\n",
    "    print(\"ДА\")"
   ],
   "metadata": {
    "collapsed": false,
    "pycharm": {
     "name": "#%%\n"
    }
   }
  },
  {
   "cell_type": "code",
   "execution_count": 54,
   "outputs": [
    {
     "name": "stdout",
     "output_type": "stream",
     "text": [
      "ДА\n"
     ]
    }
   ],
   "source": [
    "a = input().lower()\n",
    "b = a[::-1]\n",
    "if a == b:\n",
    "    print(\"ДА\")\n",
    "else:\n",
    "    print(\"НЕТ\")"
   ],
   "metadata": {
    "collapsed": false,
    "pycharm": {
     "name": "#%%\n"
    }
   }
  },
  {
   "cell_type": "code",
   "execution_count": 2,
   "outputs": [
    {
     "name": "stdout",
     "output_type": "stream",
     "text": [
      "11 на 2 нацело не делится\n"
     ]
    }
   ],
   "source": [
    "# Подвиг 3. Вводятся два целых положительных числа m и n в одну строку через пробел. Если число m делится нацело на число n, то вывести на экран частное от деления (результат деления) в виде целого числа. В противном случае вывести сообщение «m на n нацело не делится» (без кавычек) и вместо m и n подставить соответствующие числа, например: «13 на 2 нацело не делится».\n",
    "#\n",
    "# Sample Input 1:\n",
    "#\n",
    "# 8 4\n",
    "# Sample Output 1:\n",
    "#\n",
    "# 2\n",
    "# Sample Input 2:\n",
    "#\n",
    "# 11 2\n",
    "# Sample Output 2:\n",
    "#\n",
    "# 11 на 2 нацело не делится\n",
    "\n",
    "m, n = map(int, input(). split())\n",
    "if m % n == 0:\n",
    "    print(f'{int(m/n)}')\n",
    "else:\n",
    "    print(f'{m} на {n} нацело не делится')"
   ],
   "metadata": {
    "collapsed": false,
    "pycharm": {
     "name": "#%%\n"
    }
   }
  },
  {
   "cell_type": "code",
   "execution_count": 6,
   "outputs": [
    {
     "name": "stdout",
     "output_type": "stream",
     "text": [
      "НЕТ\n"
     ]
    }
   ],
   "source": [
    "# Подвиг 4. Вводятся три целых положительных числа в одну строку через пробел. Убедиться, что первые два числа - это катеты прямоугольного треугольника, а третье - его гипотенуза. (Подсказка: проверка делается по теореме Пифагора ). Если проверка проходит (истинна), то вывести на экран ДА, иначе - НЕТ.\n",
    "#\n",
    "# Sample Input:\n",
    "#\n",
    "# 3 4 5\n",
    "# Sample Output:\n",
    "#\n",
    "# ДА\n",
    "\n",
    "a, b, c = map(int, input(). split())\n",
    "if (c**2)==(a**2)+(b**2):\n",
    "    print(\"ДА\")\n",
    "else:\n",
    "    print(\"НЕТ\")"
   ],
   "metadata": {
    "collapsed": false,
    "pycharm": {
     "name": "#%%\n"
    }
   }
  },
  {
   "cell_type": "code",
   "execution_count": 74,
   "outputs": [
    {
     "name": "stdout",
     "output_type": "stream",
     "text": [
      "ДА\n"
     ]
    }
   ],
   "source": [
    "# Подвиг 5. Вводится четырехзначное число. Проверить, что оно оканчивается на цифру 7. Вывести на экран ДА, если это так и НЕТ - в противном случае.\n",
    "#\n",
    "# Sample Input:\n",
    "#\n",
    "# 8117\n",
    "# Sample Output:\n",
    "#\n",
    "# ДА\n",
    "\n",
    "a = list(input())\n",
    "if a[-1:] == ['7']:\n",
    "    print(\"ДА\")\n",
    "else:\n",
    "    print(\"НЕТ\")"
   ],
   "metadata": {
    "collapsed": false,
    "pycharm": {
     "name": "#%%\n"
    }
   }
  },
  {
   "cell_type": "code",
   "execution_count": 91,
   "outputs": [
    {
     "name": "stdout",
     "output_type": "stream",
     "text": [
      "ДА\n"
     ]
    }
   ],
   "source": [
    "# Подвиг 6. Вводится слово. Проверить, что в этом слове присутствуют все три буквы: t, h и o (в произвольном порядке). Реализовать программу с помощью одного условного оператора. Если проверка проходит, вывести ДА, иначе - НЕТ.\n",
    "#\n",
    "# Sample Input:\n",
    "#\n",
    "# Python\n",
    "# Sample Output:\n",
    "#\n",
    "# ДА\n",
    "a = input()\n",
    "if \"t\" in a and \"h\" in a and \"o\" in a:\n",
    "    print(\"ДА\")\n",
    "else:\n",
    "    print(\"НЕТ\")"
   ],
   "metadata": {
    "collapsed": false,
    "pycharm": {
     "name": "#%%\n"
    }
   }
  },
  {
   "cell_type": "code",
   "execution_count": 94,
   "outputs": [
    {
     "data": {
      "text/plain": "0"
     },
     "execution_count": 94,
     "metadata": {},
     "output_type": "execute_result"
    }
   ],
   "source": [
    "a.count(\"z\")"
   ],
   "metadata": {
    "collapsed": false,
    "pycharm": {
     "name": "#%%\n"
    }
   }
  },
  {
   "cell_type": "code",
   "execution_count": 104,
   "outputs": [
    {
     "name": "stdout",
     "output_type": "stream",
     "text": [
      "Уфа Астрахань Самара Казань\n"
     ]
    }
   ],
   "source": [
    "# Подвиг 7. Вводится список городов в одну строку через пробел. Если в этом списке присутствует город Москва, то удалить его. Вывести на экран результирующий список в виде строки с городами через пробел.\n",
    "#\n",
    "# Sample Input:\n",
    "#\n",
    "# Уфа Астрахань Москва Самара Казань\n",
    "# Sample Output:\n",
    "#\n",
    "# Уфа Астрахань Самара Казань\n",
    "a = list(input(). split())\n",
    "if 'Москва' in a:\n",
    "    a.remove('Москва')\n",
    "    print(*a)"
   ],
   "metadata": {
    "collapsed": false,
    "pycharm": {
     "name": "#%%\n"
    }
   }
  },
  {
   "cell_type": "code",
   "execution_count": 3,
   "outputs": [
    {
     "name": "stdout",
     "output_type": "stream",
     "text": [
      "\n"
     ]
    }
   ],
   "source": [
    "a = list(input(). split())\n",
    "if 'Москва' in a:\n",
    "    a.remove('Москва')\n",
    "print(\" \".join(a))"
   ],
   "metadata": {
    "collapsed": false,
    "pycharm": {
     "name": "#%%\n"
    }
   }
  },
  {
   "cell_type": "code",
   "execution_count": 5,
   "outputs": [],
   "source": [
    "# Подвиг 8. Вводятся четыре целых числа a, b, c, d в одну строку через пробел. Определить, войдет ли в конверт с внутренними размерами a и b мм прямоугольная открытка с размерами с и d мм. Для размещения открытки в конверте необходим зазор в 1 мм с каждой стороны. Открытку можно поворачивать на 90 градусов. Вывести ДА, если входит и НЕТ - если не входит.\n",
    "#\n",
    "# Sample Input:\n",
    "#\n",
    "# 12 5 7 2\n",
    "# Sample Output:\n",
    "#\n",
    "# ДА\n",
    "\n",
    "a, b, c, d = map(int, input(). split())\n",
    "if ((c+1) * (d+1)) <= ((a*b)):\n",
    "    print(\"ДА\")\n",
    "else:\n",
    "    print(\"НЕТ\")"
   ],
   "metadata": {
    "collapsed": false,
    "pycharm": {
     "name": "#%%\n"
    }
   }
  },
  {
   "cell_type": "code",
   "execution_count": 13,
   "outputs": [
    {
     "name": "stdout",
     "output_type": "stream",
     "text": [
      "ДА\n"
     ]
    }
   ],
   "source": [
    "if (a-2>=c and b-2>=d) or a-2>=d and b-2>=c:\n",
    "    print(\"ДА\")\n",
    "else:\n",
    "    print(\"НЕТ\")"
   ],
   "metadata": {
    "collapsed": false,
    "pycharm": {
     "name": "#%%\n"
    }
   }
  },
  {
   "cell_type": "code",
   "execution_count": 38,
   "outputs": [
    {
     "name": "stdout",
     "output_type": "stream",
     "text": [
      "ДА\n"
     ]
    }
   ],
   "source": [
    "# Подвиг 9. Вводится шестизначное число. Определить, является ли оно счастливым. (Счастливым называют такое шестизначное число, в котором сумма его первых трех цифр равна сумме его последних трех цифр.). Вывести ДА, если счастливое и НЕТ - в противном случае.\n",
    "#\n",
    "# Sample Input:\n",
    "#\n",
    "# 811235\n",
    "# Sample Output:\n",
    "#\n",
    "# ДА\n",
    "\n",
    "# a = list(map(int, input().split()))\n",
    "a = list(map(int, input()))\n",
    "if sum(a[:3])==sum(a[-3:]):\n",
    "    print(\"ДА\")\n",
    "else:\n",
    "    print(\"НЕТ\")"
   ],
   "metadata": {
    "collapsed": false,
    "pycharm": {
     "name": "#%%\n"
    }
   }
  },
  {
   "cell_type": "code",
   "execution_count": 44,
   "outputs": [],
   "source": [
    "# Подвиг 10. Работа светофора для пешеходов запрограммирована следующим образом: в начале каждого часа в течение трех минут горит зеленый сигнал, затем в течение двух минут – красный, в течение трех минут – опять зеленый и т. д. Дано вещественное число t, означающее время в минутах, прошедшее с начала очередного часа. Определить, сигнал какого цвета горит для пешеходов в этот момент. На экран вывести сообщение (без кавычек) \"green\" - для зеленого и \"red\" - для красного.\n",
    "#\n",
    "# Sample Input:\n",
    "#\n",
    "# 12.5\n",
    "# Sample Output:\n",
    "#\n",
    "# green\n",
    "\n",
    "t = float(input())"
   ],
   "metadata": {
    "collapsed": false,
    "pycharm": {
     "name": "#%%\n"
    }
   }
  },
  {
   "cell_type": "code",
   "execution_count": 46,
   "outputs": [
    {
     "name": "stdout",
     "output_type": "stream",
     "text": [
      "green\n"
     ]
    }
   ],
   "source": [
    "if t % 5 <= 3:\n",
    "    print(\"green\")\n",
    "else:\n",
    "    print(\"red\")"
   ],
   "metadata": {
    "collapsed": false,
    "pycharm": {
     "name": "#%%\n"
    }
   }
  },
  {
   "cell_type": "code",
   "execution_count": 7,
   "outputs": [
    {
     "name": "stdout",
     "output_type": "stream",
     "text": [
      " 6. Выход\n"
     ]
    }
   ],
   "source": [
    "# Подвиг 1. Имеется следующее меню:\n",
    "#\n",
    "# m = '''1. Введение в Python\n",
    "# 2. Строки и списки\n",
    "# 3. Условные операторы\n",
    "# 4. Циклы\n",
    "# 5. Словари, кортежи и множества\n",
    "# 6. Выход'''\n",
    "# В программе вводится целое число от 1 до 6. Нужно вывести пункт меню, связанный с этим числом. Реализовать программу с использованием операторов if-elif\n",
    "#\n",
    "#\n",
    "# Sample Input:\n",
    "#\n",
    "# 2\n",
    "# Sample Output:\n",
    "#\n",
    "# 2. Строки и списки\n",
    "\n",
    "x = int(input(\" 1. Введение в Python\"\n",
    "              \" 2. Строки и списки\"\n",
    "              \" 3. Условные операторы\"\n",
    "              \" 4. Циклы\"\n",
    "              \" 5. Словари, кортежи и множества\"\n",
    "              \" 6. Выход\"))\n",
    "if x == 1:\n",
    "    print(\"1. Введение в Python\")\n",
    "elif x ==2:\n",
    "    print(\"2. Строки и списки\")\n",
    "elif x ==3:\n",
    "    print(\"3. Условные операторы\")\n",
    "elif x ==4:\n",
    "    print(\"4. Циклы\")\n",
    "elif x ==5:\n",
    "    print(\"5. Словари, кортежи и множества\")\n",
    "elif x ==6:\n",
    "    print(\"6. Выход\")"
   ],
   "metadata": {
    "collapsed": false,
    "pycharm": {
     "name": "#%%\n"
    }
   }
  },
  {
   "cell_type": "code",
   "execution_count": 2,
   "outputs": [],
   "source": [
    "# Подвиг 2. Вводятся три целых числа в одну строку через пробел. Необходимо определить наименьшее среди них и вывести его на экран. Реализовать программу, используя условный оператор, без использования функции min.\n",
    "#\n",
    "# Sample Input:\n",
    "#\n",
    "# 8 11 -1\n",
    "# Sample Output:\n",
    "#\n",
    "# -1\n",
    "\n",
    "a, b, c = map(int, input(). split())\n",
    "if a<b:\n",
    "    if a<c:\n",
    "        print(a)\n",
    "    else:\n",
    "        print(c)\n",
    "else:\n",
    "    if b<c:\n",
    "        print(b)\n",
    "    else:\n",
    "        print(c)"
   ],
   "metadata": {
    "collapsed": false,
    "pycharm": {
     "name": "#%%\n"
    }
   }
  },
  {
   "cell_type": "code",
   "execution_count": 4,
   "outputs": [],
   "source": [
    "# Подвиг 3. Вводится вес боксера-любителя (в кг, в виде вещественного числа). Известно, что вес таков, что боксер может быть отнесен к одной из весовых категорий:\n",
    "#\n",
    "# 1) легкий вес – до 60 кг (включительно);\n",
    "# 2) первый полусредний вес – до 64 кг (включительно);\n",
    "# 3) полусредний вес – до 69 кг (включительно);\n",
    "# 4) остальные - более 69 кг.\n",
    "#\n",
    "# Вывести на экран номер категории, в которой будет выступать боксер.\n",
    "#\n",
    "# Sample Input:\n",
    "#\n",
    "# 62.4\n",
    "# Sample Output:\n",
    "#\n",
    "# 2\n",
    "\n",
    "x = float(input())\n",
    "if x<=60:\n",
    "    print(1)\n",
    "elif 60 < x <= 64:\n",
    "    print(2)\n",
    "elif 64 < x <= 69:\n",
    "    print(3)\n",
    "elif 69 < x:\n",
    "    print(4)"
   ],
   "metadata": {
    "collapsed": false,
    "pycharm": {
     "name": "#%%\n"
    }
   }
  },
  {
   "cell_type": "code",
   "execution_count": 14,
   "outputs": [
    {
     "name": "stdout",
     "output_type": "stream",
     "text": [
      "вторник\n"
     ]
    }
   ],
   "source": [
    "# Подвиг 4. Вводится порядковый номер дня недели (1, 2, ..., 7). Вывести на экран его название (понедельник, вторник, среда, четверг, пятница, суббота, воскресенье). Программу реализовать с использованием операторов if-elif.\n",
    "#\n",
    "# Sample Input:\n",
    "#\n",
    "# 2\n",
    "# Sample Output:\n",
    "#\n",
    "# вторник\n",
    "\n",
    "x = int(input())\n",
    "if x==1:\n",
    "    print(\"понедельник\")\n",
    "if x==2:\n",
    "    print(\"вторник\")\n",
    "if x==3:\n",
    "    print(\"среда\")\n",
    "if x==4:\n",
    "    print(\"четверг\")\n",
    "if x==5:\n",
    "    print(\"пятница\")\n",
    "if x==6:\n",
    "    print(\"суббота\")\n",
    "if x==7:\n",
    "    print(\"воскресенье\")"
   ],
   "metadata": {
    "collapsed": false,
    "pycharm": {
     "name": "#%%\n"
    }
   }
  },
  {
   "cell_type": "code",
   "execution_count": 19,
   "outputs": [
    {
     "name": "stdout",
     "output_type": "stream",
     "text": [
      "28\n"
     ]
    }
   ],
   "source": [
    "# Подвиг 5. Вводится порядковый номер месяца (1, 2, ..., 12). Вывести на экран количество дней в этом месяце. Принять, что год не является високосным. Реализовать через условный оператор, в котором следует использовать не более трех ветвей (блоков).\n",
    "#\n",
    "# P.S. Число дней в месяцах не високосного года, начиная с января: 31, 28, 31, 30, 31, 30, 31, 31, 30, 31, 30, 31\n",
    "#\n",
    "# Sample Input:\n",
    "#\n",
    "# 2\n",
    "# Sample Output:\n",
    "#\n",
    "# 28\n",
    "\n",
    "\n",
    "n, days = int(input()), [0, '31', '28', '31', '30', '31', '30', '31', '31', '30', '31', '30', '31']\n",
    "if 0 < n < 12:\n",
    "    print(days[n])"
   ],
   "metadata": {
    "collapsed": false,
    "pycharm": {
     "name": "#%%\n"
    }
   }
  },
  {
   "cell_type": "code",
   "execution_count": 20,
   "outputs": [
    {
     "name": "stdout",
     "output_type": "stream",
     "text": [
      "28\n"
     ]
    }
   ],
   "source": [
    "x = int(input())\n",
    "if x==1:\n",
    "    print(\"31\")\n",
    "elif x==2:\n",
    "    print(\"28\")\n",
    "elif x==3:\n",
    "    print(\"31\")\n",
    "elif x==4:\n",
    "    print(\"30\")\n",
    "elif x==5:\n",
    "    print(\"31\")\n",
    "elif x==6:\n",
    "    print(\"30\")\n",
    "elif x==7:\n",
    "    print(\"31\")\n",
    "elif x==8:\n",
    "    print(\"31\")\n",
    "elif x==9:\n",
    "    print(\"30\")\n",
    "elif x==10:\n",
    "    print(\"31\")\n",
    "elif x==11:\n",
    "    print(\"30\")\n",
    "elif x==12:\n",
    "    print(\"31\")"
   ],
   "metadata": {
    "collapsed": false,
    "pycharm": {
     "name": "#%%\n"
    }
   }
  },
  {
   "cell_type": "code",
   "execution_count": 3,
   "outputs": [
    {
     "name": "stdout",
     "output_type": "stream",
     "text": [
      "08.30 09.01\n"
     ]
    }
   ],
   "source": [
    "# Подвиг 6. Дата некоторого дня характеризуется двумя натуральными числами: m (порядковый номер месяца) и n (число). По введенным m и n (в одну строку через пробел) определить:\n",
    "#\n",
    "# а) дату предыдущего дня (принять, что m и n не характеризуют 1 января);\n",
    "# б) дату следующего дня (принять, что m и n не характеризуют 31 декабря).\n",
    "#\n",
    "# В задаче принять, что год не является високосным. Вывести предыдущую дату и следующую дату (в формате: mm.dd, где m - число месяца; d - номер дня) в одну строчку через пробел.\n",
    "#\n",
    "# P.S. Число дней в месяцах не високосного года, начиная с января: 31, 28, 31, 30, 31, 30, 31, 31, 30, 31, 30, 31\n",
    "#\n",
    "# Sample Input:\n",
    "#\n",
    "# 8 31\n",
    "# Sample Output:\n",
    "#\n",
    "# 08.30 09.01\n",
    "\n",
    "days = [31, 28, 31, 30, 31, 30, 31, 31, 30, 31, 30, 31]\n",
    "b, a = map(int, input().split())\n",
    "if a == 1:\n",
    "    pday = days[b-2]\n",
    "    pmh = b - 1\n",
    "    fday = 2\n",
    "    fmh = b\n",
    "elif a == days[b-1]:\n",
    "    pday = a-1\n",
    "    pmh = b\n",
    "    fday = 1\n",
    "    fmh = b+1\n",
    "else:\n",
    "    pday = a-1\n",
    "    pmh = b\n",
    "    fday = a+1\n",
    "    fmh = b\n",
    "print(f\"{str(pmh).rjust(2, '0')}.{str(pday).rjust(2, '0')} {str(fmh).rjust(2, '0')}.{str(fday).rjust(2, '0')}\")\n"
   ],
   "metadata": {
    "collapsed": false,
    "pycharm": {
     "name": "#%%\n"
    }
   }
  },
  {
   "cell_type": "code",
   "execution_count": 9,
   "outputs": [
    {
     "name": "stdout",
     "output_type": "stream",
     "text": [
      "08.30 09.01\n"
     ]
    }
   ],
   "source": [
    "m, n = map(int, input().split())\n",
    "lst = [31, 28, 31, 30, 31, 30, 31, 31, 30, 31, 30, 31]\n",
    "\n",
    "if n == 1:\n",
    "    print(f'{m-1:02}.{lst[m-2]} {m:02}.{n+1:02}')\n",
    "elif n == lst[m-1]:\n",
    "    print(f'{m:02}.{n-1:02} {m+1:02}.01')\n",
    "else:\n",
    "    print(f'{m:02}.{n-1:02} {m:02}.{n+1:02}')"
   ],
   "metadata": {
    "collapsed": false,
    "pycharm": {
     "name": "#%%\n"
    }
   }
  },
  {
   "cell_type": "code",
   "execution_count": 25,
   "outputs": [
    {
     "name": "stdout",
     "output_type": "stream",
     "text": [
      "[0, 1, 2, 3, 4, 5, 6, 7]\n"
     ]
    }
   ],
   "source": [
    "print([*range(8)])"
   ],
   "metadata": {
    "collapsed": false,
    "pycharm": {
     "name": "#%%\n"
    }
   }
  },
  {
   "cell_type": "code",
   "execution_count": 27,
   "outputs": [
    {
     "name": "stdout",
     "output_type": "stream",
     "text": [
      "0 1 2 3 4 5 6 7\n"
     ]
    }
   ],
   "source": [
    "print(*range(8))"
   ],
   "metadata": {
    "collapsed": false,
    "pycharm": {
     "name": "#%%\n"
    }
   }
  },
  {
   "cell_type": "code",
   "execution_count": 8,
   "outputs": [
    {
     "name": "stdout",
     "output_type": "stream",
     "text": [
      "вторник\n"
     ]
    }
   ],
   "source": [
    "# Подвиг 7. Вводится целое число k (1 <= k <= 365). Определить, каким днем недели (понедельник, вторник, среда, четверг, пятница, суббота или воскресенье) является k-й день не високосного года, в котором 1 января является понедельником.\n",
    "#\n",
    "# Sample Input:\n",
    "#\n",
    "# 121\n",
    "# Sample Output:\n",
    "#\n",
    "# вторник\n",
    "\n",
    "k = int(input())\n",
    "if k % 7 == 1:\n",
    "    print(\"понедельник\")\n",
    "elif k % 7 == 2:\n",
    "    print(\"вторник\")\n",
    "elif k % 7 == 3:\n",
    "    print(\"среда\")\n",
    "elif k % 7 == 4:\n",
    "    print(\"четверг\")\n",
    "elif k % 7 == 5:\n",
    "    print(\"пятница\")\n",
    "elif k % 7 == 6:\n",
    "    print(\"суббота\")\n",
    "elif k % 7 == 7:\n",
    "    print(\"воскресенье\")"
   ],
   "metadata": {
    "collapsed": false,
    "pycharm": {
     "name": "#%%\n"
    }
   }
  },
  {
   "cell_type": "code",
   "execution_count": 2,
   "outputs": [
    {
     "name": "stdout",
     "output_type": "stream",
     "text": [
      "5.4\n"
     ]
    }
   ],
   "source": [
    "# Подвиг 1. Вводится два вещественных числа, каждое с новой строки. Необходимо с помощью тернарного условного оператора наибольшее значение присвоить переменной d и вывести ее на экран.\n",
    "#\n",
    "# Sample Input:\n",
    "#\n",
    "# 5.4\n",
    "# -3.8\n",
    "# Sample Output:\n",
    "#\n",
    "# 5.4\n",
    "#\n",
    "# a = int(input())\n",
    "# b = int(input())\n",
    "\n",
    "\n",
    "a = 5.4\n",
    "b = -3.8\n",
    "\n",
    "d = a if a > b else b\n",
    "print(d)"
   ],
   "metadata": {
    "collapsed": false,
    "pycharm": {
     "name": "#%%\n"
    }
   }
  },
  {
   "cell_type": "code",
   "execution_count": 5,
   "outputs": [
    {
     "name": "stdout",
     "output_type": "stream",
     "text": [
      "кратно 3\n"
     ]
    }
   ],
   "source": [
    "# Подвиг 2. Вводится целое число. Необходимо переменной msg присвоить строку \"кратно 3\", если введенное число кратно 3, а иначе присвоить строку \"не кратно 3\". Реализовать программу с использованием тернарного оператора. Переменную msg отобразить на экране.\n",
    "#\n",
    "# Sample Input:\n",
    "#\n",
    "# 9\n",
    "# Sample Output:\n",
    "#\n",
    "# кратно 3\n",
    "\n",
    "a = int(input())\n",
    "msg = \"кратно 3\" if a%3==0 else \"не кратно 3\"\n",
    "print(msg)"
   ],
   "metadata": {
    "collapsed": false,
    "pycharm": {
     "name": "#%%\n"
    }
   }
  },
  {
   "cell_type": "code",
   "execution_count": 66,
   "outputs": [
    {
     "name": "stdout",
     "output_type": "stream",
     "text": [
      "палиндром\n"
     ]
    }
   ],
   "source": [
    "# Подвиг 3. Вводится слово. Переменной msg присвоить строку \"палиндром\", если введенное слово является палиндромом (одинаково читается и вперед и назад), а иначе присвоить строку \"не палиндром\". Проверку проводить без учета регистра. Программу реализовать с помощью тернарного условного оператора. Значение переменной msg отобразить на экране.\n",
    "#\n",
    "# Sample Input:\n",
    "#\n",
    "# Казак\n",
    "# Sample Output:\n",
    "#\n",
    "# палиндром\n",
    "\n",
    "# a = input()\n",
    "a = \"Казак\"\n",
    "b = a.lower()\n",
    "c= list(b)\n",
    "c.reverse()\n",
    "d=\"\".join(c)\n",
    "msg = \"палиндром\" if d == b else \"не палиндром\"\n",
    "print(msg)"
   ],
   "metadata": {
    "collapsed": false,
    "pycharm": {
     "name": "#%%\n"
    }
   }
  },
  {
   "cell_type": "code",
   "execution_count": 67,
   "outputs": [
    {
     "name": "stdout",
     "output_type": "stream",
     "text": [
      "палиндром\n"
     ]
    }
   ],
   "source": [
    "d1 = input().lower()\n",
    "\n",
    "msg = \"палиндром\" if d1 == d1[::-1] else \"не палиндром\"\n",
    "\n",
    "print(msg)"
   ],
   "metadata": {
    "collapsed": false,
    "pycharm": {
     "name": "#%%\n"
    }
   }
  },
  {
   "cell_type": "code",
   "execution_count": 74,
   "outputs": [
    {
     "name": "stdout",
     "output_type": "stream",
     "text": [
      "True\n"
     ]
    }
   ],
   "source": [
    "# Подвиг 4. Вводится целое число 0 или 1. Необходимо преобразовать их в строки: 0 - в \"False\", 1 - в \"True\". Реализовать это с помощью тернарного условного оператора. Результат отобразить на экране.\n",
    "#\n",
    "# Sample Input:\n",
    "#\n",
    "# 1\n",
    "# Sample Output:\n",
    "#\n",
    "# True\n",
    "\n",
    "a = int(input())\n",
    "msg = \"True\" if a == 1 else \"False\"\n",
    "print(msg)"
   ],
   "metadata": {
    "collapsed": false,
    "pycharm": {
     "name": "#%%\n"
    }
   }
  },
  {
   "cell_type": "code",
   "execution_count": 167,
   "outputs": [
    {
     "name": "stdout",
     "output_type": "stream",
     "text": [
      "0\n"
     ]
    }
   ],
   "source": [
    "# Подвиг 5. Вводится текущее время (секунды) в диапазоне [0; 59]. Если значение равно 59, то следующее должно быть 0. И так по кругу. Необходимо  вычислить следующее значение с проверкой граничного значения 59. Реализуйте это с помощью тернарного условного оператора. Результат отобразите на экране.\n",
    "#\n",
    "# P.S. Попробуйте также реализовать эту же задачу с использованием только арифметических операций.\n",
    "#\n",
    "# Sample Input:\n",
    "#\n",
    "# 55\n",
    "# Sample Output:\n",
    "#\n",
    "# 56\n",
    "\n",
    "# a = int(input())\n",
    "a = 59\n",
    "x = (0 if a == 59 else a + 1)\n",
    "print (x)"
   ],
   "metadata": {
    "collapsed": false,
    "pycharm": {
     "name": "#%%\n"
    }
   }
  },
  {
   "cell_type": "code",
   "execution_count": 168,
   "outputs": [],
   "source": [
    "# Подвиг 6. Имеется список базовых нот:\n",
    "#\n",
    "# m = ['до', 'ре', 'ми', 'фа', 'соль', 'ля', 'си']\n",
    "#\n",
    "# Вводятся три целых числа в диапазоне от 1 до 7 - номера нот, в одну строчку через пробел. Необходимо отобразить указанные ноты в виде строки через пробел, но перед нотами до и фа дополнительно ставить символ диеза '#'. Реализовать эту программу с использованием тернарного условного оператора (он может использоваться несколько раз).\n",
    "#\n",
    "# Sample Input:\n",
    "#\n",
    "# 1 6 7\n",
    "# Sample Output:\n",
    "#\n",
    "# #до ля си\n",
    "\n",
    "m = ['до', 'ре', 'ми', 'фа', 'соль', 'ля', 'си']\n",
    "\n",
    "a, b, c = map(int, input().split())"
   ],
   "metadata": {
    "collapsed": false,
    "pycharm": {
     "name": "#%%\n"
    }
   }
  },
  {
   "cell_type": "code",
   "execution_count": 179,
   "outputs": [],
   "source": [
    "m[0] = \"#до\""
   ],
   "metadata": {
    "collapsed": false,
    "pycharm": {
     "name": "#%%\n"
    }
   }
  },
  {
   "cell_type": "code",
   "execution_count": 182,
   "outputs": [],
   "source": [
    "m[3] = \"#фа\""
   ],
   "metadata": {
    "collapsed": false,
    "pycharm": {
     "name": "#%%\n"
    }
   }
  },
  {
   "cell_type": "code",
   "execution_count": 198,
   "outputs": [],
   "source": [
    "if a == 1:\n",
    "    a = m[0]\n",
    "if a==2:\n",
    "    a = m[1]\n",
    "if a == 3:\n",
    "    a = m[2]\n",
    "if a==4:\n",
    "    a = m[3]\n",
    "if a == 5:\n",
    "    a = m[4]\n",
    "if a==6:\n",
    "    a = m[5]\n",
    "if a==7:\n",
    "    a = m[6]"
   ],
   "metadata": {
    "collapsed": false,
    "pycharm": {
     "name": "#%%\n"
    }
   }
  },
  {
   "cell_type": "code",
   "execution_count": 199,
   "outputs": [],
   "source": [
    "if b == 1:\n",
    "    b = m[0]\n",
    "if b==2:\n",
    "    b = m[1]\n",
    "if b == 3:\n",
    "    b = m[2]\n",
    "if b==4:\n",
    "    b = m[3]\n",
    "if b == 5:\n",
    "    b = m[4]\n",
    "if b==6:\n",
    "    b = m[5]\n",
    "if b==7:\n",
    "    b = m[6]"
   ],
   "metadata": {
    "collapsed": false,
    "pycharm": {
     "name": "#%%\n"
    }
   }
  },
  {
   "cell_type": "code",
   "execution_count": 200,
   "outputs": [],
   "source": [
    "if c == 1:\n",
    "    c = m[0]\n",
    "if c==2:\n",
    "    c = m[1]\n",
    "if c == 3:\n",
    "    c = m[2]\n",
    "if c==4:\n",
    "    c = m[3]\n",
    "if c == 5:\n",
    "    c = m[4]\n",
    "if c==6:\n",
    "    c = m[5]\n",
    "if c==7:\n",
    "    c = m[6]"
   ],
   "metadata": {
    "collapsed": false,
    "pycharm": {
     "name": "#%%\n"
    }
   }
  },
  {
   "cell_type": "code",
   "execution_count": 201,
   "outputs": [
    {
     "name": "stdout",
     "output_type": "stream",
     "text": [
      "#до ля си\n"
     ]
    }
   ],
   "source": [
    "print(a,b,c)"
   ],
   "metadata": {
    "collapsed": false,
    "pycharm": {
     "name": "#%%\n"
    }
   }
  },
  {
   "cell_type": "code",
   "execution_count": 2,
   "outputs": [
    {
     "name": "stdout",
     "output_type": "stream",
     "text": [
      "#до ля си\n"
     ]
    }
   ],
   "source": [
    "m = ['', 'до', 'ре', 'ми', 'фа', 'соль', 'ля', 'си']\n",
    "a, b, c = map(int, input().split())\n",
    "print('#' + m[a] if m[a] == 'до' or m[a] == 'фа' else m[a],\n",
    "      '#' + m[b] if m[b] == 'до' or m[b] == 'фа' else m[b],\n",
    "      '#' + m[c] if m[c] == 'до' or m[c] == 'фа' else m[c] )\n"
   ],
   "metadata": {
    "collapsed": false,
    "pycharm": {
     "name": "#%%\n"
    }
   }
  },
  {
   "cell_type": "code",
   "execution_count": null,
   "outputs": [],
   "source": [],
   "metadata": {
    "collapsed": false,
    "pycharm": {
     "name": "#%%\n"
    }
   }
  }
 ],
 "metadata": {
  "kernelspec": {
   "display_name": "Python 3",
   "language": "python",
   "name": "python3"
  },
  "language_info": {
   "codemirror_mode": {
    "name": "ipython",
    "version": 2
   },
   "file_extension": ".py",
   "mimetype": "text/x-python",
   "name": "python",
   "nbconvert_exporter": "python",
   "pygments_lexer": "ipython2",
   "version": "2.7.6"
  }
 },
 "nbformat": 4,
 "nbformat_minor": 0
}