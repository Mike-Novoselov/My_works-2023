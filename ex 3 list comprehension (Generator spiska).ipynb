{
 "cells": [
  {
   "cell_type": "code",
   "execution_count": 1,
   "outputs": [
    {
     "name": "stdout",
     "output_type": "stream",
     "text": [
      "[0, 1, 4, 9, 16, 25]\n"
     ]
    }
   ],
   "source": [
    "N = 6\n",
    "a = [x**2 for x in range(N)]\n",
    "print(a)"
   ],
   "metadata": {
    "collapsed": false,
    "pycharm": {
     "name": "#%%\n"
    }
   }
  },
  {
   "cell_type": "code",
   "execution_count": 5,
   "outputs": [
    {
     "name": "stdout",
     "output_type": "stream",
     "text": [
      "получили список чисел [1, 2, 3, 4], а так получиле спискок строк ['1', '2', '3', '4']\n"
     ]
    }
   ],
   "source": [
    "d_inp = input(\"целые числа через пробел\")\n",
    "\n",
    "a = [int(d) for d in d_inp.split()]\n",
    "print(f\"получили список чисел {a}, а так получиле спискок строк {d_inp.split()}\")"
   ],
   "metadata": {
    "collapsed": false,
    "pycharm": {
     "name": "#%%\n"
    }
   }
  },
  {
   "cell_type": "code",
   "execution_count": 10,
   "outputs": [
    {
     "name": "stdout",
     "output_type": "stream",
     "text": [
      "[1, 2, 3, 4, 5]\n"
     ]
    }
   ],
   "source": [
    "x = list(map(int, input(\"целые числа через пробел\").split()))\n",
    "print(x)"
   ],
   "metadata": {
    "collapsed": false,
    "pycharm": {
     "name": "#%%\n"
    }
   }
  },
  {
   "cell_type": "code",
   "execution_count": null,
   "outputs": [],
   "source": [
    "# list(map(int, input().split()))"
   ],
   "metadata": {
    "collapsed": false,
    "pycharm": {
     "name": "#%%\n"
    }
   }
  },
  {
   "cell_type": "code",
   "execution_count": 11,
   "outputs": [
    {
     "name": "stdout",
     "output_type": "stream",
     "text": [
      "['p', 'y', 't', 'h', 'o', 'n']\n"
     ]
    }
   ],
   "source": [
    "a = [d for d in \"python\"]\n",
    "print(a)"
   ],
   "metadata": {
    "collapsed": false,
    "pycharm": {
     "name": "#%%\n"
    }
   }
  },
  {
   "cell_type": "code",
   "execution_count": null,
   "outputs": [],
   "source": [],
   "metadata": {
    "collapsed": false,
    "pycharm": {
     "name": "#%%\n"
    }
   }
  },
  {
   "cell_type": "code",
   "execution_count": 13,
   "outputs": [
    {
     "name": "stdout",
     "output_type": "stream",
     "text": [
      "['четное', 'нечетное', 'нечетное', 'четное', 'четное', 'нечетное', 'четное', 'четное', 'нечетное']\n"
     ]
    }
   ],
   "source": [
    "d = [4, 3, -5, 0, 2, 11, 122, -8, 9]\n",
    "a = ['четное' if x%2==0 else 'нечетное' for x in d]\n",
    "print(a)"
   ],
   "metadata": {
    "collapsed": false,
    "pycharm": {
     "name": "#%%\n"
    }
   }
  },
  {
   "cell_type": "code",
   "execution_count": 14,
   "outputs": [
    {
     "name": "stdout",
     "output_type": "stream",
     "text": [
      "['четное', 'нечетное', 'четное', 'нечетное', 'четное', 'нечетное']\n"
     ]
    }
   ],
   "source": [
    "d = [4, 3, -5, 0, 2, 11, 122, -8, 9]\n",
    "a = ['четное' if x%2==0 else 'нечетное'\n",
    "     for x in d\n",
    "     if x > 0\n",
    "     ]\n",
    "print(a)"
   ],
   "metadata": {
    "collapsed": false,
    "pycharm": {
     "name": "#%%\n"
    }
   }
  },
  {
   "cell_type": "code",
   "execution_count": null,
   "outputs": [],
   "source": [
    "# Подвиг 1. Вводятся вещественные числа в строку через пробел. Необходимо на их основе сформировать список lst с помощью list comprehension (генератора списков) из модулей введенных чисел (в списке должны храниться именно числа, а не строки). Результат вывести на экран в виде списка командой:\n",
    "#\n",
    "# print(lst)\n",
    "#\n",
    "# Sample Input:\n",
    "#\n",
    "# 5.56 -8.7 1.0 3.14 77.845\n",
    "# Sample Output:\n",
    "#\n",
    "# [5.56, 8.7, 1.0, 3.14, 77.845]\n",
    "\n",
    "x_str = input()\n",
    "lst = [abs(float(d)) for d in x_str.split()]\n",
    "print(lst)"
   ],
   "metadata": {
    "collapsed": false,
    "pycharm": {
     "name": "#%%\n"
    }
   }
  },
  {
   "cell_type": "code",
   "execution_count": null,
   "outputs": [],
   "source": [],
   "metadata": {
    "collapsed": false,
    "pycharm": {
     "name": "#%%\n"
    }
   }
  },
  {
   "cell_type": "code",
   "execution_count": 25,
   "outputs": [
    {
     "name": "stdout",
     "output_type": "stream",
     "text": [
      "[4, 5, 6, 7, 3, 9, 7]\n"
     ]
    }
   ],
   "source": [
    "# Подвиг 2. Вводится семизначное целое положительное число. С помощью list comprehension сформировать список lst, содержащий цифры этого числа (в списке должны быть записаны числа, а не строки). Результат вывести на экран список командой:\n",
    "#\n",
    "# print(lst)\n",
    "#\n",
    "# Sample Input:\n",
    "#\n",
    "# 4567397\n",
    "# Sample Output:\n",
    "#\n",
    "# [4, 5, 6, 7, 3, 9, 7]\n",
    "\n",
    "x = input()\n",
    "x_str = str(x)\n",
    "x_list = [int(char) for char in x_str]\n",
    "print(x_list)"
   ],
   "metadata": {
    "collapsed": false,
    "pycharm": {
     "name": "#%%\n"
    }
   }
  },
  {
   "cell_type": "code",
   "execution_count": null,
   "outputs": [],
   "source": [],
   "metadata": {
    "collapsed": false,
    "pycharm": {
     "name": "#%%\n"
    }
   }
  },
  {
   "cell_type": "code",
   "execution_count": null,
   "outputs": [],
   "source": [
    "# Подвиг 3. Вводится натуральное число N. С помощью list comprehension сформировать двумерный список размером N x N, состоящий из нулей, а по главной диагонали - единицы. (Главная диагональ - это элементы, идущие по диагонали от верхнего левого угла матрицы до ее нижнего правого угла). Результат вывести в виде таблицы чисел как показано в примере ниже.\n",
    "#\n",
    "# Sample Input:\n",
    "#\n",
    "# 4\n",
    "# Sample Output:\n",
    "#\n",
    "# 1 0 0 0\n",
    "# 0 1 0 0\n",
    "# 0 0 1 0\n",
    "# 0 0 0 1\n",
    "n = int(input())\n",
    "matrix = [[1 if i == j else 0 for j in range(n)] for i in range(n)]\n",
    "for row in matrix:\n",
    "    print(*row)"
   ],
   "metadata": {
    "collapsed": false,
    "pycharm": {
     "name": "#%%\n"
    }
   }
  },
  {
   "cell_type": "code",
   "execution_count": 26,
   "outputs": [
    {
     "name": "stdout",
     "output_type": "stream",
     "text": [
      "['Москва', 'Тверь', 'Рязань']\n"
     ]
    }
   ],
   "source": [
    "# Подвиг 4. Вводятся названия городов в строку через пробел. Необходимо сформировать список с помощью list comprehension, содержащий названия длиной более пяти символов. Результат вывести в строчку через пробел.\n",
    "#\n",
    "# Sample Input:\n",
    "#\n",
    "# Казань Уфа Москва Челябинск Омск Тур Самара\n",
    "# Sample Output:\n",
    "#\n",
    "# Казань Москва Челябинск Самара\n",
    "\n",
    "\n",
    "goroda = input()\n",
    "a = [d for d in goroda.split()] # преобразуем строку в список\n",
    "b = [city for city in a if len(city)>5] # перебераем список\n",
    "print(*b)\n"
   ],
   "metadata": {
    "collapsed": false,
    "pycharm": {
     "name": "#%%\n"
    }
   }
  },
  {
   "cell_type": "code",
   "execution_count": null,
   "outputs": [],
   "source": [
    "lst_in = input().split()\n",
    "lst = [i for i in lst_in if len(i) > 5]\n",
    "print(*lst)"
   ],
   "metadata": {
    "collapsed": false,
    "pycharm": {
     "name": "#%%\n"
    }
   }
  },
  {
   "cell_type": "code",
   "execution_count": null,
   "outputs": [],
   "source": [],
   "metadata": {
    "collapsed": false,
    "pycharm": {
     "name": "#%%\n"
    }
   }
  },
  {
   "cell_type": "code",
   "execution_count": null,
   "outputs": [],
   "source": [
    "# Вводится натуральное число n. Необходимо сформировать список с помощью list comprehension, состоящий из делителей числа n (включая и само число n). Результат вывести на экран в одну строку через пробел.\n",
    "#\n",
    "# Sample Input:\n",
    "#\n",
    "# 10\n",
    "# Sample Output:\n",
    "#\n",
    "# 1 2 5 10\n",
    "\n",
    "n = int(input())\n",
    "divisors = [i for i in range(1, n+1) if n % i == 0]\n",
    "print(*divisors)"
   ],
   "metadata": {
    "collapsed": false,
    "pycharm": {
     "name": "#%%\n"
    }
   }
  },
  {
   "cell_type": "code",
   "execution_count": 31,
   "outputs": [
    {
     "name": "stdout",
     "output_type": "stream",
     "text": [
      "0 0 0 0 0 0 0 0\n",
      "1 1 1 1 1 1 1 1\n",
      "2 2 2 2 2 2 2 2\n",
      "3 3 3 3 3 3 3 3\n",
      "4 4 4 4 4 4 4 4\n",
      "5 5 5 5 5 5 5 5\n",
      "6 6 6 6 6 6 6 6\n",
      "7 7 7 7 7 7 7 7\n"
     ]
    }
   ],
   "source": [
    "# Подвиг 6. Вводится натуральное число N. Необходимо сгенерировать вложенный список с помощью list comprehension, размером N x N, где первая строка содержала бы все нули, вторая - все единицы, третья - все двойки и так до N-й строки. Результат вывести в виде таблицы чисел как показано в примере ниже.\n",
    "#\n",
    "# Sample Input:\n",
    "#\n",
    "# 4\n",
    "# Sample Output:\n",
    "#\n",
    "# 0 0 0 0\n",
    "# 1 1 1 1\n",
    "# 2 2 2 2\n",
    "# 3 3 3 3\n",
    "n = int(input())\n",
    "matrix = [[i]*n for i in range(n)]\n",
    "for row in matrix:\n",
    "    print(*row)"
   ],
   "metadata": {
    "collapsed": false,
    "pycharm": {
     "name": "#%%\n"
    }
   }
  },
  {
   "cell_type": "code",
   "execution_count": null,
   "outputs": [],
   "source": [
    "# Подвиг 7. Вводится список вещественных чисел. С помощью list comprehension сформировать список, состоящий из элементов введенного списка, имеющих четные индексы (то есть, выбрать все элементы с четными индексами). Результат вывести на экран в одну строку через пробел.\n",
    "#\n",
    "# Sample Input:\n",
    "#\n",
    "# 8.5 11.3 1.0 -4.5 11.34 6.45\n",
    "# Sample Output:\n",
    "#\n",
    "# 8.5 1.0 11.34\n",
    "\n",
    "lst_in = list(map(float, input().split()))\n",
    "lst = [lst_in[i] for i in range(len(lst_in)) if i % 2 == 0]\n",
    "print(*lst)"
   ],
   "metadata": {
    "collapsed": false,
    "pycharm": {
     "name": "#%%\n"
    }
   }
  },
  {
   "cell_type": "code",
   "execution_count": 37,
   "outputs": [],
   "source": [
    "# Подвиг 8. Вводятся два списка целых чисел одинаковой длины каждый с новой строки. С помощью list comprehension сформировать третий список, состоящий из суммы соответствующих пар чисел введенных списков. Результат вывести на экран в одну строку через пробел.\n",
    "#\n",
    "# Sample Input:\n",
    "#\n",
    "# 1 2 3 4 5\n",
    "# 6 7 8 9 10\n",
    "# Sample Output:\n",
    "#\n",
    "# 7 9 11 13 15\n",
    "\n",
    "x1 = list(map(int, input().split()))\n",
    "x2 = list(map(int, input().split()))\n",
    "lst3 = [x1[i] + x2[i] for i in range(len(x1))]\n",
    "print(*lst3)"
   ],
   "metadata": {
    "collapsed": false,
    "pycharm": {
     "name": "#%%\n"
    }
   }
  },
  {
   "cell_type": "code",
   "execution_count": null,
   "outputs": [],
   "source": [],
   "metadata": {
    "collapsed": false,
    "pycharm": {
     "name": "#%%\n"
    }
   }
  },
  {
   "cell_type": "code",
   "execution_count": 72,
   "outputs": [
    {
     "name": "stdout",
     "output_type": "stream",
     "text": [
      "[['Москва', 15000], ['Уфа', 1200], ['Самара', 1090], ['Казань', 1300]]\n"
     ]
    }
   ],
   "source": [
    "# Подвиг 9. Вводится список в формате:\n",
    "#\n",
    "# <город 1> <численность населения 1> <город 2> <численность населения 2> ... <город N> <численность населения N>\n",
    "#\n",
    "# Необходимо с помощью list comprehension сформировать список lst, содержащий вложенные списки из пар:\n",
    "#\n",
    "# <город> <численность населения>\n",
    "#\n",
    "# Численность населения - целое число в тыс. человек. Вывести результат на экран в виде списка командой:\n",
    "#\n",
    "# print(lst)\n",
    "#\n",
    "# Sample Input:\n",
    "#\n",
    "# Москва 15000 Уфа 1200 Самара 1090 Казань 1300\n",
    "# Sample Output:\n",
    "#\n",
    "# [['Москва', 15000], ['Уфа', 1200], ['Самара', 1090], ['Казань', 1300]]\n",
    "\n",
    "lst = list(map(str, input().split()))\n",
    "s = [[lst[i], int(lst[i + 1])]\n",
    "     for i in range(len(lst))\n",
    "     if i % 2 == 0\n",
    "     ]\n",
    "print(s)"
   ],
   "metadata": {
    "collapsed": false,
    "pycharm": {
     "name": "#%%\n"
    }
   }
  },
  {
   "cell_type": "code",
   "execution_count": null,
   "outputs": [],
   "source": [
    "s = input().split()\n",
    "city = [s[i] for i in range(0,len(s),2)]\n",
    "nums = [s[i] for i in range(1,len(s),2)]\n",
    "\n",
    "res = [[city[i],int(nums[i])] for i in range(len(city))]\n",
    "print(res)"
   ],
   "metadata": {
    "collapsed": false,
    "pycharm": {
     "name": "#%%\n"
    }
   }
  },
  {
   "cell_type": "code",
   "execution_count": null,
   "outputs": [],
   "source": [],
   "metadata": {
    "collapsed": false,
    "pycharm": {
     "name": "#%%\n"
    }
   }
  },
  {
   "cell_type": "code",
   "execution_count": 3,
   "outputs": [
    {
     "name": "stdout",
     "output_type": "stream",
     "text": [
      "[1, 2, 3, 4]\n"
     ]
    }
   ],
   "source": [
    "d_inp = input(\"введи четыре чесла через пробел\")\n",
    "\n",
    "a = [int(d) for d in d_inp.split()]\n",
    "print(a)"
   ],
   "metadata": {
    "collapsed": false,
    "pycharm": {
     "name": "#%%\n"
    }
   }
  },
  {
   "cell_type": "code",
   "execution_count": 16,
   "outputs": [
    {
     "name": "stdout",
     "output_type": "stream",
     "text": [
      "[(0, 0), (0, 2)]\n"
     ]
    }
   ],
   "source": [
    "# вложеные генераторы списка\n",
    "\n",
    "a = [(i, j)\n",
    "     for i in range(3) if i % 3 ==0\n",
    "     for j in range(4) if j % 2 ==0\n",
    "    ]\n",
    "print(a)"
   ],
   "metadata": {
    "collapsed": false,
    "pycharm": {
     "name": "#%%\n"
    }
   }
  },
  {
   "cell_type": "code",
   "execution_count": 6,
   "outputs": [
    {
     "name": "stdout",
     "output_type": "stream",
     "text": [
      "['0*0 = 0', '0*1 = 0', '0*2 = 0', '0*3 = 0', '0*4 = 0', '0*5 = 0', '0*6 = 0', '0*7 = 0', '0*8 = 0', '0*9 = 0', '1*0 = 0', '1*1 = 1', '1*2 = 2', '1*3 = 3', '1*4 = 4', '1*5 = 5', '1*6 = 6', '1*7 = 7', '1*8 = 8', '1*9 = 9']\n"
     ]
    }
   ],
   "source": [
    "a = [f\"{x}*{y} = {x*y}\"\n",
    "     for x in range(2)\n",
    "     for y in range(10)\n",
    "    ]\n",
    "\n",
    "print(a)"
   ],
   "metadata": {
    "collapsed": false,
    "pycharm": {
     "name": "#%%\n"
    }
   }
  },
  {
   "cell_type": "code",
   "execution_count": 8,
   "outputs": [
    {
     "name": "stdout",
     "output_type": "stream",
     "text": [
      "[0, 1, 2, 3, 10, 11, 12, 13, 20, 21, 22, 23]\n"
     ]
    }
   ],
   "source": [
    "matrix = [[0, 1, 2, 3],\n",
    "          [10, 11, 12, 13],\n",
    "          [20, 21, 22, 23]\n",
    "          ]\n",
    "a = [x\n",
    "     for row in matrix\n",
    "     for x in row\n",
    "     ]\n",
    "print(a)"
   ],
   "metadata": {
    "collapsed": false,
    "pycharm": {
     "name": "#%%\n"
    }
   }
  },
  {
   "cell_type": "code",
   "execution_count": 9,
   "outputs": [
    {
     "name": "stdout",
     "output_type": "stream",
     "text": [
      "[[0, 1, 2], [0, 1, 2], [0, 1, 2], [0, 1, 2]]\n"
     ]
    }
   ],
   "source": [
    "m, n = 3, 4\n",
    "\n",
    "matrix = [[a for a in range(m)] for b in range(n)]\n",
    "print(matrix)"
   ],
   "metadata": {
    "collapsed": false,
    "pycharm": {
     "name": "#%%\n"
    }
   }
  },
  {
   "cell_type": "code",
   "execution_count": 12,
   "outputs": [
    {
     "name": "stdout",
     "output_type": "stream",
     "text": [
      "[[1, 4, 9], [16, 25, 36], [49, 64, 81]]\n",
      "[1, 4, 9, 16, 25, 36, 49, 64, 81]\n"
     ]
    }
   ],
   "source": [
    "A = [[1,2,3],[4,5,6],[7,8,9]]\n",
    "\n",
    "AA = [[x ** 2 for x in row] for row in A]\n",
    "\n",
    "a = [x ** 2\n",
    "     for row in A\n",
    "     for x in row\n",
    "    ]\n",
    "\n",
    "print(AA)\n",
    "print(a)"
   ],
   "metadata": {
    "collapsed": false,
    "pycharm": {
     "name": "#%%\n"
    }
   }
  },
  {
   "cell_type": "code",
   "execution_count": 4,
   "outputs": [
    {
     "name": "stdout",
     "output_type": "stream",
     "text": [
      "[1, 4, 9, 16, 25]\n"
     ]
    }
   ],
   "source": [
    "g = [u ** 2 for u in [x+1 for x in range(5)]] # 0+1, 1+1, 2+1, 3+1, 4+1 /// 1**2, 2**2, 3**2, 4**2, 5**2\n",
    "print(g)"
   ],
   "metadata": {
    "collapsed": false,
    "pycharm": {
     "name": "#%%\n"
    }
   }
  },
  {
   "cell_type": "code",
   "execution_count": null,
   "outputs": [],
   "source": [],
   "metadata": {
    "collapsed": false,
    "pycharm": {
     "name": "#%%\n"
    }
   }
  }
 ],
 "metadata": {
  "kernelspec": {
   "display_name": "Python 3",
   "language": "python",
   "name": "python3"
  },
  "language_info": {
   "codemirror_mode": {
    "name": "ipython",
    "version": 2
   },
   "file_extension": ".py",
   "mimetype": "text/x-python",
   "name": "python",
   "nbconvert_exporter": "python",
   "pygments_lexer": "ipython2",
   "version": "2.7.6"
  }
 },
 "nbformat": 4,
 "nbformat_minor": 0
}