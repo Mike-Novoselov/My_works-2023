{
 "cells": [
  {
   "cell_type": "code",
   "execution_count": 1,
   "metadata": {
    "collapsed": true,
    "pycharm": {
     "name": "#%%\n"
    }
   },
   "outputs": [],
   "source": [
    "a=1\n",
    "b=3"
   ]
  },
  {
   "cell_type": "code",
   "execution_count": null,
   "metadata": {
    "pycharm": {
     "name": "#%%\n"
    }
   },
   "outputs": [],
   "source": [
    "a+=b"
   ]
  },
  {
   "cell_type": "code",
   "execution_count": null,
   "metadata": {
    "pycharm": {
     "name": "#%%\n"
    }
   },
   "outputs": [],
   "source": [
    "a=a+b"
   ]
  },
  {
   "cell_type": "code",
   "execution_count": 2,
   "metadata": {
    "pycharm": {
     "name": "#%%\n"
    }
   },
   "outputs": [
    {
     "name": "stdout",
     "output_type": "stream",
     "text": [
      "1275\n"
     ]
    }
   ],
   "source": [
    "s = 0\n",
    "i = 1\n",
    "n = 1000\n",
    "while i<=n and i <=50:\n",
    "    # s+=i\\n\",\n",
    "    # i+=1\\n\",\n",
    "    s=s+i\n",
    "    i=i+1\n",
    "print(s)"
   ]
  },
  {
   "cell_type": "code",
   "execution_count": 3,
   "metadata": {
    "pycharm": {
     "name": "#%%\n"
    }
   },
   "outputs": [
    {
     "name": "stdout",
     "output_type": "stream",
     "text": [
      "1\n",
      "2\n",
      "3\n",
      "4\n",
      "5\n",
      "6\n",
      "7\n",
      "8\n",
      "9\n",
      "10\n"
     ]
    }
   ],
   "source": [
    "i=1\n",
    "while i<10:\n",
    "    print(i)\n",
    "    i +=1\n",
    "print(i)"
   ]
  },
  {
   "cell_type": "code",
   "execution_count": null,
   "metadata": {
    "pycharm": {
     "name": "#%%\n"
    }
   },
   "outputs": [],
   "source": [
    "    # цикл пока пароль не совпадает\"\n",
    "    pass_true = \"Password\"\n",
    "    ps = \"\"\n",
    "    while ps != pass_true:\n",
    "        ps = input(\"Введите пароль \")\n",
    "    print(\"вход в систему\")"
   ]
  },
  {
   "cell_type": "code",
   "execution_count": 4,
   "metadata": {
    "pycharm": {
     "name": "#%%\n"
    }
   },
   "outputs": [
    {
     "name": "stdout",
     "output_type": "stream",
     "text": [
      "3\n",
      "6\n",
      "9\n",
      "12\n",
      "15\n",
      "18\n"
     ]
    }
   ],
   "source": [
    "\n",
    "    # все числа кратные 3\"\n",
    "    n=20\n",
    "    i=1\n",
    "    while i<=n:\n",
    "        if i%3 ==0:\n",
    "            print(i)\n",
    "        i+=1"
   ]
  },
  {
   "cell_type": "code",
   "execution_count": 5,
   "metadata": {
    "pycharm": {
     "name": "#%%\n"
    }
   },
   "outputs": [
    {
     "name": "stdout",
     "output_type": "stream",
     "text": [
      "4\n",
      "9\n",
      "16\n"
     ]
    }
   ],
   "source": [
    "\n",
    "    # Подвиг 2. Вводятся два целых положительных числа n и m, причем, n < m. Вывести в строку через пробел квадраты целых чисел в диапазоне [n; m]. Программу реализовать при помощи цикла while.\",\n",
    "\n",
    "    # Sample Input:\n",
    "    #\n",
    "    # 2 4\n",
    "    # Sample Output\n",
    "    #\n",
    "    # 4 9 16\n",
    "\n",
    "    a, b = map(int, input().split())\n",
    "    while a<=b:\n",
    "        print(a**2)\n",
    "        a+=1"
   ]
  },
  {
   "cell_type": "code",
   "execution_count": 6,
   "metadata": {
    "pycharm": {
     "name": "#%%\n"
    }
   },
   "outputs": [
    {
     "name": "stdout",
     "output_type": "stream",
     "text": [
      "4 9 16\n"
     ]
    }
   ],
   "source": [
    "    n, m = map(int, input().split())\n",
    "    a=[]\n",
    "    while n<=m:\n",
    "        b=n**2\n",
    "        a.append(b)\n",
    "        n+=1\n",
    "    print(*a)"
   ]
  },
  {
   "cell_type": "code",
   "execution_count": 19,
   "outputs": [
    {
     "name": "stdout",
     "output_type": "stream",
     "text": [
      "69.2 103.8 138.4 173.0 207.6 242.2 276.8 311.4 346.0\n"
     ]
    }
   ],
   "source": [
    "\n",
    "# Подвиг 3. Вводится стоимость одной книги x рублей (вещественное число). Необходимо вывести на экран в строчку через пробел стоимости 2, 3, ... 10 таких книг с точностью до десятых. Программу реализовать при помощи цикла while.\n",
    "#\n",
    "# Sample Input:\n",
    "#\n",
    "# 34.6\n",
    "# Sample Output:\n",
    "#\n",
    "# 69.2 103.8 138.4 173.0 207.6 242.2 276.8 311.4 346.0\n",
    "\n",
    "x = float(input())\n",
    "n = 1\n",
    "a=[]\n",
    "while n<=10:\n",
    "    b=n*x\n",
    "    z= round(b, 4)\n",
    "    a.append(z)\n",
    "    n+=1\n",
    "a.pop(0)\n",
    "print(*a)"
   ],
   "metadata": {
    "collapsed": false,
    "pycharm": {
     "name": "#%%\n"
    }
   }
  },
  {
   "cell_type": "code",
   "execution_count": 20,
   "outputs": [],
   "source": [
    "# Подвиг 4. Вводится целое положительное число n. Вычислить и вывести на экран сумму: 1 + 1/2 + 1/3 + ... + 1/n с точностью до тысячных (три знака после запятой). Программу реализовать при помощи цикла while.\n",
    "#\n",
    "# Sample Input:\n",
    "#\n",
    "# 8\n",
    "# Sample Output:\n",
    "#\n",
    "# 2.718\n",
    "\n",
    "x= int(input())"
   ],
   "metadata": {
    "collapsed": false,
    "pycharm": {
     "name": "#%%\n"
    }
   }
  },
  {
   "cell_type": "code",
   "execution_count": 25,
   "outputs": [
    {
     "name": "stdout",
     "output_type": "stream",
     "text": [
      "2.718\n"
     ]
    }
   ],
   "source": [
    "n = int(input())\n",
    "i = 1\n",
    "s = 0\n",
    "while i <= n:\n",
    "    s = s + (1 / i)\n",
    "    i += 1\n",
    "print(round(s, 3))"
   ],
   "metadata": {
    "collapsed": false,
    "pycharm": {
     "name": "#%%\n"
    }
   }
  },
  {
   "cell_type": "code",
   "execution_count": 28,
   "outputs": [
    {
     "name": "stdout",
     "output_type": "stream",
     "text": [
      "17\n"
     ]
    }
   ],
   "source": [
    "# Подвиг 5. На каждой итерации цикла пользователь вводит целое число. Цикл продолжается, пока не встретится число 0. Необходимо вычислить сумму введенных в цикле чисел и вывести результат на экран. Программу реализовать при помощи цикла while.\n",
    "#\n",
    "# Sample Input:\n",
    "#\n",
    "# 8\n",
    "# 11\n",
    "# 2\n",
    "# -4\n",
    "# 0\n",
    "# Sample Output:\n",
    "#\n",
    "# 17\n",
    "\n",
    "not_nul = \"\"\n",
    "Nulz = 0\n",
    "summa = 0\n",
    "while not_nul != Nulz:\n",
    "    not_nul = int(input())\n",
    "    summa = summa + not_nul\n",
    "print(summa)"
   ],
   "metadata": {
    "collapsed": false,
    "pycharm": {
     "name": "#%%\n"
    }
   }
  },
  {
   "cell_type": "code",
   "execution_count": 61,
   "outputs": [
    {
     "name": "stdout",
     "output_type": "stream",
     "text": [
      "osnovnye-metody-slovarey\n"
     ]
    }
   ],
   "source": [
    "# Подвиг 6. Вводится строка (слаг). Замените в этой строке все подряд идущие дефисы (--, ---, ---- и т.д.) на одинарные (-). Результат преобразования строки выведите на экран. Программу реализовать при помощи цикла while.\n",
    "#\n",
    "# Sample Input:\n",
    "#\n",
    "# osnovnye--metody-----slovarey\n",
    "# Sample Output:\n",
    "#\n",
    "# osnovnye-metody-slovarey\n",
    "\n",
    "a = input()\n",
    "while \"--\" in a:\n",
    "    a = a.replace(\"--\",\"-\")\n",
    "\n",
    "print(a)"
   ],
   "metadata": {
    "collapsed": false,
    "pycharm": {
     "name": "#%%\n"
    }
   }
  },
  {
   "cell_type": "code",
   "execution_count": 107,
   "outputs": [],
   "source": [
    "# Подвиг 7. Вводится натуральное (то есть, целое положительное) число (от трехзначного и более). Найти произведение всех его цифр. Результат вывести на экран. Программу реализовать при помощи цикла while.\n",
    "#\n",
    "# Sample Input:\n",
    "#\n",
    "# 821\n",
    "# Sample Output:\n",
    "#\n",
    "# 16\n",
    "\n",
    "x = list(map(int, input()))\n",
    "z=0\n",
    "y=1"
   ],
   "metadata": {
    "collapsed": false,
    "pycharm": {
     "name": "#%%\n"
    }
   }
  },
  {
   "cell_type": "code",
   "execution_count": 108,
   "outputs": [
    {
     "name": "stdout",
     "output_type": "stream",
     "text": [
      "3\n"
     ]
    }
   ],
   "source": [
    "while z != len(x):\n",
    "    y = y*x[z]\n",
    "    z+=1\n",
    "print(y)"
   ],
   "metadata": {
    "collapsed": false,
    "pycharm": {
     "name": "#%%\n"
    }
   }
  },
  {
   "cell_type": "code",
   "execution_count": 26,
   "outputs": [
    {
     "name": "stdout",
     "output_type": "stream",
     "text": [
      "1 1 2 3 5 8 13 21 34 55\n"
     ]
    }
   ],
   "source": [
    "# Подвиг 8. Последовательность Фибоначчи образуется так: первые два числа равны 1 и 1, а каждое последующее равно сумме двух предыдущих. Имеем такую последовательность чисел: 1, 1, 2, 3, 5, 8, 13, ... Постройте последовательность Фибоначчи длиной n (n вводится с клавиатуры). Результат отобразите в виде строки полученных чисел, записанных через пробел. Программу реализовать при помощи цикла while.\n",
    "#\n",
    "# Sample Input:\n",
    "#\n",
    "# 8\n",
    "# Sample Output:\n",
    "#\n",
    "# 1 1 2 3 5 8 13 21\n",
    "# a= [1,1,2,3,5,8,13,21]\n",
    "\n",
    "\n",
    "n = int(input()) # вводим длину фиб\n",
    "z = [1,1]\n",
    "while len(z) != n:\n",
    "    a = z[-1]+z[-2]\n",
    "    z.append(a)\n",
    "print(*z)"
   ],
   "metadata": {
    "collapsed": false,
    "pycharm": {
     "name": "#%%\n"
    }
   }
  },
  {
   "cell_type": "code",
   "execution_count": 29,
   "outputs": [
    {
     "name": "stdout",
     "output_type": "stream",
     "text": [
      "8\n"
     ]
    }
   ],
   "source": [
    "# Подвиг 9. Одноклеточная амеба каждые 3 часа делится на 2 клетки. Определить, сколько клеток будет через n часов (n - целое положительное число, вводимое с клавиатуры). Считать, что изначально была одна амеба. Результат вывести на экран. Задачу необходимо решить с использованием цикла while.\n",
    "#\n",
    "# Sample Input:\n",
    "#\n",
    "# 11\n",
    "# Sample Output:\n",
    "#\n",
    "# 8\n",
    "n = int(input())\n",
    "s = 1\n",
    "i = 3\n",
    "while i<n:\n",
    "    s = s*2\n",
    "    i+=3\n",
    "print(s)\n",
    "\n",
    "# 1. Вводим число n = int(input());\n",
    "#\n",
    "# 2. Вводим переменную для подсчета количества амёб (пусть будет s) и присваиваем ей значение '1' в соответствии с начальными условиями задачи;\n",
    "#\n",
    "# 3. Вводим переменную (пусть будет i) для количества часов и присваиваем ей значение '3'. Почему 3? Потому что амёба разделится только по истечении 3 часов! Таким образом, первые 3 часа будет по прежнему 1 амёба;\n",
    "#\n",
    "# 4. Создаем цикл while условием которого будет i<n\n",
    "#\n",
    "# 5. Принцип размножения амёбы соответствует арифметической прогрессии, т.е. s = s*2. Из одной амёбы будет 2, из 2 уже 4, из 4 станет 8 и т.д.\n",
    "#\n",
    "# 6. Увеличиваем счетчик часов на '3' в соответствии с условием задачи.\n",
    "#\n",
    "# 7. Выводим итог подсчета амёб ВНЕ тела цикла."
   ],
   "metadata": {
    "collapsed": false,
    "pycharm": {
     "name": "#%%\n"
    }
   }
  },
  {
   "cell_type": "code",
   "execution_count": 44,
   "outputs": [
    {
     "name": "stdout",
     "output_type": "stream",
     "text": [
      "1276.28\n"
     ]
    }
   ],
   "source": [
    "# Подвиг 10. Гражданин 1 января открыл счет в банке, вложив 1000 руб. Каждый год размер вклада увеличивается на 5% от имеющейся суммы. Определить сумму вклада через n лет (n - целое положительное число, вводимое с клавиатуры). Результат округлить до сотых и вывести на экран. Программу реализовать при помощи цикла while.\n",
    "#\n",
    "# Sample Input:\n",
    "#\n",
    "# 5\n",
    "# Sample Output:\n",
    "#\n",
    "# 1276.28\n",
    "\n",
    "g = 1000\n",
    "n = 1\n",
    "y = int(input())\n",
    "while n<=y:\n",
    "    g = g+(g/100*5)\n",
    "    n +=1\n",
    "print(round(g, 2))"
   ],
   "metadata": {
    "collapsed": false,
    "pycharm": {
     "name": "#%%\n"
    }
   }
  },
  {
   "cell_type": "code",
   "execution_count": 1,
   "outputs": [
    {
     "name": "stdout",
     "output_type": "stream",
     "text": [
      "3 5 7 9\n"
     ]
    }
   ],
   "source": [
    "# Подвиг 11. Вводятся два натуральных четных числа n и m в одну строчку через пробел, причем n < m. Напечатать все нечетные числа из интервала [n, m]. Задачу решить без применения условного оператора. Результат вывести на экран в виде строки чисел, записанных через пробел. Программу реализовать при помощи цикла while.\n",
    "#\n",
    "# Sample Input:\n",
    "#\n",
    "# 2 10\n",
    "# Sample Output:\n",
    "#\n",
    "# 3 5 7 9\n",
    "n, m = map(int, input().split())\n",
    "x=1\n",
    "y=[]\n",
    "while x<m:\n",
    "\n",
    "    y.append(x)\n",
    "    x+=2\n",
    "\n",
    "print(*y[1::])"
   ],
   "metadata": {
    "collapsed": false,
    "pycharm": {
     "name": "#%%\n"
    }
   }
  },
  {
   "cell_type": "code",
   "execution_count": 2,
   "outputs": [
    {
     "name": "stdout",
     "output_type": "stream",
     "text": [
      "3 5 7 9 "
     ]
    }
   ],
   "source": [
    "n, m = map(int,input().split())\n",
    "while n < m:\n",
    "    while n % 2 == 0:\n",
    "        n += 1\n",
    "    print(n, end = ' ')\n",
    "    n += 1"
   ],
   "metadata": {
    "collapsed": false,
    "pycharm": {
     "name": "#%%\n"
    }
   }
  },
  {
   "cell_type": "code",
   "execution_count": 7,
   "outputs": [
    {
     "name": "stdout",
     "output_type": "stream",
     "text": [
      "231 372 513 654 795 936 "
     ]
    }
   ],
   "source": [
    "# Подвиг 12. Составить программу поиска всех трехзначных чисел, которые при делении на 47 дают в остатке 43 и кратны 3. Вывести найденные числа в строчку через пробел. Программу реализовать при помощи цикла while.\n",
    "#\n",
    "# Sample Input:\n",
    "#\n",
    "# Sample Output:\n",
    "#\n",
    "# 231 372 513 654 795 936\n",
    "\n",
    "x = 99\n",
    "z = 999\n",
    "y = 47\n",
    "while x <=z:\n",
    "    if x % y == 43 and x % 3 == 0:\n",
    "        print(x, end = ' ')\n",
    "    x+=1"
   ],
   "metadata": {
    "collapsed": false,
    "pycharm": {
     "name": "#%%\n"
    }
   }
  },
  {
   "cell_type": "code",
   "execution_count": 5,
   "outputs": [
    {
     "name": "stdout",
     "output_type": "stream",
     "text": [
      "-2.9289682539682538\n"
     ]
    }
   ],
   "source": [
    "# s = 1/2 + 1/3 + 1/4 + 1/10+ ...+ 1/0\n",
    "s=0\n",
    "i= -10 # 10 штатно\n",
    "while i <100:\n",
    "    if i ==0:\n",
    "        break\n",
    "    s += 1/i\n",
    "    i +=1\n",
    "else:\n",
    "    print(\"штатно\")\n",
    "print(s)"
   ],
   "metadata": {
    "collapsed": false,
    "pycharm": {
     "name": "#%%\n"
    }
   }
  },
  {
   "cell_type": "code",
   "execution_count": 12,
   "outputs": [
    {
     "name": "stdout",
     "output_type": "stream",
     "text": [
      "0 1 1 0 0 1 0 1 0 1\n"
     ]
    }
   ],
   "source": [
    "# Подвиг 2. Имеется одномерный список длиной 10 элементов, состоящий из нулей:\n",
    "#\n",
    "# p = [0] * 10\n",
    "#\n",
    "# На каждой итерации цикла пользователь вводит целое число - индекс элемента списка p, по которому записывается значение 1, если ее там еще нет. Если же 1 уже проставлена, то список не менять и снова запросить у пользователя очередное число. Необходимо расставить так пять единиц в список. (После этого цикл прерывается).\n",
    "#\n",
    "# Программу реализовать с помощью цикла while и с использованием оператора continue, когда 1 не может быть добавлена в список. Результат вывести на экран в виде последовательности чисел, записанных через пробел.\n",
    "\n",
    "p = [0] * 10\n",
    "x = 0\n",
    "while x!=5 :\n",
    "    d = int(input())\n",
    "    if p[d] == 0:\n",
    "        p[d] = 1\n",
    "    else: continue\n",
    "    x +=1\n",
    "print(*p)"
   ],
   "metadata": {
    "collapsed": false,
    "pycharm": {
     "name": "#%%\n"
    }
   }
  },
  {
   "cell_type": "code",
   "execution_count": 12,
   "outputs": [],
   "source": [],
   "metadata": {
    "collapsed": false,
    "pycharm": {
     "name": "#%%\n"
    }
   }
  },
  {
   "cell_type": "code",
   "execution_count": 17,
   "outputs": [
    {
     "name": "stdout",
     "output_type": "stream",
     "text": [
      "84\n"
     ]
    }
   ],
   "source": [
    "# Подвиг 3. На каждой итерации цикла вводится целое число. Необходимо подсчитать произведение только положительных чисел, до тех пор, пока не будет введено значение 0. Реализовать пропуск вычислений с помощью оператора continue, а также использовать цикл while. Результат произведения вывести на экран.\n",
    "#\n",
    "# Sample Input:\n",
    "#\n",
    "# 2\n",
    "# -1\n",
    "# 3\n",
    "# 2\n",
    "# -5\n",
    "# 7\n",
    "# 0\n",
    "# Sample Output:\n",
    "#\n",
    "# 84\n",
    "\n",
    "s = 1\n",
    "d = 1\n",
    "\n",
    "while d != 0:\n",
    "    d = int(input())\n",
    "    if d <= 0:\n",
    "       continue\n",
    "\n",
    "    s *=d\n",
    "print(s)"
   ],
   "metadata": {
    "collapsed": false,
    "pycharm": {
     "name": "#%%\n"
    }
   }
  },
  {
   "cell_type": "code",
   "execution_count": 59,
   "outputs": [
    {
     "name": "stdout",
     "output_type": "stream",
     "text": [
      "1 больше 5 букв\n",
      "2 больше 5 букв\n",
      "3 больше 5 букв\n",
      "4 больше 5 букв\n"
     ]
    }
   ],
   "source": [
    "# Подвиг 4. Вводится список названий городов в одну строчку через пробел. Определить, что в этом списке все города имеют длину более 5 символов. Реализовать программу с использованием цикла while и оператора break. Вывести ДА, если условие выполняется и НЕТ - в противном случае.\n",
    "#\n",
    "# Sample Input:\n",
    "#\n",
    "# Самара Ульяновск Новгород Воронеж\n",
    "# Sample Output:\n",
    "#\n",
    "# ДА\n",
    "\n",
    "# a = list(input(). split())\n",
    "a = ['Самара', 'Ульяновск', 'Новгород', 'Воронеж']\n",
    "i = 0\n",
    "flfind = False\n",
    "while i != len(a):\n",
    "    if len(a[i]) > 5:\n",
    "        print(f\"{i+1} больше 5 букв\")\n",
    "    else:\n",
    "        print(f\"{i} < 5\")\n",
    "        break\n",
    "    i+=1"
   ],
   "metadata": {
    "collapsed": false,
    "pycharm": {
     "name": "#%%\n"
    }
   }
  },
  {
   "cell_type": "code",
   "execution_count": 67,
   "outputs": [],
   "source": [],
   "metadata": {
    "collapsed": false,
    "pycharm": {
     "name": "#%%\n"
    }
   }
  },
  {
   "cell_type": "code",
   "execution_count": 67,
   "outputs": [],
   "source": [],
   "metadata": {
    "collapsed": false,
    "pycharm": {
     "name": "#%%\n"
    }
   }
  },
  {
   "cell_type": "code",
   "execution_count": 4,
   "outputs": [
    {
     "name": "stdout",
     "output_type": "stream",
     "text": [
      "ДА\n"
     ]
    }
   ],
   "source": [
    "# lst = list(map(str, input().split()))\n",
    "lst = ['Самара', 'Ульяновск', 'Новгород', 'Воронеж']\n",
    "i = 0\n",
    "ans = 'ДА'\n",
    "while i < len(lst):\n",
    "    if len(lst[i]) < 6:\n",
    "        ans = 'HEТ'\n",
    "        break\n",
    "    else:\n",
    "        i += 1\n",
    "print(ans)"
   ],
   "metadata": {
    "collapsed": false,
    "pycharm": {
     "name": "#%%\n"
    }
   }
  },
  {
   "cell_type": "code",
   "execution_count": null,
   "outputs": [],
   "source": [],
   "metadata": {
    "collapsed": false,
    "pycharm": {
     "name": "#%%\n"
    }
   }
  },
  {
   "cell_type": "code",
   "execution_count": 31,
   "outputs": [
    {
     "name": "stdout",
     "output_type": "stream",
     "text": [
      "True\n"
     ]
    }
   ],
   "source": [
    "d=[1,5,3,6,0,-4]        # список\n",
    "flfind = False          # флажок\n",
    "i=0                     # итая\n",
    "while i<len(d):         # цикл будет идти пока итая меньше длины d\n",
    "    flfind = d[i]%2==0  # в списке d индекс кратен ДВУМ\n",
    "    if flfind:          #\n",
    "        break           # экстренно прервать\n",
    "    i+=1                # либо продолжить\n",
    "print(flfind)"
   ],
   "metadata": {
    "collapsed": false,
    "pycharm": {
     "name": "#%%\n"
    }
   }
  },
  {
   "cell_type": "code",
   "execution_count": 46,
   "outputs": [],
   "source": [],
   "metadata": {
    "collapsed": false,
    "pycharm": {
     "name": "#%%\n"
    }
   }
  },
  {
   "cell_type": "code",
   "execution_count": 9,
   "outputs": [
    {
     "name": "stdout",
     "output_type": "stream",
     "text": [
      "петр анна иван сергей михаил федор\n"
     ]
    }
   ],
   "source": [
    "# Подвиг 5. Вводится список имен студентов в одну строчку через пробел. Определить, что хотя бы одно имя в этом списке начинается и заканчивается на ту же самую букву (без учета регистра). Реализовать программу с использованием цикла while и оператора break. Вывести ДА, если условие выполняется и НЕТ - в противном случае.\n",
    "#\n",
    "# Sample Input:\n",
    "#\n",
    "# Петр Анна Иван Сергей Михаил Федор\n",
    "# Sample Output:\n",
    "#\n",
    "# ДА\n",
    "\n",
    "var = input(\"Enter the line\\n\")\n",
    "word_list = var.split(' ')\n",
    "word_list = [str(word).lower() for word in word_list]\n",
    "x=0\n",
    "while x!=len(word_list):\n",
    "\n",
    "    if word_list[x][0] == word_list[x][-1]:\n",
    "        print(\"Да\")\n",
    "        x+=1\n",
    "    else:\n",
    "        x+=1\n",
    "        continue\n",
    "    break"
   ],
   "metadata": {
    "collapsed": false,
    "pycharm": {
     "name": "#%%\n"
    }
   }
  },
  {
   "cell_type": "code",
   "execution_count": 48,
   "outputs": [],
   "source": [],
   "metadata": {
    "collapsed": false,
    "pycharm": {
     "name": "#%%\n"
    }
   }
  },
  {
   "cell_type": "code",
   "execution_count": 46,
   "outputs": [],
   "source": [],
   "metadata": {
    "collapsed": false,
    "pycharm": {
     "name": "#%%\n"
    }
   }
  },
  {
   "cell_type": "code",
   "execution_count": 48,
   "outputs": [
    {
     "name": "stdout",
     "output_type": "stream",
     "text": [
      "ДА\n"
     ]
    }
   ],
   "source": [
    "n = input().lower().split()\n",
    "t = 0\n",
    "while t != len(n):\n",
    "    if n[t][0] == n[t][-1]:\n",
    "        print('ДА')\n",
    "        break\n",
    "    t += 1\n",
    "else:\n",
    "    print('НЕТ')"
   ],
   "metadata": {
    "collapsed": false,
    "pycharm": {
     "name": "#%%\n"
    }
   }
  },
  {
   "cell_type": "code",
   "execution_count": 29,
   "outputs": [],
   "source": [],
   "metadata": {
    "collapsed": false,
    "pycharm": {
     "name": "#%%\n"
    }
   }
  },
  {
   "cell_type": "code",
   "execution_count": 96,
   "outputs": [
    {
     "name": "stdout",
     "output_type": "stream",
     "text": [
      "15 30 45 "
     ]
    }
   ],
   "source": [
    "# Подвиг 6. Вводится натуральное число n (то есть, целое положительное). В цикле перебрать все целые числа в интервале [1; n] и сформировать список из чисел, кратных 3 и 5 одновременно. Вывести полученную последовательность чисел в виде строки через пробел, если значение n меньше 100. Иначе вывести на экран сообщение \"слишком большое значение n\" (без кавычек). Использовать в программе оператор else после цикла while.\n",
    "#\n",
    "\n",
    "# n = int(input())\n",
    "n = 49\n",
    "y = 1\n",
    "if n >= 100:\n",
    "    print('слишком большое значение n')\n",
    "else:\n",
    "    while y<=n:\n",
    "        if y%3==0 and y%5==0:\n",
    "            print(y, end=' ')\n",
    "        y+=1\n"
   ],
   "metadata": {
    "collapsed": false,
    "pycharm": {
     "name": "#%%\n"
    }
   }
  },
  {
   "cell_type": "code",
   "execution_count": 85,
   "outputs": [],
   "source": [],
   "metadata": {
    "collapsed": false,
    "pycharm": {
     "name": "#%%\n"
    }
   }
  },
  {
   "cell_type": "code",
   "execution_count": 100,
   "outputs": [
    {
     "name": "stdout",
     "output_type": "stream",
     "text": [
      "4\n"
     ]
    }
   ],
   "source": [
    "# Подвиг 7. Вводится натуральное число n. Вывести первое найденное натуральное число (то есть, перебирать числа, начиная с 1), квадрат которого больше значения n. Реализовать программу с использованием цикла while.\n",
    "#\n",
    "# n = int(input())\n",
    "n = 10\n",
    "x = 1\n",
    "\n",
    "while x**2 <=n:\n",
    "    x+=1\n",
    "print(x)"
   ],
   "metadata": {
    "collapsed": false,
    "pycharm": {
     "name": "#%%\n"
    }
   }
  },
  {
   "cell_type": "code",
   "execution_count": null,
   "outputs": [],
   "source": [
    "# Подвиг 8. (На использование цикла while). Начав тренировки, лыжник в первый день пробежал 10 км. Каждый следующий день он увеличивал пробег на 10 % от пробега предыдущего дня. Определить в какой день он пробежит больше x км (натуральное число x вводится с клавиатуры). Результат (искомый день) вывести на экран.\n",
    "#\n",
    "\n",
    "\n",
    "x=int(input())\n",
    "first_km = 10\n",
    "d = 1\n",
    "while x > first_km:\n",
    "    first_km *= 1.1\n",
    "    d += 1\n",
    "print(d)"
   ],
   "metadata": {
    "collapsed": false,
    "pycharm": {
     "name": "#%%\n"
    }
   }
  },
  {
   "cell_type": "code",
   "execution_count": 101,
   "outputs": [],
   "source": [],
   "metadata": {
    "collapsed": false,
    "pycharm": {
     "name": "#%%\n"
    }
   }
  },
  {
   "cell_type": "code",
   "execution_count": 124,
   "outputs": [],
   "source": [
    "# Подвиг 9. (На использование цикла while). Вводятся названия книг (каждое с новой строки). Удалить из введенного списка все названия, состоящие из двух и более слов (слова в названиях разделяются пробелом). Результат вывести на экран в виде строки из оставшихся названий через пробел.\n",
    "#\n",
    "# P. S. Для считывания списка целиком в программе уже записаны начальные строчки\n",
    "#\n",
    "# Sample Input:\n",
    "#\n",
    "# Муму\n",
    "# Евгений Онегин\n",
    "# Сияние\n",
    "# Мастер и Маргарита\n",
    "# Пиковая дама\n",
    "# Колобок\n",
    "# Sample Output:\n",
    "#\n",
    "# Муму Сияние Колобок\n",
    "\n"
   ],
   "metadata": {
    "collapsed": false,
    "pycharm": {
     "name": "#%%\n"
    }
   }
  },
  {
   "cell_type": "code",
   "execution_count": 152,
   "outputs": [
    {
     "name": "stdout",
     "output_type": "stream",
     "text": [
      "Муму Сияние Колобок\n"
     ]
    }
   ],
   "source": [
    "import sys\n",
    "\n",
    "# считывание списка из входного потока\n",
    "\n",
    "# res = list(map(str.strip, sys.stdin.readlines()))\n",
    "\n",
    "res=['Муму', 'Евгений Онегин', 'Сияние', 'Мастер и Маргарита', 'Пиковая дама', 'Колобок']\n",
    "\n",
    "# здесь продолжайте программу (используйте список lst_in)\n",
    "\n",
    "i=0\n",
    "\n",
    "\n",
    "\n",
    "while i!=len(res):\n",
    "    if res[i].find(' ') != -1:\n",
    "\n",
    "        res.pop(i)\n",
    "        i=0\n",
    "    i+=1\n",
    "print(*res)"
   ],
   "metadata": {
    "collapsed": false,
    "pycharm": {
     "name": "#%%\n"
    }
   }
  },
  {
   "cell_type": "code",
   "execution_count": 152,
   "outputs": [],
   "source": [],
   "metadata": {
    "collapsed": false,
    "pycharm": {
     "name": "#%%\n"
    }
   }
  },
  {
   "cell_type": "code",
   "execution_count": 152,
   "outputs": [],
   "source": [],
   "metadata": {
    "collapsed": false,
    "pycharm": {
     "name": "#%%\n"
    }
   }
  },
  {
   "cell_type": "code",
   "execution_count": null,
   "outputs": [],
   "source": [],
   "metadata": {
    "collapsed": false,
    "pycharm": {
     "name": "#%%\n"
    }
   }
  }
 ],
 "metadata": {
  "kernelspec": {
   "display_name": "Python 3 (ipykernel)",
   "language": "python",
   "name": "python3"
  },
  "language_info": {
   "codemirror_mode": {
    "name": "ipython",
    "version": 3
   },
   "file_extension": ".py",
   "mimetype": "text/x-python",
   "name": "python",
   "nbconvert_exporter": "python",
   "pygments_lexer": "ipython3",
   "version": "3.10.8"
  }
 },
 "nbformat": 4,
 "nbformat_minor": 1
}