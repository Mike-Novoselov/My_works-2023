{
 "cells": [
  {
   "cell_type": "code",
   "execution_count": 1,
   "outputs": [],
   "source": [
    "a=1"
   ],
   "metadata": {
    "collapsed": false,
    "pycharm": {
     "name": "#%%\n"
    }
   }
  },
  {
   "cell_type": "code",
   "execution_count": 8,
   "outputs": [
    {
     "name": "stdout",
     "output_type": "stream",
     "text": [
      "[0, -1, -2, -3, -4]\n"
     ]
    }
   ],
   "source": [
    "x = list(range(0,-5,-1))\n",
    "print(x)"
   ],
   "metadata": {
    "collapsed": false,
    "pycharm": {
     "name": "#%%\n"
    }
   }
  },
  {
   "cell_type": "code",
   "execution_count": 9,
   "outputs": [
    {
     "name": "stdout",
     "output_type": "stream",
     "text": [
      "6.485470860550342\n"
     ]
    }
   ],
   "source": [
    "# s =1/2+1/3+1/4+...+1/1000\n",
    "\n",
    "s=0\n",
    "for i in range(2,1001):\n",
    "    s+=1/i\n",
    "print(s)"
   ],
   "metadata": {
    "collapsed": false,
    "pycharm": {
     "name": "#%%\n"
    }
   }
  },
  {
   "cell_type": "code",
   "execution_count": 10,
   "outputs": [
    {
     "name": "stdout",
     "output_type": "stream",
     "text": [
      "0 1 2 3 4 5 6 7 8 9 10\n"
     ]
    }
   ],
   "source": [
    "# Подвиг 1. С помощью функции range() сформируйте следующую последовательность чисел:\n",
    "#\n",
    "# 0, 1, 2, ..., 10\n",
    "#\n",
    "# Результат выведите в виде последовательности чисел, записанных через пробел в одну строчку.\n",
    "#\n",
    "# Sample Input:\n",
    "#\n",
    "# Sample Output:\n",
    "#\n",
    "# 0 1 2 3 4 5 6 7 8 9 10\n",
    "\n",
    "s = list(range(11))\n",
    "print(*s)"
   ],
   "metadata": {
    "collapsed": false,
    "pycharm": {
     "name": "#%%\n"
    }
   }
  },
  {
   "cell_type": "code",
   "execution_count": 13,
   "outputs": [
    {
     "name": "stdout",
     "output_type": "stream",
     "text": [
      "10 9 8 7 6 5 4 3 2 1 0\n"
     ]
    }
   ],
   "source": [
    "# Подвиг 2. С помощью функции range() сформируйте следующую последовательность чисел:\n",
    "#\n",
    "# 10, 9, 8, ..., 0\n",
    "#\n",
    "# Результат выведите в виде последовательности чисел, записанных через пробел в одну строчку.\n",
    "#\n",
    "# Sample Input:\n",
    "#\n",
    "# Sample Output:\n",
    "#\n",
    "# 10 9 8 7 6 5 4 3 2 1 0\n",
    "\n",
    "s = list(range(10,-1,-1))\n",
    "print(*s)"
   ],
   "metadata": {
    "collapsed": false,
    "pycharm": {
     "name": "#%%\n"
    }
   }
  },
  {
   "cell_type": "code",
   "execution_count": 22,
   "outputs": [
    {
     "name": "stdout",
     "output_type": "stream",
     "text": [
      "-10 -8 -6 -4 -2\n"
     ]
    }
   ],
   "source": [
    "# Подвиг 3. С помощью функции range() сформируйте следующую последовательность чисел:\n",
    "#\n",
    "# -10, -8, -6, -4, -2\n",
    "#\n",
    "# Результат выведите в виде последовательности чисел, записанных через пробел в одну строчку.\n",
    "#\n",
    "# Sample Input:\n",
    "#\n",
    "# Sample Output:\n",
    "#\n",
    "# -10 -8 -6 -4 -2\n",
    "\n",
    "s = list(range(-10,0,2))\n",
    "print(*s)"
   ],
   "metadata": {
    "collapsed": false,
    "pycharm": {
     "name": "#%%\n"
    }
   }
  },
  {
   "cell_type": "code",
   "execution_count": 24,
   "outputs": [
    {
     "name": "stdout",
     "output_type": "stream",
     "text": [
      "1 4 7 10 13 16 19\n"
     ]
    }
   ],
   "source": [
    "# Подвиг 4. С помощью функции range() сформируйте следующую последовательность чисел:\n",
    "#\n",
    "# 1, 4, 7, 10, 13, 16, 19\n",
    "#\n",
    "# Результат выведите в виде последовательности чисел, записанных через пробел в одну строчку.\n",
    "#\n",
    "# Sample Input:\n",
    "#\n",
    "# Sample Output:\n",
    "#\n",
    "# 1 4 7 10 13 16 19\n",
    "\n",
    "s = list(range(1,20,3))\n",
    "print(*s)"
   ],
   "metadata": {
    "collapsed": false,
    "pycharm": {
     "name": "#%%\n"
    }
   }
  },
  {
   "cell_type": "code",
   "execution_count": 76,
   "outputs": [
    {
     "name": "stdout",
     "output_type": "stream",
     "text": [
      "50\n"
     ]
    }
   ],
   "source": [
    "# Подвиг 5. Вводятся целые числа в одну строчку через пробел. Необходимо преобразовать эти данные в список целых чисел. Затем, перебрать этот список в цикле for и просуммировать все нечетные значения. Результат вывести на экран.\n",
    "#\n",
    "# Sample Input:\n",
    "#\n",
    "# 8 11 -2 4 0 13 19 12 7\n",
    "# Sample Output:\n",
    "#\n",
    "# 50\n",
    "\n",
    "lst = list(map(int, input().split()))\n",
    "x=0 # []\n",
    "s=0 # sum\n",
    "for x in range(len(lst)):                                                               # !!!!!!!!!  ВАЖНО\n",
    "    if lst[x]%2!=0:\n",
    "        s+=lst[x]\n",
    "    # else:\n",
    "    #     continue\n",
    "\n",
    "    x+=1\n",
    "print(s)"
   ],
   "metadata": {
    "collapsed": false,
    "pycharm": {
     "name": "#%%\n"
    }
   }
  },
  {
   "cell_type": "code",
   "execution_count": 102,
   "outputs": [
    {
     "name": "stdout",
     "output_type": "stream",
     "text": [
      "6 3 9 5 5 6\n"
     ]
    }
   ],
   "source": [
    "# Подвиг 6. Вводятся названия городов в одну строчку через пробел. Необходимо преобразовать входные данные в список. Затем, перебрать его циклом for и заменить значения элементов на длину названия соответствующего города. Результат вывести на экран в виде последовательности чисел через пробел в одну строчку.\n",
    "#\n",
    "# Sample Input:\n",
    "#\n",
    "# Москва Уфа Караганда Тверь Минск Казань\n",
    "# Sample Output:\n",
    "#\n",
    "# 6 3 9 5 5 6\n",
    "\n",
    "City=list(input().split())\n",
    "y=0\n",
    "for z in range(len(City)):\n",
    "    City[y]=len(City[y])\n",
    "    # print(City)\n",
    "    y+=1\n",
    "print(*City)"
   ],
   "metadata": {
    "collapsed": false,
    "pycharm": {
     "name": "#%%\n"
    }
   }
  },
  {
   "cell_type": "code",
   "execution_count": 132,
   "outputs": [
    {
     "name": "stdout",
     "output_type": "stream",
     "text": [
      "1\n",
      "2\n",
      "3\n",
      "4\n",
      "6\n",
      "12\n"
     ]
    }
   ],
   "source": [
    "# Подвиг 7. Вводится натуральное число n. С помощью цикла for найти все делители этого числа. Найденные делители выводить сразу в столбик без формирования списка.\n",
    "#\n",
    "# Sample Input:\n",
    "#\n",
    "# 12\n",
    "# Sample Output:\n",
    "#\n",
    "# 1\n",
    "# 2\n",
    "# 3\n",
    "# 4\n",
    "# 6\n",
    "# 12\n",
    "\n",
    "n=int(input())\n",
    "for i in range (1,n+1):\n",
    "    if n%i == 0:\n",
    "        print(i)"
   ],
   "metadata": {
    "collapsed": false,
    "pycharm": {
     "name": "#%%\n"
    }
   }
  },
  {
   "cell_type": "code",
   "execution_count": 133,
   "outputs": [
    {
     "name": "stdout",
     "output_type": "stream",
     "text": [
      "ДА\n"
     ]
    }
   ],
   "source": [
    "n=11\n",
    "# n = int(input())\n",
    "key = False\n",
    "for i in range(2, n, 1):\n",
    "    if n % i == 0:\n",
    "        key = True\n",
    "if key:\n",
    "    print('НЕТ')\n",
    "else:\n",
    "    print('ДА')"
   ],
   "metadata": {
    "collapsed": false,
    "pycharm": {
     "name": "#%%\n"
    }
   }
  },
  {
   "cell_type": "code",
   "execution_count": 149,
   "outputs": [
    {
     "name": "stdout",
     "output_type": "stream",
     "text": [
      "ДА\n"
     ]
    }
   ],
   "source": [
    "# Подвиг 9. Вводится список названий городов в одну строчку через пробел. Перебрать все эти названия с помощью цикла for и определить, начинается ли название следующего города на последнюю букву предыдущего города в списке. Если последними встречаются буквы 'ь', 'ъ', 'ы', то берется следующая с конца буква. Вывести на экран ДА, если последовательность удовлетворяет этому правилу и НЕТ - в противном случае.\n",
    "#\n",
    "# Sample Input:\n",
    "#\n",
    "# Москва Астрахань Новгород Димитровград Душанбе\n",
    "# Sample Output:\n",
    "#\n",
    "# ДА\n",
    "\n",
    "lst = list(map(str, input().lower().split()))\n",
    "key = \"ДА\"\n",
    "for i in range(len(lst)-1):\n",
    "    if lst[i][-1] == \"ь\" or lst[i][-1] == \"ъ\" or lst[i][-1] == \"ы\":\n",
    "        if lst[i+1][0] != lst[i][-2]:\n",
    "            key = \"НЕТ \"\n",
    "            break\n",
    "    else:\n",
    "        if lst[i+1][0] != lst[i][-1]:\n",
    "            key = \"НЕТ \"\n",
    "            break\n",
    "print(key)"
   ],
   "metadata": {
    "collapsed": false,
    "pycharm": {
     "name": "#%%\n"
    }
   }
  },
  {
   "cell_type": "code",
   "execution_count": 2,
   "outputs": [
    {
     "name": "stdout",
     "output_type": "stream",
     "text": [
      "98\n"
     ]
    }
   ],
   "source": [
    "# Подвиг 10. Вводится натуральное число n. Вычислить сумму всех натуральных чисел меньше n, которые кратны или 3 или 5. Результат (сумму) вывести на экран. Пример: n = 10, имеем числа: 3, 5, 6, 9. Их сумма равна 23.\n",
    "#\n",
    "# Sample Input:\n",
    "#\n",
    "# 21\n",
    "# Sample Output:\n",
    "#\n",
    "# 98\n",
    "\n",
    "# n=int(input())\n",
    "n=21\n",
    "s=0\n",
    "for i in range(1,n):\n",
    "    if i%3==0 or i%5==0:\n",
    "        s+=i\n",
    "print(s)\n"
   ],
   "metadata": {
    "collapsed": false,
    "pycharm": {
     "name": "#%%\n"
    }
   }
  },
  {
   "cell_type": "code",
   "execution_count": 3,
   "outputs": [
    {
     "data": {
      "text/plain": "10"
     },
     "execution_count": 3,
     "metadata": {},
     "output_type": "execute_result"
    }
   ],
   "source": [
    "abs(-10)"
   ],
   "metadata": {
    "collapsed": false,
    "pycharm": {
     "name": "#%%\n"
    }
   }
  },
  {
   "cell_type": "code",
   "execution_count": 162,
   "outputs": [],
   "source": [],
   "metadata": {
    "collapsed": false,
    "pycharm": {
     "name": "#%%\n"
    }
   }
  },
  {
   "cell_type": "code",
   "execution_count": null,
   "outputs": [],
   "source": [
    "# Вводится строка. Необходимо найти все индексы фрагмента \"ра\" во введенной строке. Вывести в строку через пробелы найденные индексы. Если этот фрагмент ни разу не будет найден, то вывести значение -1.\n",
    "#\n",
    "# Sample Input:\n",
    "#\n",
    "# Барабанщик бил бой в барабан\n",
    "# Sample Output:\n",
    "#\n",
    "# 2 23\n",
    "\n",
    "s = input()  # ввод строки\n",
    "\n",
    "indices = []  # список для хранения индексов\n",
    "\n",
    "for i in range(len(s)-1):  # перебираем символы в строке, кроме последнего\n",
    "    if s[i:i+2] == \"ра\":  # если найден фрагмент \"ра\"\n",
    "        indices.append(str(i))  # добавляем индекс в список\n",
    "\n",
    "if indices:  # если список не пустой\n",
    "    print(\" \".join(indices))  # выводим через пробел индексы\n",
    "else:\n",
    "    print(\"-1\")  # иначе выводим -1\n"
   ],
   "metadata": {
    "collapsed": false,
    "pycharm": {
     "name": "#%%\n"
    }
   }
  },
  {
   "cell_type": "code",
   "execution_count": null,
   "outputs": [],
   "source": [
    "s = input()  # ввод строки\n",
    "\n",
    "indices = []  # список для хранения индексов\n",
    "\n",
    "for i, c in enumerate(s[:-1]):  # перебираем символы в строке, кроме последнего, и их индексы\n",
    "    if s[i:i+2] == \"ра\":  # если найден фрагмент \"ра\"\n",
    "        indices.append(str(i))  # добавляем индекс в список\n",
    "\n",
    "if indices:  # если список не пустой\n",
    "    print(\" \".join(indices))  # выводим через пробел индексы\n",
    "else:\n",
    "    print(\"-1\")"
   ],
   "metadata": {
    "collapsed": false,
    "pycharm": {
     "name": "#%%\n"
    }
   }
  },
  {
   "cell_type": "code",
   "execution_count": null,
   "outputs": [],
   "source": [],
   "metadata": {
    "collapsed": false,
    "pycharm": {
     "name": "#%%\n"
    }
   }
  },
  {
   "cell_type": "code",
   "execution_count": null,
   "outputs": [],
   "source": [
    "# Вводится строка с номером телефона. Ожидается формат ввода:\n",
    "#\n",
    "# +7(xxx)xxx-xx-xx\n",
    "#\n",
    "# где x - это цифра. Размер введенных символов считается верным (то есть, не может быть, чтобы отсутствовала какая-либо цифра или была лишняя). Необходимо проверить, что введенная строка соответствует этому формату. Вывести ДА, если соответствует и НЕТ - в противном случае.\n",
    "#\n",
    "# Sample Input:\n",
    "#\n",
    "# +7(123)456-78-99\n",
    "# Sample Output:\n",
    "#\n",
    "# ДА\n",
    "\n",
    "input_str = input()  # читаем строку с телефонным номером\n",
    "\n",
    "expected_format = \"+7(xxx)xxx-xx-xx\"\n",
    "if len(input_str) != len(expected_format):\n",
    "    print(\"НЕТ\")\n",
    "else:\n",
    "    for i, expected_char in enumerate(expected_format):\n",
    "        if expected_char == \"x\":\n",
    "            if not input_str[i].isdigit():\n",
    "                print(\"НЕТ\")\n",
    "                break\n",
    "        elif input_str[i] != expected_char:\n",
    "            print(\"НЕТ\")\n",
    "            break\n",
    "    else:\n",
    "        print(\"ДА\")\n"
   ],
   "metadata": {
    "collapsed": false,
    "pycharm": {
     "name": "#%%\n"
    }
   }
  },
  {
   "cell_type": "code",
   "execution_count": null,
   "outputs": [],
   "source": [],
   "metadata": {
    "collapsed": false,
    "pycharm": {
     "name": "#%%\n"
    }
   }
  },
  {
   "cell_type": "code",
   "execution_count": 15,
   "outputs": [],
   "source": [
    "# Большой подвиг 3. В виде строки записано арифметическое выражение, например:\n",
    "#\n",
    "# \"10 + 25 - 12\"\n",
    "#\n",
    "# или\n",
    "#\n",
    "# \"10 + 25 - 12 + 20 - 1 + 3\"\n",
    "#\n",
    "# и т. д. То есть, количество действий может быть разным.\n",
    "#\n",
    "# Необходимо выполнить вычисление и результат отобразить на экране. Полагается, что в качестве арифметических операций здесь используется только сложение (+) и вычитание (-), а в качестве операндов - целые неотрицательные числа. Следует учесть, что эти операторы могут быть записаны как с пробелами, так и без них.\n",
    "#\n",
    "# Sample Input:\n",
    "#\n",
    "# 10+25 - 12\n",
    "# Sample Output:\n",
    "#\n",
    "# 23\n",
    "\n",
    "input_str = input()  # читаем строку с арифметическим выражением\n",
    "\n",
    "result = 0\n",
    "current_number = 0\n",
    "current_operator = \"+\"\n",
    "\n",
    "for i, char in enumerate(input_str):\n",
    "    if char.isdigit():\n",
    "        current_number = current_number * 10 + int(char)\n",
    "    elif char in (\"+\", \"-\"):\n",
    "        if current_operator == \"+\":\n",
    "            result += current_number\n",
    "        elif current_operator == \"-\":\n",
    "            result -= current_number\n",
    "        current_number = 0\n",
    "        current_operator = char\n",
    "    elif char == \" \":\n",
    "        continue\n",
    "    else:\n",
    "        print(\"Ошибка в выражении!\")\n",
    "        break\n",
    "\n",
    "if current_operator == \"+\":\n",
    "    result += current_number\n",
    "elif current_operator == \"-\":\n",
    "    result -= current_number\n",
    "\n",
    "print(result)\n"
   ],
   "metadata": {
    "collapsed": false,
    "pycharm": {
     "name": "#%%\n"
    }
   }
  },
  {
   "cell_type": "code",
   "execution_count": null,
   "outputs": [],
   "source": [],
   "metadata": {
    "collapsed": false,
    "pycharm": {
     "name": "#%%\n"
    }
   }
  },
  {
   "cell_type": "code",
   "execution_count": 1,
   "outputs": [],
   "source": [
    "# Подвиг 4. Вводится список в виде целых чисел в одну строку через пробел. Необходимо сначала сформировать список на основе введенной строки, а затем, каждое значение этого списка изменить, возведя в квадрат. Отобразить результат на экране в виде строки полученных чисел, записанных через пробел. Программу следует реализовать с использованием функции enumerate.\n",
    "#\n",
    "# Sample Input:\n",
    "#\n",
    "# 8 -11 4 3 6\n",
    "# Sample Output:\n",
    "#\n",
    "# 64 121 16 9 36\n",
    "\n",
    "lst = list(map(int, input().split()))"
   ],
   "metadata": {
    "collapsed": false,
    "pycharm": {
     "name": "#%%\n"
    }
   }
  },
  {
   "cell_type": "code",
   "execution_count": 11,
   "outputs": [
    {
     "name": "stdout",
     "output_type": "stream",
     "text": [
      "64 121 16 9 36\n"
     ]
    }
   ],
   "source": [
    "s=[]\n",
    "for i in range(len(lst)):\n",
    "    i= abs(lst[i]**2)\n",
    "    s.append(i)\n",
    "print(*s)"
   ],
   "metadata": {
    "collapsed": false,
    "pycharm": {
     "name": "#%%\n"
    }
   }
  },
  {
   "cell_type": "code",
   "execution_count": 11,
   "outputs": [],
   "source": [],
   "metadata": {
    "collapsed": false,
    "pycharm": {
     "name": "#%%\n"
    }
   }
  },
  {
   "cell_type": "code",
   "execution_count": 33,
   "outputs": [
    {
     "name": "stdout",
     "output_type": "stream",
     "text": [
      "8 8 11 11 2 2\n"
     ]
    }
   ],
   "source": [
    "# Подвиг 5. Вводится список в виде целых чисел в одну строку через пробел. Сначала нужно сформировать список из введенной строки. Затем, каждый элемент этого списка продублировать один раз. Результат отобразить на экране в виде строки полученных чисел, записанных через пробел.\n",
    "#\n",
    "# Sample Input:\n",
    "#\n",
    "# 8 11 2\n",
    "# Sample Output:\n",
    "#\n",
    "# 8 8 11 11 2 2\n",
    "\n",
    "# lst = list(map(int, input().split()))\n",
    "lst = [8,11,2]\n",
    "lst2=[]\n",
    "for i in range(len(lst)):\n",
    "    lst2.append(lst[i])\n",
    "    lst2.append(lst[i])\n",
    "print(*lst2)"
   ],
   "metadata": {
    "collapsed": false,
    "pycharm": {
     "name": "#%%\n"
    }
   }
  },
  {
   "cell_type": "code",
   "execution_count": 33,
   "outputs": [],
   "source": [],
   "metadata": {
    "collapsed": false,
    "pycharm": {
     "name": "#%%\n"
    }
   }
  },
  {
   "cell_type": "code",
   "execution_count": 49,
   "outputs": [],
   "source": [
    "# Подвиг 6. Вводится список в виде вещественных чисел в одну строку через пробел. С помощью цикла for необходимо найти наименьшее значение в этом списке. Полученный результат вывести на экран.  Реализовать программу без использования функции min, max и сортировки.\n",
    "#\n",
    "# Sample Input:\n",
    "#\n",
    "# 8.6 9.11 -4.567 -10.0 1.45\n",
    "# Sample Output:\n",
    "#\n",
    "# -10.0\n",
    "\n",
    "# lst = list(map(int, input().split()))\n",
    "lst = [8.6,9.11,-4.567,-10.0,1.45]\n",
    "# x=0\n",
    "# y=0\n",
    "for i in range(len(lst)):\n",
    "    if lst[0] > lst[1]:\n",
    "        lst.pop(i)\n",
    "        # x+=1\n",
    "    else:\n",
    "        continue"
   ],
   "metadata": {
    "collapsed": false,
    "pycharm": {
     "name": "#%%\n"
    }
   }
  },
  {
   "cell_type": "code",
   "execution_count": 53,
   "outputs": [
    {
     "name": "stdout",
     "output_type": "stream",
     "text": [
      "-10.0\n"
     ]
    }
   ],
   "source": [
    "numbers = input().split()  # читаем список чисел                                                        GPT !\n",
    "minimum = float(numbers[0])  # начальное значение минимума\n",
    "\n",
    "# проходим по оставшимся числам в списке\n",
    "for i in range(1, len(numbers)):\n",
    "    if float(numbers[i]) < minimum:  # если текущее число меньше минимума\n",
    "        minimum = float(numbers[i])  # обновляем значение минимума\n",
    "\n",
    "print(minimum)  # выводим результат\n"
   ],
   "metadata": {
    "collapsed": false,
    "pycharm": {
     "name": "#%%\n"
    }
   }
  },
  {
   "cell_type": "code",
   "execution_count": 61,
   "outputs": [
    {
     "name": "stdout",
     "output_type": "stream",
     "text": [
      "True\n",
      "9.11\n",
      "9.11\n"
     ]
    }
   ],
   "source": [
    "print(float(numbers[1]) > minimum)\n",
    "print(numbers[1])\n",
    "print(float(numbers[1]))\n"
   ],
   "metadata": {
    "collapsed": false,
    "pycharm": {
     "name": "#%%\n"
    }
   }
  },
  {
   "cell_type": "code",
   "execution_count": 62,
   "outputs": [],
   "source": [],
   "metadata": {
    "collapsed": false,
    "pycharm": {
     "name": "#%%\n"
    }
   }
  },
  {
   "cell_type": "code",
   "execution_count": 66,
   "outputs": [
    {
     "name": "stdout",
     "output_type": "stream",
     "text": [
      "-1.0 3.5 6.89 -1.0\n"
     ]
    }
   ],
   "source": [
    "# Подвиг 7. Вводится список в виде вещественных чисел в одну строку через пробел. Сначала нужно сформировать список из введенной строки. Затем, все отрицательные значения в этом списке заменить на -1.0. Результат вывести на экран в виде строки чисел через пробел. Программу следует реализовать с использованием функции enumerate.\n",
    "#\n",
    "# Sample Input:\n",
    "#\n",
    "# -5.67 3.5 6.89 -3.0\n",
    "# Sample Output:\n",
    "#\n",
    "# -1.0 3.5 6.89 -1.0\n",
    "\n",
    "\n",
    "lst = [-5.67,3.5,6.89,-3.0]\n",
    "# lst = input().split()\n",
    "\n",
    "for i in range(len(lst)):\n",
    "    if float(lst[i]) < 0:\n",
    "        lst[i] = -1.0\n",
    "print(*lst)"
   ],
   "metadata": {
    "collapsed": false,
    "pycharm": {
     "name": "#%%\n"
    }
   }
  },
  {
   "cell_type": "code",
   "execution_count": 68,
   "outputs": [
    {
     "name": "stdout",
     "output_type": "stream",
     "text": [
      "0 индекс -5.67\n",
      "1 индекс 3.5\n",
      "2 индекс 6.89\n",
      "3 индекс -3.0\n"
     ]
    }
   ],
   "source": [
    "x = [-5.67,3.5,6.89,-3.0]\n",
    "for i, z in enumerate (x):\n",
    "    print(f'{i} индекс {z}')"
   ],
   "metadata": {
    "collapsed": false,
    "pycharm": {
     "name": "#%%\n"
    }
   }
  },
  {
   "cell_type": "code",
   "execution_count": 30,
   "outputs": [],
   "source": [
    "x = [-5.67,3.5,6.89,-3.0]   # задаем спискр\n",
    "z=iter(x) # присваеваем переменой z итерацию по x\n",
    "\n"
   ],
   "metadata": {
    "collapsed": false,
    "pycharm": {
     "name": "#%%\n"
    }
   }
  },
  {
   "cell_type": "code",
   "execution_count": 31,
   "outputs": [
    {
     "data": {
      "text/plain": "-5.67"
     },
     "execution_count": 31,
     "metadata": {},
     "output_type": "execute_result"
    }
   ],
   "source": [
    "next(z) # вызываем метод некст для итерируемого обьекта z. каждый раз получаем следующее число по индексу"
   ],
   "metadata": {
    "collapsed": false,
    "pycharm": {
     "name": "#%%\n"
    }
   }
  },
  {
   "cell_type": "code",
   "execution_count": 27,
   "outputs": [],
   "source": [],
   "metadata": {
    "collapsed": false,
    "pycharm": {
     "name": "#%%\n"
    }
   }
  },
  {
   "cell_type": "code",
   "execution_count": 51,
   "outputs": [],
   "source": [
    "# Подвиг 2. Вводится список городов в одну строчку через пробел. Необходимо создать итератор для этого списка и с помощью итератора вывести на экран в столбик первые два значения (названия городов).\n",
    "#\n",
    "# Sample Input:\n",
    "#\n",
    "# Москва Лондон Берлин Пекин\n",
    "# Sample Output:\n",
    "#\n",
    "# Москва\n",
    "# Лондон"
   ],
   "metadata": {
    "collapsed": false,
    "pycharm": {
     "name": "#%%\n"
    }
   }
  },
  {
   "cell_type": "code",
   "execution_count": 52,
   "outputs": [],
   "source": [
    "city = input().split()\n",
    "z= iter(city)\n",
    "print(next(iter(z)))\n",
    "print(next(iter(z)))"
   ],
   "metadata": {
    "collapsed": false,
    "pycharm": {
     "name": "#%%\n"
    }
   }
  },
  {
   "cell_type": "code",
   "execution_count": 53,
   "outputs": [],
   "source": [],
   "metadata": {
    "collapsed": false,
    "pycharm": {
     "name": "#%%\n"
    }
   }
  },
  {
   "cell_type": "code",
   "execution_count": 55,
   "outputs": [],
   "source": [
    "# Подвиг 3. Вводится строка. Нужно создать итератор для перебора символов этой строки. Затем, перебрать через созданный итератор все символы до первого пробела. В процессе перебора символы выводить на экран в одну строчку друг за другом (без пробелов). Гарантируется, что во введенной строке имеется хотя бы один пробел.\n",
    "#\n",
    "# Sample Input:\n",
    "#\n",
    "# Возможно-это будет полезно\n",
    "# Sample Output:\n",
    "#\n",
    "# Возможно-это\n",
    "\n",
    "text = input().split()\n",
    "it=iter(text)\n",
    "print(next(it))"
   ],
   "metadata": {
    "collapsed": false,
    "pycharm": {
     "name": "#%%\n"
    }
   }
  },
  {
   "cell_type": "code",
   "execution_count": 58,
   "outputs": [],
   "source": [],
   "metadata": {
    "collapsed": false,
    "pycharm": {
     "name": "#%%\n"
    }
   }
  },
  {
   "cell_type": "code",
   "execution_count": 85,
   "outputs": [
    {
     "name": "stdout",
     "output_type": "stream",
     "text": [
      "4 3 8 7\n"
     ]
    }
   ],
   "source": [
    "# Подвиг 4. Вводится четырехзначное целое положительное число. Подумайте, как можно определить итератор для перебора его цифр. Выведите цифры этого введенного числа (с помощью итератора) в одну строчку через пробел.\n",
    "#\n",
    "# Sample Input:\n",
    "#\n",
    "# 4387\n",
    "# Sample Output:\n",
    "#\n",
    "# 4 3 8 7\n",
    "\n",
    "x= (\" \".join(input()))\n",
    "print(x)"
   ],
   "metadata": {
    "collapsed": false,
    "pycharm": {
     "name": "#%%\n"
    }
   }
  },
  {
   "cell_type": "code",
   "execution_count": 86,
   "outputs": [
    {
     "name": "stdout",
     "output_type": "stream",
     "text": [
      "4 3 8 7\n"
     ]
    }
   ],
   "source": [
    "print(*iter(input()))"
   ],
   "metadata": {
    "collapsed": false,
    "pycharm": {
     "name": "#%%\n"
    }
   }
  },
  {
   "cell_type": "code",
   "execution_count": 1,
   "outputs": [
    {
     "ename": "IndentationError",
     "evalue": "unexpected indent (1516560765.py, line 15)",
     "output_type": "error",
     "traceback": [
      "\u001B[1;36m  Cell \u001B[1;32mIn [1], line 15\u001B[1;36m\u001B[0m\n\u001B[1;33m    n = int(input())\u001B[0m\n\u001B[1;37m    ^\u001B[0m\n\u001B[1;31mIndentationError\u001B[0m\u001B[1;31m:\u001B[0m unexpected indent\n"
     ]
    }
   ],
   "source": [
    "# Подвиг 1. Вводится натуральное число N (то есть, положительное, целое). Требуется создать двумерный (вложенный) список размером N x N элементов, состоящий из всех единиц, а затем, в последний столбец записать пятерки. Вывести этот список на экран в виде таблицы чисел, как показано в примере ниже.\n",
    "#\n",
    "# P.S. Будьте внимательны в конце строк пробелов быть не должно!\n",
    "#\n",
    "# Sample Input:\n",
    "#\n",
    "# 4\n",
    "# Sample Output:\n",
    "#\n",
    "# 1 1 1 5\n",
    "# 1 1 1 5\n",
    "# 1 1 1 5\n",
    "# 1 1 1 5\n",
    "\n",
    "n=int(input())\n",
    "\n",
    "for i in range(n+1):\n"
   ],
   "metadata": {
    "collapsed": false,
    "pycharm": {
     "name": "#%%\n"
    }
   }
  },
  {
   "cell_type": "code",
   "execution_count": 1,
   "outputs": [
    {
     "name": "stdout",
     "output_type": "stream",
     "text": [
      "1 1 1 1\n"
     ]
    }
   ],
   "source": [
    "r=[]\n",
    "for i in range(1):\n",
    "    for j in range(4):\n",
    "        r.append(1)\n",
    "\n",
    "    print(*r)"
   ],
   "metadata": {
    "collapsed": false,
    "pycharm": {
     "name": "#%%\n"
    }
   }
  },
  {
   "cell_type": "code",
   "execution_count": 6,
   "outputs": [
    {
     "name": "stdout",
     "output_type": "stream",
     "text": [
      "1 1 1 5 1 1 1 5 1 1 1 5 1 1 1 5\n"
     ]
    }
   ],
   "source": [
    "n=int(input())\n",
    "r=[]\n",
    "for x in range(n):\n",
    "    for i in range(1):\n",
    "        for j in range(4):\n",
    "            r.append(1)\n",
    "    r[-1]=5\n",
    "\n",
    "print(*r)\n"
   ],
   "metadata": {
    "collapsed": false,
    "pycharm": {
     "name": "#%%\n"
    }
   }
  },
  {
   "cell_type": "code",
   "execution_count": 5,
   "outputs": [
    {
     "name": "stdout",
     "output_type": "stream",
     "text": [
      "1 1 1 5\n",
      "1 1 1 5\n",
      "1 1 1 5\n",
      "1 1 1 5\n"
     ]
    }
   ],
   "source": [
    "n=int(input())\n",
    "N = []\n",
    "for i in range(n):\n",
    "    N.append([1] * n)\n",
    "    if N[i][-1] == 1:\n",
    "        N[i][-1] = 5\n",
    "    print(*N[i])"
   ],
   "metadata": {
    "collapsed": false,
    "pycharm": {
     "name": "#%%\n"
    }
   }
  },
  {
   "cell_type": "code",
   "execution_count": 10,
   "outputs": [],
   "source": [
    "# Подвиг 2. Вводится список из URL-адресов (каждый с новой строки). Требуется в них заменить все пробелы на символ дефиса (-). Следует учесть, что может быть несколько подряд идущих пробелов. Результат преобразования вывести на экран в виде строк из URL-адресов.\n",
    "#\n",
    "# P. S. Для считывания списка целиком в программе уже записаны начальные строчки.\n",
    "#\n",
    "# Sample Input:\n",
    "#\n",
    "# django chto  eto takoe    poryadok ustanovki\n",
    "# model mtv   marshrutizaciya funkcii  predstavleniya\n",
    "# marshrutizaciya  obrabotka isklyucheniy       zaprosov perenapravleniya\n",
    "# Sample Output:\n",
    "#\n",
    "# django-chto-eto-takoe-poryadok-ustanovki\n",
    "# model-mtv-marshrutizaciya-funkcii-predstavleniya\n",
    "# marshrutizaciya-obrabotka-isklyucheniy-zaprosov-perenapravleniya\n",
    "\n",
    "import sys\n",
    "\n",
    "# считывание списка из входного потока\n",
    "lst_in = list(map(str.strip, sys.stdin.readlines()))\n",
    "\n",
    "# здесь продолжайте программу (используйте список lst_in)"
   ],
   "metadata": {
    "collapsed": false,
    "pycharm": {
     "name": "#%%\n"
    }
   }
  },
  {
   "cell_type": "code",
   "execution_count": 16,
   "outputs": [],
   "source": [
    "lst_in = ['django chto  eto takoe    poryadok ustanovki', 'model mtv   marshrutizaciya funkcii  predstavleniya', 'marshrutizaciya  obrabotka isklyucheniy       zaprosov perenapravleniya']"
   ],
   "metadata": {
    "collapsed": false,
    "pycharm": {
     "name": "#%%\n"
    }
   }
  },
  {
   "cell_type": "code",
   "execution_count": 25,
   "outputs": [
    {
     "name": "stdout",
     "output_type": "stream",
     "text": [
      "django-chto-eto-takoe-poryadok-ustanovki\n",
      "model-mtv-marshrutizaciya-funkcii-predstavleniya\n",
      "marshrutizaciya-obrabotka-isklyucheniy-zaprosov-perenapravleniya\n"
     ]
    }
   ],
   "source": [
    "lst_in = ['django chto  eto takoe    poryadok ustanovki', 'model mtv   marshrutizaciya funkcii  predstavleniya', 'marshrutizaciya  obrabotka isklyucheniy       zaprosov perenapravleniya']\n",
    "\n",
    "lst_out = []  # создаем пустой список для хранения результатов\n",
    "\n",
    "for s in lst_in:  # перебираем все строки из исходного списка\n",
    "    s = \"-\".join(s.split())  # заменяем все пробелы на одно тире\n",
    "    lst_out.append(s)  # добавляем результат в новый список\n",
    "\n",
    "for s in lst_out:  # выводим каждую строку списка на отдельной строке\n",
    "    print(s)"
   ],
   "metadata": {
    "collapsed": false,
    "pycharm": {
     "name": "#%%\n"
    }
   }
  },
  {
   "cell_type": "code",
   "execution_count": 1,
   "outputs": [],
   "source": [],
   "metadata": {
    "collapsed": false,
    "pycharm": {
     "name": "#%%\n"
    }
   }
  },
  {
   "cell_type": "code",
   "execution_count": 3,
   "outputs": [
    {
     "name": "stdout",
     "output_type": "stream",
     "text": [
      "2 3 5 7 "
     ]
    }
   ],
   "source": [
    "# Подвиг 3. Вводится натуральное число n. Необходимо найти все простые числа, которые меньше этого числа n, то есть, в диапазоне [2; n). Результат вывести на экран в строчку через пробел.\n",
    "#\n",
    "# Sample Input:\n",
    "#\n",
    "# 11\n",
    "# Sample Output:\n",
    "#\n",
    "# 2 3 5 7\n",
    "#\n",
    "# def is_prime(a):\n",
    "#     if a % 2 == 0:\n",
    "#         return a == 2\n",
    "#     d = 3\n",
    "#     while d * d <= a and a % d != 0:\n",
    "#         d += 2\n",
    "#     return d * d > a\n",
    "# print(is_prime(int(input(\"Enter a number: \"))))\n",
    "\n",
    "n = int(input())\n",
    "\n",
    "# Создаем список из n элементов, заполненный значениями True\n",
    "is_prime = [True] * n\n",
    "\n",
    "# 0 и 1 не являются простыми числами\n",
    "is_prime[0] = is_prime[1] = False\n",
    "\n",
    "# Используем решето Эратосфена для поиска простых чисел\n",
    "for i in range(2, int(n ** 0.5) + 1):\n",
    "    if is_prime[i]:\n",
    "        # Если i простое, то помечаем все кратные ему числа как составные\n",
    "        for j in range(i ** 2, n, i):\n",
    "            is_prime[j] = False\n",
    "\n",
    "# Выводим все простые числа, меньшие n\n",
    "for i in range(2, n):\n",
    "    if is_prime[i]:\n",
    "        print(i, end=' ')"
   ],
   "metadata": {
    "collapsed": false,
    "pycharm": {
     "name": "#%%\n"
    }
   }
  },
  {
   "cell_type": "code",
   "execution_count": 2,
   "outputs": [],
   "source": [],
   "metadata": {
    "collapsed": false,
    "pycharm": {
     "name": "#%%\n"
    }
   }
  },
  {
   "cell_type": "code",
   "execution_count": null,
   "outputs": [],
   "source": [
    "# Подвиг 4. Вводится двумерный список размерностью 5 х 5 элементов, состоящий из нулей и, в некоторых позициях, единиц (см. пример ввода ниже). Требуется проверить, не касаются ли единицы друг друга по горизонтали, вертикали и диагонали. То есть, вокруг каждой единицы должны быть нули. Если проверка проходит вывести ДА, иначе - НЕТ.\n",
    "#\n",
    "# Sample Input:\n",
    "# 1 0 0 0 0\n",
    "# 0 0 1 0 1\n",
    "# 0 0 0 0 0\n",
    "# 0 1 0 1 0\n",
    "# 0 0 0 0 0\n",
    "# Sample Output:\n",
    "# ДА\n",
    "\n",
    "\n",
    "a = []  # создаем пустой список\n",
    "for i in range(5):\n",
    "    row = list(map(int, input().split()))  # считываем строку и преобразуем элементы в целые числа\n",
    "    a.append(row)  # добавляем строку в список\n",
    "\n",
    "found = False  # флаг, указывающий, что нашли нарушение условия\n",
    "\n",
    "for i in range(5):\n",
    "    for j in range(5):\n",
    "        if a[i][j] == 1:  # если нашли единицу\n",
    "            if i > 0 and a[i-1][j] == 1:  # проверяем верхнего соседа\n",
    "                found = True\n",
    "            if i < 4 and a[i+1][j] == 1:  # проверяем нижнего соседа\n",
    "                found = True\n",
    "            if j > 0 and a[i][j-1] == 1:  # проверяем левого соседа\n",
    "                found = True\n",
    "            if j < 4 and a[i][j+1] == 1:  # проверяем правого соседа\n",
    "                found = True\n",
    "            if i > 0 and j > 0 and a[i-1][j-1] == 1:  # проверяем верхнего левого соседа\n",
    "                found = True\n",
    "            if i > 0 and j < 4 and a[i-1][j+1] == 1:  # проверяем верхнего правого соседа\n",
    "                found = True\n",
    "            if i < 4 and j > 0 and a[i+1][j-1] == 1:  # проверяем нижнего левого соседа\n",
    "                found = True\n",
    "            if i < 4 and j < 4 and a[i+1][j+1] == 1:  # проверяем нижнего правого соседа\n",
    "                found = True\n",
    "            if found:\n",
    "                print(\"НЕТ\")\n",
    "                break\n",
    "    if found:\n",
    "        break\n",
    "else:  # если не нашли нарушений, то выводим \"ДА\"\n",
    "    print(\"ДА\")"
   ],
   "metadata": {
    "collapsed": false,
    "pycharm": {
     "name": "#%%\n"
    }
   }
  },
  {
   "cell_type": "code",
   "execution_count": 5,
   "outputs": [
    {
     "name": "stdout",
     "output_type": "stream",
     "text": [
      "НЕТ\n"
     ]
    }
   ],
   "source": [
    "# Подвиг 5. Вводится двумерный список размерностью 5 х 5 элементов, состоящий из целых чисел (пример ввода см. ниже). Проверьте, является ли этот двумерный список симметричным относительно главной диагонали. Главная диагональ — та, которая идёт из левого верхнего угла двумерного массива в правый нижний. Выведите на экран ДА, если матрица симметрична и НЕТ - в противном случае.\n",
    "#\n",
    "# P. S. Для считывания списка целиком в программе уже записаны начальные строчки.\n",
    "#\n",
    "# Sample Input:\n",
    "#\n",
    "# 2 3 4 5 6\n",
    "# 3 2 7 8 9\n",
    "# 4 7 2 0 4\n",
    "# 5 8 0 2 1\n",
    "# 6 9 4 1 2\n",
    "# Sample Output:\n",
    "#\n",
    "# ДА\n",
    "\n",
    "a = []  # создаем пустой список\n",
    "for i in range(5):\n",
    "    row = list(map(int, input().split()))  # считываем строку и преобразуем элементы в целые числа\n",
    "    a.append(row)  # добавляем строку в список\n",
    "\n",
    "for i in range(1, 5):\n",
    "    for j in range(i):\n",
    "        if a[i][j] != a[j][i]:  # если элемент над главной диагональю не равен соответствующему элементу под главной диагональю\n",
    "            print(\"НЕТ\")\n",
    "            break\n",
    "    else:  # если все элементы проверены и не найдено несовпадений\n",
    "        continue\n",
    "    break\n",
    "else:  # если не найдено несовпадений\n",
    "    print(\"ДА\")"
   ],
   "metadata": {
    "collapsed": false,
    "pycharm": {
     "name": "#%%\n"
    }
   }
  },
  {
   "cell_type": "code",
   "execution_count": null,
   "outputs": [],
   "source": [
    "# import sys\n",
    "#\n",
    "# # считывание списка из входного потока\n",
    "# s = sys.stdin.readlines()\n",
    "# lst_in = [list(map(int, x.strip().split())) for x in s]\n",
    "#\n",
    "# flag = 'ДА'\n",
    "#\n",
    "# for i in range(5):\n",
    "#     for j in range(5):\n",
    "#         if lst_in[i][j] != lst_in[j][i]:\n",
    "#             flag = 'НЕТ'\n",
    "#\n",
    "# print(flag)"
   ],
   "metadata": {
    "collapsed": false,
    "pycharm": {
     "name": "#%%\n"
    }
   }
  },
  {
   "cell_type": "code",
   "execution_count": 10,
   "outputs": [
    {
     "name": "stdout",
     "output_type": "stream",
     "text": [
      "-53 2 8 10 11 11\n"
     ]
    }
   ],
   "source": [
    "# Большой подвиг 6. Вводится список целых чисел в одну строку через пробел. Необходимо выполнить его сортировку выбором по возрастанию (неубыванию). Идея алгоритма очень проста и проиллюстрирована на рисунке ниже.\n",
    "# Вначале мы рассматриваем первый элемент списка и ищем второй минимальный относительно первого элемента (включая и его). На рисунке - это последний элемент со значением -1. Затем, меняем местами первый и последний элементы. Переходим ко второму элементу списка и повторяем эту же процедуру, но относительно второго элемента (то есть, первый уже не рассматриваем). На рисунке минимальный элемент - это 2, поэтому менять местами здесь ничего не нужно. Переходим к 3-му элементы со значением 6. Относительно него находим минимальный элемент - это 3. Меняем их местами.\n",
    "#\n",
    "# Вот идея алгоритма сортировки выбором. Реализуйте его для вводимого списка целых чисел. Результат выведите в виде списка чисел одну строку через пробел.\n",
    "#\n",
    "a = [8, 11, -53, 2, 10, 11] # список для сортировки\n",
    "# a = list(map(int, input().split())) # список для сортировки\n",
    "\n",
    "n = len(a)  # определяем длину списка\n",
    "\n",
    "for i in range(n-1):  # проходим по всем элементам списка, кроме последнего\n",
    "    min_idx = i  # запоминаем индекс текущего минимального элемента\n",
    "    for j in range(i+1, n):  # ищем следующий минимальный элемент\n",
    "        if a[j] < a[min_idx]:\n",
    "            min_idx = j  # если находим минимальный элемент, сохраняем его индекс\n",
    "    a[i], a[min_idx] = a[min_idx], a[i]  # меняем местами текущий элемент с минимальным\n",
    "\n",
    "print(*a)  # выводим отсортированный список\n"
   ],
   "metadata": {
    "collapsed": false,
    "pycharm": {
     "name": "#%%\n"
    }
   }
  },
  {
   "cell_type": "code",
   "execution_count": 9,
   "outputs": [],
   "source": [],
   "metadata": {
    "collapsed": false,
    "pycharm": {
     "name": "#%%\n"
    }
   }
  },
  {
   "cell_type": "code",
   "execution_count": null,
   "outputs": [],
   "source": [
    "# Большой подвиг 7. Вводится список целых чисел в одну строку через пробел. Необходимо выполнить его сортировку по возрастанию (неубыванию) методом всплывающего пузырька. Идея алгоритма проста и показана на рисунке ниже.\n",
    "#\n",
    "# При первом проходе перебираем все соседние пары элементов и если значение предыдущего элемента (слева) больше значения следующего (справа), то они меняются местами. (На рисунке 3 и 2 меняются местами). Следующая пара - это 3 и 6. Они уже выстроены по возрастанию, поэтому ничего не делаем и переходим к следующей паре 6 и -1. Меняем значения местами и видим, что на последнем месте находится максимальное значение 6, что нам и нужно.\n",
    "#\n",
    "# При втором проходе делаем все то же самое, но доходим до предпоследнего элемента, так как последнее значение 6 уже отсортировано. На третьем проходе исключаем уже последние два элемента и так далее. То есть, в этом алгоритме достаточно сделать N-1 проходов, где N - длина списка.\n",
    "#\n",
    "# Вот идея алгоритма сортировки всплывающего пузырька. Реализуйте его для вводимого списка целых чисел. Результат выведите в виде списка чисел одну строку через пробел.\n",
    "#\n",
    "# Sample Input:\n",
    "# 4 5 2 0 6 3 -56 3 -1\n",
    "# Sample Output:\n",
    "# -56 -1 0 2 3 3 4 5 6\n",
    "\n",
    "a = [4, 2, 1, 3, 5]  # список для сортировки всплывающего пузырька\n",
    "# a = list(map(int, input().split()))\n",
    "n = len(a)  # определяем длину списка\n",
    "\n",
    "for i in range(n-1):  # проходим по всем элементам списка, кроме последнего\n",
    "    for j in range(n-1-i):  # проходим по парам соседних элементов\n",
    "        if a[j] > a[j+1]:  # если элемент слева больше элемента справа, меняем их местами\n",
    "            a[j], a[j+1] = a[j+1], a[j]\n",
    "\n",
    "print(a)  # выводим отсортированный список\n"
   ],
   "metadata": {
    "collapsed": false,
    "pycharm": {
     "name": "#%%\n"
    }
   }
  },
  {
   "cell_type": "code",
   "execution_count": 28,
   "outputs": [
    {
     "name": "stdout",
     "output_type": "stream",
     "text": [
      "64 64 64 16 8 4 1\n"
     ]
    }
   ],
   "source": [
    "# Подвиг 8. В некоторой стране используются денежные купюры достоинством в 1, 2, 4, 8, 16, 32 и 64. Вводится натуральное число n. Как наименьшим количеством таких денежных купюр можно выплатить сумму n? Вывести на экран список купюр для формирования суммы n (в одну строчку через пробел, начиная с наибольшей и заканчивая наименьшей). Предполагается, что имеется достаточно большое количество купюр всех достоинств.\n",
    "#\n",
    "# Sample Input:\n",
    "#\n",
    "# 221\n",
    "# Sample Output:\n",
    "#\n",
    "# 64 64 64 16 8 4 1\n",
    "n = int(input())\n",
    "k = [64, 32, 16, 8, 4, 3, 2, 1]\n",
    "r = []\n",
    "\n",
    "if n == 0:\n",
    "    print(0)\n",
    "\n",
    "for i in range(len(k)):\n",
    "    while n >= k[i]:\n",
    "        n = n - k[i]\n",
    "        r.append(k[i])\n",
    "        if k[i] > n:\n",
    "            continue\n",
    "print(*r)"
   ],
   "metadata": {
    "collapsed": false,
    "pycharm": {
     "name": "#%%\n"
    }
   }
  },
  {
   "cell_type": "code",
   "execution_count": 3,
   "outputs": [
    {
     "name": "stdout",
     "output_type": "stream",
     "text": [
      "Для получения числа 221 нужно использовать 1 чисел из списка [2, 3, 5, 7, 11, 13].\n"
     ]
    }
   ],
   "source": [
    "def count_numbers(n, numbers):\n",
    "    count = 0\n",
    "    for num in numbers:\n",
    "        while n % num == 0:\n",
    "            count += 1\n",
    "            n //= num\n",
    "    return count\n",
    "\n",
    "n = int(input(\"Введите простое число: \"))\n",
    "numbers = [2, 3, 5, 7, 11, 13] # список чисел, которые будем использовать\n",
    "result = count_numbers(n, numbers)\n",
    "print(f\"Для получения числа {n} нужно использовать {result} чисел из списка {numbers}.\")\n"
   ],
   "metadata": {
    "collapsed": false,
    "pycharm": {
     "name": "#%%\n"
    }
   }
  },
  {
   "cell_type": "code",
   "execution_count": 5,
   "outputs": [
    {
     "name": "stdout",
     "output_type": "stream",
     "text": [
      "64 64 64 16 8 4 1\n",
      "64 64 64 16 8 4 1\n"
     ]
    }
   ],
   "source": [
    "n = int(input(\"Введите сумму: \"))\n",
    "denominations = [64, 32, 16, 8, 4, 2, 1] # список достоинств купюр\n",
    "\n",
    "count = 0\n",
    "result = []\n",
    "for d in denominations:\n",
    "    while n >= d:\n",
    "        n -= d\n",
    "        count += 1\n",
    "        result.append(str(d))\n",
    "\n",
    "# print(\" \".join(result))\n",
    "print(*result)"
   ],
   "metadata": {
    "collapsed": false,
    "pycharm": {
     "name": "#%%\n"
    }
   }
  },
  {
   "cell_type": "code",
   "execution_count": null,
   "outputs": [],
   "source": [
    "# Запрашиваем у пользователя сумму, которую нужно выплатить\n",
    "n = int(input(\"Введите сумму: \"))\n",
    "\n",
    "# Список всех возможных достоинств купюр, которыми можно платить\n",
    "denominations = [64, 32, 16, 8, 4, 2, 1]\n",
    "\n",
    "# Инициализируем переменные для подсчета количества купюр и списка купюр\n",
    "count = 0\n",
    "result = []\n",
    "\n",
    "# Проходим в цикле по всем достоинствам купюр\n",
    "for d in denominations:\n",
    "    # Пока сумма, которую нужно выплатить, больше или равна текущему достоинству купюры\n",
    "    while n >= d:\n",
    "        # Вычитаем текущее достоинство купюры из суммы и увеличиваем счетчик купюр на 1\n",
    "        n -= d\n",
    "        count += 1\n",
    "        # Добавляем текущую купюру в список купюр\n",
    "        result.append(str(d))\n",
    "\n",
    "# Выводим список купюр через пробел\n",
    "print(\" \".join(result))\n"
   ],
   "metadata": {
    "collapsed": false,
    "pycharm": {
     "name": "#%%\n"
    }
   }
  },
  {
   "cell_type": "code",
   "execution_count": null,
   "outputs": [],
   "source": [],
   "metadata": {
    "collapsed": false,
    "pycharm": {
     "name": "#%%\n"
    }
   }
  },
  {
   "cell_type": "code",
   "execution_count": null,
   "outputs": [],
   "source": [],
   "metadata": {
    "collapsed": false,
    "pycharm": {
     "name": "#%%\n"
    }
   }
  },
  {
   "cell_type": "code",
   "execution_count": 25,
   "outputs": [
    {
     "name": "stdout",
     "output_type": "stream",
     "text": [
      "['рандомной', 'длины', 'текст', 'для', 'задания', 'на', 'питоне']\n"
     ]
    }
   ],
   "source": [
    "text = \"рандомной длины текст для задания на питоне\"\n",
    "doubled_words = [word*2 for word in text.split()]\n",
    "unique_words = list(word[:len(word)//2] for word in doubled_words)\n",
    "print(unique_words)"
   ],
   "metadata": {
    "collapsed": false,
    "pycharm": {
     "name": "#%%\n"
    }
   }
  },
  {
   "cell_type": "code",
   "execution_count": 2,
   "outputs": [
    {
     "name": "stdout",
     "output_type": "stream",
     "text": [
      "['рандомнойрандомной', 'длиныдлины', 'тексттекст', 'длядля', 'заданиязадания', 'нана', 'питонепитоне', 'чточто', 'быбы', 'головаголова', 'работалаработала', 'ии', 'нене', 'закисалазакисала']\n",
      "['рандомной', 'длины', 'текст', 'для', 'задания', 'на', 'питоне', 'что', 'бы', 'голова', 'работала', 'и', 'не', 'закисала']\n",
      "Время выполнения: 0.0 секунд\n"
     ]
    }
   ],
   "source": [
    "import time\n",
    "\n",
    "text = \"рандомной длины текст для задания на питоне что бы голова работала и не закисала\"\n",
    "start_time = time.time()\n",
    "\n",
    "doubl_words = [word*2 for word in text.split()]\n",
    "clean_words = list(word[:len(word)//2] for word in doubl_words)\n",
    "\"\"\" на срезе[start:stop:step] мы используем для значения stop функцию длины слова поделеные на 2 без остатка \"\"\"\n",
    "end_time = time.time()\n",
    "\n",
    "print(doubl_words)\n",
    "print(clean_words)\n",
    "print(f\"Время выполнения: {end_time - start_time:.5} секунд\")"
   ],
   "metadata": {
    "collapsed": false,
    "pycharm": {
     "name": "#%%\n"
    }
   }
  },
  {
   "cell_type": "code",
   "execution_count": 43,
   "outputs": [
    {
     "data": {
      "text/plain": "['рандомнойрандомной']"
     },
     "execution_count": 43,
     "metadata": {},
     "output_type": "execute_result"
    }
   ],
   "source": [
    "doubled_words[:3-2]"
   ],
   "metadata": {
    "collapsed": false,
    "pycharm": {
     "name": "#%%\n"
    }
   }
  },
  {
   "cell_type": "code",
   "execution_count": null,
   "outputs": [],
   "source": [],
   "metadata": {
    "collapsed": false,
    "pycharm": {
     "name": "#%%\n"
    }
   }
  }
 ],
 "metadata": {
  "kernelspec": {
   "display_name": "Python 3",
   "language": "python",
   "name": "python3"
  },
  "language_info": {
   "codemirror_mode": {
    "name": "ipython",
    "version": 2
   },
   "file_extension": ".py",
   "mimetype": "text/x-python",
   "name": "python",
   "nbconvert_exporter": "python",
   "pygments_lexer": "ipython2",
   "version": "2.7.6"
  }
 },
 "nbformat": 4,
 "nbformat_minor": 0
}