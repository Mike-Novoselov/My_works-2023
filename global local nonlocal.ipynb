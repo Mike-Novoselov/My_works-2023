{
 "cells": [
  {
   "cell_type": "code",
   "execution_count": 1,
   "id": "initial_id",
   "metadata": {
    "collapsed": true,
    "ExecuteTime": {
     "end_time": "2023-10-04T04:30:44.871532500Z",
     "start_time": "2023-10-04T04:30:44.860521900Z"
    }
   },
   "outputs": [
    {
     "name": "stdout",
     "output_type": "stream",
     "text": [
      "inner:  2\n",
      "outer:  1\n",
      "global:  0\n"
     ]
    }
   ],
   "source": [
    "x = 0\n",
    "\n",
    "def outer():\n",
    "    x = 1\n",
    "    def inner ():\n",
    "        x = 2\n",
    "        print(\"inner: \", x)\n",
    "        \n",
    "    inner()\n",
    "    print(\"outer: \", x)\n",
    "    \n",
    "outer()\n",
    "print(\"global: \", x)"
   ]
  },
  {
   "cell_type": "code",
   "execution_count": null,
   "outputs": [],
   "source": [],
   "metadata": {
    "collapsed": false
   },
   "id": "51ab57860367d8b7"
  },
  {
   "cell_type": "code",
   "execution_count": 2,
   "outputs": [
    {
     "name": "stdout",
     "output_type": "stream",
     "text": [
      "inner:  2\n",
      "outer:  2\n",
      "global:  0\n"
     ]
    }
   ],
   "source": [
    "x = 0\n",
    "\n",
    "def outer():\n",
    "    x = 1\n",
    "    def inner ():\n",
    "        nonlocal x\n",
    "        x = 2\n",
    "        print(\"inner: \", x)\n",
    "        \n",
    "    inner()\n",
    "    print(\"outer: \", x)\n",
    "    \n",
    "outer()\n",
    "print(\"global: \", x)"
   ],
   "metadata": {
    "collapsed": false,
    "ExecuteTime": {
     "end_time": "2023-10-02T04:47:02.050033800Z",
     "start_time": "2023-10-02T04:47:02.035016400Z"
    }
   },
   "id": "f631e37c2e83e455"
  },
  {
   "cell_type": "code",
   "execution_count": null,
   "outputs": [],
   "source": [],
   "metadata": {
    "collapsed": false
   },
   "id": "af8ee16e34ab9a6f"
  },
  {
   "cell_type": "code",
   "execution_count": 3,
   "outputs": [
    {
     "name": "stdout",
     "output_type": "stream",
     "text": [
      "inner:  2\n",
      "outer:  1\n",
      "global:  1\n"
     ]
    }
   ],
   "source": [
    "x = 0\n",
    "\n",
    "def outer():\n",
    "    global x\n",
    "    x = 1\n",
    "    def inner ():\n",
    "        # nonlocal x\n",
    "        x = 2\n",
    "        print(\"inner: \", x)\n",
    "        \n",
    "    inner()\n",
    "    print(\"outer: \", x)\n",
    "    \n",
    "outer()\n",
    "print(\"global: \", x)"
   ],
   "metadata": {
    "collapsed": false,
    "ExecuteTime": {
     "end_time": "2023-10-02T04:49:12.967745300Z",
     "start_time": "2023-10-02T04:49:12.941721600Z"
    }
   },
   "id": "cb2ab5bedde8b46c"
  },
  {
   "cell_type": "code",
   "execution_count": null,
   "outputs": [],
   "source": [],
   "metadata": {
    "collapsed": false
   },
   "id": "d9454338b41b9ef6"
  },
  {
   "cell_type": "code",
   "execution_count": null,
   "outputs": [],
   "source": [
    "# Имеется программа (см. листинг ниже), где читается глобальная переменная WIDTH (из входного потока) и функция с именем func1. Допишите в теле функции команду, которая бы позволяла изменять глобальную переменную WIDTH.\n",
    "# \n",
    "# Sample Input:\n",
    "# \n",
    "# 12\n",
    "# Sample Output:\n",
    "# \n",
    "# 13\n",
    "\n",
    "\n",
    "WIDTH = int(input())\n",
    "\n",
    "\n",
    "def func1():\n",
    "    global WIDTH # ***\n",
    "    WIDTH += 1\n",
    "    return WIDTH\n",
    "\n",
    "\n",
    "print(func1())"
   ],
   "metadata": {
    "collapsed": false
   },
   "id": "aec03d747954e614"
  },
  {
   "cell_type": "code",
   "execution_count": null,
   "outputs": [],
   "source": [
    "# Имеется программа (см. листинг ниже). Необходимо в теле функции func2 дописать команду, которая бы меняла значение уже существующей переменной msg, объявленной в функции func1.\n",
    "# \n",
    "# Sample Input:\n",
    "# \n",
    "# Сергей\n",
    "# Балакирев\n",
    "# Sample Output:\n",
    "# \n",
    "# Балакирев\n",
    "# Балакирев\n",
    "\n",
    "def func1():\n",
    "    msg = input()\n",
    "\n",
    "\n",
    "    def func2():\n",
    "        nonlocal msg # ***\n",
    "        msg = input()\n",
    "        print(msg)\n",
    "\n",
    "\n",
    "    func2()        \n",
    "    print(msg)\n",
    "\n",
    "\n",
    "func1()"
   ],
   "metadata": {
    "collapsed": false
   },
   "id": "22a01536ec1074d0"
  },
  {
   "cell_type": "code",
   "execution_count": 4,
   "outputs": [],
   "source": [
    "# Объявите функцию с именем create_global, которая имеет, следующую сигнатуру:\n",
    "# \n",
    "# def create_global(x): ...\n",
    "# \n",
    "# Эта функция должна создавать глобальную переменную с именем TOTAL и присваивать ей значение x. (Ничего выводить на экран она не должна, только создавать переменную).\n",
    "# \n",
    "# Вызывать функцию не нужно, только определить\n",
    "\n",
    "def create_global(x):\n",
    "    global TOTAL \n",
    "    TOTAL = x"
   ],
   "metadata": {
    "collapsed": false,
    "ExecuteTime": {
     "end_time": "2023-10-02T04:54:31.683583700Z",
     "start_time": "2023-10-02T04:54:31.665960900Z"
    }
   },
   "id": "6328fa4e97baa313"
  },
  {
   "cell_type": "code",
   "execution_count": 5,
   "outputs": [
    {
     "data": {
      "text/plain": "120"
     },
     "execution_count": 5,
     "metadata": {},
     "output_type": "execute_result"
    }
   ],
   "source": [
    "\"\"\"\n",
    "пример рекурсии в функции на Python\n",
    "\n",
    "Здесь мы определяем функцию factorial, которая принимает один аргумент n. Если n равно 0, то функция возвращает 1 (потому что факториал 0 равен 1). В противном случае, функция вызывает саму себя для n-1 и умножает результат на n. Таким образом, функция рекурсивно вычисляет факториал для каждого числа от 0 до n.\n",
    "\n",
    "Например, если мы вызовем функцию factorial(5), то она вернет 120, потому что 5 * 4 * 3 * 2 * 1 = 120.\n",
    "\n",
    "Рекурсия может быть полезна в тех случаях, когда решение задачи можно разбить на более простые подзадачи, которые решаются рекурсивно. Например, факториал числа можно вычислить, разбивая задачу на две подзадачи: вычисление факториала для n-1 и умножение результата на n. Это позволяет уменьшить количество рекурсивных вызовов и ускорить вычисление.\n",
    "\n",
    "\"\"\"\n",
    "def factorial(n):\n",
    "    if n == 0:\n",
    "        return 1\n",
    "    else:\n",
    "        return n * factorial(n-1)\n",
    "    \n",
    "factorial(5)\n",
    "\n"
   ],
   "metadata": {
    "collapsed": false,
    "ExecuteTime": {
     "end_time": "2023-10-03T12:00:23.218488700Z",
     "start_time": "2023-10-03T12:00:23.198470600Z"
    }
   },
   "id": "5c336532d9d62c05"
  },
  {
   "cell_type": "code",
   "execution_count": null,
   "outputs": [],
   "source": [
    "\"\"\"\n",
    "Замыкания в Python. Closure Python\n",
    "\"\"\"\n"
   ],
   "metadata": {
    "collapsed": false
   },
   "id": "6070198af7f6e88d"
  },
  {
   "cell_type": "code",
   "execution_count": 2,
   "outputs": [
    {
     "name": "stdout",
     "output_type": "stream",
     "text": [
      "8\n"
     ]
    }
   ],
   "source": [
    "# пример замыкания функции на Python\n",
    "\n",
    "def outer_function(x):\n",
    "    def inner_function(y):\n",
    "        return x + y\n",
    "    return inner_function\n",
    "\n",
    "add_five = outer_function(5)\n",
    "result = add_five(3)\n",
    "print(result)\n",
    "\n",
    "\"\"\"\n",
    "Здесь мы определяем функцию outer_function, которая принимает один аргумент x. Внутри функции мы определяем функцию inner_function, которая принимает один аргумент y и возвращает x + y. Затем мы возвращаем функцию inner_function из функции outer_function.\n",
    "\n",
    "Затем мы создаем переменную add_five, которая присваивает значение outer_function(5) переменной add_five. Это означает, что мы передаем в функцию outer_function значение 5 и возвращаем из нее функцию inner_function.\n",
    "\n",
    "Затем мы вызываем функцию add_five с аргументом 3 и сохраняем результат в переменную result. Наконец, мы выводим значение переменной result на экран.\n",
    "\n",
    "Таким образом, мы получаем функцию, которая принимает один аргумент и возвращает функцию, которая также принимает один аргумент и возвращает сумму этих двух аргументов. Это происходит благодаря замыканию функции outer_function, которая сохраняет ссылку на переменную x из внешней функции outer_function, и использует ее внутри функции inner_function.\n",
    "\n",
    "\n",
    "\"\"\""
   ],
   "metadata": {
    "collapsed": false,
    "ExecuteTime": {
     "end_time": "2023-10-03T11:58:22.295334300Z",
     "start_time": "2023-10-03T11:58:22.274314500Z"
    }
   },
   "id": "6bc3a9eafc8d0310"
  },
  {
   "cell_type": "code",
   "execution_count": 1,
   "outputs": [],
   "source": [],
   "metadata": {
    "collapsed": false,
    "ExecuteTime": {
     "end_time": "2023-10-03T11:58:19.918700400Z",
     "start_time": "2023-10-03T11:58:19.883669100Z"
    }
   },
   "id": "143d041df4bfd762"
  },
  {
   "cell_type": "code",
   "execution_count": null,
   "outputs": [],
   "source": [],
   "metadata": {
    "collapsed": false
   },
   "id": "142509d8399f5e6d"
  }
 ],
 "metadata": {
  "kernelspec": {
   "display_name": "Python 3",
   "language": "python",
   "name": "python3"
  },
  "language_info": {
   "codemirror_mode": {
    "name": "ipython",
    "version": 2
   },
   "file_extension": ".py",
   "mimetype": "text/x-python",
   "name": "python",
   "nbconvert_exporter": "python",
   "pygments_lexer": "ipython2",
   "version": "2.7.6"
  }
 },
 "nbformat": 4,
 "nbformat_minor": 5
}
