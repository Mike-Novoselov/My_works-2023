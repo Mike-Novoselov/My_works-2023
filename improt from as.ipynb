{
 "cells": [
  {
   "cell_type": "code",
   "execution_count": null,
   "outputs": [],
   "source": [
    "import time as tm\n",
    "\n",
    "from time import *\n",
    "\n",
    "import time"
   ],
   "metadata": {
    "collapsed": false
   },
   "id": "3ed68b9659ac5481"
  },
  {
   "cell_type": "code",
   "execution_count": null,
   "outputs": [],
   "source": [],
   "metadata": {
    "collapsed": false
   },
   "id": "b490a29cec73bfcb"
  },
  {
   "cell_type": "code",
   "execution_count": 1,
   "outputs": [
    {
     "name": "stdout",
     "output_type": "stream",
     "text": [
      "6\n"
     ]
    }
   ],
   "source": [
    "# На вход программы подается вещественное число. Необходимо импортировать модуль math, вызывать функцию ceil этого модуля для введенного числа и отобразить результат на экране.\n",
    "# \n",
    "# Sample Input:\n",
    "# \n",
    "# 5.67\n",
    "# Sample Output:\n",
    "# \n",
    "# 6\n",
    "\n",
    "\n",
    "import math\n",
    "\n",
    "print(math.ceil(float(input())))"
   ],
   "metadata": {
    "collapsed": false,
    "ExecuteTime": {
     "end_time": "2023-10-13T06:29:38.728849200Z",
     "start_time": "2023-10-13T06:29:36.838141100Z"
    }
   },
   "id": "cb6fd2cfd0ee027b"
  },
  {
   "cell_type": "code",
   "execution_count": null,
   "outputs": [],
   "source": [],
   "metadata": {
    "collapsed": false
   },
   "id": "6dc0328983cf85ab"
  },
  {
   "cell_type": "code",
   "execution_count": null,
   "outputs": [],
   "source": [
    "# На вход программы подается вещественное число. Необходимо импортировать только одну функцию floor из модуля math, вызывать ее для введенного числа и отобразить результат на экране.\n",
    "# \n",
    "# Sample Input:\n",
    "# \n",
    "# 8.11\n",
    "# Sample Output:\n",
    "# \n",
    "# 8\n",
    "import math\n",
    "\n",
    "print(math.floor(float(input())))"
   ],
   "metadata": {
    "collapsed": false
   },
   "id": "81582c3a6a038109"
  },
  {
   "cell_type": "code",
   "execution_count": null,
   "outputs": [],
   "source": [
    "# Подвиг 4. В программе имеется функция factorial (см. листинг). В начале программы (до определения функции) необходимо из модуля math импортировать функцию с тем же именем factorial, используя команду from, но так, чтобы они не \"затирали\" друг друга. Имя импортируемой функции в модуле (программе) должно быть fact.\n",
    "# \n",
    "# Уже объявленную функцию не менять. Выполнять функции не нужно, только прописать импорт\n",
    "\n",
    "from math import factorial as fact\n",
    "\n",
    "def factorial(n):\n",
    "    p = 1\n",
    "    for i in range(2, n+1):\n",
    "        p *= i\n",
    "\n",
    "    print(\"my factorial\")\n",
    "    return p"
   ],
   "metadata": {
    "collapsed": false
   },
   "id": "2b8ae64aa467517e"
  },
  {
   "cell_type": "code",
   "execution_count": 4,
   "outputs": [
    {
     "name": "stdout",
     "output_type": "stream",
     "text": [
      "18\n"
     ]
    }
   ],
   "source": [
    "# Подвиг 5. Из модуля random импортируйте только две функции: seed и randint. Затем, в программе выполните их, следующим образом:\n",
    "# \n",
    "# seed(1)\n",
    "# print(randint(10, 50))\n",
    "\n",
    "from random import seed, randint\n",
    "\n",
    "seed(1)\n",
    "print(randint(10, 50))\n"
   ],
   "metadata": {
    "collapsed": false,
    "ExecuteTime": {
     "end_time": "2023-10-13T06:33:55.853820500Z",
     "start_time": "2023-10-13T06:33:55.843810800Z"
    }
   },
   "id": "78213538686cee5f"
  },
  {
   "cell_type": "code",
   "execution_count": null,
   "outputs": [],
   "source": [
    "# Подвиг 6. Из модуля random импортируйте только две функции: seed и random, но у последней должен быть синоним rnd (имя, через которое она будет вызываться в программе). Выполните в программе эти функции, следующим образом:\n",
    "# \n",
    "# seed(10)\n",
    "# print(round(rnd(), 2))\n",
    "\n",
    "from random import seed, random as rnd \n",
    "\n",
    "seed(10)\n",
    "print(round(rnd(), 2))"
   ],
   "metadata": {
    "collapsed": false
   },
   "id": "b9bd5a3bbae6e98a"
  },
  {
   "cell_type": "code",
   "execution_count": 1,
   "outputs": [
    {
     "data": {
      "text/plain": "'\\npip freeze > requirements.txt\\n'"
     },
     "execution_count": 1,
     "metadata": {},
     "output_type": "execute_result"
    }
   ],
   "source": [
    "\"\"\"\n",
    "pip freeze > requirements.txt\n",
    "создает тхт докунет со всеми импортируемыми покетами проекта\n",
    "\n",
    "pip install -r requirements.txt\n",
    "устанавливает все пакеты из requirements\n",
    "\"\"\""
   ],
   "metadata": {
    "collapsed": false,
    "ExecuteTime": {
     "end_time": "2023-10-18T05:24:58.059706700Z",
     "start_time": "2023-10-18T05:24:58.039912900Z"
    }
   },
   "id": "a3b36f77e1197def"
  },
  {
   "cell_type": "code",
   "execution_count": null,
   "outputs": [],
   "source": [],
   "metadata": {
    "collapsed": false,
    "ExecuteTime": {
     "end_time": "2023-10-18T08:38:29.243268900Z",
     "start_time": "2023-10-18T08:38:29.232734100Z"
    }
   },
   "id": "7339246decac955f"
  },
  {
   "cell_type": "code",
   "execution_count": 3,
   "outputs": [],
   "source": [
    "x = {1,2,3,4,5,6,6,6,6,6}"
   ],
   "metadata": {
    "collapsed": false,
    "ExecuteTime": {
     "end_time": "2023-10-18T08:38:55.024397200Z",
     "start_time": "2023-10-18T08:38:55.006719200Z"
    }
   },
   "id": "8248cfc0ba59b133"
  },
  {
   "cell_type": "code",
   "execution_count": 4,
   "outputs": [
    {
     "data": {
      "text/plain": "{1, 2, 3, 4, 5, 6}"
     },
     "execution_count": 4,
     "metadata": {},
     "output_type": "execute_result"
    }
   ],
   "source": [
    "x"
   ],
   "metadata": {
    "collapsed": false,
    "ExecuteTime": {
     "end_time": "2023-10-18T08:38:56.004311800Z",
     "start_time": "2023-10-18T08:38:55.991299500Z"
    }
   },
   "id": "18237d9efd4380e1"
  },
  {
   "cell_type": "code",
   "execution_count": null,
   "outputs": [],
   "source": [],
   "metadata": {
    "collapsed": false
   },
   "id": "54ec6acba48af94b"
  }
 ],
 "metadata": {
  "kernelspec": {
   "display_name": "Python 3",
   "language": "python",
   "name": "python3"
  },
  "language_info": {
   "codemirror_mode": {
    "name": "ipython",
    "version": 2
   },
   "file_extension": ".py",
   "mimetype": "text/x-python",
   "name": "python",
   "nbconvert_exporter": "python",
   "pygments_lexer": "ipython2",
   "version": "2.7.6"
  }
 },
 "nbformat": 4,
 "nbformat_minor": 5
}
