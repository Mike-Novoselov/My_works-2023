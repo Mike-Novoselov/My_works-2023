{
 "cells": [
  {
   "cell_type": "code",
   "execution_count": 8,
   "id": "initial_id",
   "metadata": {
    "collapsed": true,
    "ExecuteTime": {
     "end_time": "2023-10-19T05:10:59.382677600Z",
     "start_time": "2023-10-19T05:10:59.367664100Z"
    }
   },
   "outputs": [
    {
     "name": "stdout",
     "output_type": "stream",
     "text": [
      "recent\tкуки\n",
      "\n",
      "mrt \tудалить вируусы\n",
      "\n",
      "win + shft + s\n"
     ]
    }
   ],
   "source": [
    "file = open(\"C:/Users/siber/Desktop/пск ррр.txt\", encoding='utf-8')\n",
    "print(file.read())"
   ]
  },
  {
   "cell_type": "code",
   "execution_count": 15,
   "outputs": [
    {
     "name": "stdout",
     "output_type": "stream",
     "text": [
      "recen\n",
      "t\tкук\n",
      "recen\n",
      "5\n"
     ]
    }
   ],
   "source": [
    "file = open(\"C:/Users/siber/Desktop/пск ррр.txt\", encoding='utf-8')\n",
    "print(file.read(5)) # отоброзить 5 символов\n",
    "print(file.read(5)) # отоброзить следующии 5 символов, позиция станет на 10\n",
    "file.seek(0) # возвращает файловую позицию на 0\n",
    "print(file.read(5))\n",
    "\n",
    "pos = file.tell() # отобразить на каком сиволе сейчас файловая позиция\n",
    "print(pos)"
   ],
   "metadata": {
    "collapsed": false,
    "ExecuteTime": {
     "end_time": "2023-10-19T05:14:27.635029600Z",
     "start_time": "2023-10-19T05:14:27.620015500Z"
    }
   },
   "id": "eac68467929ee49f"
  },
  {
   "cell_type": "code",
   "execution_count": 19,
   "outputs": [
    {
     "name": "stdout",
     "output_type": "stream",
     "text": [
      "recent\tкуки\n",
      "\n",
      "mrt \tудалить вируусы\n"
     ]
    }
   ],
   "source": [
    "file = open(\"C:/Users/siber/Desktop/пск ррр.txt\", encoding='utf-8')\n",
    "print(file.readline(), end=\"\") # чтение по строчно\n",
    "print(file.readline(), end=\"\")\n",
    "print(file.readline(), end=\"\")"
   ],
   "metadata": {
    "collapsed": false,
    "ExecuteTime": {
     "end_time": "2023-10-19T05:27:06.729755900Z",
     "start_time": "2023-10-19T05:27:06.712680900Z"
    }
   },
   "id": "527e741e5dfa8d27"
  },
  {
   "cell_type": "code",
   "execution_count": 20,
   "outputs": [
    {
     "name": "stdout",
     "output_type": "stream",
     "text": [
      "recent\tкуки\n",
      "\n",
      "mrt \tудалить вируусы\n",
      "\n",
      "win + shft + s"
     ]
    }
   ],
   "source": [
    "file = open(\"C:/Users/siber/Desktop/пск ррр.txt\", encoding='utf-8')\n",
    "\n",
    "for line in file:\n",
    "    print(line, end=\"\")"
   ],
   "metadata": {
    "collapsed": false,
    "ExecuteTime": {
     "end_time": "2023-10-19T05:28:07.041872800Z",
     "start_time": "2023-10-19T05:28:07.006841300Z"
    }
   },
   "id": "b99924d5c8f0a14e"
  },
  {
   "cell_type": "code",
   "execution_count": 21,
   "outputs": [],
   "source": [
    "file.close() # закрываем файл"
   ],
   "metadata": {
    "collapsed": false,
    "ExecuteTime": {
     "end_time": "2023-10-19T05:30:04.257698900Z",
     "start_time": "2023-10-19T05:30:04.235678300Z"
    }
   },
   "id": "aabef37b4cc3b3a5"
  },
  {
   "cell_type": "code",
   "execution_count": null,
   "outputs": [],
   "source": [
    "\"\"\"\n",
    "    метод readlines возвращает список из всех строк файла !!!\n",
    "\"\"\""
   ],
   "metadata": {
    "collapsed": false
   },
   "id": "2bfc36b7efea1adb"
  },
  {
   "cell_type": "code",
   "execution_count": null,
   "outputs": [],
   "source": [],
   "metadata": {
    "collapsed": false,
    "ExecuteTime": {
     "end_time": "2023-10-20T03:37:59.389178500Z",
     "start_time": "2023-10-20T03:37:59.384173700Z"
    }
   },
   "id": "513a6cbbd94e106d"
  },
  {
   "cell_type": "code",
   "execution_count": null,
   "outputs": [],
   "source": [
    "\"\"\"\n",
    "обработка исключений try except\n",
    "\"\"\""
   ],
   "metadata": {
    "collapsed": false
   },
   "id": "db824a59cea1a599"
  },
  {
   "cell_type": "code",
   "execution_count": 14,
   "outputs": [
    {
     "name": "stdout",
     "output_type": "stream",
     "text": [
      "['recent\\tкуки\\n', '\\n', 'mrt \\tудалить вируусы\\n', '\\n', 'win + shft + s']\n"
     ]
    }
   ],
   "source": [
    "try:\n",
    "    file = open(\"C:/Users/siber/Desktop/пск ррр.txt\", encoding='utf-8')\n",
    "    try:\n",
    "        s = file.readlines()\n",
    "        # int(s)\n",
    "        print(s)\n",
    "    finally:\n",
    "        file.close()\n",
    "\n",
    "except FileNotFoundError:\n",
    "    print(\"Невозмодно открыть файл\")\n",
    "    \n",
    "except:\n",
    "    print(\"Ошибка при работе с файлом\")"
   ],
   "metadata": {
    "collapsed": false,
    "ExecuteTime": {
     "end_time": "2023-10-20T03:58:10.016784300Z",
     "start_time": "2023-10-20T03:58:09.999381600Z"
    }
   },
   "id": "351d0129e098fd43"
  },
  {
   "cell_type": "code",
   "execution_count": 16,
   "outputs": [
    {
     "name": "stdout",
     "output_type": "stream",
     "text": [
      "Ошибка при работе с файлом\n"
     ]
    }
   ],
   "source": [
    "try:\n",
    "    with open(\"C:/Users/siber/Desktop/пск ррр.txt\", encoding='utf-8') as file:\n",
    "        s = file.readlines()\n",
    "        # int(s)\n",
    "        print(s)\n",
    "except FileNotFoundError:\n",
    "    print(\"Невозмодно открыть файл\")\n",
    "except:\n",
    "    print(\"Ошибка при работе с файлом\")"
   ],
   "metadata": {
    "collapsed": false,
    "ExecuteTime": {
     "end_time": "2023-10-20T04:01:28.984717400Z",
     "start_time": "2023-10-20T04:01:28.964696800Z"
    }
   },
   "id": "ac1631301d8db4c8"
  },
  {
   "cell_type": "code",
   "execution_count": null,
   "outputs": [],
   "source": [
    "\"\"\"\n",
    "        Запись данных в файл\n",
    "        r read чтение (только в этом режиме можно читать readline & ridlines)\n",
    "        w wread запись (текстовый режим доступа)\n",
    "        a append дозапись\n",
    "        a+ в этом режимо можно добавльть данные и считывать\n",
    "        \n",
    "        wb открываем файл на запись в бинарном режиме доступа (bin расширение)\n",
    "        rb открываем файл на чтение в бинарном режиме доступа (bin расширение)\n",
    "        \n",
    "        file.seek(0) позиция только для чтения (для записи используется другая)\n",
    "\"\"\""
   ],
   "metadata": {
    "collapsed": false
   },
   "id": "730783bbae948d36"
  },
  {
   "cell_type": "code",
   "execution_count": null,
   "outputs": [],
   "source": [],
   "metadata": {
    "collapsed": false
   },
   "id": "4eac391e455800b"
  },
  {
   "cell_type": "code",
   "execution_count": 10,
   "outputs": [
    {
     "name": "stdout",
     "output_type": "stream",
     "text": [
      "['Hello1\\n', 'Hello2\\n', 'Hello3\\n', 'Hello4\\n', 'Hello5\\n', 'Hello6\\n']\n"
     ]
    }
   ],
   "source": [
    "try:\n",
    "    with open(\"out_test.txt\", \"a+\") as file:\n",
    "        file.seek(0)\n",
    "        s = file.readlines()\n",
    "        print(s)\n",
    "        # file.write(f'Hello4\\n'\n",
    "        #            f'Hello5\\n'\n",
    "        #            f'Hello6\\n')      \n",
    "except:\n",
    "    print(\"ошибка при работе с файлом\")"
   ],
   "metadata": {
    "collapsed": false,
    "ExecuteTime": {
     "end_time": "2023-10-21T05:20:30.224890Z",
     "start_time": "2023-10-21T05:20:30.194711100Z"
    }
   },
   "id": "7785f4a661e0b719"
  },
  {
   "cell_type": "code",
   "execution_count": null,
   "outputs": [],
   "source": [],
   "metadata": {
    "collapsed": false
   },
   "id": "4e1ac54dee18a2d1"
  },
  {
   "cell_type": "code",
   "execution_count": 1,
   "outputs": [
    {
     "name": "stdout",
     "output_type": "stream",
     "text": [
      "Привет мир\n"
     ]
    }
   ],
   "source": [
    "def decoration_text(func):\n",
    "    def wrapper(*args):\n",
    "        return f'Привет {args[0]}'\n",
    "    return wrapper\n",
    "    \n",
    "@decoration_text\n",
    "def reading(text: str):\n",
    "    return text\n",
    "\n",
    "test_func = reading('мир')\n",
    "print(test_func)\n"
   ],
   "metadata": {
    "collapsed": false,
    "ExecuteTime": {
     "end_time": "2023-10-22T03:28:54.592191600Z",
     "start_time": "2023-10-22T03:28:54.580181200Z"
    }
   },
   "id": "f78c0c34ed928e88"
  }
 ],
 "metadata": {
  "kernelspec": {
   "display_name": "Python 3",
   "language": "python",
   "name": "python3"
  },
  "language_info": {
   "codemirror_mode": {
    "name": "ipython",
    "version": 2
   },
   "file_extension": ".py",
   "mimetype": "text/x-python",
   "name": "python",
   "nbconvert_exporter": "python",
   "pygments_lexer": "ipython2",
   "version": "2.7.6"
  }
 },
 "nbformat": 4,
 "nbformat_minor": 5
}
