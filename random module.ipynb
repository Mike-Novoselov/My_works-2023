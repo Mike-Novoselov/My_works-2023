{
 "cells": [
  {
   "cell_type": "code",
   "execution_count": 8,
   "id": "initial_id",
   "metadata": {
    "collapsed": true,
    "ExecuteTime": {
     "end_time": "2023-11-08T03:44:17.244952300Z",
     "start_time": "2023-11-08T03:44:17.227937Z"
    }
   },
   "outputs": [
    {
     "name": "stdout",
     "output_type": "stream",
     "text": [
      "8\n"
     ]
    }
   ],
   "source": [
    "import pprint\n",
    "import random\n",
    "\n",
    "\"\"\"randint возвращает целое число\"\"\"\n",
    "z = random.randint(0, 10)\n",
    "print(z)"
   ]
  },
  {
   "cell_type": "code",
   "execution_count": 9,
   "outputs": [
    {
     "name": "stdout",
     "output_type": "stream",
     "text": [
      "7.406664087664025\n"
     ]
    }
   ],
   "source": [
    "\"\"\"uniform возвращает число с плавующей точкой(вещественные числа)\"\"\"\n",
    "z = random.uniform(0, 10)\n",
    "print(z)"
   ],
   "metadata": {
    "collapsed": false,
    "ExecuteTime": {
     "end_time": "2023-11-08T03:44:17.633043500Z",
     "start_time": "2023-11-08T03:44:17.624036200Z"
    }
   },
   "id": "a28f0073c78c963e"
  },
  {
   "cell_type": "code",
   "execution_count": 11,
   "outputs": [
    {
     "name": "stdout",
     "output_type": "stream",
     "text": [
      "6\n"
     ]
    }
   ],
   "source": [
    "\"\"\"randrange возвращает числа в диапазоне с шагом [start, stop, step]\"\"\"\n",
    "z = random.randrange(0, 10, 2)\n",
    "print(z)"
   ],
   "metadata": {
    "collapsed": false,
    "ExecuteTime": {
     "end_time": "2023-11-08T03:49:54.377019400Z",
     "start_time": "2023-11-08T03:49:54.368011200Z"
    }
   },
   "id": "849a26b5bfad8d95"
  },
  {
   "cell_type": "code",
   "execution_count": 22,
   "outputs": [
    {
     "name": "stdout",
     "output_type": "stream",
     "text": [
      "49.15004071539843\n"
     ]
    }
   ],
   "source": [
    "\"\"\"\n",
    "gauss(mu, sigma) - случайное значение по гауссовскому закону (формальный диапазон не ограничен)\n",
    "mu - математическое ожидание (среднее значение СВ)\n",
    "sigma - среднеквадратичесмое откланение\n",
    "\"\"\"\n",
    "\n",
    "z = random.gauss(50, 1)\n",
    "print(z)"
   ],
   "metadata": {
    "collapsed": false,
    "ExecuteTime": {
     "end_time": "2023-11-08T03:55:37.486744300Z",
     "start_time": "2023-11-08T03:55:37.474733300Z"
    }
   },
   "id": "1315ee90122e2be6"
  },
  {
   "cell_type": "code",
   "execution_count": 29,
   "outputs": [
    {
     "name": "stdout",
     "output_type": "stream",
     "text": [
      "0\n"
     ]
    }
   ],
   "source": [
    "\"\"\"\n",
    "random.choice возвращает случайное значение из списка\n",
    "\"\"\"\n",
    "lst = [4, 5, 0, -1, 10, 76, 3]\n",
    "\n",
    "a = random.choice(lst)\n",
    "print(a)"
   ],
   "metadata": {
    "collapsed": false,
    "ExecuteTime": {
     "end_time": "2023-11-08T03:57:16.473457Z",
     "start_time": "2023-11-08T03:57:16.455439600Z"
    }
   },
   "id": "2a47d645e74672d6"
  },
  {
   "cell_type": "code",
   "execution_count": 32,
   "outputs": [
    {
     "name": "stdout",
     "output_type": "stream",
     "text": [
      "[10, -1, 0, 3, 5, 4, 76]\n"
     ]
    }
   ],
   "source": [
    "\"\"\"\n",
    "random.shuffle работает только с изменяемыми типами данных !!!\n",
    "перемешивает содержимое\n",
    "\"\"\"\n",
    "lst = [4, 5, 0, -1, 10, 76, 3]\n",
    "\n",
    "random.shuffle(lst)\n",
    "print(lst)"
   ],
   "metadata": {
    "collapsed": false,
    "ExecuteTime": {
     "end_time": "2023-11-08T03:59:02.028111500Z",
     "start_time": "2023-11-08T03:59:02.013006300Z"
    }
   },
   "id": "26165a01ed8b29d2"
  },
  {
   "cell_type": "code",
   "execution_count": 39,
   "outputs": [
    {
     "name": "stdout",
     "output_type": "stream",
     "text": [
      "[10, 5, 76]\n"
     ]
    }
   ],
   "source": [
    "\"\"\"\n",
    "random.sample - возвращает новый список, состоящий из неповторяющихся элементов выбраных случайным образом\n",
    "\n",
    "random.sample(lst, 3) - lst - список, 3 - количество элементов которое булдут возвращены\n",
    "\"\"\"\n",
    "\n",
    "lst = [4, 5, 0, -1, 10, 76, 3]\n",
    "\n",
    "a = random.sample(lst, 3)\n",
    "print(a)"
   ],
   "metadata": {
    "collapsed": false,
    "ExecuteTime": {
     "end_time": "2023-11-08T04:03:45.829460400Z",
     "start_time": "2023-11-08T04:03:45.818450300Z"
    }
   },
   "id": "1ae8b8e1936b7a3e"
  },
  {
   "cell_type": "code",
   "execution_count": 45,
   "outputs": [
    {
     "name": "stdout",
     "output_type": "stream",
     "text": [
      "[1, 0, 1]\n"
     ]
    }
   ],
   "source": [
    "lst = [0, 1, 2, 0, 1, 2, 0]\n",
    "\n",
    "a = random.sample(lst, 3)\n",
    "print(a)"
   ],
   "metadata": {
    "collapsed": false,
    "ExecuteTime": {
     "end_time": "2023-11-08T04:04:14.938400200Z",
     "start_time": "2023-11-08T04:04:14.924387Z"
    }
   },
   "id": "b3946821e7b6cd77"
  },
  {
   "cell_type": "code",
   "execution_count": null,
   "outputs": [],
   "source": [],
   "metadata": {
    "collapsed": false
   },
   "id": "d5c603a56a2d58ea"
  },
  {
   "cell_type": "code",
   "execution_count": 60,
   "outputs": [
    {
     "name": "stdout",
     "output_type": "stream",
     "text": [
      "[0, 4, 1, 6, 4, 1, 0, 6, 8, 8, 5, 5, 0, 2, 2, 5, 8, 5, 3, 2]\n"
     ]
    }
   ],
   "source": [
    "random.seed(123) # зерно генерации случайных чисел\n",
    "\n",
    "a = [random.randint(0, 10) for i in range(20)]\n",
    "print(a)"
   ],
   "metadata": {
    "collapsed": false,
    "ExecuteTime": {
     "end_time": "2023-11-08T04:08:26.289294300Z",
     "start_time": "2023-11-08T04:08:26.277283700Z"
    }
   },
   "id": "3075f6baabfe367b"
  },
  {
   "cell_type": "code",
   "execution_count": 75,
   "outputs": [
    {
     "name": "stdout",
     "output_type": "stream",
     "text": [
      "-2.79\n"
     ]
    }
   ],
   "source": [
    "# Подвиг 2. Вводятся два натуральных числа a, b (a < b) в одну строчку через пробел. Выполните генерацию вещественной случайной величины в диапазоне [a; b). Округлите результат до сотых и выведите его на экран.\n",
    "# \n",
    "# Sample Input:\n",
    "# \n",
    "# -4 5\n",
    "# Sample Output:\n",
    "# \n",
    "# -2.79\n",
    "\n",
    "import random\n",
    "# установка \"зерна\" датчика случайных чисел, чтобы получались одни и те же случайные величины\n",
    "random.seed(1)\n",
    "\n",
    "# здесь продолжайте программу\n",
    "a, b = (map(int, input().split()))\n",
    "z = random.uniform(a, b)\n",
    "print(round(z, 2))"
   ],
   "metadata": {
    "collapsed": false,
    "ExecuteTime": {
     "end_time": "2023-11-08T05:13:37.015698300Z",
     "start_time": "2023-11-08T05:13:34.789394700Z"
    }
   },
   "id": "9ecc30a6025e910f"
  },
  {
   "cell_type": "code",
   "execution_count": 76,
   "outputs": [
    {
     "name": "stdout",
     "output_type": "stream",
     "text": [
      "-1\n"
     ]
    }
   ],
   "source": [
    "# Подвиг 3. Вводятся два натуральных числа a, b (a < b) в одну строчку через пробел. Выполните генерацию целочисленной случайной величины в диапазоне [a; b]. Выведите результат на экран.\n",
    "# \n",
    "# Sample Input:\n",
    "# \n",
    "# -2 3\n",
    "# Sample Output:\n",
    "# \n",
    "# -1\n",
    "\n",
    "import random\n",
    "# установка \"зерна\" датчика случайных чисел, чтобы получались одни и те же случайные величины\n",
    "random.seed(1)\n",
    "\n",
    "# здесь продолжайте программу\n",
    "\n",
    "a, b = (map(int, input().split()))\n",
    "z = random.randint(a, b)\n",
    "print(round(z, 2))"
   ],
   "metadata": {
    "collapsed": false,
    "ExecuteTime": {
     "end_time": "2023-11-08T05:15:18.510672100Z",
     "start_time": "2023-11-08T05:15:16.232639100Z"
    }
   },
   "id": "8d479425d9724c04"
  },
  {
   "cell_type": "code",
   "execution_count": 77,
   "outputs": [
    {
     "name": "stdout",
     "output_type": "stream",
     "text": [
      "Казань\n"
     ]
    }
   ],
   "source": [
    "# Подвиг 4. Вводится список названий городов в одну строчку через пробел. Выберите из этого списка один город случайным образом и отобразите его на экране.\n",
    "# \n",
    "# Sample Input:\n",
    "# \n",
    "# Тула Казань Смоленск Семипалатинск Уфа Москва Самара\n",
    "# Sample Output:\n",
    "# \n",
    "# Казань\n",
    "\n",
    "import random\n",
    "# установка \"зерна\" датчика случайных чисел, чтобы получались одни и те же случайные величины\n",
    "random.seed(1)\n",
    "\n",
    "# здесь продолжайте программу\n",
    "a = list(map(str, input().split()))\n",
    "# z = random.choice(a)\n",
    "print(random.choice(a))\n"
   ],
   "metadata": {
    "collapsed": false,
    "ExecuteTime": {
     "end_time": "2023-11-08T05:17:02.969450400Z",
     "start_time": "2023-11-08T05:17:01.883470800Z"
    }
   },
   "id": "795ef82d6de6d96c"
  },
  {
   "cell_type": "code",
   "execution_count": 118,
   "outputs": [
    {
     "name": "stdout",
     "output_type": "stream",
     "text": [
      "4 1 3 2\n",
      "8 5 7 6\n",
      "7 9 6 8\n"
     ]
    }
   ],
   "source": [
    "# Подвиг 5. Вводится таблица целых чисел, записанных через пробел. Необходимо перемешать столбцы этой таблицы, используя функции shuffle и zip и вывести результат на экран (также в виде таблицы).\n",
    "# \n",
    "# P. S. Для считывания списка целиком в программе уже записаны начальные строчки.\n",
    "# \n",
    "# Sample Input:\n",
    "# \n",
    "# 1 2 3 4\n",
    "# 5 6 7 8\n",
    "# 9 8 6 7\n",
    "# Sample Output:\n",
    "# \n",
    "# 4 1 3 2\n",
    "# 8 5 7 6\n",
    "# 7 9 6 8\n",
    "\n",
    "\n",
    "import random\n",
    "# установка \"зерна\" датчика случайных чисел, чтобы получались одни и те же случайные величины\n",
    "random.seed(1)\n",
    "\n",
    "# считывание списка из входного потока\n",
    "lst_in = ['1 2 3 4', '5 6 7 8', '9 8 6 7']\n",
    "\n",
    "# здесь продолжайте программу\n",
    "\n",
    "lst_out1 = [[int(num) for num in sub_lst.split()] for sub_lst in lst_in] # возвращает список из таблицы\n",
    "\n",
    "# группировка чисел по столбцам\n",
    "columns = list(zip(*lst_out1))\n",
    "\n",
    "# перемешивание столбцов\n",
    "random.shuffle(columns)\n",
    "\n",
    "# преобразование столбцов обратно в строки\n",
    "lst_out = list(zip(*columns))\n",
    "\n",
    "# вывод результата\n",
    "for row in lst_out:\n",
    "    print(' '.join(map(str, row)))\n",
    "\n"
   ],
   "metadata": {
    "collapsed": false,
    "ExecuteTime": {
     "end_time": "2023-11-08T05:47:02.782031300Z",
     "start_time": "2023-11-08T05:47:02.764015400Z"
    }
   },
   "id": "48036455f5ecbb7b"
  },
  {
   "cell_type": "code",
   "execution_count": 119,
   "outputs": [],
   "source": [
    "# Подвиг 6. Вводятся имена студентов в одну строчку через пробел. Требуется случайным образом выбрать трех студентов из этого списка, используя функцию sample. (Полагается, что в исходном списке более трех студентов). Результат вывести на экран в одну строчку через пробел.\n",
    "# \n",
    "# Sample Input:\n",
    "# \n",
    "# Петров Иванов Сидоров Балакирев Фридман\n",
    "# Sample Output:\n",
    "# \n",
    "# Иванов Петров Фридман\n",
    "\n",
    "lst1 = list(map(str, input().split()))"
   ],
   "metadata": {
    "collapsed": false,
    "ExecuteTime": {
     "end_time": "2023-11-08T05:49:32.978630900Z",
     "start_time": "2023-11-08T05:49:31.866607Z"
    }
   },
   "id": "fd290375df0f9d83"
  },
  {
   "cell_type": "code",
   "execution_count": 121,
   "outputs": [
    {
     "name": "stdout",
     "output_type": "stream",
     "text": [
      "Иванов Петров Фридман\n"
     ]
    }
   ],
   "source": [
    "random.seed(1)\n",
    "\n",
    "a = random.sample(lst1, 3)\n",
    "print(*a)"
   ],
   "metadata": {
    "collapsed": false,
    "ExecuteTime": {
     "end_time": "2023-11-08T05:50:19.698399500Z",
     "start_time": "2023-11-08T05:50:19.663988700Z"
    }
   },
   "id": "e1f63f97013a1aee"
  },
  {
   "cell_type": "code",
   "execution_count": 7,
   "outputs": [
    {
     "name": "stdout",
     "output_type": "stream",
     "text": [
      "[[0, 0, 0, 0, 0, 0, 0, 0, 0, 0],\n",
      " [0, 0, 0, 0, 0, 0, 0, 0, 0, 0],\n",
      " [0, 0, 0, 0, 0, 0, 0, 0, 0, 0],\n",
      " [0, 0, 0, 0, 0, 0, 0, 0, 0, 0],\n",
      " [0, 0, 0, 0, 0, 0, 0, 0, 0, 0],\n",
      " [0, 0, 0, 0, 0, 0, 0, 0, 0, 0],\n",
      " [0, 0, 0, 0, 0, 0, 0, 0, 0, 0],\n",
      " [0, 0, 0, 0, 0, 0, 0, 0, 0, 0],\n",
      " [0, 0, 0, 0, 0, 0, 0, 0, 0, 0],\n",
      " [0, 0, 0, 0, 0, 0, 0, 0, 0, 0]]\n"
     ]
    }
   ],
   "source": [
    "# Значимый подвиг 7. Имеется двумерное игровое поле размером N x N (N - натуральное число, вводится с клавиатуры), представленное в виде вложенного списка:\n",
    "# \n",
    "# P = [[0] * N for i in range(N)]\n",
    "# \n",
    "# Требуется расставить в нем случайным образом M = 10 единиц (целочисленных) так, чтобы они не соприкасались друг с другом (то есть, вокруг каждой единицы должны быть нули, либо граница поля). \n",
    "# \n",
    "# P.S. Поле на экран выводить не нужно (вообще ничего не нужно выводить), только сформировать.\n",
    "# \n",
    "# Sample Input:\n",
    "# \n",
    "# 10\n",
    "# Sample Output:\n",
    "# \n",
    "# True\n",
    "\n",
    "import random\n",
    "from pprint import pprint\n",
    "\n",
    "# установка \"зерна\" датчика случайных чисел, чтобы получались одни и те же случайные величины\n",
    "random.seed(1)\n",
    "# начальная инициализация поля (переменные P и N не менять, единицы записывать в список P)\n",
    "N = int(input())\n",
    "P = [[0] * N for i in range(N)]\n",
    "pprint(P)\n",
    "# здесь продолжайте программу\n",
    "\n",
    "M = 10\n",
    "\n"
   ],
   "metadata": {
    "collapsed": false,
    "ExecuteTime": {
     "end_time": "2023-11-08T12:09:04.131347500Z",
     "start_time": "2023-11-08T12:09:02.615752100Z"
    }
   },
   "id": "82edafd64deeb04d"
  },
  {
   "cell_type": "code",
   "execution_count": 9,
   "outputs": [
    {
     "name": "stdout",
     "output_type": "stream",
     "text": [
      "[[0, 0, 1, 0, 1, 1, 1, 1, 0, 0],\n",
      " [1, 0, 1, 1, 0, 1, 1, 0, 0, 1],\n",
      " [0, 0, 0, 0, 1, 0, 1, 0, 0, 1],\n",
      " [1, 0, 1, 0, 0, 1, 1, 0, 1, 0],\n",
      " [0, 1, 0, 1, 1, 0, 1, 1, 1, 1],\n",
      " [0, 1, 0, 1, 1, 0, 1, 1, 0, 1],\n",
      " [0, 0, 1, 1, 1, 0, 1, 0, 1, 1],\n",
      " [0, 0, 0, 0, 0, 0, 1, 1, 1, 1],\n",
      " [1, 0, 1, 0, 0, 1, 0, 1, 1, 0],\n",
      " [1, 1, 1, 1, 1, 0, 1, 1, 0, 0]]\n"
     ]
    }
   ],
   "source": [
    "x = P[random.randint(0, N-1)][random.randint(0, N-1)]\n",
    "P[0][0] = 0\n",
    "pprint(P)"
   ],
   "metadata": {
    "collapsed": false,
    "ExecuteTime": {
     "end_time": "2023-11-08T12:09:14.643695400Z",
     "start_time": "2023-11-08T12:09:14.618135400Z"
    }
   },
   "id": "94e9846afc57d8bb"
  },
  {
   "cell_type": "code",
   "execution_count": 9,
   "outputs": [],
   "source": [],
   "metadata": {
    "collapsed": false,
    "ExecuteTime": {
     "end_time": "2023-11-08T12:09:15.211929600Z",
     "start_time": "2023-11-08T12:09:15.195914800Z"
    }
   },
   "id": "a1b14b55c6e50042"
  },
  {
   "cell_type": "code",
   "execution_count": 10,
   "outputs": [
    {
     "name": "stdout",
     "output_type": "stream",
     "text": [
      "[[0, 0, 1, 0, 0, 0, 0, 1, 0, 1],\n",
      " [0, 1, 0, 0, 1, 1, 0, 0, 0, 1],\n",
      " [0, 1, 1, 1, 1, 1, 1, 0, 0, 1],\n",
      " [1, 1, 1, 0, 1, 0, 1, 0, 1, 0],\n",
      " [0, 0, 1, 0, 0, 0, 1, 1, 0, 1],\n",
      " [0, 0, 1, 1, 1, 0, 1, 0, 0, 0],\n",
      " [1, 0, 0, 1, 1, 0, 1, 1, 0, 0],\n",
      " [0, 0, 1, 0, 0, 1, 0, 1, 0, 0],\n",
      " [1, 0, 1, 0, 1, 1, 1, 0, 1, 1],\n",
      " [1, 0, 0, 0, 1, 0, 1, 1, 0, 1]]\n"
     ]
    }
   ],
   "source": [
    "for i in range(N):\n",
    "    for j in range(N):\n",
    "        P[i][j] = random.randint(0, 1)\n",
    "        \n",
    "pprint(P)"
   ],
   "metadata": {
    "collapsed": false,
    "ExecuteTime": {
     "end_time": "2023-11-08T12:09:15.766877Z",
     "start_time": "2023-11-08T12:09:15.745857900Z"
    }
   },
   "id": "5d06d8561f2d0661"
  },
  {
   "cell_type": "code",
   "execution_count": 45,
   "outputs": [],
   "source": [],
   "metadata": {
    "collapsed": false,
    "ExecuteTime": {
     "end_time": "2023-11-08T08:58:25.244646900Z",
     "start_time": "2023-11-08T08:58:25.224628100Z"
    }
   },
   "id": "50d9f4002fdd1f4b"
  },
  {
   "cell_type": "code",
   "execution_count": 45,
   "outputs": [],
   "source": [],
   "metadata": {
    "collapsed": false,
    "ExecuteTime": {
     "end_time": "2023-11-08T08:58:26.221354300Z",
     "start_time": "2023-11-08T08:58:26.205339600Z"
    }
   },
   "id": "77f85e5874e7bea7"
  },
  {
   "cell_type": "code",
   "execution_count": 52,
   "outputs": [
    {
     "name": "stdout",
     "output_type": "stream",
     "text": [
      "0 1 0 0 0 0 0 0 0 0\n",
      "0 0 0 0 1 0 0 0 0 0\n",
      "0 0 0 1 0 0 0 0 0 0\n",
      "0 1 0 0 1 1 0 0 0 0\n",
      "0 0 0 0 1 0 0 0 0 0\n",
      "0 0 0 0 0 0 0 1 0 0\n",
      "0 0 0 0 0 0 0 0 0 0\n",
      "0 0 0 0 0 0 0 0 0 1\n",
      "0 0 0 0 0 0 0 0 0 0\n",
      "0 0 0 0 0 0 1 0 0 0\n"
     ]
    }
   ],
   "source": [
    "import random\n",
    "\n",
    "# Исходная матрица\n",
    "matrix = [[0]*10 for _ in range(10)]\n",
    "\n",
    "# Список всех возможных индексов в матрице\n",
    "indices = [(i, j) for i in range(10) for j in range(10)]\n",
    "\n",
    "# Выбираем 10 случайных индексов\n",
    "random_indices = random.sample(indices, 10)\n",
    "\n",
    "# Присваиваем значение 1 выбранным элементам\n",
    "for i, j in random_indices:\n",
    "    matrix[i][j] = 1\n",
    "\n",
    "# Выводим результат\n",
    "for row in matrix:\n",
    "    print(*row)\n"
   ],
   "metadata": {
    "collapsed": false,
    "ExecuteTime": {
     "end_time": "2023-11-08T09:02:53.586928900Z",
     "start_time": "2023-11-08T09:02:53.567911900Z"
    }
   },
   "id": "f290659ce6df83bb"
  },
  {
   "cell_type": "code",
   "execution_count": null,
   "outputs": [],
   "source": [],
   "metadata": {
    "collapsed": false
   },
   "id": "76d2fb77845b73d2"
  },
  {
   "cell_type": "code",
   "execution_count": 53,
   "outputs": [],
   "source": [
    "import random\n",
    "\n",
    "def is_valid(P, x, y, N):\n",
    "    for i in range(max(0, x - 1), min(N, x + 2)):\n",
    "        for j in range(max(0, y - 1), min(N, y + 2)):\n",
    "            if P[i][j] == 1:\n",
    "                return False\n",
    "    return True\n",
    "\n",
    "random.seed(1)\n",
    "N = int(input())\n",
    "P = [[0] * N for i in range(N)]\n",
    "M = 10\n",
    "\n",
    "count = 0\n",
    "while count < M:\n",
    "    x, y = random.randint(0, N - 1), random.randint(0, N - 1)\n",
    "    if P[x][y] == 0 and is_valid(P, x, y, N):\n",
    "        P[x][y] = 1\n",
    "        count += 1\n",
    "\n",
    "\"\"\"В этом коде функция is_valid проверяет, можно ли установить единицу в данной ячейке. Если все соседние ячейки содержат ноль, то можно установить единицу. Затем в цикле while мы случайным образом выбираем ячейку и, если она допустима, устанавливаем в ней единицу. Этот процесс повторяется, пока мы не установим все 10 единиц.\n",
    "\"\"\""
   ],
   "metadata": {
    "collapsed": false,
    "ExecuteTime": {
     "end_time": "2023-11-08T09:05:45.048027400Z",
     "start_time": "2023-11-08T09:05:43.013288400Z"
    }
   },
   "id": "87c090bb3cab3d45"
  },
  {
   "cell_type": "code",
   "execution_count": null,
   "outputs": [],
   "source": [
    "# Импортируем модуль random для генерации случайных чисел\n",
    "import random\n",
    "\n",
    "# Функция для проверки, можно ли установить 1 в данной ячейке\n",
    "def is_valid(P, x, y, N):\n",
    "    # Проверяем все ячейки вокруг данной ячейки\n",
    "    for i in range(max(0, x - 1), min(N, x + 2)):\n",
    "        for j in range(max(0, y - 1), min(N, y + 2)):\n",
    "            # Если какая-либо соседняя ячейка содержит 1, возвращаем False\n",
    "            if P[i][j] == 1:\n",
    "                return False\n",
    "    # Если все соседние ячейки содержат 0, возвращаем True\n",
    "    return True\n",
    "\n",
    "# Устанавливаем \"зерно\" для генератора случайных чисел\n",
    "random.seed(1)\n",
    "\n",
    "# Считываем размер поля\n",
    "N = int(input())\n",
    "\n",
    "# Инициализируем поле нулями\n",
    "P = [[0] * N for i in range(N)]\n",
    "\n",
    "# Количество единиц, которые нужно установить\n",
    "M = 10\n",
    "\n",
    "# Счетчик установленных единиц\n",
    "count = 0\n",
    "\n",
    "# Пока не установим все единицы\n",
    "while count < M:\n",
    "    # Генерируем случайные координаты\n",
    "    x, y = random.randint(0, N - 1), random.randint(0, N - 1)\n",
    "    \n",
    "    # Если в данной ячейке 0 и можно установить 1\n",
    "    if P[x][y] == 0 and is_valid(P, x, y, N):\n",
    "        # Устанавливаем 1\n",
    "        P[x][y] = 1\n",
    "        # Увеличиваем счетчик\n",
    "        count += 1\n"
   ],
   "metadata": {
    "collapsed": false
   },
   "id": "9c8ba91bb29bcfc6"
  }
 ],
 "metadata": {
  "kernelspec": {
   "display_name": "Python 3",
   "language": "python",
   "name": "python3"
  },
  "language_info": {
   "codemirror_mode": {
    "name": "ipython",
    "version": 2
   },
   "file_extension": ".py",
   "mimetype": "text/x-python",
   "name": "python",
   "nbconvert_exporter": "python",
   "pygments_lexer": "ipython2",
   "version": "2.7.6"
  }
 },
 "nbformat": 4,
 "nbformat_minor": 5
}
