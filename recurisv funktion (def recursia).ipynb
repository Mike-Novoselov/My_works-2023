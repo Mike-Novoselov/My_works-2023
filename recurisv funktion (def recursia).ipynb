{
 "cells": [
  {
   "cell_type": "code",
   "execution_count": null,
   "id": "initial_id",
   "metadata": {
    "collapsed": true
   },
   "outputs": [],
   "source": [
    "\"\"\"\n",
    "    Рекурсивная функция\n",
    "\"\"\""
   ]
  },
  {
   "cell_type": "code",
   "execution_count": null,
   "outputs": [],
   "source": [
    "def recurive(value):\n",
    "    print(value)\n",
    "    if value < 5:\n",
    "        recurive(value+1)\n",
    "    print(f\" {value}\")\n",
    "        \n",
    "        \n",
    "recurive(1)"
   ],
   "metadata": {
    "collapsed": false
   },
   "id": "7378dc7e8c169dd5"
  },
  {
   "cell_type": "code",
   "execution_count": null,
   "outputs": [],
   "source": [
    "def privet(x):\n",
    "    if x == 0:\n",
    "        return \n",
    "    else:\n",
    "        print(f\"Hello World {x}\")\n",
    "        privet(x-1)\n",
    "    \n",
    "    \n",
    "privet(5)"
   ],
   "metadata": {
    "collapsed": false
   },
   "id": "3994217c9b976dd4"
  },
  {
   "cell_type": "code",
   "execution_count": null,
   "outputs": [],
   "source": [
    "# Вводится целое положительное число N. Необходимо написать рекурсивную функцию с именем get_rec_N, которая отображает на экране последовательность целых чисел от 1 до N (включительно). Каждое число выводится с новой строки. \n",
    "# \n",
    "# В качестве параметра функция get_rec_N должна принимать одно числовое значение. То есть, иметь только один параметр. Начальный вызов функции будет выглядеть так:\n",
    "# \n",
    "# get_rec_N(N)\n",
    "# Вызывать функцию не нужно, только объявить.\n",
    "# \n",
    "# Sample Input:\n",
    "# \n",
    "# 8\n",
    "# Sample Output:\n",
    "# \n",
    "# 1\n",
    "# 2\n",
    "# 3\n",
    "# 4\n",
    "# 5\n",
    "# 6\n",
    "# 7\n",
    "# 8\n",
    "\n",
    "def get_rec_N(N):\n",
    "    if N > 0:\n",
    "        get_rec_N(N-1)\n",
    "        print(N)\n",
    "\n",
    "\n",
    "get_rec_N(8)\n"
   ],
   "metadata": {
    "collapsed": false
   },
   "id": "394a524c8a3f44b5"
  },
  {
   "cell_type": "code",
   "execution_count": null,
   "outputs": [],
   "source": [
    "# Вводится список целых чисел в одну строчку через пробел. Необходимо вычислить сумму этих введенных значений, используя рекурсивную функцию (для перебора элементов списка) с именем get_rec_sum. Функция должна возвращать значение суммы. (Выводить на экран она ничего не должна).\n",
    "# \n",
    "# Вызовите эту функцию и выведите вычисленное значение суммы на экран.\n",
    "# \n",
    "# Sample Input:\n",
    "# \n",
    "# 8 11 -5 4 3\n",
    "# Sample Output:\n",
    "# \n",
    "# 21\n",
    "\n",
    "def get_rec_sum(x):\n",
    "    if x == 0:\n",
    "        return 0\n",
    "    elif x == 1:\n",
    "        return 1\n",
    "    else: x + get_rec_sum(x-1)\n",
    "    \n",
    "    \n",
    "x = [int(x) for x in input().split()]"
   ],
   "metadata": {
    "collapsed": false
   },
   "id": "91671e67f0bff64a"
  },
  {
   "cell_type": "code",
   "execution_count": null,
   "outputs": [],
   "source": [
    "get_rec_sum(x)"
   ],
   "metadata": {
    "collapsed": false
   },
   "id": "e1fad8928461d714"
  },
  {
   "cell_type": "code",
   "execution_count": null,
   "outputs": [],
   "source": [
    "n = [8, 11, -5, 4, 3]\n",
    "def get_rec_sum(n):\n",
    "    if len(n) == 1:  #Проверяем длину списка и если длина = 1,\n",
    "        return n[0]     # то возвращаем единственно значение из списка. Это и есть первая сумма списка\n",
    "    else:\n",
    "        return n[0] + get_rec_sum(n[1:])\n",
    "    \n",
    "\n",
    "get_rec_sum(n)"
   ],
   "metadata": {
    "collapsed": false
   },
   "id": "851ab5f2f383a872"
  },
  {
   "cell_type": "code",
   "execution_count": null,
   "outputs": [],
   "source": [
    "sp = list(map(int, input().split()))\n",
    "\n",
    "def get_rec_sum(s):\n",
    "    if len(s) == 1:\n",
    "        return s[0]\n",
    "    s1 = get_rec_sum(s[1:])\n",
    "    s2 = s[0]\n",
    "    s = s1 + s2\n",
    "    return s\n",
    "\n",
    "print(get_rec_sum(sp))"
   ],
   "metadata": {
    "collapsed": false
   },
   "id": "4864fe9c21e8c60a"
  },
  {
   "cell_type": "code",
   "execution_count": null,
   "outputs": [],
   "source": [
    "# Вводится натуральное число N. Необходимо с помощью рекурсивной функции fib_rec(N, f=[]) (здесь N - общее количество чисел Фибоначчи; f - начальный список этих чисел) сформировать последовательность чисел Фибоначчи по правилу: первые два числа равны 1 и 1, а каждое следующе значение равно сумме двух предыдущих. Пример такой последовательности для первых 7 чисел: 1, 1, 2, 3, 5, 8, 13, ...\n",
    "# \n",
    "# Функция должна возвращать список сформированной последовательности длиной N.\n",
    "# \n",
    "# Вызывать функцию не нужно, только объявить.\n",
    "# \n",
    "# Sample Input:\n",
    "# \n",
    "# 7\n",
    "# Sample Output:\n",
    "# \n",
    "# 1 1 2 3 5 8 13\n",
    "\n",
    "def fido(x):\n",
    "    if x == 0:\n",
    "        return 0\n",
    "    elif x == 1:\n",
    "        return 1\n",
    "    else:\n",
    "        return fido(x-1) + fido(x-2)\n",
    "        \n",
    "    \n",
    "    \n",
    "print(fido(7))"
   ],
   "metadata": {
    "collapsed": false
   },
   "id": "9b5ae444e571692f"
  },
  {
   "cell_type": "code",
   "execution_count": null,
   "outputs": [],
   "source": [
    "def fib_rec(N, f=[]):\n",
    "    if len(f) < N:\n",
    "        if len(f) == 0:\n",
    "            f.append(1)\n",
    "            f.append(1)\n",
    "        else:\n",
    "            f.append(f[-1] + f[-2])\n",
    "        return fib_rec(N, f)\n",
    "    else:\n",
    "        return f[:N]\n",
    "\n",
    "N = int(input())\n",
    "print(' '.join(map(str, fib_rec(N))))"
   ],
   "metadata": {
    "collapsed": false
   },
   "id": "364a8e3378f3e218"
  },
  {
   "cell_type": "code",
   "execution_count": null,
   "outputs": [],
   "source": [
    "# Вводится целое неотрицательное число n. Необходимо с помощью рекурсивной функции fact_rec вычислить факториал числа n. Напомню, что факториал числа, равен: n! = 1 * 2 * 3 *...* n. Функция должна возвращать вычисленное значение.\n",
    "# Вызывать функцию не нужно, только объявить со следующей сигнатурой:\n",
    "# \n",
    "# def fact_rec(n): ...\n",
    "# \n",
    "# Sample Input:\n",
    "# \n",
    "# 6\n",
    "# Sample Output:\n",
    "# \n",
    "# 720\n",
    "\n",
    "n = int(input())\n",
    "\n",
    "\n",
    "# здесь задается функция fact_rec  (переменную n не менять!)\n",
    "def fact_rec(x):\n",
    "    if x == 0:\n",
    "        return 1\n",
    "    else:\n",
    "        return x * fact_rec(x - 1)\n",
    "\n",
    "\n",
    "fact_rec(n)"
   ],
   "metadata": {
    "collapsed": false
   },
   "id": "acb8f1b045f2751"
  },
  {
   "cell_type": "code",
   "execution_count": null,
   "outputs": [],
   "source": [
    "# Имеется следующий многомерный список:\n",
    "# \n",
    "# d = [1, 2, [True, False], [\"Москва\", \"Уфа\", [100, 101], ['True', [-2, -1]]], 7.89]\n",
    "# С помощью рекурсивной функции get_line_list создать на его основе одномерный список из значений элементов списка d. Функция должна возвращать новый созданный одномерный список.  (Только возвращать, выводить на экран ничего не нужно.)\n",
    "# \n",
    "# Вызывать функцию не нужно, только объявить со следующей сигнатурой:\n",
    "# \n",
    "# def get_line_list(d,a=[]): ...\n",
    "# где d - исходный список; a - новый формируемый\n",
    "# \n",
    "# d = [1, 2, [True, False], [\"Москва\", \"Уфа\", [100, 101], ['True', [-2, -1]]], 7.89]\n",
    "\n",
    "# здесь продолжайте программу\n",
    "\n",
    "d = [1, 2, [True, False], [\"Москва\", \"Уфа\", [100, 101], ['True', [-2, -1]]], 7.89]\n",
    "\n",
    "\n",
    "def get_line_list(d, a=[]):\n",
    "    for item in d:\n",
    "        if isinstance(item, list):\n",
    "            get_line_list(item, a)\n",
    "        else:\n",
    "            a.append(item)\n",
    "    return a\n",
    "\n",
    "\n",
    "a = get_line_list(d)\n",
    "print(a)\n"
   ],
   "metadata": {
    "collapsed": false
   },
   "id": "f10f120cc819fa34"
  },
  {
   "cell_type": "code",
   "execution_count": null,
   "outputs": [],
   "source": [
    "# Лягушка прыгает вперед и может скакнуть либо на одно деление, либо сразу на два. Наша задача определить количество вариантов маршрутов, которыми лягушка может достичь риски под номером N (натуральное число N вводится с клавиатуры).\n",
    "# \n",
    "# \n",
    "# \n",
    "# Решать задачу следует с применением рекурсивной функции. Назовем ее get_path. Алгоритм решения будет следующий. Рассмотрим, например, риску под номером 4. Очевидно, в нее лягушка может скакнуть либо с риски номер 2, либо с риски номер 3. Значит, общее число вариантов перемещений лягушки можно определить как: \n",
    "# \n",
    "# get_path(4) = get_path(3) + get_path(2)\n",
    "# \n",
    "# Аналогично будет справедливо и для любой риски N:\n",
    "# \n",
    "# get_path(N) = get_path(N-1) + get_path(N-2)\n",
    "# \n",
    "# А начальные условия задачи, следующие:\n",
    "# \n",
    "# get_path(1) = 1\n",
    "# get_path(2) = 2\n",
    "# \n",
    "# Реализуйте такую рекурсивную функцию, которая должна возвращать количество вариантов перемещений лягушки для риски под номером N.\n",
    "# \n",
    "# Вызовите эту функцию для введенного числа N и отобразите результат на экране.\n",
    "# \n",
    "# Sample Input:\n",
    "# \n",
    "# 7\n",
    "# Sample Output:\n",
    "# \n",
    "# 21\n",
    "\n",
    "\n",
    "N = 3\n",
    "\n",
    "\n",
    "def get_path(N):\n",
    "    if N == 1:\n",
    "        return 1\n",
    "    if N == 2:\n",
    "        return 2\n",
    "    n1 = get_path(N - 1)\n",
    "    n2 = get_path(N - 2)\n",
    "    n = n1 + n2\n",
    "    return n\n",
    "\n",
    "\n",
    "print(get_path(N))"
   ],
   "metadata": {
    "collapsed": false
   },
   "id": "c2a7b463a11f310e"
  },
  {
   "cell_type": "code",
   "execution_count": null,
   "outputs": [],
   "source": [
    "def get_path(N):\n",
    "    if N == 1:\n",
    "        return 1\n",
    "    elif N == 2:\n",
    "        return 2\n",
    "    else:\n",
    "        return get_path(N - 1) + get_path(N - 2)\n",
    "\n",
    "\n",
    "# Считываем число N с клавиатуры\n",
    "N = int(input(\"Введите номер риски N: \"))\n",
    "\n",
    "# Вызываем функцию и выводим результат\n",
    "result = get_path(N)\n",
    "print(result)\n"
   ],
   "metadata": {
    "collapsed": false
   },
   "id": "8e3b4192ded4d247"
  },
  {
   "cell_type": "code",
   "execution_count": null,
   "outputs": [],
   "source": [],
   "metadata": {
    "collapsed": false
   },
   "id": "c7c1dec2ec071432"
  },
  {
   "cell_type": "code",
   "execution_count": 13,
   "outputs": [
    {
     "name": "stdout",
     "output_type": "stream",
     "text": [
      "[1, 2, 3, 3, 4, 4, 8, 10, 11]\n"
     ]
    }
   ],
   "source": [
    "\"\"\"\n",
    "            Метод слияния списков\n",
    "\n",
    "\n",
    "lst1 = [1, 4, 10, 11]\n",
    "lst2 = [2, 3, 3, 4, 8]\n",
    "\"\"\"\n",
    "\n",
    "def merge_lists(lst1, lst2):\n",
    "    if not lst1:\n",
    "        return lst2\n",
    "    if not lst2:\n",
    "        return lst1\n",
    "    \n",
    "    if lst1[0] <= lst2[0]:\n",
    "        return [lst1[0]] + merge_lists(lst1[1:], lst2)\n",
    "    else:\n",
    "        return [lst2[0]] + merge_lists(lst1, lst2[1:])\n",
    "\n",
    "lst1 = [1, 4, 10, 11]\n",
    "lst2 = [2, 3, 3, 4, 8]\n",
    "\n",
    "merged_list = merge_lists(lst1, lst2)\n",
    "print(merged_list)"
   ],
   "metadata": {
    "collapsed": false
   },
   "id": "47d47dd740df75f6"
  },
  {
   "cell_type": "code",
   "execution_count": null,
   "outputs": [],
   "source": [
    "# Вводится список из целых чисел в одну строчку через пробел. Необходимо выполнить его сортировку по возрастанию с помощью алгоритма сортировки слиянием. Функция должна возвращать новый отсортированный список.\n",
    "# Вызовите результирующую функцию сортировки для введенного списка и отобразите результат на экран в виде последовательности чисел, записанных через пробел.\n",
    "# \n",
    "# Подсказка. Для разбиения списка и его последующей сборки используйте рекурсивные функции.\n",
    "# \n",
    "# P. S. Теория сортировки в видео предыдущего шага.\n",
    "# \n",
    "# Sample Input:\n",
    "# \n",
    "# 8 11 -6 3 0 1 1\n",
    "# Sample Output:\n",
    "# \n",
    "# -6 0 1 1 3 8 11\n",
    "\n",
    "x = [int(i) for i in input().split()]\n",
    "\n",
    "print(*sorted(x))"
   ],
   "metadata": {
    "collapsed": false
   },
   "id": "30a1770a6bf51b8"
  },
  {
   "cell_type": "code",
   "execution_count": null,
   "outputs": [],
   "source": [
    "def merge_sort(arr):\n",
    "    if len(arr) <= 1:\n",
    "        return arr\n",
    "    mid = len(arr) // 2\n",
    "    left = merge_sort(arr[:mid])\n",
    "    right = merge_sort(arr[mid:])\n",
    "    return merge(left, right)\n",
    "\n",
    "\n",
    "def merge(left, right):\n",
    "    result = []\n",
    "    i, j = 0, 0\n",
    "    while i < len(left) and j < len(right):\n",
    "        if left[i] < right[j]:\n",
    "            result.append(left[i])\n",
    "            i += 1\n",
    "        else:\n",
    "            result.append(right[j])\n",
    "            j += 1\n",
    "    result += left[i:]\n",
    "    result += right[j:]\n",
    "    return result\n",
    "\n",
    "\n",
    "arr = list(map(int, input().split()))\n",
    "sorted_arr = merge_sort(arr)\n",
    "print(' '.join(map(str, sorted_arr)))\n"
   ],
   "metadata": {
    "collapsed": false
   },
   "id": "ba80c220c220c870"
  }
 ],
 "metadata": {
  "kernelspec": {
   "display_name": "Python 3",
   "language": "python",
   "name": "python3"
  },
  "language_info": {
   "codemirror_mode": {
    "name": "ipython",
    "version": 2
   },
   "file_extension": ".py",
   "mimetype": "text/x-python",
   "name": "python",
   "nbconvert_exporter": "python",
   "pygments_lexer": "ipython2",
   "version": "2.7.6"
  }
 },
 "nbformat": 4,
 "nbformat_minor": 5
}
