{
 "cells": [
  {
   "cell_type": "code",
   "execution_count": 20,
   "id": "initial_id",
   "metadata": {
    "collapsed": true,
    "ExecuteTime": {
     "end_time": "2023-11-02T05:50:26.265892500Z",
     "start_time": "2023-11-02T05:50:26.246874900Z"
    }
   },
   "outputs": [],
   "source": [
    "\"\"\"\n",
    "вводим целочисленое значение, на выходе получаем список чисел по отдельности\n",
    "\"\"\"\n",
    "def split_number(number):\n",
    "    if number < 10:\n",
    "        return [number]\n",
    "    else:\n",
    "        digits = []\n",
    "        while number > 0:\n",
    "            digits.append(number % 10)\n",
    "            number //= 10\n",
    "            print(digits)\n",
    "        return digits[::-1]\n"
   ]
  },
  {
   "cell_type": "code",
   "execution_count": 21,
   "outputs": [
    {
     "name": "stdout",
     "output_type": "stream",
     "text": [
      "[3]\n",
      "[3, 2]\n",
      "[3, 2, 1]\n",
      "[1, 2, 3]\n"
     ]
    }
   ],
   "source": [
    "print(split_number(123))"
   ],
   "metadata": {
    "collapsed": false,
    "ExecuteTime": {
     "end_time": "2023-11-02T05:50:27.172863400Z",
     "start_time": "2023-11-02T05:50:27.151844Z"
    }
   },
   "id": "77b10b34d509ffa"
  },
  {
   "cell_type": "code",
   "execution_count": 17,
   "outputs": [
    {
     "name": "stdout",
     "output_type": "stream",
     "text": [
      "12\n"
     ]
    }
   ],
   "source": [
    "print(123 // 10)"
   ],
   "metadata": {
    "collapsed": false,
    "ExecuteTime": {
     "end_time": "2023-11-02T05:38:05.916060800Z",
     "start_time": "2023-11-02T05:38:05.901046900Z"
    }
   },
   "id": "19495e0e6d8f2c3a"
  },
  {
   "cell_type": "code",
   "execution_count": 9,
   "outputs": [
    {
     "name": "stdout",
     "output_type": "stream",
     "text": [
      "[1, 3, 4, 1, 5, 0, 0, 0, 0]\n"
     ]
    }
   ],
   "source": [
    "\"\"\"\n",
    "Имеем список из целых чисел (питонячий). \n",
    "Нужно перенести все нули списка в конец за 0(п) по времени и 0(1) по памяти, сохраняя порядок ненулевых элементов.\n",
    "[1,2,3,0,0,4,0,5] -> [1,2,3,4,5,0,0,0]\n",
    "\"\"\"\n",
    "\n",
    "def replace_zeroes(arr):\n",
    "    zero_ind = None\n",
    "    \n",
    "    for i in range(len(arr)):\n",
    "        if (arr[i] == 0) and (zero_ind is None):\n",
    "            zero_ind = i\n",
    "            continue\n",
    "            \n",
    "        if (zero_ind is not None) and (arr[i] !=0):\n",
    "            arr[zero_ind], arr[i] = arr[i], arr[zero_ind]\n",
    "            zero_ind += 1\n",
    "        \n",
    "arr = [1, 3, 4, 0, 0, 1, 0, 5, 0]\n",
    "replace_zeroes(arr)\n",
    "print(arr)"
   ],
   "metadata": {
    "collapsed": false,
    "ExecuteTime": {
     "end_time": "2023-11-09T14:21:12.941138800Z",
     "start_time": "2023-11-09T14:21:12.916115100Z"
    }
   },
   "id": "731e6b02504c73da"
  },
  {
   "cell_type": "code",
   "execution_count": 10,
   "outputs": [],
   "source": [
    "def replace_zeroes(arr):\n",
    "    zero_ind = None\n",
    "    \n",
    "    for i in range(len(arr)):\n",
    "        if (arr[i] == 0) and (zero_ind is None): \n",
    "            zero_ind = i \n",
    "            continue\n",
    "            \n",
    "        if (zero_ind is not None) and (arr[i] != 0): \n",
    "            arr[zero_ind], arr[i] = arr[i], arr[zero_ind] \n",
    "            zero_ind+=1\n",
    "        \n"
   ],
   "metadata": {
    "collapsed": false,
    "ExecuteTime": {
     "end_time": "2023-11-09T14:21:14.470907900Z",
     "start_time": "2023-11-09T14:21:14.460898500Z"
    }
   },
   "id": "548436d2e9558d69"
  },
  {
   "cell_type": "code",
   "execution_count": 8,
   "outputs": [
    {
     "name": "stdout",
     "output_type": "stream",
     "text": [
      "[1, 3, 4, 1, 5, 0, 0, 0, 0]\n"
     ]
    }
   ],
   "source": [
    "arr = [1, 3, 4, 0, 0, 1, 0, 5, 0]\n",
    "replace_zeroes(arr)\n",
    "print(arr)"
   ],
   "metadata": {
    "collapsed": false,
    "ExecuteTime": {
     "end_time": "2023-11-09T14:21:01.047568100Z",
     "start_time": "2023-11-09T14:21:01.027549700Z"
    }
   },
   "id": "36eec723db062c31"
  },
  {
   "cell_type": "code",
   "execution_count": null,
   "outputs": [],
   "source": [],
   "metadata": {
    "collapsed": false
   },
   "id": "815599e638cb3b5e"
  }
 ],
 "metadata": {
  "kernelspec": {
   "display_name": "Python 3",
   "language": "python",
   "name": "python3"
  },
  "language_info": {
   "codemirror_mode": {
    "name": "ipython",
    "version": 2
   },
   "file_extension": ".py",
   "mimetype": "text/x-python",
   "name": "python",
   "nbconvert_exporter": "python",
   "pygments_lexer": "ipython2",
   "version": "2.7.6"
  }
 },
 "nbformat": 4,
 "nbformat_minor": 5
}
