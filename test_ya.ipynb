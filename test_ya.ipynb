{
 "cells": [
  {
   "cell_type": "code",
   "execution_count": 20,
   "id": "initial_id",
   "metadata": {
    "collapsed": true,
    "ExecuteTime": {
     "end_time": "2023-11-02T05:50:26.265892500Z",
     "start_time": "2023-11-02T05:50:26.246874900Z"
    }
   },
   "outputs": [],
   "source": [
    "def split_number(number):\n",
    "    if number < 10:\n",
    "        return [number]\n",
    "    else:\n",
    "        digits = []\n",
    "        while number > 0:\n",
    "            digits.append(number % 10)\n",
    "            number //= 10\n",
    "            print(digits)\n",
    "        return digits[::-1]\n"
   ]
  },
  {
   "cell_type": "code",
   "execution_count": 21,
   "outputs": [
    {
     "name": "stdout",
     "output_type": "stream",
     "text": [
      "[3]\n",
      "[3, 2]\n",
      "[3, 2, 1]\n",
      "[1, 2, 3]\n"
     ]
    }
   ],
   "source": [
    "print(split_number(123))"
   ],
   "metadata": {
    "collapsed": false,
    "ExecuteTime": {
     "end_time": "2023-11-02T05:50:27.172863400Z",
     "start_time": "2023-11-02T05:50:27.151844Z"
    }
   },
   "id": "77b10b34d509ffa"
  },
  {
   "cell_type": "code",
   "execution_count": 17,
   "outputs": [
    {
     "name": "stdout",
     "output_type": "stream",
     "text": [
      "12\n"
     ]
    }
   ],
   "source": [
    "print(123 // 10)"
   ],
   "metadata": {
    "collapsed": false,
    "ExecuteTime": {
     "end_time": "2023-11-02T05:38:05.916060800Z",
     "start_time": "2023-11-02T05:38:05.901046900Z"
    }
   },
   "id": "19495e0e6d8f2c3a"
  },
  {
   "cell_type": "code",
   "execution_count": null,
   "outputs": [],
   "source": [],
   "metadata": {
    "collapsed": false
   },
   "id": "731e6b02504c73da"
  }
 ],
 "metadata": {
  "kernelspec": {
   "display_name": "Python 3",
   "language": "python",
   "name": "python3"
  },
  "language_info": {
   "codemirror_mode": {
    "name": "ipython",
    "version": 2
   },
   "file_extension": ".py",
   "mimetype": "text/x-python",
   "name": "python",
   "nbconvert_exporter": "python",
   "pygments_lexer": "ipython2",
   "version": "2.7.6"
  }
 },
 "nbformat": 4,
 "nbformat_minor": 5
}
