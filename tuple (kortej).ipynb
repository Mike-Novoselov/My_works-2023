{
 "cells": [
  {
   "cell_type": "code",
   "execution_count": 9,
   "outputs": [],
   "source": [
    "b = (1,)"
   ],
   "metadata": {
    "collapsed": false,
    "pycharm": {
     "name": "#%%\n"
    }
   }
  },
  {
   "cell_type": "code",
   "execution_count": 10,
   "outputs": [],
   "source": [
    "a = (True, [1,2,3], \"hello\", 5, {\"house\":\"дом\"})"
   ],
   "metadata": {
    "collapsed": false,
    "pycharm": {
     "name": "#%%\n"
    }
   }
  },
  {
   "cell_type": "code",
   "execution_count": 11,
   "outputs": [
    {
     "name": "stdout",
     "output_type": "stream",
     "text": [
      "(True, [1, 2, 3], 'hello', 5, {'house': 'дом'})\n"
     ]
    }
   ],
   "source": [
    "print(a)"
   ],
   "metadata": {
    "collapsed": false,
    "pycharm": {
     "name": "#%%\n"
    }
   }
  },
  {
   "cell_type": "code",
   "execution_count": 12,
   "outputs": [],
   "source": [
    "a[1].append(\"4\")"
   ],
   "metadata": {
    "collapsed": false,
    "pycharm": {
     "name": "#%%\n"
    }
   }
  },
  {
   "cell_type": "code",
   "execution_count": 13,
   "outputs": [
    {
     "name": "stdout",
     "output_type": "stream",
     "text": [
      "(True, [1, 2, 3, '4'], 'hello', 5, {'house': 'дом'})\n"
     ]
    }
   ],
   "source": [
    "print(a)"
   ],
   "metadata": {
    "collapsed": false,
    "pycharm": {
     "name": "#%%\n"
    }
   }
  },
  {
   "cell_type": "code",
   "execution_count": 14,
   "outputs": [],
   "source": [
    "a = (\"abc\", 2, [1,2], True, 2, 5)"
   ],
   "metadata": {
    "collapsed": false,
    "pycharm": {
     "name": "#%%\n"
    }
   }
  },
  {
   "cell_type": "code",
   "execution_count": 15,
   "outputs": [
    {
     "data": {
      "text/plain": "2"
     },
     "execution_count": 15,
     "metadata": {},
     "output_type": "execute_result"
    }
   ],
   "source": [
    "a.count(2)"
   ],
   "metadata": {
    "collapsed": false,
    "pycharm": {
     "name": "#%%\n"
    }
   }
  },
  {
   "cell_type": "code",
   "execution_count": 16,
   "outputs": [
    {
     "data": {
      "text/plain": "1"
     },
     "execution_count": 16,
     "metadata": {},
     "output_type": "execute_result"
    }
   ],
   "source": [
    "a.count(True)"
   ],
   "metadata": {
    "collapsed": false,
    "pycharm": {
     "name": "#%%\n"
    }
   }
  },
  {
   "cell_type": "code",
   "execution_count": 18,
   "outputs": [
    {
     "data": {
      "text/plain": "0"
     },
     "execution_count": 18,
     "metadata": {},
     "output_type": "execute_result"
    }
   ],
   "source": [
    "a.count(\"hello\")"
   ],
   "metadata": {
    "collapsed": false,
    "pycharm": {
     "name": "#%%\n"
    }
   }
  },
  {
   "cell_type": "code",
   "execution_count": 20,
   "outputs": [
    {
     "data": {
      "text/plain": "True"
     },
     "execution_count": 20,
     "metadata": {},
     "output_type": "execute_result"
    }
   ],
   "source": [
    "2 in a"
   ],
   "metadata": {
    "collapsed": false,
    "pycharm": {
     "name": "#%%\n"
    }
   }
  },
  {
   "cell_type": "code",
   "execution_count": 25,
   "outputs": [
    {
     "name": "stdout",
     "output_type": "stream",
     "text": [
      "(3.4, -56.7, 8, 11, -5, 2)\n"
     ]
    }
   ],
   "source": [
    "# Подвиг 3. Имеется кортеж:\n",
    "#\n",
    "# t = (3.4, -56.7)\n",
    "#\n",
    "# Вводится последовательность целых чисел в одну строчку через пробел. Необходимо их добавить в кортеж t. Результат вывести на экран командой:\n",
    "#\n",
    "# print(t)\n",
    "#\n",
    "# Sample Input:\n",
    "#\n",
    "# 8 11 -5 2\n",
    "# Sample Output:\n",
    "#\n",
    "# (3.4, -56.7, 8, 11, -5, 2)\n",
    "\n",
    "t = (3.4, -56.7)\n",
    "lst = list(map(int, input().split()))\n",
    "t += tuple(lst)\n",
    "print(t)"
   ],
   "metadata": {
    "collapsed": false,
    "pycharm": {
     "name": "#%%\n"
    }
   }
  },
  {
   "cell_type": "code",
   "execution_count": 49,
   "outputs": [
    {
     "name": "stdout",
     "output_type": "stream",
     "text": [
      "('Уфа', 'Казань', 'Самара', 'Москва')\n"
     ]
    }
   ],
   "source": [
    "# Подвиг 4. Вводятся названия городов в одну строку через пробел. На их основе формируется кортеж. Если в этом кортеже нет города \"Москва\", то следует его добавить в конец кортежа. Результат вывести на экран в виде строки с названиями городов через пробел.\n",
    "#\n",
    "# Sample Input:\n",
    "#\n",
    "# Уфа Казань Самара\n",
    "# Sample Output:\n",
    "#\n",
    "# Уфа Казань Самара Москва\n",
    "\n",
    "t = ()\n",
    "lst = list(input().split())\n",
    "t += tuple(lst)\n",
    "if 'Москва' not in t:\n",
    "    t += tuple(['Москва'],)\n",
    "print(*t)"
   ],
   "metadata": {
    "collapsed": false,
    "pycharm": {
     "name": "#%%\n"
    }
   }
  },
  {
   "cell_type": "code",
   "execution_count": 46,
   "outputs": [],
   "source": [],
   "metadata": {
    "collapsed": false,
    "pycharm": {
     "name": "#%%\n"
    }
   }
  },
  {
   "cell_type": "code",
   "execution_count": 52,
   "outputs": [
    {
     "name": "stdout",
     "output_type": "stream",
     "text": [
      "Воронеж Самара Тольятти Пермь\n"
     ]
    }
   ],
   "source": [
    "# Подвиг 5. Вводятся названия городов в одну строку через пробел. На их основе формируется кортеж. Если в этом кортеже присутствует город \"Ульяновск\", то этот элемент следует удалить (создав новый кортеж). Результат вывести на экран в виде строки с названиями городов через пробел.\n",
    "#\n",
    "# Sample Input:\n",
    "#\n",
    "# Воронеж Самара Тольятти Ульяновск Пермь\n",
    "# Sample Output:\n",
    "#\n",
    "# Воронеж Самара Тольятти Пермь\n",
    "\n",
    "cities = input().split()\n",
    "if \"Ульяновск\" in cities:\n",
    "    cities.remove(\"Ульяновск\")\n",
    "print(\" \".join(cities))"
   ],
   "metadata": {
    "collapsed": false,
    "pycharm": {
     "name": "#%%\n"
    }
   }
  },
  {
   "cell_type": "code",
   "execution_count": 64,
   "outputs": [
    {
     "name": "stdout",
     "output_type": "stream",
     "text": [
      "варвара василиса василий\n"
     ]
    }
   ],
   "source": [
    "# Подвиг 6. Вводятся имена студентов в одну строчку через пробел. На их основе формируется кортеж. Отобразите на экране все имена из этого кортежа, которые содержат фрагмент \"ва\" (без учета регистра). Имена выводятся в одну строчку через пробел в нижнем регистре (малыми буквами).\n",
    "#\n",
    "# Sample Input:\n",
    "#\n",
    "# Петя Варвара Венера Василиса Василий Федор\n",
    "# Sample Output:\n",
    "#\n",
    "# варвара василиса василий\n",
    "\n",
    "students = input().split()\n",
    "students = [student.lower() for student in students if \"ва\" in student.lower()]\n",
    "print(\" \".join(students))"
   ],
   "metadata": {
    "collapsed": false,
    "pycharm": {
     "name": "#%%\n"
    }
   }
  },
  {
   "cell_type": "code",
   "execution_count": 65,
   "outputs": [
    {
     "name": "stdout",
     "output_type": "stream",
     "text": [
      "варвара василиса василий "
     ]
    }
   ],
   "source": [
    "n = tuple(input().split())\n",
    "\n",
    "for i in n:\n",
    "    if 'ва' in i.lower():\n",
    "        print(i.lower(),end=' ')"
   ],
   "metadata": {
    "collapsed": false,
    "pycharm": {
     "name": "#%%\n"
    }
   }
  },
  {
   "cell_type": "code",
   "execution_count": 68,
   "outputs": [],
   "source": [
    "# Подвиг 7. Вводятся целые числа в одну строку через пробел. На их основе формируется кортеж. Необходимо создать еще один кортеж с уникальными (не повторяющимися) значениями из первого кортежа. Результат отобразите в виде списка чисел через пробел.\n",
    "#\n",
    "# P. S. Подобные задачи решаются, как правило, с помощью множеств, но в качестве практики пока обойдемся без них.\n",
    "#\n",
    "# Sample Input:\n",
    "#\n",
    "# 8 11 -5 -2 8 11 -5\n",
    "# Sample Output:\n",
    "#\n",
    "# 8 11 -5 -2\n"
   ],
   "metadata": {
    "collapsed": false,
    "pycharm": {
     "name": "#%%\n"
    }
   }
  },
  {
   "cell_type": "code",
   "execution_count": 70,
   "outputs": [
    {
     "name": "stdout",
     "output_type": "stream",
     "text": [
      "8 11 -5 -2\n"
     ]
    }
   ],
   "source": [
    "lst = list(map(int, input().split()))\n",
    "unique_lst = []\n",
    "for num in lst:\n",
    "    if num not in unique_lst:\n",
    "        unique_lst.append(num)\n",
    "print(\" \".join(map(str, unique_lst)))"
   ],
   "metadata": {
    "collapsed": false,
    "pycharm": {
     "name": "#%%\n"
    }
   }
  },
  {
   "cell_type": "code",
   "execution_count": null,
   "outputs": [],
   "source": [
    "tup = tuple(input().split())\n",
    "tup2 = ()\n",
    "\n",
    "for i in tup:\n",
    "    if i not in tup2:\n",
    "        tup2 += i,\n",
    "\n",
    "print(*tup2)"
   ],
   "metadata": {
    "collapsed": false,
    "pycharm": {
     "name": "#%%\n"
    }
   }
  },
  {
   "cell_type": "code",
   "execution_count": 72,
   "outputs": [
    {
     "name": "stdout",
     "output_type": "stream",
     "text": [
      "\n"
     ]
    }
   ],
   "source": [
    "# Подвиг 8. Вводятся целые числа в одну строку через пробел. На их основе формируется кортеж. Необходимо найти и вывести все индексы неуникальных (повторяющихся) значений в этом кортеже. Результат отобразите в виде строки чисел, записанных через пробел.\n",
    "#\n",
    "# Sample Input:\n",
    "#\n",
    "# 5 4 -3 2 4 5 10 11\n",
    "# Sample Output:\n",
    "#\n",
    "# 0 1 4 5\n",
    "\n",
    "tup = tuple(input().split())\n",
    "tup2 = ()\n",
    "\n",
    "for i in tup:\n",
    "    if i  in tup2:\n",
    "        tup2 += tup.index(i),\n",
    "\n",
    "print(*tup2)"
   ],
   "metadata": {
    "collapsed": false,
    "pycharm": {
     "name": "#%%\n"
    }
   }
  },
  {
   "cell_type": "code",
   "execution_count": 3,
   "outputs": [
    {
     "name": "stdout",
     "output_type": "stream",
     "text": [
      "0 1 4 5\n"
     ]
    }
   ],
   "source": [
    "# Подвиг 8. Вводятся целые числа в одну строку через пробел. На их основе формируется кортеж. Необходимо найти и вывести все индексы неуникальных (повторяющихся) значений в этом кортеже. Результат отобразите в виде строки чисел, записанных через пробел.\n",
    "#\n",
    "# Sample Input:\n",
    "#\n",
    "# 5 4 -3 2 4 5 10 11\n",
    "# Sample Output:\n",
    "#\n",
    "# 0 1 4 5\n",
    "\n",
    "lst = list(map(int, input().split()))\n",
    "indexes = []\n",
    "for i in range(len(lst)):\n",
    "    if lst[i] in lst[:i] or lst[i] in lst[i+1:]:\n",
    "        indexes.append(i)\n",
    "print(\" \".join(map(str, indexes)))"
   ],
   "metadata": {
    "collapsed": false,
    "pycharm": {
     "name": "#%%\n"
    }
   }
  },
  {
   "cell_type": "code",
   "execution_count": 5,
   "outputs": [
    {
     "name": "stdout",
     "output_type": "stream",
     "text": [
      "1 0 0\n",
      "0 1 0\n",
      "0 0 1\n"
     ]
    }
   ],
   "source": [
    "# Подвиг 9. Имеется двумерный кортеж, размером 5 x 5 элементов:\n",
    "#\n",
    "# t = ((1, 0, 0, 0, 0),\n",
    "#      (0, 1, 0, 0, 0),\n",
    "#      (0, 0, 1, 0, 0),\n",
    "#      (0, 0, 0, 1, 0),\n",
    "#      (0, 0, 0, 0, 1))\n",
    "# Вводится натуральное число N (N < 5). Необходимо на основе кортежа t сформировать новый аналогичный кортеж t2 размером N x N элементов. Результат вывести на экран в виде таблицы чисел.\n",
    "#\n",
    "# Sample Input:\n",
    "#\n",
    "# 3\n",
    "# Sample Output:\n",
    "#\n",
    "# 1 0 0\n",
    "# 0 1 0\n",
    "# 0 0 1\n",
    "\n",
    "t = ((1, 0, 0, 0, 0),\n",
    "     (0, 1, 0, 0, 0),\n",
    "     (0, 0, 1, 0, 0),\n",
    "     (0, 0, 0, 1, 0),\n",
    "     (0, 0, 0, 0, 1))\n",
    "\n",
    "N = int(input())\n",
    "t2 = tuple(tuple(row[:N]) for row in t[:N])\n",
    "\n",
    "for row in t2:\n",
    "    print(\" \".join(map(str, row)))"
   ],
   "metadata": {
    "collapsed": false,
    "pycharm": {
     "name": "#%%\n"
    }
   }
  },
  {
   "cell_type": "code",
   "execution_count": null,
   "outputs": [],
   "source": [
    "n = int(input())\n",
    "\n",
    "t = ((1, 0, 0, 0, 0),\n",
    "     (0, 1, 0, 0, 0),\n",
    "     (0, 0, 1, 0, 0),\n",
    "     (0, 0, 0, 1, 0),\n",
    "     (0, 0, 0, 0, 1))\n",
    "\n",
    "t1 = ()\n",
    "\n",
    "for i in range(n):\n",
    "    t1 += t[i][:n],\n",
    "\n",
    "for i in t1:\n",
    "    print(*i)"
   ],
   "metadata": {
    "collapsed": false,
    "pycharm": {
     "name": "#%%\n"
    }
   }
  },
  {
   "cell_type": "code",
   "execution_count": null,
   "outputs": [],
   "source": [
    "# Вводятся пункты меню (каждый пункт с новой строки) в формате:\n",
    "#\n",
    "# название_1 URL-адрес_1\n",
    "# название_2 URL-адрес_2\n",
    "# ...\n",
    "# название_N URL-адрес_N\n",
    "#\n",
    "# Необходимо эту информацию представить в виде вложенного кортежа menu в формате:\n",
    "#\n",
    "# ((название_1, URL-адрес_1), (название_2, URL-адрес_2), ... (название_N, URL-адрес_N))\n",
    "#\n",
    "# Результат вывести на экран в виде кортежа командой:\n",
    "#\n",
    "# print(menu)\n",
    "#\n",
    "# P. S. Для считывания списка целиком в программе уже записаны начальные строчки.\n",
    "#\n",
    "# Sample Input:\n",
    "#\n",
    "# Главная home\n",
    "# Python learn-python\n",
    "# Java learn-java\n",
    "# PHP learn-php\n",
    "# Sample Output:\n",
    "#\n",
    "# (('Главная', 'home'), ('Python', 'learn-python'), ('Java', 'learn-java'), ('PHP', 'learn-php'))\n",
    "\n",
    "\n",
    "import sys\n",
    "\n",
    "# считывание списка из входного потока\n",
    "lst_in = list(map(str.strip, sys.stdin.readlines()))\n",
    "menu = tuple(tuple(item.split()) for item in lst_in)\n",
    "\n",
    "print(menu)\n",
    "\n",
    "# здесь продолжайте программу (используйте список lst_in)"
   ],
   "metadata": {
    "collapsed": false,
    "pycharm": {
     "name": "#%%\n"
    }
   }
  },
  {
   "cell_type": "code",
   "execution_count": null,
   "outputs": [],
   "source": [
    "import sys\n",
    "\n",
    "# считывание списка из входного потока\n",
    "lst_in = list(map(str.strip, sys.stdin.readlines()))\n",
    "tup = ()\n",
    "\n",
    "for i in lst_in:\n",
    "    tup += tuple(i.split()),\n",
    "\n",
    "print(tup)"
   ],
   "metadata": {
    "collapsed": false,
    "pycharm": {
     "name": "#%%\n"
    }
   }
  }
 ],
 "metadata": {
  "kernelspec": {
   "display_name": "Python 3",
   "language": "python",
   "name": "python3"
  },
  "language_info": {
   "codemirror_mode": {
    "name": "ipython",
    "version": 2
   },
   "file_extension": ".py",
   "mimetype": "text/x-python",
   "name": "python",
   "nbconvert_exporter": "python",
   "pygments_lexer": "ipython2",
   "version": "2.7.6"
  }
 },
 "nbformat": 4,
 "nbformat_minor": 0
}