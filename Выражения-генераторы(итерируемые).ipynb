{
 "cells": [
  {
   "cell_type": "code",
   "execution_count": 1,
   "outputs": [
    {
     "name": "stdout",
     "output_type": "stream",
     "text": [
      "[1, 2, 3, 4]\n"
     ]
    }
   ],
   "source": [
    "a = [x for x in range(1, 5)]\n",
    "print(a)"
   ],
   "metadata": {
    "collapsed": false,
    "ExecuteTime": {
     "end_time": "2023-10-22T03:34:43.302057Z",
     "start_time": "2023-10-22T03:34:43.242002900Z"
    }
   },
   "id": "3e7d4018628b13da"
  },
  {
   "cell_type": "code",
   "execution_count": 2,
   "id": "initial_id",
   "metadata": {
    "collapsed": true,
    "ExecuteTime": {
     "end_time": "2023-10-22T03:35:14.752156500Z",
     "start_time": "2023-10-22T03:35:14.730136900Z"
    }
   },
   "outputs": [
    {
     "name": "stdout",
     "output_type": "stream",
     "text": [
      "{1, 2, 3, 4}\n"
     ]
    }
   ],
   "source": [
    "a = {x for x in range(1, 5)}\n",
    "print(a)"
   ]
  },
  {
   "cell_type": "code",
   "execution_count": 17,
   "outputs": [
    {
     "name": "stdout",
     "output_type": "stream",
     "text": [
      "<generator object <genexpr> at 0x0000028EC069A960>\n"
     ]
    },
    {
     "data": {
      "text/plain": "0"
     },
     "execution_count": 17,
     "metadata": {},
     "output_type": "execute_result"
    }
   ],
   "source": [
    "a = (x ** 2 for x in range(6))\n",
    "print(a)\n",
    "next(a)"
   ],
   "metadata": {
    "collapsed": false,
    "ExecuteTime": {
     "end_time": "2023-10-22T03:38:11.775108200Z",
     "start_time": "2023-10-22T03:38:11.761095100Z"
    }
   },
   "id": "24862dd5ec16eee0"
  },
  {
   "cell_type": "code",
   "execution_count": 18,
   "outputs": [
    {
     "data": {
      "text/plain": "1"
     },
     "execution_count": 18,
     "metadata": {},
     "output_type": "execute_result"
    }
   ],
   "source": [
    "next(a)"
   ],
   "metadata": {
    "collapsed": false,
    "ExecuteTime": {
     "end_time": "2023-10-22T03:38:12.173285900Z",
     "start_time": "2023-10-22T03:38:12.145162600Z"
    }
   },
   "id": "1d86c2b359d07e4a"
  },
  {
   "cell_type": "code",
   "execution_count": 19,
   "outputs": [
    {
     "name": "stdout",
     "output_type": "stream",
     "text": [
      "4\n",
      "9\n",
      "16\n",
      "25\n"
     ]
    }
   ],
   "source": [
    "for x in a:\n",
    "    print(x)"
   ],
   "metadata": {
    "collapsed": false,
    "ExecuteTime": {
     "end_time": "2023-10-22T03:38:12.788472900Z",
     "start_time": "2023-10-22T03:38:12.776461700Z"
    }
   },
   "id": "88c3bb8c9b4bb711"
  },
  {
   "cell_type": "code",
   "execution_count": null,
   "outputs": [],
   "source": [],
   "metadata": {
    "collapsed": false
   },
   "id": "9f35019acd1fa997"
  },
  {
   "cell_type": "code",
   "execution_count": 20,
   "outputs": [
    {
     "ename": "MemoryError",
     "evalue": "",
     "output_type": "error",
     "traceback": [
      "\u001B[1;31m---------------------------------------------------------------------------\u001B[0m",
      "\u001B[1;31mMemoryError\u001B[0m                               Traceback (most recent call last)",
      "Cell \u001B[1;32mIn[20], line 1\u001B[0m\n\u001B[1;32m----> 1\u001B[0m lst \u001B[38;5;241m=\u001B[39m \u001B[38;5;28;43mlist\u001B[39;49m\u001B[43m(\u001B[49m\u001B[38;5;28;43mrange\u001B[39;49m\u001B[43m(\u001B[49m\u001B[38;5;241;43m1000000000000\u001B[39;49m\u001B[43m)\u001B[49m\u001B[43m)\u001B[49m\n",
      "\u001B[1;31mMemoryError\u001B[0m: "
     ]
    }
   ],
   "source": [
    "lst = list(range(1000000000000))"
   ],
   "metadata": {
    "collapsed": false,
    "ExecuteTime": {
     "end_time": "2023-10-22T03:42:08.749503300Z",
     "start_time": "2023-10-22T03:42:08.708149800Z"
    }
   },
   "id": "dac7bd7e076299db"
  },
  {
   "cell_type": "code",
   "execution_count": 25,
   "outputs": [
    {
     "name": "stdout",
     "output_type": "stream",
     "text": [
      "2 3 4 5 6 7 8 9 10 11 12 13 14 15 16 17 18 19 20 21 22 23 24 25 26 27 28 29 30 31 32 33 34 35 36 37 38 39 40 41 42 43 44 45 46 47 48 49 50 51 "
     ]
    }
   ],
   "source": [
    "lst = (x for x in range(1000000000000))\n",
    "for i in lst:\n",
    "    print(i, end=\" \")\n",
    "    if i > 50:\n",
    "        break"
   ],
   "metadata": {
    "collapsed": false,
    "ExecuteTime": {
     "end_time": "2023-10-22T03:51:06.309524600Z",
     "start_time": "2023-10-22T03:51:06.275922Z"
    }
   },
   "id": "a88036882e8f1c7c"
  },
  {
   "cell_type": "code",
   "execution_count": 27,
   "outputs": [
    {
     "name": "stdout",
     "output_type": "stream",
     "text": [
      "2 3 4 5 6 7 8 9 10 11 12 13 14 15 16 17 18 19 20 21 22 23 24 25 26 27 28 29 30 31 32 33 34 35 36 37 38 39 40 41 42 43 44 45 46 47 48 49 50 51 "
     ]
    }
   ],
   "source": [
    "# Подвиг 1. Запишите выражение для генератора, который бы возвращал целые числа от 2 до 10 000 с шагом 1 (то есть, 2, 3, 4, ..., 10 000). Присвойте этот генератор переменной gen.\n",
    "# \n",
    "# Вызывать генератор и отображать что-либо на экране не нужно, только задать его\n",
    "\n",
    "gen = (x for x in range(2,10001))\n",
    "for i in lst:\n",
    "    print(i, end=\" \")\n",
    "    if i > 50:\n",
    "        break"
   ],
   "metadata": {
    "collapsed": false,
    "ExecuteTime": {
     "end_time": "2023-10-22T03:51:56.788147900Z",
     "start_time": "2023-10-22T03:51:56.763417700Z"
    }
   },
   "id": "fbc68ea88a4c42c0"
  },
  {
   "cell_type": "code",
   "execution_count": 30,
   "outputs": [],
   "source": [
    "# Подвиг 2. На вход программы поступают два целых числа a и b (a < b), записанные в одну строчку через пробел. На их основе запишите генератор для формирования квадратов чисел в диапазоне [a; b].\n",
    "# \n",
    "# Преобразуйте этот генератор в кортеж чисел (без использования операторов циклов) и присвойте эту коллекцию переменной tp.\n",
    "# \n",
    "# P. S. На экране ничего отображать не нужно, только создать кортеж на основе генератора.\n",
    "\n",
    "# ввод значений a и b (переменные a и b не менять!)\n",
    "a, b = 5, 20\n",
    "# a, b = map(int, input().split())\n",
    "# здесь продолжайте программу\n",
    "\n",
    "tp = (x**2 for x in range(a,b+1))\n",
    "tp = tuple(tp)"
   ],
   "metadata": {
    "collapsed": false,
    "ExecuteTime": {
     "end_time": "2023-10-22T03:57:02.050915300Z",
     "start_time": "2023-10-22T03:57:02.031898100Z"
    }
   },
   "id": "8bc7273be784ea84"
  },
  {
   "cell_type": "code",
   "execution_count": 31,
   "outputs": [
    {
     "name": "stdout",
     "output_type": "stream",
     "text": [
      "(25, 36, 49, 64, 81, 100, 121, 144, 169, 196, 225, 256, 289, 324, 361, 400)\n"
     ]
    }
   ],
   "source": [
    "print(tp)"
   ],
   "metadata": {
    "collapsed": false,
    "ExecuteTime": {
     "end_time": "2023-10-22T03:57:03.016022800Z",
     "start_time": "2023-10-22T03:57:03.004012600Z"
    }
   },
   "id": "5c9a9cf820223fdf"
  },
  {
   "cell_type": "code",
   "execution_count": 41,
   "outputs": [],
   "source": [
    "# Подвиг 3. На вход программы поступают два целых числа a и b (a < b), записанные в одну строчку через пробел. Определите генератор, который бы выдавал модули целых чисел из диапазона [a; b]. В цикле выведите первые пять значений этого генератора. Каждое значение с новой строки. (Гарантируется, что пять значений имеются).\n",
    "# \n",
    "# Sample Input:\n",
    "# \n",
    "# -3 3\n",
    "# Sample Output:\n",
    "# \n",
    "# 3\n",
    "# 2\n",
    "# 1\n",
    "# 0\n",
    "# 1\n",
    "\n",
    "a, b = -3, 3\n",
    " "
   ],
   "metadata": {
    "collapsed": false,
    "ExecuteTime": {
     "end_time": "2023-10-22T04:09:11.318155600Z",
     "start_time": "2023-10-22T04:09:11.299137900Z"
    }
   },
   "id": "5a99b4261378dc40"
  },
  {
   "cell_type": "code",
   "execution_count": 42,
   "outputs": [
    {
     "name": "stdout",
     "output_type": "stream",
     "text": [
      "3\n",
      "2\n",
      "1\n",
      "0\n",
      "1\n"
     ]
    }
   ],
   "source": [
    "a, b = -3, 3\n",
    "tp = (x for x in range(a,b+1))\n",
    "z = 0\n",
    "while z < 5:\n",
    "    try:\n",
    "        i = next(tp)\n",
    "        print(abs(i))\n",
    "        z += 1\n",
    "    except StopIteration:\n",
    "        break\n"
   ],
   "metadata": {
    "collapsed": false,
    "ExecuteTime": {
     "end_time": "2023-10-22T04:09:12.484683800Z",
     "start_time": "2023-10-22T04:09:12.454271900Z"
    }
   },
   "id": "3bfc19b83875b3bb"
  },
  {
   "cell_type": "code",
   "execution_count": 43,
   "outputs": [
    {
     "name": "stdout",
     "output_type": "stream",
     "text": [
      "3\n",
      "2\n",
      "1\n",
      "0\n",
      "1\n"
     ]
    }
   ],
   "source": [
    "gen = (abs(x) for x in range(a, b + 1))\n",
    "for i in range(5):\n",
    "    print(next(gen))"
   ],
   "metadata": {
    "collapsed": false,
    "ExecuteTime": {
     "end_time": "2023-10-22T04:09:13.108698100Z",
     "start_time": "2023-10-22T04:09:13.071670800Z"
    }
   },
   "id": "e6854bc80be3a721"
  },
  {
   "cell_type": "code",
   "execution_count": 62,
   "outputs": [
    {
     "name": "stdout",
     "output_type": "stream",
     "text": [
      "27 8 1 0 "
     ]
    }
   ],
   "source": [
    "# Подвиг 6. Вводится целое положительное число a. Необходимо определить генератор, который бы возвращал модули чисел в диапазоне [-a; a], а затем еще один, который бы вычислял кубы чисел (возведение в степень 3), возвращаемых первым генератором.\n",
    "# \n",
    "# Вывести в одну строчку через пробел первые четыре значения. (Полагается, что генератор выдает, как минимум четыре значения).\n",
    "# \n",
    "# Sample Input:\n",
    "# \n",
    "# 3\n",
    "# Sample Output:\n",
    "# \n",
    "# 27 8 1 0\n",
    "\n",
    "a = 3\n",
    "\n",
    "gen = (x for x in range(-a, a))\n",
    "q_gen = (abs(x**3) for x in gen)\n",
    "for i in range(4):\n",
    "    print(next(q_gen), end=\" \")"
   ],
   "metadata": {
    "collapsed": false,
    "ExecuteTime": {
     "end_time": "2023-10-22T04:18:07.104708800Z",
     "start_time": "2023-10-22T04:18:07.093272100Z"
    }
   },
   "id": "337ad76345809b76"
  },
  {
   "cell_type": "code",
   "execution_count": 63,
   "outputs": [
    {
     "name": "stdout",
     "output_type": "stream",
     "text": [
      "aa ab ac ad ae af ag ah ai aj ak al am an ao ap aq ar as at au av aw ax ay az ba bb bc bd be bf bg bh bi bj bk bl bm bn bo bp bq br bs bt bu bv bw bx "
     ]
    }
   ],
   "source": [
    "# Подвиг 7. Используя символы малых букв латинского алфавита (строка ascii_lowercase):\n",
    "# \n",
    "# from string import ascii_lowercase\n",
    "# \n",
    "# запишите генератор, который бы возвращал все сочетания из двух букв латинского алфавита. Выведите первые 50 сочетаний на экран в строку через пробел.\n",
    "# \n",
    "# Например, первые семь начальных сочетаний имеют вид:\n",
    "# \n",
    "# aa ab ac ad ae af ag\n",
    "\n",
    "from string import ascii_lowercase\n",
    "\n",
    "gen = (i + j for i in ascii_lowercase for j in ascii_lowercase)\n",
    "\n",
    "for x in range(50):\n",
    "    print(next(gen), end=\" \")"
   ],
   "metadata": {
    "collapsed": false,
    "ExecuteTime": {
     "end_time": "2023-10-22T04:21:30.610996100Z",
     "start_time": "2023-10-22T04:21:30.583971800Z"
    }
   },
   "id": "935b6abacc0319c2"
  },
  {
   "cell_type": "code",
   "execution_count": 68,
   "outputs": [
    {
     "name": "stdout",
     "output_type": "stream",
     "text": [
      "Москва Ульяновск Самара Уфа Омск Тула Москва Ульяновск Самара Уфа Омск Тула Москва Ульяновск Самара Уфа Омск Тула Москва Ульяновск\n"
     ]
    }
   ],
   "source": [
    "# Подвиг 8. Имеется список из названий городов:\n",
    "# \n",
    "# cities = [\"Москва\", \"Ульяновск\", \"Самара\", \"Уфа\", \"Омск\", \"Тула\"]\n",
    "# \n",
    "# Необходимо записать генератор, который бы используя этот список, выдавал 1 000 000 наименований городов по циклу. То есть, дойдя до конца списка, возвращался в начало и повторял перебор. И так, для выдачи миллиона названий. Вывести на экран первые 20 наименований городов с помощью генератора в одну строчку через пробел\n",
    "\n",
    "cities = [\"Москва\", \"Ульяновск\", \"Самара\", \"Уфа\", \"Омск\", \"Тула\"]\n",
    "n = len(cities)\n",
    "gen = (cities[i % n] for i in range(1_000_000))\n",
    "\n",
    "print(*(next(gen) for i in range(20)))\n"
   ],
   "metadata": {
    "collapsed": false,
    "ExecuteTime": {
     "end_time": "2023-10-22T04:27:54.961179500Z",
     "start_time": "2023-10-22T04:27:54.928950500Z"
    }
   },
   "id": "25aaa49033971308"
  },
  {
   "cell_type": "code",
   "execution_count": null,
   "outputs": [],
   "source": [
    "# Подвиг 9. Имеется график функции f(x) = 0.5x^2 - 2. Необходимо записать генератор, который бы выдавал значения этой функции для аргумента x в диапазоне [a; b] с шагом 0.01. Величины a, b вводятся с клавиатуры в одну строчку через пробел как целые числа (a< b). Вывести на экран первые 20 значений функции с точностью до сотых, взятых из генератора.\n",
    "# \n",
    "# P.S. Значения функции вычислять командой:\n",
    "# \n",
    "# f(x) = 0.5 * pow(x, 2) - 2.0\n",
    "# Sample Input:\n",
    "# \n",
    "# 0 10\n",
    "# Sample Output:\n",
    "# \n",
    "# -2.0 -2.0 -2.0 -2.0 -2.0 -2.0 -2.0 -2.0 -2.0 -2.0 -2.0 -1.99 -1.99 -1.99 -1.99 -1.99 -1.99 -1.99 -1.98 -1.98\n",
    "\n",
    "\n",
    "a, b = map(int, input().split())\n",
    "\n",
    "gen = (round((x / 100) ** 2 / 2 - 2, 2) for x in range(a * 100, b * 100 + 1))\n",
    "for i in range(20):\n",
    "    print(next(gen), end=\" \")"
   ],
   "metadata": {
    "collapsed": false
   },
   "id": "2f790cb11b618ae2"
  },
  {
   "cell_type": "code",
   "execution_count": null,
   "outputs": [],
   "source": [],
   "metadata": {
    "collapsed": false,
    "ExecuteTime": {
     "end_time": "2023-10-23T09:05:03.487038500Z",
     "start_time": "2023-10-23T09:05:03.461015300Z"
    }
   },
   "id": "ce99d0fb32529027"
  },
  {
   "cell_type": "code",
   "execution_count": null,
   "outputs": [],
   "source": [],
   "metadata": {
    "collapsed": false
   },
   "id": "c241d5450cf7f167"
  }
 ],
 "metadata": {
  "kernelspec": {
   "display_name": "Python 3",
   "language": "python",
   "name": "python3"
  },
  "language_info": {
   "codemirror_mode": {
    "name": "ipython",
    "version": 2
   },
   "file_extension": ".py",
   "mimetype": "text/x-python",
   "name": "python",
   "nbconvert_exporter": "python",
   "pygments_lexer": "ipython2",
   "version": "2.7.6"
  }
 },
 "nbformat": 4,
 "nbformat_minor": 5
}
