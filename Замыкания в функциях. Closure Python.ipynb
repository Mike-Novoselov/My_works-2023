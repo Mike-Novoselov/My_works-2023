{
 "cells": [
  {
   "cell_type": "code",
   "execution_count": 1,
   "outputs": [
    {
     "data": {
      "text/plain": "'\\nЗамыкания в Python. Closure Python\\n'"
     },
     "execution_count": 1,
     "metadata": {},
     "output_type": "execute_result"
    }
   ],
   "source": [
    "\"\"\"\n",
    "Замыкания в Python. Closure Python\n",
    "\"\"\"\n"
   ],
   "metadata": {
    "collapsed": false,
    "ExecuteTime": {
     "end_time": "2023-10-04T05:42:33.055084100Z",
     "start_time": "2023-10-04T05:42:33.038068800Z"
    }
   },
   "id": "57a35ebc020d5b3b"
  },
  {
   "cell_type": "code",
   "execution_count": 3,
   "outputs": [
    {
     "name": "stdout",
     "output_type": "stream",
     "text": [
      "8\n"
     ]
    }
   ],
   "source": [
    "# пример замыкания функции на Python\n",
    "\n",
    "\"\"\"\n",
    "Здесь мы определяем функцию outer_function, которая принимает один аргумент x. Внутри функции мы определяем функцию inner_function, которая принимает один аргумент y и возвращает x + y. Затем мы возвращаем функцию inner_function из функции outer_function.\n",
    "\n",
    "Затем мы создаем переменную add_five, которая присваивает значение outer_function(5) переменной add_five. Это означает, что мы передаем в функцию outer_function значение 5 и возвращаем из нее функцию inner_function.\n",
    "\n",
    "Затем мы вызываем функцию add_five с аргументом 3 и сохраняем результат в переменную result. Наконец, мы выводим значение переменной result на экран.\n",
    "\n",
    "Таким образом, мы получаем функцию, которая принимает один аргумент и возвращает функцию, которая также принимает один аргумент и возвращает сумму этих двух аргументов. Это происходит благодаря замыканию функции outer_function, которая сохраняет ссылку на переменную x из внешней функции outer_function, и использует ее внутри функции inner_function.\n",
    "\n",
    "\n",
    "\"\"\"\n",
    "\n",
    "\n",
    "def outer_function(x):\n",
    "    def inner_function(y):\n",
    "        return x + y\n",
    "\n",
    "    return inner_function\n",
    "\n",
    "\n",
    "add_five = outer_function(5)\n",
    "result = add_five(3)\n",
    "print(result)\n",
    "\n"
   ],
   "metadata": {
    "collapsed": false,
    "ExecuteTime": {
     "end_time": "2023-10-04T05:42:56.030888200Z",
     "start_time": "2023-10-04T05:42:56.012872400Z"
    }
   },
   "id": "265ba825467099e1"
  },
  {
   "cell_type": "code",
   "execution_count": 12,
   "outputs": [
    {
     "name": "stdout",
     "output_type": "stream",
     "text": [
      "Dont say me goodbye, Sergey!\n",
      "Dont say me goodbye, pthon!\n"
     ]
    }
   ],
   "source": [
    "def say_name(name):\n",
    "    \n",
    "    def say_goodbye():\n",
    "        print(\"Dont say me goodbye, \" + name + \"!\")\n",
    "        \n",
    "    return say_goodbye\n",
    "        \n",
    "f = say_name(\"Sergey\")\n",
    "f2 = say_name(\"pthon\")\n",
    "f()\n",
    "f2()"
   ],
   "metadata": {
    "collapsed": false,
    "ExecuteTime": {
     "end_time": "2023-10-04T06:07:19.207198900Z",
     "start_time": "2023-10-04T06:07:19.188498Z"
    }
   },
   "id": "f80f9b1948acadbd"
  },
  {
   "cell_type": "code",
   "execution_count": 10,
   "outputs": [],
   "source": [],
   "metadata": {
    "collapsed": false,
    "ExecuteTime": {
     "end_time": "2023-10-04T05:53:58.955892800Z",
     "start_time": "2023-10-04T05:53:58.937877Z"
    }
   },
   "id": "467af5fce2e53933"
  },
  {
   "cell_type": "code",
   "execution_count": 14,
   "outputs": [
    {
     "name": "stdout",
     "output_type": "stream",
     "text": [
      "11 1\n",
      "12 2\n",
      "13 3\n"
     ]
    }
   ],
   "source": [
    "# счетчик\n",
    "\n",
    "def counter(start=0):\n",
    "    def step():\n",
    "        nonlocal start\n",
    "        start +=1\n",
    "        return start\n",
    "    \n",
    "    return step\n",
    "\n",
    "c1 = counter(10)\n",
    "c2 = counter()\n",
    "print(c1(), c2())\n",
    "print(c1(), c2())\n",
    "print(c1(), c2())"
   ],
   "metadata": {
    "collapsed": false,
    "ExecuteTime": {
     "end_time": "2023-10-04T06:10:31.541285300Z",
     "start_time": "2023-10-04T06:10:31.525536900Z"
    }
   },
   "id": "f1f1a1ef800cdc07"
  },
  {
   "cell_type": "code",
   "execution_count": 15,
   "outputs": [
    {
     "name": "stdout",
     "output_type": "stream",
     "text": [
      "hello python!..\n",
      "hello python\n"
     ]
    }
   ],
   "source": [
    "\"\"\"\n",
    "функция удаляет ненужные символы в начале и в конце строки\n",
    "\"\"\"\n",
    "\n",
    "def strip_string(strip_chars=\" \"):\n",
    "    def do_strip(string):\n",
    "        return string.strip(strip_chars)\n",
    "    \n",
    "    return do_strip\n",
    "\n",
    "strip1 = strip_string()             # параметры для внешней функции\n",
    "strip2 = strip_string(\" !?,.;\")     # параметры для внешней функции\n",
    "\n",
    "print(strip1(\" hello python!.. \"))  # параметры для ВНУТРЕННЕЙ функции\n",
    "print(strip2(\" hello python!.. \"))  # параметры для ВНУТРЕННЕЙ функции"
   ],
   "metadata": {
    "collapsed": false,
    "ExecuteTime": {
     "end_time": "2023-10-04T06:33:47.380194800Z",
     "start_time": "2023-10-04T06:33:47.360927300Z"
    }
   },
   "id": "80ca861ba3c8bac7"
  },
  {
   "cell_type": "code",
   "execution_count": 20,
   "outputs": [
    {
     "name": "stdout",
     "output_type": "stream",
     "text": [
      "hello my friend Misha\n",
      "hello my friend Vasya\n"
     ]
    }
   ],
   "source": [
    "def main_func(name):\n",
    "    \n",
    "    def inner_func():\n",
    "        print(\"hello my friend\", name)\n",
    "    \n",
    "    return inner_func\n",
    "\n",
    "d = main_func(\"Misha\")\n",
    "d()\n",
    "\n",
    "r = main_func(\"Vasya\")\n",
    "r()"
   ],
   "metadata": {
    "collapsed": false,
    "ExecuteTime": {
     "end_time": "2023-10-04T07:01:49.948284500Z",
     "start_time": "2023-10-04T07:01:49.932269600Z"
    }
   },
   "id": "aa59139b779300e2"
  },
  {
   "cell_type": "code",
   "execution_count": 22,
   "outputs": [
    {
     "data": {
      "text/plain": "5"
     },
     "execution_count": 22,
     "metadata": {},
     "output_type": "execute_result"
    }
   ],
   "source": [
    "\"\"\"Складывание двух значений. функция замыкания\"\"\"\n",
    "def adder(value):\n",
    "    def inner(a):\n",
    "        return value+a\n",
    "    \n",
    "    return inner\n",
    "\n",
    "a2 = adder(2)\n",
    "a2(3)"
   ],
   "metadata": {
    "collapsed": false,
    "ExecuteTime": {
     "end_time": "2023-10-04T07:03:50.560641300Z",
     "start_time": "2023-10-04T07:03:50.543116900Z"
    }
   },
   "id": "9cf74651a35cc073"
  },
  {
   "cell_type": "code",
   "execution_count": 24,
   "outputs": [
    {
     "data": {
      "text/plain": "7"
     },
     "execution_count": 24,
     "metadata": {},
     "output_type": "execute_result"
    }
   ],
   "source": [
    "a5= adder(5)\n",
    "a5(2)"
   ],
   "metadata": {
    "collapsed": false,
    "ExecuteTime": {
     "end_time": "2023-10-04T07:04:19.249833Z",
     "start_time": "2023-10-04T07:04:19.230670400Z"
    }
   },
   "id": "f8a3a3883f1d25f8"
  },
  {
   "cell_type": "code",
   "execution_count": 31,
   "outputs": [
    {
     "name": "stdout",
     "output_type": "stream",
     "text": [
      "[100]\n",
      "[100, 50]\n",
      "[100, 50, 25]\n"
     ]
    },
    {
     "data": {
      "text/plain": "58.333333333333336"
     },
     "execution_count": 31,
     "metadata": {},
     "output_type": "execute_result"
    }
   ],
   "source": [
    "\"\"\"вычесляем среднее орифметическое. функция замыкания\"\"\"\n",
    "\n",
    "def average_numbers():\n",
    "    numbers = []\n",
    "    \n",
    "    def inner(number):\n",
    "        numbers.append(number)\n",
    "        print(numbers)\n",
    "        return sum(numbers) / len(numbers)\n",
    "    \n",
    "    return inner\n",
    "\n",
    "ex1 = average_numbers()\n",
    "ex1(100)\n",
    "ex1(50)\n",
    "ex1(25)"
   ],
   "metadata": {
    "collapsed": false,
    "ExecuteTime": {
     "end_time": "2023-10-04T07:40:13.033597400Z",
     "start_time": "2023-10-04T07:40:13.018584Z"
    }
   },
   "id": "8ae97f3473fb189c"
  },
  {
   "cell_type": "code",
   "execution_count": 29,
   "outputs": [
    {
     "name": "stdout",
     "output_type": "stream",
     "text": [
      "[500]\n"
     ]
    },
    {
     "data": {
      "text/plain": "500.0"
     },
     "execution_count": 29,
     "metadata": {},
     "output_type": "execute_result"
    }
   ],
   "source": [
    "ex2 = average_numbers()\n",
    "ex2(500)"
   ],
   "metadata": {
    "collapsed": false,
    "ExecuteTime": {
     "end_time": "2023-10-04T07:37:48.978369100Z",
     "start_time": "2023-10-04T07:37:48.962354900Z"
    }
   },
   "id": "ad9f8a947ddac221"
  },
  {
   "cell_type": "code",
   "execution_count": 34,
   "outputs": [
    {
     "name": "stdout",
     "output_type": "stream",
     "text": [
      "функция add вызывалась 1 раз\n",
      "8\n",
      "функция mult вызывалась 1 раз\n",
      "24\n"
     ]
    }
   ],
   "source": [
    "\"\"\"пишем функцию которая считает сколько раз запускалась иная функция\"\"\"\n",
    "\n",
    "def add(a,b):\n",
    "    return a+b\n",
    "\n",
    "def mult(a,b,c):\n",
    "    return a*b*c\n",
    "\n",
    "def counter(func):\n",
    "    count = 0\n",
    "    def inner(*args, **kwargs):\n",
    "        nonlocal count\n",
    "        count +=1\n",
    "        print(f\"функция {func.__name__} вызывалась {count} раз\")\n",
    "        return func(*args, **kwargs)\n",
    "    \n",
    "    return inner\n",
    "\n",
    "t1 = counter(add)\n",
    "t2 = counter(mult)\n",
    "\n",
    "\n",
    "print(t1(5,3))\n",
    "print(t2(2,3,4))\n"
   ],
   "metadata": {
    "collapsed": false,
    "ExecuteTime": {
     "end_time": "2023-10-04T08:06:43.464224100Z",
     "start_time": "2023-10-04T08:06:43.449209700Z"
    }
   },
   "id": "57d783d04ecdb1de"
  },
  {
   "cell_type": "code",
   "execution_count": 35,
   "outputs": [
    {
     "name": "stdout",
     "output_type": "stream",
     "text": [
      "функция add вызывалась 2 раз\n",
      "12\n",
      "функция mult вызывалась 2 раз\n",
      "2000\n"
     ]
    }
   ],
   "source": [
    "print(t1(10,2))\n",
    "print(t2(10,100,2))"
   ],
   "metadata": {
    "collapsed": false,
    "ExecuteTime": {
     "end_time": "2023-10-04T08:07:12.166875200Z",
     "start_time": "2023-10-04T08:07:12.144854900Z"
    }
   },
   "id": "2a83146efbdc8082"
  },
  {
   "cell_type": "code",
   "execution_count": null,
   "outputs": [],
   "source": [],
   "metadata": {
    "collapsed": false
   },
   "id": "3ffb29c26274760d"
  },
  {
   "cell_type": "code",
   "execution_count": 36,
   "outputs": [
    {
     "name": "stdout",
     "output_type": "stream",
     "text": [
      "12\n"
     ]
    }
   ],
   "source": [
    "# Используя замыкания функций, определите вложенную функцию, которая бы увеличивала значение переданного параметра на 5 и возвращала бы вычисленный результат. При этом внешняя функция должна иметь следующую сигнатуру:\n",
    "# \n",
    "# def counter_add(): ...\n",
    "# \n",
    "# Вызовите функцию counter_add и результат ее работы присвойте переменной с именем cnt. Вызовите внутреннюю функцию через переменную cnt со значением k, введенным с клавиатуры:\n",
    "# \n",
    "# k = int(input())\n",
    "# \n",
    "# Выведите результат на экран.\n",
    "# \n",
    "# Sample Input:\n",
    "# \n",
    "# 7\n",
    "# Sample Output:\n",
    "# \n",
    "# 12\n",
    "\n",
    "def counter_add():\n",
    "    def inner(k):\n",
    "        return k + 5\n",
    "\n",
    "    return inner\n",
    "\n",
    "\n",
    "cnt = counter_add()\n",
    "k = int(input())\n",
    "result = cnt(k)\n",
    "print(result)"
   ],
   "metadata": {
    "collapsed": false,
    "ExecuteTime": {
     "end_time": "2023-10-04T08:08:11.987180100Z",
     "start_time": "2023-10-04T08:08:09.800324700Z"
    }
   },
   "id": "9a25f7fc2bbbe824"
  },
  {
   "cell_type": "code",
   "execution_count": 37,
   "outputs": [
    {
     "name": "stdout",
     "output_type": "stream",
     "text": [
      "7\n"
     ]
    }
   ],
   "source": [
    "# Используя замыкания функций, объявите внутреннюю функцию, которая увеличивает значение своего аргумента на некоторую величину n - параметр внешней функции с сигнатурой:\n",
    "# \n",
    "# def counter_add(n): ...\n",
    "# \n",
    "# Вызовите внешнюю функцию counter_add со значением аргумента 2 и результат присвойте переменной cnt. Вызовите внутреннюю функцию через переменную cnt со значением k, введенным с клавиатуры:\n",
    "# \n",
    "# k = int(input())\n",
    "# \n",
    "# Выведите результат на экран.\n",
    "# \n",
    "# Sample Input:\n",
    "# \n",
    "# 5\n",
    "# Sample Output:\n",
    "# \n",
    "# 7\n",
    "def counter_add(n):\n",
    "    def inner_func(k):\n",
    "        return k + n\n",
    "    return inner_func\n",
    "\n",
    "cnt = counter_add(2)\n",
    "k = int(input())\n",
    "result = cnt(k)\n",
    "print(result)\n"
   ],
   "metadata": {
    "collapsed": false,
    "ExecuteTime": {
     "end_time": "2023-10-04T08:50:47.909531700Z",
     "start_time": "2023-10-04T08:50:45.840080400Z"
    }
   },
   "id": "a8ebf975ca88d632"
  },
  {
   "cell_type": "code",
   "execution_count": 1,
   "outputs": [
    {
     "name": "stdout",
     "output_type": "stream",
     "text": [
      "<h1>sss</h1>\n"
     ]
    }
   ],
   "source": [
    "# Используя замыкания функций, объявите внутреннюю функцию, которая заключает в тег h1 строку s (s - строка, параметр внутренней функции). Далее, на вход программы поступает строка и ее нужно поместить в тег h1 с помощью реализованного замыкания. Результат выведите на экран.\n",
    "# \n",
    "# P. S. Пример добавления тега h1 к строке \"Python\": <h1>Python</h1>\n",
    "# \n",
    "# Sample Input:\n",
    "# \n",
    "# Balakirev\n",
    "# Sample Output:\n",
    "# \n",
    "# <h1>Balakirev</h1>\n",
    "\n",
    "def lock_in_tag(tag):\n",
    "    def add_str(string):\n",
    "        return f'<{tag}>{string}</{tag}>'\n",
    "    return add_str\n",
    "\n",
    "\n",
    "s = input()\n",
    "f = lock_in_tag('h1')\n",
    "print(f(s))\n"
   ],
   "metadata": {
    "collapsed": false,
    "ExecuteTime": {
     "end_time": "2023-10-05T11:33:43.060540200Z",
     "start_time": "2023-10-05T11:33:38.734848700Z"
    }
   },
   "id": "4faff892f51698e3"
  },
  {
   "cell_type": "code",
   "execution_count": 3,
   "outputs": [
    {
     "name": "stdout",
     "output_type": "stream",
     "text": [
      "<div>Сергей Балакирев</div>\n"
     ]
    }
   ],
   "source": [
    "# Используя замыкания функций, объявите внутреннюю функцию, которая заключает строку s (s - строка, параметр внутренней функции) в произвольный тег, содержащийся в переменной tag - параметре внешней функции. \n",
    "# \n",
    "# Далее, на вход программы поступают две строки: первая с тегом, вторая с некоторым содержимым. Вторую строку нужно поместить в тег из первой строки с помощью реализованного замыкания. Результат выведите на экран.\n",
    "# \n",
    "# P. S. Пример добавления тега h1 к строке \"Python\": <h1>Python</h1>\n",
    "# \n",
    "# Sample Input:\n",
    "# \n",
    "# div\n",
    "# Сергей Балакирев\n",
    "# Sample Output:\n",
    "# \n",
    "# <div>Сергей Балакирев</div>\n",
    "\n",
    "def lock_in_tag(tag):\n",
    "    def add_str(string):\n",
    "        return f'<{tag}>{string}</{tag}>'\n",
    "    return add_str\n",
    "\n",
    "\n",
    "\n",
    "f = lock_in_tag(input())\n",
    "s = input()\n",
    "print(f(s))"
   ],
   "metadata": {
    "collapsed": false,
    "ExecuteTime": {
     "end_time": "2023-10-05T11:35:12.965201100Z",
     "start_time": "2023-10-05T11:35:02.703316500Z"
    }
   },
   "id": "706afe6c268629be"
  },
  {
   "cell_type": "code",
   "execution_count": null,
   "outputs": [],
   "source": [
    "# Используя замыкания функций, объявите внутреннюю функцию, которая преобразует строку из списка целых чисел, записанных через пробел, либо в список, либо в кортеж. Тип коллекции определяется параметром tp внешней функции. Если tp = 'list', то используется список, иначе (при другом значении) - кортеж.\n",
    "# \n",
    "# Далее, на вход программы поступают две строки: первая - это значение для параметра tp; вторая - список целых чисел, записанных через пробел. С помощью реализованного замыкания преобразовать эти данные в соответствующую коллекцию. Результат вывести на экран командой (lst - ссылка на коллекцию):\n",
    "# \n",
    "# print(lst)\n",
    "# \n",
    "# Sample Input:\n",
    "# \n",
    "# list\n",
    "# -5 6 8 11 0 111 -456 3\n",
    "# Sample Output:\n",
    "# \n",
    "# [-5, 6, 8, 11, 0, 111, -456, 3]\n",
    "\n",
    "def convert(tp):\n",
    "    def inner(s):\n",
    "        if tp == 'list':\n",
    "            return list(map(int, s.split()))\n",
    "        else:\n",
    "            return tuple(map(int, s.split()))\n",
    "    return inner\n",
    "\n",
    "tp = input()\n",
    "s = input()\n",
    "\n",
    "convert_func = convert(tp)\n",
    "lst = convert_func(s)\n",
    "\n",
    "print(lst)"
   ],
   "metadata": {
    "collapsed": false
   },
   "id": "c1d5c24acfeff87b"
  }
 ],
 "metadata": {
  "kernelspec": {
   "display_name": "Python 3",
   "language": "python",
   "name": "python3"
  },
  "language_info": {
   "codemirror_mode": {
    "name": "ipython",
    "version": 2
   },
   "file_extension": ".py",
   "mimetype": "text/x-python",
   "name": "python",
   "nbconvert_exporter": "python",
   "pygments_lexer": "ipython2",
   "version": "2.7.6"
  }
 },
 "nbformat": 4,
 "nbformat_minor": 5
}
