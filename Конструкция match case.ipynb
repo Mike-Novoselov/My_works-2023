{
 "cells": [
  {
   "cell_type": "code",
   "execution_count": 2,
   "id": "initial_id",
   "metadata": {
    "collapsed": true,
    "ExecuteTime": {
     "end_time": "2023-11-09T09:43:32.458074Z",
     "start_time": "2023-11-09T09:43:32.435169100Z"
    }
   },
   "outputs": [
    {
     "name": "stdout",
     "output_type": "stream",
     "text": [
      "вправо\n",
      "Проверки завершины\n"
     ]
    }
   ],
   "source": [
    "cmd = \"right\"\n",
    "\n",
    "match cmd:\n",
    "    case \"top\":\n",
    "        print(\"вверх\")\n",
    "    case \"left\":\n",
    "        print(\"влево\")\n",
    "    case \"right\":\n",
    "        print(\"вправо\")\n",
    "    case \"down\":\n",
    "        print(\"вниз\")\n",
    "        \n",
    "        \n",
    "print(\"Проверки завершины\")"
   ]
  },
  {
   "cell_type": "code",
   "execution_count": 6,
   "outputs": [
    {
     "name": "stdout",
     "output_type": "stream",
     "text": [
      "другое\n",
      "Проверки завершины\n"
     ]
    }
   ],
   "source": [
    "cmd = \"top2\"\n",
    "\n",
    "match cmd:\n",
    "    case \"top\" | \"left\" | \"right\":\n",
    "        print(\"вверх, влево или вправо\")\n",
    "    case _:\n",
    "        print(\"другое\")\n",
    "        \n",
    "        \n",
    "print(\"Проверки завершины\")"
   ],
   "metadata": {
    "collapsed": false,
    "ExecuteTime": {
     "end_time": "2023-11-09T09:45:57.010193900Z",
     "start_time": "2023-11-09T09:45:56.990855300Z"
    }
   },
   "id": "d204aef49c1730c7"
  },
  {
   "cell_type": "code",
   "execution_count": 7,
   "outputs": [
    {
     "name": "stdout",
     "output_type": "stream",
     "text": [
      "Команда top2\n"
     ]
    }
   ],
   "source": [
    "cmd = \"top2\"\n",
    "\n",
    "match cmd:\n",
    "    case command: # command == cmd\n",
    "        print(f\"Команда {command}\")\n",
    "    \n",
    "        \n",
    "# print(\"Проверки завершины\")"
   ],
   "metadata": {
    "collapsed": false,
    "ExecuteTime": {
     "end_time": "2023-11-09T09:47:55.401682300Z",
     "start_time": "2023-11-09T09:47:55.362181700Z"
    }
   },
   "id": "8c7bc4398a3ce92b"
  },
  {
   "cell_type": "code",
   "execution_count": 10,
   "outputs": [
    {
     "name": "stdout",
     "output_type": "stream",
     "text": [
      "Команда top2\n"
     ]
    }
   ],
   "source": [
    "cmd = \"top2\"\n",
    "\n",
    "match cmd:\n",
    "    case \"top\" | \"left\" | \"right\":\n",
    "        print(\"вверх, влево или вправо\")\n",
    "    case command: # command == cmd\n",
    "        print(f\"Команда {command}\")\n",
    "\n",
    "    \n"
   ],
   "metadata": {
    "collapsed": false,
    "ExecuteTime": {
     "end_time": "2023-11-09T09:51:40.260438100Z",
     "start_time": "2023-11-09T09:51:40.240213700Z"
    }
   },
   "id": "31efe1b872d85ddd"
  },
  {
   "cell_type": "code",
   "execution_count": 13,
   "outputs": [
    {
     "name": "stdout",
     "output_type": "stream",
     "text": [
      "другая команда - top2\n"
     ]
    }
   ],
   "source": [
    "cmd = \"top2\"\n",
    "\n",
    "match cmd:\n",
    "    case \"top\":\n",
    "        print(\"вверх\")\n",
    "    case _:\n",
    "        print(f\"другая команда - {cmd}\")"
   ],
   "metadata": {
    "collapsed": false,
    "ExecuteTime": {
     "end_time": "2023-11-09T09:53:35.767659300Z",
     "start_time": "2023-11-09T09:53:35.733628Z"
    }
   },
   "id": "48e9c5555650143"
  },
  {
   "cell_type": "code",
   "execution_count": 16,
   "outputs": [
    {
     "name": "stdout",
     "output_type": "stream",
     "text": [
      "это строка\n"
     ]
    }
   ],
   "source": [
    "cmd = \"top2\"\n",
    "\n",
    "match cmd:\n",
    "    case str():\n",
    "        print(\"это строка\")\n",
    "    case _:\n",
    "        print(f\"другая команда - {cmd}\")"
   ],
   "metadata": {
    "collapsed": false,
    "ExecuteTime": {
     "end_time": "2023-11-09T09:55:28.459432600Z",
     "start_time": "2023-11-09T09:55:28.448796500Z"
    }
   },
   "id": "6986253ac66662e9"
  },
  {
   "cell_type": "code",
   "execution_count": 18,
   "outputs": [
    {
     "name": "stdout",
     "output_type": "stream",
     "text": [
      "строковая команда - top2\n"
     ]
    }
   ],
   "source": [
    "cmd = \"top2\"\n",
    "# cmd = 1\n",
    "\n",
    "match cmd:\n",
    "    case str() as command: # str(command) \n",
    "        print(f\"строковая команда - {command}\")\n",
    "    case _:\n",
    "        print(f\"другая команда - {cmd}\")"
   ],
   "metadata": {
    "collapsed": false,
    "ExecuteTime": {
     "end_time": "2023-11-09T09:58:00.594559800Z",
     "start_time": "2023-11-09T09:58:00.576542700Z"
    }
   },
   "id": "ef0ccccc55a14e6e"
  },
  {
   "cell_type": "code",
   "execution_count": 23,
   "outputs": [
    {
     "name": "stdout",
     "output_type": "stream",
     "text": [
      "целочисленная команда - True\n"
     ]
    }
   ],
   "source": [
    "# cmd = \"текст\"\n",
    "# cmd = 1\n",
    "# cmd = True\n",
    "\n",
    "match cmd:\n",
    "    case str(command): \n",
    "        print(f\"строковая команда - {command}\")\n",
    "    case bool(command): # булеву команду нужно проверять ранше чем int т.к. bool(1) == True\n",
    "        print(f\"булева команда - {command}\")\n",
    "    case int(command):\n",
    "        print(f\"целочисленная команда - {command}\")\n",
    "\n",
    "    case _:\n",
    "        print(f\"другая команда - {cmd}\")"
   ],
   "metadata": {
    "collapsed": false,
    "ExecuteTime": {
     "end_time": "2023-11-09T10:00:48.312579100Z",
     "start_time": "2023-11-09T10:00:48.295563800Z"
    }
   },
   "id": "6d1518fa15c0bf8a"
  },
  {
   "cell_type": "code",
   "execution_count": 24,
   "outputs": [
    {
     "name": "stdout",
     "output_type": "stream",
     "text": [
      "другая команда - 10\n"
     ]
    }
   ],
   "source": [
    "# cmd = \"текст\"\n",
    "# cmd = True\n",
    "# cmd = 1\n",
    "cmd = 10\n",
    "\n",
    "match cmd:\n",
    "    case str(command): \n",
    "        print(f\"строковая команда - {command}\")\n",
    "    case bool(command): # булеву команду нужно проверять ранше чем int т.к. bool(1) == True\n",
    "        print(f\"булева команда - {command}\")\n",
    "    case int(command) if 0 <= command <= 9: # условие что cmd в промежутке 0 до 9\n",
    "        print(f\"целочисленная команда - {command}\")\n",
    "    case _:\n",
    "        print(f\"другая команда - {cmd}\")"
   ],
   "metadata": {
    "collapsed": false,
    "ExecuteTime": {
     "end_time": "2023-11-09T10:03:59.672975200Z",
     "start_time": "2023-11-09T10:03:59.650955600Z"
    }
   },
   "id": "252b6c2827ba6201"
  },
  {
   "cell_type": "code",
   "execution_count": 27,
   "outputs": [
    {
     "name": "stdout",
     "output_type": "stream",
     "text": [
      "строковая команда - c_top\n"
     ]
    }
   ],
   "source": [
    "# cmd = \"текст\"\n",
    "cmd = \"c_top\"\n",
    "\n",
    "\n",
    "match cmd:\n",
    "    case str() as command if len(command) < 10 and command[0] == \"c\": # проверяем что строка, что длина до 10 символов и что начинается с \"c\" \n",
    "        print(f\"строковая команда - {command}\")\n",
    "    case bool(command): # булеву команду нужно проверять ранше чем int т.к. bool(1) == True\n",
    "        print(f\"булева команда - {command}\")\n",
    "    case int(command) if 0 <= command <= 9: # условие что cmd в промежутке 0 до 9\n",
    "        print(f\"целочисленная команда - {command}\")\n",
    "    case _:\n",
    "        print(f\"другая команда - {cmd}\")"
   ],
   "metadata": {
    "collapsed": false,
    "ExecuteTime": {
     "end_time": "2023-11-09T10:08:54.207817Z",
     "start_time": "2023-11-09T10:08:54.196807Z"
    }
   },
   "id": "1253407373874cbd"
  },
  {
   "cell_type": "code",
   "execution_count": 28,
   "outputs": [
    {
     "name": "stdout",
     "output_type": "stream",
     "text": [
      "целочисленная или вещественная команда - 2.5\n"
     ]
    }
   ],
   "source": [
    "# cmd = \"текст\"\n",
    "cmd = 2.5\n",
    "\n",
    "\n",
    "match cmd:\n",
    "    case str() as command if len(command) < 10 and command[0] == \"c\": # проверяем что строка, что длина до 10 символов и что начинается с \"c\" \n",
    "        print(f\"строковая команда - {command}\")\n",
    "    case bool(command): # булеву команду нужно проверять ранше чем int т.к. bool(1) == True\n",
    "        print(f\"булева команда - {command}\")\n",
    "    case int() | float() as command if 0 <= command <= 9: # проверяем на целочисленное или вещественное, условие что cmd в промежутке 0 до 9\n",
    "        print(f\"целочисленная или вещественная команда - {command}\")\n",
    "    case _:\n",
    "        print(f\"другая команда - {cmd}\")"
   ],
   "metadata": {
    "collapsed": false,
    "ExecuteTime": {
     "end_time": "2023-11-09T10:10:54.960381300Z",
     "start_time": "2023-11-09T10:10:54.927351800Z"
    }
   },
   "id": "31c39f62e841fe5d"
  },
  {
   "cell_type": "code",
   "execution_count": 32,
   "outputs": [
    {
     "name": "stdout",
     "output_type": "stream",
     "text": [
      "Команда bottom\n"
     ]
    }
   ],
   "source": [
    "# Подвиг 5. Пользователь может ввести с клавиатуры следующие команды в виде строки:\n",
    "# \n",
    "# top или Top или TOP\n",
    "# bottom или Bottom или BOTTOM\n",
    "# right или Right или RIGHT\n",
    "# left или Left или LEFT\n",
    "# \n",
    "# cmd = input() \n",
    "# С помощью оператора match/case необходимо определить тип команды cmd и при совпадении вывести на экран сообщение в формате:\n",
    "# \n",
    "# Команда <название команды малыми буквами>\n",
    "# \n",
    "# Например, при вводе Top, должны на выходе получить:\n",
    "# \n",
    "# Команда top\n",
    "# \n",
    "# И так для всех четырех команд. Если тип команды не определен, то вывести строку:\n",
    "# \n",
    "# Неверная команда\n",
    "#  \n",
    "# \n",
    "# Sample Input:\n",
    "# \n",
    "# BOTTOM\n",
    "# Sample Output:\n",
    "# \n",
    "# Команда bottom\n",
    "\n",
    "\n",
    "cmd = \"BOTTOM\"\n",
    "\n",
    "match cmd:\n",
    "    case \"top\" | \"Top\" | \"TOP\":\n",
    "        print(f\"Команда top\")\n",
    "    case \"bottom\" | \"Bottom\" | \"BOTTOM\":\n",
    "        print(f\"Команда bottom\")\n",
    "    case \"right\" | \"Right\" | \"RIGHT\":\n",
    "        print(f\"Команда right\")\n",
    "    case \"left\" | \"Left\" | \"LEFT\":\n",
    "        print(f\"Команда left\")\n",
    "    case _:\n",
    "        print(\"Неверная команда\")\n",
    "        \n"
   ],
   "metadata": {
    "collapsed": false,
    "ExecuteTime": {
     "end_time": "2023-11-09T10:29:59.094883300Z",
     "start_time": "2023-11-09T10:29:59.071941600Z"
    }
   },
   "id": "e84b4e78f2d1d114"
  },
  {
   "cell_type": "code",
   "execution_count": 33,
   "outputs": [],
   "source": [
    "# В функцию get_data() передается параметр value:\n",
    "# \n",
    "# def get_data(value):\n",
    "#     match value:\n",
    "#         # здесь продолжайте программу\n",
    "#     \n",
    "#     return None\n",
    "# Необходимо дописать оператор match/case в этой функции так, чтобы для каждого типа данных (int, float и str) формировалась переменная со значением value и возвращалась функцией (непосредственно из блока case).\n",
    "# \n",
    "# P. S. Вызывать функцию не нужно, только дописать.\n",
    "\n",
    "def get_data(value):\n",
    "    match value:\n",
    "        case str(value): \n",
    "            return str(value)\n",
    "        case int(value): \n",
    "            return int(value)\n",
    "        case float(value): \n",
    "            return float(value)\n",
    "        case _:\n",
    "            return value\n",
    "\n",
    "    return None"
   ],
   "metadata": {
    "collapsed": false,
    "ExecuteTime": {
     "end_time": "2023-11-09T10:34:47.367800700Z",
     "start_time": "2023-11-09T10:34:47.338774100Z"
    }
   },
   "id": "e3c6fd0ef2678cb6"
  },
  {
   "cell_type": "code",
   "execution_count": 36,
   "outputs": [
    {
     "data": {
      "text/plain": "10.5"
     },
     "execution_count": 36,
     "metadata": {},
     "output_type": "execute_result"
    }
   ],
   "source": [
    "get_data(10.5)"
   ],
   "metadata": {
    "collapsed": false,
    "ExecuteTime": {
     "end_time": "2023-11-09T10:35:19.128386900Z",
     "start_time": "2023-11-09T10:35:19.109369600Z"
    }
   },
   "id": "cae120f97397cf85"
  },
  {
   "cell_type": "code",
   "execution_count": 74,
   "outputs": [],
   "source": [
    "# Подвиг 7. В функцию get_data() передается параметр value:\n",
    "# \n",
    "# def get_data(value):\n",
    "#     match value:\n",
    "#         # здесь продолжайте программу\n",
    "#     \n",
    "#     return None\n",
    "# Необходимо дописать оператор match/case со следующими шаблонами:\n",
    "# \n",
    "# если переменная value имеет тип int и больше нуля, то вернуть значение переменной value;\n",
    "# если переменная value имеет тип float и находится в диапазоне [-100; 100], то вернуть значение переменной value;\n",
    "# если переменная value имеет тип str, то просто вернуть ее значение.\n",
    "# P. S. Вызывать функцию не нужно, только дописать шаблоны.\n",
    "# \n",
    "\n",
    "def get_data(value):\n",
    "    match value:\n",
    "        case int() as value if value > 0: \n",
    "            return int(value)\n",
    "        case float() as value if -100 <= value <= 100: \n",
    "            return float(value)\n",
    "        case str() as value: \n",
    "            return str(value)\n",
    "        case _:\n",
    "            print(f\"другая команда - {value}\")\n",
    "\n",
    "    return None\n"
   ],
   "metadata": {
    "collapsed": false,
    "ExecuteTime": {
     "end_time": "2023-11-09T10:54:58.168980600Z",
     "start_time": "2023-11-09T10:54:58.151965600Z"
    }
   },
   "id": "c7a913a0102f3eff"
  },
  {
   "cell_type": "code",
   "execution_count": 74,
   "outputs": [],
   "source": [],
   "metadata": {
    "collapsed": false,
    "ExecuteTime": {
     "end_time": "2023-11-09T10:54:58.557872900Z",
     "start_time": "2023-11-09T10:54:58.543859800Z"
    }
   },
   "id": "46749eff70aba646"
  },
  {
   "cell_type": "code",
   "execution_count": 1,
   "outputs": [
    {
     "data": {
      "text/plain": "-99.5"
     },
     "execution_count": 1,
     "metadata": {},
     "output_type": "execute_result"
    }
   ],
   "source": [
    "def get_data(value):\n",
    "    match value:\n",
    "        case int(value) if value > 0:\n",
    "            return value\n",
    "        case float(value) if -100 <= value <= 100:\n",
    "            return value\n",
    "        case str(value):\n",
    "            return value\n",
    "    return None\n",
    "\n",
    "\n",
    "get_data(-99.5)"
   ],
   "metadata": {
    "collapsed": false,
    "ExecuteTime": {
     "end_time": "2023-11-10T01:45:52.268735500Z",
     "start_time": "2023-11-10T01:45:52.249190300Z"
    }
   },
   "id": "63dc5ceeb3c26e25"
  },
  {
   "cell_type": "code",
   "execution_count": null,
   "outputs": [],
   "source": [
    "\"\"\"\n",
    "                                    Конструкция match/case с кортежами и списками\n",
    "                                    \n",
    "match <переменная>: \n",
    "    case <шаблон_1>: \n",
    "        операторы\n",
    "    case < шаблон_п>: \n",
    "        операторы\n",
    "    case_:\n",
    "        иначе (default)\n",
    "\"\"\""
   ],
   "metadata": {
    "collapsed": false
   },
   "id": "9f5c995c61f4b514"
  },
  {
   "cell_type": "code",
   "execution_count": 2,
   "outputs": [
    {
     "name": "stdout",
     "output_type": "stream",
     "text": [
      "кортеж: ('Балакирев С.М.', 'Python', 2000.78)\n"
     ]
    }
   ],
   "source": [
    "cmd = (\"Балакирев С.М.\", \"Python\", 2000.78)\n",
    "\n",
    "match cmd:\n",
    "    case tuple() as book:\n",
    "        print(f\"кортеж: {book}\")\n",
    "    case _:\n",
    "        print(f\"Другая команда - {cmd}\")\n",
    "        \n",
    "        "
   ],
   "metadata": {
    "collapsed": false,
    "ExecuteTime": {
     "end_time": "2023-11-10T02:23:18.741202100Z",
     "start_time": "2023-11-10T02:23:18.714085700Z"
    }
   },
   "id": "37ca7a97f754438f"
  },
  {
   "cell_type": "code",
   "execution_count": 3,
   "outputs": [
    {
     "name": "stdout",
     "output_type": "stream",
     "text": [
      "книга: Балакирев С.М., Python, 2000.78,\n"
     ]
    }
   ],
   "source": [
    "cmd = (\"Балакирев С.М.\", \"Python\", 2000.78)\n",
    "\n",
    "match cmd:\n",
    "    case autor, title, price:\n",
    "        print(f\"книга: {autor}, {title}, {price},\")\n",
    "    case _:\n",
    "        print(f\"Другая команда - {cmd}\")\n",
    "        \n",
    "  "
   ],
   "metadata": {
    "collapsed": false,
    "ExecuteTime": {
     "end_time": "2023-11-10T02:25:19.562208100Z",
     "start_time": "2023-11-10T02:25:19.500151300Z"
    }
   },
   "id": "9ba05efb3c741adf"
  },
  {
   "cell_type": "code",
   "execution_count": 6,
   "outputs": [
    {
     "name": "stdout",
     "output_type": "stream",
     "text": [
      "книга: Балакирев С.М., Python, 2000.78,\n"
     ]
    }
   ],
   "source": [
    "cmd = (\"Балакирев С.М.\", \"Python\", 2000.78, 2022)\n",
    "\n",
    "match cmd:\n",
    "    case autor, title, price, *_: # *_ как с *args, всё остальное отправляется в *_\n",
    "        print(f\"книга: {autor}, {title}, {price},\")\n",
    "    case _:\n",
    "        print(f\"Другая команда\")\n",
    "        \n",
    "  "
   ],
   "metadata": {
    "collapsed": false,
    "ExecuteTime": {
     "end_time": "2023-11-10T02:27:58.528523300Z",
     "start_time": "2023-11-10T02:27:58.510643400Z"
    }
   },
   "id": "422569083ad573ec"
  },
  {
   "cell_type": "code",
   "execution_count": 9,
   "outputs": [
    {
     "name": "stdout",
     "output_type": "stream",
     "text": [
      "книга: Балакирев С.М., Python, 2000.78,\n"
     ]
    }
   ],
   "source": [
    "cmd = (\"Балакирев С.М.\", \"Python\", 2000.78, 2022, 1, 2)\n",
    "\n",
    "match cmd:\n",
    "    case (autor, title, price, *_) if len(cmd) < 7: \n",
    "        print(f\"книга: {autor}, {title}, {price},\")\n",
    "    case _:\n",
    "        print(f\"Другая команда\")\n",
    "        \n",
    " "
   ],
   "metadata": {
    "collapsed": false,
    "ExecuteTime": {
     "end_time": "2023-11-10T02:39:46.117546900Z",
     "start_time": "2023-11-10T02:39:46.101027Z"
    }
   },
   "id": "bb5558b625bbaf35"
  },
  {
   "cell_type": "code",
   "execution_count": 12,
   "outputs": [
    {
     "name": "stdout",
     "output_type": "stream",
     "text": [
      "книга: Балакирев С.М., Python, 2000.78,\n"
     ]
    }
   ],
   "source": [
    "cmd = (\"Балакирев С.М.\", \"Python\", 2000.78, 2022, 1, 2)\n",
    "\n",
    "match cmd:\n",
    "    case (str() as autor, str() as  title, float() | int () as price, *_) if len(cmd) < 7: \n",
    "        print(f\"книга: {autor}, {title}, {price},\")\n",
    "    case _:\n",
    "        print(f\"Другая команда\")\n",
    "        \n",
    " "
   ],
   "metadata": {
    "collapsed": false,
    "ExecuteTime": {
     "end_time": "2023-11-10T02:41:57.562359100Z",
     "start_time": "2023-11-10T02:41:57.514330400Z"
    }
   },
   "id": "8ccf46d922690360"
  },
  {
   "cell_type": "code",
   "execution_count": 15,
   "outputs": [
    {
     "name": "stdout",
     "output_type": "stream",
     "text": [
      "книга 2: Балакирев С.М., Python, 2000.78,\n"
     ]
    }
   ],
   "source": [
    "# cmd = (\"Балакирев С.М.\", \"Python\", 2000.78)\n",
    "cmd = [1, \"Балакирев С.М.\", \"Python\", 2000.78, 2022]\n",
    "\n",
    "match cmd:\n",
    "    case (autor, title,  price): \n",
    "        print(f\"книга 1: {autor}, {title}, {price},\")\n",
    "    case [_, autor, title,  price, _]: \n",
    "        print(f\"книга 2: {autor}, {title}, {price},\")\n",
    "    case _:\n",
    "        print(f\"Другая команда\")\n",
    "        \n",
    " "
   ],
   "metadata": {
    "collapsed": false,
    "ExecuteTime": {
     "end_time": "2023-11-10T02:46:32.864080Z",
     "start_time": "2023-11-10T02:46:32.844061100Z"
    }
   },
   "id": "794f608a02a46a0f"
  },
  {
   "cell_type": "code",
   "execution_count": 19,
   "outputs": [
    {
     "name": "stdout",
     "output_type": "stream",
     "text": [
      "книга: Балакирев С.М., Python, 2000.78,\n"
     ]
    }
   ],
   "source": [
    "# cmd = (\"Балакирев С.М.\", \"Python\", 2000.78)\n",
    "cmd = [1, \"Балакирев С.М.\", \"Python\", 2000.78, 2022]\n",
    "\n",
    "match cmd:\n",
    "    case (autor, title,  price) | [_, autor, title,  price, _]: \n",
    "        print(f\"книга: {autor}, {title}, {price},\")\n",
    "    case _:\n",
    "        print(f\"Другая команда\")\n",
    "        \n",
    " "
   ],
   "metadata": {
    "collapsed": false,
    "ExecuteTime": {
     "end_time": "2023-11-10T02:48:44.120202900Z",
     "start_time": "2023-11-10T02:48:44.104188Z"
    }
   },
   "id": "1621d96feae0ead2"
  },
  {
   "cell_type": "code",
   "execution_count": 20,
   "outputs": [
    {
     "name": "stdout",
     "output_type": "stream",
     "text": [
      "книга 2: Балакирев С.М., Python, 2000.78, 2022\n"
     ]
    }
   ],
   "source": [
    "# cmd = (\"Балакирев С.М.\", \"Python\", 2000.78)\n",
    "cmd = [1, \"Балакирев С.М.\", \"Python\", 2000.78, 2022]\n",
    "\n",
    "match cmd:\n",
    "    case (autor, title,  price): \n",
    "        print(f\"книга 1: {autor}, {title}, {price}\")\n",
    "    case [_, autor, title,  price, year]: \n",
    "        print(f\"книга 2: {autor}, {title}, {price}, {year}\")\n",
    "    case _:\n",
    "        print(f\"Другая команда\")\n",
    "        \n",
    " "
   ],
   "metadata": {
    "collapsed": false,
    "ExecuteTime": {
     "end_time": "2023-11-10T02:50:49.074879800Z",
     "start_time": "2023-11-10T02:50:49.049981400Z"
    }
   },
   "id": "e4e99a6fca8c7c76"
  },
  {
   "cell_type": "code",
   "execution_count": 23,
   "outputs": [
    {
     "name": "stdout",
     "output_type": "stream",
     "text": [
      "неверный формат данных кортеж\n"
     ]
    }
   ],
   "source": [
    "cmd = (\"Балакирев С.М.\", \"Python\", 2000.78)\n",
    "# cmd = [1, \"Балакирев С.М.\", \"Python\", 2000.78, 2022]\n",
    "\n",
    "match cmd:\n",
    "    case tuple():\n",
    "        print(f\"неверный формат данных кортеж\")\n",
    "    case (autor, title,  price): \n",
    "        print(f\"книга 1: {autor}, {title}, {price}\")\n",
    "    case [_, autor, title,  price, year]: \n",
    "        print(f\"книга 2: {autor}, {title}, {price}, {year}\")\n",
    "    case _:\n",
    "        print(f\"Другая команда\")\n",
    "        \n",
    " "
   ],
   "metadata": {
    "collapsed": false,
    "ExecuteTime": {
     "end_time": "2023-11-10T02:52:27.060514Z",
     "start_time": "2023-11-10T02:52:27.048492200Z"
    }
   },
   "id": "791b2bde829ba6aa"
  },
  {
   "cell_type": "code",
   "execution_count": 24,
   "outputs": [
    {
     "name": "stdout",
     "output_type": "stream",
     "text": [
      "Петр, Иванович, Сидоров\n"
     ]
    }
   ],
   "source": [
    "fio = ('Сидоров', 'Петр', 'Иванович')\n",
    "\n",
    "match fio:\n",
    "    case f1, f2, f3:\n",
    "        res = \", \".join([f2, f3, f1])\n",
    "    case _:\n",
    "        res = \"Некорректный формат данных\"\n",
    "\n",
    "print(res)"
   ],
   "metadata": {
    "collapsed": false,
    "ExecuteTime": {
     "end_time": "2023-11-10T02:54:20.785151Z",
     "start_time": "2023-11-10T02:54:20.739109300Z"
    }
   },
   "id": "8ee4e319916a1bcd"
  },
  {
   "cell_type": "code",
   "execution_count": 32,
   "outputs": [
    {
     "name": "stdout",
     "output_type": "stream",
     "text": [
      "200, 50, 100\n"
     ]
    }
   ],
   "source": [
    "size = [100, 200, 50]\n",
    "\n",
    "match size:\n",
    "    case s1, s2:     # 1-й блок case\n",
    "        res = \", \".join(map(str, [s2, s1]))\n",
    "        print(res)\n",
    "    case s1, s2, s3: # 2-й блок case\n",
    "        res = \", \".join(map(str, [s2, s3, s1]))\n",
    "        print(res)\n",
    "    case _:          # 3-й блок case\n",
    "        res = \"Некорректный формат данных\"\n",
    "        print(res)"
   ],
   "metadata": {
    "collapsed": false,
    "ExecuteTime": {
     "end_time": "2023-11-10T02:57:03.281109900Z",
     "start_time": "2023-11-10T02:57:03.259089600Z"
    }
   },
   "id": "8248c3d305baf848"
  },
  {
   "cell_type": "code",
   "execution_count": 34,
   "outputs": [
    {
     "name": "stdout",
     "output_type": "stream",
     "text": [
      "Некорректный формат данных\n"
     ]
    }
   ],
   "source": [
    "student = ['Троечников С.М.', 2, 3, 3, 2, 3, 4, 3, 5, 5, 1]\n",
    "\n",
    "match student:\n",
    "    case fio, m1, m2, m3:               # 1-й case\n",
    "        print(f\"{fio}: {m1} {m2} {m3}\")\n",
    "    case tuple() as fio, m1, m2, m3, *_: # 2-й case\n",
    "        print(f\"{fio}: {m1} {m2} {m3}\")\n",
    "        \n",
    "    case list() as fio, m1, m2, m3, *_: # 3-й case\n",
    "        print(f\"{fio}: {m1} {m2} {m3}\")\n",
    "        \n",
    "    case tuple() as fio, m1, m2, m3:    # 4-й case\n",
    "        print(f\"{fio}: {m1} {m2} {m3}\")\n",
    "    case _:                             # 5-й case\n",
    "        print(\"Некорректный формат данных\")\n"
   ],
   "metadata": {
    "collapsed": false,
    "ExecuteTime": {
     "end_time": "2023-11-10T03:00:37.390917400Z",
     "start_time": "2023-11-10T03:00:37.376905300Z"
    }
   },
   "id": "8bcc964cb6a5d2f2"
  },
  {
   "cell_type": "code",
   "execution_count": 36,
   "outputs": [
    {
     "name": "stdout",
     "output_type": "stream",
     "text": [
      "No\n"
     ]
    }
   ],
   "source": [
    "# Вводятся данные по книге в виде строки через запятую в формате (некоторые значения могут отсутствовать):\n",
    "# \n",
    "# id, автор, название, цена, год издания\n",
    "# \n",
    "# с помощью команд:\n",
    "# \n",
    "# t = (int, str, str, float, int)\n",
    "# book = [t[i](x) if t[i] != str else x.strip() for i, x in enumerate(input().split(\",\"))]\n",
    "# Например, при вводе:\n",
    "# \n",
    "# \"1, Балакирев С.М., Python, 2100, 2023\"\n",
    "# \n",
    "# получим список:\n",
    "# \n",
    "# book = [1, 'Балакирев С.М.', 'Python', 2100.0, 2023]\n",
    "# \n",
    "# А при вводе:\n",
    "# \n",
    "# \"1, Балакирев С.М., Python\"\n",
    "# \n",
    "# список:\n",
    "# \n",
    "# book = [1, 'Балакирев С.М.', 'Python']\n",
    "# \n",
    "# И так далее.\n",
    "# \n",
    "# С помощью оператора match/case необходимо определить шаблоны для выделения следующей информации:\n",
    "# \n",
    "# автор, название\n",
    "# автор, название, цена\n",
    "# автор, название, год издания\n",
    "# автор, название, цена, год издания\n",
    "# \n",
    "# Первый шаблон срабатывает, если есть только автор и название; второй, если появляется еще и цена; третий, если есть автор, название, год издания, но нет цены; последний, если имеются все данные.\n",
    "# \n",
    "# При срабатывании шаблона вывести на экран строку \"Yes\". Если ни один из шаблонов не сработал, то вывести строку \"No\".\n",
    "# \n",
    "# Sample Input 1:\n",
    "# \n",
    "# 1, Балакирев С.М., Python, 2100.0, 2023\n",
    "# Sample Output 1:\n",
    "# \n",
    "# Yes\n",
    "# Sample Input 2:\n",
    "# \n",
    "# 2, Зингаро. Д, Python без проблем, 1000.0, 2022\n",
    "# Sample Output 2:\n",
    "# \n",
    "# Yes\n",
    "# Sample Input 3:\n",
    "# \n",
    "# 3, Бейдер Дэн\n",
    "# Sample Output 3:\n",
    "# \n",
    "# No\n",
    "# Sample Input 4:\n",
    "# \n",
    "# 4\n",
    "# Sample Output 4:\n",
    "# \n",
    "# No\n",
    "# Sample Input 5:\n",
    "# \n",
    "# 5, Яворски Михаил, Python. Лучшие практики и инструменты, 1500.1, 2021\n",
    "# Sample Output 5:\n",
    "# \n",
    "# Yes\n",
    "\n",
    "book = [1, 'Балакирев С.М.', 'Python', 2100.0, 2023]\n",
    "book = [1, 'Балакирев С.М.', 'Python']\n",
    "\n",
    "# t = (int, str, str, float, int)\n",
    "# book = [t[i](x) if t[i] != str else x.strip() for i, x in enumerate(input().split(\",\"))]\n",
    "\n",
    "match book:\n",
    "    case (_, autor, title): \n",
    "        print(f\"Yes\")\n",
    "    case [_, autor, title, float(price)]: \n",
    "        print(f\"Yes\")\n",
    "    case [_, autor, title, int(year)]: \n",
    "        print(f\"Yes\")  \n",
    "    case [_, autor, title, float(price), int(year)]: \n",
    "        print(f\"Yes\") \n",
    "    case _:\n",
    "        print(f\"No\")\n"
   ],
   "metadata": {
    "collapsed": false,
    "ExecuteTime": {
     "end_time": "2023-11-10T03:09:37.927075900Z",
     "start_time": "2023-11-10T03:09:37.897049300Z"
    }
   },
   "id": "1a6cb544be4bb841"
  },
  {
   "cell_type": "code",
   "execution_count": 3,
   "outputs": [
    {
     "name": "stdout",
     "output_type": "stream",
     "text": [
      "No\n"
     ]
    }
   ],
   "source": [
    "# Подвиг 5. Вводятся данные по книге в виде строки через запятую в формате (некоторые значения могут отсутствовать):\n",
    "# \n",
    "# id, автор, название, цена, год издания\n",
    "# \n",
    "# с помощью команд:\n",
    "# \n",
    "# t = (int, str, str, float, int)\n",
    "# book = [t[i](x) if t[i] != str else x.strip() for i, x in enumerate(input().split(\",\"))]\n",
    "# Например, при вводе:\n",
    "# \n",
    "# \"1, Балакирев С.М., Python, 2100, 2023\"\n",
    "# \n",
    "# получим список:\n",
    "# \n",
    "# book = [1, 'Балакирев С.М.', 'Python', 2100.0, 2023]\n",
    "# \n",
    "# А при вводе:\n",
    "# \n",
    "# \"1, Балакирев С.М., Python\"\n",
    "# \n",
    "# список:\n",
    "# \n",
    "# book = [1, 'Балакирев С.М.', 'Python']\n",
    "# \n",
    "# И так далее.\n",
    "# \n",
    "# С помощью оператора match/case необходимо определить шаблоны для выделения следующей информации с дополнительными проверками:\n",
    "# \n",
    "# автор, название (автор - не менее 6 символов, название - не менее 10 символов)\n",
    "# автор, название, цена (автор не менее 6 символов, цена - положительное число)\n",
    "# автор, название, год издания (год издания от 2020 и выше)\n",
    "# автор, название, цена, год издания (цена - положительное число и год издания от 2020 и выше)\n",
    "# Первый шаблон срабатывает, если есть только автор и название; второй, если появляется еще и цена; третий, если есть автор, название, год издания, но нет цены; последний, если имеются все данные.\n",
    "# \n",
    "# При срабатывании шаблона вывести на экран строку \"Yes\". Если ни один из шаблонов не сработал, то вывести строку \"No\".\n",
    "# \n",
    "# Sample Input 1:\n",
    "# \n",
    "# 1, Балакирев С.М., Python, 2100.0, 2023\n",
    "# Sample Output 1:\n",
    "# \n",
    "# Yes\n",
    "# Sample Input 2:\n",
    "# \n",
    "# 2, Зингаро. Д, Python без проблем, 1000.0, 2019\n",
    "# Sample Output 2:\n",
    "# \n",
    "# No\n",
    "# Sample Input 3:\n",
    "# \n",
    "# 1, Балакирев С.М., Python, 0\n",
    "# Sample Output 3:\n",
    "# \n",
    "# No\n",
    "# Sample Input 4:\n",
    "# \n",
    "# 4\n",
    "# Sample Output 4:\n",
    "# \n",
    "# No\n",
    "# Sample Input 5:\n",
    "# \n",
    "# 5, Яв, Python. Лучшие практики и инструменты, 1500.1, 2021\n",
    "# Sample Output 5:\n",
    "# \n",
    "# Yes\n",
    "\n",
    "# t = (int, str, str, float, int)\n",
    "# book = [t[i](x) if t[i] != str else x.strip() for i, x in enumerate(input().split(\",\"))]\n",
    "\n",
    "\n",
    "book = [1, 'Балакирев С.М.', 'Python', 2100.0, 2023]\n",
    "book = [1, 'Балакирев С.М.', 'Python']\n",
    "\n",
    "\n",
    "match book:\n",
    "    case (_, autor, title) if len(autor) >= 6 and len(title) > 10: \n",
    "        print(f\"Yes\")\n",
    "    case [_, autor, title, float(price)] if len(autor) >= 6 and price >= 1:\n",
    "        print(f\"Yes\")\n",
    "    case [_, autor, title, int(year)] if year >= 2020: \n",
    "        print(f\"Yes\")  \n",
    "    case [_, autor, title, float(price), int(year)] if price >= 1 and year >= 2020: \n",
    "        print(f\"Yes\") \n",
    "    case _:\n",
    "        print(f\"No\")"
   ],
   "metadata": {
    "collapsed": false,
    "ExecuteTime": {
     "end_time": "2023-11-11T05:42:56.677194900Z",
     "start_time": "2023-11-11T05:42:56.653173500Z"
    }
   },
   "id": "6f4b70d01e9432a0"
  },
  {
   "cell_type": "code",
   "execution_count": 5,
   "outputs": [],
   "source": [
    "\"\"\"\n",
    "            Конструкция match/case со словарями и множествами dict, set\n",
    "\"\"\"\n"
   ],
   "metadata": {
    "collapsed": false,
    "ExecuteTime": {
     "end_time": "2023-11-11T05:43:06.920418900Z",
     "start_time": "2023-11-11T05:43:06.891392600Z"
    }
   },
   "id": "92d4a1e1ed24485a"
  },
  {
   "cell_type": "code",
   "execution_count": 7,
   "outputs": [
    {
     "name": "stdout",
     "output_type": "stream",
     "text": [
      "Запрос: url: https://proproprogs.ru, method: get\n"
     ]
    }
   ],
   "source": [
    "request = {'url': 'https://proproprogs.ru', 'method': 'get', 'timeout':1000}\n",
    "\n",
    "match request:\n",
    "    case {'url': url, 'method': method}:\n",
    "        print(f\"Запрос: url: {url}, method: {method}\")\n",
    "    case _: # wildcard\n",
    "        print(f\"неверный запрос\")"
   ],
   "metadata": {
    "collapsed": false,
    "ExecuteTime": {
     "end_time": "2023-11-11T05:46:48.201452800Z",
     "start_time": "2023-11-11T05:46:48.171514500Z"
    }
   },
   "id": "1985d6c846b7d740"
  },
  {
   "cell_type": "code",
   "execution_count": 8,
   "outputs": [
    {
     "name": "stdout",
     "output_type": "stream",
     "text": [
      "Запрос: url: https://proproprogs.ru, method: get\n"
     ]
    }
   ],
   "source": [
    "request = {'url': 'https://proproprogs.ru', 'method': 'get', 'timeout':1000}\n",
    "\n",
    "match request:\n",
    "    case {'url': str() as url, 'method': str(method)}:\n",
    "        print(f\"Запрос: url: {url}, method: {method}\")\n",
    "    case _: # wildcard\n",
    "        print(f\"неверный запрос\")"
   ],
   "metadata": {
    "collapsed": false,
    "ExecuteTime": {
     "end_time": "2023-11-11T05:57:36.990813500Z",
     "start_time": "2023-11-11T05:57:36.957175500Z"
    }
   },
   "id": "e3e5ca96f342f048"
  },
  {
   "cell_type": "code",
   "execution_count": 15,
   "outputs": [
    {
     "name": "stdout",
     "output_type": "stream",
     "text": [
      "Запрос: url: https://proproprogs.ru, method: get\n"
     ]
    }
   ],
   "source": [
    "request = {'url': 'https://proproprogs.ru', 'method': 'get', 'timeout':2000}\n",
    "# request = {'url': 'https://proproprogs.ru', 'method': 'get', 'timeout':2000, \"data\": '07.01.2021'}\n",
    "\n",
    "match request:\n",
    "    case {'url': str() as url, 'method': str(method), 'timeout':1000 | 2000} if len(request) <= 3:\n",
    "        print(f\"Запрос: url: {url}, method: {method}\")\n",
    "    case _: # wildcard\n",
    "        print(f\"неверный запрос\")"
   ],
   "metadata": {
    "collapsed": false,
    "ExecuteTime": {
     "end_time": "2023-11-11T06:01:11.643222900Z",
     "start_time": "2023-11-11T06:01:11.608130600Z"
    }
   },
   "id": "385bcf712efdb64"
  },
  {
   "cell_type": "code",
   "execution_count": 20,
   "outputs": [
    {
     "name": "stdout",
     "output_type": "stream",
     "text": [
      "Запрос: url: https://proproprogs.ru, method: get\n"
     ]
    }
   ],
   "source": [
    "request = {'id': 1, 'url': 'https://proproprogs.ru', 'method': 'get', 'timeout':2000, \"data\": '07.01.2021'}\n",
    "\n",
    "match request:\n",
    "    case {'url': str() as url, 'method': str(method), **kwargs} if len(kwargs) <= 3:\n",
    "        print(f\"Запрос: url: {url}, method: {method}\")\n",
    "    case _: # wildcard\n",
    "        print(f\"неверный запрос\")"
   ],
   "metadata": {
    "collapsed": false,
    "ExecuteTime": {
     "end_time": "2023-11-11T06:05:59.993409100Z",
     "start_time": "2023-11-11T06:05:59.974391200Z"
    }
   },
   "id": "ef919a6f5f38cbbe"
  },
  {
   "cell_type": "code",
   "execution_count": 22,
   "outputs": [
    {
     "name": "stdout",
     "output_type": "stream",
     "text": [
      "Запрос: url: https://proproprogs.ru, method: get\n"
     ]
    }
   ],
   "source": [
    "request = {'url': 'https://proproprogs.ru', 'method': 'get'}\n",
    "\n",
    "match request:\n",
    "    case {'url': str() as url, 'method': str(method), **kwargs} if not kwargs:\n",
    "        print(f\"Запрос: url: {url}, method: {method}\")\n",
    "    case _: # wildcard\n",
    "        print(f\"неверный запрос\")"
   ],
   "metadata": {
    "collapsed": false,
    "ExecuteTime": {
     "end_time": "2023-11-11T06:07:08.358323600Z",
     "start_time": "2023-11-11T06:07:08.336363600Z"
    }
   },
   "id": "a8b33e22b011293c"
  },
  {
   "cell_type": "code",
   "execution_count": 27,
   "outputs": [
    {
     "name": "stdout",
     "output_type": "stream",
     "text": [
      "JSON- данные: type-list: [1, 2, 3]\n"
     ]
    }
   ],
   "source": [
    "jsont_data = {'id': 2, 'type': 'list', 'data': [1,2,3], 'access': True, 'date': '01.01.2023'} \n",
    "# jsont_data = {'id': 2, 'type': 'list', 'data': (1,2,3), 'access': True, 'date': '01.01.2023'} \n",
    "\n",
    "match jsont_data:\n",
    "    case {'type': 'list', 'data': list(lst)}:\n",
    "        print(f\"JSON- данные: type-list: {lst}\")\n",
    "    case _: # wildcard\n",
    "        print(f\"неверный запрос\")"
   ],
   "metadata": {
    "collapsed": false,
    "ExecuteTime": {
     "end_time": "2023-11-11T06:13:20.377736900Z",
     "start_time": "2023-11-11T06:13:20.358454Z"
    }
   },
   "id": "b2a15e4086ae03a5"
  },
  {
   "cell_type": "code",
   "execution_count": 28,
   "outputs": [
    {
     "name": "stdout",
     "output_type": "stream",
     "text": [
      "JSON: access: True, email: email@m.ru\n"
     ]
    }
   ],
   "source": [
    "jsont_data = {'id': 2, 'access': True, 'info': ['01.01.2023', {'login': '123', 'email': 'email@m.ru'}, True, 1000]}\n",
    "\n",
    "\n",
    "match jsont_data:\n",
    "    case {'access': access, 'info': [_, {'email': email}, _, _]}:\n",
    "        print(f\"JSON: access: {access}, email: {email}\")\n",
    "    case _: # wildcard\n",
    "        print(f\"неверный запрос\")"
   ],
   "metadata": {
    "collapsed": false,
    "ExecuteTime": {
     "end_time": "2023-11-11T06:19:15.863994900Z",
     "start_time": "2023-11-11T06:19:15.799832600Z"
    }
   },
   "id": "c32b2759a2bf317c"
  },
  {
   "cell_type": "code",
   "execution_count": 32,
   "outputs": [
    {
     "name": "stdout",
     "output_type": "stream",
     "text": [
      "JSON: access: True, email: email@m.ru\n"
     ]
    }
   ],
   "source": [
    "jsont_data = {'id': 2, 'access': True, 'info': ['01.01.2023', {'login': '123', 'email': 'email@m.ru'}, True, 1000]}\n",
    "\n",
    "\n",
    "match jsont_data:\n",
    "    case {'access': access, 'info': [_, {'email': email}, *_]}:\n",
    "        print(f\"JSON: access: {access}, email: {email}\")\n",
    "    case _: # wildcard\n",
    "        print(f\"неверный запрос\")"
   ],
   "metadata": {
    "collapsed": false,
    "ExecuteTime": {
     "end_time": "2023-11-11T06:21:59.254781100Z",
     "start_time": "2023-11-11T06:21:59.221751200Z"
    }
   },
   "id": "4d0b45be5061104a"
  },
  {
   "cell_type": "code",
   "execution_count": null,
   "outputs": [],
   "source": [],
   "metadata": {
    "collapsed": false
   },
   "id": "7c2104edc51a870a"
  },
  {
   "cell_type": "code",
   "execution_count": 37,
   "outputs": [
    {
     "name": "stdout",
     "output_type": "stream",
     "text": [
      "Primary Keys: {1, 2, 3}\n"
     ]
    }
   ],
   "source": [
    "primary_keys = {1, 2, 3}\n",
    "\n",
    "match primary_keys:\n",
    "    case set(keys) if len(keys) == 3:\n",
    "        print(f\"Primary Keys: {keys}\")\n",
    "    case _: # wildcard\n",
    "        print(f\"неверный запрос\")"
   ],
   "metadata": {
    "collapsed": false,
    "ExecuteTime": {
     "end_time": "2023-11-11T06:24:57.250771200Z",
     "start_time": "2023-11-11T06:24:57.231033300Z"
    }
   },
   "id": "c50e3462d96bef57"
  },
  {
   "cell_type": "code",
   "execution_count": 69,
   "outputs": [
    {
     "name": "stdout",
     "output_type": "stream",
     "text": [
      "False 26.05.2023\n"
     ]
    }
   ],
   "source": [
    "# Подвиг 4. Имеется следующий фрагмент программы с функцией parse_json и словарем json_data:\n",
    "# \n",
    "# def parse_json(data):\n",
    "#     match data:\n",
    "#         case {'id': ids, 'data': [_, {'login': login}, _, _]}:\n",
    "#             return ids, login\n",
    "#     \n",
    "#     return None\n",
    "# \n",
    "# \n",
    "# json_data = {'id': 2, 'access': False, 'data': ['26.05.2023', {'login': '1234', 'email': 'xxx@mail.com'}, 2000, 56.4]}\n",
    "# С помощью оператора match/case в функцию parse_json добавьте в самое начало шаблон для выделения значения ключа access с проверкой на тип bool и для выделения даты (первое значение списка) из поля data с проверкой, что data является списком. Возвратите выделенные два значения в виде кортежа в формате (access, date).\n",
    "# \n",
    "# P. S. В программе нужно только дописать шаблон. Вызывать функцию не нужно.\n",
    "# \n",
    "\n",
    "json_data = {'id': 2, 'access': False, 'data': ['26.05.2023', {'login': '1234', 'email': 'xxx@mail.com'}, 2000, 56.4]}\n",
    "\n",
    "def parse_json(data):\n",
    "    match data:\n",
    "        \n",
    "        case {'access': bool(access), 'data': [data, {**kwargs}, _, _]} if type(data) == str:\n",
    "            return access, data\n",
    "\n",
    "        case {'id': ids, 'data': [_, {'login': login}, _, _]}:\n",
    "            return ids, login\n",
    "        case _: # wildcard\n",
    "            return f\"неверный запрос\"\n",
    "\n",
    "    return None\n",
    "\n",
    "\n",
    "\n",
    "print(*parse_json(json_data))"
   ],
   "metadata": {
    "collapsed": false,
    "ExecuteTime": {
     "end_time": "2023-11-11T06:59:31.513908800Z",
     "start_time": "2023-11-11T06:59:31.489885800Z"
    }
   },
   "id": "f9a8a1f40771222f"
  },
  {
   "cell_type": "code",
   "execution_count": 72,
   "outputs": [],
   "source": [
    "def parse_json(data):\n",
    "    match data:\n",
    "        # здесь прописывайте шаблон\n",
    "        case {\"access\": bool(access), \"data\": list([date, *_])}:\n",
    "            return access, date\n",
    "        case {'id': ids, 'data': [_, {'login': login}, _, _]}:\n",
    "            return ids, login\n",
    "\n",
    "    return None\n",
    "\n",
    "json_data = {'id': 2, 'access': False, 'data': ['26.05.2023', {'login': '1234', 'email': 'xxx@mail.com'}, 2000]}"
   ],
   "metadata": {
    "collapsed": false,
    "ExecuteTime": {
     "end_time": "2023-11-11T07:04:18.894101500Z",
     "start_time": "2023-11-11T07:04:18.853063700Z"
    }
   },
   "id": "43843f6f2a992cff"
  },
  {
   "cell_type": "code",
   "execution_count": 1,
   "outputs": [
    {
     "name": "stdout",
     "output_type": "stream",
     "text": [
      "1234 xxx@mail.com\n"
     ]
    }
   ],
   "source": [
    "# Подвиг 5. Имеется следующий фрагмент программы с функцией parse_json и словарем json_data:\n",
    "# \n",
    "# def parse_json(data):\n",
    "#     match data:\n",
    "#         case {'id': ids, 'data': [_, {'login': login}, _, _]}:\n",
    "#             return ids, login\n",
    "#     \n",
    "#     return None\n",
    "# \n",
    "# json_data = {'id': 2, 'access': True, 'data': ['26.05.2023', {'login': '1234', 'email': 'xxx@mail.com'}, 2000, 56.4]}\n",
    "# С помощью оператора match/case в функцию parse_json добавьте в самое начало шаблон для выделения значений ключей login и email с проверкой, что они являются строками и при условии, что поле access принимает значение True. Возвратите выделенные два значения в виде кортежа в формате (login, email).\n",
    "# \n",
    "# P. S. В программе нужно только дописать шаблон. Вызывать функцию не нужно.\n",
    "\n",
    "def parse_json(data):\n",
    "    match data:\n",
    "        case {'access': True, 'data': [_, {'login': str(login), 'email': str(email)}, *_]}:\n",
    "            return login , email\n",
    "\n",
    "        case {'id': ids, 'data': [_, {'login': login}, _, _]}:\n",
    "            return ids, login\n",
    "\n",
    "    return None\n",
    "\n",
    "json_data = {'id': 2, 'access': True, 'data': ['26.05.2023', {'login': '1234', 'email': 'xxx@mail.com'}, 2000, 56.4]}\n",
    "\n",
    "\n",
    "\n",
    "print(*parse_json(json_data))"
   ],
   "metadata": {
    "collapsed": false,
    "ExecuteTime": {
     "end_time": "2023-11-16T03:17:51.102457400Z",
     "start_time": "2023-11-16T03:17:51.080332900Z"
    }
   },
   "id": "883fed69313a60c7"
  },
  {
   "cell_type": "code",
   "execution_count": null,
   "outputs": [],
   "source": [],
   "metadata": {
    "collapsed": false
   },
   "id": "b1eaa7adc53fe4b8"
  },
  {
   "cell_type": "code",
   "execution_count": 3,
   "outputs": [
    {
     "name": "stdout",
     "output_type": "stream",
     "text": [
      "connection 127.0.0.1@root.1234:22\n"
     ]
    }
   ],
   "source": [
    "\"\"\"\n",
    "эмуляция подклячения к Data base\n",
    "\"\"\"\n",
    "\n",
    "def connect_db(connect: dict) -> str:\n",
    "    match connect:\n",
    "        case {'server': host, 'login': login, \"password\": psw, 'port': port}:\n",
    "            return f\"connection {host}@{login}.{psw}:{port}\"\n",
    "        case {'server': host, 'login': login, \"password\": psw}:\n",
    "            port = 22\n",
    "            return f\"connection {host}@{login}.{psw}:{port}\"\n",
    "        case _:\n",
    "            return \"error connection\"\n",
    "        \n",
    "request = {'server': '127.0.0.1', 'login': 'root', 'password': '1234'}\n",
    "\n",
    "result = connect_db(request)\n",
    "print(result)\n",
    "        "
   ],
   "metadata": {
    "collapsed": false,
    "ExecuteTime": {
     "end_time": "2023-11-17T02:49:16.558171200Z",
     "start_time": "2023-11-17T02:49:16.536151500Z"
    }
   },
   "id": "32094c2f910fd7e2"
  },
  {
   "cell_type": "code",
   "execution_count": 6,
   "outputs": [
    {
     "name": "stdout",
     "output_type": "stream",
     "text": [
      "connection 127.0.0.1@root.1234:22\n"
     ]
    }
   ],
   "source": [
    "def connect_db(connect: dict) -> str:\n",
    "    match connect:\n",
    "        case {'server': host, 'login': login, \"password\": psw, 'port': port}:\n",
    "            pass # убераем дублирование кода, делаем пропуск так как должен быть хотя бы один оператор\n",
    "        case {'server': host, 'login': login, \"password\": psw}:\n",
    "            port = 22 # pass ненужен так как есть один оператор \"port = 22\"\n",
    "        case _:\n",
    "            return \"error connection\"\n",
    "    return f\"connection {host}@{login}.{psw}:{port}\"\n",
    "\n",
    "request = {'server': '127.0.0.1', 'login': 'root', 'password': '1234'}\n",
    "\n",
    "result = connect_db(request)\n",
    "print(result)\n",
    "        "
   ],
   "metadata": {
    "collapsed": false,
    "ExecuteTime": {
     "end_time": "2023-11-17T02:55:10.703914Z",
     "start_time": "2023-11-17T02:55:10.658551500Z"
    }
   },
   "id": "52d26b6118c01bf0"
  },
  {
   "cell_type": "code",
   "execution_count": null,
   "outputs": [],
   "source": [],
   "metadata": {
    "collapsed": false
   },
   "id": "5f1eadf42c14e95a"
  },
  {
   "cell_type": "code",
   "execution_count": 27,
   "outputs": [
    {
     "name": "stdout",
     "output_type": "stream",
     "text": [
      "Автор - Балакирев,\n",
      "Название - Python,\n",
      "Год - 2022,\n",
      "Цена - None\n",
      "\n",
      "Автор - Балакирев,\n",
      "Название - Python ООП,\n",
      "Год - 2022,\n",
      "Цена - 3432.27\n",
      "\n",
      "Автор - Балакирев,\n",
      "Название - Нейросети,\n",
      "Год - 2020,\n",
      "Цена - None\n",
      "\n",
      "Автор - Балакирев,\n",
      "Название - Keras + Tensorflow,\n",
      "Год - 2020,\n",
      "Цена - 5430\n"
     ]
    }
   ],
   "source": [
    "book_1 = ('Балакирев', 'Python', 2022) \n",
    "book_2 = ['Балакирев', 'Python ООП', 2022, 3432.27] \n",
    "book_3 = {'author': 'Балакирев', 'title': 'Нейросети', 'year': 2020} \n",
    "book_4 = {'author': 'Балакирев', 'title': 'Keras + Tensorflow', 'price': 5430, 'year': 2020}\n",
    "\n",
    "# (автор, название, год, цена)\n",
    "\n",
    "def bool_to_tuple(data: dict | tuple | list) -> tuple | None:\n",
    "    match data:\n",
    "        case author, title, year:\n",
    "            price = None\n",
    "        case author, title, year, price, *_:\n",
    "            pass\n",
    "        case {'author': author, 'title': title, 'year': year, 'price': price}: # в первую очередь обрабатываем частный случай\n",
    "            pass\n",
    "        case {'author': author, 'title': title, 'year': year}: # обрабатываем общий случай\n",
    "            price = None\n",
    "        case _:\n",
    "            return None\n",
    "    #  author, title, year, price\n",
    "    return (f'Автор - {author},\\n'\n",
    "            f'Название - {title},\\n'\n",
    "            f'Год - {year},\\n'\n",
    "            f'Цена - {price}\\n')\n",
    "\n",
    "\n",
    "result = bool_to_tuple(book_1)\n",
    "print(result)\n",
    "result = bool_to_tuple(book_2)\n",
    "print(result)\n",
    "result = bool_to_tuple(book_3)\n",
    "print(result)\n",
    "result = bool_to_tuple(book_4)\n",
    "print(result)"
   ],
   "metadata": {
    "collapsed": false,
    "ExecuteTime": {
     "end_time": "2023-11-17T03:17:30.945537100Z",
     "start_time": "2023-11-17T03:17:30.915792100Z"
    }
   },
   "id": "1c2755916da49c41"
  },
  {
   "cell_type": "code",
   "execution_count": 30,
   "outputs": [
    {
     "name": "stdout",
     "output_type": "stream",
     "text": [
      "Автор - Балакирев,\n",
      "Название - Python,\n",
      "Год - 2022,\n",
      "Цена - None\n",
      "\n",
      "Автор - Балакирев,\n",
      "Название - Python ООП,\n",
      "Год - 2022,\n",
      "Цена - 3432.27\n",
      "\n",
      "Автор - Балакирев,\n",
      "Название - Нейросети,\n",
      "Год - 2020,\n",
      "Цена - None\n",
      "\n",
      "Автор - Балакирев,\n",
      "Название - Keras + Tensorflow,\n",
      "Год - 2020,\n",
      "Цена - 5430\n"
     ]
    }
   ],
   "source": [
    "book_1 = ('Балакирев', 'Python', 2022) \n",
    "book_2 = ['Балакирев', 'Python ООП', 2022, 3432.27] \n",
    "book_3 = {'author': 'Балакирев', 'title': 'Нейросети', 'year': 2020} \n",
    "book_4 = {'author': 'Балакирев', 'title': 'Keras + Tensorflow', 'price': 5430, 'year': 2020}\n",
    "\n",
    "# (автор, название, год, цена)\n",
    "\n",
    "def bool_to_tuple(data: dict | tuple | list, min_year = 1800, max_year = 3000) -> tuple | None:\n",
    "    price = None\n",
    "    match data:\n",
    "        case author, title, year:\n",
    "            pass\n",
    "        case author, title, year, price, *_:\n",
    "            pass\n",
    "        case {'author': author, 'title': title, 'year': year, 'price': price}: # в первую очередь обрабатываем частный случай\n",
    "            pass\n",
    "        case {'author': author, 'title': title, 'year': year}: # обрабатываем общий случай\n",
    "            pass\n",
    "        case _:\n",
    "            return None\n",
    "    \n",
    "    if not (min_year < year < max_year):\n",
    "        return None\n",
    "    \n",
    "    #  author, title, year, price\n",
    "    \n",
    "    return (f'Автор - {author},\\n'\n",
    "            f'Название - {title},\\n'\n",
    "            f'Год - {year},\\n'\n",
    "            f'Цена - {price}\\n')\n",
    "\n",
    "\n",
    "result = bool_to_tuple(book_1)\n",
    "print(result)\n",
    "result = bool_to_tuple(book_2)\n",
    "print(result)\n",
    "result = bool_to_tuple(book_3)\n",
    "print(result)\n",
    "result = bool_to_tuple(book_4)\n",
    "print(result)"
   ],
   "metadata": {
    "collapsed": false,
    "ExecuteTime": {
     "end_time": "2023-11-17T03:23:16.321869800Z",
     "start_time": "2023-11-17T03:23:16.298848800Z"
    }
   },
   "id": "caf8c730cfaa2ccb"
  },
  {
   "cell_type": "code",
   "execution_count": null,
   "outputs": [],
   "source": [],
   "metadata": {
    "collapsed": false
   },
   "id": "838d3a59a5bf8331"
  },
  {
   "cell_type": "code",
   "execution_count": 31,
   "outputs": [
    {
     "name": "stdout",
     "output_type": "stream",
     "text": [
      "3\n"
     ]
    }
   ],
   "source": [
    "class Consts:\n",
    "    CMD_3 = 3\n",
    "    CMD_5 = 5\n",
    "    \n",
    "cmd = 3\n",
    "\n",
    "match cmd:\n",
    "    case Consts.CMD_3:\n",
    "        print(\"3\")\n",
    "    case Consts.CMD_5:\n",
    "        print(\"5\")"
   ],
   "metadata": {
    "collapsed": false,
    "ExecuteTime": {
     "end_time": "2023-11-17T03:35:43.945607600Z",
     "start_time": "2023-11-17T03:35:43.913868700Z"
    }
   },
   "id": "5e748c93efd4546"
  }
 ],
 "metadata": {
  "kernelspec": {
   "display_name": "Python 3",
   "language": "python",
   "name": "python3"
  },
  "language_info": {
   "codemirror_mode": {
    "name": "ipython",
    "version": 2
   },
   "file_extension": ".py",
   "mimetype": "text/x-python",
   "name": "python",
   "nbconvert_exporter": "python",
   "pygments_lexer": "ipython2",
   "version": "2.7.6"
  }
 },
 "nbformat": 4,
 "nbformat_minor": 5
}
