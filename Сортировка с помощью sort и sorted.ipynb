{
 "cells": [
  {
   "cell_type": "code",
   "execution_count": null,
   "outputs": [],
   "source": [
    "\"\"\"\n",
    "list.sort() - метод для сортировки элементов списка.\n",
    "sorted() - Функция для сортировки итерируемых обьектов.\n",
    "\"\"\""
   ],
   "metadata": {
    "collapsed": false
   },
   "id": "484d5ce8aa0acc59"
  },
  {
   "cell_type": "code",
   "execution_count": 1,
   "outputs": [
    {
     "name": "stdout",
     "output_type": "stream",
     "text": [
      "[1, 1, 2, 3, 3, 4, 5, 5, 5, 6, 9]\n"
     ]
    }
   ],
   "source": [
    "numbers = [3, 1, 4, 1, 5, 9, 2, 6, 5, 3, 5]\n",
    "numbers.sort()\n",
    "print(numbers)\n"
   ],
   "metadata": {
    "collapsed": false,
    "ExecuteTime": {
     "start_time": "2023-10-29T07:13:36.510356300Z"
    }
   },
   "id": "initial_id"
  },
  {
   "cell_type": "code",
   "execution_count": 2,
   "outputs": [
    {
     "name": "stdout",
     "output_type": "stream",
     "text": [
      "['apple', 'banana', 'cherry', 'date', 'elderberry']\n"
     ]
    }
   ],
   "source": [
    "fruits = ['banana', 'apple', 'cherry', 'date', 'elderberry']\n",
    "sorted_fruits = sorted(fruits)\n",
    "print(sorted_fruits)\n"
   ],
   "metadata": {
    "collapsed": false,
    "ExecuteTime": {
     "end_time": "2023-10-29T07:13:47.376152300Z",
     "start_time": "2023-10-29T07:13:47.335115800Z"
    }
   },
   "id": "e07df50d102798ca"
  },
  {
   "cell_type": "code",
   "execution_count": 3,
   "outputs": [
    {
     "name": "stdout",
     "output_type": "stream",
     "text": [
      "['apple', 'banana', 'cherry', 'date', 'elderberry']\n"
     ]
    }
   ],
   "source": [
    "fruits = ['banana', 'apple', 'cherry', 'date', 'elderberry']\n",
    "fruits.sort()\n",
    "print(fruits)\n"
   ],
   "metadata": {
    "collapsed": false,
    "ExecuteTime": {
     "end_time": "2023-10-29T07:14:08.214433100Z",
     "start_time": "2023-10-29T07:14:08.182276500Z"
    }
   },
   "id": "95c87076fddbdfb0"
  },
  {
   "cell_type": "code",
   "execution_count": 6,
   "outputs": [
    {
     "name": "stdout",
     "output_type": "stream",
     "text": [
      "True\n",
      "True\n"
     ]
    }
   ],
   "source": [
    "# Подвиг 2. На вход поступает список целых чисел, записанных в одну строчку через пробел. Преобразуйте сначала эту строку в список из целых чисел, а затем список в кортеж из целых чисел. То есть, в программе будет две разные коллекции: список и кортеж. Отсортируйте по возрастанию значений эти коллекции методом sort, если это возможно, а иначе - примените функцию sorted.\n",
    "# \n",
    "# На экран ничего выводить не нужно, только сформировать две отсортированные коллекции: lst (список) - результат сортировки списка; tp_lst (кортеж) - результат сортировки кортежа.\n",
    "# \n",
    "# P. S. На результаты сортировок обязательно должны ссылаться переменные с именами lst и tp_lst!\n",
    "# \n",
    "# Sample Input:\n",
    "# \n",
    "# -2 -1 8 11 4 5 \n",
    "# Sample Output:\n",
    "# \n",
    "# True\n",
    "\n",
    "s = input()\n",
    "\n",
    "\n",
    "lst = list(map(int,s.split())) \n",
    "lst.sort() \n",
    "tp_lst = tuple(lst)\n",
    "\n",
    "print(lst == sorted(lst)) \n",
    "print(tp_lst == tuple(sorted(tp_lst)))"
   ],
   "metadata": {
    "collapsed": false,
    "ExecuteTime": {
     "end_time": "2023-10-29T07:16:04.154795800Z",
     "start_time": "2023-10-29T07:16:02.860751600Z"
    }
   },
   "id": "27ff1270253ac2a9"
  },
  {
   "cell_type": "code",
   "execution_count": null,
   "outputs": [],
   "source": [],
   "metadata": {
    "collapsed": false,
    "ExecuteTime": {
     "end_time": "2023-10-30T05:59:19.033000800Z",
     "start_time": "2023-10-30T05:59:19.024992600Z"
    }
   },
   "id": "f18a21b51c7fb45b"
  },
  {
   "cell_type": "code",
   "execution_count": 55,
   "outputs": [
    {
     "data": {
      "text/plain": "['дерево', 'лошадь', 'собака', 'кот', 'книга']"
     },
     "execution_count": 55,
     "metadata": {},
     "output_type": "execute_result"
    }
   ],
   "source": [
    "# Подвиг 3. На вход функции с именем get_sort поступает словарь, например, такой:\n",
    "# \n",
    "# d = {'cat': 'кот', 'horse': 'лошадь', 'tree': 'дерево', 'dog': 'собака', 'book': 'книга'}\n",
    "# \n",
    "# Необходимо отсортировать словарь d по убыванию ключей (лексикографическая сортировка строк) и возвратить список из соответствующих значений ключей словаря. Например, для указанного словаря d, результатом должен быть список:\n",
    "# \n",
    "# ['дерево', 'лошадь', 'собака', 'кот', 'книга']\n",
    "# \n",
    "# Сигнатура функции get_sort должна быть следующей:\n",
    "# \n",
    "# def get_sort(d): ...\n",
    "# \n",
    "# В программе только определить функцию, вызывать ее не нужно и что-либо выводить на экран тоже не нужно.\n",
    "# \n",
    "# P. S. Подсказка: список в функции get_sort лучше всего формировать с помощью генератора списков.\n",
    "#  \n",
    "# \n",
    "# Sample Input:\n",
    "# \n",
    "# Sample Output:\n",
    "# \n",
    "# True\n",
    "\n",
    "def get_sort(d):\n",
    "    return [d[key] for key in sorted(d.keys(), reverse=True)]\n",
    "\n",
    "\n",
    "\n",
    "d = {'cat': 'кот', 'horse': 'лошадь', 'tree': 'дерево', 'dog': 'собака', 'book': 'книга'}\n",
    "\n",
    "get_sort(d)"
   ],
   "metadata": {
    "collapsed": false,
    "ExecuteTime": {
     "end_time": "2023-10-30T06:46:54.520861100Z",
     "start_time": "2023-10-30T06:46:54.501842800Z"
    }
   },
   "id": "99a02913666e2e0"
  },
  {
   "cell_type": "code",
   "execution_count": null,
   "outputs": [],
   "source": [],
   "metadata": {
    "collapsed": false
   },
   "id": "e7c793944015467a"
  },
  {
   "cell_type": "code",
   "execution_count": 1,
   "outputs": [
    {
     "name": "stdout",
     "output_type": "stream",
     "text": [
      "['дерево', 'лошадь', 'собака', 'кот', 'книга']\n"
     ]
    },
    {
     "data": {
      "text/plain": "'Таким образом, ваш код сортирует ключи словаря в обратном порядке и создает новый список, содержащий значения, соответствующие отсортированным ключам.'"
     },
     "execution_count": 1,
     "metadata": {},
     "output_type": "execute_result"
    }
   ],
   "source": [
    "# Создаем словарь d\n",
    "d = {'cat': 'кот', 'horse': 'лошадь', 'tree': 'дерево', 'dog': 'собака', 'book': 'книга'}\n",
    "\n",
    "# Используем генератор списка для создания нового списка значений словаря.\n",
    "# Сначала мы сортируем ключи словаря в обратном порядке с помощью функции sorted().\n",
    "# Затем для каждого ключа в отсортированном списке ключей мы получаем соответствующее значение из словаря d.\n",
    "value = [d[key] for key in sorted(d.keys(), reverse=True)]\n",
    "\n",
    "# Выводим полученный список значений на экран\n",
    "print(value)\n",
    "\n",
    "\"\"\"Таким образом, ваш код сортирует ключи словаря в обратном порядке и создает новый список, содержащий значения, соответствующие отсортированным ключам.\"\"\""
   ],
   "metadata": {
    "collapsed": false,
    "ExecuteTime": {
     "end_time": "2023-10-31T02:06:49.046068200Z",
     "start_time": "2023-10-31T02:06:49.031054400Z"
    }
   },
   "id": "74829d343888007e"
  },
  {
   "cell_type": "code",
   "execution_count": 2,
   "outputs": [
    {
     "data": {
      "text/plain": "'лошадь'"
     },
     "execution_count": 2,
     "metadata": {},
     "output_type": "execute_result"
    }
   ],
   "source": [
    "d[\"horse\"]"
   ],
   "metadata": {
    "collapsed": false,
    "ExecuteTime": {
     "end_time": "2023-10-31T02:06:52.489499700Z",
     "start_time": "2023-10-31T02:06:52.465308500Z"
    }
   },
   "id": "3bf1f87b81df9b83"
  },
  {
   "cell_type": "code",
   "execution_count": 32,
   "outputs": [],
   "source": [
    "# Подвиг 4. На вход программы поступает список целых чисел, записанных в одну строчку через пробел. Необходимо выбрать из них четыре наибольших уникальных значения. Результат вывести на экран в порядке их убывания в одну строчку через пробел.\n",
    "# \n",
    "# Sample Input:\n",
    "# \n",
    "# 10 5 4 -3 2 0 5 10 3\n",
    "# Sample Output:\n",
    "# \n",
    "# 10 5 4 3\n",
    "\n",
    "s = list(map(int, input().split()))\n",
    "z = set(s)\n",
    "x = sorted(z, reverse=True)\n",
    "print(*x[:4])"
   ],
   "metadata": {
    "collapsed": false,
    "ExecuteTime": {
     "end_time": "2023-10-31T02:11:39.789877800Z",
     "start_time": "2023-10-31T02:11:38.653970Z"
    }
   },
   "id": "ad67f8f97614e7bc"
  },
  {
   "cell_type": "code",
   "execution_count": 31,
   "outputs": [],
   "source": [],
   "metadata": {
    "collapsed": false,
    "ExecuteTime": {
     "end_time": "2023-10-31T02:11:16.848799700Z",
     "start_time": "2023-10-31T02:11:16.834051400Z"
    }
   },
   "id": "3db09f752cafbcae"
  },
  {
   "cell_type": "code",
   "execution_count": 48,
   "outputs": [
    {
     "name": "stdout",
     "output_type": "stream",
     "text": [
      "67 14 9 11 10 3 "
     ]
    }
   ],
   "source": [
    "# Подвиг 5. На вход программы поступают два списка целых чисел (каждый в отдельной строке), записанных в одну строчку через пробел. Длины списков могут быть разными. Необходимо первый список отсортировать по возрастанию, а второй - по убыванию. Полученные пары из обоих списков сложить друг с другом и получить новый список чисел. Результат вывести на экран в виде строки чисел через пробел.\n",
    "# \n",
    "# P. S. Подсказка: не забываем про функцию zip.\n",
    "# \n",
    "# Sample Input:\n",
    "# \n",
    "# 7 6 4 2 6 7 9 10 4\n",
    "# -4 5 10 4 5 65\n",
    "# Sample Output:\n",
    "# \n",
    "# 67 14 9 11 10 3\n",
    "\n",
    "lst_1 = list(map(int, input().split()))\n",
    "lst_2 = list(map(int, input().split()))\n",
    "\n",
    "lst_1.sort(), lst_2.sort(reverse=True)\n",
    "\n",
    "for item1, item2 in zip(lst_1, lst_2):\n",
    "    print(item1 + item2, end=\" \")"
   ],
   "metadata": {
    "collapsed": false,
    "ExecuteTime": {
     "end_time": "2023-10-31T02:17:35.364276600Z",
     "start_time": "2023-10-31T02:17:30.378637300Z"
    }
   },
   "id": "b76491db602fc87"
  },
  {
   "cell_type": "code",
   "execution_count": 10,
   "outputs": [
    {
     "name": "stdout",
     "output_type": "stream",
     "text": [
      "яблоко линейка бумага\n"
     ]
    }
   ],
   "source": [
    "# Подвиг 6. На вход программы поступает список товаров в формате:\n",
    "# \n",
    "# название_1:цена_1\n",
    "# ...\n",
    "# название_N:цена_N\n",
    "# \n",
    "# Необходимо преобразовать этот список в словарь, ключами которого выступают цены (целые числа), а значениями - соответствующие названия товаров. Необходимо написать функцию, которая бы принимала на входе словарь и возвращала список из наименований трех наиболее дешевых товаров.\n",
    "# \n",
    "# Вызовите эту функцию и отобразите на экране полученный список в порядке возрастания цены в одну строчку через пробел.\n",
    "# \n",
    "# P. S. Для считывания списка целиком в программе уже записаны начальные строчки.\n",
    "# \n",
    "# Sample Input:\n",
    "# \n",
    "# смартфон:120000\n",
    "# яблоко:2\n",
    "# сумка:560\n",
    "# брюки:2500\n",
    "# линейка:10\n",
    "# бумага:500\n",
    "# Sample Output:\n",
    "# \n",
    "# яблоко линейка бумага\n",
    "\n",
    "lst_1 = ['смартфон:120000', 'яблоко:2', 'сумка:560', 'брюки:2500', 'линейка:10', 'бумага:500']\n",
    "\n",
    "new_dict = dict(map(lambda x: (x.split(':')[0], int(x.split(':')[1])), lst_1))\n",
    "\n",
    "sorted_dict = dict(sorted(new_dict.items(), key=lambda x: x[1]))\n",
    "\n",
    "keys = sorted_dict.keys()\n",
    "\n",
    "print(*list(keys)[:3])"
   ],
   "metadata": {
    "collapsed": false,
    "ExecuteTime": {
     "end_time": "2023-11-01T02:04:55.588471100Z",
     "start_time": "2023-11-01T02:04:55.569329100Z"
    }
   },
   "id": "3e0179672bbcef64"
  },
  {
   "cell_type": "code",
   "execution_count": null,
   "outputs": [],
   "source": [
    "# ________________________________________________________________"
   ],
   "metadata": {
    "collapsed": false
   },
   "id": "266d67e4d61bd369"
  },
  {
   "cell_type": "code",
   "execution_count": 1,
   "outputs": [
    {
     "name": "stdout",
     "output_type": "stream",
     "text": [
      "3\n"
     ]
    }
   ],
   "source": [
    "print(0b11)"
   ],
   "metadata": {
    "collapsed": false,
    "ExecuteTime": {
     "end_time": "2023-10-31T11:50:13.933088200Z",
     "start_time": "2023-10-31T11:50:09.256004100Z"
    }
   },
   "id": "132e8dfe4efc2924"
  },
  {
   "cell_type": "code",
   "execution_count": 1,
   "outputs": [
    {
     "name": "stdout",
     "output_type": "stream",
     "text": [
      "123456789\n"
     ]
    }
   ],
   "source": [
    "print(1234_567_89)"
   ],
   "metadata": {
    "collapsed": false,
    "ExecuteTime": {
     "end_time": "2023-10-31T16:25:34.505049900Z",
     "start_time": "2023-10-31T16:25:34.497041800Z"
    }
   },
   "id": "d564d148f0768c42"
  },
  {
   "cell_type": "code",
   "execution_count": 33,
   "outputs": [
    {
     "ename": "TypeError",
     "evalue": "'tuple' object does not support item assignment",
     "output_type": "error",
     "traceback": [
      "\u001B[1;31m---------------------------------------------------------------------------\u001B[0m",
      "\u001B[1;31mTypeError\u001B[0m                                 Traceback (most recent call last)",
      "Cell \u001B[1;32mIn[33], line 2\u001B[0m\n\u001B[0;32m      1\u001B[0m x \u001B[38;5;241m=\u001B[39m (\u001B[38;5;241m1\u001B[39m, \u001B[38;5;241m1\u001B[39m, \u001B[38;5;241m2\u001B[39m, \u001B[38;5;241m3\u001B[39m, [\u001B[38;5;241m10\u001B[39m, \u001B[38;5;241m20\u001B[39m])\n\u001B[1;32m----> 2\u001B[0m \u001B[43mx\u001B[49m\u001B[43m[\u001B[49m\u001B[38;5;241;43m4\u001B[39;49m\u001B[43m]\u001B[49m \u001B[38;5;241m+\u001B[39m\u001B[38;5;241m=\u001B[39m [\u001B[38;5;241m30\u001B[39m, \u001B[38;5;241m40\u001B[39m]\n",
      "\u001B[1;31mTypeError\u001B[0m: 'tuple' object does not support item assignment"
     ]
    }
   ],
   "source": [
    "x = (1, 1, 2, 3, [10, 20])\n",
    "x[4] += [30, 40]\n"
   ],
   "metadata": {
    "collapsed": false,
    "ExecuteTime": {
     "end_time": "2023-10-31T16:41:41.080202400Z",
     "start_time": "2023-10-31T16:41:41.057492900Z"
    }
   },
   "id": "6b66db35bb95d69f"
  },
  {
   "cell_type": "code",
   "execution_count": 34,
   "outputs": [
    {
     "data": {
      "text/plain": "(1, 1, 2, 3, [10, 20, 30, 40])"
     },
     "execution_count": 34,
     "metadata": {},
     "output_type": "execute_result"
    }
   ],
   "source": [
    "x"
   ],
   "metadata": {
    "collapsed": false,
    "ExecuteTime": {
     "end_time": "2023-10-31T16:41:41.575437100Z",
     "start_time": "2023-10-31T16:41:41.562424600Z"
    }
   },
   "id": "1b0f0e113811e249"
  },
  {
   "cell_type": "code",
   "execution_count": 34,
   "outputs": [],
   "source": [],
   "metadata": {
    "collapsed": false,
    "ExecuteTime": {
     "end_time": "2023-10-31T16:41:45.567524600Z",
     "start_time": "2023-10-31T16:41:45.554512900Z"
    }
   },
   "id": "5ab7b0a6484a6e0c"
  },
  {
   "cell_type": "code",
   "execution_count": 2,
   "outputs": [
    {
     "name": "stdout",
     "output_type": "stream",
     "text": [
      "хоть и ошибка но все-же (1, 1, 2, 3, [10, 20, 30, 40])\n"
     ]
    }
   ],
   "source": [
    "try:\n",
    "    x2 = (1, 1, 2, 3, [10, 20])\n",
    "    x2[4] += [30, 40]\n",
    "except TypeError:\n",
    "    print(f'хоть и ошибка но все-же {x2}')\n",
    "else:\n",
    "    print(\"Код выполнен без ошибок\")\n"
   ],
   "metadata": {
    "collapsed": false,
    "ExecuteTime": {
     "end_time": "2023-11-01T01:57:14.828999600Z",
     "start_time": "2023-11-01T01:57:14.805978400Z"
    }
   },
   "id": "ed9ce35ea5da9c95"
  },
  {
   "cell_type": "code",
   "execution_count": 31,
   "outputs": [],
   "source": [],
   "metadata": {
    "collapsed": false,
    "ExecuteTime": {
     "end_time": "2023-10-31T16:40:53.121818100Z",
     "start_time": "2023-10-31T16:40:53.109806900Z"
    }
   },
   "id": "7e27c09852d5122a"
  },
  {
   "cell_type": "code",
   "execution_count": 1,
   "outputs": [
    {
     "data": {
      "text/plain": "(1, 1, 2, 3, [10, 20, 30, 40])"
     },
     "execution_count": 1,
     "metadata": {},
     "output_type": "execute_result"
    }
   ],
   "source": [
    "y = (1, 1, 2, 3, [10, 20])\n",
    "y[4].extend([30, 40])\n",
    "y"
   ],
   "metadata": {
    "collapsed": false,
    "ExecuteTime": {
     "end_time": "2023-11-01T01:51:19.668202Z",
     "start_time": "2023-11-01T01:51:19.656264600Z"
    }
   },
   "id": "cd31a8886207e755"
  },
  {
   "cell_type": "code",
   "execution_count": null,
   "outputs": [],
   "source": [],
   "metadata": {
    "collapsed": false
   },
   "id": "d0610ba4dd37a409"
  },
  {
   "cell_type": "code",
   "execution_count": null,
   "outputs": [],
   "source": [
    "\"\"\" \n",
    "                            Аргумент key для сортировки по ключу\n",
    "\"\"\""
   ],
   "metadata": {
    "collapsed": false
   },
   "id": "8bff96cbfca58211"
  },
  {
   "cell_type": "code",
   "execution_count": 3,
   "outputs": [
    {
     "name": "stdout",
     "output_type": "stream",
     "text": [
      "[-10, 1, 3, 4, 7, 12]\n"
     ]
    }
   ],
   "source": [
    "a = [4, 3, -10, 1, 7, 12]\n",
    "b = sorted(a)\n",
    "print(b)\n"
   ],
   "metadata": {
    "collapsed": false,
    "ExecuteTime": {
     "end_time": "2023-11-01T01:59:18.954266700Z",
     "start_time": "2023-11-01T01:59:18.894006300Z"
    }
   },
   "id": "76ebf87dda58ff5b"
  },
  {
   "cell_type": "code",
   "execution_count": 4,
   "outputs": [
    {
     "name": "stdout",
     "output_type": "stream",
     "text": [
      "[4, -10, 12, 3, 1, 7]\n"
     ]
    }
   ],
   "source": [
    "def is_odd(x):\n",
    "    return x % 2 \n",
    "\n",
    "a = [4, 3, -10, 1, 7, 12]\n",
    "b = sorted(a, key=is_odd)\n",
    "print(b)\n"
   ],
   "metadata": {
    "collapsed": false,
    "ExecuteTime": {
     "end_time": "2023-11-01T02:01:28.977117200Z",
     "start_time": "2023-11-01T02:01:28.943491700Z"
    }
   },
   "id": "e9f5cb06a55a17fa"
  },
  {
   "cell_type": "code",
   "execution_count": 5,
   "outputs": [
    {
     "name": "stdout",
     "output_type": "stream",
     "text": [
      "[4, -10, 12, 3, 1, 7]\n"
     ]
    }
   ],
   "source": [
    "a = [4, 3, -10, 1, 7, 12]\n",
    "b = sorted(a, key=lambda x: x % 2)\n",
    "print(b)\n"
   ],
   "metadata": {
    "collapsed": false,
    "ExecuteTime": {
     "end_time": "2023-11-01T02:01:59.467638700Z",
     "start_time": "2023-11-01T02:01:59.429102100Z"
    }
   },
   "id": "dfd8620b9092b59b"
  },
  {
   "cell_type": "code",
   "execution_count": 6,
   "outputs": [
    {
     "name": "stdout",
     "output_type": "stream",
     "text": [
      "[4, -10, 12, 3, 1, 7]\n"
     ]
    }
   ],
   "source": [
    "a = [4, 3, -10, 1, 7, 12]\n",
    "a.sort(key=lambda x: x % 2)\n",
    "# b = sorted(a, key=lambda x: x % 2)\n",
    "print(b)"
   ],
   "metadata": {
    "collapsed": false,
    "ExecuteTime": {
     "end_time": "2023-11-01T02:03:12.003329400Z",
     "start_time": "2023-11-01T02:03:11.968760800Z"
    }
   },
   "id": "38289d72328b913"
  },
  {
   "cell_type": "code",
   "execution_count": 14,
   "outputs": [
    {
     "name": "stdout",
     "output_type": "stream",
     "text": [
      "[-10, 4, 12, 1, 3, 7]\n"
     ]
    }
   ],
   "source": [
    "def key_sort(x):\n",
    "    return x if x % 2 == 0 else 100+x\n",
    "\n",
    "\n",
    "a = [4, 3, -10, 1, 7, 12]\n",
    "b = sorted(a, key=key_sort)\n",
    "print(b)"
   ],
   "metadata": {
    "collapsed": false,
    "ExecuteTime": {
     "end_time": "2023-11-01T02:07:33.372369100Z",
     "start_time": "2023-11-01T02:07:33.343838600Z"
    }
   },
   "id": "791af1cfb8baa640"
  },
  {
   "cell_type": "code",
   "execution_count": 15,
   "outputs": [
    {
     "name": "stdout",
     "output_type": "stream",
     "text": [
      "['Тверь', 'Псков', 'Москва', 'Рязань', 'Смоленск']\n"
     ]
    }
   ],
   "source": [
    "# сортировка по длине слов\n",
    "lst = [\"Москва\", \"Тверь\", \"Смоленск\", \"Псков\", \"Рязань\"]\n",
    "\n",
    "b = sorted(lst, key=len)\n",
    "print(b)"
   ],
   "metadata": {
    "collapsed": false,
    "ExecuteTime": {
     "end_time": "2023-11-01T02:10:25.208225200Z",
     "start_time": "2023-11-01T02:10:25.155098700Z"
    }
   },
   "id": "7768971e6b8c8ea8"
  },
  {
   "cell_type": "code",
   "execution_count": 16,
   "outputs": [
    {
     "name": "stdout",
     "output_type": "stream",
     "text": [
      "['Москва', 'Псков', 'Смоленск', 'Тверь', 'Рязань']\n"
     ]
    }
   ],
   "source": [
    "# сортировка по последней букве слова\n",
    "lst = [\"Москва\", \"Тверь\", \"Смоленск\", \"Псков\", \"Рязань\"]\n",
    "\n",
    "b = sorted(lst, key=lambda x: x[-1])\n",
    "print(b)"
   ],
   "metadata": {
    "collapsed": false,
    "ExecuteTime": {
     "end_time": "2023-11-01T02:11:39.550538200Z",
     "start_time": "2023-11-01T02:11:39.521505100Z"
    }
   },
   "id": "38b0001db90f7062"
  },
  {
   "cell_type": "code",
   "execution_count": 21,
   "outputs": [
    {
     "name": "stdout",
     "output_type": "stream",
     "text": [
      "[('Мертвые души', 'Гоголь Н.В.', 190),\n",
      " ('Евгений Онегин', 'Пушкин А.С.', 200),\n",
      " ('Муму', 'Тургенев И.С.', 250),\n",
      " ('Мастер и Маргарита', 'Булгаков М.А.', 500)]\n"
     ]
    }
   ],
   "source": [
    "from pprint import pprint as pp\n",
    "# сортировка по цене (послденгее значение колекции)\n",
    "books = (\n",
    "    (\"Евгений Онегин\", \"Пушкин А.С.\", 200),\n",
    "    (\"Муму\", \"Тургенев И.С.\", 250),\n",
    "    (\"Мастер и Маргарита\", \"Булгаков М.А.\", 500),\n",
    "    (\"Мертвые души\", \"Гоголь Н.В.\", 190)\n",
    ")\n",
    "\n",
    "b = sorted(books, key=lambda x: x[-1])\n",
    "pp(b)"
   ],
   "metadata": {
    "collapsed": false,
    "ExecuteTime": {
     "end_time": "2023-11-01T02:15:03.077785200Z",
     "start_time": "2023-11-01T02:15:03.043386300Z"
    }
   },
   "id": "82a096096dc7efcb"
  },
  {
   "cell_type": "code",
   "execution_count": 27,
   "outputs": [
    {
     "name": "stdout",
     "output_type": "stream",
     "text": [
      "Енисей Волга Лена Дон\n"
     ]
    }
   ],
   "source": [
    "# Подвиг 1. На вход программы поступает список наименований рек, записанных в одну строчку через пробел. Необходимо отсортировать этот список в порядке убывания длин названий. Результат вывести в одну строчку через пробел.\n",
    "# \n",
    "# Sample Input:\n",
    "# \n",
    "# Лена Енисей Волга Дон\n",
    "# Sample Output:\n",
    "# \n",
    "# Енисей Волга Лена Дон\n",
    "\n",
    "reki = list(map(str, input().split()))\n",
    "b = sorted(reki, key=len, reverse=True)\n",
    "print(*b)"
   ],
   "metadata": {
    "collapsed": false,
    "ExecuteTime": {
     "end_time": "2023-11-01T02:17:25.018944700Z",
     "start_time": "2023-11-01T02:17:23.881782700Z"
    }
   },
   "id": "aa46ca1fa6cec2b6"
  },
  {
   "cell_type": "code",
   "execution_count": 52,
   "outputs": [
    {
     "name": "stdout",
     "output_type": "stream",
     "text": [
      "котелок ножницы зеркальце зажигалка спички\n"
     ]
    }
   ],
   "source": [
    "# Подвиг 2. На вход программы поступает строка в формате:\n",
    "# \n",
    "# предмет_1=вес_1\n",
    "# ...\n",
    "# предмет_N=вес_N\n",
    "# \n",
    "# Веса предметов заданы целыми числами. Необходимо на основе этих данных сформировать словарь и, затем, на основе этого словаря сформировать список предметов по убыванию их веса. (В списке должны находиться только наименования предметов без их весов).\n",
    "# \n",
    "# Отобразить полученный результат в виде строки с названиями через пробел.\n",
    "# \n",
    "# P. S. Для считывания списка целиком в программе уже записаны начальные строчки.\n",
    "# \n",
    "# Sample Input:\n",
    "# \n",
    "# ножницы=100\n",
    "# котелок=500\n",
    "# спички=20\n",
    "# зажигалка=40\n",
    "# зеркальце=50\n",
    "# Sample Output:\n",
    "# \n",
    "# котелок ножницы зеркальце зажигалка спички\n",
    "\n",
    "lst_in = ['ножницы=100', 'котелок=500', 'спички=20', 'зажигалка=40', 'зеркальце=50']\n",
    "new_dict = dict(map(lambda x: (x.split('=')[0], int(x.split('=')[1])), lst_in)) # преобразуем список в словарь\n",
    "sorted_dict = dict(sorted(new_dict.items(), key=lambda x: x[1], reverse=True)) # сортеруем по values\n",
    "print(*sorted_dict.keys())"
   ],
   "metadata": {
    "collapsed": false,
    "ExecuteTime": {
     "end_time": "2023-11-01T02:26:18.373157900Z",
     "start_time": "2023-11-01T02:26:18.354140200Z"
    }
   },
   "id": "d1eb396377ff4f6f"
  },
  {
   "cell_type": "code",
   "execution_count": 77,
   "outputs": [
    {
     "name": "stdout",
     "output_type": "stream",
     "text": [
      "до до ре фа фа соль ля си\n"
     ]
    }
   ],
   "source": [
    "# Подвиг 3. Известно, что порядок нот, следующий: до, ре, ми, фа, соль, ля, си. На вход программы поступает строка с набором этих нот, записанных через пробел. Необходимо сформировать список из входной строки с нотами, отсортированными указанным образом. Результат вывести в виде строки из нот, записанными через пробел.\n",
    "# \n",
    "# Sample Input:\n",
    "# \n",
    "# до фа соль до ре фа ля си\n",
    "# Sample Output:\n",
    "# \n",
    "# до до ре фа фа соль ля си\n",
    "\n",
    "notes_in = list(map(str, input().split()))\n",
    "\n",
    "notes = ['до', 'ре', 'ми', 'фа', 'соль', 'ля', 'си']\n",
    "\n",
    "notes_out = sorted(notes_in, key=lambda x: notes.index(x))\n",
    "print(*notes_out)"
   ],
   "metadata": {
    "collapsed": false,
    "ExecuteTime": {
     "end_time": "2023-11-01T02:42:38.718107700Z",
     "start_time": "2023-11-01T02:42:37.758317Z"
    }
   },
   "id": "5596ae4ccb77a3de"
  },
  {
   "cell_type": "code",
   "execution_count": 77,
   "outputs": [],
   "source": [],
   "metadata": {
    "collapsed": false,
    "ExecuteTime": {
     "end_time": "2023-11-01T02:42:40.322136800Z",
     "start_time": "2023-11-01T02:42:40.304072100Z"
    }
   },
   "id": "8ba292af01a20fd9"
  },
  {
   "cell_type": "code",
   "execution_count": 91,
   "outputs": [
    {
     "data": {
      "text/plain": "(('Имя', 'Зачет', 'Оценка', 'Номер'),\n ('Портос', 'Да', 5, 1),\n ('Арамис', 'Да', 3, 2),\n ('Атос', 'Да', 4, 3),\n (\"д'Артаньян\", 'Нет', 2, 4),\n ('Балакирев', 'Нет', 1, 5))"
     },
     "execution_count": 91,
     "metadata": {},
     "output_type": "execute_result"
    }
   ],
   "source": [
    "# Значимый подвиг 4. Имеется таблица с данными, представленная в формате:\n",
    "# \n",
    "# Номер;Имя;Оценка;Зачет\n",
    "# 1;Иванов;3;Да\n",
    "# 2;Петров;2;Нет\n",
    "# ...\n",
    "# N;Балакирев;4;Да\n",
    "# \n",
    "# Эти данные необходимо представить в виде двумерного (вложенного) кортежа. Все числа должны быть представлены как целые числа. Затем, отсортировать данные так, чтобы столбцы шли в порядке:\n",
    "# \n",
    "# Имя;Зачет;Оценка;Номер\n",
    "# \n",
    "# Реализовать эту операцию с помощью сортировки. Результат должен быть представлен также в виде двумерного кортежа и присвоен переменной с именем t_sorted.\n",
    "# \n",
    "# Программа ничего не должна выводить на экран, только формировать двумерный кортеж с переменной t_sorted.\n",
    "# \n",
    "# P. S. Для считывания списка целиком в программе уже записаны начальные строчки.\n",
    "# \n",
    "# Sample Input:\n",
    "# \n",
    "# Номер;Имя;Оценка;Зачет\n",
    "# 1;Портос;5;Да\n",
    "# 2;Арамис;3;Да\n",
    "# 3;Атос;4;Да\n",
    "# 4;д'Артаньян;2;Нет\n",
    "# 5;Балакирев;1;Нет\n",
    "# Sample Output:\n",
    "# \n",
    "# True\n",
    "\n",
    "lst_in = [\n",
    "\n",
    "          'Номер;Имя;Оценка;Зачет',\n",
    "\n",
    "          '1;Портос;5;Да',\n",
    "\n",
    "          '2;Арамис;3;Да',\n",
    "\n",
    "          '3;Атос;4;Да',\n",
    "\n",
    "          '4;д\\'Артаньян;2;Нет',\n",
    "\n",
    "          '5;Балакирев;1;Нет'\n",
    "\n",
    "         ]\n",
    "# \n",
    "# import sys\n",
    "# \n",
    "# # считывание списка из входного потока (не меняйте переменную lst_in в программе)\n",
    "# lst_in = list(map(str.strip, sys.stdin.readlines()))\n",
    "\n",
    "# здесь продолжайте программу (используйте список строк lst_in)\n",
    "\n",
    "# преобразование входных данных в двумерный кортеж\n",
    "t = tuple(tuple(int(x) if x.isdigit() else x for x in line.split(';')) for line in lst_in)\n",
    "\n",
    "# перестановка столбцов в нужном порядке\n",
    "t_reordered = tuple((x[1], x[3], x[2], x[0]) for x in t)\n",
    "\n",
    "# сортировка данных\n",
    "t_sorted = tuple(sorted(t_reordered[1:], key=lambda x: (x[3])))\n",
    "\n",
    "# добавление заголовков\n",
    "t_sorted = (t_reordered[0],) + t_sorted\n",
    "t_sorted"
   ],
   "metadata": {
    "collapsed": false,
    "ExecuteTime": {
     "end_time": "2023-11-01T02:55:11.896406Z",
     "start_time": "2023-11-01T02:55:11.843850Z"
    }
   },
   "id": "495d34c729d68848"
  },
  {
   "cell_type": "code",
   "execution_count": 120,
   "outputs": [
    {
     "name": "stdout",
     "output_type": "stream",
     "text": [
      "[['Балакирев', 'рядовой'], ['Портос', 'прапорщик'], ['Атос', 'лейтенант'], ['Арамис', 'лейтенант'], [\"д'Артаньян\", 'капитан']]\n"
     ]
    }
   ],
   "source": [
    "# Подвиг 5. Известно, что звания военнослужащих имеют следующий порядок:\n",
    "# \n",
    "# рядовой, сержант, старшина, прапорщик, лейтенант, капитан, майор, подполковник, полковник\n",
    "# \n",
    "# На вход поступает список военнослужащих в формате:\n",
    "# \n",
    "# имя_1=звание_1\n",
    "# ...\n",
    "# имя_N=звание_N\n",
    "# \n",
    "# Необходимо входные данные представить в виде вложенного списка вида:\n",
    "# \n",
    "# [['имя_1', 'звание_1'], ['имя_2', 'звание_2'], ..., ['имя_N', 'звание_N']]\n",
    "# \n",
    "# Этот список присвоить переменной с именем lst. Затем, отсортировать его по возрастанию званий.\n",
    "# Выводить на экран ничего не нужно, только сформировать список и указать на него переменную lst.\n",
    "# \n",
    "# P. S. Для считывания списка целиком в программе уже записаны начальные строчки.\n",
    "# \n",
    "# Sample Input:\n",
    "# \n",
    "# Атос=лейтенант\n",
    "# Портос=прапорщик\n",
    "# д'Артаньян=капитан\n",
    "# Арамис=лейтенант\n",
    "# Балакирев=рядовой\n",
    "# Sample Output:\n",
    "# \n",
    "# True\n",
    "\n",
    "lst_in = ['Атос=лейтенант', 'Портос=прапорщик', \"д'Артаньян=капитан\",\n",
    "          'Арамис=лейтенант', 'Балакирев=рядовой']\n",
    "\n",
    "rank = ['рядовой', 'сержант', 'старшина', 'прапорщик', 'лейтенант',\n",
    "        'капитан', 'майор', 'подполковник', 'полковник']\n",
    "\n",
    "lst = list(map(lambda x: [x.split('=')[0], (x.split('=')[1])], lst_in)) \n",
    "\n",
    "\n",
    "lst_sorted = sorted(lst, key=lambda x: rank.index(x[1]))\n",
    "\n",
    "print(lst_sorted)"
   ],
   "metadata": {
    "collapsed": false,
    "ExecuteTime": {
     "end_time": "2023-11-01T03:08:40.259483300Z",
     "start_time": "2023-11-01T03:08:40.238555500Z"
    }
   },
   "id": "887528587c78b0b9"
  },
  {
   "cell_type": "code",
   "execution_count": null,
   "outputs": [],
   "source": [
    "import sys\n",
    "\n",
    "# считывание списка из входного потока (переменную lst_in не менять)\n",
    "lst_in = list(map(str.strip, sys.stdin.readlines()))\n",
    "\n",
    "# здесь продолжайте программу (используйте список строк lst_in)\n",
    "rank = ['рядовой', 'сержант', 'старшина', 'прапорщик', 'лейтенант',\n",
    "        'капитан', 'майор', 'подполковник', 'полковник']\n",
    "\n",
    "lst = list(map(lambda x: [x.split('=')[0], (x.split('=')[1])], lst_in)) \n",
    "\n",
    "\n",
    "lst = sorted(lst, key=lambda x: rank.index(x[1]))"
   ],
   "metadata": {
    "collapsed": false
   },
   "id": "2913091bc09890a7"
  }
 ],
 "metadata": {
  "kernelspec": {
   "display_name": "Python 3",
   "language": "python",
   "name": "python3"
  },
  "language_info": {
   "codemirror_mode": {
    "name": "ipython",
    "version": 2
   },
   "file_extension": ".py",
   "mimetype": "text/x-python",
   "name": "python",
   "nbconvert_exporter": "python",
   "pygments_lexer": "ipython2",
   "version": "2.7.6"
  }
 },
 "nbformat": 4,
 "nbformat_minor": 5
}
