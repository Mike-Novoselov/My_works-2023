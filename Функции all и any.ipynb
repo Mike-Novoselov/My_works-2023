{
 "cells": [
  {
   "cell_type": "code",
   "execution_count": 2,
   "id": "initial_id",
   "metadata": {
    "collapsed": true,
    "ExecuteTime": {
     "end_time": "2023-11-03T02:29:29.192284500Z",
     "start_time": "2023-11-03T02:29:29.172266Z"
    }
   },
   "outputs": [
    {
     "name": "stdout",
     "output_type": "stream",
     "text": [
      "True\n"
     ]
    }
   ],
   "source": [
    "a = [True, True, True, True]\n",
    "\n",
    "b = all(a)\n",
    "print(b)"
   ]
  },
  {
   "cell_type": "code",
   "execution_count": 3,
   "outputs": [
    {
     "name": "stdout",
     "output_type": "stream",
     "text": [
      "False\n"
     ]
    }
   ],
   "source": [
    "a = [True, False, True, True]\n",
    "\n",
    "b = all(a)\n",
    "print(b)"
   ],
   "metadata": {
    "collapsed": false,
    "ExecuteTime": {
     "end_time": "2023-11-03T02:29:41.628294Z",
     "start_time": "2023-11-03T02:29:41.587142600Z"
    }
   },
   "id": "29ae59baf74c2d76"
  },
  {
   "cell_type": "code",
   "execution_count": 5,
   "outputs": [
    {
     "name": "stdout",
     "output_type": "stream",
     "text": [
      "True\n"
     ]
    }
   ],
   "source": [
    "a = [True, 1, True, True]\n",
    "\n",
    "b = all(a)\n",
    "print(b)"
   ],
   "metadata": {
    "collapsed": false,
    "ExecuteTime": {
     "end_time": "2023-11-03T02:30:51.134346900Z",
     "start_time": "2023-11-03T02:30:51.107019100Z"
    }
   },
   "id": "9d28ebe2b296329c"
  },
  {
   "cell_type": "code",
   "execution_count": 11,
   "outputs": [
    {
     "name": "stdout",
     "output_type": "stream",
     "text": [
      "False\n",
      "False\n",
      "False\n",
      "True\n",
      "True\n",
      "True\n"
     ]
    }
   ],
   "source": [
    "print(bool(0))\n",
    "print(bool([]))\n",
    "print(bool({}))\n",
    "print(bool(1))\n",
    "print(bool([1, 2]))\n",
    "print(bool(\"python\"))"
   ],
   "metadata": {
    "collapsed": false,
    "ExecuteTime": {
     "end_time": "2023-11-03T02:40:16.865413300Z",
     "start_time": "2023-11-03T02:40:16.844393900Z"
    }
   },
   "id": "6f3b135da9e311a3"
  },
  {
   "cell_type": "code",
   "execution_count": 12,
   "outputs": [
    {
     "name": "stdout",
     "output_type": "stream",
     "text": [
      "True\n"
     ]
    }
   ],
   "source": [
    "a = [1, 2.5, \"python\", [1], [1,2]]\n",
    "\n",
    "b = all(a)\n",
    "print(b)"
   ],
   "metadata": {
    "collapsed": false,
    "ExecuteTime": {
     "end_time": "2023-11-03T02:41:34.954207100Z",
     "start_time": "2023-11-03T02:41:34.935575700Z"
    }
   },
   "id": "8a90996ead9ea5e3"
  },
  {
   "cell_type": "code",
   "execution_count": 13,
   "outputs": [
    {
     "name": "stdout",
     "output_type": "stream",
     "text": [
      "True\n"
     ]
    }
   ],
   "source": [
    "a = [True, False, True, True]\n",
    "\n",
    "\n",
    "print(any(a))"
   ],
   "metadata": {
    "collapsed": false,
    "ExecuteTime": {
     "end_time": "2023-11-03T02:46:09.591137900Z",
     "start_time": "2023-11-03T02:46:09.547098100Z"
    }
   },
   "id": "95090468f5a99688"
  },
  {
   "cell_type": "code",
   "execution_count": 14,
   "outputs": [
    {
     "name": "stdout",
     "output_type": "stream",
     "text": [
      "True\n"
     ]
    }
   ],
   "source": [
    "print(any([False, False, False, 1]))"
   ],
   "metadata": {
    "collapsed": false,
    "ExecuteTime": {
     "end_time": "2023-11-03T02:46:37.513383200Z",
     "start_time": "2023-11-03T02:46:37.468352400Z"
    }
   },
   "id": "fe0bf9414ef0a996"
  },
  {
   "cell_type": "code",
   "execution_count": 15,
   "outputs": [
    {
     "name": "stdout",
     "output_type": "stream",
     "text": [
      "False\n"
     ]
    }
   ],
   "source": [
    "print(all([False, False, False, 1]))"
   ],
   "metadata": {
    "collapsed": false,
    "ExecuteTime": {
     "end_time": "2023-11-03T02:46:46.043450300Z",
     "start_time": "2023-11-03T02:46:46.003668300Z"
    }
   },
   "id": "a7ae17f3254ed6fb"
  },
  {
   "cell_type": "code",
   "execution_count": 53,
   "outputs": [
    {
     "name": "stdout",
     "output_type": "stream",
     "text": [
      "['x', 'x', 'o']\n",
      "['o', 'x', 'o']\n",
      "['x', 'x', 'x']\n",
      "\n",
      "\n",
      "False False True\n",
      "False True False\n",
      "\\ True  / False\n"
     ]
    }
   ],
   "source": [
    "\"\"\"\n",
    "крестики нолики\n",
    "\"\"\"\n",
    "from pprint import pprint as pp\n",
    "\n",
    "def true_x(a):\n",
    "    return a == \"x\"\n",
    "\n",
    "\n",
    "p = [\"x\", \"x\", \"o\",\n",
    "     \"o\", \"x\", \"o\", \n",
    "     \"x\", \"x\", \"x\"]\n",
    "pp(p[0:3])\n",
    "pp(p[3:6])\n",
    "pp(p[6:9])\n",
    "print(f\"\\n\")\n",
    "\n",
    "\n",
    "row_1 = all(map(true_x, p[:3]))\n",
    "row_2 = all(map(true_x, p[3:6]))\n",
    "row_3 = all(map(true_x, p[6:]))\n",
    "print(row_1, row_2, row_3)\n",
    "\n",
    "col_1 = all(map(true_x, p[::3]))\n",
    "col_2 = all(map(true_x, p[1::3]))\n",
    "col_3 = all(map(true_x, p[2::3]))\n",
    "print(col_1, col_2, col_3)\n",
    "\n",
    "diag_1 = all(map(true_x, p[::4]))\n",
    "diag_2 = all(map(true_x, p[2:7:2]))\n",
    "print(f\"\\\\ {diag_1}  / {diag_2}\")\n"
   ],
   "metadata": {
    "collapsed": false,
    "ExecuteTime": {
     "end_time": "2023-11-03T03:18:41.922515900Z",
     "start_time": "2023-11-03T03:18:41.900495600Z"
    }
   },
   "id": "2d8f54adab5eab36"
  },
  {
   "cell_type": "code",
   "execution_count": 55,
   "outputs": [
    {
     "name": "stdout",
     "output_type": "stream",
     "text": [
      "True\n"
     ]
    }
   ],
   "source": [
    "# Подвиг 1. Вводится строка целых чисел через пробел. Необходимо определить, являются ли все эти числа четными. Вывести True, если это так и False - в противном случае.\n",
    "# \n",
    "# Задачу реализовать с использованием одной из функций: any или all.\n",
    "# \n",
    "# Sample Input:\n",
    "# \n",
    "# 2 4 6 8 22 56\n",
    "# Sample Output:\n",
    "# \n",
    "# True\n",
    "\n",
    "numbers = [int(x) for x in input().split()]\n",
    "x = all(map(lambda x: x % 2 == 0, numbers))\n",
    "print(x)"
   ],
   "metadata": {
    "collapsed": false,
    "ExecuteTime": {
     "end_time": "2023-11-03T03:23:31.452520400Z",
     "start_time": "2023-11-03T03:23:30.311941200Z"
    }
   },
   "id": "48dc13c46b2e095a"
  },
  {
   "cell_type": "code",
   "execution_count": 57,
   "outputs": [
    {
     "name": "stdout",
     "output_type": "stream",
     "text": [
      "True\n"
     ]
    }
   ],
   "source": [
    "# Подвиг 2. Вводится строка вещественных чисел через пробел. Необходимо определить, есть ли среди них хотя бы одно отрицательное. Вывести True, если это так и False - в противном случае.\n",
    "# \n",
    "# Задачу реализовать с использованием одной из функций: any или all.\n",
    "# \n",
    "# Sample Input:\n",
    "# \n",
    "# 8.2 -11.0 20 3.4 -1.2\n",
    "# Sample Output:\n",
    "# \n",
    "# True\n",
    "\n",
    "numbers = [float(x) for x in input().split()]\n",
    "x = any(map(lambda x: x < 0, numbers))\n",
    "print(x)"
   ],
   "metadata": {
    "collapsed": false,
    "ExecuteTime": {
     "end_time": "2023-11-03T03:25:03.012862500Z",
     "start_time": "2023-11-03T03:25:01.750925100Z"
    }
   },
   "id": "a71fec9efc96f43b"
  },
  {
   "cell_type": "code",
   "execution_count": null,
   "outputs": [],
   "source": [
    "# Подвиг 3. Объявить функцию с именем is_string, на вход которой поступает коллекция (список, кортеж, множество). Она должна возвращать True, если все элементы коллекции строки и False - в противном случае.\n",
    "# \n",
    "# Сигнатура функции должна быть, следующей:\n",
    "# \n",
    "# def is_string(lst): ...\n",
    "# \n",
    "# Вызывать функцию не нужно, только определить. Также ничего не нужно выводить на экран. Задачу реализовать с использованием одной из функций: any или all.\n",
    "# \n",
    "# Sample Input:\n",
    "# \n",
    "# Sample Output:\n",
    "# \n",
    "# True\n",
    "\n",
    "def is_string(lst):\n",
    "    return all(isinstance(x, str) for x in lst)\n",
    "\n",
    "\n"
   ],
   "metadata": {
    "collapsed": false
   },
   "id": "fda5fc8f7f552af7"
  },
  {
   "cell_type": "code",
   "execution_count": 62,
   "outputs": [
    {
     "name": "stdout",
     "output_type": "stream",
     "text": [
      "отчислен\n"
     ]
    }
   ],
   "source": [
    "# Подвиг 4. Вводятся оценки студента в одну строчку через пробел. Необходимо определить, имеется ли в этом списке хотя бы одна оценка ниже тройки. Если это так, то вывести на экран строку \"отчислен\", иначе - \"учится\".\n",
    "# \n",
    "# Задачу реализовать с использованием одной из функций: any или all.\n",
    "# \n",
    "# Sample Input:\n",
    "# \n",
    "# 3 3 3 2 3 3\n",
    "# Sample Output:\n",
    "# \n",
    "# отчислен\n",
    "\n",
    "grades = [int(x) for x in input().split()]\n",
    "x = any(map(lambda x: x < 3, grades))\n",
    "\n",
    "# if x:\n",
    "#     print(\"отчислен\")\n",
    "# else:\n",
    "#     print(\"учится\")\n",
    "\n",
    "print(\"отчислен\" if x else \"учится\")"
   ],
   "metadata": {
    "collapsed": false,
    "ExecuteTime": {
     "end_time": "2023-11-03T03:32:49.618930300Z",
     "start_time": "2023-11-03T03:32:48.450327300Z"
    }
   },
   "id": "7f05a68575bc03e0"
  },
  {
   "cell_type": "code",
   "execution_count": 3,
   "outputs": [
    {
     "name": "stdout",
     "output_type": "stream",
     "text": [
      "True\n"
     ]
    }
   ],
   "source": [
    "# Подвиг 5. Вводится текущее игровое поле для игры \"Крестики-нолики\" в виде следующей таблицы:\n",
    "# \n",
    "# # x o\n",
    "# x # x\n",
    "# o o #\n",
    "# \n",
    "# Здесь # - свободная клетка. Нужно объявить функцию с именем is_free, на вход которой поступает игровое поле в виде двумерного (вложенного) списка. Данная функция должна возвращать True, если есть хотя бы одна свободная клетка и False - в противном случае.\n",
    "# \n",
    "# Сигнатура функции должна быть, следующей:\n",
    "# \n",
    "# def is_free(lst): ...\n",
    "# \n",
    "# Вызывать функцию не нужно, только определить. Также ничего не нужно выводить на экран. Задачу реализовать с использованием одной из функций: any или all.\n",
    "# \n",
    "# P. S. Считывание входного списка делать не нужно!!! Только определить функцию.\n",
    "# \n",
    "# Sample Input:\n",
    "# \n",
    "# # x o\n",
    "# x # x\n",
    "# o o #\n",
    "# Sample Output:\n",
    "# \n",
    "# True\n",
    "\n",
    "input_matrix = ['# x o', 'x # x', 'o o #']\n",
    "\n",
    "def is_free(lst):\n",
    "    return any('#' in sublist for sublist in lst)\n",
    "\n",
    "\n",
    "print(is_free(input_matrix))"
   ],
   "metadata": {
    "collapsed": false,
    "ExecuteTime": {
     "end_time": "2023-11-04T04:40:52.731317Z",
     "start_time": "2023-11-04T04:40:52.711299100Z"
    }
   },
   "id": "8078326af3e87d8d"
  },
  {
   "cell_type": "code",
   "execution_count": null,
   "outputs": [],
   "source": [],
   "metadata": {
    "collapsed": false
   },
   "id": "90f2b86d5e40d201"
  }
 ],
 "metadata": {
  "kernelspec": {
   "display_name": "Python 3",
   "language": "python",
   "name": "python3"
  },
  "language_info": {
   "codemirror_mode": {
    "name": "ipython",
    "version": 2
   },
   "file_extension": ".py",
   "mimetype": "text/x-python",
   "name": "python",
   "nbconvert_exporter": "python",
   "pygments_lexer": "ipython2",
   "version": "2.7.6"
  }
 },
 "nbformat": 4,
 "nbformat_minor": 5
}
