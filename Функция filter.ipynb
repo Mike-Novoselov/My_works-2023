{
 "cells": [
  {
   "cell_type": "code",
   "execution_count": null,
   "id": "initial_id",
   "metadata": {
    "collapsed": true,
    "ExecuteTime": {
     "end_time": "2023-10-25T05:47:01.144575100Z",
     "start_time": "2023-10-25T05:47:01.139034100Z"
    }
   },
   "outputs": [],
   "source": []
  },
  {
   "cell_type": "code",
   "execution_count": 6,
   "outputs": [
    {
     "name": "stdout",
     "output_type": "stream",
     "text": [
      "<filter object at 0x000001A4E9350BB0>\n",
      "2\n",
      "4\n",
      "6\n",
      "8\n"
     ]
    }
   ],
   "source": [
    "a = [1, 2, 3, 4, 5, 6, 7, 8, 9, 10]\n",
    "\n",
    "b = filter(lambda x: x % 2 == 0, a)\n",
    "\n",
    "# print(*b)\n",
    "print(b)\n",
    "\n",
    "print(next(b))\n",
    "print(next(b))\n",
    "print(next(b))\n",
    "print(next(b))"
   ],
   "metadata": {
    "collapsed": false,
    "ExecuteTime": {
     "end_time": "2023-10-25T05:50:28.105893600Z",
     "start_time": "2023-10-25T05:50:28.087876Z"
    }
   },
   "id": "d4bc5be2a360f90d"
  },
  {
   "cell_type": "code",
   "execution_count": 8,
   "outputs": [
    {
     "name": "stdout",
     "output_type": "stream",
     "text": [
      "2 4 6 8 10 "
     ]
    }
   ],
   "source": [
    "a = [1, 2, 3, 4, 5, 6, 7, 8, 9, 10]\n",
    "\n",
    "b = filter(lambda x: x % 2 == 0, a)\n",
    "\n",
    "for x in b:\n",
    "    print(x, end=\" \")"
   ],
   "metadata": {
    "collapsed": false,
    "ExecuteTime": {
     "end_time": "2023-10-25T05:51:01.346565200Z",
     "start_time": "2023-10-25T05:51:01.325544600Z"
    }
   },
   "id": "c392a3d7b2ade0c6"
  },
  {
   "cell_type": "code",
   "execution_count": 12,
   "outputs": [
    {
     "name": "stdout",
     "output_type": "stream",
     "text": [
      "[2, 4, 6, 8, 10]\n"
     ]
    }
   ],
   "source": [
    "a = [1, 2, 3, 4, 5, 6, 7, 8, 9, 10]\n",
    "\n",
    "b = filter(lambda x: x % 2 == 0, a)\n",
    "\n",
    "lst = list(b)\n",
    "# lst = tuple(b)\n",
    "print(lst)"
   ],
   "metadata": {
    "collapsed": false,
    "ExecuteTime": {
     "end_time": "2023-10-25T05:52:47.101507400Z",
     "start_time": "2023-10-25T05:52:47.086989Z"
    }
   },
   "id": "b49b36e059306a90"
  },
  {
   "cell_type": "code",
   "execution_count": null,
   "outputs": [],
   "source": [],
   "metadata": {
    "collapsed": false
   },
   "id": "c746e85748e0f073"
  },
  {
   "cell_type": "code",
   "execution_count": 26,
   "outputs": [
    {
     "name": "stdout",
     "output_type": "stream",
     "text": [
      "Тип объекта out_filter:  <class 'filter'>\n",
      "Отфильтрованный список:  [2, 4, 8, 10]\n"
     ]
    }
   ],
   "source": [
    "\"\"\"\n",
    "    Программа Python для фильтрации нечетных чисел\n",
    "    в списке, используя функцию filter()\n",
    "\"\"\"\n",
    "\n",
    "# список чисел\n",
    "numbers = [1, 2, 4, 5, 7, 8, 10, 11]\n",
    "\n",
    "# функция, которая проверяет числа\n",
    "def filter_odd_num(in_num):\n",
    "    if(in_num % 2) == 0:\n",
    "        return True\n",
    "    else:\n",
    "        return False\n",
    "\n",
    "# Применение filter() для удаления нечетных чисел\n",
    "out_filter = filter(filter_odd_num, numbers)\n",
    "\n",
    "print(\"Тип объекта out_filter: \", type(out_filter))\n",
    "print(\"Отфильтрованный список: \", list(out_filter))"
   ],
   "metadata": {
    "collapsed": false,
    "ExecuteTime": {
     "end_time": "2023-10-25T06:06:02.063283300Z",
     "start_time": "2023-10-25T06:06:02.044964100Z"
    }
   },
   "id": "7970549e28e15ff6"
  },
  {
   "cell_type": "code",
   "execution_count": null,
   "outputs": [],
   "source": [],
   "metadata": {
    "collapsed": false
   },
   "id": "372cd9ba7d3b9d5d"
  },
  {
   "cell_type": "code",
   "execution_count": 30,
   "outputs": [
    {
     "name": "stdout",
     "output_type": "stream",
     "text": [
      "Ульяновск Хабаровск Владивосток "
     ]
    }
   ],
   "source": [
    "# Подвиг 1. Вводятся названия городов в одну строчку через пробел. Необходимо определить функцию filter, которая бы возвращала только названия длиной более 5 символов. Извлеките первые три полученных значения с помощью функции next и отобразите их на экране в одну строчку через пробел. (Полагается, что минимум три значения имеются).\n",
    "# \n",
    "# Sample Input:\n",
    "# \n",
    "# Тула Ульяновск Хабаровск Владивосток Омск Уфа\n",
    "# Sample Output:\n",
    "# \n",
    "# Ульяновск Хабаровск Владивосток\n",
    "\n",
    "s = list(map(str, input().split()))\n",
    "def filter_odd_num(s):\n",
    "    if len(s) > 5:\n",
    "        return True\n",
    "    else:\n",
    "        return False\n",
    "\n",
    "\n",
    "city = filter(filter_odd_num, s)\n",
    "print(next(city), end=\" \")\n",
    "print(next(city), end=\" \")\n",
    "print(next(city), end=\" \")"
   ],
   "metadata": {
    "collapsed": false,
    "ExecuteTime": {
     "end_time": "2023-10-25T06:09:32.523817600Z",
     "start_time": "2023-10-25T06:09:31.565650600Z"
    }
   },
   "id": "95cafe0d02080884"
  },
  {
   "cell_type": "code",
   "execution_count": 30,
   "outputs": [],
   "source": [],
   "metadata": {
    "collapsed": false,
    "ExecuteTime": {
     "end_time": "2023-10-25T06:09:35.140541700Z",
     "start_time": "2023-10-25T06:09:35.111515Z"
    }
   },
   "id": "896c8bfeb7b8382"
  },
  {
   "cell_type": "code",
   "execution_count": 31,
   "outputs": [
    {
     "name": "stdout",
     "output_type": "stream",
     "text": [
      "Ульяновск Хабаровск Владивосток\n"
     ]
    }
   ],
   "source": [
    "s = list(map(str, input().split()))\n",
    "\n",
    "def filter_odd_num(s):\n",
    "    if len(s) > 5:\n",
    "        return True\n",
    "    else:\n",
    "        return False\n",
    "\n",
    "\n",
    "city = filter(filter_odd_num, s)\n",
    "z=list(city)\n",
    "print(*z)\n"
   ],
   "metadata": {
    "collapsed": false,
    "ExecuteTime": {
     "end_time": "2023-10-25T06:09:37.502912300Z",
     "start_time": "2023-10-25T06:09:36.408762400Z"
    }
   },
   "id": "b5b2ec95a93bf0aa"
  },
  {
   "cell_type": "code",
   "execution_count": 2,
   "outputs": [
    {
     "name": "stdout",
     "output_type": "stream",
     "text": [
      "зонт палатка котелок\n"
     ]
    }
   ],
   "source": [
    "# Вводится список предметов в виде списка:\n",
    "# \n",
    "# название_1: вес_1\n",
    "# ...\n",
    "# название_N: вес_N\n",
    "# \n",
    "# С помощью функции map, необходимо сначала преобразовать этот список строк в кортеж, элементами которого также являются кортежи:\n",
    "# \n",
    "# (('название_1', 'вес_1'), ..., ('название_N', 'вес_N'))\n",
    "# \n",
    "# А, затем, отфильтровать (исключить) все предметы с весом менее 500, используя функцию filter. Вывести на экран список оставшихся предметов (только их названия) в одну строчку через пробел.\n",
    "# \n",
    "# P. S. Для считывания списка целиком в программе уже записаны начальные строчки.\n",
    "# \n",
    "# Sample Input:\n",
    "# \n",
    "# зонт=1000\n",
    "# палатка=10000\n",
    "# спички=22\n",
    "# котелок=543\n",
    "# Sample Output:\n",
    "# \n",
    "# зонт палатка котелок\n",
    "\n",
    "lst_in = ['зонт=1000', 'палатка=10000', 'спички=22', 'котелок=543']\n",
    "\n",
    "lst_filtered = list(filter(lambda x: int(x.split('=')[1]) >= 500, lst_in))\n",
    "\n",
    "lst_out = tuple(map(lambda x: x.split('=')[0], lst_filtered))\n",
    "\n",
    "print(' '.join(lst_out))\n"
   ],
   "metadata": {
    "collapsed": false,
    "ExecuteTime": {
     "end_time": "2023-10-26T07:00:01.250284100Z",
     "start_time": "2023-10-26T07:00:01.206242800Z"
    }
   },
   "id": "d288ab0beda2fa01"
  },
  {
   "cell_type": "code",
   "execution_count": 5,
   "outputs": [
    {
     "name": "stdout",
     "output_type": "stream",
     "text": [
      "зонт палатка котелок\n"
     ]
    }
   ],
   "source": [
    "print(*lst_out)"
   ],
   "metadata": {
    "collapsed": false,
    "ExecuteTime": {
     "end_time": "2023-10-26T07:00:25.107021300Z",
     "start_time": "2023-10-26T07:00:25.088002300Z"
    }
   },
   "id": "78846ab5273466fe"
  },
  {
   "cell_type": "code",
   "execution_count": 6,
   "outputs": [
    {
     "data": {
      "text/plain": "['зонт=1000', 'палатка=10000', 'котелок=543']"
     },
     "execution_count": 6,
     "metadata": {},
     "output_type": "execute_result"
    }
   ],
   "source": [
    "lst_filtered"
   ],
   "metadata": {
    "collapsed": false,
    "ExecuteTime": {
     "end_time": "2023-10-26T07:00:35.497596900Z",
     "start_time": "2023-10-26T07:00:35.468569600Z"
    }
   },
   "id": "3e31b79067d9d6ea"
  },
  {
   "cell_type": "code",
   "execution_count": 50,
   "outputs": [],
   "source": [
    "# Подвиг 3. Вводится список целых чисел в одну строчку через пробел. Необходимо оставить в нем только двузначные числа. Реализовать программу с использованием функции filter. Результат отобразить на экране в виде последовательности оставшихся чисел в одну строчку через пробел.\n",
    "# \n",
    "# Sample Input:\n",
    "# \n",
    "# 8 11 0 -23 140 1\n",
    "# Sample Output:\n",
    "# \n",
    "# 11 -23\n",
    "\n",
    "duo = list(map(str, input().split()))"
   ],
   "metadata": {
    "collapsed": false,
    "ExecuteTime": {
     "end_time": "2023-10-26T07:12:06.655625200Z",
     "start_time": "2023-10-26T07:12:05.228492800Z"
    }
   },
   "id": "205f75cade6558a"
  },
  {
   "cell_type": "code",
   "execution_count": 55,
   "outputs": [
    {
     "data": {
      "text/plain": "['8', '11', '0', '-23', '140', '1']"
     },
     "execution_count": 55,
     "metadata": {},
     "output_type": "execute_result"
    }
   ],
   "source": [
    "duo"
   ],
   "metadata": {
    "collapsed": false,
    "ExecuteTime": {
     "end_time": "2023-10-26T07:13:15.007414500Z",
     "start_time": "2023-10-26T07:13:14.986394400Z"
    }
   },
   "id": "6d9bef6eea4a3f01"
  },
  {
   "cell_type": "code",
   "execution_count": 59,
   "outputs": [
    {
     "name": "stdout",
     "output_type": "stream",
     "text": [
      "['11', '-23']\n"
     ]
    }
   ],
   "source": [
    "x_filtered = list(filter(lambda x: len(x.lstrip('-')) == 2, duo))\n",
    "\n",
    "print(x_filtered)\n"
   ],
   "metadata": {
    "collapsed": false,
    "ExecuteTime": {
     "end_time": "2023-10-26T07:16:51.999314200Z",
     "start_time": "2023-10-26T07:16:51.978873100Z"
    }
   },
   "id": "1042bc53d764f856"
  },
  {
   "cell_type": "code",
   "execution_count": 60,
   "outputs": [],
   "source": [
    "# Подвиг 4. Саша и Галя коллекционируют монетки. Каждый из них решил записать номиналы монеток из своей коллекции. Получилось два списка. Эти списки поступают на вход программы в виде двух строк из целых чисел, записанных через пробел. Необходимо выделить значения, присутствующие в обоих списках и оставить среди них только четные. Результат вывести на экран в виде строки полученных чисел в порядке их возрастания через пробел.\n",
    "# \n",
    "# При реализации программы используйте функцию filter и кое-что еще (для упрощения программы), подумайте что.\n",
    "# \n",
    "# Sample Input:\n",
    "# \n",
    "# 1 5 2 7 10 25 50 100\n",
    "# 5 2 3 7 10 25 55\n",
    "# Sample Output:\n",
    "# \n",
    "# 2 10\n",
    "\n",
    "sasha = list(map(int, input().split()))\n",
    "galya = list(map(int, input().split()))"
   ],
   "metadata": {
    "collapsed": false,
    "ExecuteTime": {
     "end_time": "2023-10-26T07:19:39.188327100Z",
     "start_time": "2023-10-26T07:19:32.968474300Z"
    }
   },
   "id": "7f2363cc11783afe"
  },
  {
   "cell_type": "code",
   "execution_count": 64,
   "outputs": [
    {
     "name": "stdout",
     "output_type": "stream",
     "text": [
      "2 10\n"
     ]
    }
   ],
   "source": [
    "common_values = list(set(sasha) & set(galya))\n",
    "\n",
    "filtered_chetnoe = list(filter(lambda x: x % 2 == 0, common_values))\n",
    "\n",
    "print(*sorted(filtered_chetnoe))"
   ],
   "metadata": {
    "collapsed": false,
    "ExecuteTime": {
     "end_time": "2023-10-26T07:25:16.039356200Z",
     "start_time": "2023-10-26T07:25:16.019336900Z"
    }
   },
   "id": "4a5260b6e730a5f6"
  },
  {
   "cell_type": "code",
   "execution_count": 80,
   "outputs": [],
   "source": [
    "# Подвиг 5. Вводится список email-адресов в одну строчку через пробел. Среди них нужно оставить только корректно записанные адреса. Будем полагать, что к таким относятся те, что используют латинские буквы, цифры и символ подчеркивания. А также в адресе должен быть символ \"@\", а после него символ точки \".\" (между ними, конечно же, могут быть и другие символы).\n",
    "# \n",
    "# Результат отобразить в виде строки email-адресов, записанных через пробел.\n",
    "# \n",
    "# Sample Input:\n",
    "# \n",
    "# abc@it.ru dfd3.ru@mail biba123@list.ru sc_lib@list.ru $fg9@fd.com\n",
    "# Sample Output:\n",
    "# \n",
    "# abc@it.ru biba123@list.ru sc_lib@list.ru\n",
    "\n",
    "email_in = list(map(str, input().split()))"
   ],
   "metadata": {
    "collapsed": false,
    "ExecuteTime": {
     "end_time": "2023-10-26T07:33:20.244130600Z",
     "start_time": "2023-10-26T07:33:19.196059100Z"
    }
   },
   "id": "4c7cb82eeb85091"
  },
  {
   "cell_type": "code",
   "execution_count": 78,
   "outputs": [
    {
     "data": {
      "text/plain": "['abc@it.ru',\n 'dfd3.ru@mail',\n 'biba123@list.ru',\n 'sc_lib@list.ru',\n '$fg9@fd.com']"
     },
     "execution_count": 78,
     "metadata": {},
     "output_type": "execute_result"
    }
   ],
   "source": [
    "email_in"
   ],
   "metadata": {
    "collapsed": false,
    "ExecuteTime": {
     "end_time": "2023-10-26T07:33:06.838961800Z",
     "start_time": "2023-10-26T07:33:06.824948Z"
    }
   },
   "id": "fb4f94d31157f910"
  },
  {
   "cell_type": "code",
   "execution_count": 82,
   "outputs": [
    {
     "name": "stdout",
     "output_type": "stream",
     "text": [
      "abc@it.ru biba123@list.ru sc_lib@list.ru\n"
     ]
    }
   ],
   "source": [
    "chars=set('qwertyuiopasdfghjklzxcvbnmQWERTYUIPOLKJHGFDSAZXCVBNM.@1234567890_')\n",
    "\n",
    "filtred_mail = filter(lambda x: set(x).issubset(chars) and x.find('@')<x.find('.'),email_in)\n",
    "\n",
    "print(*filtred_mail)"
   ],
   "metadata": {
    "collapsed": false,
    "ExecuteTime": {
     "end_time": "2023-10-26T07:33:36.421560Z",
     "start_time": "2023-10-26T07:33:36.401541100Z"
    }
   },
   "id": "1edca543755f934"
  },
  {
   "cell_type": "code",
   "execution_count": null,
   "outputs": [],
   "source": [],
   "metadata": {
    "collapsed": false
   },
   "id": "1050899ae944e409"
  }
 ],
 "metadata": {
  "kernelspec": {
   "display_name": "Python 3",
   "language": "python",
   "name": "python3"
  },
  "language_info": {
   "codemirror_mode": {
    "name": "ipython",
    "version": 2
   },
   "file_extension": ".py",
   "mimetype": "text/x-python",
   "name": "python",
   "nbconvert_exporter": "python",
   "pygments_lexer": "ipython2",
   "version": "2.7.6"
  }
 },
 "nbformat": 4,
 "nbformat_minor": 5
}
