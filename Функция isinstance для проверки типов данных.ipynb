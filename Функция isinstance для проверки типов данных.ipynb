{
 "cells": [
  {
   "cell_type": "code",
   "execution_count": 1,
   "id": "initial_id",
   "metadata": {
    "collapsed": true,
    "ExecuteTime": {
     "end_time": "2023-11-02T07:06:30.247462800Z",
     "start_time": "2023-11-02T07:06:30.235452200Z"
    }
   },
   "outputs": [
    {
     "data": {
      "text/plain": "True"
     },
     "execution_count": 1,
     "metadata": {},
     "output_type": "execute_result"
    }
   ],
   "source": [
    "a = 5\n",
    "isinstance(a, int)"
   ]
  },
  {
   "cell_type": "code",
   "execution_count": 2,
   "outputs": [
    {
     "data": {
      "text/plain": "False"
     },
     "execution_count": 2,
     "metadata": {},
     "output_type": "execute_result"
    }
   ],
   "source": [
    "isinstance(a, float)"
   ],
   "metadata": {
    "collapsed": false,
    "ExecuteTime": {
     "end_time": "2023-11-02T07:08:56.988343100Z",
     "start_time": "2023-11-02T07:08:56.965322300Z"
    }
   },
   "id": "3541260b2461a13b"
  },
  {
   "cell_type": "code",
   "execution_count": 3,
   "outputs": [
    {
     "data": {
      "text/plain": "True"
     },
     "execution_count": 3,
     "metadata": {},
     "output_type": "execute_result"
    }
   ],
   "source": [
    "b = True\n",
    "isinstance(b, bool)"
   ],
   "metadata": {
    "collapsed": false,
    "ExecuteTime": {
     "end_time": "2023-11-02T07:09:11.469597200Z",
     "start_time": "2023-11-02T07:09:11.429560600Z"
    }
   },
   "id": "fa2dec68a7c21c92"
  },
  {
   "cell_type": "code",
   "execution_count": 4,
   "outputs": [
    {
     "data": {
      "text/plain": "True"
     },
     "execution_count": 4,
     "metadata": {},
     "output_type": "execute_result"
    }
   ],
   "source": [
    "isinstance(b, int)"
   ],
   "metadata": {
    "collapsed": false,
    "ExecuteTime": {
     "end_time": "2023-11-02T07:09:18.353307400Z",
     "start_time": "2023-11-02T07:09:18.318275600Z"
    }
   },
   "id": "41f9c73c529a3db4"
  },
  {
   "cell_type": "code",
   "execution_count": 5,
   "outputs": [
    {
     "data": {
      "text/plain": "True"
     },
     "execution_count": 5,
     "metadata": {},
     "output_type": "execute_result"
    }
   ],
   "source": [
    "type(b) == bool"
   ],
   "metadata": {
    "collapsed": false,
    "ExecuteTime": {
     "end_time": "2023-11-02T07:09:33.403506200Z",
     "start_time": "2023-11-02T07:09:33.363466100Z"
    }
   },
   "id": "92e3b8b5476627b1"
  },
  {
   "cell_type": "code",
   "execution_count": 6,
   "outputs": [
    {
     "data": {
      "text/plain": "False"
     },
     "execution_count": 6,
     "metadata": {},
     "output_type": "execute_result"
    }
   ],
   "source": [
    "type(b) == int"
   ],
   "metadata": {
    "collapsed": false,
    "ExecuteTime": {
     "end_time": "2023-11-02T07:09:41.566458800Z",
     "start_time": "2023-11-02T07:09:41.541436400Z"
    }
   },
   "id": "8228570ade7357cb"
  },
  {
   "cell_type": "code",
   "execution_count": 7,
   "outputs": [
    {
     "data": {
      "text/plain": "False"
     },
     "execution_count": 7,
     "metadata": {},
     "output_type": "execute_result"
    }
   ],
   "source": [
    "type(b) is int"
   ],
   "metadata": {
    "collapsed": false,
    "ExecuteTime": {
     "end_time": "2023-11-02T07:09:54.258729900Z",
     "start_time": "2023-11-02T07:09:54.233707100Z"
    }
   },
   "id": "b189cd04e543381b"
  },
  {
   "cell_type": "code",
   "execution_count": 8,
   "outputs": [
    {
     "data": {
      "text/plain": "True"
     },
     "execution_count": 8,
     "metadata": {},
     "output_type": "execute_result"
    }
   ],
   "source": [
    "type(b) is bool"
   ],
   "metadata": {
    "collapsed": false,
    "ExecuteTime": {
     "end_time": "2023-11-02T07:10:03.875554200Z",
     "start_time": "2023-11-02T07:10:03.833075600Z"
    }
   },
   "id": "b897eff7abb4a261"
  },
  {
   "cell_type": "code",
   "execution_count": 10,
   "outputs": [
    {
     "data": {
      "text/plain": "True"
     },
     "execution_count": 10,
     "metadata": {},
     "output_type": "execute_result"
    }
   ],
   "source": [
    "type(b) is bool"
   ],
   "metadata": {
    "collapsed": false,
    "ExecuteTime": {
     "end_time": "2023-11-02T07:10:21.707792100Z",
     "start_time": "2023-11-02T07:10:21.669757800Z"
    }
   },
   "id": "9dfb182c7ab28fd6"
  },
  {
   "cell_type": "code",
   "execution_count": 11,
   "outputs": [
    {
     "data": {
      "text/plain": "True"
     },
     "execution_count": 11,
     "metadata": {},
     "output_type": "execute_result"
    }
   ],
   "source": [
    "type(b) in (bool, float, str)"
   ],
   "metadata": {
    "collapsed": false,
    "ExecuteTime": {
     "end_time": "2023-11-02T07:11:10.133492100Z",
     "start_time": "2023-11-02T07:11:10.096457800Z"
    }
   },
   "id": "c93d9582c5fe46e5"
  },
  {
   "cell_type": "code",
   "execution_count": 12,
   "outputs": [
    {
     "name": "stdout",
     "output_type": "stream",
     "text": [
      "13.2\n"
     ]
    }
   ],
   "source": [
    "\"\"\"\n",
    "посчитать сумму всех float из data\n",
    "\"\"\"\n",
    "data = (4.5, 8.7, True, \"книга\", 8, 10, -11, [True, False])\n",
    "\n",
    "s = 0\n",
    "for x in data:\n",
    "    if isinstance(x, float):\n",
    "        s += x\n",
    "        \n",
    "print(s)"
   ],
   "metadata": {
    "collapsed": false,
    "ExecuteTime": {
     "end_time": "2023-11-02T07:15:06.949982200Z",
     "start_time": "2023-11-02T07:15:06.923959400Z"
    }
   },
   "id": "b90463876e20febc"
  },
  {
   "cell_type": "code",
   "execution_count": 15,
   "outputs": [
    {
     "name": "stdout",
     "output_type": "stream",
     "text": [
      "13.2\n"
     ]
    }
   ],
   "source": [
    "s = sum(filter(lambda x: isinstance(x, float), data))\n",
    "print(s)"
   ],
   "metadata": {
    "collapsed": false,
    "ExecuteTime": {
     "end_time": "2023-11-02T07:16:56.729888600Z",
     "start_time": "2023-11-02T07:16:56.707868Z"
    }
   },
   "id": "8cabe4a76f2bd71"
  },
  {
   "cell_type": "code",
   "execution_count": 17,
   "outputs": [
    {
     "name": "stdout",
     "output_type": "stream",
     "text": [
      "8\n"
     ]
    }
   ],
   "source": [
    "s = sum(filter(lambda x: isinstance(x, int), data))\n",
    "print(s) # +1 потомучто True == 1"
   ],
   "metadata": {
    "collapsed": false,
    "ExecuteTime": {
     "end_time": "2023-11-02T07:18:41.910735100Z",
     "start_time": "2023-11-02T07:18:41.888714600Z"
    }
   },
   "id": "4b30a6825e638948"
  },
  {
   "cell_type": "code",
   "execution_count": 18,
   "outputs": [
    {
     "name": "stdout",
     "output_type": "stream",
     "text": [
      "7\n"
     ]
    }
   ],
   "source": [
    "s = sum(filter(lambda x: type(x) is int, data))\n",
    "print(s) # "
   ],
   "metadata": {
    "collapsed": false,
    "ExecuteTime": {
     "end_time": "2023-11-02T07:19:27.520225500Z",
     "start_time": "2023-11-02T07:19:27.476185400Z"
    }
   },
   "id": "657dc73e85f7cc3c"
  },
  {
   "cell_type": "code",
   "execution_count": 86,
   "outputs": [
    {
     "name": "stdout",
     "output_type": "stream",
     "text": [
      "3\n",
      "4.0\n",
      "3.5\n",
      "привевет\n",
      "None\n",
      "приве123\n",
      "None\n"
     ]
    }
   ],
   "source": [
    "# Определите функцию с именем get_add, которая складывает или два числа или две строки (но не число со строкой) и возвращает полученный результат. Если сложение не может быть выполнено, то функция возвращает значение None. Сигнатура функции должна быть, следующей:\n",
    "# \n",
    "# def get_add(a, b): ...\n",
    "# \n",
    "# Вызывать функцию не нужно, только определить. Также ничего не нужно выводить на экран.\n",
    "# \n",
    "# P. S. Не забудьте про необходимость различения булевых значений (False, True) от целочисленных\n",
    "\n",
    "def get_add(a, b):\n",
    "    try:\n",
    "        if type(a) in (float, int) and type(b) in (float, int):\n",
    "            return a + b\n",
    "        elif type(a) is str and type(b) is str:\n",
    "            return a + b\n",
    "        elif type(a) is bool and type(b) is bool:\n",
    "            return None\n",
    "    except TypeError:\n",
    "        return None\n",
    "    \n",
    "print(get_add(1, 2))\n",
    "print(get_add(1.5, 2.5))\n",
    "print(get_add(1, 2.5))\n",
    "print(get_add(\"приве\", \"вет\"))\n",
    "print(get_add(\"приве\", 123))\n",
    "print(get_add(\"приве\", \"123\"))\n",
    "print(get_add(True, True))"
   ],
   "metadata": {
    "collapsed": false,
    "ExecuteTime": {
     "end_time": "2023-11-02T08:22:48.264073200Z",
     "start_time": "2023-11-02T08:22:48.245055900Z"
    }
   },
   "id": "bff1a14b27cacde1"
  },
  {
   "cell_type": "code",
   "execution_count": 88,
   "outputs": [
    {
     "name": "stdout",
     "output_type": "stream",
     "text": [
      "6\n",
      "18\n",
      "22\n",
      "0\n"
     ]
    }
   ],
   "source": [
    "# Подвиг 3. Определите функцию с именем get_sum, которая принимает на входе итерируемый объект (список, строку, кортеж, словарь, множество) и вычисляет сумму только целых чисел, взятых из элементов итерируемого объекта. Вычисленная сумма возвращается функцией. Если целых чисел нет, то возвращается 0.\n",
    "# \n",
    "# Сигнатура функции должна быть, следующей:\n",
    "# \n",
    "# def get_sum(it): ...\n",
    "# \n",
    "# Вызывать функцию не нужно, только определить. Также ничего не нужно выводить на экран.\n",
    "# \n",
    "# Примеры входного аргумента функции:\n",
    "# \n",
    "# get_sum([1,2,3, \"a\", True, [4, 5], \"c\", (4, 5)])\n",
    "# get_sum({5, 6, 7, '8', 5, '4'})\n",
    "# get_sum((10, \"f\", '33', True, 12))\n",
    "# get_sum(['1', True, False, (1, 23)])\n",
    "# \n",
    "# P. S. Не забудьте про необходимость различения булевых значений (False, True) от целочисленных\n",
    "\n",
    "def get_sum(it):\n",
    "    return print(sum(filter(lambda x: type(x) is int, it)))\n",
    "\n",
    "\n",
    "get_sum([1,2,3, \"a\", True, [4, 5], \"c\", (4, 5)])\n",
    "get_sum({5, 6, 7, '8', 5, '4'})\n",
    "get_sum((10, \"f\", '33', True, 12))\n",
    "get_sum(['1', True, False, (1, 23)])"
   ],
   "metadata": {
    "collapsed": false,
    "ExecuteTime": {
     "end_time": "2023-11-02T08:28:51.589071300Z",
     "start_time": "2023-11-02T08:28:51.569498600Z"
    }
   },
   "id": "dc6ada45b27079fd"
  },
  {
   "cell_type": "code",
   "execution_count": null,
   "outputs": [],
   "source": [
    "# Подвиг 4. Определите функцию с именем get_even_sum, которая принимает на входе итерируемый объект (список, строку, кортеж, словарь, множество) и вычисляет сумму только целых четных чисел, взятых из элементов итерируемого объекта. Результат возвращается функцией. Если целых чисел нет, то возвращается 0.\n",
    "# \n",
    "# Сигнатура функции должна быть, следующей:\n",
    "# \n",
    "# def get_even_sum(it): ...\n",
    "# \n",
    "# Вызывать функцию не нужно, только определить. Также ничего не нужно выводить на экран.\n",
    "# \n",
    "# P. S. Не забудьте про необходимость различения булевых значений (False, True) от целочисленных\n",
    "\n",
    "def get_even_sum(it):\n",
    "    return print(sum(filter(lambda x: type(x) is int and x % 2 == 0, it)))\n",
    "\n",
    "\n",
    "get_even_sum([1,2,3, \"a\", True, [4, 5], \"c\", (4, 5)])"
   ],
   "metadata": {
    "collapsed": false
   },
   "id": "d1906a21485ca58b"
  },
  {
   "cell_type": "code",
   "execution_count": 96,
   "outputs": [
    {
     "data": {
      "text/plain": "[1, 2, 3]"
     },
     "execution_count": 96,
     "metadata": {},
     "output_type": "execute_result"
    }
   ],
   "source": [
    "# Подвиг 5. Определите функцию с именем get_list_dig, которая возвращает список только из числовых значений переданной ей коллекции (список или кортеж).\n",
    "# \n",
    "# Сигнатура функции должна быть, следующей:\n",
    "# \n",
    "# def get_list_dig(lst): ...\n",
    "# \n",
    "# Вызывать функцию не нужно, только определить. Также ничего не нужно выводить на экран.\n",
    "# \n",
    "# P. S. Не забудьте про необходимость различения булевых значений (False, True) от целочисленных\n",
    "\n",
    "def get_list_dig(lst):\n",
    "    return [x for x in lst if type(x) == int or  type(x) == float]\n",
    "\n",
    "\n",
    "get_list_dig([1,2,3, \"a\", True, [4, 5], \"c\", (4, 5)])"
   ],
   "metadata": {
    "collapsed": false,
    "ExecuteTime": {
     "end_time": "2023-11-02T08:45:32.042731300Z",
     "start_time": "2023-11-02T08:45:32.014651400Z"
    }
   },
   "id": "e9d5919b81d85dac"
  }
 ],
 "metadata": {
  "kernelspec": {
   "display_name": "Python 3",
   "language": "python",
   "name": "python3"
  },
  "language_info": {
   "codemirror_mode": {
    "name": "ipython",
    "version": 2
   },
   "file_extension": ".py",
   "mimetype": "text/x-python",
   "name": "python",
   "nbconvert_exporter": "python",
   "pygments_lexer": "ipython2",
   "version": "2.7.6"
  }
 },
 "nbformat": 4,
 "nbformat_minor": 5
}
