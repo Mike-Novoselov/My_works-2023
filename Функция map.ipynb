{
 "cells": [
  {
   "cell_type": "code",
   "execution_count": 10,
   "outputs": [
    {
     "name": "stdout",
     "output_type": "stream",
     "text": [
      "[1, 2, 3, 5, 7]\n"
     ]
    }
   ],
   "source": [
    "b = map(int, ['1', '2', '3', '5', '7', ])\n",
    "# print(*b)\n",
    "a = list(b)\n",
    "print(a)"
   ],
   "metadata": {
    "collapsed": false,
    "ExecuteTime": {
     "end_time": "2023-10-24T06:09:26.722278800Z",
     "start_time": "2023-10-24T06:09:26.705263Z"
    }
   },
   "id": "e5e5bf62ceb5a5b0"
  },
  {
   "cell_type": "code",
   "execution_count": 4,
   "outputs": [
    {
     "name": "stdout",
     "output_type": "stream",
     "text": [
      "1\n",
      "2\n",
      "3\n"
     ]
    }
   ],
   "source": [
    "b = map(int, ['1', '2', '3', '5', '7', ])\n",
    "print(next(b))\n",
    "print(next(b))\n",
    "print(next(b))"
   ],
   "metadata": {
    "collapsed": false,
    "ExecuteTime": {
     "end_time": "2023-10-24T06:07:47.478910800Z",
     "start_time": "2023-10-24T06:07:47.451885400Z"
    }
   },
   "id": "39969cc5f4140e55"
  },
  {
   "cell_type": "code",
   "execution_count": 5,
   "outputs": [
    {
     "name": "stdout",
     "output_type": "stream",
     "text": [
      "1 2 3 5 7 "
     ]
    }
   ],
   "source": [
    "b = map(int, ['1', '2', '3', '5', '7', ])\n",
    "for x in b:\n",
    "    print(x, end=\" \")"
   ],
   "metadata": {
    "collapsed": false,
    "ExecuteTime": {
     "end_time": "2023-10-24T06:08:10.252668500Z",
     "start_time": "2023-10-24T06:08:10.238654600Z"
    }
   },
   "id": "4c2c4ef9e50640a5"
  },
  {
   "cell_type": "code",
   "execution_count": 19,
   "outputs": [
    {
     "name": "stdout",
     "output_type": "stream",
     "text": [
      "1 2 3 5 7 <map object at 0x00000193E7340070>\n",
      "1 2 3 5 7 <generator object <genexpr> at 0x00000193E754EEA0>\n"
     ]
    }
   ],
   "source": [
    "b = map(int, ['1', '2', '3', '5', '7', ])\n",
    "print(*b, b)\n",
    "\n",
    "b = (int(x) for x in ['1', '2', '3', '5', '7', ])\n",
    "print(*b, b)\n"
   ],
   "metadata": {
    "collapsed": false,
    "ExecuteTime": {
     "end_time": "2023-10-24T06:13:03.981653Z",
     "start_time": "2023-10-24T06:13:03.958631100Z"
    }
   },
   "id": "2e67a6488f4f4700"
  },
  {
   "cell_type": "code",
   "execution_count": 21,
   "outputs": [
    {
     "name": "stdout",
     "output_type": "stream",
     "text": [
      "[6, 9, 6, 3, 8, 5]\n"
     ]
    }
   ],
   "source": [
    "cities = [\"Москва\", \"Астрахань\", \"Самара\", \"Уфа\", \"Смоленск\", \"Тверь\"]\n",
    "\n",
    "b = map(len, cities)\n",
    "\n",
    "a = list(b)\n",
    "print(a)"
   ],
   "metadata": {
    "collapsed": false,
    "ExecuteTime": {
     "end_time": "2023-10-24T06:15:37.271525100Z",
     "start_time": "2023-10-24T06:15:37.254509600Z"
    }
   },
   "id": "2f24863f23ca45fd"
  },
  {
   "cell_type": "code",
   "execution_count": 22,
   "outputs": [
    {
     "name": "stdout",
     "output_type": "stream",
     "text": [
      "['МОСКВА', 'АСТРАХАНЬ', 'САМАРА', 'УФА', 'СМОЛЕНСК', 'ТВЕРЬ']\n"
     ]
    }
   ],
   "source": [
    "cities = [\"Москва\", \"Астрахань\", \"Самара\", \"Уфа\", \"Смоленск\", \"Тверь\"]\n",
    "\n",
    "b = map(str.upper, cities)\n",
    "\n",
    "a = list(b)\n",
    "print(a)"
   ],
   "metadata": {
    "collapsed": false,
    "ExecuteTime": {
     "end_time": "2023-10-24T06:16:26.579305100Z",
     "start_time": "2023-10-24T06:16:26.548275400Z"
    }
   },
   "id": "5fcaa0a8bdaaeca"
  },
  {
   "cell_type": "code",
   "execution_count": 23,
   "outputs": [
    {
     "name": "stdout",
     "output_type": "stream",
     "text": [
      "[['м', 'о', 'с', 'к', 'в', 'а'], ['а', 'с', 'т', 'р', 'а', 'х', 'а', 'н', 'ь'], ['с', 'а', 'м', 'а', 'р', 'а'], ['у', 'ф', 'а'], ['с', 'м', 'о', 'л', 'е', 'н', 'с', 'к'], ['т', 'в', 'е', 'р', 'ь']]\n"
     ]
    }
   ],
   "source": [
    "cities = [\"Москва\", \"Астрахань\", \"Самара\", \"Уфа\", \"Смоленск\", \"Тверь\"]\n",
    "\n",
    "b = map(lambda s: list(s.lower()), cities)\n",
    "\n",
    "a = list(b)\n",
    "print(a)"
   ],
   "metadata": {
    "collapsed": false,
    "ExecuteTime": {
     "end_time": "2023-10-24T06:17:58.184016300Z",
     "start_time": "2023-10-24T06:17:58.165999200Z"
    }
   },
   "id": "b1467d72a9194b21"
  },
  {
   "cell_type": "code",
   "execution_count": 24,
   "outputs": [
    {
     "name": "stdout",
     "output_type": "stream",
     "text": [
      "['авксоМ', 'ьнахартсА', 'арамаС', 'афУ', 'кснеломС', 'ьревТ']\n"
     ]
    }
   ],
   "source": [
    "cities = [\"Москва\", \"Астрахань\", \"Самара\", \"Уфа\", \"Смоленск\", \"Тверь\"]\n",
    "\n",
    "b = map(lambda s: s[::-1], cities)\n",
    "\n",
    "a = list(b)\n",
    "print(a)"
   ],
   "metadata": {
    "collapsed": false,
    "ExecuteTime": {
     "end_time": "2023-10-24T06:18:29.689429600Z",
     "start_time": "2023-10-24T06:18:29.653396900Z"
    }
   },
   "id": "1fb7520b907dbde0"
  },
  {
   "cell_type": "code",
   "execution_count": null,
   "outputs": [],
   "source": [
    "# s = map(int, input().split()))\n",
    "# a = list(s)\n",
    "# print(s)\n",
    "\n",
    "s = list(map(int, input().split()))\n",
    "print(s)\n"
   ],
   "metadata": {
    "collapsed": false
   },
   "id": "a105031b91c6ba79"
  },
  {
   "cell_type": "code",
   "execution_count": 29,
   "outputs": [],
   "source": [
    "# На вход поступает список из вещественных чисел, записанных в строку через пробел. С помощью функции map преобразовать числа в строке в их вещественное представление и отобразить первые три числа. (Полагается, что минимум три вещественных числа имеются). Реализовать извлечение чисел через функцию next. Результат отобразить в строку через пробел.\n",
    "# \n",
    "# Sample Input:\n",
    "# \n",
    "# 4.35 -10.6 1.0 200.34 0.56\n",
    "# Sample Output:\n",
    "# \n",
    "# 4.35 -10.6 1.0\n",
    "s = list(map(float, input().split()))\n",
    "print(*s[:3])"
   ],
   "metadata": {
    "collapsed": false,
    "ExecuteTime": {
     "end_time": "2023-10-24T06:22:48.269074600Z",
     "start_time": "2023-10-24T06:22:47.382243900Z"
    }
   },
   "id": "93d36019814efe99"
  },
  {
   "cell_type": "code",
   "execution_count": 32,
   "outputs": [],
   "source": [],
   "metadata": {
    "collapsed": false,
    "ExecuteTime": {
     "end_time": "2023-10-24T06:23:33.041617900Z",
     "start_time": "2023-10-24T06:23:33.022601500Z"
    }
   },
   "id": "77b6a96b30b7ccaf"
  },
  {
   "cell_type": "code",
   "execution_count": 35,
   "outputs": [
    {
     "name": "stdout",
     "output_type": "stream",
     "text": [
      "[5, 6, 8, 11, 10, 0]\n"
     ]
    }
   ],
   "source": [
    "# На вход поступает строка из целых чисел, записанных через пробел. С помощью функции map преобразовать эту строку в список целых чисел, взятых по модулю. Сформируйте именно список lst из таких чисел. Отобразите его на экране в виде набора чисел, идущих через пробел.\n",
    "# \n",
    "# Sample Input:\n",
    "# \n",
    "# -5 6 8 11 -10 0\n",
    "# Sample Output:\n",
    "# \n",
    "# 5 6 8 11 10 0\n",
    "\n",
    "s = list(map(abs, map(int, input().split())))\n",
    "print(*s)"
   ],
   "metadata": {
    "collapsed": false,
    "ExecuteTime": {
     "end_time": "2023-10-24T06:26:32.410598300Z",
     "start_time": "2023-10-24T06:26:31.321152700Z"
    }
   },
   "id": "f001bac530568fc"
  },
  {
   "cell_type": "code",
   "execution_count": null,
   "outputs": [],
   "source": [],
   "metadata": {
    "collapsed": false
   },
   "id": "eddb2d537177d6bb"
  },
  {
   "cell_type": "code",
   "execution_count": null,
   "outputs": [],
   "source": [
    "# Подвиг 3. Вводится таблица целых чисел. Используя функцию map и генератор списков, преобразуйте список строк lst_in (см. листинг) в двумерный список с именем lst2D, содержащий целые числа. \n",
    "# \n",
    "# Выводить на экран ничего не нужно, только сформировать список lst2D на основе введенных данных.\n",
    "# \n",
    "# Sample Input:\n",
    "# \n",
    "# 8 11 -5\n",
    "# 3 4 10\n",
    "# -1 -2 3\n",
    "# 4 5 6\n",
    "# Sample Output:\n",
    "# \n",
    "# True\n",
    "\n",
    "import sys\n",
    "\n",
    "# считывание списка из входного потока\n",
    "lst_in = list(map(str.strip, sys.stdin.readlines()))\n",
    "\n",
    "# здесь продолжайте программу (используйте список lst_in)\n",
    "# переменную lst_in не менять!\n",
    "import sys\n",
    "\n",
    "# считывание списка из входного потока\n",
    "lst_in = list(map(str.strip, sys.stdin.readlines()))\n",
    "\n",
    "# здесь продолжайте программу (используйте список lst_in)\n",
    "# переменную lst_in не менять!\n",
    "lst2D = [list(map(int, s.split())) for s in lst_in]\n",
    "for row in lst2D:\n",
    "    print(row)\n",
    "\n"
   ],
   "metadata": {
    "collapsed": false
   },
   "id": "ab0c5bc818c340c3"
  },
  {
   "cell_type": "code",
   "execution_count": 36,
   "outputs": [
    {
     "name": "stdout",
     "output_type": "stream",
     "text": [
      "(('house', 'дом'), ('car', 'машина'), ('men', 'человек'), ('tree', 'дерево'))\n"
     ]
    }
   ],
   "source": [
    "# Подвиг 4. На вход программы поступает строка в формате:\n",
    "# \n",
    "# ключ_1=значение_1 ключ_2=значение_2 ... ключ_N=значение_N\n",
    "# \n",
    "# Необходимо с помощью функции map преобразовать ее в кортеж tp вида:\n",
    "# \n",
    "# tp = (('ключ_1', 'значение_1'), ('ключ_2', 'значение_2'), ..., ('ключ_N', 'значение_N'))\n",
    "# \n",
    "# Выводить на экран ничего не нужно, только преобразовать строку в кортеж с именем tp.\n",
    "# \n",
    "# Sample Input:\n",
    "# \n",
    "# house=дом car=машина men=человек tree=дерево\n",
    "# Sample Output:\n",
    "# \n",
    "# True\n",
    "\n",
    "s = input()\n",
    "\n",
    "# преобразование строки в кортеж\n",
    "tp = tuple(map(lambda x: tuple(x.split('=')), s.split()))\n",
    "\n",
    "# вывод кортежа на экран\n",
    "print(tp)\n"
   ],
   "metadata": {
    "collapsed": false,
    "ExecuteTime": {
     "end_time": "2023-10-24T06:38:09.861868900Z",
     "start_time": "2023-10-24T06:38:08.379480300Z"
    }
   },
   "id": "56db9a6578f133d5"
  },
  {
   "cell_type": "code",
   "execution_count": 38,
   "outputs": [
    {
     "name": "stdout",
     "output_type": "stream",
     "text": [
      "privet-piton\n"
     ]
    }
   ],
   "source": [
    "# Подвиг 5. (Для учебных целей). Вводится строка. Необходимо в ней заменить кириллические символы на соответствующие латинские обозначения (без учета регистра букв), а все остальные символы - на символ дефиса (-). Для этого в программе определен словарь (см. листинг). Используя его, запишите функцию map, которая бы выдавала преобразованные фрагменты для входной строки. На основе этой функции сформируйте строку, состоящую из преобразованных фрагментов (фрагменты в строке должны идти друг за другом без пробелов). Отобразите результат на экране.\n",
    "# \n",
    "# Sample Input:\n",
    "# \n",
    "# Привет Питон\n",
    "# Sample Output:\n",
    "# \n",
    "# privet-piton\n",
    "t = {'ё': 'yo', 'а': 'a', 'б': 'b', 'в': 'v', 'г': 'g', 'д': 'd', 'е': 'e', 'ж': 'zh',\n",
    "     'з': 'z', 'и': 'i', 'й': 'y', 'к': 'k', 'л': 'l', 'м': 'm', 'н': 'n', 'о': 'o', 'п': 'p',\n",
    "     'р': 'r', 'с': 's', 'т': 't', 'у': 'u', 'ф': 'f', 'х': 'h', 'ц': 'c', 'ч': 'ch', 'ш': 'sh',\n",
    "     'щ': 'shch', 'ъ': '', 'ы': 'y', 'ь': '', 'э': 'e', 'ю': 'yu', 'я': 'ya'}\n",
    "\n",
    "s = input().lower()\n",
    "\n",
    "# замена кириллических символов на латинские\n",
    "s = ''.join([t.get(c, c) for c in s])\n",
    "\n",
    "# замена всех остальных символов на символ дефиса\n",
    "s = s.replace(' ', '-')\n",
    "\n",
    "# вывод преобразованной строки на экран\n",
    "print(s)"
   ],
   "metadata": {
    "collapsed": false,
    "ExecuteTime": {
     "end_time": "2023-10-24T06:41:29.694052Z",
     "start_time": "2023-10-24T06:41:28.683703800Z"
    }
   },
   "id": "92b99f4c3ea65e39"
  },
  {
   "cell_type": "code",
   "execution_count": null,
   "outputs": [],
   "source": [
    "t = {'ё': 'yo', 'а': 'a', 'б': 'b', 'в': 'v', 'г': 'g', 'д': 'd', 'е': 'e', 'ж': 'zh',\n",
    "     'з': 'z', 'и': 'i', 'й': 'y', 'к': 'k', 'л': 'l', 'м': 'm', 'н': 'n', 'о': 'o', 'п': 'p',\n",
    "     'р': 'r', 'с': 's', 'т': 't', 'у': 'u', 'ф': 'f', 'х': 'h', 'ц': 'c', 'ч': 'ch', 'ш': 'sh',\n",
    "     'щ': 'shch', 'ъ': '', 'ы': 'y', 'ь': '', 'э': 'e', 'ю': 'yu', 'я': 'ya'}\n",
    "\n",
    "translit = map(lambda x: t.get(x.lower(), '-'), input())\n",
    "print(''.join(translit))"
   ],
   "metadata": {
    "collapsed": false
   },
   "id": "3760b0b558dc34a8"
  },
  {
   "cell_type": "code",
   "execution_count": 57,
   "outputs": [
    {
     "name": "stdout",
     "output_type": "stream",
     "text": [
      "Москва - Вологда - Владивосток Хабаровск\n"
     ]
    }
   ],
   "source": [
    "# Подвиг 6. Вводятся названия городов в одну строчку через пробел. Необходимо определить функцию map, которая бы возвращала названия городов только длиной более 5 символов. Вместо остальных названий - строку с дефисом (\"-\"). Сформировать список из полученных значений и отобразить его на экране в одну строчку через пробел.\n",
    "# \n",
    "# Sample Input:\n",
    "# \n",
    "# Москва Уфа Вологда Тула Владивосток Хабаровск\n",
    "# Sample Output:\n",
    "# \n",
    "# Москва - Вологда - Владивосток Хабаровск\n",
    "\n",
    "\n",
    "\n",
    "lst_in = [\"Москва\", \"Уфа\", \"Вологда\", \"Тула\", \"Владивосток\", \"Хабаровск\"]\n",
    "\n",
    "# применение функции map к списку lst_in\n",
    "lst_out = list(map(lambda x: x if len(x) > 5 else x.replace(x,'-'), lst_in))\n",
    "\n",
    "# вывод списка на экран\n",
    "print(' '.join(lst_out))"
   ],
   "metadata": {
    "collapsed": false,
    "ExecuteTime": {
     "end_time": "2023-10-24T07:01:05.452082100Z",
     "start_time": "2023-10-24T07:01:05.436067300Z"
    }
   },
   "id": "43aa3265abb123d3"
  },
  {
   "cell_type": "code",
   "execution_count": null,
   "outputs": [],
   "source": [
    "print(*map(lambda x: x if len(x)>5 else \"-\", input().split()))"
   ],
   "metadata": {
    "collapsed": false
   },
   "id": "eaded32017e063e3"
  }
 ],
 "metadata": {
  "kernelspec": {
   "display_name": "Python 3",
   "language": "python",
   "name": "python3"
  },
  "language_info": {
   "codemirror_mode": {
    "name": "ipython",
    "version": 2
   },
   "file_extension": ".py",
   "mimetype": "text/x-python",
   "name": "python",
   "nbconvert_exporter": "python",
   "pygments_lexer": "ipython2",
   "version": "2.7.6"
  }
 },
 "nbformat": 4,
 "nbformat_minor": 5
}
