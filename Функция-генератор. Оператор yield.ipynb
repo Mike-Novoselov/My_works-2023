{
 "cells": [
  {
   "cell_type": "code",
   "execution_count": 4,
   "id": "initial_id",
   "metadata": {
    "collapsed": true,
    "ExecuteTime": {
     "end_time": "2023-10-23T04:48:07.767617Z",
     "start_time": "2023-10-23T04:48:07.757607300Z"
    }
   },
   "outputs": [
    {
     "name": "stdout",
     "output_type": "stream",
     "text": [
      "1 2 3 4\n"
     ]
    }
   ],
   "source": [
    "def get_list():\n",
    "    for x in range(1,5):\n",
    "        yield x\n",
    "    \n",
    "a = get_list()\n",
    "print(*a)"
   ]
  },
  {
   "cell_type": "code",
   "execution_count": 5,
   "outputs": [
    {
     "name": "stdout",
     "output_type": "stream",
     "text": [
      "1\n",
      "2\n",
      "3\n",
      "4\n"
     ]
    }
   ],
   "source": [
    "def get_list():\n",
    "    for x in range(1,5):\n",
    "        yield x\n",
    "    \n",
    "a = get_list()\n",
    "print(next(a))\n",
    "print(next(a))\n",
    "print(next(a))\n",
    "print(next(a))"
   ],
   "metadata": {
    "collapsed": false,
    "ExecuteTime": {
     "end_time": "2023-10-23T04:48:23.098716100Z",
     "start_time": "2023-10-23T04:48:23.074694Z"
    }
   },
   "id": "78861909de4d29e5"
  },
  {
   "cell_type": "code",
   "execution_count": 6,
   "outputs": [
    {
     "name": "stdout",
     "output_type": "stream",
     "text": [
      "1\n",
      "2\n",
      "3\n",
      "4\n"
     ]
    }
   ],
   "source": [
    "def get_list():\n",
    "    for x in [1, 2, 3, 4]:\n",
    "        yield x\n",
    "    \n",
    "a = get_list()\n",
    "for x in a:\n",
    "    print(x)"
   ],
   "metadata": {
    "collapsed": false,
    "ExecuteTime": {
     "end_time": "2023-10-23T04:50:24.598384900Z",
     "start_time": "2023-10-23T04:50:24.577365300Z"
    }
   },
   "id": "132d11d82af11e38"
  },
  {
   "cell_type": "code",
   "execution_count": 7,
   "outputs": [
    {
     "name": "stdout",
     "output_type": "stream",
     "text": [
      "[5.5, 6.0, 6.5, 7.0, 7.5, 8.0, 8.5, 9.0, 9.5]\n"
     ]
    }
   ],
   "source": [
    "def get_list():\n",
    "    for i in range(1,10):\n",
    "        a = range(i, 11)\n",
    "        yield sum(a) / len(a)\n",
    "    \n",
    "a = get_list()\n",
    "print(list(a))"
   ],
   "metadata": {
    "collapsed": false,
    "ExecuteTime": {
     "end_time": "2023-10-23T04:52:04.668216700Z",
     "start_time": "2023-10-23T04:52:04.646197400Z"
    }
   },
   "id": "1f3a04a6e8433f07"
  },
  {
   "cell_type": "code",
   "execution_count": null,
   "outputs": [],
   "source": [
    "\"\"\"открытие файла и посик слова 'генератор' \"\"\"\n",
    "def find_word(f, word):\n",
    "    g_index = 0\n",
    "    for line in f:\n",
    "        indx = 0\n",
    "        while(indx != -1):\n",
    "            indx = line.find(word, indx)\n",
    "            if indx >-1:\n",
    "                yield g_index + indx\n",
    "                indx +=1\n",
    "        g_index += len(line)\n",
    "\n",
    "\n",
    "try:\n",
    "    with open(\"lesson_54.txt\", encoding=\"utf-8\") as file:\n",
    "        a = find_word(file, \"генератор\")\n",
    "        print(list(a))\n",
    "except FileNotFoundError:\n",
    "    print(\"Файил не найден\")\n",
    "except:\n",
    "    print(\"ошибка обработки файла!\")"
   ],
   "metadata": {
    "collapsed": false
   },
   "id": "2cf7932e588f6f00"
  },
  {
   "cell_type": "code",
   "execution_count": 8,
   "outputs": [
    {
     "name": "stdout",
     "output_type": "stream",
     "text": [
      "1 3 6 10 15\n"
     ]
    }
   ],
   "source": [
    "# Вводится натуральное число N. Необходимо определить функцию-генератор с именем get_sum, которая бы возвращала текущую сумму чисел последовательности длины N в диапазоне целых чисел [1; N]. Например:\n",
    "# \n",
    "# - для первого числа 1 сумма равна 1;\n",
    "# - для второго числа 2 сумма равна 1+2 = 3\n",
    "# ....\n",
    "# - для N-го числа сумма равна 1+2+...+(N-1)+N\n",
    "# \n",
    "# Реализовать функцию-генератор get_sum без использования коллекций. Вызывать ее не нужно, только определить.\n",
    "# \n",
    "# Sample Input:\n",
    "# \n",
    "# 5\n",
    "# Sample Output:\n",
    "# \n",
    "# 1 3 6 10 15\n",
    "\n",
    "N = int(input())\n",
    "\n",
    "def get_sum(N):\n",
    "    summ = 0\n",
    "    for i in range(1, N+1):\n",
    "        summ += i\n",
    "        yield summ"
   ],
   "metadata": {
    "collapsed": false,
    "ExecuteTime": {
     "end_time": "2023-10-23T05:05:01.031143900Z",
     "start_time": "2023-10-23T05:05:00.996112700Z"
    }
   },
   "id": "c67648e6afa5a412"
  },
  {
   "cell_type": "code",
   "execution_count": 11,
   "outputs": [
    {
     "name": "stdout",
     "output_type": "stream",
     "text": [
      "1 1 1 3 5 9 17 "
     ]
    }
   ],
   "source": [
    "# Мы с вами в заданиях несколько раз генерировали последовательность чисел Фибоначчи, которая строится по правилу: каждое последующее число равно сумме двух предыдущих. Для разнообразия давайте будем генерировать каждое последующее как сумму трех предыдущих чисел. При этом первые три числа равны 1 и имеем такую последовательность:\n",
    "# \n",
    "# 1, 1, 1, 3, 5, 9, 17, 31, 57, ...\n",
    "# \n",
    "# Не знаю, есть ли у нее название, поэтому, в рамках уроков, я скромно назову ее последовательностью Балакирева. \n",
    "# \n",
    "# Итак, на вход программы поступает натуральное число N (N > 5) и необходимо определить функцию-генератор, которая бы возвращала N первых чисел последовательности Балакирева (включая первые три единицы).\n",
    "# \n",
    "# Реализуйте эту функцию без использования коллекций (списков, кортежей, словарей и т.п.). Вызовите ее N раз для получения N чисел и выведите полученные числа на экран в одну строчку через пробел.\n",
    "# \n",
    "# Sample Input:\n",
    "# \n",
    "# 7\n",
    "# Sample Output:\n",
    "# \n",
    "# 1 1 1 3 5 9 17\n",
    "\n",
    "N = int(input())\n",
    "\n",
    "def get_sum(N):\n",
    "    a = b = c = 1\n",
    "    for _ in range(N):\n",
    "        yield a\n",
    "        a, b, c = b, c, a + b + c\n",
    "        \n",
    "print(*get_sum(N))\n"
   ],
   "metadata": {
    "collapsed": false,
    "ExecuteTime": {
     "end_time": "2023-10-23T05:14:06.780510900Z",
     "start_time": "2023-10-23T05:14:06.755487600Z"
    }
   },
   "id": "3d3b3d0c28fdc4b"
  },
  {
   "cell_type": "code",
   "execution_count": null,
   "outputs": [],
   "source": [
    "# Вводится натуральное число N (N > 8). Необходимо определить функцию-генератор, которая бы выдавала пароль длиной N символов из случайных букв, цифр и некоторых других знаков. Для получения последовательности допустимых символов для генерации паролей в программе импортированы две строки: ascii_lowercase, ascii_uppercase (см. листинг ниже), на основе которых формируется общий список:\n",
    "# \n",
    "# from string import ascii_lowercase, ascii_uppercase\n",
    "# chars = ascii_lowercase + ascii_uppercase + \"0123456789!?@#$*\"\n",
    "# Функция-генератор должна при каждом вызове возвращать новый пароль из случайно выбранных символов chars длиной N и делать это бесконечно, то есть, вызывать ее можно бесконечное число раз. Сгенерировать случайный индекс indx в диапазоне [a; b] для символа можно с помощью функции randint модуля random:\n",
    "# \n",
    "# import random\n",
    "# random.seed(1)\n",
    "# indx = random.randint(a, b)\n",
    "# Сгенерируйте с помощью этой функции первые пять паролей и выведите их в столбик (каждый с новой строки).\n",
    "# \n",
    "# Sample Input:\n",
    "# \n",
    "# 10\n",
    "# Sample Output:\n",
    "# \n",
    "# riGp?58WAm\n",
    "# !dX3a5IDnO\n",
    "# dcdbWB2d*C\n",
    "# 4?DSDC6Lc1\n",
    "# mxLpQ@2@yM\n",
    "\n",
    "import random\n",
    "from string import ascii_lowercase, ascii_uppercase\n",
    "chars = ascii_lowercase + ascii_uppercase + \"0123456789!?@#$*\"\n",
    "\n",
    "random.seed(1)\n",
    "\n",
    "def foo(N):\n",
    "    while True:\n",
    "        result = \"\"\n",
    "        for i in range(N):  # Используйте N вместо 10, чтобы генерировать пароли заданной длины\n",
    "            indx = random.randint(0, len(chars) - 1)  # Генерируйте новый индекс для каждого символа\n",
    "            result += chars[indx]\n",
    "        yield result\n",
    "        \n",
    "N = int(input())\n",
    "a = foo(N)\n",
    "for i in range(5):\n",
    "    print(next(a))\n",
    "\n"
   ],
   "metadata": {
    "collapsed": false
   },
   "id": "a1a158b7b1b387f8"
  },
  {
   "cell_type": "code",
   "execution_count": 19,
   "outputs": [
    {
     "name": "stdout",
     "output_type": "stream",
     "text": [
      "iKZWeqhF@mail.ru\n",
      "WCEPyYng@mail.ru\n",
      "FbyBMWXa@mail.ru\n",
      "SCrUZoLg@mail.ru\n",
      "ubbbPIay@mail.ru\n"
     ]
    }
   ],
   "source": [
    "# Вводится натуральное число N. Используя строки из латинских букв ascii_lowercase и ascii_uppercase:\n",
    "# \n",
    "# from string import ascii_lowercase, ascii_uppercase\n",
    "# chars = ascii_lowercase + ascii_uppercase\n",
    "# задайте функцию-генератор, которая бы возвращала случайно сформированные email-адреса с доменом mail.ru и длиной в N символов. Например, при N=6, получим адрес: SCrUZo@mail.ru\n",
    "# \n",
    "# Для формирования случайного индекса для строки chars используйте функцию randint модуля random:\n",
    "# \n",
    "# import random\n",
    "# random.seed(1)\n",
    "# indx = random.randint(0, len(chars)-1)\n",
    "# Функция-генератор должна возвращать бесконечное число таких адресов, то есть, генерировать постоянно. Выведите первые пять сгенерированных email и выведите их в столбик (каждый с новой строки).\n",
    "# \n",
    "# Sample Input:\n",
    "# \n",
    "# 8\n",
    "# Sample Output:\n",
    "# \n",
    "# iKZWeqhF@mail.ru\n",
    "# WCEPyYng@mail.ru\n",
    "# FbyBMWXa@mail.ru\n",
    "# SCrUZoLg@mail.ru\n",
    "# ubbbPIay@mail.ru\n",
    "\n",
    "\n",
    "\n",
    "import random\n",
    "from string import ascii_lowercase, ascii_uppercase\n",
    "chars = ascii_lowercase + ascii_uppercase\n",
    "\n",
    "# установка зерна датчика случайных чисел (не менять)\n",
    "random.seed(1)\n",
    "\n",
    "n = 8 #int(input())\n",
    "\n",
    "def get_mail(n):\n",
    "    while True:\n",
    "        mail = ''\n",
    "        for i in range(n):\n",
    "            indx = random.randint(0, len(chars)-1)\n",
    "            mail += chars[indx]\n",
    "        yield mail + '@mail.ru'\n",
    "\n",
    "gen = get_mail(n)        \n",
    "        \n",
    "for i in range(5):\n",
    "    print(next(gen))\n"
   ],
   "metadata": {
    "collapsed": false,
    "ExecuteTime": {
     "end_time": "2023-10-23T05:40:00.812713100Z",
     "start_time": "2023-10-23T05:40:00.800701800Z"
    }
   },
   "id": "6029229f479a9e2c"
  },
  {
   "cell_type": "code",
   "execution_count": 20,
   "outputs": [
    {
     "name": "stdout",
     "output_type": "stream",
     "text": [
      "2 3 5 7 11 13 17 19 23 29 31 37 41 43 47 53 59 61 67 71 "
     ]
    }
   ],
   "source": [
    "# Определите функцию-генератор, которая бы возвращала простые числа. (Простое число - это натуральное число, которое делится только на себя и на 1). Выведите с помощью этой функции первые 20 простых чисел (начиная с 2) в одну строчку через пробел.\n",
    "# \n",
    "\n",
    "def get_simple():\n",
    "    number = 1\n",
    "    while True:\n",
    "        number += 1\n",
    "        for i in range(2, number // 2 + 1):\n",
    "            if number % i == 0:\n",
    "                break\n",
    "        else:\n",
    "            yield number\n",
    "\n",
    "\n",
    "gen = get_simple()\n",
    "for i in range(20):\n",
    "    print(next(gen), end=' ')\n"
   ],
   "metadata": {
    "collapsed": false,
    "ExecuteTime": {
     "end_time": "2023-10-23T05:41:20.965861800Z",
     "start_time": "2023-10-23T05:41:20.923817500Z"
    }
   },
   "id": "28affc449df6a0b4"
  }
 ],
 "metadata": {
  "kernelspec": {
   "display_name": "Python 3",
   "language": "python",
   "name": "python3"
  },
  "language_info": {
   "codemirror_mode": {
    "name": "ipython",
    "version": 2
   },
   "file_extension": ".py",
   "mimetype": "text/x-python",
   "name": "python",
   "nbconvert_exporter": "python",
   "pygments_lexer": "ipython2",
   "version": "2.7.6"
  }
 },
 "nbformat": 4,
 "nbformat_minor": 5
}
